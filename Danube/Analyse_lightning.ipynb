{
 "cells": [
  {
   "cell_type": "code",
   "execution_count": 62,
   "id": "1394f7c8",
   "metadata": {},
   "outputs": [
    {
     "name": "stdout",
     "output_type": "stream",
     "text": [
      "Collecting statsmodels\n",
      "  Downloading statsmodels-0.12.2-cp39-cp39-manylinux1_x86_64.whl (9.4 MB)\n",
      "\u001b[K     |████████████████████████████████| 9.4 MB 18.9 MB/s eta 0:00:01\n",
      "\u001b[?25hCollecting patsy>=0.5\n",
      "  Downloading patsy-0.5.2-py2.py3-none-any.whl (233 kB)\n",
      "\u001b[K     |████████████████████████████████| 233 kB 83.9 MB/s eta 0:00:01\n",
      "\u001b[?25hRequirement already satisfied: scipy>=1.1 in /anaconda/envs/4dvarnet/lib/python3.9/site-packages (from statsmodels) (1.6.3)\n",
      "Requirement already satisfied: numpy>=1.15 in /anaconda/envs/4dvarnet/lib/python3.9/site-packages (from statsmodels) (1.20.2)\n",
      "Requirement already satisfied: pandas>=0.21 in /anaconda/envs/4dvarnet/lib/python3.9/site-packages (from statsmodels) (1.2.4)\n",
      "Requirement already satisfied: python-dateutil>=2.7.3 in /anaconda/envs/4dvarnet/lib/python3.9/site-packages (from pandas>=0.21->statsmodels) (2.8.1)\n",
      "Requirement already satisfied: pytz>=2017.3 in /anaconda/envs/4dvarnet/lib/python3.9/site-packages (from pandas>=0.21->statsmodels) (2021.1)\n",
      "Requirement already satisfied: six in /anaconda/envs/4dvarnet/lib/python3.9/site-packages (from patsy>=0.5->statsmodels) (1.16.0)\n",
      "Installing collected packages: patsy, statsmodels\n",
      "Successfully installed patsy-0.5.2 statsmodels-0.12.2\n",
      "Note: you may need to restart the kernel to use updated packages.\n"
     ]
    }
   ],
   "source": [
    "pip install statsmodels"
   ]
  },
  {
   "cell_type": "code",
   "execution_count": 3,
   "id": "0a1bb071",
   "metadata": {},
   "outputs": [
    {
     "name": "stdout",
     "output_type": "stream",
     "text": [
      "1\n",
      "/home/VM-Nicolas-Lafon/Danube\n"
     ]
    }
   ],
   "source": [
    "from netCDF4 import Dataset\n",
    "import matplotlib.pyplot as plt\n",
    "import numpy as np\n",
    "import os\n",
    "import torch\n",
    "from scipy.stats import t\n",
    "print(torch.cuda.device_count())\n",
    "print(os.getcwd())\n",
    "import statsmodels"
   ]
  },
  {
   "cell_type": "code",
   "execution_count": 4,
   "id": "75d32e19",
   "metadata": {},
   "outputs": [],
   "source": [
    "ncfile = Dataset('ResDanube4DVar/-exp3/model_Debit_KL-epoch=20-val_loss=0.29_res.nc')\n",
    "ncfile_noKL = Dataset('ResDanube4DVar/-exp3/model_Debit-epoch=33-val_loss=0.28_res.nc')\n",
    "#ncfile = Dataset('ResDanube4DVar/-exp2/model_Debit-epoch=06-val_loss=0.24-v1_res.nc')\n",
    "flagprocess=4 #random maxk"
   ]
  },
  {
   "cell_type": "code",
   "execution_count": 6,
   "id": "20bdecea",
   "metadata": {},
   "outputs": [
    {
     "name": "stdout",
     "output_type": "stream",
     "text": [
      "(874, 31, 12)\n",
      "[[814.   792.   738.   713.   735.   744.   751.   754.   758.     0.\n",
      "    0.     0.  ]\n",
      " [434.   414.   404.   388.   382.   388.   401.   421.   437.     0.\n",
      "    0.     0.  ]\n",
      " [306.   299.   287.   278.   272.   278.   291.   308.   316.     0.\n",
      "    0.     0.  ]\n",
      " [286.   278.   267.   259.   267.   276.   294.   309.   305.     0.\n",
      "    0.     0.  ]\n",
      " [218.   216.   204.   198.   200.   207.   222.   235.   235.     0.\n",
      "    0.     0.  ]\n",
      " [201.   194.   182.   180.   184.   196.   209.   222.   217.     0.\n",
      "    0.     0.  ]\n",
      " [176.   171.   162.   160.   160.   173.   187.   196.   189.     0.\n",
      "    0.     0.  ]\n",
      " [125.   121.   117.   114.   117.   120.   134.   141.   135.     0.\n",
      "    0.     0.  ]\n",
      " [101.    95.6   94.4   94.3  101.   105.   110.   112.   106.     0.\n",
      "    0.     0.  ]\n",
      " [ 73.8   71.8   70.    68.2   72.8   77.    81.1   82.2   78.     0.\n",
      "    0.     0.  ]\n",
      " [ 15.4   14.    14.1   15.4   15.4   15.8   15.8   14.4   15.1    0.\n",
      "    0.     0.  ]\n",
      " [  7.46   7.46   7.15   7.13   6.8    7.13   7.13   6.8    6.8    0.\n",
      "    0.     0.  ]\n",
      " [349.   343.   331.   310.   343.   340.   328.   322.   310.     0.\n",
      "    0.     0.  ]\n",
      " [120.   108.   106.   105.   105.   109.   109.   113.   109.     0.\n",
      "    0.     0.  ]\n",
      " [107.    95.    95.    95.   104.    95.    98.   101.    95.     0.\n",
      "    0.     0.  ]\n",
      " [ 23.8   19.5   16.    14.7   17.    17.5   22.6   22.    15.1    0.\n",
      "    0.     0.  ]\n",
      " [ 26.2   25.    22.1   21.7   21.7   21.7   21.7   21.7   21.7    0.\n",
      "    0.     0.  ]\n",
      " [ 12.6   12.6   13.1   12.6   13.1   13.1   13.1   12.6   13.1    0.\n",
      "    0.     0.  ]\n",
      " [  8.41   8.41   8.41   8.41   8.41   8.41   8.41   8.41   8.41   0.\n",
      "    0.     0.  ]\n",
      " [ 56.2   49.9   46.6   48.1   49.9   52.6   53.5   49.    45.8    0.\n",
      "    0.     0.  ]\n",
      " [ 38.    30.9   29.8   32.    35.6   38.    38.    33.2   30.9    0.\n",
      "    0.     0.  ]\n",
      " [ 36.6   25.2   19.8   33.4   34.2   31.8   30.2   22.1   28.8    0.\n",
      "    0.     0.  ]\n",
      " [ 38.    35.    35.    35.    36.    37.    42.    44.    41.     0.\n",
      "    0.     0.  ]\n",
      " [ 25.4   25.4   28.4   27.6   26.8   28.4   33.8   33.1   30.7    0.\n",
      "    0.     0.  ]\n",
      " [ 25.9   23.8   26.4   18.5   27.    25.9   24.9   23.8   18.9    0.\n",
      "    0.     0.  ]\n",
      " [ 24.3   22.4   24.4   24.3   26.3   24.3   24.3   23.    17.3    0.\n",
      "    0.     0.  ]\n",
      " [ 14.4   10.8    7.    18.    19.9   15.3   15.3   10.    11.7    0.\n",
      "    0.     0.  ]\n",
      " [ 13.4   12.6   12.6   12.6   13.    12.6   12.6   12.6   11.6    0.\n",
      "    0.     0.  ]\n",
      " [ 11.6   10.6   12.6   12.1   12.1   11.6   11.1   11.1   10.6    0.\n",
      "    0.     0.  ]\n",
      " [115.   113.   106.    97.   110.   116.   112.   105.    94.     0.\n",
      "    0.     0.  ]\n",
      " [112.   105.   103.   106.   119.   118.   109.   107.    99.7    0.\n",
      "    0.     0.  ]]\n"
     ]
    }
   ],
   "source": [
    "debit_gt = ncfile['debit_gt']\n",
    "debit_obs = ncfile['debit_obs']\n",
    "debit_rec = ncfile['debit_rec']\n",
    "debit_rec_noKL = ncfile_noKL['debit_rec']\n",
    "print(debit_rec.shape)\n",
    "print(debit_obs[0,:,:])"
   ]
  },
  {
   "cell_type": "markdown",
   "id": "05df3212",
   "metadata": {},
   "source": [
    "# Reconstruction\n"
   ]
  },
  {
   "cell_type": "code",
   "execution_count": 6,
   "id": "9914d35c",
   "metadata": {},
   "outputs": [
    {
     "data": {
      "image/png": "[encoded data removed]",
      "text/plain": [
       "<Figure size 432x288 with 1 Axes>"
      ]
     },
     "metadata": {
      "needs_background": "light"
     },
     "output_type": "display_data"
    }
   ],
   "source": [
    "station = 21\n",
    "plt.figure(0)\n",
    "plt.plot(debit_gt[0:50,station])\n",
    "plt.plot(debit_rec[0:50,station])\n",
    "plt.xlabel('timestep')\n",
    "plt.ylabel('flow')\n",
    "plt.legend(['true flow', 'reconstructed flow'])\n",
    "\n",
    "if flagprocess ==3 : \n",
    "    print(np.sum(debit_obs[0,:]==0))\n",
    "    L1=[]\n",
    "    L2=[]\n",
    "    for i in range(506):\n",
    "        if debit_obs[i,station]==0:\n",
    "            L1.append(i)\n",
    "        else : \n",
    "            L2.append(i)\n",
    "    plt.figure(1)\n",
    "    D=debit_gt[:,station]\n",
    "    Drec=debit_rec[:,station]\n",
    "    print(D[L1])\n",
    "    plt.plot(D[L1])\n",
    "    plt.plot(Drec[L1])\n",
    "    plt.xlabel('timestep')\n",
    "    plt.ylabel('flow')\n",
    "    plt.legend(['true flow', 'reconstructed flow'])\n",
    "    plt.figure(2)\n",
    "    plt.plot(debit_gt[L2,station])\n",
    "    plt.plot(debit_rec[L2,station])\n",
    "    plt.xlabel('timestep')\n",
    "    plt.ylabel('flow')\n",
    "    plt.legend(['true flow', 'reconstructed flow'])"
   ]
  },
  {
   "cell_type": "code",
   "execution_count": 18,
   "id": "e00cfd7a",
   "metadata": {},
   "outputs": [
    {
     "name": "stdout",
     "output_type": "stream",
     "text": [
      "0.3377296018463616\n",
      "21.144141638118935\n",
      "[ 82.1  93.2  96.  107.  109.  115.  121.  125.  125. ]\n",
      "[ 44  44  44 ... 494 494 494]\n",
      "0.2323253976365733\n",
      "35.245541599355136\n",
      "77.63642951251647\n"
     ]
    },
    {
     "data": {
      "image/png": "[encoded data removed]",
      "text/plain": [
       "<Figure size 432x288 with 1 Axes>"
      ]
     },
     "metadata": {
      "needs_background": "light"
     },
     "output_type": "display_data"
    }
   ],
   "source": [
    "plt.plot(abs(debit_gt[:,station]-debit_rec[:,station])/debit_gt[:,station])\n",
    "print(np.mean(abs(debit_gt[:,station]-debit_rec[:,station])/debit_gt[:,station]))\n",
    "print(np.mean(abs(debit_gt[:,station]-debit_rec[:,station])))\n",
    "debtrue = debit_gt[:,station]\n",
    "debtrue.sort()\n",
    "seuil = debtrue[455]\n",
    "print(seuil)\n",
    "ind= np.where(debit_gt[:,station]>seuil)\n",
    "print(ind[0])\n",
    "print(np.mean(abs(debit_gt[ind[0],station]-debit_rec[ind[0],station])/debit_gt[ind[0],station]))\n",
    "print(np.mean(abs(debit_gt[ind[0],station]-debit_rec[ind[0],station])))\n",
    "print(np.mean(debit_gt[:,station]))"
   ]
  },
  {
   "cell_type": "code",
   "execution_count": 6,
   "id": "9b3830a7",
   "metadata": {},
   "outputs": [
    {
     "ename": "IndexError",
     "evalue": "Index cannot be multidimensional",
     "output_type": "error",
     "traceback": [
      "\u001b[0;31m---------------------------------------------------------------------------\u001b[0m",
      "\u001b[0;31mIndexError\u001b[0m                                Traceback (most recent call last)",
      "\u001b[0;32m<ipython-input-6-82df08cb2c95>\u001b[0m in \u001b[0;36m<module>\u001b[0;34m\u001b[0m\n\u001b[1;32m      1\u001b[0m \u001b[0mindex_sort_gt\u001b[0m \u001b[0;34m=\u001b[0m \u001b[0mnp\u001b[0m\u001b[0;34m.\u001b[0m\u001b[0margsort\u001b[0m\u001b[0;34m(\u001b[0m\u001b[0mdebit_gt\u001b[0m\u001b[0;34m[\u001b[0m\u001b[0;34m:\u001b[0m\u001b[0;34m,\u001b[0m\u001b[0mstation\u001b[0m\u001b[0;34m]\u001b[0m\u001b[0;34m)\u001b[0m\u001b[0;34m\u001b[0m\u001b[0;34m\u001b[0m\u001b[0m\n\u001b[0;32m----> 2\u001b[0;31m \u001b[0mplt\u001b[0m\u001b[0;34m.\u001b[0m\u001b[0mscatter\u001b[0m\u001b[0;34m(\u001b[0m\u001b[0mdebit_gt\u001b[0m\u001b[0;34m[\u001b[0m\u001b[0mindex_sort_gt\u001b[0m\u001b[0;34m[\u001b[0m\u001b[0;36m450\u001b[0m\u001b[0;34m:\u001b[0m\u001b[0;36m506\u001b[0m\u001b[0;34m]\u001b[0m\u001b[0;34m,\u001b[0m\u001b[0mstation\u001b[0m\u001b[0;34m]\u001b[0m\u001b[0;34m,\u001b[0m\u001b[0mdebit_rec\u001b[0m\u001b[0;34m[\u001b[0m\u001b[0mindex_sort_gt\u001b[0m\u001b[0;34m[\u001b[0m\u001b[0;36m450\u001b[0m\u001b[0;34m:\u001b[0m\u001b[0;36m506\u001b[0m\u001b[0;34m]\u001b[0m\u001b[0;34m,\u001b[0m\u001b[0mstation\u001b[0m\u001b[0;34m]\u001b[0m\u001b[0;34m)\u001b[0m\u001b[0;34m\u001b[0m\u001b[0;34m\u001b[0m\u001b[0m\n\u001b[0m\u001b[1;32m      3\u001b[0m \u001b[0mplt\u001b[0m\u001b[0;34m.\u001b[0m\u001b[0mplot\u001b[0m\u001b[0;34m(\u001b[0m\u001b[0mdebit_gt\u001b[0m\u001b[0;34m[\u001b[0m\u001b[0mindex_sort_gt\u001b[0m\u001b[0;34m[\u001b[0m\u001b[0;36m450\u001b[0m\u001b[0;34m:\u001b[0m\u001b[0;36m506\u001b[0m\u001b[0;34m]\u001b[0m\u001b[0;34m,\u001b[0m\u001b[0mstation\u001b[0m\u001b[0;34m]\u001b[0m\u001b[0;34m,\u001b[0m\u001b[0mdebit_gt\u001b[0m\u001b[0;34m[\u001b[0m\u001b[0mindex_sort_gt\u001b[0m\u001b[0;34m[\u001b[0m\u001b[0;36m450\u001b[0m\u001b[0;34m:\u001b[0m\u001b[0;36m506\u001b[0m\u001b[0;34m]\u001b[0m\u001b[0;34m,\u001b[0m\u001b[0mstation\u001b[0m\u001b[0;34m]\u001b[0m\u001b[0;34m)\u001b[0m\u001b[0;34m\u001b[0m\u001b[0;34m\u001b[0m\u001b[0m\n\u001b[1;32m      4\u001b[0m \u001b[0mplt\u001b[0m\u001b[0;34m.\u001b[0m\u001b[0mfigure\u001b[0m\u001b[0;34m(\u001b[0m\u001b[0;34m)\u001b[0m\u001b[0;34m\u001b[0m\u001b[0;34m\u001b[0m\u001b[0m\n\u001b[1;32m      5\u001b[0m \u001b[0mplt\u001b[0m\u001b[0;34m.\u001b[0m\u001b[0mscatter\u001b[0m\u001b[0;34m(\u001b[0m\u001b[0mdebit_gt\u001b[0m\u001b[0;34m[\u001b[0m\u001b[0mindex_sort_gt\u001b[0m\u001b[0;34m,\u001b[0m\u001b[0mstation\u001b[0m\u001b[0;34m]\u001b[0m\u001b[0;34m,\u001b[0m\u001b[0mdebit_rec\u001b[0m\u001b[0;34m[\u001b[0m\u001b[0mindex_sort_gt\u001b[0m\u001b[0;34m,\u001b[0m\u001b[0mstation\u001b[0m\u001b[0;34m]\u001b[0m\u001b[0;34m)\u001b[0m\u001b[0;34m\u001b[0m\u001b[0;34m\u001b[0m\u001b[0m\n",
      "\u001b[0;32msrc/netCDF4/_netCDF4.pyx\u001b[0m in \u001b[0;36mnetCDF4._netCDF4.Variable.__getitem__\u001b[0;34m()\u001b[0m\n",
      "\u001b[0;32m/anaconda/envs/4dvarnet/lib/python3.9/site-packages/netCDF4/utils.py\u001b[0m in \u001b[0;36m_StartCountStride\u001b[0;34m(elem, shape, dimensions, grp, datashape, put, use_get_vars)\u001b[0m\n\u001b[1;32m    232\u001b[0m         \u001b[0;31m# Raise error if multidimensional indexing is used.\u001b[0m\u001b[0;34m\u001b[0m\u001b[0;34m\u001b[0m\u001b[0;34m\u001b[0m\u001b[0m\n\u001b[1;32m    233\u001b[0m         \u001b[0;32mif\u001b[0m \u001b[0mea\u001b[0m\u001b[0;34m.\u001b[0m\u001b[0mndim\u001b[0m \u001b[0;34m>\u001b[0m \u001b[0;36m1\u001b[0m\u001b[0;34m:\u001b[0m\u001b[0;34m\u001b[0m\u001b[0;34m\u001b[0m\u001b[0m\n\u001b[0;32m--> 234\u001b[0;31m             \u001b[0;32mraise\u001b[0m \u001b[0mIndexError\u001b[0m\u001b[0;34m(\u001b[0m\u001b[0;34m\"Index cannot be multidimensional\"\u001b[0m\u001b[0;34m)\u001b[0m\u001b[0;34m\u001b[0m\u001b[0;34m\u001b[0m\u001b[0m\n\u001b[0m\u001b[1;32m    235\u001b[0m         \u001b[0;31m# set unlim to True if dimension is unlimited and put==True\u001b[0m\u001b[0;34m\u001b[0m\u001b[0;34m\u001b[0m\u001b[0;34m\u001b[0m\u001b[0m\n\u001b[1;32m    236\u001b[0m         \u001b[0;31m# (called from __setitem__)\u001b[0m\u001b[0;34m\u001b[0m\u001b[0;34m\u001b[0m\u001b[0;34m\u001b[0m\u001b[0m\n",
      "\u001b[0;31mIndexError\u001b[0m: Index cannot be multidimensional"
     ]
    }
   ],
   "source": [
    "index_sort_gt = np.argsort(debit_gt[:,station])\n",
    "plt.scatter(debit_gt[index_sort_gt[450:506],station],debit_rec[index_sort_gt[450:506],station])\n",
    "plt.plot(debit_gt[index_sort_gt[450:506],station],debit_gt[index_sort_gt[450:506],station])\n",
    "plt.figure()\n",
    "plt.scatter(debit_gt[index_sort_gt,station],debit_rec[index_sort_gt,station])\n",
    "plt.plot(debit_gt[index_sort_gt,station],debit_gt[index_sort_gt,station])"
   ]
  },
  {
   "cell_type": "code",
   "execution_count": 7,
   "id": "7ad61cf5",
   "metadata": {},
   "outputs": [
    {
     "name": "stdout",
     "output_type": "stream",
     "text": [
      "1049\n",
      "959\n",
      "-5.913214990138067\n"
     ]
    },
    {
     "ename": "ValueError",
     "evalue": "The truth value of an array with more than one element is ambiguous. Use a.any() or a.all()",
     "output_type": "error",
     "traceback": [
      "\u001b[0;31m---------------------------------------------------------------------------\u001b[0m",
      "\u001b[0;31mValueError\u001b[0m                                Traceback (most recent call last)",
      "\u001b[0;32m<ipython-input-7-6b706bb9b478>\u001b[0m in \u001b[0;36m<module>\u001b[0;34m\u001b[0m\n\u001b[1;32m     21\u001b[0m     \u001b[0;32mreturn\u001b[0m\u001b[0;34m(\u001b[0m\u001b[0;36m1\u001b[0m\u001b[0;34m+\u001b[0m\u001b[0mres\u001b[0m\u001b[0;34m)\u001b[0m\u001b[0;34m\u001b[0m\u001b[0;34m\u001b[0m\u001b[0m\n\u001b[1;32m     22\u001b[0m \u001b[0;34m\u001b[0m\u001b[0m\n\u001b[0;32m---> 23\u001b[0;31m \u001b[0mprint\u001b[0m\u001b[0;34m(\u001b[0m\u001b[0mL_hat\u001b[0m\u001b[0;34m(\u001b[0m\u001b[0mseuil\u001b[0m\u001b[0;34m,\u001b[0m\u001b[0mdebit_rec\u001b[0m\u001b[0;34m[\u001b[0m\u001b[0;34m:\u001b[0m\u001b[0;34m,\u001b[0m\u001b[0mstation\u001b[0m\u001b[0;34m]\u001b[0m\u001b[0;34m,\u001b[0m\u001b[0mdebit_gt\u001b[0m\u001b[0;34m[\u001b[0m\u001b[0;34m:\u001b[0m\u001b[0;34m,\u001b[0m\u001b[0mstation\u001b[0m\u001b[0;34m]\u001b[0m\u001b[0;34m)\u001b[0m\u001b[0;34m)\u001b[0m\u001b[0;34m\u001b[0m\u001b[0;34m\u001b[0m\u001b[0m\n\u001b[0m\u001b[1;32m     24\u001b[0m \u001b[0mprint\u001b[0m\u001b[0;34m(\u001b[0m\u001b[0mL_hat\u001b[0m\u001b[0;34m(\u001b[0m\u001b[0mseuil\u001b[0m\u001b[0;34m,\u001b[0m\u001b[0mdebit_gt\u001b[0m\u001b[0;34m[\u001b[0m\u001b[0;34m:\u001b[0m\u001b[0;34m,\u001b[0m\u001b[0mstation\u001b[0m\u001b[0;34m]\u001b[0m\u001b[0;34m,\u001b[0m\u001b[0mdebit_rec\u001b[0m\u001b[0;34m[\u001b[0m\u001b[0;34m:\u001b[0m\u001b[0;34m,\u001b[0m\u001b[0mstation\u001b[0m\u001b[0;34m]\u001b[0m\u001b[0;34m)\u001b[0m\u001b[0;34m)\u001b[0m\u001b[0;34m\u001b[0m\u001b[0;34m\u001b[0m\u001b[0m\n\u001b[1;32m     25\u001b[0m \u001b[0;34m\u001b[0m\u001b[0m\n",
      "\u001b[0;32m<ipython-input-7-6b706bb9b478>\u001b[0m in \u001b[0;36mL_hat\u001b[0;34m(u, Y, X)\u001b[0m\n\u001b[1;32m     17\u001b[0m     \u001b[0mres\u001b[0m\u001b[0;34m=\u001b[0m\u001b[0;36m0\u001b[0m\u001b[0;34m\u001b[0m\u001b[0;34m\u001b[0m\u001b[0m\n\u001b[1;32m     18\u001b[0m     \u001b[0;32mfor\u001b[0m \u001b[0mk\u001b[0m \u001b[0;32min\u001b[0m \u001b[0mX\u001b[0m\u001b[0;34m:\u001b[0m\u001b[0;34m\u001b[0m\u001b[0;34m\u001b[0m\u001b[0m\n\u001b[0;32m---> 19\u001b[0;31m         \u001b[0mres\u001b[0m\u001b[0;34m+=\u001b[0m\u001b[0;34m(\u001b[0m\u001b[0;36m1\u001b[0m\u001b[0;34m/\u001b[0m\u001b[0mNn\u001b[0m\u001b[0;34m)\u001b[0m\u001b[0;34m*\u001b[0m\u001b[0mnp\u001b[0m\u001b[0;34m.\u001b[0m\u001b[0mlog\u001b[0m\u001b[0;34m(\u001b[0m\u001b[0mG_thilde\u001b[0m\u001b[0;34m(\u001b[0m\u001b[0mmax\u001b[0m\u001b[0;34m(\u001b[0m\u001b[0mk\u001b[0m\u001b[0;34m,\u001b[0m\u001b[0mu\u001b[0m\u001b[0;34m)\u001b[0m\u001b[0;34m,\u001b[0m\u001b[0mY\u001b[0m\u001b[0;34m)\u001b[0m\u001b[0;34m/\u001b[0m\u001b[0mG_thilde\u001b[0m\u001b[0;34m(\u001b[0m\u001b[0mu\u001b[0m\u001b[0;34m,\u001b[0m\u001b[0mY\u001b[0m\u001b[0;34m)\u001b[0m\u001b[0;34m)\u001b[0m\u001b[0;34m\u001b[0m\u001b[0;34m\u001b[0m\u001b[0m\n\u001b[0m\u001b[1;32m     20\u001b[0m \u001b[0;34m\u001b[0m\u001b[0m\n\u001b[1;32m     21\u001b[0m     \u001b[0;32mreturn\u001b[0m\u001b[0;34m(\u001b[0m\u001b[0;36m1\u001b[0m\u001b[0;34m+\u001b[0m\u001b[0mres\u001b[0m\u001b[0;34m)\u001b[0m\u001b[0;34m\u001b[0m\u001b[0;34m\u001b[0m\u001b[0m\n",
      "\u001b[0;31mValueError\u001b[0m: The truth value of an array with more than one element is ambiguous. Use a.any() or a.all()"
     ]
    }
   ],
   "source": [
    "# Critère non-paramétrique de KL pour les extrêmes\n",
    "\n",
    "Nn_gt = np.sum(debit_gt[:,station]>seuil)\n",
    "print(Nn_gt)\n",
    "\n",
    "Nn_rec = np.sum(debit_rec[:,station]>seuil)\n",
    "print(Nn_rec)\n",
    "\n",
    "def G_thilde(u,Y):\n",
    "    l=len(Y)\n",
    "    return (1-np.sum(Y<=u)/(l+1))\n",
    "\n",
    "print(G_thilde(seuil,debit_gt[:,station]))\n",
    "\n",
    "def L_hat(u,Y,X):\n",
    "    Nn = np.sum(X>u)\n",
    "    res=0\n",
    "    for k in X:\n",
    "        res+=(1/Nn)*np.log(G_thilde(max(k,u),Y)/G_thilde(u,Y))\n",
    "        \n",
    "    return(1+res)\n",
    "                         \n",
    "print(L_hat(seuil,debit_rec[:,station],debit_gt[:,station]))\n",
    "print(L_hat(seuil,debit_gt[:,station],debit_rec[:,station]))\n",
    "\n",
    "def K_hat(u,Y,X):\n",
    "    return(-L_hat(u,Y,X)-L_hat(u,X,Y))"
   ]
  },
  {
   "cell_type": "code",
   "execution_count": 58,
   "id": "bebfbadc",
   "metadata": {},
   "outputs": [],
   "source": [
    "ncfile2 = Dataset('Dataset_danube.nc',\"r\")\n",
    "\n",
    "NbDays          = 18244"
   ]
  },
  {
   "cell_type": "code",
   "execution_count": 8,
   "id": "034ba23e",
   "metadata": {},
   "outputs": [
    {
     "ename": "NameError",
     "evalue": "name 'ncfile2' is not defined",
     "output_type": "error",
     "traceback": [
      "\u001b[0;31m---------------------------------------------------------------------------\u001b[0m",
      "\u001b[0;31mNameError\u001b[0m                                 Traceback (most recent call last)",
      "\u001b[0;32m<ipython-input-8-d1e637e549ad>\u001b[0m in \u001b[0;36m<module>\u001b[0;34m\u001b[0m\n\u001b[1;32m      1\u001b[0m \u001b[0mL\u001b[0m\u001b[0;34m=\u001b[0m\u001b[0;34m[\u001b[0m\u001b[0;34m]\u001b[0m\u001b[0;34m\u001b[0m\u001b[0;34m\u001b[0m\u001b[0m\n\u001b[1;32m      2\u001b[0m \u001b[0;32mfor\u001b[0m \u001b[0mi\u001b[0m \u001b[0;32min\u001b[0m \u001b[0mrange\u001b[0m\u001b[0;34m(\u001b[0m\u001b[0;36m31\u001b[0m\u001b[0;34m)\u001b[0m\u001b[0;34m:\u001b[0m\u001b[0;34m\u001b[0m\u001b[0;34m\u001b[0m\u001b[0m\n\u001b[0;32m----> 3\u001b[0;31m     \u001b[0mL\u001b[0m\u001b[0;34m.\u001b[0m\u001b[0mappend\u001b[0m\u001b[0;34m(\u001b[0m\u001b[0mncfile2\u001b[0m\u001b[0;34m[\u001b[0m\u001b[0;34m'S'\u001b[0m\u001b[0;34m+\u001b[0m\u001b[0mstr\u001b[0m\u001b[0;34m(\u001b[0m\u001b[0mi\u001b[0m\u001b[0;34m+\u001b[0m\u001b[0;36m1\u001b[0m\u001b[0;34m)\u001b[0m\u001b[0;34m]\u001b[0m\u001b[0;34m[\u001b[0m\u001b[0;34m:\u001b[0m\u001b[0;34m]\u001b[0m\u001b[0;34m.\u001b[0m\u001b[0mreshape\u001b[0m\u001b[0;34m(\u001b[0m\u001b[0;36m18244\u001b[0m\u001b[0;34m,\u001b[0m\u001b[0;36m1\u001b[0m\u001b[0;34m)\u001b[0m\u001b[0;34m)\u001b[0m\u001b[0;34m\u001b[0m\u001b[0;34m\u001b[0m\u001b[0m\n\u001b[0m\u001b[1;32m      4\u001b[0m \u001b[0;34m\u001b[0m\u001b[0m\n\u001b[1;32m      5\u001b[0m \u001b[0mdataset\u001b[0m \u001b[0;34m=\u001b[0m \u001b[0mnp\u001b[0m\u001b[0;34m.\u001b[0m\u001b[0mconcatenate\u001b[0m\u001b[0;34m(\u001b[0m\u001b[0;34m(\u001b[0m\u001b[0mL\u001b[0m\u001b[0;34m[\u001b[0m\u001b[0;36m0\u001b[0m\u001b[0;34m]\u001b[0m\u001b[0;34m,\u001b[0m\u001b[0mL\u001b[0m\u001b[0;34m[\u001b[0m\u001b[0;36m1\u001b[0m\u001b[0;34m]\u001b[0m\u001b[0;34m,\u001b[0m\u001b[0mL\u001b[0m\u001b[0;34m[\u001b[0m\u001b[0;36m2\u001b[0m\u001b[0;34m]\u001b[0m\u001b[0;34m,\u001b[0m\u001b[0mL\u001b[0m\u001b[0;34m[\u001b[0m\u001b[0;36m3\u001b[0m\u001b[0;34m]\u001b[0m\u001b[0;34m,\u001b[0m\u001b[0mL\u001b[0m\u001b[0;34m[\u001b[0m\u001b[0;36m4\u001b[0m\u001b[0;34m]\u001b[0m\u001b[0;34m,\u001b[0m\u001b[0mL\u001b[0m\u001b[0;34m[\u001b[0m\u001b[0;36m5\u001b[0m\u001b[0;34m]\u001b[0m\u001b[0;34m,\u001b[0m\u001b[0mL\u001b[0m\u001b[0;34m[\u001b[0m\u001b[0;36m6\u001b[0m\u001b[0;34m]\u001b[0m\u001b[0;34m,\u001b[0m\u001b[0mL\u001b[0m\u001b[0;34m[\u001b[0m\u001b[0;36m7\u001b[0m\u001b[0;34m]\u001b[0m\u001b[0;34m,\u001b[0m\u001b[0mL\u001b[0m\u001b[0;34m[\u001b[0m\u001b[0;36m8\u001b[0m\u001b[0;34m]\u001b[0m\u001b[0;34m,\u001b[0m\u001b[0mL\u001b[0m\u001b[0;34m[\u001b[0m\u001b[0;36m9\u001b[0m\u001b[0;34m]\u001b[0m\u001b[0;34m,\u001b[0m\u001b[0mL\u001b[0m\u001b[0;34m[\u001b[0m\u001b[0;36m10\u001b[0m\u001b[0;34m]\u001b[0m\u001b[0;34m,\u001b[0m\u001b[0mL\u001b[0m\u001b[0;34m[\u001b[0m\u001b[0;36m11\u001b[0m\u001b[0;34m]\u001b[0m\u001b[0;34m,\u001b[0m\u001b[0mL\u001b[0m\u001b[0;34m[\u001b[0m\u001b[0;36m12\u001b[0m\u001b[0;34m]\u001b[0m\u001b[0;34m,\u001b[0m\u001b[0mL\u001b[0m\u001b[0;34m[\u001b[0m\u001b[0;36m13\u001b[0m\u001b[0;34m]\u001b[0m\u001b[0;34m,\u001b[0m\u001b[0mL\u001b[0m\u001b[0;34m[\u001b[0m\u001b[0;36m14\u001b[0m\u001b[0;34m]\u001b[0m\u001b[0;34m,\u001b[0m\u001b[0mL\u001b[0m\u001b[0;34m[\u001b[0m\u001b[0;36m15\u001b[0m\u001b[0;34m]\u001b[0m\u001b[0;34m,\u001b[0m\u001b[0mL\u001b[0m\u001b[0;34m[\u001b[0m\u001b[0;36m16\u001b[0m\u001b[0;34m]\u001b[0m\u001b[0;34m,\u001b[0m\u001b[0mL\u001b[0m\u001b[0;34m[\u001b[0m\u001b[0;36m17\u001b[0m\u001b[0;34m]\u001b[0m\u001b[0;34m,\u001b[0m\u001b[0mL\u001b[0m\u001b[0;34m[\u001b[0m\u001b[0;36m18\u001b[0m\u001b[0;34m]\u001b[0m\u001b[0;34m,\u001b[0m\u001b[0mL\u001b[0m\u001b[0;34m[\u001b[0m\u001b[0;36m19\u001b[0m\u001b[0;34m]\u001b[0m\u001b[0;34m,\u001b[0m\u001b[0mL\u001b[0m\u001b[0;34m[\u001b[0m\u001b[0;36m20\u001b[0m\u001b[0;34m]\u001b[0m\u001b[0;34m,\u001b[0m\u001b[0mL\u001b[0m\u001b[0;34m[\u001b[0m\u001b[0;36m21\u001b[0m\u001b[0;34m]\u001b[0m\u001b[0;34m,\u001b[0m\u001b[0mL\u001b[0m\u001b[0;34m[\u001b[0m\u001b[0;36m22\u001b[0m\u001b[0;34m]\u001b[0m\u001b[0;34m,\u001b[0m\u001b[0mL\u001b[0m\u001b[0;34m[\u001b[0m\u001b[0;36m23\u001b[0m\u001b[0;34m]\u001b[0m\u001b[0;34m,\u001b[0m\u001b[0mL\u001b[0m\u001b[0;34m[\u001b[0m\u001b[0;36m24\u001b[0m\u001b[0;34m]\u001b[0m\u001b[0;34m,\u001b[0m\u001b[0mL\u001b[0m\u001b[0;34m[\u001b[0m\u001b[0;36m25\u001b[0m\u001b[0;34m]\u001b[0m\u001b[0;34m,\u001b[0m\u001b[0mL\u001b[0m\u001b[0;34m[\u001b[0m\u001b[0;36m26\u001b[0m\u001b[0;34m]\u001b[0m\u001b[0;34m,\u001b[0m\u001b[0mL\u001b[0m\u001b[0;34m[\u001b[0m\u001b[0;36m27\u001b[0m\u001b[0;34m]\u001b[0m\u001b[0;34m,\u001b[0m\u001b[0mL\u001b[0m\u001b[0;34m[\u001b[0m\u001b[0;36m28\u001b[0m\u001b[0;34m]\u001b[0m\u001b[0;34m,\u001b[0m\u001b[0mL\u001b[0m\u001b[0;34m[\u001b[0m\u001b[0;36m29\u001b[0m\u001b[0;34m]\u001b[0m\u001b[0;34m,\u001b[0m\u001b[0mL\u001b[0m\u001b[0;34m[\u001b[0m\u001b[0;36m30\u001b[0m\u001b[0;34m]\u001b[0m\u001b[0;34m)\u001b[0m\u001b[0;34m,\u001b[0m\u001b[0maxis\u001b[0m\u001b[0;34m=\u001b[0m\u001b[0;36m1\u001b[0m\u001b[0;34m)\u001b[0m\u001b[0;34m\u001b[0m\u001b[0;34m\u001b[0m\u001b[0m\n",
      "\u001b[0;31mNameError\u001b[0m: name 'ncfile2' is not defined"
     ]
    }
   ],
   "source": [
    "L=[]\n",
    "for i in range(31):\n",
    "    L.append(ncfile2['S'+str(i+1)][:].reshape(18244,1))\n",
    "        \n",
    "dataset = np.concatenate((L[0],L[1],L[2],L[3],L[4],L[5],L[6],L[7],L[8],L[9],L[10],L[11],L[12],L[13],L[14],L[15],L[16],L[17],L[18],L[19],L[20],L[21],L[22],L[23],L[24],L[25],L[26],L[27],L[28],L[29],L[30]),axis=1)\n",
    "\n",
    "# Definiton of training, validation and test dataset    \n",
    "i=0\n",
    "Indtrain=[]\n",
    "Indval=[]\n",
    "Indtest=[]\n",
    "while (i+1)*395<(NbDays-1):\n",
    "    x=395*i\n",
    "    Indtrain.append([x,(x+305)])\n",
    "    Indval.append([(x+319),(x+350)])\n",
    "    Indtest.append([x+364,x+395])\n",
    "    i+=1\n",
    "    \n"
   ]
  },
  {
   "cell_type": "code",
   "execution_count": 49,
   "id": "824ef48e",
   "metadata": {},
   "outputs": [
    {
     "name": "stdout",
     "output_type": "stream",
     "text": [
      "[[0, 305], [395, 700], [790, 1095], [1185, 1490], [1580, 1885], [1975, 2280], [2370, 2675], [2765, 3070], [3160, 3465], [3555, 3860], [3950, 4255], [4345, 4650], [4740, 5045], [5135, 5440], [5530, 5835], [5925, 6230], [6320, 6625], [6715, 7020], [7110, 7415], [7505, 7810], [7900, 8205], [8295, 8600], [8690, 8995], [9085, 9390], [9480, 9785], [9875, 10180], [10270, 10575], [10665, 10970], [11060, 11365], [11455, 11760], [11850, 12155], [12245, 12550], [12640, 12945], [13035, 13340], [13430, 13735], [13825, 14130], [14220, 14525], [14615, 14920], [15010, 15315], [15405, 15710], [15800, 16105], [16195, 16500], [16590, 16895], [16985, 17290], [17380, 17685], [17775, 18080]]\n",
      "[419. 385. 366. 352. 419. 437. 400. 406. 417. 402. 324. 294. 280. 265.\n",
      " 245. 242. 240. 238. 245. 260. 264. 264. 285. 313. 276. 267. 301. 305.\n",
      " 316. 342. 360. 330. 309. 292. 289. 289. 285. 271. 235. 219. 242. 255.\n",
      " 240. 243. 253. 227. 225. 228. 233. 248. 264. 299. 289. 298. 307. 342.\n",
      " 391. 531. 702. 743. 735. 705. 718. 713. 724. 763. 708. 631. 566. 524.\n",
      " 500. 479. 457. 428. 441. 430. 428. 424. 422. 413. 370. 368. 368. 366.\n",
      " 358. 352. 342. 322. 326. 330. 330. 338. 354. 328. 301. 313. 320. 313.\n",
      " 303. 301. 294. 296. 334. 342. 362. 358. 326. 305. 292. 285. 296. 298.\n",
      " 299. 294. 280. 262. 280. 298. 298. 299. 294. 285. 269. 278. 292. 292.\n",
      " 289. 281. 280. 262. 262. 290. 309. 314. 326. 338. 338. 354. 398. 383.\n",
      " 368. 373. 381. 373. 424. 441. 435. 433. 398. 348. 326. 400. 424. 394.\n",
      " 364. 364. 370. 334. 324. 342. 354. 370. 385. 448. 457. 419. 448. 466.\n",
      " 415. 358. 330. 318. 332. 340. 322. 305. 285. 280. 303. 484. 654. 613.\n",
      " 571. 463. 389. 336. 313. 296. 280. 283. 305. 320. 301. 294. 303. 307.\n",
      " 301. 294. 354. 389. 358. 336. 328. 344. 360. 385. 459. 461. 417. 437.\n",
      " 448. 435. 377. 352. 404. 561. 574. 484. 433. 439. 498. 482. 541. 646.\n",
      " 531. 472. 531. 697. 615. 541. 486. 459. 527. 697. 566. 507. 457. 415.\n",
      " 396. 366. 328. 285. 292. 309. 311. 326. 326. 303. 281. 307. 413. 517.\n",
      " 541. 554. 444. 373. 344. 320. 305. 296. 298. 305. 272. 269. 281. 283.\n",
      " 278. 262. 250. 230. 217. 227. 225. 217. 220. 230. 243. 243. 245. 235.\n",
      " 228. 271. 424. 433. 411. 398. 366. 379. 366. 368. 498. 671. 740. 676.\n",
      " 589. 546. 512. 452. 446. 428. 417. 389. 375. 354. 324.]\n",
      "14030\n",
      "[ 91.9  97.5  98.4 105.  117.  118.  124.  125.  129.  134. ]\n",
      "729.0\n"
     ]
    }
   ],
   "source": [
    "print(Indtrain)\n",
    "D=dataset[Indtrain[0][0]:Indtrain[0][1],3]\n",
    "print(D)\n",
    "for k in Indtrain[1::]:\n",
    "    D=np.concatenate((D,dataset[k[0]:k[1],3]),axis=0)\n",
    "print(len(D))\n",
    "\n",
    "r=0.1\n",
    "D.sort()\n",
    "print(D[:10])\n",
    "seuil=D[int((1-r)*len(D))]\n",
    "print(seuil)"
   ]
  },
  {
   "cell_type": "code",
   "execution_count": 35,
   "id": "03534b70",
   "metadata": {},
   "outputs": [
    {
     "name": "stdout",
     "output_type": "stream",
     "text": [
      "4.477390750750359\n",
      "3.0822163450876143\n",
      "76\n",
      "82\n",
      "0.005988023952095856\n",
      "1.0\n",
      "-0.09861228866809113\n",
      "-0.9013877113319089\n"
     ]
    }
   ],
   "source": [
    "X1=np.random.randn(500)\n",
    "print(max(X1))\n",
    "Y1=np.random.randn(500)\n",
    "print(max(Y1))\n",
    "print(np.sum(X1>1))\n",
    "print(np.sum(Y1>1))\n",
    "print(G_thilde(3,Y1))\n",
    "print(L_hat(3,X1,Y1))\n",
    "print(L_hat(3,Y1,X1))\n",
    "print(K_hat(3,X1,Y1))"
   ]
  },
  {
   "cell_type": "code",
   "execution_count": 54,
   "id": "3f99e7c4",
   "metadata": {},
   "outputs": [
    {
     "name": "stdout",
     "output_type": "stream",
     "text": [
      "7\n",
      "54\n",
      "0.12962962962962962\n"
     ]
    }
   ],
   "source": [
    "#Risque Juliette\n",
    "\n",
    "epsilon =0.5\n",
    "g =(debit_rec[:,station]>seuil)\n",
    "H = (debit_gt[:,station]>seuil)\n",
    "g_eps = (debit_rec[:,station]>epsilon*seuil)\n",
    "H_eps = (debit_gt[:,station]>epsilon*seuil)\n",
    "\n",
    "compt1 = np.sum((g ^ H) &H_eps &g_eps)\n",
    "print(compt1)\n",
    "compt2 = np.sum((g | H) &H_eps &g_eps)\n",
    "print(compt2)\n",
    "R_juliette = compt1/compt2\n",
    "print(R_juliette)"
   ]
  },
  {
   "cell_type": "markdown",
   "id": "6ec48e8e",
   "metadata": {},
   "source": [
    "# Prevision"
   ]
  },
  {
   "cell_type": "markdown",
   "id": "9f61e3b6",
   "metadata": {},
   "source": [
    "### Premiers résultats"
   ]
  },
  {
   "cell_type": "code",
   "execution_count": 18,
   "id": "de0bd04d",
   "metadata": {},
   "outputs": [
    {
     "name": "stdout",
     "output_type": "stream",
     "text": [
      "(874, 31, 12)\n"
     ]
    },
    {
     "data": {
      "text/plain": [
       "<matplotlib.legend.Legend at 0x7f813806ec70>"
      ]
     },
     "execution_count": 18,
     "metadata": {},
     "output_type": "execute_result"
    },
    {
     "data": {
      "image/png": "[encoded data removed]",
      "text/plain": [
       "<Figure size 432x288 with 1 Axes>"
      ]
     },
     "metadata": {
      "needs_background": "light"
     },
     "output_type": "display_data"
    }
   ],
   "source": [
    "print(debit_gt[:].shape)\n",
    "\n",
    "station = 24\n",
    "Day = 9\n",
    "# Comparaison GT et rec pour un élément donné du test\n",
    "plt.plot(debit_gt[0:50,station,Day])\n",
    "plt.plot(debit_rec[0:50,station,Day])\n",
    "plt.xlabel('Time horizon')\n",
    "plt.ylabel('Discharge')\n",
    "plt.legend(['true discharge', 'reconstructed discharge'])"
   ]
  },
  {
   "cell_type": "code",
   "execution_count": 19,
   "id": "94ad059d",
   "metadata": {},
   "outputs": [
    {
     "name": "stdout",
     "output_type": "stream",
     "text": [
      "(874, 31, 12)\n",
      "[0.03068432601549269 0.018615450444719878 0.03522801373937817\n",
      " 0.023400121536736457 0.024983367934945155 0.02591502011411102\n",
      " 0.021682581018402515 0.019365150068944247 0.013336300312403297\n",
      " 0.058236234685517405 0.1028227291779745 0.14072176991367527]\n",
      "[0.04472760834906715 0.038959714893402615 0.06311781841871004\n",
      " 0.0458711748673448 0.04326342653223246 0.04499567358117017\n",
      " 0.038498835838113206 0.03631881842912968 0.026757838644241194\n",
      " 0.10598605857313091 0.17806288231664258 0.23098126594749535]\n"
     ]
    }
   ],
   "source": [
    "#Erreur relative en fonction du jour par station\n",
    "D=abs(debit_gt[:,:,:]-debit_rec[:,:,:])/debit_gt[:,:,:]\n",
    "print(D.shape)\n",
    "# Erreur relative moyenne en fonction du jour et de la station\n",
    "M = np.mean(D,0)\n",
    "print(M[0,:])\n",
    "#Erreur relative moyenne en fonction du jour\n",
    "M2 =np.mean(M,0)\n",
    "print(M2)\n",
    "\n"
   ]
  },
  {
   "cell_type": "code",
   "execution_count": 20,
   "id": "0a69cdda",
   "metadata": {},
   "outputs": [
    {
     "name": "stdout",
     "output_type": "stream",
     "text": [
      "[1485.6037376   672.00171625  483.83352403  471.21081236  375.09439359\n",
      "  352.07923341  331.81136537  201.96043097  168.3620328   127.86008772\n",
      "   50.75906846   23.33553776  777.76868802  182.26284325  170.61363463\n",
      "   72.14866514   53.43804348   31.10415713   23.71159039  124.6609077\n",
      "   87.81117468   79.25367086   50.96863082   38.47544432   39.47577994\n",
      "   36.68408848   27.17264397   44.91092582   40.77937262  268.7981598\n",
      "  254.40860984]\n",
      "[0.40751323 0.43419056 0.4460457  0.41400607 0.4356324  0.40988038\n",
      " 0.43256025 0.4140584  0.42991232 0.41870046 0.3802504  0.35392015]\n"
     ]
    },
    {
     "data": {
      "text/plain": [
       "<matplotlib.legend.Legend at 0x7f8133fef160>"
      ]
     },
     "execution_count": 20,
     "metadata": {},
     "output_type": "execute_result"
    },
    {
     "data": {
      "image/png": "[encoded data removed]",
      "text/plain": [
       "<Figure size 432x288 with 1 Axes>"
      ]
     },
     "metadata": {
      "needs_background": "light"
     },
     "output_type": "display_data"
    }
   ],
   "source": [
    "#Ecart entre les valeurs prédites au jour J et la valeur moyenne :\n",
    "moy = np.mean(debit_gt[:,:,:],0)\n",
    "moy2 = np.mean(moy,1)\n",
    "print(moy2)\n",
    "Ecart = np.zeros(debit_rec.shape)\n",
    "for i in range(31):\n",
    "    Ecart[:,i,:] =abs(debit_rec[:,i,:]-moy2[i])/moy2[i]\n",
    "MoyEcart = np.mean(np.mean(Ecart,0),0)\n",
    "print(MoyEcart)\n",
    "plt.plot(MoyEcart)\n",
    "plt.plot(M2)\n",
    "plt.xlabel('Day')\n",
    "plt.ylabel('Mean Relative difference')\n",
    "plt.legend(['Difference between reconstructed flow and average mean', 'Difference between reconstructed flow and grountruth'])"
   ]
  },
  {
   "cell_type": "code",
   "execution_count": 22,
   "id": "bc8a7119",
   "metadata": {},
   "outputs": [
    {
     "data": {
      "text/plain": [
       "[<matplotlib.lines.Line2D at 0x7f8133e90670>]"
      ]
     },
     "execution_count": 22,
     "metadata": {},
     "output_type": "execute_result"
    },
    {
     "data": {
      "image/png": "[encoded data removed]",
      "text/plain": [
       "<Figure size 432x288 with 1 Axes>"
      ]
     },
     "metadata": {
      "needs_background": "light"
     },
     "output_type": "display_data"
    },
    {
     "data": {
      "image/png": "[encoded data removed]",
      "text/plain": [
       "<Figure size 432x288 with 1 Axes>"
      ]
     },
     "metadata": {
      "needs_background": "light"
     },
     "output_type": "display_data"
    }
   ],
   "source": [
    "#qqplot extreme pour une station donnée en un jour de prévision donnée\n",
    "station = 24\n",
    "Day = 9\n",
    "index_sort_gt = np.argsort(debit_gt[:,station,Day])\n",
    "plt.scatter(debit_gt[index_sort_gt[450:506],station,Day],debit_rec[index_sort_gt[450:506],station,Day])\n",
    "plt.plot(debit_gt[index_sort_gt[450:506],station,Day],debit_gt[index_sort_gt[450:506],station,Day])\n",
    "plt.xlabel('True flow')\n",
    "plt.ylabel('Reconstructed flow')\n",
    "plt.figure()\n",
    "plt.scatter(debit_gt[index_sort_gt,station,Day],debit_rec[index_sort_gt,station,Day])\n",
    "plt.plot(debit_gt[index_sort_gt,station,Day],debit_gt[index_sort_gt,station,Day])"
   ]
  },
  {
   "cell_type": "code",
   "execution_count": 23,
   "id": "5f9ae221",
   "metadata": {},
   "outputs": [
    {
     "name": "stdout",
     "output_type": "stream",
     "text": [
      "31.5\n",
      "[ 19  20  21  22  25  26  27  28  29  30  31  32  33  34  35  36  40  41\n",
      "  42  43  44  45  46  47  48  49  50  51  52  53  57  58  62  65  66  67\n",
      "  76  77  78  79  80  81  82  83  84  85  86  87  88  89  90  91  92  93\n",
      "  94  96  97  98  99 100 101 103 104 107 108 109 110 111 114 118 119 138\n",
      " 139 140 144 145 146 148 149 150 167 168 171 172 173 174 175 176 177 178\n",
      " 179 208 244 245 246 247 248 249 250 251 252 253 254 255 256 257 258 259\n",
      " 260 261 262 263 264 265 266 267 268 269 270 285 286 287 288 289 290 291\n",
      " 292 296 297 298 299 300 301 302 303 304 305 306 307 308 309 310 311 312\n",
      " 313 314 315 316 317 318 319 320 321 322 323 324 331 333 341 342 343 344\n",
      " 345 346 347 348 349 350 351 352 353 354 355 356 357 358 359 360 361 362\n",
      " 363 364 365 366 367 368 369 370 371 373 374 375 376 377 378 379 447 448\n",
      " 449 450 456 458 459 460 461 462 463 464 465 466 467 468 469 470 471 472\n",
      " 473 474 475 476 477 478 479 480 481 482 483 484 485 486 487 488 489 490\n",
      " 491 492 493 494 495 496 497 498 499 500 501 502 503 504 505 506 507 508\n",
      " 509 510 511 512 513 514 515 516 517 570 571 572 573 574 575 576 577 578\n",
      " 579 580 619 620 621 622 623 624 625 626 627 665 666 667 668 669 670 671\n",
      " 672 673 674 675 676 677 678 679 680 681 682 683 684 685 696 697 698 699\n",
      " 703 716 717 722 723 724 725 726 727 728 729 730 731 732 733 734 735 736\n",
      " 737 738 739 740 741 742 743 744 745 746 747 748 749 750 751 752 753 754\n",
      " 755 756 757 758 759 760 761 762 763 764 765 766 767 768 769 770 771 772\n",
      " 773 774 775 776 779 780 781 782 783 784 785 786 787 788 789 790 791 792\n",
      " 793 794 798 799 800 804 805 806 807 808 809 810 817 818 829 830 831 836]\n",
      "0.12725267344676106\n",
      "0.11156643273491015\n",
      "9.132020725722334\n",
      "5.312875160219792\n",
      "39.47577993897788\n",
      "[ 18.1  17.2  25.9  27.6  25.4  21.3  21.3  21.3  16.4  18.5  18.9  16.\n",
      "  13.7  18.5  19.4  18.1  21.3  23.3  21.3  33.6  36.9  40.2  40.8  29.9\n",
      "  28.1  35.5 133.   69.6  47.8  47.8  52.1  42.9  45.7  42.9  41.5  38.8\n",
      "  34.8  29.9  14.5  20.3  34.2  60.3  99.6 113.   90.   76.2  79.6  87.4\n",
      "  92.6 156. ]\n",
      "[ 17.2  25.9  27.6  25.4  21.3  21.3  21.3  16.4  18.5  18.9  16.   13.7\n",
      "  18.5  19.4  18.1  21.3  23.3  21.3  20.3  36.9  40.2  40.8  29.9  28.1\n",
      "  35.5 133.   69.6  47.8  47.8  52.1  42.9  45.7  42.9  41.5  38.8  34.8\n",
      "  29.9  22.8  20.3  34.2  60.3  99.6 113.   90.   76.2  79.6  87.4  92.6\n",
      " 156.  144. ]\n",
      "[ 25.9  27.6  25.4  21.3  21.3  21.3  16.4  18.5  18.9  16.   13.7  18.5\n",
      "  19.4  18.1  21.3  23.3  21.3  20.3  19.4  40.2  40.8  29.9  28.1  35.5\n",
      " 133.   69.6  47.8  47.8  52.1  42.9  45.7  42.9  41.5  38.8  34.8  29.9\n",
      "  22.8  31.7  34.2  60.3  99.6 113.   90.   76.2  79.6  87.4  92.6 156.\n",
      " 144.   65.7]\n",
      "[0.12725267344676106, 0.21964115390664296, 0.26696826387178474]\n",
      "[0.11156643273491015, 0.20032896934622466, 0.2632739019725837]\n"
     ]
    },
    {
     "data": {
      "text/plain": [
       "<matplotlib.legend.Legend at 0x7f8133ef0af0>"
      ]
     },
     "execution_count": 23,
     "metadata": {},
     "output_type": "execute_result"
    },
    {
     "data": {
      "image/png": "[encoded data removed]",
      "text/plain": [
       "<Figure size 432x288 with 1 Axes>"
      ]
     },
     "metadata": {
      "needs_background": "light"
     },
     "output_type": "display_data"
    }
   ],
   "source": [
    "station=24\n",
    "Day=9\n",
    "debtrue = debit_gt[:,station,Day]\n",
    "debtrue.sort()\n",
    "seuil = debtrue[477]\n",
    "print(seuil)\n",
    "ind= np.where(debit_gt[:,station,Day]>seuil)\n",
    "print(ind[0])\n",
    "print(np.mean(abs(debit_gt[ind[0],station,Day]-debit_rec[ind[0],station,Day])/debit_gt[ind[0],station,Day]))\n",
    "print(np.mean(abs(debit_gt[:,station,Day]-debit_rec[:,station,Day])/debit_gt[:,station,Day]))\n",
    "print(np.mean(abs(debit_gt[ind[0],station,Day]-debit_rec[ind[0],station,Day])))\n",
    "print(np.mean(abs(debit_gt[:,station,Day]-debit_rec[:,station,Day])))\n",
    "print(np.mean(debit_gt[:,station]))\n",
    "MRE_extreme = []\n",
    "MRE=[]\n",
    "for i in range(9,12):\n",
    "    MRE.append(np.mean(abs(debit_gt[:,station,i]-debit_rec[:,station,i])/debit_gt[:,station,i]))\n",
    "    debtrue = debit_gt[:,station,i]\n",
    "    debtrue.sort()\n",
    "    print(debit_gt[:50,station,i])\n",
    "    seuil = debtrue[477]\n",
    "    ind = np.where(debit_gt[:,station,i]>seuil)\n",
    "    MRE_extreme.append(np.mean(abs(debit_gt[ind[0],station,i]-debit_rec[ind[0],station,i])/debit_gt[ind[0],station,i]))\n",
    "    \n",
    "    \n",
    "print(MRE_extreme)\n",
    "print(MRE)\n",
    "\n",
    "plt.figure()\n",
    "plt.plot(MRE_extreme)\n",
    "plt.plot(MRE)\n",
    "plt.xlabel('Day')\n",
    "plt.ylabel('Mean Relative difference')\n",
    "plt.legend(['Mean relative error for upper decile', 'Global mean relative error'])\n"
   ]
  },
  {
   "cell_type": "markdown",
   "id": "a2b2d342",
   "metadata": {},
   "source": [
    "### Comparaisons entre prévisions et persistance pour le jour 1"
   ]
  },
  {
   "cell_type": "code",
   "execution_count": 25,
   "id": "6612ccfc",
   "metadata": {},
   "outputs": [
    {
     "data": {
      "text/plain": [
       "<matplotlib.legend.Legend at 0x7f8133eb0b80>"
      ]
     },
     "execution_count": 25,
     "metadata": {},
     "output_type": "execute_result"
    },
    {
     "data": {
      "image/png": "[encoded data removed]",
      "text/plain": [
       "<Figure size 432x288 with 1 Axes>"
      ]
     },
     "metadata": {
      "needs_background": "light"
     },
     "output_type": "display_data"
    }
   ],
   "source": [
    "Day=9\n",
    "\n",
    "debit_rec_true=debit_rec[:,:,Day]\n",
    "debit_persistant = debit_gt[:,:,Day-1]\n",
    "#debit_persistant = debit_rec[:,:,Day-1]\n",
    "station = 24\n",
    "# Comparaison GT et rec pour un élément donné du test\n",
    "plt.plot(debit_gt[0:50,station,Day])\n",
    "plt.plot(debit_persistant[0:50,station])\n",
    "plt.plot(debit_rec_true[0:50,station])\n",
    "plt.xlabel('Time horizon')\n",
    "plt.ylabel('Discharge')\n",
    "plt.legend(['true discharge', 'persistance','reconstructed discharge'])\n"
   ]
  },
  {
   "cell_type": "code",
   "execution_count": 10,
   "id": "0b50ebd3",
   "metadata": {},
   "outputs": [
    {
     "name": "stdout",
     "output_type": "stream",
     "text": [
      "(874, 31)\n",
      "(31,)\n",
      "[0.058236234685517405 0.0440057430810694 0.047965281640075214\n",
      " 0.06817733879229794 0.05844025169780239 0.056941292883203196\n",
      " 0.0674348021993684 0.08379701942893993 0.08904874856052221\n",
      " 0.09434047992116477 0.17234148564701168 0.1753289589365359\n",
      " 0.07483785468272316 0.05881463477615758 0.07312795209245014\n",
      " 0.13890245093681472 0.11590259490065544 0.1289330385417494\n",
      " 0.15160587361392497 0.08857951579705915 0.11461899915264395\n",
      " 0.18041968630183264 0.09971146977619244 0.12245350190799995\n",
      " 0.11156643273491018 0.12709548134788354 0.15071923469961443\n",
      " 0.14933537697001611 0.15367849884682014 0.11149167889738171\n",
      " 0.11771590231672055]\n",
      "0.10598605857313094\n",
      "(874, 31)\n",
      "[0.06466677194038796 0.06394539968172927 0.07260393756008171\n",
      " 0.08481857502708 0.07818124529413022 0.07839678202515715\n",
      " 0.08424681281622003 0.09442421035317297 0.09793793812848976\n",
      " 0.10564122882296102 0.1650800871687169 0.15161901488495214\n",
      " 0.07583928112960249 0.07168147905384804 0.08058587692626018\n",
      " 0.14676710898135242 0.1189508326228156 0.10735335972171031\n",
      " 0.10276680077906789 0.09287283702923871 0.09914663089113922\n",
      " 0.15981114178772513 0.07762079081734628 0.10046435280994523\n",
      " 0.12368822480267043 0.13118637238697836 0.1356157912060539\n",
      " 0.1301319403157164 0.1332038909211915 0.11343053302051828\n",
      " 0.10908265133491234]\n",
      "0.10489554516907003\n"
     ]
    }
   ],
   "source": [
    "#Erreur relative par station\n",
    "D=abs(debit_gt[:,:,Day]-debit_rec_true[:,:])/debit_gt[:,:,Day]\n",
    "print(D.shape)\n",
    "# Erreur relative moyenne en fonction du jour et de la station\n",
    "M = np.mean(D,0)\n",
    "print(M.shape)\n",
    "print(M[:])\n",
    "#Erreur relative moyenne en fonction du jour\n",
    "M2 =np.mean(M,0)\n",
    "print(M2)\n",
    "\n",
    "#Avec persistance\n",
    "#Erreur relative en fonction du jour par station\n",
    "D=abs(debit_gt[:,:,Day]-debit_persistant[:,:])/debit_gt[:,:,Day]\n",
    "print(D.shape)\n",
    "# Erreur relative moyenne en fonction du jour et de la station\n",
    "M = np.mean(D,0)\n",
    "print(M[:])\n",
    "#Erreur relative moyenne en fonction du jour\n",
    "M2 =np.mean(M,0)\n",
    "print(M2)\n"
   ]
  },
  {
   "cell_type": "code",
   "execution_count": 17,
   "id": "4ddf4689",
   "metadata": {},
   "outputs": [
    {
     "name": "stdout",
     "output_type": "stream",
     "text": [
      "[28712.14361076  2687.14714989  1994.92305883  3150.01987355\n",
      "  1541.65496024  1255.97415109  1760.86043335  1047.91491565\n",
      "   985.60878988   587.57910609   429.43309825    88.95805853\n",
      " 16218.33247828   275.41859616   369.33738353   348.1374577\n",
      "   166.84436691   107.09330246    95.74080665   540.77514312\n",
      "   356.12426118   392.28241431   103.37580622    87.76218862\n",
      "   131.74855888   173.10118343   158.28962301   253.73034804\n",
      "   250.18761126  4863.33375254  4153.23112627]\n",
      "[31362.83180778  5756.73798627  4243.97482838  4818.39702517\n",
      "  2884.66475973  2565.9187643   2733.62929062  1314.31124714\n",
      "  1199.12827231   805.623627     474.89496568    91.49858295\n",
      " 17169.25400458   490.88786041   508.71718535   473.29016018\n",
      "   217.29240275   121.85018993    97.67208787   766.62162471\n",
      "   388.1026659    376.18332952   140.30797483   135.95140767\n",
      "   317.09203661   336.41994554   181.6150397    258.72924783\n",
      "   260.3445762   5594.60718535  4398.05418764]\n",
      "Variance expliquée\n",
      "[0.08451686420624482 0.5332170482139078 0.5299399408560495\n",
      " 0.3462514904651298 0.46556876148480664 0.5105167908798927\n",
      " 0.3558525146784397 0.2026889232428999 0.1780622535255968\n",
      " 0.27065308614148864 0.0957303629481061 0.027765724267926117\n",
      " 0.05538513939179712 0.43893785449622125 0.27398288447125574\n",
      " 0.2644312369278541 0.23216658844647364 0.12110680727678391\n",
      " 0.019773112948942795 0.2945996751364154 0.08239676646508753\n",
      " -0.04279584853237983 0.2632221629441662 0.35445914002138357\n",
      " 0.5845100359946138 0.4854609968111131 0.1284332879782809\n",
      " 0.019320969027137536 0.039013545409785855 0.1307104160471746\n",
      " 0.05566622213472694]\n",
      "(array([ 1,  2,  4,  5, 13, 24, 25]),)\n",
      "0.23875950820346215\n"
     ]
    }
   ],
   "source": [
    "# Variance \n",
    "D_rec=(debit_gt[:,:,Day]-debit_rec_true[:,:])**2\n",
    "#Variance par station\n",
    "M_rec = np.mean(D_rec,0)\n",
    "print(M_rec)\n",
    "\n",
    "\n",
    "D_persistant = (debit_gt[:,:,Day]-debit_persistant[:,:])**2\n",
    "#Variance par station\n",
    "M_persistant = np.mean(D_persistant,0)\n",
    "print(M_persistant)\n",
    "\n",
    "V_exp = M_rec/M_persistant\n",
    "print(\"Variance expliquée\")\n",
    "print(1-V_exp)\n",
    "print(np.where(V_exp<0.6))\n",
    "print(1-np.mean(V_exp))\n"
   ]
  },
  {
   "cell_type": "markdown",
   "id": "df5f27b4",
   "metadata": {},
   "source": [
    "#### Récapitulatif des résultats pour différentes configurations"
   ]
  },
  {
   "cell_type": "markdown",
   "id": "1d3497bd",
   "metadata": {},
   "source": [
    "\n",
    "<table>\n",
    "<caption style=\"caption-side:bottom\">Tableau des résultats</caption>\n",
    "<tr>\n",
    "<th>Configuration</th>\n",
    "<th>Batch</th>\n",
    "<th>Epoch</th>\n",
    "<th>KL</th>\n",
    "<th>MRE Day 1</th>\n",
    "<th>MRE Day 2</th>\n",
    "<th>MRE Day 3</th>\n",
    "<th>Variance expliquée Day 1</th>\n",
    "<th>Variance expliquée Day 2</th>\n",
    "<th>Variance expliquée Day 3</th>\n",
    "</tr>\n",
    "<tr>\n",
    "<td>1</td>\n",
    "<td>96</td>\n",
    "<td>31</td>    \n",
    "<td>YES</td>\n",
    "<td>10,3%</td>\n",
    "<td>16,9%</td>\n",
    "<td>21,1%</td>\n",
    "<td>28,8%</td>\n",
    "<td>23,5%</td>\n",
    "<td>22,6%</td>\n",
    "</tr>\n",
    "<tr>\n",
    "<td>2</td>\n",
    "<td>96</td>\n",
    "<td>33</td> \n",
    "<td>NO</td>\n",
    "<td>12,0%</td>\n",
    "<td>18,0%</td>\n",
    "<td>22,2%</td>\n",
    "<td>25,4%</td>\n",
    "<td>23,9%</td>\n",
    "<td>22,8%</td>\n",
    "</tr>\n",
    "</table>"
   ]
  },
  {
   "cell_type": "markdown",
   "id": "9a8e6695",
   "metadata": {},
   "source": [
    "# Critère KL pour les extrêmes"
   ]
  },
  {
   "cell_type": "code",
   "execution_count": 18,
   "id": "6361f561",
   "metadata": {},
   "outputs": [
    {
     "name": "stdout",
     "output_type": "stream",
     "text": [
      "76.10655561134253\n",
      "339.9526694960497\n",
      "6\n",
      "38\n"
     ]
    }
   ],
   "source": [
    "X1= t.rvs(2.5, size=10000)\n",
    "print(max(X1))\n",
    "Y1=t.rvs(1.5, size=10000)\n",
    "print(max(Y1))\n",
    "print(np.sum(X1>20))\n",
    "print(np.sum(Y1>20))"
   ]
  },
  {
   "cell_type": "code",
   "execution_count": 14,
   "id": "3c2c67f1",
   "metadata": {},
   "outputs": [
    {
     "ename": "NameError",
     "evalue": "name 'Y1' is not defined",
     "output_type": "error",
     "traceback": [
      "\u001b[0;31m---------------------------------------------------------------------------\u001b[0m",
      "\u001b[0;31mNameError\u001b[0m                                 Traceback (most recent call last)",
      "\u001b[0;32m<ipython-input-14-503fb8332025>\u001b[0m in \u001b[0;36m<module>\u001b[0;34m\u001b[0m\n\u001b[1;32m      1\u001b[0m \u001b[0;32mfrom\u001b[0m \u001b[0mstatsmodels\u001b[0m\u001b[0;34m.\u001b[0m\u001b[0mdistributions\u001b[0m\u001b[0;34m.\u001b[0m\u001b[0mempirical_distribution\u001b[0m \u001b[0;32mimport\u001b[0m \u001b[0mECDF\u001b[0m\u001b[0;34m\u001b[0m\u001b[0;34m\u001b[0m\u001b[0m\n\u001b[0;32m----> 2\u001b[0;31m \u001b[0ml\u001b[0m\u001b[0;34m=\u001b[0m\u001b[0mlen\u001b[0m\u001b[0;34m(\u001b[0m\u001b[0mY1\u001b[0m\u001b[0;34m)\u001b[0m\u001b[0;34m\u001b[0m\u001b[0;34m\u001b[0m\u001b[0m\n\u001b[0m\u001b[1;32m      3\u001b[0m \u001b[0mecdf\u001b[0m \u001b[0;34m=\u001b[0m \u001b[0mECDF\u001b[0m\u001b[0;34m(\u001b[0m\u001b[0mY1\u001b[0m\u001b[0;34m)\u001b[0m\u001b[0;34m\u001b[0m\u001b[0;34m\u001b[0m\u001b[0m\n\u001b[1;32m      4\u001b[0m \u001b[0;32mdef\u001b[0m \u001b[0mG_bar\u001b[0m\u001b[0;34m(\u001b[0m\u001b[0mx\u001b[0m\u001b[0;34m)\u001b[0m\u001b[0;34m:\u001b[0m\u001b[0;34m\u001b[0m\u001b[0;34m\u001b[0m\u001b[0m\n\u001b[1;32m      5\u001b[0m     \u001b[0;32mreturn\u001b[0m\u001b[0;34m(\u001b[0m\u001b[0;36m1\u001b[0m\u001b[0;34m-\u001b[0m\u001b[0mecdf\u001b[0m\u001b[0;34m(\u001b[0m\u001b[0mx\u001b[0m\u001b[0;34m)\u001b[0m\u001b[0;34m)\u001b[0m\u001b[0;34m\u001b[0m\u001b[0;34m\u001b[0m\u001b[0m\n",
      "\u001b[0;31mNameError\u001b[0m: name 'Y1' is not defined"
     ]
    }
   ],
   "source": [
    "from statsmodels.distributions.empirical_distribution import ECDF\n",
    "l=len(Y1)\n",
    "ecdf = ECDF(Y1)\n",
    "def G_bar(x):\n",
    "    return(1-ecdf(x))\n",
    "print(np.where(Y1>1))\n",
    "\n",
    "def L_hat_opti(u,Y,X):\n",
    "    Ind = np.where(X>u)\n",
    "    ecdf = ECDF(Y)\n",
    "    l=len(Y)\n",
    "    def G_thilde_opti(x):\n",
    "        return(l/(l+1)*(1-ecdf(x))+1/(l+1))\n",
    "    G_u= G_thilde_opti(u)\n",
    "    A = np.log(G_thilde_opti(X[Ind])/G_u)\n",
    "    res=np.sum(A)/len(Ind[0])+1\n",
    "    return(res)\n",
    "\n",
    "\n",
    "print(L_hat_opti(3,X1,Y1))    \n",
    "x= np.linspace(-10,10,1000)\n",
    "l=len(Y1)\n",
    "plt.plot(x,l*G_bar(x)/(l+1)+1/(l+1))\n"
   ]
  },
  {
   "cell_type": "code",
   "execution_count": 20,
   "id": "c8eb4355",
   "metadata": {},
   "outputs": [
    {
     "name": "stdout",
     "output_type": "stream",
     "text": [
      "0.07129287071292867\n",
      "-0.008999427304635876\n",
      "0.07415254524426362\n",
      "0.07415254524427428\n"
     ]
    }
   ],
   "source": [
    "# Critère non-paramétrique de KL pour les extrêmes\n",
    "\n",
    "\n",
    "def G_thilde(u,Y):\n",
    "    l=len(Y)\n",
    "    return (1-np.sum(Y<=u)/(l+1))\n",
    "\n",
    "def L_hat(u,Y,X):\n",
    "    Nn = np.sum(X>u)\n",
    "    res=0\n",
    "    count=0\n",
    "    for k in X:\n",
    "        res+=(1/Nn)*np.log(G_thilde(max(k,u),Y)/G_thilde(u,Y)) \n",
    "        count+=1\n",
    "    return(1+res)\n",
    "                         \n",
    "\n",
    "def K_hat(u,Y,X):\n",
    "    return(-L_hat(u,Y,X)-L_hat(u,X,Y))\n",
    "\n",
    "\n",
    "print(G_thilde(3,Y1))\n",
    "print(K_hat(3,Y1,Y1))\n",
    "#print(L_hat(3,X1,Y1))\n",
    "print(K_hat(3,X1,Y1))\n",
    "\n",
    "\n",
    "#Accélération du calcul de KL\n",
    "\n",
    "\n",
    "def L_hat_opti(u,Y,X):\n",
    "    Ind = np.where(X>u)\n",
    "    if len(Ind[0])==0 :\n",
    "        return(1)\n",
    "    else : \n",
    "        ecdf = ECDF(Y)\n",
    "        l=len(Y)\n",
    "        def G_thilde_opti(x):\n",
    "            return(l/(l+1)*(1-ecdf(x))+1/(l+1))\n",
    "        G_u= G_thilde_opti(u)\n",
    "        M= X[Ind]\n",
    "        B= G_thilde_opti(M)/G_u\n",
    "        A = np.log(B)\n",
    "        res=np.sum(A)/len(Ind[0])+1 \n",
    "        return(res)\n",
    "\n",
    "\n",
    "def K_hat(u,Y,X):\n",
    "    return(-L_hat_opti(u,Y,X)-L_hat_opti(u,X,Y))\n",
    "\n",
    "\n",
    "def K_hat_tensor(seuil,X,Y):\n",
    "    n=X.shape[0]\n",
    "    res=0\n",
    "    for i in range(n):\n",
    "        resi=K_hat(seuil[i],X[i,:],Y[i,:])\n",
    "        res+=resi\n",
    "    return(res)\n",
    "\n",
    "print(K_hat(3,X1,Y1))"
   ]
  },
  {
   "cell_type": "code",
   "execution_count": 21,
   "id": "a9177b21",
   "metadata": {},
   "outputs": [
    {
     "name": "stdout",
     "output_type": "stream",
     "text": [
      "<class 'numpy.ma.core.MaskedArray'>\n",
      "[2220, 1020.0, 764.0, 744.0, 577.0, 535.0, 511.0, 329.0, 279.0, 218.0, 92.3, 45.0, 1240.0, 257.0, 250.0, 116.0, 81.5, 46.7, 35.3, 179.0, 130.0, 123.0, 96.5, 78.6, 69.0, 62.1, 47.6, 81.8, 74.4, 449.0, 427.0]\n",
      "(874, 31)\n",
      "(874, 31)\n",
      "[-0.02302401030486989, -0.0011063611087537284, -0.006609804268191244, -0.030246616579434615, -0.03657022310719038, -0.040039277587762934, -0.04135282754173797, -0.03947795005021848, -0.03758104944050278, -0.04326846037196208, -0.03312913958199726, -0.016383330297038312, -0.035467575385533245, -0.0462578517292106, -0.03318766994179834, -0.03698594410543088, -0.03233078772320508, -0.038959383609184384, -0.004603830335234593, -0.029650819274470108, -0.02160398936044461, -0.020537667373162205, -0.041435575239237576, -0.044297525758162815, -0.007779320066971129, -0.005027193633677762, 0.008491503784190724, -0.022764947285003, -0.023222039517982074, -0.030284842125884004, -0.022314618500957617]\n",
      "[-0.033825426421304705, 0.01610143201305403, -0.010589236110415623, -0.01860102801531527, -0.03501811646296371, -0.03956187345046425, -0.04239405428200149, -0.022512440648447707, -0.02576902767371414, -0.041528645018943156, -0.023397600233345806, -0.008489362132820366, -0.02678647149177238, -0.04304897375681083, -0.04366666979995282, -0.03439350048602352, -0.036792662704641654, -0.019403771363865396, 0.01156366754420135, -0.01691636851888867, -0.024496958793433943, -0.01173154748874472, -0.034312707696257716, -0.04623091355079312, -0.0246031148409368, -0.0021967927970595325, -0.004620251967653144, -0.03523844177150037, -0.033201767074909405, -0.03492343964765343, -0.022065299300480845]\n"
     ]
    }
   ],
   "source": [
    "print(type(debit_gt[:]))\n",
    "seuil_10 = [2220,  1020. ,  764.,   744. ,  577. ,  535.,   511.,   329.,   279. ,  218.,\n",
    "   92.3 ,  45.,  1240.,   257. ,  250.,   116. ,   81.5,   46.7,   35.3,  179.,\n",
    "  130.,   123.,    96.5,   78.6 ,  69.,    62.1,   47.6 ,  81.8,   74.4 , 449.,\n",
    "  427. ]\n",
    "print(seuil_10)\n",
    "gt = debit_gt[:,:,Day]\n",
    "print(gt.shape)\n",
    "print(debit_rec_true.shape)\n",
    "debit_rec_true_noKL = debit_rec_noKL[:,:,Day]\n",
    "L_rec=[]\n",
    "L_pers=[]\n",
    "for k in range(31):\n",
    "    L_rec.append(K_hat(seuil_10[k],gt[:,k],debit_rec_true[:,k])-min(K_hat(seuil_10[k],gt[:,k],gt[:,k]),K_hat(seuil_10[k],debit_rec_true[:,k],debit_rec_true[:,k])))\n",
    "    #print(K_hat(seuil_10[k],gt[:,k],debit_rec_true[:,k]))\n",
    "    #print(K_hat(seuil_10[k],gt[:,k],gt[:,k]))\n",
    "    #print(K_hat(seuil_10[k],debit_rec_true[:,k],debit_rec_true[:,k]))\n",
    "    L_pers.append(K_hat(seuil_10[k],gt[:,k],debit_rec_true_noKL[:,k])-min(K_hat(seuil_10[k],gt[:,k],gt[:,k]),K_hat(seuil_10[k],debit_rec_true_noKL[:,k],debit_rec_true_noKL[:,k])))\n",
    "print(L_rec)\n",
    "print(L_pers)\n"
   ]
  },
  {
   "cell_type": "markdown",
   "id": "6540b21c",
   "metadata": {},
   "source": [
    "### Paramètre de forme pour chaque station"
   ]
  },
  {
   "cell_type": "code",
   "execution_count": 28,
   "id": "ac68c328",
   "metadata": {
    "scrolled": true
   },
   "outputs": [
    {
     "name": "stderr",
     "output_type": "stream",
     "text": [
      "R[write to console]: Installing package into ‘/home/VM-Nicolas-Lafon/R/x86_64-pc-linux-gnu-library/4.1’\n",
      "(as ‘lib’ is unspecified)\n",
      "\n",
      "R[write to console]: trying URL 'https://cloud.r-project.org/src/contrib/POT_1.1-7.tar.gz'\n",
      "\n",
      "R[write to console]: Content type 'application/x-gzip'\n",
      "R[write to console]:  length 1028906 bytes (1004 KB)\n",
      "\n",
      "R[write to console]: =\n",
      "R[write to console]: =\n",
      "R[write to console]: =\n",
      "R[write to console]: =\n",
      "R[write to console]: =\n",
      "R[write to console]: =\n",
      "R[write to console]: =\n",
      "R[write to console]: =\n",
      "R[write to console]: =\n",
      "R[write to console]: =\n",
      "R[write to console]: =\n",
      "R[write to console]: =\n",
      "R[write to console]: =\n",
      "R[write to console]: =\n",
      "R[write to console]: =\n",
      "R[write to console]: =\n",
      "R[write to console]: =\n",
      "R[write to console]: =\n",
      "R[write to console]: =\n",
      "R[write to console]: =\n",
      "R[write to console]: =\n",
      "R[write to console]: =\n",
      "R[write to console]: =\n",
      "R[write to console]: =\n",
      "R[write to console]: =\n",
      "R[write to console]: =\n",
      "R[write to console]: =\n",
      "R[write to console]: =\n",
      "R[write to console]: =\n",
      "R[write to console]: =\n",
      "R[write to console]: =\n",
      "R[write to console]: =\n",
      "R[write to console]: =\n",
      "R[write to console]: =\n",
      "R[write to console]: =\n",
      "R[write to console]: =\n",
      "R[write to console]: =\n",
      "R[write to console]: =\n",
      "R[write to console]: =\n",
      "R[write to console]: =\n",
      "R[write to console]: =\n",
      "R[write to console]: =\n",
      "R[write to console]: =\n",
      "R[write to console]: =\n",
      "R[write to console]: =\n",
      "R[write to console]: =\n",
      "R[write to console]: =\n",
      "R[write to console]: =\n",
      "R[write to console]: =\n",
      "R[write to console]: =\n",
      "R[write to console]: \n",
      "\n",
      "R[write to console]: downloaded 1004 KB\n",
      "\n",
      "\n",
      "R[write to console]: \n",
      "\n",
      "R[write to console]: \n",
      "R[write to console]: The downloaded source packages are in\n",
      "\t‘/tmp/RtmpmJgZjH/downloaded_packages’\n",
      "R[write to console]: \n",
      "R[write to console]: \n",
      "\n"
     ]
    },
    {
     "data": {
      "text/plain": [
       "<rpy2.rinterface_lib.sexp.NULLType object at 0x7f8e64a127c0> [RTYPES.NILSXP]"
      ]
     },
     "execution_count": 28,
     "metadata": {},
     "output_type": "execute_result"
    }
   ],
   "source": [
    "from rpy2.robjects.packages import importr\n",
    "import rpy2.robjects.packages as rpackages\n",
    "\n",
    "base = importr('base')\n",
    "utils = importr('utils')\n",
    "utils.chooseCRANmirror(ind=1)\n",
    "utils.install_packages('POT') #installing POT package"
   ]
  },
  {
   "cell_type": "code",
   "execution_count": 29,
   "id": "d8a849b9",
   "metadata": {},
   "outputs": [],
   "source": [
    "from thresholdmodeling import thresh_modeling as t#importing package\n",
    "    \n",
    "    "
   ]
  },
  {
   "cell_type": "markdown",
   "id": "22569304",
   "metadata": {},
   "source": [
    "<table>\n",
    "<caption style=\"caption-side:bottom\">Paramètre de forme par station, seuil à 10%</caption>\n",
    "<tr>\n",
    "<th>Station</th>\n",
    "<th>1</th>\n",
    "<th>2</th>\n",
    "<th>3</th>\n",
    "<th>4</th>\n",
    "<th>5</th>\n",
    "<th>6</th>\n",
    "<th>7</th>\n",
    "<th>8</th>\n",
    "<th>9</th>\n",
    "<th>10</th>\n",
    "<th>11</th>\n",
    "<th>12</th>\n",
    "<th>13</th>\n",
    "<th>14</th>\n",
    "<th>15</th>\n",
    "<th>16</th>\n",
    "<th>17</th>\n",
    "<th>18</th>\n",
    "<th>19</th>\n",
    "<th>20</th>\n",
    "<th>21</th>\n",
    "<th>22</th>\n",
    "<th>23</th>\n",
    "<th>24</th>\n",
    "<th>25</th>\n",
    "<th>26</th>\n",
    "<th>27</th>\n",
    "<th>28</th>\n",
    "<th>29</th>\n",
    "<th>30</th>\n",
    "<th>31</th>\n",
    "</tr>\n",
    "<tr>\n",
    "<th>Shape</th>\n",
    "<th>0.061</th>\n",
    "<th>0.052</th>\n",
    "<th>0.083</th>\n",
    "<th>0.073</th>\n",
    "<th>0.062</th>\n",
    "<th>0.092</th>\n",
    "<th>0.086</th>\n",
    "<th>0.055</th>\n",
    "<th>0.052</th>\n",
    "<th>0.050</th>\n",
    "<th>0.20</th>\n",
    "<th>0.15</th>\n",
    "<th>0.15</th>\n",
    "<th>0.18</th>\n",
    "<th>0.22</th>\n",
    "<th>0.21</th>\n",
    "<th>0.24</th>\n",
    "<th>0.28</th>\n",
    "<th>0.29</th>\n",
    "<th>0.34</th>\n",
    "<th>0.23</th>\n",
    "<th>0.21</th>\n",
    "<th>0.14</th>\n",
    "<th>0.14</th>\n",
    "<th>0.25</th>\n",
    "<th>0.26</th>\n",
    "<th>0.28</th>\n",
    "<th>0.22</th>\n",
    "<th>0.24</th>\n",
    "<th>0.18</th>\n",
    "<th>0.18</th>\n",
    "</tr>\n",
    "<tr>\n",
    "<th>Standard Error</th>\n",
    "<th>0.035</th>\n",
    "<th>0.027</th>\n",
    "<th>0.028</th>\n",
    "<th>0.027</th>\n",
    "<th>0.026</th>\n",
    "<th>0.027</th>\n",
    "<th>0.026</th>\n",
    "<th>0.027</th>\n",
    "<th>0.026</th>\n",
    "<th>0.026</th>\n",
    "<th>0.028</th>\n",
    "<th>0.024</th>\n",
    "<th>0.027</th>\n",
    "<th>0.027</th>\n",
    "<th>0.027</th>\n",
    "<th>0.028</th>\n",
    "<th>0.030</th>\n",
    "<th>0.032</th>\n",
    "<th>0.030</th>\n",
    "<th>0.032</th>\n",
    "<th>0.028</th>\n",
    "<th>0.028</th>\n",
    "<th>0.027</th>\n",
    "<th>0.026</th>\n",
    "<th>0.032</th>\n",
    "<th>0.031</th>\n",
    "<th>0.031</th>\n",
    "<th>0.028</th>\n",
    "<th>0.028</th>\n",
    "<th>0.027</th>\n",
    "<th>0.027</th>\n",
    "</tr>\n",
    "</table>"
   ]
  },
  {
   "cell_type": "markdown",
   "id": "8eed188b",
   "metadata": {},
   "source": [
    "'nan'\n"
   ]
  },
  {
   "cell_type": "markdown",
   "id": "c8d6d529",
   "metadata": {},
   "source": [
    "## Distribution suivie par les erreurs"
   ]
  },
  {
   "cell_type": "code",
   "execution_count": 42,
   "id": "8a2bb15d",
   "metadata": {},
   "outputs": [
    {
     "data": {
      "text/plain": [
       "[<matplotlib.lines.Line2D at 0x7f1600e85d60>]"
      ]
     },
     "execution_count": 42,
     "metadata": {},
     "output_type": "execute_result"
    },
    {
     "data": {
      "image/png": "[encoded data removed]",
      "text/plain": [
       "<Figure size 432x288 with 1 Axes>"
      ]
     },
     "metadata": {},
     "output_type": "display_data"
    }
   ],
   "source": [
    "station =0\n",
    "Day = 9\n",
    "diff = debit_gt[:,station,Day]-debit_rec[:,station,Day]\n",
    "ind_plus = np.where(diff>0)\n",
    "ind_moins = np.where(diff<0)\n",
    "\n",
    "\n",
    "plt.plot(np.abs(diff[ind_moins]))"
   ]
  },
  {
   "cell_type": "code",
   "execution_count": 12,
   "id": "ce8e21f6",
   "metadata": {},
   "outputs": [],
   "source": [
    "from thresholdmodeling import thresh_modeling as t#importing package"
   ]
  },
  {
   "cell_type": "code",
   "execution_count": 22,
   "id": "f945b920",
   "metadata": {},
   "outputs": [
    {
     "name": "stdout",
     "output_type": "stream",
     "text": [
      "<statsmodels.distributions.empirical_distribution.ECDF object at 0x7f160113abb0>\n"
     ]
    },
    {
     "data": {
      "text/plain": [
       "[<matplotlib.lines.Line2D at 0x7f1601102490>]"
      ]
     },
     "execution_count": 22,
     "metadata": {},
     "output_type": "execute_result"
    },
    {
     "data": {
      "image/png": "[encoded data removed]",
      "text/plain": [
       "<Figure size 432x288 with 1 Axes>"
      ]
     },
     "metadata": {},
     "output_type": "display_data"
    }
   ],
   "source": [
    "ecdf = ECDF(diff[ind_plus])\n",
    "print(ECDF(diff[ind_plus]))\n",
    "x=np.linspace(0,700,100)\n",
    "plt.plot(ecdf(x),)"
   ]
  },
  {
   "cell_type": "code",
   "execution_count": 50,
   "id": "c1b3c07a",
   "metadata": {},
   "outputs": [
    {
     "name": "stdout",
     "output_type": "stream",
     "text": [
      "Estimator: MLE \n",
      " Deviance: 1485.078 \n",
      "      AIC: 1489.078 \n",
      "\n",
      "Varying Threshold: FALSE \n",
      "\n",
      "  Threshold Call: 100L \n",
      "    Number Above: 137 \n",
      "Proportion Above: 0.259 \n",
      "\n",
      "Estimates\n",
      " scale   shape  \n",
      "54.323   0.426  \n",
      "\n",
      "Standard Error Type: observed \n",
      "\n",
      "Standard Errors\n",
      " scale   shape  \n",
      "8.2504  0.1306  \n",
      "\n",
      "Asymptotic Variance Covariance\n",
      "       scale     shape   \n",
      "scale  68.06888  -0.68598\n",
      "shape  -0.68598   0.01705\n",
      "\n",
      "Optimization Information\n",
      "  Convergence: successful \n",
      "  Function Evaluations: 62 \n",
      "  Gradient Evaluations: 32 \n",
      "\n",
      "\n"
     ]
    },
    {
     "data": {
      "text/plain": [
       "(0.42602639242528473,\n",
       " 54.32287654165066,\n",
       " masked_array(data=[0.08688974992060139, 0.5997813942580024,\n",
       "                    0.6673114869477104, 1.3776852966370825,\n",
       "                    1.4599731864113892, 1.8690039878401876,\n",
       "                    2.6511359001844994, 2.7044539105236254,\n",
       "                    2.8390823649546064, 2.922419862537936,\n",
       "                    2.9611066560603376, 2.985498324750097,\n",
       "                    3.0691874250580895, 3.1775651852183273,\n",
       "                    3.2392821566886596, 3.4082008748637236,\n",
       "                    3.536408738799537, 3.6650636495660365,\n",
       "                    3.9161317210775906, 4.160651939268064,\n",
       "                    4.257343756094997, 4.323303156198563,\n",
       "                    4.413727112586457, 4.902573186030736, 5.13360632750846,\n",
       "                    5.202460579440867, 5.212455379899666, 5.3835266964943,\n",
       "                    5.509419360287438, 5.8264263173166455,\n",
       "                    5.866424091564568, 6.210892959302441,\n",
       "                    6.380474913644093, 6.779218068680052,\n",
       "                    6.908453981652201, 7.381351688536142,\n",
       "                    7.393446092893555, 7.523549646280571, 7.77265631491332,\n",
       "                    8.226526897379472, 8.32749340557666, 8.54800794872449,\n",
       "                    8.78067121251729, 8.785753824221274, 8.826402680786941,\n",
       "                    8.863998026706327, 8.894963391122019,\n",
       "                    9.276411849303827, 9.284067714776143,\n",
       "                    9.584953374014049, 9.67512886804343,\n",
       "                    10.032906605255448, 10.166652636100139,\n",
       "                    11.033019000420154, 11.064162681059997,\n",
       "                    11.080628888695173, 11.38137821808914,\n",
       "                    11.480897844472793, 11.50145506249828,\n",
       "                    11.581070602896489, 11.586670263467,\n",
       "                    11.633552810340916, 11.882416372136731,\n",
       "                    11.899088358316476, 11.993841578266483,\n",
       "                    12.456701392692139, 12.938856510576443,\n",
       "                    12.953199477783528, 13.02509834547709,\n",
       "                    13.115978105177419, 13.213768384082414,\n",
       "                    13.307445741375204, 13.50821819367684,\n",
       "                    13.651142884136789, 13.707804860606984,\n",
       "                    13.708098931762379, 14.36592093092304,\n",
       "                    14.54162777866145, 14.56741429826593,\n",
       "                    14.678508787838382, 15.245971515777455,\n",
       "                    15.621913670504, 15.825897041833514, 16.0051116815971,\n",
       "                    16.193683054401163, 16.8978487425602,\n",
       "                    17.22708065590018, 17.26511825674868,\n",
       "                    17.33870290007303, 17.339916519732697,\n",
       "                    17.55615637151027, 17.648768188575787,\n",
       "                    17.675239220950516, 17.790135193552032,\n",
       "                    17.85826065668698, 18.107843128535023,\n",
       "                    18.411532232125182, 18.45580251315687,\n",
       "                    18.46391977135977, 18.525147531072662,\n",
       "                    18.567993075409504, 18.801602190108724,\n",
       "                    18.832616662209603, 19.044447243295053,\n",
       "                    19.120206264217245, 19.161559956819474,\n",
       "                    19.471116533748045, 19.653806515737415,\n",
       "                    19.74551027477594, 19.83210274275166,\n",
       "                    20.06578464816846, 20.13321285159236,\n",
       "                    20.28040537830725, 20.56116799129086,\n",
       "                    20.69542953131895, 20.78639033348827,\n",
       "                    20.867562578689558, 21.153589952829748,\n",
       "                    21.331536011742628, 22.259029984258177,\n",
       "                    22.34753821081665, 22.350735366751678,\n",
       "                    22.39364543656302, 22.925133902633434,\n",
       "                    22.958051109183543, 23.536201206193596,\n",
       "                    23.55053483875622, 23.776689990695104,\n",
       "                    24.06621666764613, 24.070102619651152,\n",
       "                    24.14149064227695, 24.162195341666916,\n",
       "                    24.37880262640192, 24.481297585951552,\n",
       "                    24.514452257722724, 24.77448318779375,\n",
       "                    24.991294183601667, 25.025209693248144,\n",
       "                    25.14587611513025, 25.170254756659233,\n",
       "                    25.470438634731636, 25.582090690147425,\n",
       "                    25.77393792415546, 26.096347823868655,\n",
       "                    26.256742245717305, 26.733229461083965,\n",
       "                    27.016691954606586, 27.416627107714476,\n",
       "                    27.454249794914176, 27.67371766375163,\n",
       "                    27.761976880643942, 28.20394868843755,\n",
       "                    28.462980140232048, 28.892532717498852,\n",
       "                    28.920448192965978, 29.49528115829321,\n",
       "                    29.916037629260813, 29.916268632290894,\n",
       "                    30.37499803027663, 30.444270089599627,\n",
       "                    30.674545752249742, 30.897679655560864,\n",
       "                    30.95598671003654, 31.096223956308222,\n",
       "                    31.158872054789867, 31.177604477692057,\n",
       "                    32.506113461408404, 32.63433558498457,\n",
       "                    32.704856792414375, 33.013751639848806,\n",
       "                    33.07286071288024, 33.37216785653618,\n",
       "                    33.49285358676252, 33.56302485429296,\n",
       "                    33.63668878281828, 33.96277652161223,\n",
       "                    34.28608375266208, 34.47698527134662,\n",
       "                    34.80889507805614, 34.960508924970554,\n",
       "                    34.99774978398955, 35.60137172047416,\n",
       "                    35.66620542404871, 35.947386976639564,\n",
       "                    36.32153711432716, 36.32167437975886,\n",
       "                    36.36732965247916, 36.63898820315649,\n",
       "                    36.683859692877604, 36.89820426372182,\n",
       "                    37.11475876405552, 37.15639594593972,\n",
       "                    37.74639761981916, 38.2436320792674,\n",
       "                    38.440784565170816, 38.87935678829808,\n",
       "                    39.253407819374274, 39.598738678833115,\n",
       "                    39.690763827967885, 39.80448216542857,\n",
       "                    39.87058895532823, 39.91588409599308,\n",
       "                    40.61632131503461, 40.749289578624484,\n",
       "                    41.10458305921725, 41.32003801422047,\n",
       "                    41.47407557884026, 41.54464583716765,\n",
       "                    41.84761292933172, 42.385562022306885,\n",
       "                    42.51304340235333, 42.71392190120423,\n",
       "                    42.78890263520759, 43.00465127023847,\n",
       "                    43.22924786038175, 43.303437117227304,\n",
       "                    43.355052211326665, 43.38539776981338,\n",
       "                    43.40138890821652, 43.667387789326995,\n",
       "                    43.67464105258955, 43.68240112749709,\n",
       "                    43.764453379211545, 43.78852779451836,\n",
       "                    43.83474436481606, 43.892694319381576,\n",
       "                    44.803480310195255, 45.30689682872344,\n",
       "                    45.49076514964611, 45.532779187161395,\n",
       "                    45.65524229214668, 46.24378440578175,\n",
       "                    46.30190646779647, 46.347547419831244,\n",
       "                    46.58883251668772, 46.689780399610754,\n",
       "                    46.71368936274871, 46.76145278252193,\n",
       "                    47.14072920102467, 47.58207272929553,\n",
       "                    47.66145258231063, 47.78648433550643,\n",
       "                    48.57923775441941, 48.671867874501004,\n",
       "                    49.02211476232924, 49.19796239783227,\n",
       "                    49.78658391345073, 49.85411915828763,\n",
       "                    49.919443688891306, 50.201504555178985,\n",
       "                    50.239677652855335, 50.283934723410084,\n",
       "                    50.42953987266901, 50.84101258124315,\n",
       "                    50.87290749748763, 51.969668069840054,\n",
       "                    52.0720356647106, 52.229281160227856,\n",
       "                    52.820432291026464, 53.0251406512956,\n",
       "                    53.33302102611128, 54.006419789869256,\n",
       "                    54.91119297329783, 55.096482722628366,\n",
       "                    55.29935261271021, 55.33590337379792,\n",
       "                    55.77061755728528, 55.910546774449585,\n",
       "                    56.44397768768317, 56.80265658556141,\n",
       "                    57.60490210622493, 57.663039010686816,\n",
       "                    57.67370227543415, 58.08782214119174,\n",
       "                    58.14384404846123, 58.280357540909336,\n",
       "                    58.32208584881914, 58.360368277554926,\n",
       "                    58.503040841713755, 58.51746134326754,\n",
       "                    58.62223104951681, 59.8300816560095, 60.04794139039245,\n",
       "                    60.08162673748939, 60.249658547892295,\n",
       "                    60.29555069417938, 60.42505903327424,\n",
       "                    60.63997304661768, 60.85195321557762,\n",
       "                    61.410570574430494, 61.850216567197094,\n",
       "                    62.286215108518945, 63.104277439718544,\n",
       "                    63.13944997122803, 63.19026489096359,\n",
       "                    63.231017117202555, 63.61953259259758,\n",
       "                    63.78461537472458, 64.07125963514613,\n",
       "                    64.57970994268271, 64.64102525925341,\n",
       "                    64.67389191177267, 65.19242872362452,\n",
       "                    65.47257046055961, 65.93706549835451,\n",
       "                    66.75025003310463, 66.82794942130408,\n",
       "                    67.33401291280097, 67.69751825840149,\n",
       "                    67.88558965161769, 67.94948909202685,\n",
       "                    68.15670818629769, 68.38047286640995,\n",
       "                    68.42449061439197, 68.71994203503777,\n",
       "                    69.46998324458127, 69.70461884590759,\n",
       "                    70.42738230026225, 70.65733101569003,\n",
       "                    70.71080245921348, 70.80265532130147,\n",
       "                    71.10279962047309, 71.11656007526312, 71.1552299925961,\n",
       "                    71.29574951608754, 71.30676597118327,\n",
       "                    71.59809745397183, 71.99404409961676,\n",
       "                    72.02456265712613, 72.05685358632195,\n",
       "                    72.50074273141968, 72.84754759036036,\n",
       "                    73.23248859775822, 73.2956221496388, 73.40593406473522,\n",
       "                    73.90267323818262, 73.93883166729324,\n",
       "                    73.93968179087369, 74.33459175275948,\n",
       "                    74.41764986083763, 74.46869218391271,\n",
       "                    74.58037940858094, 74.82322651254049, 75.132649189831,\n",
       "                    75.61443148196804, 75.91791511544784, 76.4907326597579,\n",
       "                    78.07249137822419, 78.14714568002091,\n",
       "                    78.20655444735553, 78.65331253159752,\n",
       "                    78.68964514591403, 79.32585086604377,\n",
       "                    80.69975182795974, 80.96678595748745,\n",
       "                    82.64340304269672, 82.72378038531133,\n",
       "                    83.39533863518682, 83.68025097808368,\n",
       "                    84.21109047758046, 84.5271595490276, 85.01224537088365,\n",
       "                    85.79581643007532, 85.79968384196059,\n",
       "                    85.94851421887915, 86.12878584719965,\n",
       "                    86.45980056892313, 86.51444478894564,\n",
       "                    87.42404769255222, 87.77616107617632,\n",
       "                    88.14131880245418, 88.19758637914265,\n",
       "                    89.11948512379445, 89.76225136395362,\n",
       "                    89.76527803412455, 90.05433182786692,\n",
       "                    90.74460552293453, 91.1273716636249, 93.39236031742894,\n",
       "                    95.29085932586486, 95.46074304552053,\n",
       "                    95.54864965664092, 95.89740104372117,\n",
       "                    96.47037823247865, 96.80028017143832,\n",
       "                    96.81809465933793, 97.2188987898885, 97.81307150506495,\n",
       "                    98.49326462032104, 98.81216056750668,\n",
       "                    99.01871505275176, 99.48082518579895,\n",
       "                    100.06595229841582, 100.09623344002716,\n",
       "                    100.56202169717176, 100.99666478796007,\n",
       "                    101.13988416003053, 102.07209439241615,\n",
       "                    103.16636368302989, 104.12356857240229,\n",
       "                    104.38606571908645, 104.44402869601595,\n",
       "                    104.50094845920376, 104.7984236999232,\n",
       "                    104.8584052467977, 105.05938609098621,\n",
       "                    105.71060286140914, 106.18664673292619,\n",
       "                    106.41207212177392, 106.77626305701051,\n",
       "                    106.80365310905017, 107.50947029054396,\n",
       "                    108.7405095130107, 108.76624209327156,\n",
       "                    109.18557505276613, 109.21514640354098,\n",
       "                    109.63619782020646, 109.64972382135056,\n",
       "                    110.2474912305538, 110.70483631653451,\n",
       "                    111.249482042517, 113.37526128078252,\n",
       "                    113.54628294984877, 113.6426706119637,\n",
       "                    114.4158216779133, 114.91700527604394,\n",
       "                    115.36997505383147, 116.28364147426714,\n",
       "                    118.36447293569381, 118.65484420287567,\n",
       "                    118.73133528825792, 120.53547964376116,\n",
       "                    121.2068856892131, 121.26356381640471,\n",
       "                    121.3098099296003, 121.8586127964345,\n",
       "                    122.46664478304592, 122.54687854744498,\n",
       "                    122.99653888096236, 123.82234795804084,\n",
       "                    124.97399651918681, 125.97836796896445,\n",
       "                    127.94598240562073, 128.35397629757654,\n",
       "                    128.4872630067016, 129.33882285702066,\n",
       "                    129.83660008034076, 130.6045359932641,\n",
       "                    130.65775964913632, 135.60650378025775,\n",
       "                    136.14277407160193, 136.3366294697396,\n",
       "                    138.85177995888125, 139.41523090025316,\n",
       "                    139.70077951603162, 141.48374791946958,\n",
       "                    142.70138420409012, 143.33858241428607,\n",
       "                    143.54707779954606, 143.8373272996505,\n",
       "                    143.9476350915254, 144.29941102877456,\n",
       "                    144.89716133817683, 145.59462202194732,\n",
       "                    146.61445800621232, 146.76596863501618,\n",
       "                    149.57048217433135, 149.8099012953844,\n",
       "                    151.0712624941075, 151.22357686998203,\n",
       "                    152.61234282942314, 153.44102896784148,\n",
       "                    155.33835367856318, 157.4512176996609,\n",
       "                    157.78615590361915, 158.36980700855815,\n",
       "                    158.4266243078564, 160.7671346224215,\n",
       "                    163.38190697999426, 164.53162988108625,\n",
       "                    164.63433786932228, 166.41151485761907,\n",
       "                    171.15130847631258, 171.31109635170014,\n",
       "                    178.36292587609796, 180.9490073167542,\n",
       "                    181.61020471104848, 182.6329363336556,\n",
       "                    183.39805842018905, 189.87701674487198,\n",
       "                    191.55491571048879, 193.5733861166225,\n",
       "                    197.5064348262904, 198.32545229548668,\n",
       "                    202.8329667511839, 203.4196793430974,\n",
       "                    205.87870908775403, 206.1480794015738,\n",
       "                    207.3870200148333, 210.4413055313962,\n",
       "                    228.68607871990753, 233.94998681320953,\n",
       "                    238.78293811244475, 240.05698628097616,\n",
       "                    245.69977235957685, 251.59548690138308,\n",
       "                    252.91244828013782, 258.21084152719027,\n",
       "                    260.0666762062317, 268.92177056729224,\n",
       "                    298.2526226599771, 306.65879085705274,\n",
       "                    331.48249786275846, 346.51891213818226,\n",
       "                    356.66523550929423, 357.56320075806116,\n",
       "                    377.6564643378465, 408.41764763046694,\n",
       "                    413.9567910381443, 420.2447266364279,\n",
       "                    420.5096629026266, 423.03206601117813,\n",
       "                    427.1633184127991, 427.6627555483883,\n",
       "                    479.14127116489135, 518.5766830876057,\n",
       "                    689.1907971709438, 716.3981810565006,\n",
       "                    879.0705381589732],\n",
       "              mask=[False, False, False, False, False, False, False, False,\n",
       "                    False, False, False, False, False, False, False, False,\n",
       "                    False, False, False, False, False, False, False, False,\n",
       "                    False, False, False, False, False, False, False, False,\n",
       "                    False, False, False, False, False, False, False, False,\n",
       "                    False, False, False, False, False, False, False, False,\n",
       "                    False, False, False, False, False, False, False, False,\n",
       "                    False, False, False, False, False, False, False, False,\n",
       "                    False, False, False, False, False, False, False, False,\n",
       "                    False, False, False, False, False, False, False, False,\n",
       "                    False, False, False, False, False, False, False, False,\n",
       "                    False, False, False, False, False, False, False, False,\n",
       "                    False, False, False, False, False, False, False, False,\n",
       "                    False, False, False, False, False, False, False, False,\n",
       "                    False, False, False, False, False, False, False, False,\n",
       "                    False, False, False, False, False, False, False, False,\n",
       "                    False, False, False, False, False, False, False, False,\n",
       "                    False, False, False, False, False, False, False, False,\n",
       "                    False, False, False, False, False, False, False, False,\n",
       "                    False, False, False, False, False, False, False, False,\n",
       "                    False, False, False, False, False, False, False, False,\n",
       "                    False, False, False, False, False, False, False, False,\n",
       "                    False, False, False, False, False, False, False, False,\n",
       "                    False, False, False, False, False, False, False, False,\n",
       "                    False, False, False, False, False, False, False, False,\n",
       "                    False, False, False, False, False, False, False, False,\n",
       "                    False, False, False, False, False, False, False, False,\n",
       "                    False, False, False, False, False, False, False, False,\n",
       "                    False, False, False, False, False, False, False, False,\n",
       "                    False, False, False, False, False, False, False, False,\n",
       "                    False, False, False, False, False, False, False, False,\n",
       "                    False, False, False, False, False, False, False, False,\n",
       "                    False, False, False, False, False, False, False, False,\n",
       "                    False, False, False, False, False, False, False, False,\n",
       "                    False, False, False, False, False, False, False, False,\n",
       "                    False, False, False, False, False, False, False, False,\n",
       "                    False, False, False, False, False, False, False, False,\n",
       "                    False, False, False, False, False, False, False, False,\n",
       "                    False, False, False, False, False, False, False, False,\n",
       "                    False, False, False, False, False, False, False, False,\n",
       "                    False, False, False, False, False, False, False, False,\n",
       "                    False, False, False, False, False, False, False, False,\n",
       "                    False, False, False, False, False, False, False, False,\n",
       "                    False, False, False, False, False, False, False, False,\n",
       "                    False, False, False, False, False, False, False, False,\n",
       "                    False, False, False, False, False, False, False, False,\n",
       "                    False, False, False, False, False, False, False, False,\n",
       "                    False, False, False, False, False, False, False, False,\n",
       "                    False, False, False, False, False, False, False, False,\n",
       "                    False, False, False, False, False, False, False, False,\n",
       "                    False, False, False, False, False, False, False, False,\n",
       "                    False, False, False, False, False, False, False, False,\n",
       "                    False, False, False, False, False, False, False, False,\n",
       "                    False, False, False, False, False, False, False, False,\n",
       "                    False, False, False, False, False, False, False, False,\n",
       "                    False, False, False, False, False, False, False, False,\n",
       "                    False, False, False, False, False, False, False, False,\n",
       "                    False, False, False, False, False, False, False, False,\n",
       "                    False, False, False, False, False, False, False, False,\n",
       "                    False, False, False, False, False, False, False, False,\n",
       "                    False, False, False, False, False, False, False, False,\n",
       "                    False, False, False, False, False, False, False, False,\n",
       "                    False, False, False, False, False, False, False, False,\n",
       "                    False, False, False, False, False, False, False, False,\n",
       "                    False, False, False, False, False, False, False, False,\n",
       "                    False, False, False, False, False, False, False, False,\n",
       "                    False],\n",
       "        fill_value=1e+20),\n",
       " [0.06595229841582295,\n",
       "  0.09623344002716294,\n",
       "  0.5620216971717582,\n",
       "  0.9966647879600714,\n",
       "  1.1398841600305332,\n",
       "  2.0720943924161475,\n",
       "  3.1663636830298856,\n",
       "  4.1235685724022915,\n",
       "  4.386065719086446,\n",
       "  4.444028696015948,\n",
       "  4.500948459203755,\n",
       "  4.798423699923205,\n",
       "  4.858405246797702,\n",
       "  5.059386090986209,\n",
       "  5.710602861409143,\n",
       "  6.186646732926192,\n",
       "  6.412072121773917,\n",
       "  6.77626305701051,\n",
       "  6.803653109050174,\n",
       "  7.509470290543959,\n",
       "  8.740509513010693,\n",
       "  8.766242093271558,\n",
       "  9.185575052766126,\n",
       "  9.215146403540984,\n",
       "  9.636197820206462,\n",
       "  9.649723821350563,\n",
       "  10.247491230553806,\n",
       "  10.70483631653451,\n",
       "  11.249482042517002,\n",
       "  13.375261280782524,\n",
       "  13.546282949848774,\n",
       "  13.642670611963695,\n",
       "  14.4158216779133,\n",
       "  14.917005276043938,\n",
       "  15.369975053831467,\n",
       "  16.283641474267142,\n",
       "  18.36447293569381,\n",
       "  18.654844202875665,\n",
       "  18.731335288257924,\n",
       "  20.535479643761164,\n",
       "  21.206885689213095,\n",
       "  21.263563816404712,\n",
       "  21.309809929600306,\n",
       "  21.8586127964345,\n",
       "  22.466644783045922,\n",
       "  22.546878547444976,\n",
       "  22.996538880962362,\n",
       "  23.822347958040837,\n",
       "  24.973996519186812,\n",
       "  25.97836796896445,\n",
       "  27.945982405620725,\n",
       "  28.353976297576537,\n",
       "  28.487263006701596,\n",
       "  29.33882285702066,\n",
       "  29.83660008034076,\n",
       "  30.604535993264108,\n",
       "  30.657759649136324,\n",
       "  35.60650378025775,\n",
       "  36.142774071601934,\n",
       "  36.33662946973959,\n",
       "  38.85177995888125,\n",
       "  39.415230900253164,\n",
       "  39.700779516031616,\n",
       "  41.48374791946958,\n",
       "  42.70138420409012,\n",
       "  43.338582414286066,\n",
       "  43.54707779954606,\n",
       "  43.8373272996505,\n",
       "  43.9476350915254,\n",
       "  44.29941102877456,\n",
       "  44.89716133817683,\n",
       "  45.594622021947316,\n",
       "  46.61445800621232,\n",
       "  46.76596863501618,\n",
       "  49.570482174331346,\n",
       "  49.80990129538441,\n",
       "  51.071262494107486,\n",
       "  51.223576869982026,\n",
       "  52.61234282942314,\n",
       "  53.441028967841476,\n",
       "  55.33835367856318,\n",
       "  57.4512176996609,\n",
       "  57.78615590361915,\n",
       "  58.369807008558155,\n",
       "  58.4266243078564,\n",
       "  60.76713462242151,\n",
       "  63.381906979994255,\n",
       "  64.53162988108625,\n",
       "  64.63433786932228,\n",
       "  66.41151485761907,\n",
       "  71.15130847631258,\n",
       "  71.31109635170014,\n",
       "  78.36292587609796,\n",
       "  80.9490073167542,\n",
       "  81.61020471104848,\n",
       "  82.6329363336556,\n",
       "  83.39805842018905,\n",
       "  89.87701674487198,\n",
       "  91.55491571048879,\n",
       "  93.57338611662249,\n",
       "  97.50643482629039,\n",
       "  98.32545229548668,\n",
       "  102.8329667511839,\n",
       "  103.41967934309741,\n",
       "  105.87870908775403,\n",
       "  106.1480794015738,\n",
       "  107.3870200148333,\n",
       "  110.44130553139621,\n",
       "  128.68607871990753,\n",
       "  133.94998681320953,\n",
       "  138.78293811244475,\n",
       "  140.05698628097616,\n",
       "  145.69977235957685,\n",
       "  151.59548690138308,\n",
       "  152.91244828013782,\n",
       "  158.21084152719027,\n",
       "  160.0666762062317,\n",
       "  168.92177056729224,\n",
       "  198.25262265997708,\n",
       "  206.65879085705274,\n",
       "  231.48249786275846,\n",
       "  246.51891213818226,\n",
       "  256.66523550929423,\n",
       "  257.56320075806116,\n",
       "  277.6564643378465,\n",
       "  308.41764763046694,\n",
       "  313.9567910381443,\n",
       "  320.2447266364279,\n",
       "  320.5096629026266,\n",
       "  323.03206601117813,\n",
       "  327.1633184127991,\n",
       "  327.6627555483883,\n",
       "  379.14127116489135,\n",
       "  418.5766830876057,\n",
       "  589.1907971709438,\n",
       "  616.3981810565006,\n",
       "  779.0705381589732],\n",
       " [100.06595229841582,\n",
       "  100.09623344002716,\n",
       "  100.56202169717176,\n",
       "  100.99666478796007,\n",
       "  101.13988416003053,\n",
       "  102.07209439241615,\n",
       "  103.16636368302989,\n",
       "  104.12356857240229,\n",
       "  104.38606571908645,\n",
       "  104.44402869601595,\n",
       "  104.50094845920376,\n",
       "  104.7984236999232,\n",
       "  104.8584052467977,\n",
       "  105.05938609098621,\n",
       "  105.71060286140914,\n",
       "  106.18664673292619,\n",
       "  106.41207212177392,\n",
       "  106.77626305701051,\n",
       "  106.80365310905017,\n",
       "  107.50947029054396,\n",
       "  108.7405095130107,\n",
       "  108.76624209327156,\n",
       "  109.18557505276613,\n",
       "  109.21514640354098,\n",
       "  109.63619782020646,\n",
       "  109.64972382135056,\n",
       "  110.2474912305538,\n",
       "  110.70483631653451,\n",
       "  111.249482042517,\n",
       "  113.37526128078252,\n",
       "  113.54628294984877,\n",
       "  113.6426706119637,\n",
       "  114.4158216779133,\n",
       "  114.91700527604394,\n",
       "  115.36997505383147,\n",
       "  116.28364147426714,\n",
       "  118.36447293569381,\n",
       "  118.65484420287567,\n",
       "  118.73133528825792,\n",
       "  120.53547964376116,\n",
       "  121.2068856892131,\n",
       "  121.26356381640471,\n",
       "  121.3098099296003,\n",
       "  121.8586127964345,\n",
       "  122.46664478304592,\n",
       "  122.54687854744498,\n",
       "  122.99653888096236,\n",
       "  123.82234795804084,\n",
       "  124.97399651918681,\n",
       "  125.97836796896445,\n",
       "  127.94598240562073,\n",
       "  128.35397629757654,\n",
       "  128.4872630067016,\n",
       "  129.33882285702066,\n",
       "  129.83660008034076,\n",
       "  130.6045359932641,\n",
       "  130.65775964913632,\n",
       "  135.60650378025775,\n",
       "  136.14277407160193,\n",
       "  136.3366294697396,\n",
       "  138.85177995888125,\n",
       "  139.41523090025316,\n",
       "  139.70077951603162,\n",
       "  141.48374791946958,\n",
       "  142.70138420409012,\n",
       "  143.33858241428607,\n",
       "  143.54707779954606,\n",
       "  143.8373272996505,\n",
       "  143.9476350915254,\n",
       "  144.29941102877456,\n",
       "  144.89716133817683,\n",
       "  145.59462202194732,\n",
       "  146.61445800621232,\n",
       "  146.76596863501618,\n",
       "  149.57048217433135,\n",
       "  149.8099012953844,\n",
       "  151.0712624941075,\n",
       "  151.22357686998203,\n",
       "  152.61234282942314,\n",
       "  153.44102896784148,\n",
       "  155.33835367856318,\n",
       "  157.4512176996609,\n",
       "  157.78615590361915,\n",
       "  158.36980700855815,\n",
       "  158.4266243078564,\n",
       "  160.7671346224215,\n",
       "  163.38190697999426,\n",
       "  164.53162988108625,\n",
       "  164.63433786932228,\n",
       "  166.41151485761907,\n",
       "  171.15130847631258,\n",
       "  171.31109635170014,\n",
       "  178.36292587609796,\n",
       "  180.9490073167542,\n",
       "  181.61020471104848,\n",
       "  182.6329363336556,\n",
       "  183.39805842018905,\n",
       "  189.87701674487198,\n",
       "  191.55491571048879,\n",
       "  193.5733861166225,\n",
       "  197.5064348262904,\n",
       "  198.32545229548668,\n",
       "  202.8329667511839,\n",
       "  203.4196793430974,\n",
       "  205.87870908775403,\n",
       "  206.1480794015738,\n",
       "  207.3870200148333,\n",
       "  210.4413055313962,\n",
       "  228.68607871990753,\n",
       "  233.94998681320953,\n",
       "  238.78293811244475,\n",
       "  240.05698628097616,\n",
       "  245.69977235957685,\n",
       "  251.59548690138308,\n",
       "  252.91244828013782,\n",
       "  258.21084152719027,\n",
       "  260.0666762062317,\n",
       "  268.92177056729224,\n",
       "  298.2526226599771,\n",
       "  306.65879085705274,\n",
       "  331.48249786275846,\n",
       "  346.51891213818226,\n",
       "  356.66523550929423,\n",
       "  357.56320075806116,\n",
       "  377.6564643378465,\n",
       "  408.41764763046694,\n",
       "  413.9567910381443,\n",
       "  420.2447266364279,\n",
       "  420.5096629026266,\n",
       "  423.03206601117813,\n",
       "  427.1633184127991,\n",
       "  427.6627555483883,\n",
       "  479.14127116489135,\n",
       "  518.5766830876057,\n",
       "  689.1907971709438,\n",
       "  716.3981810565006,\n",
       "  879.0705381589732])"
      ]
     },
     "execution_count": 50,
     "metadata": {},
     "output_type": "execute_result"
    }
   ],
   "source": [
    "t.gpdfit(np.abs(diff[ind_moins]),100,'mle')"
   ]
  },
  {
   "cell_type": "code",
   "execution_count": null,
   "id": "53454b18",
   "metadata": {},
   "outputs": [],
   "source": []
  }
 ],
 "metadata": {
  "kernelspec": {
   "display_name": "4dvarnet",
   "language": "python",
   "name": "4dvarnet"
  },
  "language_info": {
   "codemirror_mode": {
    "name": "ipython",
    "version": 3
   },
   "file_extension": ".py",
   "mimetype": "text/x-python",
   "name": "python",
   "nbconvert_exporter": "python",
   "pygments_lexer": "ipython3",
   "version": "3.9.5"
  }
 },
 "nbformat": 4,
 "nbformat_minor": 5
}
