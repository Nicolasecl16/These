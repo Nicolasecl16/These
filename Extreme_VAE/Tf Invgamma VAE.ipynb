{
 "cells": [
  {
   "cell_type": "code",
   "execution_count": 1,
   "metadata": {},
   "outputs": [],
   "source": [
    "import tensorflow as tf\n",
    "import tensorflow_probability as tfp\n",
    "import seaborn as sns\n",
    "import matplotlib.pyplot as plt\n",
    "from datetime import datetime\n",
    "import numpy as np\n",
    "import tensorboard\n",
    "tfk = tf.keras\n",
    "tfkl = tf.keras.layers\n",
    "tfpl = tfp.layers"
   ]
  },
  {
   "cell_type": "code",
   "execution_count": 2,
   "metadata": {},
   "outputs": [
    {
     "name": "stdout",
     "output_type": "stream",
     "text": [
      "WARNING: GPU device not found.\n"
     ]
    },
    {
     "name": "stderr",
     "output_type": "stream",
     "text": [
      "2022-10-03 12:42:44.578332: I tensorflow/core/platform/cpu_feature_guard.cc:193] This TensorFlow binary is optimized with oneAPI Deep Neural Network Library (oneDNN) to use the following CPU instructions in performance-critical operations:  SSE4.1 SSE4.2 AVX AVX2 AVX512F FMA\n",
      "To enable them in other operations, rebuild TensorFlow with the appropriate compiler flags.\n"
     ]
    }
   ],
   "source": [
    "if tf.test.gpu_device_name() != '/device:GPU:0':\n",
    "  print('WARNING: GPU device not found.')\n",
    "else:\n",
    "  print('SUCCESS: Found GPU: {}'.format(tf.test.gpu_device_name()))"
   ]
  },
  {
   "cell_type": "markdown",
   "metadata": {},
   "source": [
    "# 1D generation"
   ]
  },
  {
   "cell_type": "markdown",
   "metadata": {},
   "source": [
    "## Experiment 1\n",
    "We generate from a multiplicative Y = AX.  \n",
    "A is a gamma distribution with alpha = 3, beta = 0.5  \n",
    "X is a inverse gamma distribution with alpha = 2.5, beta = 0.6  \n",
    "The prior is InvGamma with alpha=3, beta=1   \n",
    "The posterior is InvGamma with alpha = 3, beta learnable function of samples y  \n",
    "The likelihood is a gamma distribution with alpha = 3 , beta learnable function of samples y  "
   ]
  },
  {
   "cell_type": "code",
   "execution_count": 4,
   "metadata": {},
   "outputs": [],
   "source": [
    "tfd = tfp.distributions\n",
    "encoded_size = 1\n",
    "input_shape =(1,)\n",
    "nbparamsl = 2\n",
    "nbparamsobs = 2\n"
   ]
  },
  {
   "cell_type": "code",
   "execution_count": 5,
   "metadata": {},
   "outputs": [
    {
     "name": "stderr",
     "output_type": "stream",
     "text": [
      "2022-10-03 12:43:08.774788: I tensorflow/core/common_runtime/process_util.cc:146] Creating new thread pool with default inter op setting: 2. Tune using inter_op_parallelism_threads for best performance.\n"
     ]
    },
    {
     "name": "stdout",
     "output_type": "stream",
     "text": [
      "tf.Tensor(\n",
      "[[ 1.6723001 ]\n",
      " [ 0.30975646]\n",
      " [ 0.75991964]\n",
      " [ 1.7407728 ]\n",
      " [ 3.2403271 ]\n",
      " [ 1.4881463 ]\n",
      " [ 0.4217397 ]\n",
      " [ 0.302513  ]\n",
      " [ 3.146786  ]\n",
      " [ 3.0723789 ]\n",
      " [ 0.33614045]\n",
      " [ 2.5956914 ]\n",
      " [ 0.7009811 ]\n",
      " [ 2.1156113 ]\n",
      " [ 0.22034013]\n",
      " [ 1.6904477 ]\n",
      " [ 5.46438   ]\n",
      " [ 1.3919952 ]\n",
      " [ 0.5263376 ]\n",
      " [ 3.5323048 ]\n",
      " [ 2.1864624 ]\n",
      " [ 1.6459337 ]\n",
      " [ 0.46054426]\n",
      " [ 0.26688042]\n",
      " [ 9.481236  ]\n",
      " [ 7.642795  ]\n",
      " [ 0.16355075]\n",
      " [ 2.273376  ]\n",
      " [ 0.3064295 ]\n",
      " [ 4.5831513 ]\n",
      " [15.505759  ]\n",
      " [ 0.48646447]\n",
      " [ 0.54466045]\n",
      " [ 2.583576  ]\n",
      " [ 2.2547414 ]\n",
      " [ 2.7617986 ]\n",
      " [ 1.3531766 ]\n",
      " [ 3.8692677 ]\n",
      " [ 0.42213932]\n",
      " [ 0.7950214 ]\n",
      " [ 1.3098423 ]\n",
      " [ 1.9842157 ]\n",
      " [ 6.3772173 ]\n",
      " [ 0.68313587]\n",
      " [ 1.2525085 ]\n",
      " [ 2.5960195 ]\n",
      " [ 0.9025676 ]\n",
      " [ 2.519099  ]\n",
      " [ 1.4924542 ]\n",
      " [ 0.8870901 ]\n",
      " [ 1.6473445 ]\n",
      " [ 1.6923214 ]\n",
      " [ 1.1583532 ]\n",
      " [ 0.7909823 ]\n",
      " [ 0.92879695]\n",
      " [ 6.1981497 ]\n",
      " [ 1.5618217 ]\n",
      " [ 2.1263409 ]\n",
      " [ 2.3679414 ]\n",
      " [ 1.5631142 ]\n",
      " [ 1.7689413 ]\n",
      " [ 0.82435423]\n",
      " [10.503824  ]\n",
      " [ 2.485923  ]\n",
      " [ 0.48734164]\n",
      " [ 0.637299  ]\n",
      " [ 0.46335113]\n",
      " [ 1.3699805 ]\n",
      " [ 0.2670795 ]\n",
      " [ 5.7700405 ]\n",
      " [ 1.2419258 ]\n",
      " [ 1.5653737 ]\n",
      " [ 0.584577  ]\n",
      " [ 1.4491262 ]\n",
      " [ 5.0584483 ]\n",
      " [ 0.41240588]\n",
      " [ 1.060925  ]\n",
      " [ 2.3161006 ]\n",
      " [ 0.3446308 ]\n",
      " [ 0.64584076]\n",
      " [11.762362  ]\n",
      " [ 1.3591309 ]\n",
      " [ 0.30840006]\n",
      " [ 1.123084  ]\n",
      " [ 0.8617813 ]\n",
      " [ 0.5837858 ]\n",
      " [ 2.53355   ]\n",
      " [ 1.4791256 ]\n",
      " [ 1.3837566 ]\n",
      " [ 1.1845045 ]\n",
      " [ 1.1469724 ]\n",
      " [10.770567  ]\n",
      " [ 0.4130594 ]\n",
      " [ 0.5338568 ]\n",
      " [ 2.9707587 ]\n",
      " [ 0.890785  ]\n",
      " [ 0.3948566 ]\n",
      " [ 3.2160614 ]\n",
      " [ 0.55458945]\n",
      " [ 2.9139576 ]\n",
      " [ 5.7347727 ]\n",
      " [ 4.1019306 ]\n",
      " [ 6.2199087 ]\n",
      " [ 1.2339492 ]\n",
      " [ 3.4986866 ]\n",
      " [12.997762  ]\n",
      " [ 4.013078  ]\n",
      " [ 1.9876273 ]\n",
      " [20.01338   ]\n",
      " [ 0.5905681 ]\n",
      " [ 1.9272114 ]\n",
      " [ 0.59819955]\n",
      " [ 3.1309354 ]\n",
      " [ 0.58008987]\n",
      " [ 5.7880564 ]\n",
      " [ 5.085259  ]\n",
      " [ 0.24131744]\n",
      " [ 8.201995  ]\n",
      " [ 1.5735433 ]\n",
      " [ 5.9504375 ]\n",
      " [13.947055  ]\n",
      " [ 9.260163  ]\n",
      " [ 6.622209  ]\n",
      " [ 0.28997394]\n",
      " [ 0.9383276 ]\n",
      " [ 1.0693529 ]\n",
      " [ 4.6281    ]\n",
      " [ 3.1743462 ]\n",
      " [ 1.3411732 ]\n",
      " [ 2.3309722 ]\n",
      " [ 1.476655  ]\n",
      " [ 1.1189096 ]\n",
      " [ 0.38265896]\n",
      " [ 2.2361515 ]\n",
      " [ 6.4328055 ]\n",
      " [ 1.8977065 ]\n",
      " [ 1.5997484 ]\n",
      " [ 2.356128  ]\n",
      " [ 1.5354441 ]\n",
      " [ 0.5305819 ]\n",
      " [ 0.7436142 ]\n",
      " [ 0.862422  ]\n",
      " [ 2.67005   ]\n",
      " [ 2.3258686 ]\n",
      " [ 0.6855139 ]\n",
      " [ 3.8914044 ]\n",
      " [ 0.8826893 ]\n",
      " [ 4.94289   ]\n",
      " [ 0.24851532]\n",
      " [ 3.1984458 ]\n",
      " [ 2.249899  ]\n",
      " [ 0.83623457]\n",
      " [ 0.20892265]\n",
      " [ 1.5784278 ]\n",
      " [ 0.8526636 ]\n",
      " [ 2.7660325 ]\n",
      " [ 1.749028  ]\n",
      " [ 5.855166  ]\n",
      " [ 0.6271023 ]\n",
      " [ 3.5936363 ]\n",
      " [ 7.383568  ]\n",
      " [ 1.2859606 ]\n",
      " [ 0.8201499 ]\n",
      " [ 0.8109136 ]\n",
      " [ 0.47928366]\n",
      " [ 0.62281954]\n",
      " [ 2.7946703 ]\n",
      " [ 5.064617  ]\n",
      " [ 0.989779  ]\n",
      " [ 0.51324743]\n",
      " [ 2.2670374 ]\n",
      " [ 3.3613646 ]\n",
      " [ 5.016151  ]\n",
      " [ 4.331865  ]\n",
      " [ 0.66986185]\n",
      " [ 2.072371  ]\n",
      " [ 0.65508574]\n",
      " [ 0.1593152 ]\n",
      " [ 0.84358466]\n",
      " [ 1.64978   ]\n",
      " [ 0.53216076]\n",
      " [ 0.9368114 ]\n",
      " [ 3.6651914 ]\n",
      " [ 0.5155544 ]\n",
      " [ 5.1104326 ]\n",
      " [ 0.9828299 ]\n",
      " [ 8.131023  ]\n",
      " [ 0.34489375]\n",
      " [ 5.3835926 ]\n",
      " [ 1.5840718 ]\n",
      " [ 4.2819104 ]\n",
      " [ 0.5805993 ]\n",
      " [ 2.1302183 ]\n",
      " [ 0.87145793]\n",
      " [ 1.1429518 ]\n",
      " [ 0.99342936]\n",
      " [ 1.5265907 ]\n",
      " [ 1.6623632 ]\n",
      " [ 1.1063328 ]\n",
      " [ 0.34216842]\n",
      " [ 0.65642935]\n",
      " [ 4.1249313 ]\n",
      " [ 1.9302526 ]\n",
      " [ 1.562151  ]\n",
      " [ 1.0304261 ]\n",
      " [ 1.9038541 ]\n",
      " [ 4.055857  ]\n",
      " [ 4.428697  ]\n",
      " [ 0.31151244]\n",
      " [ 1.4618802 ]\n",
      " [ 0.7014567 ]\n",
      " [ 1.6044921 ]\n",
      " [ 1.1492406 ]\n",
      " [ 1.002272  ]\n",
      " [ 0.40764564]\n",
      " [ 2.8790054 ]\n",
      " [ 4.0124345 ]\n",
      " [ 0.17701702]\n",
      " [ 1.7970722 ]\n",
      " [ 1.2555158 ]\n",
      " [ 3.347556  ]\n",
      " [ 0.8331225 ]\n",
      " [ 1.2548543 ]\n",
      " [ 0.78536034]\n",
      " [ 1.8148694 ]\n",
      " [ 4.5152607 ]\n",
      " [ 4.018729  ]\n",
      " [ 0.4066434 ]\n",
      " [ 0.5933001 ]\n",
      " [ 0.18868637]\n",
      " [ 1.9497133 ]\n",
      " [ 6.4649186 ]\n",
      " [ 2.3101568 ]\n",
      " [ 2.492823  ]\n",
      " [ 1.0641272 ]\n",
      " [ 1.0857695 ]\n",
      " [ 1.253592  ]\n",
      " [ 0.5835672 ]\n",
      " [ 1.1057445 ]\n",
      " [ 2.978245  ]\n",
      " [ 0.39111832]\n",
      " [ 0.37594536]\n",
      " [ 0.9848549 ]\n",
      " [ 1.034343  ]\n",
      " [ 0.62985337]\n",
      " [13.871011  ]\n",
      " [ 1.9042354 ]\n",
      " [ 0.46909449]\n",
      " [ 0.8904636 ]\n",
      " [ 1.867737  ]], shape=(250, 1), dtype=float32)\n"
     ]
    }
   ],
   "source": [
    "A = tfd.Gamma(concentration = 3.0, rate=0.5).sample(1000)\n",
    "X = tfd.InverseGamma(concentration =2.5, scale = 0.6 ).sample(1000)\n",
    "\n",
    "Y=A*X\n",
    "train_dataset = Y[:750]\n",
    "train_dataset = tf.reshape(train_dataset,[750,1])\n",
    "eval_dataset = Y[750:]\n",
    "eval_dataset=tf.reshape(eval_dataset,[250,1])\n",
    "print(eval_dataset)"
   ]
  },
  {
   "cell_type": "code",
   "execution_count": 6,
   "metadata": {},
   "outputs": [
    {
     "name": "stderr",
     "output_type": "stream",
     "text": [
      "/home/nlafon/.conda/envs/tf/lib/python3.7/site-packages/ipykernel_launcher.py:6: UserWarning: \n",
      "\n",
      "`distplot` is a deprecated function and will be removed in seaborn v0.14.0.\n",
      "\n",
      "Please adapt your code to use either `displot` (a figure-level function with\n",
      "similar flexibility) or `histplot` (an axes-level function for histograms).\n",
      "\n",
      "For a guide to updating your code to use the new functions, please see\n",
      "https://gist.github.com/mwaskom/de44147ed2974457ad6372750bbe5751\n",
      "\n",
      "  \n"
     ]
    },
    {
     "data": {
      "image/png": "[encoded data removed]",
      "text/plain": [
       "<Figure size 432x288 with 1 Axes>"
      ]
     },
     "metadata": {
      "needs_background": "light"
     },
     "output_type": "display_data"
    }
   ],
   "source": [
    "import inspect\n",
    "#inspect.getargspec(tfd.InverseGamma)\n",
    "invG = tfd.InverseGamma(concentration = 3, scale =0.5)\n",
    "samples = invG.sample(1000)\n",
    "\n",
    "sns.distplot(samples)\n",
    "plt.title(\"Samples from an inverse gamma\")\n",
    "plt.show()\n"
   ]
  },
  {
   "cell_type": "code",
   "execution_count": 8,
   "metadata": {},
   "outputs": [],
   "source": [
    "prior =tfd.InverseGamma(concentration =2.5, scale = 1 )"
   ]
  },
  {
   "cell_type": "code",
   "execution_count": 118,
   "metadata": {},
   "outputs": [],
   "source": [
    "tfpl = tfp.layers\n",
    "encoder = tfk.Sequential([\n",
    "    tfkl.InputLayer(input_shape=[1]),\n",
    "    tfkl.Dense(1,\n",
    "               activation=None),\n",
    "    tfkl.Lambda(lambda x: tf.abs(x)+0.001),\n",
    "    tfpl.DistributionLambda(\n",
    "    make_distribution_fn=lambda t: tfd.InverseGamma(\n",
    "        concentration=3, scale=t),\n",
    "    activity_regularizer=tfpl.KLDivergenceRegularizer(prior)),\n",
    "])"
   ]
  },
  {
   "cell_type": "code",
   "execution_count": 119,
   "metadata": {},
   "outputs": [
    {
     "name": "stdout",
     "output_type": "stream",
     "text": [
      "tfp.distributions._TensorCoercible(\"sequential_8_distribution_lambda_9_tensor_coercible\", batch_shape=[2, 1], event_shape=[], dtype=float32)\n",
      "1.272061\n",
      "0.0\n"
     ]
    },
    {
     "data": {
      "text/plain": [
       "[None, None]"
      ]
     },
     "execution_count": 119,
     "metadata": {},
     "output_type": "execute_result"
    }
   ],
   "source": [
    "c=tf.constant([[1.0],[2.0]])\n",
    "print(encoder(c))\n",
    "[print(np.squeeze(w.numpy())) for w in encoder.weights]"
   ]
  },
  {
   "cell_type": "code",
   "execution_count": 133,
   "metadata": {},
   "outputs": [],
   "source": [
    "decoder = tfk.Sequential([\n",
    "    tfkl.Dense(5, use_bias=True, activation='relu'),\n",
    "    tfkl.Dense(5, use_bias=True, activation='relu'),\n",
    "    tfkl.Dense(1, use_bias=True),\n",
    "    tfkl.Lambda(lambda x: tf.abs(x)+0.001),\n",
    "    tfpl.DistributionLambda(\n",
    "    make_distribution_fn=lambda v: tfd.Gamma(\n",
    "        concentration=3, rate=v)),\n",
    " #   convert_to_tensor_fn=lambda s: s.sample),\n",
    "])"
   ]
  },
  {
   "cell_type": "code",
   "execution_count": 134,
   "metadata": {},
   "outputs": [
    {
     "name": "stdout",
     "output_type": "stream",
     "text": [
      "tfp.distributions._TensorCoercible(\"sequential_10_distribution_lambda_11_tensor_coercible\", batch_shape=[2, 1], event_shape=[], dtype=float32)\n",
      "[ 0.20731306  0.6692159   0.9966419  -0.6877501   0.5273528 ]\n",
      "[0. 0. 0. 0. 0.]\n",
      "[[ 0.7150396  -0.7224742  -0.48862743  0.05529433 -0.09209478]\n",
      " [ 0.30872715  0.60687745 -0.6542005   0.04341304 -0.4448439 ]\n",
      " [-0.47304058  0.37507927 -0.18101865 -0.7659674  -0.04890776]\n",
      " [ 0.7609724   0.23689449 -0.08099395 -0.28638867  0.24504328]\n",
      " [-0.09517008 -0.15877694 -0.0993861   0.04263318 -0.6710544 ]]\n",
      "[0. 0. 0. 0. 0.]\n",
      "[ 0.28419447 -0.4424882  -0.6236043  -0.34777927 -0.8560598 ]\n",
      "0.0\n"
     ]
    },
    {
     "data": {
      "text/plain": [
       "[None, None, None, None, None, None]"
      ]
     },
     "execution_count": 134,
     "metadata": {},
     "output_type": "execute_result"
    }
   ],
   "source": [
    "c=tf.constant([[1.0],[2.4]])\n",
    "print(decoder(c))\n",
    "[print(np.squeeze(w.numpy())) for w in decoder.weights]"
   ]
  },
  {
   "cell_type": "code",
   "execution_count": 135,
   "metadata": {},
   "outputs": [
    {
     "name": "stdout",
     "output_type": "stream",
     "text": [
      "WARNING:tensorflow:Layers in a Sequential model should only have a single input tensor. Received: inputs=[<tfp.distributions._TensorCoercible 'distribution_lambda_9_tensor_coercible' batch_shape=[?, 1] event_shape=[] dtype=float32>]. Consider rewriting this model with the Functional API.\n",
      "(None, 1)\n"
     ]
    }
   ],
   "source": [
    "vae = tfk.Model(inputs=encoder.inputs,\n",
    "                outputs=decoder(encoder.outputs))\n",
    "print(vae.output_shape)"
   ]
  },
  {
   "cell_type": "code",
   "execution_count": 195,
   "metadata": {},
   "outputs": [],
   "source": [
    "negative_log_likelihood = lambda x, rv_x: -rv_x.log_prob(x)\n",
    "\n",
    "vae.compile(optimizer=tf.optimizers.Adam(learning_rate=1e-5),\n",
    "            loss=negative_log_likelihood)"
   ]
  },
  {
   "cell_type": "code",
   "execution_count": 196,
   "metadata": {},
   "outputs": [
    {
     "name": "stdout",
     "output_type": "stream",
     "text": [
      "Epoch 1/100\n",
      "WARNING:tensorflow:Layers in a Sequential model should only have a single input tensor. Received: inputs=[<tfp.distributions._TensorCoercible 'model_4_distribution_lambda_9_tensor_coercible' batch_shape=[?, 1] event_shape=[] dtype=float32>]. Consider rewriting this model with the Functional API.\n",
      "WARNING:tensorflow:Layers in a Sequential model should only have a single input tensor. Received: inputs=[<tfp.distributions._TensorCoercible 'model_4_distribution_lambda_9_tensor_coercible' batch_shape=[?, 1] event_shape=[] dtype=float32>]. Consider rewriting this model with the Functional API.\n",
      "24/24 [==============================] - 1s 5ms/step - loss: 2.0717\n",
      "Epoch 2/100\n",
      "24/24 [==============================] - 0s 4ms/step - loss: 2.0623\n",
      "Epoch 3/100\n",
      "24/24 [==============================] - 0s 4ms/step - loss: 2.0630\n",
      "Epoch 4/100\n",
      "24/24 [==============================] - 0s 4ms/step - loss: 2.0606\n",
      "Epoch 5/100\n",
      "24/24 [==============================] - 0s 4ms/step - loss: 2.0752\n",
      "Epoch 6/100\n",
      "24/24 [==============================] - 0s 4ms/step - loss: 2.0691\n",
      "Epoch 7/100\n",
      "24/24 [==============================] - 0s 4ms/step - loss: 2.0733\n",
      "Epoch 8/100\n",
      "24/24 [==============================] - 0s 4ms/step - loss: 2.0810\n",
      "Epoch 9/100\n",
      "24/24 [==============================] - 0s 3ms/step - loss: 2.0722\n",
      "Epoch 10/100\n",
      "24/24 [==============================] - 0s 4ms/step - loss: 2.0797\n",
      "Epoch 11/100\n",
      "24/24 [==============================] - 0s 3ms/step - loss: 2.0696\n",
      "Epoch 12/100\n",
      "24/24 [==============================] - 0s 5ms/step - loss: 2.0695\n",
      "Epoch 13/100\n",
      "24/24 [==============================] - 0s 4ms/step - loss: 2.0653\n",
      "Epoch 14/100\n",
      "24/24 [==============================] - 0s 4ms/step - loss: 2.0741\n",
      "Epoch 15/100\n",
      "24/24 [==============================] - 0s 4ms/step - loss: 2.0597\n",
      "Epoch 16/100\n",
      "24/24 [==============================] - 0s 5ms/step - loss: 2.0617\n",
      "Epoch 17/100\n",
      "24/24 [==============================] - 0s 5ms/step - loss: 2.0465\n",
      "Epoch 18/100\n",
      "24/24 [==============================] - 0s 4ms/step - loss: 2.0975\n",
      "Epoch 19/100\n",
      "24/24 [==============================] - 0s 5ms/step - loss: 2.0609\n",
      "Epoch 20/100\n",
      "24/24 [==============================] - 0s 4ms/step - loss: 2.0781\n",
      "Epoch 21/100\n",
      "24/24 [==============================] - 0s 4ms/step - loss: 2.0679\n",
      "Epoch 22/100\n",
      "24/24 [==============================] - 0s 4ms/step - loss: 2.0583\n",
      "Epoch 23/100\n",
      "24/24 [==============================] - 0s 4ms/step - loss: 2.0505\n",
      "Epoch 24/100\n",
      "24/24 [==============================] - 0s 4ms/step - loss: 2.0729\n",
      "Epoch 25/100\n",
      "24/24 [==============================] - 0s 6ms/step - loss: 2.0377\n",
      "Epoch 26/100\n",
      "24/24 [==============================] - 0s 5ms/step - loss: 2.0692\n",
      "Epoch 27/100\n",
      "24/24 [==============================] - 0s 5ms/step - loss: 2.0768\n",
      "Epoch 28/100\n",
      "24/24 [==============================] - 0s 4ms/step - loss: 2.0537\n",
      "Epoch 29/100\n",
      "24/24 [==============================] - 0s 4ms/step - loss: 2.0715\n",
      "Epoch 30/100\n",
      "24/24 [==============================] - 0s 4ms/step - loss: 2.0650\n",
      "Epoch 31/100\n",
      "24/24 [==============================] - 0s 4ms/step - loss: 2.0859\n",
      "Epoch 32/100\n",
      "24/24 [==============================] - 0s 4ms/step - loss: 2.0652\n",
      "Epoch 33/100\n",
      "24/24 [==============================] - 0s 4ms/step - loss: 2.0827\n",
      "Epoch 34/100\n",
      "24/24 [==============================] - 0s 4ms/step - loss: 2.0775\n",
      "Epoch 35/100\n",
      "24/24 [==============================] - 0s 4ms/step - loss: 2.0724\n",
      "Epoch 36/100\n",
      "24/24 [==============================] - 0s 4ms/step - loss: 2.0647\n",
      "Epoch 37/100\n",
      "24/24 [==============================] - 0s 4ms/step - loss: 2.0754\n",
      "Epoch 38/100\n",
      "24/24 [==============================] - 0s 4ms/step - loss: 2.0778\n",
      "Epoch 39/100\n",
      "24/24 [==============================] - 0s 4ms/step - loss: 2.0762\n",
      "Epoch 40/100\n",
      "24/24 [==============================] - 0s 4ms/step - loss: 2.0609\n",
      "Epoch 41/100\n",
      "24/24 [==============================] - 0s 4ms/step - loss: 2.0746\n",
      "Epoch 42/100\n",
      "24/24 [==============================] - 0s 4ms/step - loss: 2.0580\n",
      "Epoch 43/100\n",
      "24/24 [==============================] - 0s 4ms/step - loss: 2.0407\n",
      "Epoch 44/100\n",
      "24/24 [==============================] - 0s 3ms/step - loss: 2.0518\n",
      "Epoch 45/100\n",
      "24/24 [==============================] - 0s 4ms/step - loss: 2.0600\n",
      "Epoch 46/100\n",
      "24/24 [==============================] - 0s 4ms/step - loss: 2.0746\n",
      "Epoch 47/100\n",
      "24/24 [==============================] - 0s 4ms/step - loss: 2.0661\n",
      "Epoch 48/100\n",
      "24/24 [==============================] - 0s 5ms/step - loss: 2.0485\n",
      "Epoch 49/100\n",
      "24/24 [==============================] - 0s 4ms/step - loss: 2.0392\n",
      "Epoch 50/100\n",
      "24/24 [==============================] - 0s 3ms/step - loss: 2.0974\n",
      "Epoch 51/100\n",
      "24/24 [==============================] - 0s 4ms/step - loss: 2.0663\n",
      "Epoch 52/100\n",
      "24/24 [==============================] - 0s 3ms/step - loss: 2.0853\n",
      "Epoch 53/100\n",
      "24/24 [==============================] - 0s 4ms/step - loss: 2.0892\n",
      "Epoch 54/100\n",
      "24/24 [==============================] - 0s 4ms/step - loss: 2.0681\n",
      "Epoch 55/100\n",
      "24/24 [==============================] - 0s 4ms/step - loss: 2.0804\n",
      "Epoch 56/100\n",
      "24/24 [==============================] - 0s 4ms/step - loss: 2.0518\n",
      "Epoch 57/100\n",
      "24/24 [==============================] - 0s 5ms/step - loss: 2.0610\n",
      "Epoch 58/100\n",
      "24/24 [==============================] - 0s 5ms/step - loss: 2.0647\n",
      "Epoch 59/100\n",
      "24/24 [==============================] - 0s 6ms/step - loss: 2.0937\n",
      "Epoch 60/100\n",
      "24/24 [==============================] - 0s 7ms/step - loss: 2.0930\n",
      "Epoch 61/100\n",
      "24/24 [==============================] - 0s 9ms/step - loss: 2.0534\n",
      "Epoch 62/100\n",
      "24/24 [==============================] - 0s 5ms/step - loss: 2.0861\n",
      "Epoch 63/100\n",
      "24/24 [==============================] - 0s 5ms/step - loss: 2.0655\n",
      "Epoch 64/100\n",
      "24/24 [==============================] - 0s 4ms/step - loss: 2.1068\n",
      "Epoch 65/100\n",
      "24/24 [==============================] - 0s 4ms/step - loss: 2.0883\n",
      "Epoch 66/100\n",
      "24/24 [==============================] - 0s 5ms/step - loss: 2.0639\n",
      "Epoch 67/100\n",
      "24/24 [==============================] - 0s 4ms/step - loss: 2.0421\n",
      "Epoch 68/100\n",
      "24/24 [==============================] - 0s 5ms/step - loss: 2.0612\n",
      "Epoch 69/100\n",
      "24/24 [==============================] - 0s 5ms/step - loss: 2.0553\n",
      "Epoch 70/100\n",
      "24/24 [==============================] - 0s 4ms/step - loss: 2.0516\n",
      "Epoch 71/100\n",
      "24/24 [==============================] - 0s 4ms/step - loss: 2.0595\n",
      "Epoch 72/100\n",
      "24/24 [==============================] - 0s 5ms/step - loss: 2.0583\n",
      "Epoch 73/100\n",
      "24/24 [==============================] - 0s 4ms/step - loss: 2.0489\n",
      "Epoch 74/100\n",
      "24/24 [==============================] - 0s 4ms/step - loss: 2.0526\n",
      "Epoch 75/100\n",
      "24/24 [==============================] - 0s 4ms/step - loss: 2.0924\n",
      "Epoch 76/100\n",
      "24/24 [==============================] - 0s 5ms/step - loss: 2.0489\n",
      "Epoch 77/100\n",
      "24/24 [==============================] - 0s 6ms/step - loss: 2.0729\n",
      "Epoch 78/100\n",
      "24/24 [==============================] - 0s 5ms/step - loss: 2.0486\n",
      "Epoch 79/100\n",
      "24/24 [==============================] - 0s 6ms/step - loss: 2.0650\n",
      "Epoch 80/100\n",
      "24/24 [==============================] - 0s 8ms/step - loss: 2.0647\n",
      "Epoch 81/100\n",
      "24/24 [==============================] - 0s 5ms/step - loss: 2.0984\n",
      "Epoch 82/100\n",
      "24/24 [==============================] - 0s 6ms/step - loss: 2.0685\n",
      "Epoch 83/100\n",
      "24/24 [==============================] - 0s 5ms/step - loss: 2.0611\n",
      "Epoch 84/100\n",
      "24/24 [==============================] - 0s 6ms/step - loss: 2.0825\n",
      "Epoch 85/100\n",
      "24/24 [==============================] - 0s 7ms/step - loss: 2.0784\n",
      "Epoch 86/100\n",
      "24/24 [==============================] - 0s 6ms/step - loss: 2.0614\n",
      "Epoch 87/100\n",
      "24/24 [==============================] - 0s 6ms/step - loss: 2.0683\n",
      "Epoch 88/100\n",
      "24/24 [==============================] - 0s 5ms/step - loss: 2.0713\n",
      "Epoch 89/100\n",
      "24/24 [==============================] - 0s 5ms/step - loss: 2.0918\n",
      "Epoch 90/100\n",
      "24/24 [==============================] - 0s 7ms/step - loss: 2.0602\n",
      "Epoch 91/100\n",
      "24/24 [==============================] - 0s 5ms/step - loss: 2.0687\n",
      "Epoch 92/100\n",
      "24/24 [==============================] - 0s 6ms/step - loss: 2.0778\n",
      "Epoch 93/100\n",
      "24/24 [==============================] - 0s 7ms/step - loss: 2.0953\n",
      "Epoch 94/100\n",
      "24/24 [==============================] - 0s 5ms/step - loss: 2.0854\n",
      "Epoch 95/100\n",
      "24/24 [==============================] - 0s 10ms/step - loss: 2.0737\n",
      "Epoch 96/100\n",
      "24/24 [==============================] - 0s 9ms/step - loss: 2.0582\n",
      "Epoch 97/100\n",
      "24/24 [==============================] - 0s 6ms/step - loss: 2.0769\n",
      "Epoch 98/100\n",
      "24/24 [==============================] - 0s 6ms/step - loss: 2.0861\n",
      "Epoch 99/100\n",
      "24/24 [==============================] - 0s 6ms/step - loss: 2.0410\n",
      "Epoch 100/100\n",
      "24/24 [==============================] - 0s 6ms/step - loss: 2.0684\n"
     ]
    },
    {
     "data": {
      "text/plain": [
       "<keras.callbacks.History at 0x7fc6ee830cd0>"
      ]
     },
     "execution_count": 196,
     "metadata": {},
     "output_type": "execute_result"
    }
   ],
   "source": [
    "vae.fit(train_dataset,train_dataset,batch_size=32,epochs=100)\n"
   ]
  },
  {
   "cell_type": "code",
   "execution_count": 189,
   "metadata": {},
   "outputs": [
    {
     "data": {
      "text/plain": [
       "<matplotlib.legend.Legend at 0x7fc6ed24e7d0>"
      ]
     },
     "execution_count": 189,
     "metadata": {},
     "output_type": "execute_result"
    },
    {
     "data": {
      "image/png": "[encoded data removed]",
      "text/plain": [
       "<Figure size 432x288 with 1 Axes>"
      ]
     },
     "metadata": {
      "needs_background": "light"
     },
     "output_type": "display_data"
    }
   ],
   "source": [
    "x =tf.linspace(\n",
    "    0.001, 20, 1000, name=None, axis=0\n",
    ")\n",
    "x = tf.expand_dims(x,-1)\n",
    "\n",
    "beta_y = encoder(x).scale\n",
    "plt.figure()\n",
    "plt.title(\"Comparison of beta(y) for posterior\")\n",
    "plt.plot(x,beta_y,label='learned beta')\n",
    "plt.plot(x,0.5*x, label = 'true beta')\n",
    "plt.legend(['learned beta','true beta'])\n"
   ]
  },
  {
   "cell_type": "code",
   "execution_count": 190,
   "metadata": {},
   "outputs": [
    {
     "data": {
      "text/plain": [
       "<Figure size 432x288 with 0 Axes>"
      ]
     },
     "execution_count": 190,
     "metadata": {},
     "output_type": "execute_result"
    },
    {
     "data": {
      "image/png": "[encoded data removed]",
      "text/plain": [
       "<Figure size 432x288 with 1 Axes>"
      ]
     },
     "metadata": {
      "needs_background": "light"
     },
     "output_type": "display_data"
    },
    {
     "data": {
      "image/png": "[encoded data removed]",
      "text/plain": [
       "<Figure size 432x288 with 1 Axes>"
      ]
     },
     "metadata": {
      "needs_background": "light"
     },
     "output_type": "display_data"
    },
    {
     "data": {
      "image/png": "[encoded data removed]",
      "text/plain": [
       "<Figure size 432x288 with 1 Axes>"
      ]
     },
     "metadata": {
      "needs_background": "light"
     },
     "output_type": "display_data"
    },
    {
     "data": {
      "text/plain": [
       "<Figure size 432x288 with 0 Axes>"
      ]
     },
     "metadata": {},
     "output_type": "display_data"
    }
   ],
   "source": [
    "x =tf.linspace(\n",
    "    0.001, 0.1, 1000, name=None, axis=0\n",
    ")\n",
    "x = tf.expand_dims(x,-1)\n",
    "beta_x = decoder(x).rate\n",
    "plt.figure()\n",
    "plt.title(\"Comparison of beta(y in [0,0.1]) for likelihood\")\n",
    "plt.plot(x,beta_x,label='learned beta')\n",
    "plt.plot(x,0.5/x, label = 'true beta')\n",
    "plt.legend(['learned beta','true beta'])\n",
    "plt.figure()\n",
    "plt.plot(x,beta_x,label='learned beta')\n",
    "x =tf.linspace(\n",
    "    0.1, 10, 1000, name=None, axis=0\n",
    ")\n",
    "x = tf.expand_dims(x,-1)\n",
    "beta_x = decoder(x).rate\n",
    "plt.figure()\n",
    "plt.title(\"Comparison of beta(y in [0.1,10]) for likelihood\")\n",
    "plt.plot(x,beta_x,label='learned beta')\n",
    "plt.plot(x,0.5/x, label = 'true beta')\n",
    "plt.legend(['learned beta','true beta'])\n",
    "plt.figure()\n"
   ]
  },
  {
   "cell_type": "code",
   "execution_count": 197,
   "metadata": {},
   "outputs": [
    {
     "name": "stdout",
     "output_type": "stream",
     "text": [
      "(1000,)\n",
      "(1000,)\n"
     ]
    },
    {
     "name": "stderr",
     "output_type": "stream",
     "text": [
      "/home/nlafon/.conda/envs/tf/lib/python3.7/site-packages/ipykernel_launcher.py:8: UserWarning: \n",
      "\n",
      "`distplot` is a deprecated function and will be removed in seaborn v0.14.0.\n",
      "\n",
      "Please adapt your code to use either `displot` (a figure-level function with\n",
      "similar flexibility) or `histplot` (an axes-level function for histograms).\n",
      "\n",
      "For a guide to updating your code to use the new functions, please see\n",
      "https://gist.github.com/mwaskom/de44147ed2974457ad6372750bbe5751\n",
      "\n",
      "  \n",
      "/home/nlafon/.conda/envs/tf/lib/python3.7/site-packages/ipykernel_launcher.py:9: UserWarning: \n",
      "\n",
      "`distplot` is a deprecated function and will be removed in seaborn v0.14.0.\n",
      "\n",
      "Please adapt your code to use either `displot` (a figure-level function with\n",
      "similar flexibility) or `histplot` (an axes-level function for histograms).\n",
      "\n",
      "For a guide to updating your code to use the new functions, please see\n",
      "https://gist.github.com/mwaskom/de44147ed2974457ad6372750bbe5751\n",
      "\n",
      "  if __name__ == '__main__':\n"
     ]
    },
    {
     "data": {
      "image/png": "[encoded data removed]",
      "text/plain": [
       "<Figure size 432x288 with 1 Axes>"
      ]
     },
     "metadata": {
      "needs_background": "light"
     },
     "output_type": "display_data"
    }
   ],
   "source": [
    "#Comparaison entre la densité de Y et de notre modèle génératif\n",
    "\n",
    "samples_y = Y\n",
    "print(samples_y.shape)\n",
    "X_gen = prior.sample((1000,1))\n",
    "samples_y_gen = tf.reshape(decoder(X_gen),(1000,))\n",
    "print(samples_y_gen.shape)\n",
    "sns.distplot(samples_y)\n",
    "sns.distplot(samples_y_gen)\n",
    "plt.title(\"Samples from Y and our generative approach\")\n",
    "plt.show()\n",
    "\n"
   ]
  },
  {
   "cell_type": "code",
   "execution_count": 198,
   "metadata": {},
   "outputs": [
    {
     "data": {
      "text/plain": [
       "[<matplotlib.lines.Line2D at 0x7fc6ee9db210>]"
      ]
     },
     "execution_count": 198,
     "metadata": {},
     "output_type": "execute_result"
    },
    {
     "data": {
      "image/png": "[encoded data removed]",
      "text/plain": [
       "<Figure size 432x288 with 1 Axes>"
      ]
     },
     "metadata": {
      "needs_background": "light"
     },
     "output_type": "display_data"
    }
   ],
   "source": [
    "\n",
    "plt.figure()\n",
    "plt.title('QQplot')\n",
    "plt.scatter(tf.sort(samples_y),tf.sort(samples_y_gen))\n",
    "plt.plot(tf.sort(samples_y),tf.sort(samples_y))"
   ]
  },
  {
   "cell_type": "markdown",
   "metadata": {},
   "source": [
    "## Experiment 2\n",
    "We generate from a multiplicative Y = AX.  \n",
    "A is a gamma distribution with alpha = 3, beta = 0.5  \n",
    "X is a inverse gamma distribution with alpha = 2.5, beta = 0.6  \n",
    "The prior is InvGamma with alpha=2.5, beta=1   \n",
    "The posterior is InvGamma with alpha constant learnable , beta learnable function of samples y  \n",
    "The likelihood is a gamma distribution with alpha constant, beta learnable function of samples y  "
   ]
  },
  {
   "cell_type": "code",
   "execution_count": 57,
   "metadata": {},
   "outputs": [
    {
     "name": "stdout",
     "output_type": "stream",
     "text": [
      "(750, 1)\n"
     ]
    }
   ],
   "source": [
    "zeros_traindataset=tf.zeros(train_dataset.shape)\n",
    "print(zeros_traindataset.shape)"
   ]
  },
  {
   "cell_type": "code",
   "execution_count": 109,
   "metadata": {},
   "outputs": [
    {
     "name": "stdout",
     "output_type": "stream",
     "text": [
      "(None, 1)\n"
     ]
    }
   ],
   "source": [
    "Y_input = tfk.Input(\n",
    "    shape=[1], name=\"Y_train\"\n",
    ")  \n",
    "zeros_input = tfk.Input([1], name=\"Zeros_train\")\n",
    "beta_layer = tfkl.Dense(1,activation=None)(Y_input)\n",
    "alpha_layer = tfkl.Dense(1,use_bias=True,activation=None, bias_initializer=tfk.initializers.Ones()\n",
    ")(zeros_input)\n",
    "alpha_layer = tfkl.Lambda(lambda x: tf.abs(x)+0.001)(alpha_layer)\n",
    "beta_layer = tfkl.Lambda(lambda x: tf.abs(x)+0.001,name = 'inv_gamma_beta_posterior')(beta_layer)\n",
    "alpha_beta = tfkl.Concatenate()([alpha_layer,beta_layer])\n",
    "posterior = tfpl.DistributionLambda(\n",
    "    make_distribution_fn=lambda t: tfd.InverseGamma(\n",
    "        concentration=t[... , 0], scale=t[...,1]),\n",
    "    activity_regularizer=tfpl.KLDivergenceRegularizer(prior),\n",
    ")(alpha_beta)\n",
    "posterior = tfkl.Reshape(target_shape=[1])(posterior) \n",
    "print(posterior.shape)\n",
    "encoder2 = tfk.Model(\n",
    "    inputs=[Y_input,zeros_input],\n",
    "    outputs=[posterior, alpha_layer],\n",
    ")\n"
   ]
  },
  {
   "cell_type": "code",
   "execution_count": 61,
   "metadata": {},
   "outputs": [
    {
     "name": "stdout",
     "output_type": "stream",
     "text": [
      "Model: \"model_17\"\n",
      "__________________________________________________________________________________________________\n",
      " Layer (type)                   Output Shape         Param #     Connected to                     \n",
      "==================================================================================================\n",
      " Zeros_train (InputLayer)       [(None, 1)]          0           []                               \n",
      "                                                                                                  \n",
      " Y_train (InputLayer)           [(None, 1)]          0           []                               \n",
      "                                                                                                  \n",
      " dense_35 (Dense)               (None, 1)            2           ['Zeros_train[0][0]']            \n",
      "                                                                                                  \n",
      " dense_34 (Dense)               (None, 1)            2           ['Y_train[0][0]']                \n",
      "                                                                                                  \n",
      " lambda_16 (Lambda)             (None, 1)            0           ['dense_35[0][0]']               \n",
      "                                                                                                  \n",
      " lambda_17 (Lambda)             (None, 1)            0           ['dense_34[0][0]']               \n",
      "                                                                                                  \n",
      " concatenate_12 (Concatenate)   (None, 2)            0           ['lambda_16[0][0]',              \n",
      "                                                                  'lambda_17[0][0]']              \n",
      "                                                                                                  \n",
      " distribution_lambda_11 (Distri  ((None,),           0           ['concatenate_12[0][0]']         \n",
      " butionLambda)                   (None,))                                                         \n",
      "                                                                                                  \n",
      " reshape_5 (Reshape)            (None, 1)            0           ['distribution_lambda_11[0][0]'] \n",
      "                                                                                                  \n",
      "==================================================================================================\n",
      "Total params: 4\n",
      "Trainable params: 4\n",
      "Non-trainable params: 0\n",
      "__________________________________________________________________________________________________\n"
     ]
    }
   ],
   "source": [
    "encoder2.summary()"
   ]
  },
  {
   "cell_type": "code",
   "execution_count": 62,
   "metadata": {},
   "outputs": [],
   "source": [
    "post_input = tfk.Input(\n",
    "    shape=[1], name=\"post_input\"\n",
    ")  \n",
    "alpha_input = tfk.Input([1], name=\"alpha_input\")\n",
    "\n",
    "beta_deco = tfkl.Dense(5, use_bias=True, activation='relu')(post_input)\n",
    "beta_deco = tfkl.Dense(5, use_bias=True, activation='relu')(beta_deco)\n",
    "beta_deco = tfkl.Dense(1, use_bias=True)(beta_deco)\n",
    "beta_deco = tfkl.Lambda(lambda x: tf.abs(x)+0.001)(beta_deco)\n",
    "alpha_beta = tfkl.Concatenate()([alpha_input,beta_deco])\n",
    "out = tfpl.DistributionLambda(\n",
    "make_distribution_fn=lambda v: tfd.Gamma(\n",
    "        concentration=v[...,0], rate=v[...,1]),       \n",
    ")(alpha_beta)\n",
    "decoder2 = tfk.Model(\n",
    "    inputs=[post_input,alpha_input],\n",
    "    outputs=out\n",
    ")\n",
    " #   convert_to_tensor_fn=lambda s: s.sample),\n"
   ]
  },
  {
   "cell_type": "code",
   "execution_count": 63,
   "metadata": {},
   "outputs": [
    {
     "name": "stdout",
     "output_type": "stream",
     "text": [
      "Model: \"model_18\"\n",
      "__________________________________________________________________________________________________\n",
      " Layer (type)                   Output Shape         Param #     Connected to                     \n",
      "==================================================================================================\n",
      " post_input (InputLayer)        [(None, 1)]          0           []                               \n",
      "                                                                                                  \n",
      " dense_36 (Dense)               (None, 5)            10          ['post_input[0][0]']             \n",
      "                                                                                                  \n",
      " dense_37 (Dense)               (None, 5)            30          ['dense_36[0][0]']               \n",
      "                                                                                                  \n",
      " dense_38 (Dense)               (None, 1)            6           ['dense_37[0][0]']               \n",
      "                                                                                                  \n",
      " alpha_input (InputLayer)       [(None, 1)]          0           []                               \n",
      "                                                                                                  \n",
      " lambda_18 (Lambda)             (None, 1)            0           ['dense_38[0][0]']               \n",
      "                                                                                                  \n",
      " concatenate_13 (Concatenate)   (None, 2)            0           ['alpha_input[0][0]',            \n",
      "                                                                  'lambda_18[0][0]']              \n",
      "                                                                                                  \n",
      " distribution_lambda_12 (Distri  ((None,),           0           ['concatenate_13[0][0]']         \n",
      " butionLambda)                   (None,))                                                         \n",
      "                                                                                                  \n",
      "==================================================================================================\n",
      "Total params: 46\n",
      "Trainable params: 46\n",
      "Non-trainable params: 0\n",
      "__________________________________________________________________________________________________\n"
     ]
    }
   ],
   "source": [
    "decoder2.summary()"
   ]
  },
  {
   "cell_type": "code",
   "execution_count": 174,
   "metadata": {},
   "outputs": [
    {
     "name": "stdout",
     "output_type": "stream",
     "text": [
      "(None,)\n"
     ]
    }
   ],
   "source": [
    "vae2 = tfk.Model(inputs=encoder2.inputs,\n",
    "                outputs=decoder2(encoder2.outputs))\n",
    "print(vae2.output_shape)"
   ]
  },
  {
   "cell_type": "code",
   "execution_count": 149,
   "metadata": {},
   "outputs": [],
   "source": [
    "negative_log_likelihood = lambda x, rv_x: -rv_x.log_prob(x)\n",
    "\n",
    "vae2.compile(optimizer=tf.optimizers.Adam(learning_rate=1e-3),\n",
    "            loss=negative_log_likelihood)"
   ]
  },
  {
   "cell_type": "code",
   "execution_count": 150,
   "metadata": {},
   "outputs": [
    {
     "name": "stdout",
     "output_type": "stream",
     "text": [
      "[<tf.Tensor: shape=(2, 1), dtype=float32, numpy=\n",
      "array([[0.17473216],\n",
      "       [0.8775243 ]], dtype=float32)>, <tf.Tensor: shape=(2, 1), dtype=float32, numpy=\n",
      "array([[1.535697],\n",
      "       [1.535697]], dtype=float32)>]\n",
      "1.7007588\n",
      "1.5346969\n",
      "-0.8867608\n",
      "0.051259764\n"
     ]
    },
    {
     "data": {
      "text/plain": [
       "[None, None, None, None]"
      ]
     },
     "execution_count": 150,
     "metadata": {},
     "output_type": "execute_result"
    }
   ],
   "source": [
    "c=tf.constant([[1.0],[2.0]])\n",
    "z = tf.constant([[0.0],[0.0]])\n",
    "print(encoder2([c,z]))\n",
    "[print(np.squeeze(w.numpy())) for w in encoder2.weights]"
   ]
  },
  {
   "cell_type": "code",
   "execution_count": 171,
   "metadata": {},
   "outputs": [
    {
     "name": "stdout",
     "output_type": "stream",
     "text": [
      "Epoch 1/100\n",
      "47/47 [==============================] - 1s 20ms/step - loss: 1.9165 - val_loss: 2.0151\n",
      "Epoch 2/100\n",
      "47/47 [==============================] - 0s 6ms/step - loss: 1.8997 - val_loss: 1.9910\n",
      "Epoch 3/100\n",
      "47/47 [==============================] - 0s 7ms/step - loss: 1.9077 - val_loss: 2.0147\n",
      "Epoch 4/100\n",
      "47/47 [==============================] - 0s 8ms/step - loss: 1.9120 - val_loss: 1.9997\n",
      "Epoch 5/100\n",
      "47/47 [==============================] - 0s 8ms/step - loss: 1.9152 - val_loss: 1.9767\n",
      "Epoch 6/100\n",
      "47/47 [==============================] - 0s 7ms/step - loss: 1.9304 - val_loss: 2.0108\n",
      "Epoch 7/100\n",
      "47/47 [==============================] - 0s 8ms/step - loss: 1.8965 - val_loss: 2.0347\n",
      "Epoch 8/100\n",
      "47/47 [==============================] - 0s 8ms/step - loss: 1.9216 - val_loss: 2.0045\n",
      "Epoch 9/100\n",
      "47/47 [==============================] - 0s 7ms/step - loss: 1.9055 - val_loss: 2.0312\n",
      "Epoch 10/100\n",
      "47/47 [==============================] - 0s 8ms/step - loss: 1.8895 - val_loss: 2.0053\n",
      "Epoch 11/100\n",
      "47/47 [==============================] - 0s 10ms/step - loss: 1.9095 - val_loss: 1.9907\n",
      "Epoch 12/100\n",
      "47/47 [==============================] - 1s 11ms/step - loss: 1.9151 - val_loss: 2.0031\n",
      "Epoch 13/100\n",
      "47/47 [==============================] - 0s 10ms/step - loss: 1.9071 - val_loss: 1.9677\n",
      "Epoch 14/100\n",
      "47/47 [==============================] - 0s 10ms/step - loss: 1.9368 - val_loss: 1.9876\n",
      "Epoch 15/100\n",
      "47/47 [==============================] - 0s 9ms/step - loss: 1.9003 - val_loss: 2.0434\n",
      "Epoch 16/100\n",
      "47/47 [==============================] - 0s 9ms/step - loss: 1.9039 - val_loss: 1.9711\n",
      "Epoch 17/100\n",
      "47/47 [==============================] - 0s 9ms/step - loss: 1.8986 - val_loss: 1.9808\n",
      "Epoch 18/100\n",
      "47/47 [==============================] - 1s 12ms/step - loss: 1.9271 - val_loss: 1.9501\n",
      "Epoch 19/100\n",
      "47/47 [==============================] - 0s 9ms/step - loss: 1.9058 - val_loss: 1.9909\n",
      "Epoch 20/100\n",
      "47/47 [==============================] - 0s 9ms/step - loss: 1.8782 - val_loss: 1.9872\n",
      "Epoch 21/100\n",
      "47/47 [==============================] - 0s 7ms/step - loss: 1.8964 - val_loss: 1.9668\n",
      "Epoch 22/100\n",
      "47/47 [==============================] - 0s 7ms/step - loss: 1.8910 - val_loss: 1.9745\n",
      "Epoch 23/100\n",
      "47/47 [==============================] - 0s 8ms/step - loss: 1.9216 - val_loss: 2.0018\n",
      "Epoch 24/100\n",
      "47/47 [==============================] - 0s 7ms/step - loss: 1.8828 - val_loss: 2.0200\n",
      "Epoch 25/100\n",
      "47/47 [==============================] - 0s 9ms/step - loss: 1.9005 - val_loss: 1.9899\n",
      "Epoch 26/100\n",
      "47/47 [==============================] - 0s 7ms/step - loss: 1.9059 - val_loss: 2.0112\n",
      "Epoch 27/100\n",
      "47/47 [==============================] - 0s 7ms/step - loss: 1.9093 - val_loss: 2.0179\n",
      "Epoch 28/100\n",
      "47/47 [==============================] - 0s 8ms/step - loss: 1.8926 - val_loss: 1.9948\n",
      "Epoch 29/100\n",
      "47/47 [==============================] - 0s 7ms/step - loss: 1.9219 - val_loss: 2.0249\n",
      "Epoch 30/100\n",
      "47/47 [==============================] - 0s 7ms/step - loss: 1.9246 - val_loss: 2.0037\n",
      "Epoch 31/100\n",
      "47/47 [==============================] - 0s 7ms/step - loss: 1.9373 - val_loss: 1.9579\n",
      "Epoch 32/100\n",
      "47/47 [==============================] - 0s 7ms/step - loss: 1.9079 - val_loss: 1.9760\n",
      "Epoch 33/100\n",
      "47/47 [==============================] - 0s 7ms/step - loss: 1.9088 - val_loss: 1.9811\n",
      "Epoch 34/100\n",
      "47/47 [==============================] - 0s 8ms/step - loss: 1.9490 - val_loss: 2.0205\n",
      "Epoch 35/100\n",
      "47/47 [==============================] - 0s 8ms/step - loss: 1.9059 - val_loss: 1.9884\n",
      "Epoch 36/100\n",
      "47/47 [==============================] - 0s 9ms/step - loss: 1.9003 - val_loss: 2.0432\n",
      "Epoch 37/100\n",
      "47/47 [==============================] - 0s 8ms/step - loss: 1.9020 - val_loss: 1.9821\n",
      "Epoch 38/100\n",
      "47/47 [==============================] - 0s 9ms/step - loss: 1.9420 - val_loss: 1.9869\n",
      "Epoch 39/100\n",
      "47/47 [==============================] - 0s 7ms/step - loss: 1.8828 - val_loss: 2.0399\n",
      "Epoch 40/100\n",
      "47/47 [==============================] - 0s 8ms/step - loss: 1.9049 - val_loss: 1.9755\n",
      "Epoch 41/100\n",
      "47/47 [==============================] - 0s 7ms/step - loss: 1.9308 - val_loss: 1.9922\n",
      "Epoch 42/100\n",
      "47/47 [==============================] - 0s 8ms/step - loss: 1.9040 - val_loss: 2.0143\n",
      "Epoch 43/100\n",
      "47/47 [==============================] - 0s 9ms/step - loss: 1.8966 - val_loss: 2.0277\n",
      "Epoch 44/100\n",
      "47/47 [==============================] - 0s 9ms/step - loss: 1.8674 - val_loss: 2.0124\n",
      "Epoch 45/100\n",
      "47/47 [==============================] - 0s 6ms/step - loss: 1.8945 - val_loss: 1.9502\n",
      "Epoch 46/100\n",
      "47/47 [==============================] - 0s 7ms/step - loss: 1.8764 - val_loss: 2.0833\n",
      "Epoch 47/100\n",
      "47/47 [==============================] - 0s 6ms/step - loss: 1.8870 - val_loss: 1.9977\n",
      "Epoch 48/100\n",
      "47/47 [==============================] - 0s 9ms/step - loss: 1.9243 - val_loss: 1.9991\n",
      "Epoch 49/100\n",
      "47/47 [==============================] - 0s 7ms/step - loss: 1.8670 - val_loss: 2.0314\n",
      "Epoch 50/100\n",
      "47/47 [==============================] - 0s 7ms/step - loss: 1.9266 - val_loss: 1.9851\n",
      "Epoch 51/100\n",
      "47/47 [==============================] - 0s 7ms/step - loss: 1.9199 - val_loss: 1.9914\n",
      "Epoch 52/100\n",
      "47/47 [==============================] - 0s 7ms/step - loss: 1.8913 - val_loss: 1.9734\n",
      "Epoch 53/100\n",
      "47/47 [==============================] - 0s 7ms/step - loss: 1.8820 - val_loss: 2.0065\n",
      "Epoch 54/100\n",
      "47/47 [==============================] - 0s 6ms/step - loss: 1.9165 - val_loss: 1.9610\n",
      "Epoch 55/100\n",
      "47/47 [==============================] - 0s 9ms/step - loss: 1.8995 - val_loss: 2.0249\n",
      "Epoch 56/100\n",
      "47/47 [==============================] - 1s 11ms/step - loss: 1.9039 - val_loss: 1.9977\n",
      "Epoch 57/100\n",
      "47/47 [==============================] - 0s 9ms/step - loss: 1.9018 - val_loss: 2.0429\n",
      "Epoch 58/100\n",
      "47/47 [==============================] - 0s 8ms/step - loss: 1.9094 - val_loss: 2.0343\n",
      "Epoch 59/100\n",
      "47/47 [==============================] - 0s 8ms/step - loss: 1.8987 - val_loss: 1.9820\n",
      "Epoch 60/100\n",
      "47/47 [==============================] - 0s 7ms/step - loss: 1.9100 - val_loss: 2.0975\n",
      "Epoch 61/100\n",
      "47/47 [==============================] - 0s 9ms/step - loss: 1.8704 - val_loss: 1.9762\n",
      "Epoch 62/100\n",
      "47/47 [==============================] - 0s 6ms/step - loss: 1.9232 - val_loss: 2.0494\n",
      "Epoch 63/100\n",
      "47/47 [==============================] - 0s 9ms/step - loss: 1.8906 - val_loss: 1.9925\n",
      "Epoch 64/100\n",
      "47/47 [==============================] - 0s 9ms/step - loss: 1.9238 - val_loss: 2.0109\n",
      "Epoch 65/100\n",
      "47/47 [==============================] - 0s 9ms/step - loss: 1.9237 - val_loss: 2.0282\n",
      "Epoch 66/100\n",
      "47/47 [==============================] - 0s 10ms/step - loss: 1.9116 - val_loss: 2.0297\n",
      "Epoch 67/100\n",
      "47/47 [==============================] - 0s 10ms/step - loss: 1.8899 - val_loss: 1.9598\n",
      "Epoch 68/100\n",
      "47/47 [==============================] - 0s 8ms/step - loss: 1.9028 - val_loss: 2.0486\n",
      "Epoch 69/100\n",
      "47/47 [==============================] - 0s 9ms/step - loss: 1.8885 - val_loss: 2.0132\n",
      "Epoch 70/100\n",
      "47/47 [==============================] - 0s 10ms/step - loss: 1.8902 - val_loss: 2.0386\n",
      "Epoch 71/100\n",
      "47/47 [==============================] - 0s 10ms/step - loss: 1.8966 - val_loss: 1.9688\n",
      "Epoch 72/100\n",
      "47/47 [==============================] - 0s 9ms/step - loss: 1.9207 - val_loss: 2.0244\n",
      "Epoch 73/100\n",
      "47/47 [==============================] - 0s 7ms/step - loss: 1.8793 - val_loss: 2.0090\n",
      "Epoch 74/100\n",
      "47/47 [==============================] - 0s 8ms/step - loss: 1.9066 - val_loss: 2.0600\n",
      "Epoch 75/100\n",
      "47/47 [==============================] - 0s 7ms/step - loss: 1.9085 - val_loss: 2.0275\n",
      "Epoch 76/100\n",
      "47/47 [==============================] - 0s 6ms/step - loss: 1.8912 - val_loss: 1.9850\n",
      "Epoch 77/100\n",
      "47/47 [==============================] - 0s 9ms/step - loss: 1.9072 - val_loss: 1.9552\n",
      "Epoch 78/100\n",
      "47/47 [==============================] - 0s 9ms/step - loss: 1.9071 - val_loss: 2.0297\n",
      "Epoch 79/100\n",
      "47/47 [==============================] - 0s 7ms/step - loss: 1.9106 - val_loss: 2.0166\n",
      "Epoch 80/100\n",
      "47/47 [==============================] - 0s 7ms/step - loss: 1.9116 - val_loss: 2.0070\n",
      "Epoch 81/100\n",
      "47/47 [==============================] - 0s 7ms/step - loss: 1.8828 - val_loss: 2.0097\n",
      "Epoch 82/100\n",
      "47/47 [==============================] - 0s 7ms/step - loss: 1.8941 - val_loss: 1.9889\n",
      "Epoch 83/100\n",
      "47/47 [==============================] - 0s 8ms/step - loss: 1.8726 - val_loss: 2.0095\n",
      "Epoch 84/100\n",
      "47/47 [==============================] - 0s 7ms/step - loss: 1.8978 - val_loss: 2.0261\n",
      "Epoch 85/100\n",
      "47/47 [==============================] - 0s 8ms/step - loss: 1.9121 - val_loss: 1.9888\n",
      "Epoch 86/100\n",
      "47/47 [==============================] - 0s 7ms/step - loss: 1.9020 - val_loss: 1.9556\n",
      "Epoch 87/100\n",
      "47/47 [==============================] - 0s 7ms/step - loss: 1.9053 - val_loss: 2.0575\n",
      "Epoch 88/100\n",
      "47/47 [==============================] - 0s 7ms/step - loss: 1.8867 - val_loss: 2.0289\n",
      "Epoch 89/100\n",
      "47/47 [==============================] - 0s 7ms/step - loss: 1.9166 - val_loss: 2.0629\n",
      "Epoch 90/100\n",
      "47/47 [==============================] - 0s 8ms/step - loss: 1.8754 - val_loss: 1.9827\n",
      "Epoch 91/100\n",
      "47/47 [==============================] - 0s 8ms/step - loss: 1.9196 - val_loss: 1.9883\n",
      "Epoch 92/100\n",
      "47/47 [==============================] - 0s 8ms/step - loss: 1.9103 - val_loss: 2.0428\n",
      "Epoch 93/100\n",
      "47/47 [==============================] - 0s 8ms/step - loss: 1.9161 - val_loss: 2.0261\n",
      "Epoch 94/100\n",
      "47/47 [==============================] - 0s 8ms/step - loss: 1.9125 - val_loss: 2.0525\n",
      "Epoch 95/100\n",
      "47/47 [==============================] - 0s 7ms/step - loss: 1.8887 - val_loss: 1.9576\n",
      "Epoch 96/100\n",
      "47/47 [==============================] - 0s 10ms/step - loss: 1.9032 - val_loss: 1.9913\n",
      "Epoch 97/100\n",
      "47/47 [==============================] - 0s 7ms/step - loss: 1.9094 - val_loss: 1.9851\n",
      "Epoch 98/100\n",
      "47/47 [==============================] - 0s 8ms/step - loss: 1.8938 - val_loss: 2.0114\n",
      "Epoch 99/100\n",
      "47/47 [==============================] - 0s 8ms/step - loss: 1.9134 - val_loss: 2.0527\n",
      "Epoch 100/100\n",
      "47/47 [==============================] - 0s 9ms/step - loss: 1.9169 - val_loss: 2.0540\n"
     ]
    },
    {
     "data": {
      "text/plain": [
       "<keras.callbacks.History at 0x7f361398ebd0>"
      ]
     },
     "execution_count": 171,
     "metadata": {},
     "output_type": "execute_result"
    }
   ],
   "source": [
    "vae2.fit(\n",
    "    {\"Y_train\" : train_dataset, \"Zeros_train\" : zeros_traindataset},\n",
    "    train_dataset,\n",
    "    validation_data = ((eval_dataset,tf.zeros(eval_dataset.shape)),eval_dataset),\n",
    "         batch_size=16,epochs=100)\n"
   ]
  },
  {
   "cell_type": "code",
   "execution_count": 172,
   "metadata": {},
   "outputs": [],
   "source": [
    "layer_name = 'inv_gamma_beta_posterior'\n",
    "intermediate_layer_model = tfk.Model(inputs=encoder2.input,\n",
    "                                       outputs=encoder2.get_layer(layer_name).output)"
   ]
  },
  {
   "cell_type": "code",
   "execution_count": 173,
   "metadata": {},
   "outputs": [
    {
     "name": "stdout",
     "output_type": "stream",
     "text": [
      "tf.Tensor([1.9359263], shape=(1,), dtype=float32)\n"
     ]
    },
    {
     "data": {
      "text/plain": [
       "<matplotlib.legend.Legend at 0x7f35fffd8b90>"
      ]
     },
     "execution_count": 173,
     "metadata": {},
     "output_type": "execute_result"
    },
    {
     "data": {
      "image/png": "[encoded data removed]",
      "text/plain": [
       "<Figure size 432x288 with 1 Axes>"
      ]
     },
     "metadata": {
      "needs_background": "light"
     },
     "output_type": "display_data"
    }
   ],
   "source": [
    "x =tf.linspace(\n",
    "    0.001, 20, 1000, name=None, axis=0\n",
    ")\n",
    "x = tf.expand_dims(x,-1)\n",
    "\n",
    "x_tot = [x,tf.zeros(x.shape)]\n",
    "beta_y = intermediate_layer_model(x_tot)\n",
    "\n",
    "print(encoder2(x_tot)[1][0])\n",
    "\n",
    "plt.figure()\n",
    "plt.title(\"Comparison of beta(y) for posterior\")\n",
    "plt.plot(x,beta_y,label='learned beta')\n",
    "plt.plot(x,0.5*x, label = 'true beta')\n",
    "plt.legend(['learned beta','true beta'])\n"
   ]
  },
  {
   "cell_type": "code",
   "execution_count": 163,
   "metadata": {},
   "outputs": [
    {
     "data": {
      "text/plain": [
       "<Figure size 432x288 with 0 Axes>"
      ]
     },
     "execution_count": 163,
     "metadata": {},
     "output_type": "execute_result"
    },
    {
     "data": {
      "image/png": "[encoded data removed]",
      "text/plain": [
       "<Figure size 432x288 with 1 Axes>"
      ]
     },
     "metadata": {
      "needs_background": "light"
     },
     "output_type": "display_data"
    },
    {
     "data": {
      "image/png": "[encoded data removed]",
      "text/plain": [
       "<Figure size 432x288 with 1 Axes>"
      ]
     },
     "metadata": {
      "needs_background": "light"
     },
     "output_type": "display_data"
    },
    {
     "data": {
      "image/png": "[encoded data removed]",
      "text/plain": [
       "<Figure size 432x288 with 1 Axes>"
      ]
     },
     "metadata": {
      "needs_background": "light"
     },
     "output_type": "display_data"
    },
    {
     "data": {
      "text/plain": [
       "<Figure size 432x288 with 0 Axes>"
      ]
     },
     "metadata": {},
     "output_type": "display_data"
    }
   ],
   "source": [
    "x =tf.linspace(\n",
    "    0.001, 0.1, 1000, name=None, axis=0\n",
    ")\n",
    "x = tf.expand_dims(x,-1)\n",
    "alpha_y = encoder2(x_tot)[1]\n",
    "beta_x = decoder2([x,alpha_y]).rate\n",
    "plt.figure()\n",
    "plt.title(\"Comparison of beta(y in [0,0.1]) for likelihood\")\n",
    "plt.plot(x,beta_x,label='learned beta')\n",
    "plt.plot(x,0.5/x, label = 'true beta')\n",
    "plt.legend(['learned beta','true beta'])\n",
    "plt.figure()\n",
    "plt.plot(x,beta_x,label='learned beta')\n",
    "x =tf.linspace(\n",
    "    0.1, 10, 1000, name=None, axis=0\n",
    ")\n",
    "x = tf.expand_dims(x,-1)\n",
    "beta_x = decoder2([x,alpha_y]).rate\n",
    "plt.figure()\n",
    "plt.title(\"Comparison of beta(y in [0.1,10]) for likelihood\")\n",
    "plt.plot(x,beta_x,label='learned beta')\n",
    "plt.plot(x,0.5/x, label = 'true beta')\n",
    "plt.legend(['learned beta','true beta'])\n",
    "plt.figure()"
   ]
  },
  {
   "cell_type": "code",
   "execution_count": 168,
   "metadata": {},
   "outputs": [
    {
     "name": "stdout",
     "output_type": "stream",
     "text": [
      "(1000,)\n",
      "(1000,)\n"
     ]
    },
    {
     "name": "stderr",
     "output_type": "stream",
     "text": [
      "/home/nlafon/.conda/envs/tf/lib/python3.7/site-packages/ipykernel_launcher.py:8: UserWarning: \n",
      "\n",
      "`distplot` is a deprecated function and will be removed in seaborn v0.14.0.\n",
      "\n",
      "Please adapt your code to use either `displot` (a figure-level function with\n",
      "similar flexibility) or `histplot` (an axes-level function for histograms).\n",
      "\n",
      "For a guide to updating your code to use the new functions, please see\n",
      "https://gist.github.com/mwaskom/de44147ed2974457ad6372750bbe5751\n",
      "\n",
      "  \n",
      "/home/nlafon/.conda/envs/tf/lib/python3.7/site-packages/ipykernel_launcher.py:9: UserWarning: \n",
      "\n",
      "`distplot` is a deprecated function and will be removed in seaborn v0.14.0.\n",
      "\n",
      "Please adapt your code to use either `displot` (a figure-level function with\n",
      "similar flexibility) or `histplot` (an axes-level function for histograms).\n",
      "\n",
      "For a guide to updating your code to use the new functions, please see\n",
      "https://gist.github.com/mwaskom/de44147ed2974457ad6372750bbe5751\n",
      "\n",
      "  if __name__ == '__main__':\n"
     ]
    },
    {
     "data": {
      "image/png": "[encoded data removed]",
      "text/plain": [
       "<Figure size 432x288 with 1 Axes>"
      ]
     },
     "metadata": {
      "needs_background": "light"
     },
     "output_type": "display_data"
    }
   ],
   "source": [
    "#Comparaison entre la densité de Y et de notre modèle génératif\n",
    "\n",
    "samples_y = Y\n",
    "print(samples_y.shape)\n",
    "X_gen = prior.sample((1000,1))\n",
    "samples_y_gen = tf.reshape(decoder2([X_gen,alpha_y]),(1000,))\n",
    "print(samples_y_gen.shape)\n",
    "sns.distplot(samples_y)\n",
    "sns.distplot(samples_y_gen)\n",
    "plt.title(\"Samples from Y and our generative approach\")\n",
    "plt.show()\n",
    "\n"
   ]
  },
  {
   "cell_type": "code",
   "execution_count": 166,
   "metadata": {},
   "outputs": [
    {
     "data": {
      "text/plain": [
       "[<matplotlib.lines.Line2D at 0x7f3613b657d0>]"
      ]
     },
     "execution_count": 166,
     "metadata": {},
     "output_type": "execute_result"
    },
    {
     "data": {
      "image/png": "[encoded data removed]",
      "text/plain": [
       "<Figure size 432x288 with 1 Axes>"
      ]
     },
     "metadata": {
      "needs_background": "light"
     },
     "output_type": "display_data"
    }
   ],
   "source": [
    "\n",
    "plt.figure()\n",
    "plt.title('QQplot')\n",
    "plt.scatter(tf.sort(samples_y),tf.sort(samples_y_gen))\n",
    "plt.plot(tf.sort(samples_y),tf.sort(samples_y))"
   ]
  },
  {
   "cell_type": "code",
   "execution_count": null,
   "metadata": {},
   "outputs": [],
   "source": []
  }
 ],
 "metadata": {
  "kernelspec": {
   "display_name": "tf",
   "language": "python",
   "name": "tf"
  },
  "language_info": {
   "codemirror_mode": {
    "name": "ipython",
    "version": 3
   },
   "file_extension": ".py",
   "mimetype": "text/x-python",
   "name": "python",
   "nbconvert_exporter": "python",
   "pygments_lexer": "ipython3",
   "version": "3.7.13"
  }
 },
 "nbformat": 4,
 "nbformat_minor": 5
}
