{
 "cells": [
  {
   "cell_type": "code",
   "execution_count": 1,
   "id": "8bf677c5",
   "metadata": {},
   "outputs": [],
   "source": [
    "import numpy as np\n",
    "import torch\n",
    "import torch.nn as nn\n",
    "import torch.nn.functional as F\n",
    "import scipy.special as sc"
   ]
  },
  {
   "cell_type": "code",
   "execution_count": 2,
   "id": "0e894c20",
   "metadata": {},
   "outputs": [],
   "source": [
    "# Data generation\n",
    "X=1/np.random.gamma(2,2,3200)\n",
    "A = np.random.gamma(2,2,3200)\n",
    "Y=A*X\n",
    "Y_log =np.log(Y)"
   ]
  },
  {
   "cell_type": "code",
   "execution_count": 3,
   "id": "fa8e3d01",
   "metadata": {},
   "outputs": [
    {
     "name": "stdout",
     "output_type": "stream",
     "text": [
      "[2.19197583 0.41095823 1.56918962 ... 2.64840921 1.21761171 0.92721729]\n",
      "[ 0.78480334 -0.88926369  0.45055932 ...  0.97395916  0.19689133\n",
      " -0.07556733]\n"
     ]
    }
   ],
   "source": [
    "print(Y)\n",
    "print(Y_log)"
   ]
  },
  {
   "cell_type": "markdown",
   "id": "a32f4025",
   "metadata": {},
   "source": [
    "# Version 1"
   ]
  },
  {
   "cell_type": "markdown",
   "id": "e19ab7c5",
   "metadata": {},
   "source": [
    "# Gaussian VAE"
   ]
  },
  {
   "cell_type": "code",
   "execution_count": 4,
   "id": "2665cfee",
   "metadata": {},
   "outputs": [],
   "source": [
    "features = 1\n",
    "# define a simple linear VAE\n",
    "class LinearVAE(nn.Module):\n",
    "    def __init__(self):\n",
    "        super(LinearVAE, self).__init__()\n",
    "        \n",
    " \n",
    "        # encoder\n",
    "        self.enc1 = nn.Linear(in_features=1, out_features=5)\n",
    "        self.enc2 = nn.Linear(in_features=5, out_features=features*2)\n",
    " \n",
    "        # decoder \n",
    "        self.dec1 = nn.Linear(in_features=features, out_features=5)\n",
    "        self.dec2 = nn.Linear(in_features=5, out_features=features*2)\n",
    "    \n",
    "    def reparameterize(self, mu, log_var):\n",
    "        \"\"\"\n",
    "        :param mu: mean from the encoder's latent space\n",
    "        :param log_var: log variance from the encoder's latent space\n",
    "        \"\"\"\n",
    "        std = torch.exp(0.5*log_var) # standard deviation\n",
    "        eps = torch.randn_like(std) # `randn_like` as we need the same size\n",
    "        sample = mu + (eps * std) # sampling as if coming from the input space\n",
    "        return sample\n",
    " \n",
    "    def forward(self, x):\n",
    "        # encoding\n",
    "        x = F.relu(self.enc1(x))\n",
    "        x = self.enc2(x).view(-1, 2, features)\n",
    "        # get `mu` and `log_var`\n",
    "        mu = x[:, 0, :] # the first feature values as mean\n",
    "        log_var = x[:, 1, :] # the other feature values as variance\n",
    "        # get the latent vector through reparameterization\n",
    "        z = self.reparameterize(mu, log_var)\n",
    " \n",
    "        # decoding\n",
    "        x = F.relu(self.dec1(z))\n",
    "        reconstruction = self.dec2(x).view(-1, 2, features)\n",
    "        mu_theta = reconstruction[:, 0, :]\n",
    "        log_var_theta = reconstruction[:, 1, :] \n",
    "        return mu_theta,log_var_theta, mu, log_var"
   ]
  },
  {
   "cell_type": "code",
   "execution_count": 14,
   "id": "d1062140",
   "metadata": {},
   "outputs": [],
   "source": [
    "import torch\n",
    "import torchvision\n",
    "import torch.optim as optim\n",
    "import argparse\n",
    "import matplotlib\n",
    "import torch.nn as nn\n",
    "import matplotlib.pyplot as plt\n",
    "import torchvision.transforms as transforms\n",
    "#import model\n",
    "from tqdm import tqdm\n",
    "from torchvision import datasets\n",
    "from torch.utils.data import DataLoader\n",
    "from torchvision.utils import save_image\n",
    "import math\n",
    "import mpmath\n",
    "matplotlib.style.use('ggplot')"
   ]
  },
  {
   "cell_type": "code",
   "execution_count": 5,
   "id": "55bfa509",
   "metadata": {},
   "outputs": [],
   "source": [
    "# leanring parameters\n",
    "epochs = 1000\n",
    "batch_size = 64\n",
    "lr = 0.0001\n",
    "device = torch.device('cuda' if torch.cuda.is_available() else 'cpu')"
   ]
  },
  {
   "cell_type": "code",
   "execution_count": 6,
   "id": "149d6443",
   "metadata": {},
   "outputs": [
    {
     "name": "stdout",
     "output_type": "stream",
     "text": [
      "<torch.utils.data.dataset.TensorDataset object at 0x7ff7ab9caa60>\n"
     ]
    }
   ],
   "source": [
    "#Prepare dataset for training\n",
    "train_data = torch.utils.data.TensorDataset((torch.from_numpy(Y[:2880])).float())\n",
    "print(train_data)\n",
    "val_data = torch.utils.data.TensorDataset((torch.from_numpy(Y[2880:])).float())\n",
    "# training and validation data loaders\n",
    "train_loader = DataLoader(\n",
    "    train_data,\n",
    "    batch_size=batch_size,\n",
    "    shuffle=True\n",
    ")\n",
    "val_loader = DataLoader(\n",
    "    val_data,\n",
    "    batch_size=batch_size,\n",
    "    shuffle=False\n",
    ")"
   ]
  },
  {
   "cell_type": "code",
   "execution_count": 120,
   "id": "2c6e80de",
   "metadata": {},
   "outputs": [
    {
     "data": {
      "text/plain": [
       "'    \\ndef entropy_sum_loss(data,mu,logvar, mut,logvart):\\n    n_el =100\\n    epsilon = torch.randn(data.shape,100)\\n    samplex = mu+torch.exp(logvar)*epsilon\\n    cost = 1/n_el torch.sum()\\n    '"
      ]
     },
     "execution_count": 120,
     "metadata": {},
     "output_type": "execute_result"
    }
   ],
   "source": [
    "model1 = LinearVAE().to(device)\n",
    "optimizer = optim.Adam(model1.parameters(), lr=lr)\n",
    "\n",
    "def entropy_loss(data, mut,logvart):  \n",
    "    cost = torch.sum((data-mut)**2/(2*torch.exp(logvart)**2)+logvart)\n",
    "    return(cost)\n",
    "'''    \n",
    "def entropy_sum_loss(data,mu,logvar, mut,logvart):\n",
    "    n_el =100\n",
    "    epsilon = torch.randn(data.shape,100)\n",
    "    samplex = mu+torch.exp(logvar)*epsilon\n",
    "    cost = 1/n_el torch.sum()\n",
    "    '''"
   ]
  },
  {
   "cell_type": "code",
   "execution_count": 121,
   "id": "88a28dbe",
   "metadata": {},
   "outputs": [],
   "source": [
    "def final_loss(ES_loss, mu, logvar):\n",
    "    \"\"\"\n",
    "    This function will add the reconstruction loss (BCELoss) and the \n",
    "    KL-Divergence.\n",
    "    KL-Divergence = 0.5 * sum(1 + log(sigma^2) - mu^2 - sigma^2)\n",
    "    :param bce_loss: recontruction loss\n",
    "    :param mu: the mean from the latent vector\n",
    "    :param logvar: log variance from the latent vector\n",
    "    \"\"\"\n",
    "    ESL = ES_loss \n",
    "    KLD = -0.5 * torch.sum(1 + logvar - mu.pow(2) - logvar.exp())\n",
    "    return ES_loss + KLD"
   ]
  },
  {
   "cell_type": "code",
   "execution_count": 122,
   "id": "10197dd1",
   "metadata": {},
   "outputs": [],
   "source": [
    "def fit(model, dataloader):\n",
    "    model.train()\n",
    "    running_loss = 0.0\n",
    "    for i, batch in tqdm(enumerate(dataloader), total=int(len(train_data)/dataloader.batch_size)):\n",
    "        batch=batch[0]\n",
    "        batch= batch\n",
    "        batch = batch.to(device)\n",
    "        batch = batch.view(batch.size(0), -1)\n",
    "        optimizer.zero_grad()\n",
    "        mut,logvart, mu, logvar = model(batch)\n",
    "        ES_loss = entropy_loss(batch,mut,logvart)\n",
    "        loss = final_loss(ES_loss, mu, logvar)\n",
    "        running_loss += loss.item()\n",
    "        loss.backward()\n",
    "        optimizer.step()\n",
    "    train_loss = running_loss/len(dataloader.dataset)\n",
    "    return train_loss"
   ]
  },
  {
   "cell_type": "code",
   "execution_count": 123,
   "id": "953b25cf",
   "metadata": {},
   "outputs": [],
   "source": [
    "def validate(model, dataloader):\n",
    "    model.eval()\n",
    "    running_loss = 0.0\n",
    "    with torch.no_grad():\n",
    "        for i, batch in tqdm(enumerate(dataloader), total=int(len(val_data)/dataloader.batch_size)):            \n",
    "            batch=batch[0]\n",
    "            batch = batch.to(device)\n",
    "            batch = batch.view(batch.size(0), -1)\n",
    "            mut,logvart, mu, logvar = model(batch)\n",
    "            ES_loss = entropy_loss(batch,mut,logvart)\n",
    "            loss = final_loss(ES_loss, mu, logvar)\n",
    "            running_loss += loss.item()\n",
    "        \n",
    "            # save the last batch input and output of every epoch\n",
    "            #if i == int(len(val_data)/dataloader.batch_size) - 1:\n",
    "             #   num_rows = 8\n",
    "              #  both = torch.cat((data.view(batch_size, 1, 28, 28)[:8], \n",
    "               #                   reconstruction.view(batch_size, 1, 28, 28)[:8]))\n",
    "              #  save_image(both.cpu(), f\"../outputs/output{epoch}.png\", nrow=num_rows)\n",
    "    val_loss = running_loss/len(dataloader.dataset)\n",
    "    return val_loss"
   ]
  },
  {
   "cell_type": "code",
   "execution_count": 124,
   "id": "56bf4c03",
   "metadata": {},
   "outputs": [
    {
     "name": "stderr",
     "output_type": "stream",
     "text": [
      "100%|██████████| 45/45 [00:00<00:00, 283.91it/s]\n",
      "100%|██████████| 5/5 [00:00<00:00, 905.78it/s]\n",
      "  0%|          | 0/45 [00:00<?, ?it/s]"
     ]
    },
    {
     "name": "stdout",
     "output_type": "stream",
     "text": [
      "Epoch 1 of 1000\n",
      "<torch.utils.data.dataloader.DataLoader object at 0x7fa3f0588b20>\n",
      "Train Loss: 2.1176\n",
      "Val Loss: 1.9623\n",
      "Epoch 2 of 1000\n",
      "<torch.utils.data.dataloader.DataLoader object at 0x7fa3f0588b20>\n"
     ]
    },
    {
     "name": "stderr",
     "output_type": "stream",
     "text": [
      "100%|██████████| 45/45 [00:00<00:00, 291.74it/s]\n",
      "100%|██████████| 5/5 [00:00<00:00, 872.65it/s]\n",
      "100%|██████████| 45/45 [00:00<00:00, 287.90it/s]\n",
      "100%|██████████| 5/5 [00:00<00:00, 965.10it/s]\n",
      "  0%|          | 0/45 [00:00<?, ?it/s]"
     ]
    },
    {
     "name": "stdout",
     "output_type": "stream",
     "text": [
      "Train Loss: 2.0054\n",
      "Val Loss: 1.9120\n",
      "Epoch 3 of 1000\n",
      "<torch.utils.data.dataloader.DataLoader object at 0x7fa3f0588b20>\n",
      "Train Loss: 1.9927\n",
      "Val Loss: 1.8838\n",
      "Epoch 4 of 1000\n",
      "<torch.utils.data.dataloader.DataLoader object at 0x7fa3f0588b20>\n"
     ]
    },
    {
     "name": "stderr",
     "output_type": "stream",
     "text": [
      "100%|██████████| 45/45 [00:00<00:00, 292.77it/s]\n",
      "100%|██████████| 5/5 [00:00<00:00, 898.52it/s]\n",
      "100%|██████████| 45/45 [00:00<00:00, 291.50it/s]\n",
      "100%|██████████| 5/5 [00:00<00:00, 921.87it/s]\n",
      "  0%|          | 0/45 [00:00<?, ?it/s]"
     ]
    },
    {
     "name": "stdout",
     "output_type": "stream",
     "text": [
      "Train Loss: 1.9001\n",
      "Val Loss: 1.8092\n",
      "Epoch 5 of 1000\n",
      "<torch.utils.data.dataloader.DataLoader object at 0x7fa3f0588b20>\n",
      "Train Loss: 1.8656\n",
      "Val Loss: 1.7949\n",
      "Epoch 6 of 1000\n",
      "<torch.utils.data.dataloader.DataLoader object at 0x7fa3f0588b20>\n"
     ]
    },
    {
     "name": "stderr",
     "output_type": "stream",
     "text": [
      "100%|██████████| 45/45 [00:00<00:00, 288.05it/s]\n",
      "100%|██████████| 5/5 [00:00<00:00, 716.56it/s]\n",
      "100%|██████████| 45/45 [00:00<00:00, 287.35it/s]\n",
      "100%|██████████| 5/5 [00:00<00:00, 918.68it/s]\n",
      "  0%|          | 0/45 [00:00<?, ?it/s]"
     ]
    },
    {
     "name": "stdout",
     "output_type": "stream",
     "text": [
      "Train Loss: 1.8130\n",
      "Val Loss: 1.7059\n",
      "Epoch 7 of 1000\n",
      "<torch.utils.data.dataloader.DataLoader object at 0x7fa3f0588b20>\n",
      "Train Loss: 1.7681\n",
      "Val Loss: 1.6962\n",
      "Epoch 8 of 1000\n",
      "<torch.utils.data.dataloader.DataLoader object at 0x7fa3f0588b20>\n"
     ]
    },
    {
     "name": "stderr",
     "output_type": "stream",
     "text": [
      "100%|██████████| 45/45 [00:00<00:00, 284.61it/s]\n",
      "100%|██████████| 5/5 [00:00<00:00, 915.43it/s]\n",
      "100%|██████████| 45/45 [00:00<00:00, 276.24it/s]\n",
      "100%|██████████| 5/5 [00:00<00:00, 915.83it/s]\n",
      "  0%|          | 0/45 [00:00<?, ?it/s]"
     ]
    },
    {
     "name": "stdout",
     "output_type": "stream",
     "text": [
      "Train Loss: 1.7493\n",
      "Val Loss: 1.6272\n",
      "Epoch 9 of 1000\n",
      "<torch.utils.data.dataloader.DataLoader object at 0x7fa3f0588b20>\n",
      "Train Loss: 1.7128\n",
      "Val Loss: 1.5953\n",
      "Epoch 10 of 1000\n",
      "<torch.utils.data.dataloader.DataLoader object at 0x7fa3f0588b20>\n"
     ]
    },
    {
     "name": "stderr",
     "output_type": "stream",
     "text": [
      "100%|██████████| 45/45 [00:00<00:00, 283.83it/s]\n",
      "100%|██████████| 5/5 [00:00<00:00, 874.62it/s]\n",
      "100%|██████████| 45/45 [00:00<00:00, 282.59it/s]\n",
      "100%|██████████| 5/5 [00:00<00:00, 873.05it/s]\n",
      "  0%|          | 0/45 [00:00<?, ?it/s]"
     ]
    },
    {
     "name": "stdout",
     "output_type": "stream",
     "text": [
      "Train Loss: 1.6745\n",
      "Val Loss: 1.5649\n",
      "Epoch 11 of 1000\n",
      "<torch.utils.data.dataloader.DataLoader object at 0x7fa3f0588b20>\n",
      "Train Loss: 1.6481\n",
      "Val Loss: 1.5324\n",
      "Epoch 12 of 1000\n",
      "<torch.utils.data.dataloader.DataLoader object at 0x7fa3f0588b20>\n"
     ]
    },
    {
     "name": "stderr",
     "output_type": "stream",
     "text": [
      "100%|██████████| 45/45 [00:00<00:00, 282.03it/s]\n",
      "100%|██████████| 5/5 [00:00<00:00, 909.16it/s]\n",
      "100%|██████████| 45/45 [00:00<00:00, 287.51it/s]\n",
      "100%|██████████| 5/5 [00:00<00:00, 929.55it/s]\n",
      "  0%|          | 0/45 [00:00<?, ?it/s]"
     ]
    },
    {
     "name": "stdout",
     "output_type": "stream",
     "text": [
      "Train Loss: 1.6326\n",
      "Val Loss: 1.5737\n",
      "Epoch 13 of 1000\n",
      "<torch.utils.data.dataloader.DataLoader object at 0x7fa3f0588b20>\n",
      "Train Loss: 1.6144\n",
      "Val Loss: 1.5173\n",
      "Epoch 14 of 1000\n",
      "<torch.utils.data.dataloader.DataLoader object at 0x7fa3f0588b20>\n"
     ]
    },
    {
     "name": "stderr",
     "output_type": "stream",
     "text": [
      "100%|██████████| 45/45 [00:00<00:00, 289.63it/s]\n",
      "100%|██████████| 5/5 [00:00<00:00, 891.91it/s]\n",
      "100%|██████████| 45/45 [00:00<00:00, 273.37it/s]\n",
      "100%|██████████| 5/5 [00:00<00:00, 905.55it/s]\n",
      "  0%|          | 0/45 [00:00<?, ?it/s]"
     ]
    },
    {
     "name": "stdout",
     "output_type": "stream",
     "text": [
      "Train Loss: 1.5900\n",
      "Val Loss: 1.5030\n",
      "Epoch 15 of 1000\n",
      "<torch.utils.data.dataloader.DataLoader object at 0x7fa3f0588b20>\n",
      "Train Loss: 1.5677\n",
      "Val Loss: 1.5122\n",
      "Epoch 16 of 1000\n",
      "<torch.utils.data.dataloader.DataLoader object at 0x7fa3f0588b20>\n"
     ]
    },
    {
     "name": "stderr",
     "output_type": "stream",
     "text": [
      "100%|██████████| 45/45 [00:00<00:00, 287.56it/s]\n",
      "100%|██████████| 5/5 [00:00<00:00, 918.27it/s]\n",
      "100%|██████████| 45/45 [00:00<00:00, 288.01it/s]\n",
      "100%|██████████| 5/5 [00:00<00:00, 819.17it/s]\n",
      "  0%|          | 0/45 [00:00<?, ?it/s]"
     ]
    },
    {
     "name": "stdout",
     "output_type": "stream",
     "text": [
      "Train Loss: 1.5530\n",
      "Val Loss: 1.4736\n",
      "Epoch 17 of 1000\n",
      "<torch.utils.data.dataloader.DataLoader object at 0x7fa3f0588b20>\n",
      "Train Loss: 1.5246\n",
      "Val Loss: 1.4468\n",
      "Epoch 18 of 1000\n",
      "<torch.utils.data.dataloader.DataLoader object at 0x7fa3f0588b20>\n"
     ]
    },
    {
     "name": "stderr",
     "output_type": "stream",
     "text": [
      "100%|██████████| 45/45 [00:00<00:00, 284.10it/s]\n",
      "100%|██████████| 5/5 [00:00<00:00, 947.52it/s]\n",
      "100%|██████████| 45/45 [00:00<00:00, 286.22it/s]\n",
      "100%|██████████| 5/5 [00:00<00:00, 871.49it/s]\n",
      "  0%|          | 0/45 [00:00<?, ?it/s]"
     ]
    },
    {
     "name": "stdout",
     "output_type": "stream",
     "text": [
      "Train Loss: 1.5226\n",
      "Val Loss: 1.4330\n",
      "Epoch 19 of 1000\n",
      "<torch.utils.data.dataloader.DataLoader object at 0x7fa3f0588b20>\n",
      "Train Loss: 1.5016\n",
      "Val Loss: 1.4367\n",
      "Epoch 20 of 1000\n",
      "<torch.utils.data.dataloader.DataLoader object at 0x7fa3f0588b20>\n"
     ]
    },
    {
     "name": "stderr",
     "output_type": "stream",
     "text": [
      "100%|██████████| 45/45 [00:00<00:00, 283.41it/s]\n",
      "100%|██████████| 5/5 [00:00<00:00, 694.81it/s]\n",
      "100%|██████████| 45/45 [00:00<00:00, 279.72it/s]\n",
      "100%|██████████| 5/5 [00:00<00:00, 944.66it/s]\n",
      "  0%|          | 0/45 [00:00<?, ?it/s]"
     ]
    },
    {
     "name": "stdout",
     "output_type": "stream",
     "text": [
      "Train Loss: 1.4935\n",
      "Val Loss: 1.4238\n",
      "Epoch 21 of 1000\n",
      "<torch.utils.data.dataloader.DataLoader object at 0x7fa3f0588b20>\n",
      "Train Loss: 1.4760\n",
      "Val Loss: 1.3873\n",
      "Epoch 22 of 1000\n",
      "<torch.utils.data.dataloader.DataLoader object at 0x7fa3f0588b20>\n"
     ]
    },
    {
     "name": "stderr",
     "output_type": "stream",
     "text": [
      "100%|██████████| 45/45 [00:00<00:00, 289.50it/s]\n",
      "100%|██████████| 5/5 [00:00<00:00, 721.94it/s]\n",
      "100%|██████████| 45/45 [00:00<00:00, 281.94it/s]\n",
      "100%|██████████| 5/5 [00:00<00:00, 908.05it/s]\n",
      "  0%|          | 0/45 [00:00<?, ?it/s]"
     ]
    },
    {
     "name": "stdout",
     "output_type": "stream",
     "text": [
      "Train Loss: 1.4582\n",
      "Val Loss: 1.3744\n",
      "Epoch 23 of 1000\n",
      "<torch.utils.data.dataloader.DataLoader object at 0x7fa3f0588b20>\n",
      "Train Loss: 1.4554\n",
      "Val Loss: 1.3661\n",
      "Epoch 24 of 1000\n",
      "<torch.utils.data.dataloader.DataLoader object at 0x7fa3f0588b20>\n"
     ]
    },
    {
     "name": "stderr",
     "output_type": "stream",
     "text": [
      "100%|██████████| 45/45 [00:00<00:00, 286.96it/s]\n",
      "100%|██████████| 5/5 [00:00<00:00, 871.02it/s]\n",
      "100%|██████████| 45/45 [00:00<00:00, 278.23it/s]\n",
      "100%|██████████| 5/5 [00:00<00:00, 960.10it/s]\n",
      "  0%|          | 0/45 [00:00<?, ?it/s]"
     ]
    },
    {
     "name": "stdout",
     "output_type": "stream",
     "text": [
      "Train Loss: 1.4421\n",
      "Val Loss: 1.3790\n",
      "Epoch 25 of 1000\n",
      "<torch.utils.data.dataloader.DataLoader object at 0x7fa3f0588b20>\n",
      "Train Loss: 1.4300\n",
      "Val Loss: 1.3344\n",
      "Epoch 26 of 1000\n",
      "<torch.utils.data.dataloader.DataLoader object at 0x7fa3f0588b20>\n"
     ]
    },
    {
     "name": "stderr",
     "output_type": "stream",
     "text": [
      "100%|██████████| 45/45 [00:00<00:00, 283.91it/s]\n",
      "100%|██████████| 5/5 [00:00<00:00, 934.56it/s]\n",
      "100%|██████████| 45/45 [00:00<00:00, 265.87it/s]\n",
      "100%|██████████| 5/5 [00:00<00:00, 937.99it/s]\n",
      "  0%|          | 0/45 [00:00<?, ?it/s]"
     ]
    },
    {
     "name": "stdout",
     "output_type": "stream",
     "text": [
      "Train Loss: 1.4156\n",
      "Val Loss: 1.3397\n",
      "Epoch 27 of 1000\n",
      "<torch.utils.data.dataloader.DataLoader object at 0x7fa3f0588b20>\n",
      "Train Loss: 1.4180\n",
      "Val Loss: 1.3494\n",
      "Epoch 28 of 1000\n",
      "<torch.utils.data.dataloader.DataLoader object at 0x7fa3f0588b20>\n"
     ]
    },
    {
     "name": "stderr",
     "output_type": "stream",
     "text": [
      "100%|██████████| 45/45 [00:00<00:00, 282.26it/s]\n",
      "100%|██████████| 5/5 [00:00<00:00, 950.92it/s]\n",
      "100%|██████████| 45/45 [00:00<00:00, 280.41it/s]\n",
      "100%|██████████| 5/5 [00:00<00:00, 897.06it/s]\n",
      "  0%|          | 0/45 [00:00<?, ?it/s]"
     ]
    },
    {
     "name": "stdout",
     "output_type": "stream",
     "text": [
      "Train Loss: 1.4091\n",
      "Val Loss: 1.3362\n",
      "Epoch 29 of 1000\n",
      "<torch.utils.data.dataloader.DataLoader object at 0x7fa3f0588b20>\n",
      "Train Loss: 1.3925\n",
      "Val Loss: 1.3449\n",
      "Epoch 30 of 1000\n",
      "<torch.utils.data.dataloader.DataLoader object at 0x7fa3f0588b20>\n"
     ]
    },
    {
     "name": "stderr",
     "output_type": "stream",
     "text": [
      "100%|██████████| 45/45 [00:00<00:00, 287.60it/s]\n",
      "100%|██████████| 5/5 [00:00<00:00, 876.11it/s]\n",
      "100%|██████████| 45/45 [00:00<00:00, 285.09it/s]\n",
      "100%|██████████| 5/5 [00:00<00:00, 762.57it/s]\n",
      "  0%|          | 0/45 [00:00<?, ?it/s]"
     ]
    },
    {
     "name": "stdout",
     "output_type": "stream",
     "text": [
      "Train Loss: 1.3948\n",
      "Val Loss: 1.3227\n",
      "Epoch 31 of 1000\n",
      "<torch.utils.data.dataloader.DataLoader object at 0x7fa3f0588b20>\n",
      "Train Loss: 1.3943\n",
      "Val Loss: 1.2883\n",
      "Epoch 32 of 1000\n",
      "<torch.utils.data.dataloader.DataLoader object at 0x7fa3f0588b20>\n"
     ]
    },
    {
     "name": "stderr",
     "output_type": "stream",
     "text": [
      "100%|██████████| 45/45 [00:00<00:00, 291.03it/s]\n",
      "100%|██████████| 5/5 [00:00<00:00, 534.76it/s]\n",
      "100%|██████████| 45/45 [00:00<00:00, 283.57it/s]\n",
      "100%|██████████| 5/5 [00:00<00:00, 931.98it/s]\n",
      "  0%|          | 0/45 [00:00<?, ?it/s]"
     ]
    },
    {
     "name": "stdout",
     "output_type": "stream",
     "text": [
      "Train Loss: 1.3799\n",
      "Val Loss: 1.2834\n",
      "Epoch 33 of 1000\n",
      "<torch.utils.data.dataloader.DataLoader object at 0x7fa3f0588b20>\n",
      "Train Loss: 1.3845\n",
      "Val Loss: 1.2855\n",
      "Epoch 34 of 1000\n",
      "<torch.utils.data.dataloader.DataLoader object at 0x7fa3f0588b20>\n"
     ]
    },
    {
     "name": "stderr",
     "output_type": "stream",
     "text": [
      "100%|██████████| 45/45 [00:00<00:00, 287.23it/s]\n",
      "100%|██████████| 5/5 [00:00<00:00, 947.22it/s]\n",
      "100%|██████████| 45/45 [00:00<00:00, 288.75it/s]\n",
      "100%|██████████| 5/5 [00:00<00:00, 894.99it/s]\n",
      "  0%|          | 0/45 [00:00<?, ?it/s]"
     ]
    },
    {
     "name": "stdout",
     "output_type": "stream",
     "text": [
      "Train Loss: 1.3672\n",
      "Val Loss: 1.3020\n",
      "Epoch 35 of 1000\n",
      "<torch.utils.data.dataloader.DataLoader object at 0x7fa3f0588b20>\n",
      "Train Loss: 1.3602\n",
      "Val Loss: 1.2839\n",
      "Epoch 36 of 1000\n",
      "<torch.utils.data.dataloader.DataLoader object at 0x7fa3f0588b20>\n"
     ]
    },
    {
     "name": "stderr",
     "output_type": "stream",
     "text": [
      "100%|██████████| 45/45 [00:00<00:00, 289.56it/s]\n",
      "100%|██████████| 5/5 [00:00<00:00, 873.67it/s]\n",
      " 58%|█████▊    | 26/45 [00:00<00:00, 276.25it/s]"
     ]
    },
    {
     "name": "stdout",
     "output_type": "stream",
     "text": [
      "Train Loss: 1.3628\n",
      "Val Loss: 1.2944\n",
      "Epoch 37 of 1000\n",
      "<torch.utils.data.dataloader.DataLoader object at 0x7fa3f0588b20>\n"
     ]
    },
    {
     "name": "stderr",
     "output_type": "stream",
     "text": [
      "\n"
     ]
    },
    {
     "ename": "KeyboardInterrupt",
     "evalue": "",
     "output_type": "error",
     "traceback": [
      "\u001b[0;31m---------------------------------------------------------------------------\u001b[0m",
      "\u001b[0;31mKeyboardInterrupt\u001b[0m                         Traceback (most recent call last)",
      "\u001b[0;32m<ipython-input-124-ba4a0cf3e3c7>\u001b[0m in \u001b[0;36m<module>\u001b[0;34m\u001b[0m\n\u001b[1;32m      4\u001b[0m     \u001b[0mprint\u001b[0m\u001b[0;34m(\u001b[0m\u001b[0;34mf\"Epoch {epoch+1} of {epochs}\"\u001b[0m\u001b[0;34m)\u001b[0m\u001b[0;34m\u001b[0m\u001b[0;34m\u001b[0m\u001b[0m\n\u001b[1;32m      5\u001b[0m     \u001b[0mprint\u001b[0m\u001b[0;34m(\u001b[0m\u001b[0mtrain_loader\u001b[0m\u001b[0;34m)\u001b[0m\u001b[0;34m\u001b[0m\u001b[0;34m\u001b[0m\u001b[0m\n\u001b[0;32m----> 6\u001b[0;31m     \u001b[0mtrain_epoch_loss\u001b[0m \u001b[0;34m=\u001b[0m \u001b[0mfit\u001b[0m\u001b[0;34m(\u001b[0m\u001b[0mmodel1\u001b[0m\u001b[0;34m,\u001b[0m \u001b[0mtrain_loader\u001b[0m\u001b[0;34m)\u001b[0m\u001b[0;34m\u001b[0m\u001b[0;34m\u001b[0m\u001b[0m\n\u001b[0m\u001b[1;32m      7\u001b[0m     \u001b[0mval_epoch_loss\u001b[0m \u001b[0;34m=\u001b[0m \u001b[0mvalidate\u001b[0m\u001b[0;34m(\u001b[0m\u001b[0mmodel1\u001b[0m\u001b[0;34m,\u001b[0m \u001b[0mval_loader\u001b[0m\u001b[0;34m)\u001b[0m\u001b[0;34m\u001b[0m\u001b[0;34m\u001b[0m\u001b[0m\n\u001b[1;32m      8\u001b[0m     \u001b[0mtrain_loss\u001b[0m\u001b[0;34m.\u001b[0m\u001b[0mappend\u001b[0m\u001b[0;34m(\u001b[0m\u001b[0mtrain_epoch_loss\u001b[0m\u001b[0;34m)\u001b[0m\u001b[0;34m\u001b[0m\u001b[0;34m\u001b[0m\u001b[0m\n",
      "\u001b[0;32m<ipython-input-122-a237517e7584>\u001b[0m in \u001b[0;36mfit\u001b[0;34m(model, dataloader)\u001b[0m\n\u001b[1;32m     12\u001b[0m         \u001b[0mloss\u001b[0m \u001b[0;34m=\u001b[0m \u001b[0mfinal_loss\u001b[0m\u001b[0;34m(\u001b[0m\u001b[0mES_loss\u001b[0m\u001b[0;34m,\u001b[0m \u001b[0mmu\u001b[0m\u001b[0;34m,\u001b[0m \u001b[0mlogvar\u001b[0m\u001b[0;34m)\u001b[0m\u001b[0;34m\u001b[0m\u001b[0;34m\u001b[0m\u001b[0m\n\u001b[1;32m     13\u001b[0m         \u001b[0mrunning_loss\u001b[0m \u001b[0;34m+=\u001b[0m \u001b[0mloss\u001b[0m\u001b[0;34m.\u001b[0m\u001b[0mitem\u001b[0m\u001b[0;34m(\u001b[0m\u001b[0;34m)\u001b[0m\u001b[0;34m\u001b[0m\u001b[0;34m\u001b[0m\u001b[0m\n\u001b[0;32m---> 14\u001b[0;31m         \u001b[0mloss\u001b[0m\u001b[0;34m.\u001b[0m\u001b[0mbackward\u001b[0m\u001b[0;34m(\u001b[0m\u001b[0;34m)\u001b[0m\u001b[0;34m\u001b[0m\u001b[0;34m\u001b[0m\u001b[0m\n\u001b[0m\u001b[1;32m     15\u001b[0m         \u001b[0moptimizer\u001b[0m\u001b[0;34m.\u001b[0m\u001b[0mstep\u001b[0m\u001b[0;34m(\u001b[0m\u001b[0;34m)\u001b[0m\u001b[0;34m\u001b[0m\u001b[0;34m\u001b[0m\u001b[0m\n\u001b[1;32m     16\u001b[0m     \u001b[0mtrain_loss\u001b[0m \u001b[0;34m=\u001b[0m \u001b[0mrunning_loss\u001b[0m\u001b[0;34m/\u001b[0m\u001b[0mlen\u001b[0m\u001b[0;34m(\u001b[0m\u001b[0mdataloader\u001b[0m\u001b[0;34m.\u001b[0m\u001b[0mdataset\u001b[0m\u001b[0;34m)\u001b[0m\u001b[0;34m\u001b[0m\u001b[0;34m\u001b[0m\u001b[0m\n",
      "\u001b[0;32m/anaconda/envs/4dvarnet/lib/python3.9/site-packages/torch/tensor.py\u001b[0m in \u001b[0;36mbackward\u001b[0;34m(self, gradient, retain_graph, create_graph, inputs)\u001b[0m\n\u001b[1;32m    243\u001b[0m                 \u001b[0mcreate_graph\u001b[0m\u001b[0;34m=\u001b[0m\u001b[0mcreate_graph\u001b[0m\u001b[0;34m,\u001b[0m\u001b[0;34m\u001b[0m\u001b[0;34m\u001b[0m\u001b[0m\n\u001b[1;32m    244\u001b[0m                 inputs=inputs)\n\u001b[0;32m--> 245\u001b[0;31m         \u001b[0mtorch\u001b[0m\u001b[0;34m.\u001b[0m\u001b[0mautograd\u001b[0m\u001b[0;34m.\u001b[0m\u001b[0mbackward\u001b[0m\u001b[0;34m(\u001b[0m\u001b[0mself\u001b[0m\u001b[0;34m,\u001b[0m \u001b[0mgradient\u001b[0m\u001b[0;34m,\u001b[0m \u001b[0mretain_graph\u001b[0m\u001b[0;34m,\u001b[0m \u001b[0mcreate_graph\u001b[0m\u001b[0;34m,\u001b[0m \u001b[0minputs\u001b[0m\u001b[0;34m=\u001b[0m\u001b[0minputs\u001b[0m\u001b[0;34m)\u001b[0m\u001b[0;34m\u001b[0m\u001b[0;34m\u001b[0m\u001b[0m\n\u001b[0m\u001b[1;32m    246\u001b[0m \u001b[0;34m\u001b[0m\u001b[0m\n\u001b[1;32m    247\u001b[0m     \u001b[0;32mdef\u001b[0m \u001b[0mregister_hook\u001b[0m\u001b[0;34m(\u001b[0m\u001b[0mself\u001b[0m\u001b[0;34m,\u001b[0m \u001b[0mhook\u001b[0m\u001b[0;34m)\u001b[0m\u001b[0;34m:\u001b[0m\u001b[0;34m\u001b[0m\u001b[0;34m\u001b[0m\u001b[0m\n",
      "\u001b[0;32m/anaconda/envs/4dvarnet/lib/python3.9/site-packages/torch/autograd/__init__.py\u001b[0m in \u001b[0;36mbackward\u001b[0;34m(tensors, grad_tensors, retain_graph, create_graph, grad_variables, inputs)\u001b[0m\n\u001b[1;32m    143\u001b[0m         \u001b[0mretain_graph\u001b[0m \u001b[0;34m=\u001b[0m \u001b[0mcreate_graph\u001b[0m\u001b[0;34m\u001b[0m\u001b[0;34m\u001b[0m\u001b[0m\n\u001b[1;32m    144\u001b[0m \u001b[0;34m\u001b[0m\u001b[0m\n\u001b[0;32m--> 145\u001b[0;31m     Variable._execution_engine.run_backward(\n\u001b[0m\u001b[1;32m    146\u001b[0m         \u001b[0mtensors\u001b[0m\u001b[0;34m,\u001b[0m \u001b[0mgrad_tensors_\u001b[0m\u001b[0;34m,\u001b[0m \u001b[0mretain_graph\u001b[0m\u001b[0;34m,\u001b[0m \u001b[0mcreate_graph\u001b[0m\u001b[0;34m,\u001b[0m \u001b[0minputs\u001b[0m\u001b[0;34m,\u001b[0m\u001b[0;34m\u001b[0m\u001b[0;34m\u001b[0m\u001b[0m\n\u001b[1;32m    147\u001b[0m         allow_unreachable=True, accumulate_grad=True)  # allow_unreachable flag\n",
      "\u001b[0;31mKeyboardInterrupt\u001b[0m: "
     ]
    }
   ],
   "source": [
    "train_loss = []\n",
    "val_loss = []\n",
    "for epoch in range(epochs):\n",
    "    print(f\"Epoch {epoch+1} of {epochs}\")\n",
    "    print(train_loader)\n",
    "    train_epoch_loss = fit(model1, train_loader)\n",
    "    val_epoch_loss = validate(model1, val_loader)\n",
    "    train_loss.append(train_epoch_loss)\n",
    "    val_loss.append(val_epoch_loss)\n",
    "    print(f\"Train Loss: {train_epoch_loss:.4f}\")\n",
    "    print(f\"Val Loss: {val_epoch_loss:.4f}\")"
   ]
  },
  {
   "cell_type": "markdown",
   "id": "38746d4b",
   "metadata": {},
   "source": [
    "# Inv-Gamma VAE"
   ]
  },
  {
   "cell_type": "markdown",
   "id": "9b291568",
   "metadata": {},
   "source": [
    "We set alpha = 2 because according to our model, the shape parameter of the obs and hidden state is equal. We use a hyperparameters beta=0.5 .\n",
    "For the sake of the simplicity and to use the decomposition of gamma law as sum of exponential we set alphaq =2"
   ]
  },
  {
   "cell_type": "code",
   "execution_count": null,
   "id": "a83dbb71",
   "metadata": {},
   "outputs": [],
   "source": [
    "features = 1\n",
    "# define a simple linear VAE\n",
    "class LinearVAE_invG(nn.Module):\n",
    "    def __init__(self):\n",
    "        super(LinearVAE_invG, self).__init__()\n",
    "        \n",
    "        self.beta_p = 0.5\n",
    " \n",
    "        # encoder\n",
    "        self.enc1 = nn.Linear(in_features=1, out_features=5)\n",
    "        self.enc2 = nn.Linear(in_features=5, out_features=features)\n",
    " \n",
    "        # decoder \n",
    "        self.dec1 = nn.Linear(in_features=features, out_features=5)\n",
    "        self.dec2 = nn.Linear(in_features=5, out_features=features*2)\n",
    "    \n",
    "    def reparameterize(self, beta):\n",
    "        \"\"\"\n",
    "        :param alpha: 2\n",
    "        :param beta:  from the encoder's latent space\n",
    "        \"\"\"\n",
    "        alpha = 2 \n",
    "        u1 = torch.rand_like(beta)\n",
    "        u2 =torch.rand_like(beta)\n",
    "        \n",
    "        sample = -1/(beta*(torch.log(1-u1)+torch.log(1-u2))) # sampling as if coming from the input space\n",
    "        return sample\n",
    " \n",
    "    def forward(self, x):\n",
    "        # encoding\n",
    "        x = F.relu(self.enc1(x))\n",
    "        x = self.enc2(x)\n",
    "        # get `mu` and `log_var`\n",
    "        beta = x**2 \n",
    "        z = self.reparameterize(beta)\n",
    "        # decoding\n",
    "        x = F.relu(self.dec1(z))\n",
    "        reconstruction = self.dec2(x).view(-1, 2, features)\n",
    "        alpha_theta = reconstruction[:, 0, :]**2\n",
    "        beta_theta = reconstruction[:, 1, :] **2\n",
    "        return beta, alpha_theta, beta_theta"
   ]
  },
  {
   "cell_type": "code",
   "execution_count": null,
   "id": "c21673b0",
   "metadata": {},
   "outputs": [],
   "source": [
    "model2 = LinearVAE_invG().to(device)\n",
    "optimizer = optim.Adam(model2.parameters(), lr=lr)\n",
    "\n",
    "def entropy_loss(data, alpha_t,beta_t):  \n",
    "    cost = torch.mean((alpha_t-1)* torch.log(data)-beta_t*data+alpha_t*torch.log(beta_t) -torch.lgamma(alpha_t))\n",
    "    return(cost)"
   ]
  },
  {
   "cell_type": "code",
   "execution_count": null,
   "id": "95b45bf9",
   "metadata": {},
   "outputs": [],
   "source": [
    "def final_loss(ES_loss, beta_q):\n",
    "    \"\"\"\n",
    "    This function will add the reconstruction loss (BCELoss) and the \n",
    "    KL-Divergence.\n",
    "    KL-Divergence = 0.5 * sum(1 + log(sigma^2) - mu^2 - sigma^2)\n",
    "    :param bce_loss: recontruction loss\n",
    "    :param mu: the mean from the latent vector\n",
    "    :param logvar: log variance from the latent vector\n",
    "    \"\"\"\n",
    "    ESL = -ES_loss \n",
    "    KLD = torch.mean(4*(torch.log(beta_q))+1/beta_q)\n",
    "    return ES_loss + KLD"
   ]
  },
  {
   "cell_type": "code",
   "execution_count": null,
   "id": "db71f125",
   "metadata": {},
   "outputs": [],
   "source": [
    "def fit(model, dataloader):\n",
    "    model.train()\n",
    "    running_loss = 0.0\n",
    "    for i, batch in tqdm(enumerate(dataloader), total=int(len(train_data)/dataloader.batch_size)):\n",
    "        batch=batch[0]\n",
    "        batch= batch\n",
    "        batch = batch.to(device)\n",
    "        batch = batch.view(batch.size(0), -1)\n",
    "        optimizer.zero_grad()\n",
    "        beta_q, alpha_t, beta_t = model(batch)\n",
    "        ES_loss = entropy_loss(batch,alpha_t,beta_t)\n",
    "        loss = final_loss(ES_loss, beta_q)\n",
    "        running_loss += loss.item()\n",
    "        loss.backward()\n",
    "        optimizer.step()\n",
    "    train_loss = running_loss/len(dataloader.dataset)\n",
    "    return train_loss"
   ]
  },
  {
   "cell_type": "code",
   "execution_count": null,
   "id": "11fdcd8c",
   "metadata": {},
   "outputs": [],
   "source": [
    "def validate(model, dataloader):\n",
    "    model.eval()\n",
    "    running_loss = 0.0\n",
    "    with torch.no_grad():\n",
    "        for i, batch in tqdm(enumerate(dataloader), total=int(len(val_data)/dataloader.batch_size)):            \n",
    "            batch=batch[0]\n",
    "            batch = batch.to(device)\n",
    "            batch = batch.view(batch.size(0), -1)\n",
    "            beta_q, alpha_t, beta_t = model(batch)\n",
    "            ES_loss = entropy_loss(batch,alpha_t,beta_t)\n",
    "            loss = final_loss(ES_loss, beta_q)\n",
    "            running_loss += loss.item()\n",
    "        \n",
    "            # save the last batch input and output of every epoch\n",
    "            #if i == int(len(val_data)/dataloader.batch_size) - 1:\n",
    "             #   num_rows = 8\n",
    "              #  both = torch.cat((data.view(batch_size, 1, 28, 28)[:8], \n",
    "               #                   reconstruction.view(batch_size, 1, 28, 28)[:8]))\n",
    "              #  save_image(both.cpu(), f\"../outputs/output{epoch}.png\", nrow=num_rows)\n",
    "    val_loss = running_loss/len(dataloader.dataset)\n",
    "    return val_loss"
   ]
  },
  {
   "cell_type": "code",
   "execution_count": null,
   "id": "76e8baf1",
   "metadata": {},
   "outputs": [],
   "source": [
    "train_loss = []\n",
    "val_loss = []\n",
    "for epoch in range(epochs):\n",
    "    print(f\"Epoch {epoch+1} of {epochs}\")\n",
    "    print(train_loader)\n",
    "    train_epoch_loss = fit(model2, train_loader)\n",
    "    val_epoch_loss = validate(model2, val_loader)\n",
    "    train_loss.append(train_epoch_loss)\n",
    "    val_loss.append(val_epoch_loss)\n",
    "    print(f\"Train Loss: {train_epoch_loss:.4f}\")\n",
    "    print(f\"Val Loss: {val_epoch_loss:.4f}\")"
   ]
  },
  {
   "cell_type": "code",
   "execution_count": 65,
   "id": "dfdc2114",
   "metadata": {},
   "outputs": [],
   "source": [
    "# Data generation\n",
    "X_test=1/np.random.gamma(2,2,256)\n",
    "A = np.random.gamma(2,2,256)\n",
    "Y_test=A*X_test\n",
    "Y_test =torch.from_numpy(Y_test).float()\n",
    "Y_test= Y_test.to(device)\n",
    "Y_test=Y_test.reshape(256,1)\n",
    "X_test =torch.from_numpy(X_test).float()\n",
    "X_test= X_test.to(device)"
   ]
  },
  {
   "cell_type": "code",
   "execution_count": null,
   "id": "fc85d9c3",
   "metadata": {},
   "outputs": [],
   "source": [
    "mu_theta_test,log_var_theta_test, mu_test, log_var_test =model1(torch.log(Y_test))\n",
    "#beta_test,alpha_t_test,beta_t_test = model2(Y_test)"
   ]
  },
  {
   "cell_type": "code",
   "execution_count": null,
   "id": "f0463fa2",
   "metadata": {},
   "outputs": [],
   "source": [
    "print(beta_test)\n",
    "print(alpha_t_test)\n",
    "print(beta_t_test)"
   ]
  },
  {
   "cell_type": "code",
   "execution_count": null,
   "id": "56228edc",
   "metadata": {},
   "outputs": [],
   "source": [
    "#Score entropie :\n",
    "SE_gauss = torch.mean(0.5*(mu_test-torch.log(X_test))**2/(torch.exp(log_var_test))+log_var_test+0.5*np.log(2*np.pi))\n",
    "#SE_invG = -torch.mean(2*torch.log(beta_test)-np.log(math.gamma(2))+3/X_test-beta_test/X_test)\n",
    "#print(SE_invG)\n",
    "print(SE_gauss)"
   ]
  },
  {
   "cell_type": "markdown",
   "id": "4e0c819b",
   "metadata": {},
   "source": [
    "# Version 2"
   ]
  },
  {
   "cell_type": "markdown",
   "id": "f187451d",
   "metadata": {},
   "source": [
    "Minimisation direct du ELBO à l'aide de l'équation approchée de Philippe. On suppose encore les paramètres de l'a priori connus"
   ]
  },
  {
   "cell_type": "code",
   "execution_count": 168,
   "id": "c336e338",
   "metadata": {},
   "outputs": [],
   "source": [
    "features = 2\n",
    "# define a simple linear VAE\n",
    "class Linear_invG(nn.Module):\n",
    "    def __init__(self):\n",
    "        super(Linear_invG, self).__init__()\n",
    " \n",
    "        # encoder\n",
    "        self.enc1 = nn.Linear(in_features=1, out_features=5)\n",
    "        self.enc2 = nn.Linear(in_features=5, out_features=features)\n",
    " \n",
    "    def forward(self, x):\n",
    "        # encoding\n",
    "        x = F.relu(self.enc1(x))\n",
    "        x = self.enc2(x)\n",
    "        x=x.view(-1,2,1)\n",
    "        alpha_q = x[:,0,:]**2\n",
    "        beta_q = x[:,1,:]**2\n",
    "        return alpha_q, beta_q"
   ]
  },
  {
   "cell_type": "code",
   "execution_count": 169,
   "id": "c807ea5a",
   "metadata": {},
   "outputs": [],
   "source": [
    "model3 = Linear_invG().to(device)\n",
    "optimizer = optim.Adam(model3.parameters(), lr=0.0001)\n",
    "\n",
    "def ELBO_loss(data,alpha_q,beta_q):  \n",
    "    cost =-torch.mean(-3*torch.log(beta_q)+(3-alpha_q)*torch.digamma(alpha_q)+alpha_q*(1-(data+0.5)/beta_q)+torch.lgamma(alpha_q)) \n",
    "    return cost"
   ]
  },
  {
   "cell_type": "code",
   "execution_count": 170,
   "id": "a888829e",
   "metadata": {},
   "outputs": [],
   "source": [
    "def fit(model, dataloader):\n",
    "    model.train()\n",
    "    running_loss = 0.0\n",
    "    for i, batch in tqdm(enumerate(dataloader), total=int(len(train_data)/dataloader.batch_size)):\n",
    "        batch=batch[0]\n",
    "        batch= batch\n",
    "        batch = batch.to(device)\n",
    "        batch = batch.view(batch.size(0), -1)\n",
    "        optimizer.zero_grad()\n",
    "        alpha_q,beta_q = model(batch)\n",
    "        loss = ELBO_loss(batch,alpha_q, beta_q)\n",
    "        running_loss += loss.item()\n",
    "        loss.backward()\n",
    "        optimizer.step()\n",
    "    train_loss = running_loss/len(dataloader.dataset)\n",
    "    return train_loss"
   ]
  },
  {
   "cell_type": "code",
   "execution_count": 171,
   "id": "47c994fc",
   "metadata": {},
   "outputs": [],
   "source": [
    "def validate(model, dataloader):\n",
    "    model.eval()\n",
    "    running_loss = 0.0\n",
    "    with torch.no_grad():\n",
    "        for i, batch in tqdm(enumerate(dataloader), total=int(len(val_data)/dataloader.batch_size)):            \n",
    "            batch=batch[0]\n",
    "            batch = batch.to(device)\n",
    "            batch = batch.view(batch.size(0), -1)\n",
    "            alpha_q,beta_q = model(batch)\n",
    "            loss = ELBO_loss(batch,alpha_q, beta_q)\n",
    "            running_loss += loss.item()\n",
    "        \n",
    "            # save the last batch input and output of every epoch\n",
    "            #if i == int(len(val_data)/dataloader.batch_size) - 1:\n",
    "             #   num_rows = 8\n",
    "              #  both = torch.cat((data.view(batch_size, 1, 28, 28)[:8], \n",
    "               #                   reconstruction.view(batch_size, 1, 28, 28)[:8]))\n",
    "              #  save_image(both.cpu(), f\"../outputs/output{epoch}.png\", nrow=num_rows)\n",
    "    val_loss = running_loss/len(dataloader.dataset)\n",
    "    return val_loss"
   ]
  },
  {
   "cell_type": "code",
   "execution_count": 172,
   "id": "d4d2b691",
   "metadata": {},
   "outputs": [
    {
     "name": "stderr",
     "output_type": "stream",
     "text": [
      "100%|██████████| 45/45 [00:00<00:00, 427.42it/s]\n",
      "100%|██████████| 5/5 [00:00<00:00, 1176.72it/s]\n",
      "  0%|          | 0/45 [00:00<?, ?it/s]"
     ]
    },
    {
     "name": "stdout",
     "output_type": "stream",
     "text": [
      "Epoch 1 of 1000\n",
      "<torch.utils.data.dataloader.DataLoader object at 0x7fb151915550>\n",
      "Train Loss: 0.1365\n",
      "Val Loss: 0.1259\n",
      "Epoch 2 of 1000\n",
      "<torch.utils.data.dataloader.DataLoader object at 0x7fb151915550>\n"
     ]
    },
    {
     "name": "stderr",
     "output_type": "stream",
     "text": [
      "100%|██████████| 45/45 [00:00<00:00, 423.27it/s]\n",
      "100%|██████████| 5/5 [00:00<00:00, 1176.65it/s]\n",
      "100%|██████████| 45/45 [00:00<00:00, 435.44it/s]\n",
      "100%|██████████| 5/5 [00:00<00:00, 1171.92it/s]\n",
      "  0%|          | 0/45 [00:00<?, ?it/s]"
     ]
    },
    {
     "name": "stdout",
     "output_type": "stream",
     "text": [
      "Train Loss: 0.1234\n",
      "Val Loss: 0.1142\n",
      "Epoch 3 of 1000\n",
      "<torch.utils.data.dataloader.DataLoader object at 0x7fb151915550>\n",
      "Train Loss: 0.1129\n",
      "Val Loss: 0.1047\n",
      "Epoch 4 of 1000\n",
      "<torch.utils.data.dataloader.DataLoader object at 0x7fb151915550>\n"
     ]
    },
    {
     "name": "stderr",
     "output_type": "stream",
     "text": [
      "100%|██████████| 45/45 [00:00<00:00, 427.45it/s]\n",
      "100%|██████████| 5/5 [00:00<00:00, 1123.45it/s]\n",
      "100%|██████████| 45/45 [00:00<00:00, 426.45it/s]\n",
      "100%|██████████| 5/5 [00:00<00:00, 1141.99it/s]\n",
      "  0%|          | 0/45 [00:00<?, ?it/s]"
     ]
    },
    {
     "name": "stdout",
     "output_type": "stream",
     "text": [
      "Train Loss: 0.1042\n",
      "Val Loss: 0.0968\n",
      "Epoch 5 of 1000\n",
      "<torch.utils.data.dataloader.DataLoader object at 0x7fb151915550>\n",
      "Train Loss: 0.0969\n",
      "Val Loss: 0.0900\n",
      "Epoch 6 of 1000\n",
      "<torch.utils.data.dataloader.DataLoader object at 0x7fb151915550>\n"
     ]
    },
    {
     "name": "stderr",
     "output_type": "stream",
     "text": [
      "100%|██████████| 45/45 [00:00<00:00, 398.88it/s]\n",
      "100%|██████████| 5/5 [00:00<00:00, 1167.22it/s]\n",
      "100%|██████████| 45/45 [00:00<00:00, 429.02it/s]\n",
      "100%|██████████| 5/5 [00:00<00:00, 1203.95it/s]\n",
      "  0%|          | 0/45 [00:00<?, ?it/s]"
     ]
    },
    {
     "name": "stdout",
     "output_type": "stream",
     "text": [
      "Train Loss: 0.0906\n",
      "Val Loss: 0.0842\n",
      "Epoch 7 of 1000\n",
      "<torch.utils.data.dataloader.DataLoader object at 0x7fb151915550>\n",
      "Train Loss: 0.0850\n",
      "Val Loss: 0.0791\n",
      "Epoch 8 of 1000\n",
      "<torch.utils.data.dataloader.DataLoader object at 0x7fb151915550>\n"
     ]
    },
    {
     "name": "stderr",
     "output_type": "stream",
     "text": [
      "100%|██████████| 45/45 [00:00<00:00, 428.94it/s]\n",
      "100%|██████████| 5/5 [00:00<00:00, 902.74it/s]\n",
      "100%|██████████| 45/45 [00:00<00:00, 435.51it/s]\n",
      "100%|██████████| 5/5 [00:00<00:00, 1054.85it/s]\n",
      "  0%|          | 0/45 [00:00<?, ?it/s]"
     ]
    },
    {
     "name": "stdout",
     "output_type": "stream",
     "text": [
      "Train Loss: 0.0802\n",
      "Val Loss: 0.0745\n",
      "Epoch 9 of 1000\n",
      "<torch.utils.data.dataloader.DataLoader object at 0x7fb151915550>\n",
      "Train Loss: 0.0759\n",
      "Val Loss: 0.0705\n",
      "Epoch 10 of 1000\n",
      "<torch.utils.data.dataloader.DataLoader object at 0x7fb151915550>\n"
     ]
    },
    {
     "name": "stderr",
     "output_type": "stream",
     "text": [
      "100%|██████████| 45/45 [00:00<00:00, 433.07it/s]\n",
      "100%|██████████| 5/5 [00:00<00:00, 1110.84it/s]\n",
      "100%|██████████| 45/45 [00:00<00:00, 422.46it/s]\n",
      "100%|██████████| 5/5 [00:00<00:00, 1167.09it/s]\n",
      "  0%|          | 0/45 [00:00<?, ?it/s]"
     ]
    },
    {
     "name": "stdout",
     "output_type": "stream",
     "text": [
      "Train Loss: 0.0720\n",
      "Val Loss: 0.0668\n",
      "Epoch 11 of 1000\n",
      "<torch.utils.data.dataloader.DataLoader object at 0x7fb151915550>\n",
      "Train Loss: 0.0685\n",
      "Val Loss: 0.0635\n",
      "Epoch 12 of 1000\n",
      "<torch.utils.data.dataloader.DataLoader object at 0x7fb151915550>\n"
     ]
    },
    {
     "name": "stderr",
     "output_type": "stream",
     "text": [
      "100%|██████████| 45/45 [00:00<00:00, 434.19it/s]\n",
      "100%|██████████| 5/5 [00:00<00:00, 1177.51it/s]\n",
      "100%|██████████| 45/45 [00:00<00:00, 421.16it/s]\n",
      "100%|██████████| 5/5 [00:00<00:00, 1111.72it/s]\n",
      "  0%|          | 0/45 [00:00<?, ?it/s]"
     ]
    },
    {
     "name": "stdout",
     "output_type": "stream",
     "text": [
      "Train Loss: 0.0654\n",
      "Val Loss: 0.0605\n",
      "Epoch 13 of 1000\n",
      "<torch.utils.data.dataloader.DataLoader object at 0x7fb151915550>\n",
      "Train Loss: 0.0625\n",
      "Val Loss: 0.0578\n",
      "Epoch 14 of 1000\n",
      "<torch.utils.data.dataloader.DataLoader object at 0x7fb151915550>\n"
     ]
    },
    {
     "name": "stderr",
     "output_type": "stream",
     "text": [
      "100%|██████████| 45/45 [00:00<00:00, 429.47it/s]\n",
      "100%|██████████| 5/5 [00:00<00:00, 1218.21it/s]\n",
      "100%|██████████| 45/45 [00:00<00:00, 418.06it/s]\n",
      "100%|██████████| 5/5 [00:00<00:00, 1074.36it/s]\n",
      "  0%|          | 0/45 [00:00<?, ?it/s]"
     ]
    },
    {
     "name": "stdout",
     "output_type": "stream",
     "text": [
      "Train Loss: 0.0599\n",
      "Val Loss: 0.0553\n",
      "Epoch 15 of 1000\n",
      "<torch.utils.data.dataloader.DataLoader object at 0x7fb151915550>\n",
      "Train Loss: 0.0575\n",
      "Val Loss: 0.0530\n",
      "Epoch 16 of 1000\n",
      "<torch.utils.data.dataloader.DataLoader object at 0x7fb151915550>\n"
     ]
    },
    {
     "name": "stderr",
     "output_type": "stream",
     "text": [
      "100%|██████████| 45/45 [00:00<00:00, 428.96it/s]\n",
      "100%|██████████| 5/5 [00:00<00:00, 1224.69it/s]\n",
      "100%|██████████| 45/45 [00:00<00:00, 438.64it/s]\n",
      "100%|██████████| 5/5 [00:00<00:00, 1230.94it/s]\n",
      "  0%|          | 0/45 [00:00<?, ?it/s]"
     ]
    },
    {
     "name": "stdout",
     "output_type": "stream",
     "text": [
      "Train Loss: 0.0553\n",
      "Val Loss: 0.0509\n",
      "Epoch 17 of 1000\n",
      "<torch.utils.data.dataloader.DataLoader object at 0x7fb151915550>\n",
      "Train Loss: 0.0533\n",
      "Val Loss: 0.0489\n",
      "Epoch 18 of 1000\n",
      "<torch.utils.data.dataloader.DataLoader object at 0x7fb151915550>\n"
     ]
    },
    {
     "name": "stderr",
     "output_type": "stream",
     "text": [
      "100%|██████████| 45/45 [00:00<00:00, 436.38it/s]\n",
      "100%|██████████| 5/5 [00:00<00:00, 1228.42it/s]\n",
      "100%|██████████| 45/45 [00:00<00:00, 415.12it/s]\n",
      "100%|██████████| 5/5 [00:00<00:00, 1212.44it/s]\n",
      "  0%|          | 0/45 [00:00<?, ?it/s]"
     ]
    },
    {
     "name": "stdout",
     "output_type": "stream",
     "text": [
      "Train Loss: 0.0514\n",
      "Val Loss: 0.0471\n",
      "Epoch 19 of 1000\n",
      "<torch.utils.data.dataloader.DataLoader object at 0x7fb151915550>\n",
      "Train Loss: 0.0496\n",
      "Val Loss: 0.0454\n",
      "Epoch 20 of 1000\n",
      "<torch.utils.data.dataloader.DataLoader object at 0x7fb151915550>\n"
     ]
    },
    {
     "name": "stderr",
     "output_type": "stream",
     "text": [
      "100%|██████████| 45/45 [00:00<00:00, 432.05it/s]\n",
      "100%|██████████| 5/5 [00:00<00:00, 1173.23it/s]\n",
      "100%|██████████| 45/45 [00:00<00:00, 436.69it/s]\n",
      "100%|██████████| 5/5 [00:00<00:00, 1211.39it/s]\n",
      "  0%|          | 0/45 [00:00<?, ?it/s]"
     ]
    },
    {
     "name": "stdout",
     "output_type": "stream",
     "text": [
      "Train Loss: 0.0480\n",
      "Val Loss: 0.0438\n",
      "Epoch 21 of 1000\n",
      "<torch.utils.data.dataloader.DataLoader object at 0x7fb151915550>\n",
      "Train Loss: 0.0465\n",
      "Val Loss: 0.0423\n",
      "Epoch 22 of 1000\n",
      "<torch.utils.data.dataloader.DataLoader object at 0x7fb151915550>\n"
     ]
    },
    {
     "name": "stderr",
     "output_type": "stream",
     "text": [
      "100%|██████████| 45/45 [00:00<00:00, 431.07it/s]\n",
      "100%|██████████| 5/5 [00:00<00:00, 1239.23it/s]\n",
      "100%|██████████| 45/45 [00:00<00:00, 437.60it/s]\n",
      "100%|██████████| 5/5 [00:00<00:00, 1178.57it/s]\n",
      "  0%|          | 0/45 [00:00<?, ?it/s]"
     ]
    },
    {
     "name": "stdout",
     "output_type": "stream",
     "text": [
      "Train Loss: 0.0450\n",
      "Val Loss: 0.0409\n",
      "Epoch 23 of 1000\n",
      "<torch.utils.data.dataloader.DataLoader object at 0x7fb151915550>\n",
      "Train Loss: 0.0437\n",
      "Val Loss: 0.0396\n",
      "Epoch 24 of 1000\n",
      "<torch.utils.data.dataloader.DataLoader object at 0x7fb151915550>\n"
     ]
    },
    {
     "name": "stderr",
     "output_type": "stream",
     "text": [
      "100%|██████████| 45/45 [00:00<00:00, 432.48it/s]\n",
      "100%|██████████| 5/5 [00:00<00:00, 1202.98it/s]\n",
      "100%|██████████| 45/45 [00:00<00:00, 429.60it/s]\n",
      "100%|██████████| 5/5 [00:00<00:00, 1080.23it/s]\n",
      "  0%|          | 0/45 [00:00<?, ?it/s]"
     ]
    },
    {
     "name": "stdout",
     "output_type": "stream",
     "text": [
      "Train Loss: 0.0425\n",
      "Val Loss: 0.0384\n",
      "Epoch 25 of 1000\n",
      "<torch.utils.data.dataloader.DataLoader object at 0x7fb151915550>\n",
      "Train Loss: 0.0413\n",
      "Val Loss: 0.0373\n",
      "Epoch 26 of 1000\n",
      "<torch.utils.data.dataloader.DataLoader object at 0x7fb151915550>\n"
     ]
    },
    {
     "name": "stderr",
     "output_type": "stream",
     "text": [
      "100%|██████████| 45/45 [00:00<00:00, 427.42it/s]\n",
      "100%|██████████| 5/5 [00:00<00:00, 1217.15it/s]\n",
      "100%|██████████| 45/45 [00:00<00:00, 436.38it/s]\n",
      "100%|██████████| 5/5 [00:00<00:00, 1136.36it/s]\n",
      "  0%|          | 0/45 [00:00<?, ?it/s]"
     ]
    },
    {
     "name": "stdout",
     "output_type": "stream",
     "text": [
      "Train Loss: 0.0402\n",
      "Val Loss: 0.0362\n",
      "Epoch 27 of 1000\n",
      "<torch.utils.data.dataloader.DataLoader object at 0x7fb151915550>\n",
      "Train Loss: 0.0391\n",
      "Val Loss: 0.0352\n",
      "Epoch 28 of 1000\n",
      "<torch.utils.data.dataloader.DataLoader object at 0x7fb151915550>\n"
     ]
    },
    {
     "name": "stderr",
     "output_type": "stream",
     "text": [
      "100%|██████████| 45/45 [00:00<00:00, 433.25it/s]\n",
      "100%|██████████| 5/5 [00:00<00:00, 1226.12it/s]\n",
      "100%|██████████| 45/45 [00:00<00:00, 436.25it/s]\n",
      "100%|██████████| 5/5 [00:00<00:00, 1170.09it/s]\n",
      "  0%|          | 0/45 [00:00<?, ?it/s]"
     ]
    },
    {
     "name": "stdout",
     "output_type": "stream",
     "text": [
      "Train Loss: 0.0381\n",
      "Val Loss: 0.0342\n",
      "Epoch 29 of 1000\n",
      "<torch.utils.data.dataloader.DataLoader object at 0x7fb151915550>\n",
      "Train Loss: 0.0372\n",
      "Val Loss: 0.0333\n",
      "Epoch 30 of 1000\n",
      "<torch.utils.data.dataloader.DataLoader object at 0x7fb151915550>\n"
     ]
    },
    {
     "name": "stderr",
     "output_type": "stream",
     "text": [
      "100%|██████████| 45/45 [00:00<00:00, 431.80it/s]\n",
      "100%|██████████| 5/5 [00:00<00:00, 1188.59it/s]\n",
      "100%|██████████| 45/45 [00:00<00:00, 428.06it/s]\n",
      "100%|██████████| 5/5 [00:00<00:00, 1224.19it/s]\n",
      "  0%|          | 0/45 [00:00<?, ?it/s]"
     ]
    },
    {
     "name": "stdout",
     "output_type": "stream",
     "text": [
      "Train Loss: 0.0363\n",
      "Val Loss: 0.0324\n",
      "Epoch 31 of 1000\n",
      "<torch.utils.data.dataloader.DataLoader object at 0x7fb151915550>\n",
      "Train Loss: 0.0355\n",
      "Val Loss: 0.0316\n",
      "Epoch 32 of 1000\n",
      "<torch.utils.data.dataloader.DataLoader object at 0x7fb151915550>\n"
     ]
    },
    {
     "name": "stderr",
     "output_type": "stream",
     "text": [
      "100%|██████████| 45/45 [00:00<00:00, 417.07it/s]\n",
      "100%|██████████| 5/5 [00:00<00:00, 1146.24it/s]\n",
      "100%|██████████| 45/45 [00:00<00:00, 431.04it/s]\n",
      "100%|██████████| 5/5 [00:00<00:00, 1185.50it/s]\n",
      "  0%|          | 0/45 [00:00<?, ?it/s]"
     ]
    },
    {
     "name": "stdout",
     "output_type": "stream",
     "text": [
      "Train Loss: 0.0347\n",
      "Val Loss: 0.0309\n",
      "Epoch 33 of 1000\n",
      "<torch.utils.data.dataloader.DataLoader object at 0x7fb151915550>\n",
      "Train Loss: 0.0339\n",
      "Val Loss: 0.0301\n",
      "Epoch 34 of 1000\n",
      "<torch.utils.data.dataloader.DataLoader object at 0x7fb151915550>\n"
     ]
    },
    {
     "name": "stderr",
     "output_type": "stream",
     "text": [
      "100%|██████████| 45/45 [00:00<00:00, 395.19it/s]\n",
      "100%|██████████| 5/5 [00:00<00:00, 1106.62it/s]\n",
      "100%|██████████| 45/45 [00:00<00:00, 419.24it/s]\n",
      "100%|██████████| 5/5 [00:00<00:00, 1185.43it/s]\n",
      "  0%|          | 0/45 [00:00<?, ?it/s]"
     ]
    },
    {
     "name": "stdout",
     "output_type": "stream",
     "text": [
      "Train Loss: 0.0332\n",
      "Val Loss: 0.0294\n",
      "Epoch 35 of 1000\n",
      "<torch.utils.data.dataloader.DataLoader object at 0x7fb151915550>\n",
      "Train Loss: 0.0325\n",
      "Val Loss: 0.0287\n",
      "Epoch 36 of 1000\n",
      "<torch.utils.data.dataloader.DataLoader object at 0x7fb151915550>\n"
     ]
    },
    {
     "name": "stderr",
     "output_type": "stream",
     "text": [
      "100%|██████████| 45/45 [00:00<00:00, 413.45it/s]\n",
      "100%|██████████| 5/5 [00:00<00:00, 1019.67it/s]\n",
      "100%|██████████| 45/45 [00:00<00:00, 407.26it/s]\n",
      "100%|██████████| 5/5 [00:00<00:00, 1125.87it/s]\n",
      "  0%|          | 0/45 [00:00<?, ?it/s]"
     ]
    },
    {
     "name": "stdout",
     "output_type": "stream",
     "text": [
      "Train Loss: 0.0318\n",
      "Val Loss: 0.0281\n",
      "Epoch 37 of 1000\n",
      "<torch.utils.data.dataloader.DataLoader object at 0x7fb151915550>\n",
      "Train Loss: 0.0312\n",
      "Val Loss: 0.0275\n",
      "Epoch 38 of 1000\n",
      "<torch.utils.data.dataloader.DataLoader object at 0x7fb151915550>\n"
     ]
    },
    {
     "name": "stderr",
     "output_type": "stream",
     "text": [
      "100%|██████████| 45/45 [00:00<00:00, 407.13it/s]\n",
      "100%|██████████| 5/5 [00:00<00:00, 1008.83it/s]\n",
      "100%|██████████| 45/45 [00:00<00:00, 380.04it/s]\n",
      "100%|██████████| 5/5 [00:00<00:00, 1178.37it/s]\n",
      "  0%|          | 0/45 [00:00<?, ?it/s]"
     ]
    },
    {
     "name": "stdout",
     "output_type": "stream",
     "text": [
      "Train Loss: 0.0306\n",
      "Val Loss: 0.0269\n",
      "Epoch 39 of 1000\n",
      "<torch.utils.data.dataloader.DataLoader object at 0x7fb151915550>\n",
      "Train Loss: 0.0300\n",
      "Val Loss: 0.0263\n",
      "Epoch 40 of 1000\n",
      "<torch.utils.data.dataloader.DataLoader object at 0x7fb151915550>\n"
     ]
    },
    {
     "name": "stderr",
     "output_type": "stream",
     "text": [
      "100%|██████████| 45/45 [00:00<00:00, 411.53it/s]\n",
      "100%|██████████| 5/5 [00:00<00:00, 1182.03it/s]\n",
      "100%|██████████| 45/45 [00:00<00:00, 419.55it/s]\n",
      "100%|██████████| 5/5 [00:00<00:00, 1044.81it/s]\n",
      "  0%|          | 0/45 [00:00<?, ?it/s]"
     ]
    },
    {
     "name": "stdout",
     "output_type": "stream",
     "text": [
      "Train Loss: 0.0295\n",
      "Val Loss: 0.0258\n",
      "Epoch 41 of 1000\n",
      "<torch.utils.data.dataloader.DataLoader object at 0x7fb151915550>\n",
      "Train Loss: 0.0290\n",
      "Val Loss: 0.0253\n",
      "Epoch 42 of 1000\n",
      "<torch.utils.data.dataloader.DataLoader object at 0x7fb151915550>\n"
     ]
    },
    {
     "name": "stderr",
     "output_type": "stream",
     "text": [
      "100%|██████████| 45/45 [00:00<00:00, 415.76it/s]\n",
      "100%|██████████| 5/5 [00:00<00:00, 1178.18it/s]\n",
      "100%|██████████| 45/45 [00:00<00:00, 423.07it/s]\n",
      "100%|██████████| 5/5 [00:00<00:00, 663.32it/s]\n",
      "  0%|          | 0/45 [00:00<?, ?it/s]"
     ]
    },
    {
     "name": "stdout",
     "output_type": "stream",
     "text": [
      "Train Loss: 0.0285\n",
      "Val Loss: 0.0248\n",
      "Epoch 43 of 1000\n",
      "<torch.utils.data.dataloader.DataLoader object at 0x7fb151915550>\n",
      "Train Loss: 0.0280\n",
      "Val Loss: 0.0243\n",
      "Epoch 44 of 1000\n",
      "<torch.utils.data.dataloader.DataLoader object at 0x7fb151915550>\n"
     ]
    },
    {
     "name": "stderr",
     "output_type": "stream",
     "text": [
      "100%|██████████| 45/45 [00:00<00:00, 426.91it/s]\n",
      "100%|██████████| 5/5 [00:00<00:00, 1176.52it/s]\n",
      "100%|██████████| 45/45 [00:00<00:00, 409.40it/s]\n",
      "100%|██████████| 5/5 [00:00<00:00, 1187.99it/s]\n",
      "  0%|          | 0/45 [00:00<?, ?it/s]"
     ]
    },
    {
     "name": "stdout",
     "output_type": "stream",
     "text": [
      "Train Loss: 0.0275\n",
      "Val Loss: 0.0239\n",
      "Epoch 45 of 1000\n",
      "<torch.utils.data.dataloader.DataLoader object at 0x7fb151915550>\n",
      "Train Loss: 0.0271\n",
      "Val Loss: 0.0235\n",
      "Epoch 46 of 1000\n",
      "<torch.utils.data.dataloader.DataLoader object at 0x7fb151915550>\n"
     ]
    },
    {
     "name": "stderr",
     "output_type": "stream",
     "text": [
      "100%|██████████| 45/45 [00:00<00:00, 429.17it/s]\n",
      "100%|██████████| 5/5 [00:00<00:00, 1066.55it/s]\n",
      "100%|██████████| 45/45 [00:00<00:00, 413.25it/s]\n",
      "100%|██████████| 5/5 [00:00<00:00, 1162.82it/s]\n",
      "  0%|          | 0/45 [00:00<?, ?it/s]"
     ]
    },
    {
     "name": "stdout",
     "output_type": "stream",
     "text": [
      "Train Loss: 0.0266\n",
      "Val Loss: 0.0230\n",
      "Epoch 47 of 1000\n",
      "<torch.utils.data.dataloader.DataLoader object at 0x7fb151915550>\n",
      "Train Loss: 0.0262\n",
      "Val Loss: 0.0226\n",
      "Epoch 48 of 1000\n",
      "<torch.utils.data.dataloader.DataLoader object at 0x7fb151915550>\n"
     ]
    },
    {
     "name": "stderr",
     "output_type": "stream",
     "text": [
      "100%|██████████| 45/45 [00:00<00:00, 415.91it/s]\n",
      "100%|██████████| 5/5 [00:00<00:00, 1177.05it/s]\n",
      "100%|██████████| 45/45 [00:00<00:00, 412.51it/s]\n",
      "100%|██████████| 5/5 [00:00<00:00, 1168.53it/s]\n",
      "  0%|          | 0/45 [00:00<?, ?it/s]"
     ]
    },
    {
     "name": "stdout",
     "output_type": "stream",
     "text": [
      "Train Loss: 0.0258\n",
      "Val Loss: 0.0223\n",
      "Epoch 49 of 1000\n",
      "<torch.utils.data.dataloader.DataLoader object at 0x7fb151915550>\n",
      "Train Loss: 0.0254\n",
      "Val Loss: 0.0219\n",
      "Epoch 50 of 1000\n",
      "<torch.utils.data.dataloader.DataLoader object at 0x7fb151915550>\n"
     ]
    },
    {
     "name": "stderr",
     "output_type": "stream",
     "text": [
      "100%|██████████| 45/45 [00:00<00:00, 402.41it/s]\n",
      "100%|██████████| 5/5 [00:00<00:00, 1111.13it/s]\n",
      "100%|██████████| 45/45 [00:00<00:00, 411.42it/s]\n",
      "100%|██████████| 5/5 [00:00<00:00, 1132.98it/s]\n",
      "  0%|          | 0/45 [00:00<?, ?it/s]"
     ]
    },
    {
     "name": "stdout",
     "output_type": "stream",
     "text": [
      "Train Loss: 0.0251\n",
      "Val Loss: 0.0215\n",
      "Epoch 51 of 1000\n",
      "<torch.utils.data.dataloader.DataLoader object at 0x7fb151915550>\n",
      "Train Loss: 0.0247\n",
      "Val Loss: 0.0212\n",
      "Epoch 52 of 1000\n",
      "<torch.utils.data.dataloader.DataLoader object at 0x7fb151915550>\n"
     ]
    },
    {
     "name": "stderr",
     "output_type": "stream",
     "text": [
      "100%|██████████| 45/45 [00:00<00:00, 424.11it/s]\n",
      "100%|██████████| 5/5 [00:00<00:00, 1167.35it/s]\n",
      "100%|██████████| 45/45 [00:00<00:00, 419.31it/s]\n",
      "100%|██████████| 5/5 [00:00<00:00, 1115.98it/s]\n",
      "  0%|          | 0/45 [00:00<?, ?it/s]"
     ]
    },
    {
     "name": "stdout",
     "output_type": "stream",
     "text": [
      "Train Loss: 0.0244\n",
      "Val Loss: 0.0209\n",
      "Epoch 53 of 1000\n",
      "<torch.utils.data.dataloader.DataLoader object at 0x7fb151915550>\n",
      "Train Loss: 0.0240\n",
      "Val Loss: 0.0205\n",
      "Epoch 54 of 1000\n",
      "<torch.utils.data.dataloader.DataLoader object at 0x7fb151915550>\n"
     ]
    },
    {
     "name": "stderr",
     "output_type": "stream",
     "text": [
      "100%|██████████| 45/45 [00:00<00:00, 427.98it/s]\n",
      "100%|██████████| 5/5 [00:00<00:00, 1046.22it/s]\n",
      "100%|██████████| 45/45 [00:00<00:00, 405.39it/s]\n",
      "100%|██████████| 5/5 [00:00<00:00, 1178.44it/s]\n",
      "  0%|          | 0/45 [00:00<?, ?it/s]"
     ]
    },
    {
     "name": "stdout",
     "output_type": "stream",
     "text": [
      "Train Loss: 0.0237\n",
      "Val Loss: 0.0202\n",
      "Epoch 55 of 1000\n",
      "<torch.utils.data.dataloader.DataLoader object at 0x7fb151915550>\n",
      "Train Loss: 0.0234\n",
      "Val Loss: 0.0199\n",
      "Epoch 56 of 1000\n",
      "<torch.utils.data.dataloader.DataLoader object at 0x7fb151915550>\n"
     ]
    },
    {
     "name": "stderr",
     "output_type": "stream",
     "text": [
      "100%|██████████| 45/45 [00:00<00:00, 427.24it/s]\n",
      "100%|██████████| 5/5 [00:00<00:00, 1185.97it/s]\n",
      "100%|██████████| 45/45 [00:00<00:00, 416.83it/s]\n",
      "100%|██████████| 5/5 [00:00<00:00, 1180.10it/s]\n",
      "  0%|          | 0/45 [00:00<?, ?it/s]"
     ]
    },
    {
     "name": "stdout",
     "output_type": "stream",
     "text": [
      "Train Loss: 0.0231\n",
      "Val Loss: 0.0196\n",
      "Epoch 57 of 1000\n",
      "<torch.utils.data.dataloader.DataLoader object at 0x7fb151915550>\n",
      "Train Loss: 0.0228\n",
      "Val Loss: 0.0194\n",
      "Epoch 58 of 1000\n",
      "<torch.utils.data.dataloader.DataLoader object at 0x7fb151915550>\n"
     ]
    },
    {
     "name": "stderr",
     "output_type": "stream",
     "text": [
      "100%|██████████| 45/45 [00:00<00:00, 427.61it/s]\n",
      "100%|██████████| 5/5 [00:00<00:00, 1195.09it/s]\n",
      "100%|██████████| 45/45 [00:00<00:00, 436.64it/s]\n",
      "100%|██████████| 5/5 [00:00<00:00, 1188.12it/s]\n",
      "  0%|          | 0/45 [00:00<?, ?it/s]"
     ]
    },
    {
     "name": "stdout",
     "output_type": "stream",
     "text": [
      "Train Loss: 0.0225\n",
      "Val Loss: 0.0191\n",
      "Epoch 59 of 1000\n",
      "<torch.utils.data.dataloader.DataLoader object at 0x7fb151915550>\n",
      "Train Loss: 0.0223\n",
      "Val Loss: 0.0188\n",
      "Epoch 60 of 1000\n",
      "<torch.utils.data.dataloader.DataLoader object at 0x7fb151915550>\n"
     ]
    },
    {
     "name": "stderr",
     "output_type": "stream",
     "text": [
      "100%|██████████| 45/45 [00:00<00:00, 418.60it/s]\n",
      "100%|██████████| 5/5 [00:00<00:00, 1205.61it/s]\n",
      "100%|██████████| 45/45 [00:00<00:00, 435.62it/s]\n",
      "100%|██████████| 5/5 [00:00<00:00, 1208.73it/s]\n",
      "  0%|          | 0/45 [00:00<?, ?it/s]"
     ]
    },
    {
     "name": "stdout",
     "output_type": "stream",
     "text": [
      "Train Loss: 0.0220\n",
      "Val Loss: 0.0186\n",
      "Epoch 61 of 1000\n",
      "<torch.utils.data.dataloader.DataLoader object at 0x7fb151915550>\n",
      "Train Loss: 0.0218\n",
      "Val Loss: 0.0183\n",
      "Epoch 62 of 1000\n",
      "<torch.utils.data.dataloader.DataLoader object at 0x7fb151915550>\n"
     ]
    },
    {
     "name": "stderr",
     "output_type": "stream",
     "text": [
      "100%|██████████| 45/45 [00:00<00:00, 422.06it/s]\n",
      "100%|██████████| 5/5 [00:00<00:00, 1216.30it/s]\n",
      "100%|██████████| 45/45 [00:00<00:00, 426.04it/s]\n",
      "100%|██████████| 5/5 [00:00<00:00, 1010.38it/s]\n",
      "  0%|          | 0/45 [00:00<?, ?it/s]"
     ]
    },
    {
     "name": "stdout",
     "output_type": "stream",
     "text": [
      "Train Loss: 0.0215\n",
      "Val Loss: 0.0181\n",
      "Epoch 63 of 1000\n",
      "<torch.utils.data.dataloader.DataLoader object at 0x7fb151915550>\n",
      "Train Loss: 0.0213\n",
      "Val Loss: 0.0179\n",
      "Epoch 64 of 1000\n",
      "<torch.utils.data.dataloader.DataLoader object at 0x7fb151915550>\n"
     ]
    },
    {
     "name": "stderr",
     "output_type": "stream",
     "text": [
      "100%|██████████| 45/45 [00:00<00:00, 435.18it/s]\n",
      "100%|██████████| 5/5 [00:00<00:00, 1178.31it/s]\n",
      "100%|██████████| 45/45 [00:00<00:00, 427.77it/s]\n",
      "100%|██████████| 5/5 [00:00<00:00, 1043.15it/s]\n",
      "  0%|          | 0/45 [00:00<?, ?it/s]"
     ]
    },
    {
     "name": "stdout",
     "output_type": "stream",
     "text": [
      "Train Loss: 0.0210\n",
      "Val Loss: 0.0177\n",
      "Epoch 65 of 1000\n",
      "<torch.utils.data.dataloader.DataLoader object at 0x7fb151915550>\n",
      "Train Loss: 0.0208\n",
      "Val Loss: 0.0175\n",
      "Epoch 66 of 1000\n",
      "<torch.utils.data.dataloader.DataLoader object at 0x7fb151915550>\n"
     ]
    },
    {
     "name": "stderr",
     "output_type": "stream",
     "text": [
      "100%|██████████| 45/45 [00:00<00:00, 418.79it/s]\n",
      "100%|██████████| 5/5 [00:00<00:00, 1183.96it/s]\n",
      "100%|██████████| 45/45 [00:00<00:00, 425.57it/s]\n",
      "100%|██████████| 5/5 [00:00<00:00, 1134.02it/s]\n",
      "  0%|          | 0/45 [00:00<?, ?it/s]"
     ]
    },
    {
     "name": "stdout",
     "output_type": "stream",
     "text": [
      "Train Loss: 0.0206\n",
      "Val Loss: 0.0172\n",
      "Epoch 67 of 1000\n",
      "<torch.utils.data.dataloader.DataLoader object at 0x7fb151915550>\n",
      "Train Loss: 0.0204\n",
      "Val Loss: 0.0170\n",
      "Epoch 68 of 1000\n",
      "<torch.utils.data.dataloader.DataLoader object at 0x7fb151915550>\n"
     ]
    },
    {
     "name": "stderr",
     "output_type": "stream",
     "text": [
      "100%|██████████| 45/45 [00:00<00:00, 416.74it/s]\n",
      "100%|██████████| 5/5 [00:00<00:00, 1199.33it/s]\n",
      "100%|██████████| 45/45 [00:00<00:00, 433.14it/s]\n",
      "100%|██████████| 5/5 [00:00<00:00, 1212.02it/s]\n",
      "  0%|          | 0/45 [00:00<?, ?it/s]"
     ]
    },
    {
     "name": "stdout",
     "output_type": "stream",
     "text": [
      "Train Loss: 0.0202\n",
      "Val Loss: 0.0169\n",
      "Epoch 69 of 1000\n",
      "<torch.utils.data.dataloader.DataLoader object at 0x7fb151915550>\n",
      "Train Loss: 0.0200\n",
      "Val Loss: 0.0167\n",
      "Epoch 70 of 1000\n",
      "<torch.utils.data.dataloader.DataLoader object at 0x7fb151915550>\n"
     ]
    },
    {
     "name": "stderr",
     "output_type": "stream",
     "text": [
      "100%|██████████| 45/45 [00:00<00:00, 436.81it/s]\n",
      "100%|██████████| 5/5 [00:00<00:00, 1220.34it/s]\n",
      "100%|██████████| 45/45 [00:00<00:00, 390.26it/s]\n",
      "100%|██████████| 5/5 [00:00<00:00, 1101.97it/s]\n",
      "  0%|          | 0/45 [00:00<?, ?it/s]"
     ]
    },
    {
     "name": "stdout",
     "output_type": "stream",
     "text": [
      "Train Loss: 0.0198\n",
      "Val Loss: 0.0165\n",
      "Epoch 71 of 1000\n",
      "<torch.utils.data.dataloader.DataLoader object at 0x7fb151915550>\n",
      "Train Loss: 0.0196\n",
      "Val Loss: 0.0163\n",
      "Epoch 72 of 1000\n",
      "<torch.utils.data.dataloader.DataLoader object at 0x7fb151915550>\n"
     ]
    },
    {
     "name": "stderr",
     "output_type": "stream",
     "text": [
      "100%|██████████| 45/45 [00:00<00:00, 417.70it/s]\n",
      "100%|██████████| 5/5 [00:00<00:00, 1183.09it/s]\n",
      "100%|██████████| 45/45 [00:00<00:00, 388.21it/s]\n",
      "100%|██████████| 5/5 [00:00<00:00, 1193.19it/s]\n",
      "  0%|          | 0/45 [00:00<?, ?it/s]"
     ]
    },
    {
     "name": "stdout",
     "output_type": "stream",
     "text": [
      "Train Loss: 0.0195\n",
      "Val Loss: 0.0161\n",
      "Epoch 73 of 1000\n",
      "<torch.utils.data.dataloader.DataLoader object at 0x7fb151915550>\n",
      "Train Loss: 0.0193\n",
      "Val Loss: 0.0160\n",
      "Epoch 74 of 1000\n",
      "<torch.utils.data.dataloader.DataLoader object at 0x7fb151915550>\n"
     ]
    },
    {
     "name": "stderr",
     "output_type": "stream",
     "text": [
      "100%|██████████| 45/45 [00:00<00:00, 406.69it/s]\n",
      "100%|██████████| 5/5 [00:00<00:00, 1072.60it/s]\n",
      "100%|██████████| 45/45 [00:00<00:00, 416.05it/s]\n",
      "100%|██████████| 5/5 [00:00<00:00, 1136.30it/s]\n",
      "  0%|          | 0/45 [00:00<?, ?it/s]"
     ]
    },
    {
     "name": "stdout",
     "output_type": "stream",
     "text": [
      "Train Loss: 0.0191\n",
      "Val Loss: 0.0158\n",
      "Epoch 75 of 1000\n",
      "<torch.utils.data.dataloader.DataLoader object at 0x7fb151915550>\n",
      "Train Loss: 0.0190\n",
      "Val Loss: 0.0157\n",
      "Epoch 76 of 1000\n",
      "<torch.utils.data.dataloader.DataLoader object at 0x7fb151915550>\n"
     ]
    },
    {
     "name": "stderr",
     "output_type": "stream",
     "text": [
      "100%|██████████| 45/45 [00:00<00:00, 372.97it/s]\n",
      "100%|██████████| 5/5 [00:00<00:00, 1087.45it/s]\n",
      "100%|██████████| 45/45 [00:00<00:00, 400.47it/s]\n",
      "100%|██████████| 5/5 [00:00<00:00, 1046.69it/s]\n",
      "  0%|          | 0/45 [00:00<?, ?it/s]"
     ]
    },
    {
     "name": "stdout",
     "output_type": "stream",
     "text": [
      "Train Loss: 0.0188\n",
      "Val Loss: 0.0155\n",
      "Epoch 77 of 1000\n",
      "<torch.utils.data.dataloader.DataLoader object at 0x7fb151915550>\n",
      "Train Loss: 0.0186\n",
      "Val Loss: 0.0154\n",
      "Epoch 78 of 1000\n",
      "<torch.utils.data.dataloader.DataLoader object at 0x7fb151915550>\n"
     ]
    },
    {
     "name": "stderr",
     "output_type": "stream",
     "text": [
      "100%|██████████| 45/45 [00:00<00:00, 391.28it/s]\n",
      "100%|██████████| 5/5 [00:00<00:00, 1179.77it/s]\n",
      "100%|██████████| 45/45 [00:00<00:00, 418.44it/s]\n",
      "100%|██████████| 5/5 [00:00<00:00, 1136.30it/s]\n",
      "  0%|          | 0/45 [00:00<?, ?it/s]"
     ]
    },
    {
     "name": "stdout",
     "output_type": "stream",
     "text": [
      "Train Loss: 0.0185\n",
      "Val Loss: 0.0152\n",
      "Epoch 79 of 1000\n",
      "<torch.utils.data.dataloader.DataLoader object at 0x7fb151915550>\n",
      "Train Loss: 0.0184\n",
      "Val Loss: 0.0151\n",
      "Epoch 80 of 1000\n",
      "<torch.utils.data.dataloader.DataLoader object at 0x7fb151915550>\n"
     ]
    },
    {
     "name": "stderr",
     "output_type": "stream",
     "text": [
      "100%|██████████| 45/45 [00:00<00:00, 421.68it/s]\n",
      "100%|██████████| 5/5 [00:00<00:00, 1183.96it/s]\n",
      "100%|██████████| 45/45 [00:00<00:00, 417.87it/s]\n",
      "100%|██████████| 5/5 [00:00<00:00, 1212.65it/s]\n",
      "  0%|          | 0/45 [00:00<?, ?it/s]"
     ]
    },
    {
     "name": "stdout",
     "output_type": "stream",
     "text": [
      "Train Loss: 0.0182\n",
      "Val Loss: 0.0149\n",
      "Epoch 81 of 1000\n",
      "<torch.utils.data.dataloader.DataLoader object at 0x7fb151915550>\n",
      "Train Loss: 0.0181\n",
      "Val Loss: 0.0148\n",
      "Epoch 82 of 1000\n",
      "<torch.utils.data.dataloader.DataLoader object at 0x7fb151915550>\n"
     ]
    },
    {
     "name": "stderr",
     "output_type": "stream",
     "text": [
      "100%|██████████| 45/45 [00:00<00:00, 436.74it/s]\n",
      "100%|██████████| 5/5 [00:00<00:00, 1121.17it/s]\n",
      "100%|██████████| 45/45 [00:00<00:00, 425.35it/s]\n",
      "100%|██████████| 5/5 [00:00<00:00, 1145.30it/s]\n",
      "  0%|          | 0/45 [00:00<?, ?it/s]"
     ]
    },
    {
     "name": "stdout",
     "output_type": "stream",
     "text": [
      "Train Loss: 0.0179\n",
      "Val Loss: 0.0147\n",
      "Epoch 83 of 1000\n",
      "<torch.utils.data.dataloader.DataLoader object at 0x7fb151915550>\n",
      "Train Loss: 0.0178\n",
      "Val Loss: 0.0146\n",
      "Epoch 84 of 1000\n",
      "<torch.utils.data.dataloader.DataLoader object at 0x7fb151915550>\n"
     ]
    },
    {
     "name": "stderr",
     "output_type": "stream",
     "text": [
      "100%|██████████| 45/45 [00:00<00:00, 430.93it/s]\n",
      "100%|██████████| 5/5 [00:00<00:00, 1219.49it/s]\n",
      "100%|██████████| 45/45 [00:00<00:00, 429.02it/s]\n",
      "100%|██████████| 5/5 [00:00<00:00, 1263.73it/s]\n",
      "  0%|          | 0/45 [00:00<?, ?it/s]"
     ]
    },
    {
     "name": "stdout",
     "output_type": "stream",
     "text": [
      "Train Loss: 0.0177\n",
      "Val Loss: 0.0145\n",
      "Epoch 85 of 1000\n",
      "<torch.utils.data.dataloader.DataLoader object at 0x7fb151915550>\n",
      "Train Loss: 0.0176\n",
      "Val Loss: 0.0143\n",
      "Epoch 86 of 1000\n",
      "<torch.utils.data.dataloader.DataLoader object at 0x7fb151915550>\n"
     ]
    },
    {
     "name": "stderr",
     "output_type": "stream",
     "text": [
      "100%|██████████| 45/45 [00:00<00:00, 422.46it/s]\n",
      "100%|██████████| 5/5 [00:00<00:00, 1203.53it/s]\n",
      "100%|██████████| 45/45 [00:00<00:00, 430.89it/s]\n",
      "100%|██████████| 5/5 [00:00<00:00, 1212.09it/s]\n",
      "  0%|          | 0/45 [00:00<?, ?it/s]"
     ]
    },
    {
     "name": "stdout",
     "output_type": "stream",
     "text": [
      "Train Loss: 0.0175\n",
      "Val Loss: 0.0142\n",
      "Epoch 87 of 1000\n",
      "<torch.utils.data.dataloader.DataLoader object at 0x7fb151915550>\n",
      "Train Loss: 0.0173\n",
      "Val Loss: 0.0141\n",
      "Epoch 88 of 1000\n",
      "<torch.utils.data.dataloader.DataLoader object at 0x7fb151915550>\n"
     ]
    },
    {
     "name": "stderr",
     "output_type": "stream",
     "text": [
      "100%|██████████| 45/45 [00:00<00:00, 420.19it/s]\n",
      "100%|██████████| 5/5 [00:00<00:00, 1243.79it/s]\n",
      "100%|██████████| 45/45 [00:00<00:00, 424.79it/s]\n",
      "100%|██████████| 5/5 [00:00<00:00, 1206.37it/s]\n",
      "  0%|          | 0/45 [00:00<?, ?it/s]"
     ]
    },
    {
     "name": "stdout",
     "output_type": "stream",
     "text": [
      "Train Loss: 0.0172\n",
      "Val Loss: 0.0140\n",
      "Epoch 89 of 1000\n",
      "<torch.utils.data.dataloader.DataLoader object at 0x7fb151915550>\n",
      "Train Loss: 0.0171\n",
      "Val Loss: 0.0139\n",
      "Epoch 90 of 1000\n",
      "<torch.utils.data.dataloader.DataLoader object at 0x7fb151915550>\n"
     ]
    },
    {
     "name": "stderr",
     "output_type": "stream",
     "text": [
      "100%|██████████| 45/45 [00:00<00:00, 431.93it/s]\n",
      "100%|██████████| 5/5 [00:00<00:00, 1128.96it/s]\n",
      "100%|██████████| 45/45 [00:00<00:00, 427.64it/s]\n",
      "100%|██████████| 5/5 [00:00<00:00, 1244.82it/s]\n",
      "  0%|          | 0/45 [00:00<?, ?it/s]"
     ]
    },
    {
     "name": "stdout",
     "output_type": "stream",
     "text": [
      "Train Loss: 0.0170\n",
      "Val Loss: 0.0138\n",
      "Epoch 91 of 1000\n",
      "<torch.utils.data.dataloader.DataLoader object at 0x7fb151915550>\n",
      "Train Loss: 0.0169\n",
      "Val Loss: 0.0137\n",
      "Epoch 92 of 1000\n",
      "<torch.utils.data.dataloader.DataLoader object at 0x7fb151915550>\n"
     ]
    },
    {
     "name": "stderr",
     "output_type": "stream",
     "text": [
      "100%|██████████| 45/45 [00:00<00:00, 431.01it/s]\n",
      "100%|██████████| 5/5 [00:00<00:00, 1212.23it/s]\n",
      "100%|██████████| 45/45 [00:00<00:00, 430.43it/s]\n",
      "100%|██████████| 5/5 [00:00<00:00, 1127.26it/s]\n",
      "  0%|          | 0/45 [00:00<?, ?it/s]"
     ]
    },
    {
     "name": "stdout",
     "output_type": "stream",
     "text": [
      "Train Loss: 0.0168\n",
      "Val Loss: 0.0136\n",
      "Epoch 93 of 1000\n",
      "<torch.utils.data.dataloader.DataLoader object at 0x7fb151915550>\n",
      "Train Loss: 0.0167\n",
      "Val Loss: 0.0135\n",
      "Epoch 94 of 1000\n",
      "<torch.utils.data.dataloader.DataLoader object at 0x7fb151915550>\n"
     ]
    },
    {
     "name": "stderr",
     "output_type": "stream",
     "text": [
      "100%|██████████| 45/45 [00:00<00:00, 429.56it/s]\n",
      "100%|██████████| 5/5 [00:00<00:00, 1200.43it/s]\n",
      "100%|██████████| 45/45 [00:00<00:00, 402.05it/s]\n",
      "100%|██████████| 5/5 [00:00<00:00, 1197.62it/s]\n",
      "  0%|          | 0/45 [00:00<?, ?it/s]"
     ]
    },
    {
     "name": "stdout",
     "output_type": "stream",
     "text": [
      "Train Loss: 0.0166\n",
      "Val Loss: 0.0135\n",
      "Epoch 95 of 1000\n",
      "<torch.utils.data.dataloader.DataLoader object at 0x7fb151915550>\n",
      "Train Loss: 0.0166\n",
      "Val Loss: 0.0134\n",
      "Epoch 96 of 1000\n",
      "<torch.utils.data.dataloader.DataLoader object at 0x7fb151915550>\n"
     ]
    },
    {
     "name": "stderr",
     "output_type": "stream",
     "text": [
      "100%|██████████| 45/45 [00:00<00:00, 436.12it/s]\n",
      "100%|██████████| 5/5 [00:00<00:00, 1146.67it/s]\n",
      "100%|██████████| 45/45 [00:00<00:00, 437.74it/s]\n",
      "100%|██████████| 5/5 [00:00<00:00, 1202.56it/s]\n",
      "  0%|          | 0/45 [00:00<?, ?it/s]"
     ]
    },
    {
     "name": "stdout",
     "output_type": "stream",
     "text": [
      "Train Loss: 0.0165\n",
      "Val Loss: 0.0133\n",
      "Epoch 97 of 1000\n",
      "<torch.utils.data.dataloader.DataLoader object at 0x7fb151915550>\n",
      "Train Loss: 0.0164\n",
      "Val Loss: 0.0132\n",
      "Epoch 98 of 1000\n",
      "<torch.utils.data.dataloader.DataLoader object at 0x7fb151915550>\n"
     ]
    },
    {
     "name": "stderr",
     "output_type": "stream",
     "text": [
      "100%|██████████| 45/45 [00:00<00:00, 411.21it/s]\n",
      "100%|██████████| 5/5 [00:00<00:00, 1145.17it/s]\n",
      "100%|██████████| 45/45 [00:00<00:00, 411.16it/s]\n",
      "100%|██████████| 5/5 [00:00<00:00, 1013.36it/s]\n",
      "  0%|          | 0/45 [00:00<?, ?it/s]"
     ]
    },
    {
     "name": "stdout",
     "output_type": "stream",
     "text": [
      "Train Loss: 0.0163\n",
      "Val Loss: 0.0131\n",
      "Epoch 99 of 1000\n",
      "<torch.utils.data.dataloader.DataLoader object at 0x7fb151915550>\n",
      "Train Loss: 0.0162\n",
      "Val Loss: 0.0131\n",
      "Epoch 100 of 1000\n",
      "<torch.utils.data.dataloader.DataLoader object at 0x7fb151915550>\n"
     ]
    },
    {
     "name": "stderr",
     "output_type": "stream",
     "text": [
      "100%|██████████| 45/45 [00:00<00:00, 368.62it/s]\n",
      "100%|██████████| 5/5 [00:00<00:00, 1102.08it/s]\n",
      "100%|██████████| 45/45 [00:00<00:00, 414.41it/s]\n",
      "100%|██████████| 5/5 [00:00<00:00, 1151.33it/s]\n",
      "  0%|          | 0/45 [00:00<?, ?it/s]"
     ]
    },
    {
     "name": "stdout",
     "output_type": "stream",
     "text": [
      "Train Loss: 0.0162\n",
      "Val Loss: 0.0130\n",
      "Epoch 101 of 1000\n",
      "<torch.utils.data.dataloader.DataLoader object at 0x7fb151915550>\n",
      "Train Loss: 0.0161\n",
      "Val Loss: 0.0129\n",
      "Epoch 102 of 1000\n",
      "<torch.utils.data.dataloader.DataLoader object at 0x7fb151915550>\n"
     ]
    },
    {
     "name": "stderr",
     "output_type": "stream",
     "text": [
      "100%|██████████| 45/45 [00:00<00:00, 422.26it/s]\n",
      "100%|██████████| 5/5 [00:00<00:00, 1203.19it/s]\n",
      "100%|██████████| 45/45 [00:00<00:00, 399.16it/s]\n",
      "100%|██████████| 5/5 [00:00<00:00, 1210.34it/s]\n",
      "  0%|          | 0/45 [00:00<?, ?it/s]"
     ]
    },
    {
     "name": "stdout",
     "output_type": "stream",
     "text": [
      "Train Loss: 0.0160\n",
      "Val Loss: 0.0129\n",
      "Epoch 103 of 1000\n",
      "<torch.utils.data.dataloader.DataLoader object at 0x7fb151915550>\n",
      "Train Loss: 0.0159\n",
      "Val Loss: 0.0128\n",
      "Epoch 104 of 1000\n",
      "<torch.utils.data.dataloader.DataLoader object at 0x7fb151915550>\n"
     ]
    },
    {
     "name": "stderr",
     "output_type": "stream",
     "text": [
      "100%|██████████| 45/45 [00:00<00:00, 427.29it/s]\n",
      "100%|██████████| 5/5 [00:00<00:00, 1210.34it/s]\n",
      "100%|██████████| 45/45 [00:00<00:00, 431.62it/s]\n",
      "100%|██████████| 5/5 [00:00<00:00, 1197.00it/s]\n",
      "  0%|          | 0/45 [00:00<?, ?it/s]"
     ]
    },
    {
     "name": "stdout",
     "output_type": "stream",
     "text": [
      "Train Loss: 0.0159\n",
      "Val Loss: 0.0127\n",
      "Epoch 105 of 1000\n",
      "<torch.utils.data.dataloader.DataLoader object at 0x7fb151915550>\n",
      "Train Loss: 0.0158\n",
      "Val Loss: 0.0127\n",
      "Epoch 106 of 1000\n",
      "<torch.utils.data.dataloader.DataLoader object at 0x7fb151915550>\n"
     ]
    },
    {
     "name": "stderr",
     "output_type": "stream",
     "text": [
      "100%|██████████| 45/45 [00:00<00:00, 397.49it/s]\n",
      "100%|██████████| 5/5 [00:00<00:00, 807.40it/s]\n",
      "100%|██████████| 45/45 [00:00<00:00, 372.25it/s]\n",
      "100%|██████████| 5/5 [00:00<00:00, 1061.04it/s]\n",
      "  0%|          | 0/45 [00:00<?, ?it/s]"
     ]
    },
    {
     "name": "stdout",
     "output_type": "stream",
     "text": [
      "Train Loss: 0.0157\n",
      "Val Loss: 0.0126\n",
      "Epoch 107 of 1000\n",
      "<torch.utils.data.dataloader.DataLoader object at 0x7fb151915550>\n",
      "Train Loss: 0.0157\n",
      "Val Loss: 0.0126\n",
      "Epoch 108 of 1000\n",
      "<torch.utils.data.dataloader.DataLoader object at 0x7fb151915550>\n"
     ]
    },
    {
     "name": "stderr",
     "output_type": "stream",
     "text": [
      "100%|██████████| 45/45 [00:00<00:00, 416.84it/s]\n",
      "100%|██████████| 5/5 [00:00<00:00, 1168.00it/s]\n",
      "100%|██████████| 45/45 [00:00<00:00, 430.58it/s]\n",
      "100%|██████████| 5/5 [00:00<00:00, 1192.92it/s]\n",
      "  0%|          | 0/45 [00:00<?, ?it/s]"
     ]
    },
    {
     "name": "stdout",
     "output_type": "stream",
     "text": [
      "Train Loss: 0.0156\n",
      "Val Loss: 0.0125\n",
      "Epoch 109 of 1000\n",
      "<torch.utils.data.dataloader.DataLoader object at 0x7fb151915550>\n",
      "Train Loss: 0.0156\n",
      "Val Loss: 0.0125\n",
      "Epoch 110 of 1000\n",
      "<torch.utils.data.dataloader.DataLoader object at 0x7fb151915550>\n"
     ]
    },
    {
     "name": "stderr",
     "output_type": "stream",
     "text": [
      "100%|██████████| 45/45 [00:00<00:00, 422.67it/s]\n",
      "100%|██████████| 5/5 [00:00<00:00, 1097.30it/s]\n",
      "100%|██████████| 45/45 [00:00<00:00, 425.15it/s]\n",
      "100%|██████████| 5/5 [00:00<00:00, 824.94it/s]\n",
      "  0%|          | 0/45 [00:00<?, ?it/s]"
     ]
    },
    {
     "name": "stdout",
     "output_type": "stream",
     "text": [
      "Train Loss: 0.0155\n",
      "Val Loss: 0.0124\n",
      "Epoch 111 of 1000\n",
      "<torch.utils.data.dataloader.DataLoader object at 0x7fb151915550>\n",
      "Train Loss: 0.0155\n",
      "Val Loss: 0.0124\n",
      "Epoch 112 of 1000\n",
      "<torch.utils.data.dataloader.DataLoader object at 0x7fb151915550>\n"
     ]
    },
    {
     "name": "stderr",
     "output_type": "stream",
     "text": [
      "100%|██████████| 45/45 [00:00<00:00, 424.29it/s]\n",
      "100%|██████████| 5/5 [00:00<00:00, 1188.86it/s]\n",
      "100%|██████████| 45/45 [00:00<00:00, 378.30it/s]\n",
      "100%|██████████| 5/5 [00:00<00:00, 1099.77it/s]\n",
      "  0%|          | 0/45 [00:00<?, ?it/s]"
     ]
    },
    {
     "name": "stdout",
     "output_type": "stream",
     "text": [
      "Train Loss: 0.0154\n",
      "Val Loss: 0.0123\n",
      "Epoch 113 of 1000\n",
      "<torch.utils.data.dataloader.DataLoader object at 0x7fb151915550>\n",
      "Train Loss: 0.0154\n",
      "Val Loss: 0.0123\n",
      "Epoch 114 of 1000\n",
      "<torch.utils.data.dataloader.DataLoader object at 0x7fb151915550>\n"
     ]
    },
    {
     "name": "stderr",
     "output_type": "stream",
     "text": [
      "100%|██████████| 45/45 [00:00<00:00, 424.86it/s]\n",
      "100%|██████████| 5/5 [00:00<00:00, 1199.40it/s]\n",
      "100%|██████████| 45/45 [00:00<00:00, 439.17it/s]\n",
      "100%|██████████| 5/5 [00:00<00:00, 1228.92it/s]\n",
      "  0%|          | 0/45 [00:00<?, ?it/s]"
     ]
    },
    {
     "name": "stdout",
     "output_type": "stream",
     "text": [
      "Train Loss: 0.0153\n",
      "Val Loss: 0.0122\n",
      "Epoch 115 of 1000\n",
      "<torch.utils.data.dataloader.DataLoader object at 0x7fb151915550>\n",
      "Train Loss: 0.0153\n",
      "Val Loss: 0.0122\n",
      "Epoch 116 of 1000\n",
      "<torch.utils.data.dataloader.DataLoader object at 0x7fb151915550>\n"
     ]
    },
    {
     "name": "stderr",
     "output_type": "stream",
     "text": [
      "100%|██████████| 45/45 [00:00<00:00, 435.59it/s]\n",
      "100%|██████████| 5/5 [00:00<00:00, 1147.80it/s]\n",
      "100%|██████████| 45/45 [00:00<00:00, 432.85it/s]\n",
      "100%|██████████| 5/5 [00:00<00:00, 1217.29it/s]\n",
      "  0%|          | 0/45 [00:00<?, ?it/s]"
     ]
    },
    {
     "name": "stdout",
     "output_type": "stream",
     "text": [
      "Train Loss: 0.0152\n",
      "Val Loss: 0.0121\n",
      "Epoch 117 of 1000\n",
      "<torch.utils.data.dataloader.DataLoader object at 0x7fb151915550>\n",
      "Train Loss: 0.0152\n",
      "Val Loss: 0.0121\n",
      "Epoch 118 of 1000\n",
      "<torch.utils.data.dataloader.DataLoader object at 0x7fb151915550>\n"
     ]
    },
    {
     "name": "stderr",
     "output_type": "stream",
     "text": [
      "100%|██████████| 45/45 [00:00<00:00, 429.56it/s]\n",
      "100%|██████████| 5/5 [00:00<00:00, 1167.03it/s]\n",
      "100%|██████████| 45/45 [00:00<00:00, 436.72it/s]\n",
      "100%|██████████| 5/5 [00:00<00:00, 460.00it/s]\n",
      "  0%|          | 0/45 [00:00<?, ?it/s]"
     ]
    },
    {
     "name": "stdout",
     "output_type": "stream",
     "text": [
      "Train Loss: 0.0151\n",
      "Val Loss: 0.0121\n",
      "Epoch 119 of 1000\n",
      "<torch.utils.data.dataloader.DataLoader object at 0x7fb151915550>\n",
      "Train Loss: 0.0151\n",
      "Val Loss: 0.0120\n",
      "Epoch 120 of 1000\n",
      "<torch.utils.data.dataloader.DataLoader object at 0x7fb151915550>\n"
     ]
    },
    {
     "name": "stderr",
     "output_type": "stream",
     "text": [
      "100%|██████████| 45/45 [00:00<00:00, 429.46it/s]\n",
      "100%|██████████| 5/5 [00:00<00:00, 1147.80it/s]\n",
      "100%|██████████| 45/45 [00:00<00:00, 385.56it/s]\n",
      "100%|██████████| 5/5 [00:00<00:00, 1105.74it/s]\n",
      "  0%|          | 0/45 [00:00<?, ?it/s]"
     ]
    },
    {
     "name": "stdout",
     "output_type": "stream",
     "text": [
      "Train Loss: 0.0151\n",
      "Val Loss: 0.0120\n",
      "Epoch 121 of 1000\n",
      "<torch.utils.data.dataloader.DataLoader object at 0x7fb151915550>\n",
      "Train Loss: 0.0150\n",
      "Val Loss: 0.0120\n",
      "Epoch 122 of 1000\n",
      "<torch.utils.data.dataloader.DataLoader object at 0x7fb151915550>\n"
     ]
    },
    {
     "name": "stderr",
     "output_type": "stream",
     "text": [
      "100%|██████████| 45/45 [00:00<00:00, 428.03it/s]\n",
      "100%|██████████| 5/5 [00:00<00:00, 1213.14it/s]\n",
      "100%|██████████| 45/45 [00:00<00:00, 382.55it/s]\n",
      "100%|██████████| 5/5 [00:00<00:00, 900.45it/s]\n",
      "  0%|          | 0/45 [00:00<?, ?it/s]"
     ]
    },
    {
     "name": "stdout",
     "output_type": "stream",
     "text": [
      "Train Loss: 0.0150\n",
      "Val Loss: 0.0119\n",
      "Epoch 123 of 1000\n",
      "<torch.utils.data.dataloader.DataLoader object at 0x7fb151915550>\n",
      "Train Loss: 0.0150\n",
      "Val Loss: 0.0119\n",
      "Epoch 124 of 1000\n",
      "<torch.utils.data.dataloader.DataLoader object at 0x7fb151915550>\n"
     ]
    },
    {
     "name": "stderr",
     "output_type": "stream",
     "text": [
      "100%|██████████| 45/45 [00:00<00:00, 375.30it/s]\n",
      "100%|██████████| 5/5 [00:00<00:00, 1167.48it/s]\n",
      "100%|██████████| 45/45 [00:00<00:00, 412.35it/s]\n",
      "100%|██████████| 5/5 [00:00<00:00, 1023.10it/s]\n",
      "  0%|          | 0/45 [00:00<?, ?it/s]"
     ]
    },
    {
     "name": "stdout",
     "output_type": "stream",
     "text": [
      "Train Loss: 0.0149\n",
      "Val Loss: 0.0119\n",
      "Epoch 125 of 1000\n",
      "<torch.utils.data.dataloader.DataLoader object at 0x7fb151915550>\n",
      "Train Loss: 0.0149\n",
      "Val Loss: 0.0118\n",
      "Epoch 126 of 1000\n",
      "<torch.utils.data.dataloader.DataLoader object at 0x7fb151915550>\n"
     ]
    },
    {
     "name": "stderr",
     "output_type": "stream",
     "text": [
      "100%|██████████| 45/45 [00:00<00:00, 417.05it/s]\n",
      "100%|██████████| 5/5 [00:00<00:00, 1239.89it/s]\n",
      "100%|██████████| 45/45 [00:00<00:00, 421.64it/s]\n",
      "100%|██████████| 5/5 [00:00<00:00, 1138.83it/s]\n",
      "  0%|          | 0/45 [00:00<?, ?it/s]"
     ]
    },
    {
     "name": "stdout",
     "output_type": "stream",
     "text": [
      "Train Loss: 0.0149\n",
      "Val Loss: 0.0118\n",
      "Epoch 127 of 1000\n",
      "<torch.utils.data.dataloader.DataLoader object at 0x7fb151915550>\n",
      "Train Loss: 0.0148\n",
      "Val Loss: 0.0118\n",
      "Epoch 128 of 1000\n",
      "<torch.utils.data.dataloader.DataLoader object at 0x7fb151915550>\n"
     ]
    },
    {
     "name": "stderr",
     "output_type": "stream",
     "text": [
      "100%|██████████| 45/45 [00:00<00:00, 424.29it/s]\n",
      "100%|██████████| 5/5 [00:00<00:00, 1206.16it/s]\n",
      "100%|██████████| 45/45 [00:00<00:00, 429.99it/s]\n",
      "100%|██████████| 5/5 [00:00<00:00, 1132.31it/s]\n",
      "  0%|          | 0/45 [00:00<?, ?it/s]"
     ]
    },
    {
     "name": "stdout",
     "output_type": "stream",
     "text": [
      "Train Loss: 0.0148\n",
      "Val Loss: 0.0118\n",
      "Epoch 129 of 1000\n",
      "<torch.utils.data.dataloader.DataLoader object at 0x7fb151915550>\n",
      "Train Loss: 0.0148\n",
      "Val Loss: 0.0117\n",
      "Epoch 130 of 1000\n",
      "<torch.utils.data.dataloader.DataLoader object at 0x7fb151915550>\n"
     ]
    },
    {
     "name": "stderr",
     "output_type": "stream",
     "text": [
      "100%|██████████| 45/45 [00:00<00:00, 397.88it/s]\n",
      "100%|██████████| 5/5 [00:00<00:00, 1225.97it/s]\n",
      "100%|██████████| 45/45 [00:00<00:00, 417.40it/s]\n",
      "100%|██████████| 5/5 [00:00<00:00, 1141.49it/s]\n",
      "  0%|          | 0/45 [00:00<?, ?it/s]"
     ]
    },
    {
     "name": "stdout",
     "output_type": "stream",
     "text": [
      "Train Loss: 0.0147\n",
      "Val Loss: 0.0117\n",
      "Epoch 131 of 1000\n",
      "<torch.utils.data.dataloader.DataLoader object at 0x7fb151915550>\n",
      "Train Loss: 0.0147\n",
      "Val Loss: 0.0117\n",
      "Epoch 132 of 1000\n",
      "<torch.utils.data.dataloader.DataLoader object at 0x7fb151915550>\n"
     ]
    },
    {
     "name": "stderr",
     "output_type": "stream",
     "text": [
      "100%|██████████| 45/45 [00:00<00:00, 415.16it/s]\n",
      "100%|██████████| 5/5 [00:00<00:00, 1251.88it/s]\n",
      "100%|██████████| 45/45 [00:00<00:00, 431.52it/s]\n",
      "100%|██████████| 5/5 [00:00<00:00, 1033.03it/s]\n",
      "  0%|          | 0/45 [00:00<?, ?it/s]"
     ]
    },
    {
     "name": "stdout",
     "output_type": "stream",
     "text": [
      "Train Loss: 0.0147\n",
      "Val Loss: 0.0117\n",
      "Epoch 133 of 1000\n",
      "<torch.utils.data.dataloader.DataLoader object at 0x7fb151915550>\n",
      "Train Loss: 0.0147\n",
      "Val Loss: 0.0117\n",
      "Epoch 134 of 1000\n",
      "<torch.utils.data.dataloader.DataLoader object at 0x7fb151915550>\n"
     ]
    },
    {
     "name": "stderr",
     "output_type": "stream",
     "text": [
      "100%|██████████| 45/45 [00:00<00:00, 402.46it/s]\n",
      "100%|██████████| 5/5 [00:00<00:00, 1089.03it/s]\n",
      "100%|██████████| 45/45 [00:00<00:00, 419.84it/s]\n",
      "100%|██████████| 5/5 [00:00<00:00, 1161.99it/s]\n",
      "  0%|          | 0/45 [00:00<?, ?it/s]"
     ]
    },
    {
     "name": "stdout",
     "output_type": "stream",
     "text": [
      "Train Loss: 0.0146\n",
      "Val Loss: 0.0116\n",
      "Epoch 135 of 1000\n",
      "<torch.utils.data.dataloader.DataLoader object at 0x7fb151915550>\n",
      "Train Loss: 0.0146\n",
      "Val Loss: 0.0116\n",
      "Epoch 136 of 1000\n",
      "<torch.utils.data.dataloader.DataLoader object at 0x7fb151915550>\n"
     ]
    },
    {
     "name": "stderr",
     "output_type": "stream",
     "text": [
      "100%|██████████| 45/45 [00:00<00:00, 418.58it/s]\n",
      "100%|██████████| 5/5 [00:00<00:00, 1148.62it/s]\n",
      "100%|██████████| 45/45 [00:00<00:00, 418.85it/s]\n",
      "100%|██████████| 5/5 [00:00<00:00, 1141.00it/s]\n",
      "  0%|          | 0/45 [00:00<?, ?it/s]"
     ]
    },
    {
     "name": "stdout",
     "output_type": "stream",
     "text": [
      "Train Loss: 0.0146\n",
      "Val Loss: 0.0116\n",
      "Epoch 137 of 1000\n",
      "<torch.utils.data.dataloader.DataLoader object at 0x7fb151915550>\n",
      "Train Loss: 0.0146\n",
      "Val Loss: 0.0116\n",
      "Epoch 138 of 1000\n",
      "<torch.utils.data.dataloader.DataLoader object at 0x7fb151915550>\n"
     ]
    },
    {
     "name": "stderr",
     "output_type": "stream",
     "text": [
      "100%|██████████| 45/45 [00:00<00:00, 409.32it/s]\n",
      "100%|██████████| 5/5 [00:00<00:00, 1182.69it/s]\n",
      "100%|██████████| 45/45 [00:00<00:00, 418.00it/s]\n",
      "100%|██████████| 5/5 [00:00<00:00, 1066.66it/s]\n",
      "  0%|          | 0/45 [00:00<?, ?it/s]"
     ]
    },
    {
     "name": "stdout",
     "output_type": "stream",
     "text": [
      "Train Loss: 0.0146\n",
      "Val Loss: 0.0116\n",
      "Epoch 139 of 1000\n",
      "<torch.utils.data.dataloader.DataLoader object at 0x7fb151915550>\n",
      "Train Loss: 0.0145\n",
      "Val Loss: 0.0116\n",
      "Epoch 140 of 1000\n",
      "<torch.utils.data.dataloader.DataLoader object at 0x7fb151915550>\n"
     ]
    },
    {
     "name": "stderr",
     "output_type": "stream",
     "text": [
      "100%|██████████| 45/45 [00:00<00:00, 420.86it/s]\n",
      "100%|██████████| 5/5 [00:00<00:00, 1128.35it/s]\n",
      "100%|██████████| 45/45 [00:00<00:00, 422.35it/s]\n",
      "100%|██████████| 5/5 [00:00<00:00, 1216.02it/s]\n",
      "  0%|          | 0/45 [00:00<?, ?it/s]"
     ]
    },
    {
     "name": "stdout",
     "output_type": "stream",
     "text": [
      "Train Loss: 0.0145\n",
      "Val Loss: 0.0115\n",
      "Epoch 141 of 1000\n",
      "<torch.utils.data.dataloader.DataLoader object at 0x7fb151915550>\n",
      "Train Loss: 0.0145\n",
      "Val Loss: 0.0115\n",
      "Epoch 142 of 1000\n",
      "<torch.utils.data.dataloader.DataLoader object at 0x7fb151915550>\n"
     ]
    },
    {
     "name": "stderr",
     "output_type": "stream",
     "text": [
      "100%|██████████| 45/45 [00:00<00:00, 431.48it/s]\n",
      "100%|██████████| 5/5 [00:00<00:00, 1179.70it/s]\n",
      "100%|██████████| 45/45 [00:00<00:00, 420.36it/s]\n",
      "100%|██████████| 5/5 [00:00<00:00, 1189.33it/s]\n",
      "  0%|          | 0/45 [00:00<?, ?it/s]"
     ]
    },
    {
     "name": "stdout",
     "output_type": "stream",
     "text": [
      "Train Loss: 0.0145\n",
      "Val Loss: 0.0115\n",
      "Epoch 143 of 1000\n",
      "<torch.utils.data.dataloader.DataLoader object at 0x7fb151915550>\n",
      "Train Loss: 0.0145\n",
      "Val Loss: 0.0115\n",
      "Epoch 144 of 1000\n",
      "<torch.utils.data.dataloader.DataLoader object at 0x7fb151915550>\n"
     ]
    },
    {
     "name": "stderr",
     "output_type": "stream",
     "text": [
      "100%|██████████| 45/45 [00:00<00:00, 425.94it/s]\n",
      "100%|██████████| 5/5 [00:00<00:00, 1179.10it/s]\n",
      "100%|██████████| 45/45 [00:00<00:00, 411.43it/s]\n",
      "100%|██████████| 5/5 [00:00<00:00, 1195.98it/s]\n",
      "  0%|          | 0/45 [00:00<?, ?it/s]"
     ]
    },
    {
     "name": "stdout",
     "output_type": "stream",
     "text": [
      "Train Loss: 0.0145\n",
      "Val Loss: 0.0115\n",
      "Epoch 145 of 1000\n",
      "<torch.utils.data.dataloader.DataLoader object at 0x7fb151915550>\n",
      "Train Loss: 0.0144\n",
      "Val Loss: 0.0115\n",
      "Epoch 146 of 1000\n",
      "<torch.utils.data.dataloader.DataLoader object at 0x7fb151915550>\n"
     ]
    },
    {
     "name": "stderr",
     "output_type": "stream",
     "text": [
      "100%|██████████| 45/45 [00:00<00:00, 417.20it/s]\n",
      "100%|██████████| 5/5 [00:00<00:00, 1102.26it/s]\n",
      "100%|██████████| 45/45 [00:00<00:00, 410.34it/s]\n",
      "100%|██████████| 5/5 [00:00<00:00, 1107.67it/s]\n",
      "  0%|          | 0/45 [00:00<?, ?it/s]"
     ]
    },
    {
     "name": "stdout",
     "output_type": "stream",
     "text": [
      "Train Loss: 0.0144\n",
      "Val Loss: 0.0115\n",
      "Epoch 147 of 1000\n",
      "<torch.utils.data.dataloader.DataLoader object at 0x7fb151915550>\n",
      "Train Loss: 0.0144\n",
      "Val Loss: 0.0115\n",
      "Epoch 148 of 1000\n",
      "<torch.utils.data.dataloader.DataLoader object at 0x7fb151915550>\n"
     ]
    },
    {
     "name": "stderr",
     "output_type": "stream",
     "text": [
      "100%|██████████| 45/45 [00:00<00:00, 429.47it/s]\n",
      "100%|██████████| 5/5 [00:00<00:00, 1169.70it/s]\n",
      "100%|██████████| 45/45 [00:00<00:00, 426.28it/s]\n",
      "100%|██████████| 5/5 [00:00<00:00, 1222.83it/s]\n",
      "  0%|          | 0/45 [00:00<?, ?it/s]"
     ]
    },
    {
     "name": "stdout",
     "output_type": "stream",
     "text": [
      "Train Loss: 0.0144\n",
      "Val Loss: 0.0115\n",
      "Epoch 149 of 1000\n",
      "<torch.utils.data.dataloader.DataLoader object at 0x7fb151915550>\n",
      "Train Loss: 0.0144\n",
      "Val Loss: 0.0114\n",
      "Epoch 150 of 1000\n",
      "<torch.utils.data.dataloader.DataLoader object at 0x7fb151915550>\n"
     ]
    },
    {
     "name": "stderr",
     "output_type": "stream",
     "text": [
      "100%|██████████| 45/45 [00:00<00:00, 428.37it/s]\n",
      "100%|██████████| 5/5 [00:00<00:00, 1150.07it/s]\n",
      "100%|██████████| 45/45 [00:00<00:00, 411.98it/s]\n",
      "100%|██████████| 5/5 [00:00<00:00, 1077.34it/s]\n",
      "  0%|          | 0/45 [00:00<?, ?it/s]"
     ]
    },
    {
     "name": "stdout",
     "output_type": "stream",
     "text": [
      "Train Loss: 0.0144\n",
      "Val Loss: 0.0114\n",
      "Epoch 151 of 1000\n",
      "<torch.utils.data.dataloader.DataLoader object at 0x7fb151915550>\n",
      "Train Loss: 0.0144\n",
      "Val Loss: 0.0114\n",
      "Epoch 152 of 1000\n",
      "<torch.utils.data.dataloader.DataLoader object at 0x7fb151915550>\n"
     ]
    },
    {
     "name": "stderr",
     "output_type": "stream",
     "text": [
      "100%|██████████| 45/45 [00:00<00:00, 416.48it/s]\n",
      "100%|██████████| 5/5 [00:00<00:00, 1078.73it/s]\n",
      "100%|██████████| 45/45 [00:00<00:00, 423.77it/s]\n",
      "100%|██████████| 5/5 [00:00<00:00, 1201.32it/s]\n",
      "  0%|          | 0/45 [00:00<?, ?it/s]"
     ]
    },
    {
     "name": "stdout",
     "output_type": "stream",
     "text": [
      "Train Loss: 0.0144\n",
      "Val Loss: 0.0114\n",
      "Epoch 153 of 1000\n",
      "<torch.utils.data.dataloader.DataLoader object at 0x7fb151915550>\n",
      "Train Loss: 0.0144\n",
      "Val Loss: 0.0114\n",
      "Epoch 154 of 1000\n",
      "<torch.utils.data.dataloader.DataLoader object at 0x7fb151915550>\n"
     ]
    },
    {
     "name": "stderr",
     "output_type": "stream",
     "text": [
      "100%|██████████| 45/45 [00:00<00:00, 420.66it/s]\n",
      "100%|██████████| 5/5 [00:00<00:00, 1014.29it/s]\n",
      "100%|██████████| 45/45 [00:00<00:00, 424.29it/s]\n",
      "100%|██████████| 5/5 [00:00<00:00, 1081.68it/s]\n",
      "  0%|          | 0/45 [00:00<?, ?it/s]"
     ]
    },
    {
     "name": "stdout",
     "output_type": "stream",
     "text": [
      "Train Loss: 0.0143\n",
      "Val Loss: 0.0114\n",
      "Epoch 155 of 1000\n",
      "<torch.utils.data.dataloader.DataLoader object at 0x7fb151915550>\n",
      "Train Loss: 0.0143\n",
      "Val Loss: 0.0114\n",
      "Epoch 156 of 1000\n",
      "<torch.utils.data.dataloader.DataLoader object at 0x7fb151915550>\n"
     ]
    },
    {
     "name": "stderr",
     "output_type": "stream",
     "text": [
      "100%|██████████| 45/45 [00:00<00:00, 407.86it/s]\n",
      "100%|██████████| 5/5 [00:00<00:00, 1123.88it/s]\n",
      "100%|██████████| 45/45 [00:00<00:00, 420.83it/s]\n",
      "100%|██████████| 5/5 [00:00<00:00, 1209.50it/s]\n",
      "  0%|          | 0/45 [00:00<?, ?it/s]"
     ]
    },
    {
     "name": "stdout",
     "output_type": "stream",
     "text": [
      "Train Loss: 0.0143\n",
      "Val Loss: 0.0114\n",
      "Epoch 157 of 1000\n",
      "<torch.utils.data.dataloader.DataLoader object at 0x7fb151915550>\n",
      "Train Loss: 0.0143\n",
      "Val Loss: 0.0114\n",
      "Epoch 158 of 1000\n",
      "<torch.utils.data.dataloader.DataLoader object at 0x7fb151915550>\n"
     ]
    },
    {
     "name": "stderr",
     "output_type": "stream",
     "text": [
      "100%|██████████| 45/45 [00:00<00:00, 423.96it/s]\n",
      "100%|██████████| 5/5 [00:00<00:00, 1225.83it/s]\n",
      "100%|██████████| 45/45 [00:00<00:00, 422.35it/s]\n",
      "100%|██████████| 5/5 [00:00<00:00, 1050.52it/s]\n",
      "  0%|          | 0/45 [00:00<?, ?it/s]"
     ]
    },
    {
     "name": "stdout",
     "output_type": "stream",
     "text": [
      "Train Loss: 0.0143\n",
      "Val Loss: 0.0114\n",
      "Epoch 159 of 1000\n",
      "<torch.utils.data.dataloader.DataLoader object at 0x7fb151915550>\n",
      "Train Loss: 0.0143\n",
      "Val Loss: 0.0114\n",
      "Epoch 160 of 1000\n",
      "<torch.utils.data.dataloader.DataLoader object at 0x7fb151915550>\n"
     ]
    },
    {
     "name": "stderr",
     "output_type": "stream",
     "text": [
      "100%|██████████| 45/45 [00:00<00:00, 402.67it/s]\n",
      "100%|██████████| 5/5 [00:00<00:00, 1165.02it/s]\n",
      "100%|██████████| 45/45 [00:00<00:00, 425.73it/s]\n",
      "100%|██████████| 5/5 [00:00<00:00, 1198.44it/s]\n",
      "  0%|          | 0/45 [00:00<?, ?it/s]"
     ]
    },
    {
     "name": "stdout",
     "output_type": "stream",
     "text": [
      "Train Loss: 0.0143\n",
      "Val Loss: 0.0114\n",
      "Epoch 161 of 1000\n",
      "<torch.utils.data.dataloader.DataLoader object at 0x7fb151915550>\n",
      "Train Loss: 0.0143\n",
      "Val Loss: 0.0114\n",
      "Epoch 162 of 1000\n",
      "<torch.utils.data.dataloader.DataLoader object at 0x7fb151915550>\n"
     ]
    },
    {
     "name": "stderr",
     "output_type": "stream",
     "text": [
      "100%|██████████| 45/45 [00:00<00:00, 416.82it/s]\n",
      "100%|██████████| 5/5 [00:00<00:00, 1242.09it/s]\n",
      "100%|██████████| 45/45 [00:00<00:00, 421.37it/s]\n",
      "100%|██████████| 5/5 [00:00<00:00, 1232.46it/s]\n",
      "  0%|          | 0/45 [00:00<?, ?it/s]"
     ]
    },
    {
     "name": "stdout",
     "output_type": "stream",
     "text": [
      "Train Loss: 0.0143\n",
      "Val Loss: 0.0114\n",
      "Epoch 163 of 1000\n",
      "<torch.utils.data.dataloader.DataLoader object at 0x7fb151915550>\n",
      "Train Loss: 0.0143\n",
      "Val Loss: 0.0114\n",
      "Epoch 164 of 1000\n",
      "<torch.utils.data.dataloader.DataLoader object at 0x7fb151915550>\n"
     ]
    },
    {
     "name": "stderr",
     "output_type": "stream",
     "text": [
      "100%|██████████| 45/45 [00:00<00:00, 429.05it/s]\n",
      "100%|██████████| 5/5 [00:00<00:00, 1076.62it/s]\n",
      "100%|██████████| 45/45 [00:00<00:00, 429.37it/s]\n",
      "100%|██████████| 5/5 [00:00<00:00, 1219.13it/s]\n",
      "  0%|          | 0/45 [00:00<?, ?it/s]"
     ]
    },
    {
     "name": "stdout",
     "output_type": "stream",
     "text": [
      "Train Loss: 0.0143\n",
      "Val Loss: 0.0114\n",
      "Epoch 165 of 1000\n",
      "<torch.utils.data.dataloader.DataLoader object at 0x7fb151915550>\n",
      "Train Loss: 0.0143\n",
      "Val Loss: 0.0113\n",
      "Epoch 166 of 1000\n",
      "<torch.utils.data.dataloader.DataLoader object at 0x7fb151915550>\n"
     ]
    },
    {
     "name": "stderr",
     "output_type": "stream",
     "text": [
      "100%|██████████| 45/45 [00:00<00:00, 432.66it/s]\n",
      "100%|██████████| 5/5 [00:00<00:00, 1217.72it/s]\n",
      "100%|██████████| 45/45 [00:00<00:00, 429.18it/s]\n",
      "100%|██████████| 5/5 [00:00<00:00, 1149.57it/s]\n",
      "  0%|          | 0/45 [00:00<?, ?it/s]"
     ]
    },
    {
     "name": "stdout",
     "output_type": "stream",
     "text": [
      "Train Loss: 0.0143\n",
      "Val Loss: 0.0113\n",
      "Epoch 167 of 1000\n",
      "<torch.utils.data.dataloader.DataLoader object at 0x7fb151915550>\n",
      "Train Loss: 0.0143\n",
      "Val Loss: 0.0113\n",
      "Epoch 168 of 1000\n",
      "<torch.utils.data.dataloader.DataLoader object at 0x7fb151915550>\n"
     ]
    },
    {
     "name": "stderr",
     "output_type": "stream",
     "text": [
      "100%|██████████| 45/45 [00:00<00:00, 429.48it/s]\n",
      "100%|██████████| 5/5 [00:00<00:00, 1108.67it/s]\n",
      "100%|██████████| 45/45 [00:00<00:00, 383.01it/s]\n",
      "100%|██████████| 5/5 [00:00<00:00, 838.36it/s]\n",
      "  0%|          | 0/45 [00:00<?, ?it/s]"
     ]
    },
    {
     "name": "stdout",
     "output_type": "stream",
     "text": [
      "Train Loss: 0.0142\n",
      "Val Loss: 0.0113\n",
      "Epoch 169 of 1000\n",
      "<torch.utils.data.dataloader.DataLoader object at 0x7fb151915550>\n",
      "Train Loss: 0.0142\n",
      "Val Loss: 0.0113\n",
      "Epoch 170 of 1000\n",
      "<torch.utils.data.dataloader.DataLoader object at 0x7fb151915550>\n"
     ]
    },
    {
     "name": "stderr",
     "output_type": "stream",
     "text": [
      "100%|██████████| 45/45 [00:00<00:00, 424.09it/s]\n",
      "100%|██████████| 5/5 [00:00<00:00, 1129.99it/s]\n",
      "100%|██████████| 45/45 [00:00<00:00, 418.85it/s]\n",
      "100%|██████████| 5/5 [00:00<00:00, 1143.42it/s]\n",
      "  0%|          | 0/45 [00:00<?, ?it/s]"
     ]
    },
    {
     "name": "stdout",
     "output_type": "stream",
     "text": [
      "Train Loss: 0.0142\n",
      "Val Loss: 0.0113\n",
      "Epoch 171 of 1000\n",
      "<torch.utils.data.dataloader.DataLoader object at 0x7fb151915550>\n",
      "Train Loss: 0.0142\n",
      "Val Loss: 0.0113\n",
      "Epoch 172 of 1000\n",
      "<torch.utils.data.dataloader.DataLoader object at 0x7fb151915550>\n"
     ]
    },
    {
     "name": "stderr",
     "output_type": "stream",
     "text": [
      "100%|██████████| 45/45 [00:00<00:00, 401.22it/s]\n",
      "100%|██████████| 5/5 [00:00<00:00, 1103.76it/s]\n",
      "100%|██████████| 45/45 [00:00<00:00, 414.01it/s]\n",
      "100%|██████████| 5/5 [00:00<00:00, 1142.05it/s]\n",
      "  0%|          | 0/45 [00:00<?, ?it/s]"
     ]
    },
    {
     "name": "stdout",
     "output_type": "stream",
     "text": [
      "Train Loss: 0.0142\n",
      "Val Loss: 0.0113\n",
      "Epoch 173 of 1000\n",
      "<torch.utils.data.dataloader.DataLoader object at 0x7fb151915550>\n",
      "Train Loss: 0.0142\n",
      "Val Loss: 0.0113\n",
      "Epoch 174 of 1000\n",
      "<torch.utils.data.dataloader.DataLoader object at 0x7fb151915550>\n"
     ]
    },
    {
     "name": "stderr",
     "output_type": "stream",
     "text": [
      "100%|██████████| 45/45 [00:00<00:00, 417.29it/s]\n",
      "100%|██████████| 5/5 [00:00<00:00, 1173.95it/s]\n",
      "100%|██████████| 45/45 [00:00<00:00, 424.20it/s]\n",
      "100%|██████████| 5/5 [00:00<00:00, 1193.94it/s]\n",
      "  0%|          | 0/45 [00:00<?, ?it/s]"
     ]
    },
    {
     "name": "stdout",
     "output_type": "stream",
     "text": [
      "Train Loss: 0.0142\n",
      "Val Loss: 0.0113\n",
      "Epoch 175 of 1000\n",
      "<torch.utils.data.dataloader.DataLoader object at 0x7fb151915550>\n",
      "Train Loss: 0.0142\n",
      "Val Loss: 0.0113\n",
      "Epoch 176 of 1000\n",
      "<torch.utils.data.dataloader.DataLoader object at 0x7fb151915550>\n"
     ]
    },
    {
     "name": "stderr",
     "output_type": "stream",
     "text": [
      "100%|██████████| 45/45 [00:00<00:00, 416.03it/s]\n",
      "100%|██████████| 5/5 [00:00<00:00, 1191.50it/s]\n",
      "100%|██████████| 45/45 [00:00<00:00, 419.09it/s]\n",
      "100%|██████████| 5/5 [00:00<00:00, 1136.42it/s]\n",
      "  0%|          | 0/45 [00:00<?, ?it/s]"
     ]
    },
    {
     "name": "stdout",
     "output_type": "stream",
     "text": [
      "Train Loss: 0.0142\n",
      "Val Loss: 0.0113\n",
      "Epoch 177 of 1000\n",
      "<torch.utils.data.dataloader.DataLoader object at 0x7fb151915550>\n",
      "Train Loss: 0.0142\n",
      "Val Loss: 0.0113\n",
      "Epoch 178 of 1000\n",
      "<torch.utils.data.dataloader.DataLoader object at 0x7fb151915550>\n"
     ]
    },
    {
     "name": "stderr",
     "output_type": "stream",
     "text": [
      "100%|██████████| 45/45 [00:00<00:00, 405.46it/s]\n",
      "100%|██████████| 5/5 [00:00<00:00, 1256.16it/s]\n",
      "100%|██████████| 45/45 [00:00<00:00, 423.56it/s]\n",
      "100%|██████████| 5/5 [00:00<00:00, 1151.90it/s]\n",
      "  0%|          | 0/45 [00:00<?, ?it/s]"
     ]
    },
    {
     "name": "stdout",
     "output_type": "stream",
     "text": [
      "Train Loss: 0.0142\n",
      "Val Loss: 0.0113\n",
      "Epoch 179 of 1000\n",
      "<torch.utils.data.dataloader.DataLoader object at 0x7fb151915550>\n",
      "Train Loss: 0.0142\n",
      "Val Loss: 0.0113\n",
      "Epoch 180 of 1000\n",
      "<torch.utils.data.dataloader.DataLoader object at 0x7fb151915550>\n"
     ]
    },
    {
     "name": "stderr",
     "output_type": "stream",
     "text": [
      "100%|██████████| 45/45 [00:00<00:00, 400.81it/s]\n",
      "100%|██████████| 5/5 [00:00<00:00, 1193.46it/s]\n",
      "100%|██████████| 45/45 [00:00<00:00, 416.83it/s]\n",
      "100%|██████████| 5/5 [00:00<00:00, 888.81it/s]\n",
      "  0%|          | 0/45 [00:00<?, ?it/s]"
     ]
    },
    {
     "name": "stdout",
     "output_type": "stream",
     "text": [
      "Train Loss: 0.0142\n",
      "Val Loss: 0.0113\n",
      "Epoch 181 of 1000\n",
      "<torch.utils.data.dataloader.DataLoader object at 0x7fb151915550>\n",
      "Train Loss: 0.0142\n",
      "Val Loss: 0.0113\n",
      "Epoch 182 of 1000\n",
      "<torch.utils.data.dataloader.DataLoader object at 0x7fb151915550>\n"
     ]
    },
    {
     "name": "stderr",
     "output_type": "stream",
     "text": [
      "100%|██████████| 45/45 [00:00<00:00, 417.22it/s]\n",
      "100%|██████████| 5/5 [00:00<00:00, 1077.12it/s]\n",
      "100%|██████████| 45/45 [00:00<00:00, 419.94it/s]\n",
      "100%|██████████| 5/5 [00:00<00:00, 1180.90it/s]\n",
      "  0%|          | 0/45 [00:00<?, ?it/s]"
     ]
    },
    {
     "name": "stdout",
     "output_type": "stream",
     "text": [
      "Train Loss: 0.0142\n",
      "Val Loss: 0.0113\n",
      "Epoch 183 of 1000\n",
      "<torch.utils.data.dataloader.DataLoader object at 0x7fb151915550>\n",
      "Train Loss: 0.0142\n",
      "Val Loss: 0.0113\n",
      "Epoch 184 of 1000\n",
      "<torch.utils.data.dataloader.DataLoader object at 0x7fb151915550>\n"
     ]
    },
    {
     "name": "stderr",
     "output_type": "stream",
     "text": [
      "100%|██████████| 45/45 [00:00<00:00, 411.57it/s]\n",
      "100%|██████████| 5/5 [00:00<00:00, 1086.66it/s]\n",
      "100%|██████████| 45/45 [00:00<00:00, 419.91it/s]\n",
      "100%|██████████| 5/5 [00:00<00:00, 1101.45it/s]\n",
      "  0%|          | 0/45 [00:00<?, ?it/s]"
     ]
    },
    {
     "name": "stdout",
     "output_type": "stream",
     "text": [
      "Train Loss: 0.0142\n",
      "Val Loss: 0.0113\n",
      "Epoch 185 of 1000\n",
      "<torch.utils.data.dataloader.DataLoader object at 0x7fb151915550>\n",
      "Train Loss: 0.0142\n",
      "Val Loss: 0.0113\n",
      "Epoch 186 of 1000\n",
      "<torch.utils.data.dataloader.DataLoader object at 0x7fb151915550>\n"
     ]
    },
    {
     "name": "stderr",
     "output_type": "stream",
     "text": [
      "100%|██████████| 45/45 [00:00<00:00, 423.51it/s]\n",
      "100%|██████████| 5/5 [00:00<00:00, 1093.98it/s]\n",
      "100%|██████████| 45/45 [00:00<00:00, 420.68it/s]\n",
      "100%|██████████| 5/5 [00:00<00:00, 1122.85it/s]\n",
      "  0%|          | 0/45 [00:00<?, ?it/s]"
     ]
    },
    {
     "name": "stdout",
     "output_type": "stream",
     "text": [
      "Train Loss: 0.0142\n",
      "Val Loss: 0.0113\n",
      "Epoch 187 of 1000\n",
      "<torch.utils.data.dataloader.DataLoader object at 0x7fb151915550>\n",
      "Train Loss: 0.0142\n",
      "Val Loss: 0.0113\n",
      "Epoch 188 of 1000\n",
      "<torch.utils.data.dataloader.DataLoader object at 0x7fb151915550>\n"
     ]
    },
    {
     "name": "stderr",
     "output_type": "stream",
     "text": [
      "100%|██████████| 45/45 [00:00<00:00, 430.70it/s]\n",
      "100%|██████████| 5/5 [00:00<00:00, 1013.85it/s]\n",
      "100%|██████████| 45/45 [00:00<00:00, 438.74it/s]\n",
      "100%|██████████| 5/5 [00:00<00:00, 1208.66it/s]\n",
      "  0%|          | 0/45 [00:00<?, ?it/s]"
     ]
    },
    {
     "name": "stdout",
     "output_type": "stream",
     "text": [
      "Train Loss: 0.0142\n",
      "Val Loss: 0.0113\n",
      "Epoch 189 of 1000\n",
      "<torch.utils.data.dataloader.DataLoader object at 0x7fb151915550>\n",
      "Train Loss: 0.0142\n",
      "Val Loss: 0.0113\n",
      "Epoch 190 of 1000\n",
      "<torch.utils.data.dataloader.DataLoader object at 0x7fb151915550>\n"
     ]
    },
    {
     "name": "stderr",
     "output_type": "stream",
     "text": [
      "100%|██████████| 45/45 [00:00<00:00, 433.66it/s]\n",
      "100%|██████████| 5/5 [00:00<00:00, 1209.50it/s]\n",
      "100%|██████████| 45/45 [00:00<00:00, 422.56it/s]\n",
      "100%|██████████| 5/5 [00:00<00:00, 1095.92it/s]\n",
      "  0%|          | 0/45 [00:00<?, ?it/s]"
     ]
    },
    {
     "name": "stdout",
     "output_type": "stream",
     "text": [
      "Train Loss: 0.0142\n",
      "Val Loss: 0.0113\n",
      "Epoch 191 of 1000\n",
      "<torch.utils.data.dataloader.DataLoader object at 0x7fb151915550>\n",
      "Train Loss: 0.0142\n",
      "Val Loss: 0.0113\n",
      "Epoch 192 of 1000\n",
      "<torch.utils.data.dataloader.DataLoader object at 0x7fb151915550>\n"
     ]
    },
    {
     "name": "stderr",
     "output_type": "stream",
     "text": [
      "100%|██████████| 45/45 [00:00<00:00, 425.55it/s]\n",
      "100%|██████████| 5/5 [00:00<00:00, 1069.59it/s]\n",
      "100%|██████████| 45/45 [00:00<00:00, 399.86it/s]\n",
      "100%|██████████| 5/5 [00:00<00:00, 1082.46it/s]\n",
      "  0%|          | 0/45 [00:00<?, ?it/s]"
     ]
    },
    {
     "name": "stdout",
     "output_type": "stream",
     "text": [
      "Train Loss: 0.0142\n",
      "Val Loss: 0.0113\n",
      "Epoch 193 of 1000\n",
      "<torch.utils.data.dataloader.DataLoader object at 0x7fb151915550>\n",
      "Train Loss: 0.0142\n",
      "Val Loss: 0.0113\n",
      "Epoch 194 of 1000\n",
      "<torch.utils.data.dataloader.DataLoader object at 0x7fb151915550>\n"
     ]
    },
    {
     "name": "stderr",
     "output_type": "stream",
     "text": [
      "100%|██████████| 45/45 [00:00<00:00, 414.30it/s]\n",
      "100%|██████████| 5/5 [00:00<00:00, 1172.58it/s]\n",
      "100%|██████████| 45/45 [00:00<00:00, 417.26it/s]\n",
      "100%|██████████| 5/5 [00:00<00:00, 1083.24it/s]\n",
      "  0%|          | 0/45 [00:00<?, ?it/s]"
     ]
    },
    {
     "name": "stdout",
     "output_type": "stream",
     "text": [
      "Train Loss: 0.0142\n",
      "Val Loss: 0.0113\n",
      "Epoch 195 of 1000\n",
      "<torch.utils.data.dataloader.DataLoader object at 0x7fb151915550>\n",
      "Train Loss: 0.0142\n",
      "Val Loss: 0.0113\n",
      "Epoch 196 of 1000\n",
      "<torch.utils.data.dataloader.DataLoader object at 0x7fb151915550>\n"
     ]
    },
    {
     "name": "stderr",
     "output_type": "stream",
     "text": [
      "100%|██████████| 45/45 [00:00<00:00, 417.10it/s]\n",
      "100%|██████████| 5/5 [00:00<00:00, 1088.19it/s]\n",
      "100%|██████████| 45/45 [00:00<00:00, 425.43it/s]\n",
      "100%|██████████| 5/5 [00:00<00:00, 967.05it/s]\n",
      "  0%|          | 0/45 [00:00<?, ?it/s]"
     ]
    },
    {
     "name": "stdout",
     "output_type": "stream",
     "text": [
      "Train Loss: 0.0142\n",
      "Val Loss: 0.0113\n",
      "Epoch 197 of 1000\n",
      "<torch.utils.data.dataloader.DataLoader object at 0x7fb151915550>\n",
      "Train Loss: 0.0141\n",
      "Val Loss: 0.0113\n",
      "Epoch 198 of 1000\n",
      "<torch.utils.data.dataloader.DataLoader object at 0x7fb151915550>\n"
     ]
    },
    {
     "name": "stderr",
     "output_type": "stream",
     "text": [
      "100%|██████████| 45/45 [00:00<00:00, 386.81it/s]\n",
      "100%|██████████| 5/5 [00:00<00:00, 1079.78it/s]\n",
      "100%|██████████| 45/45 [00:00<00:00, 425.80it/s]\n",
      "100%|██████████| 5/5 [00:00<00:00, 1220.76it/s]\n",
      "  0%|          | 0/45 [00:00<?, ?it/s]"
     ]
    },
    {
     "name": "stdout",
     "output_type": "stream",
     "text": [
      "Train Loss: 0.0141\n",
      "Val Loss: 0.0113\n",
      "Epoch 199 of 1000\n",
      "<torch.utils.data.dataloader.DataLoader object at 0x7fb151915550>\n",
      "Train Loss: 0.0141\n",
      "Val Loss: 0.0113\n",
      "Epoch 200 of 1000\n",
      "<torch.utils.data.dataloader.DataLoader object at 0x7fb151915550>\n"
     ]
    },
    {
     "name": "stderr",
     "output_type": "stream",
     "text": [
      "100%|██████████| 45/45 [00:00<00:00, 418.96it/s]\n",
      "100%|██████████| 5/5 [00:00<00:00, 1201.12it/s]\n",
      "100%|██████████| 45/45 [00:00<00:00, 422.89it/s]\n",
      "100%|██████████| 5/5 [00:00<00:00, 1136.18it/s]\n",
      "  0%|          | 0/45 [00:00<?, ?it/s]"
     ]
    },
    {
     "name": "stdout",
     "output_type": "stream",
     "text": [
      "Train Loss: 0.0141\n",
      "Val Loss: 0.0113\n",
      "Epoch 201 of 1000\n",
      "<torch.utils.data.dataloader.DataLoader object at 0x7fb151915550>\n",
      "Train Loss: 0.0141\n",
      "Val Loss: 0.0113\n",
      "Epoch 202 of 1000\n",
      "<torch.utils.data.dataloader.DataLoader object at 0x7fb151915550>\n"
     ]
    },
    {
     "name": "stderr",
     "output_type": "stream",
     "text": [
      "100%|██████████| 45/45 [00:00<00:00, 417.38it/s]\n",
      "100%|██████████| 5/5 [00:00<00:00, 1168.13it/s]\n",
      "100%|██████████| 45/45 [00:00<00:00, 419.36it/s]\n",
      "100%|██████████| 5/5 [00:00<00:00, 1128.23it/s]\n",
      "  0%|          | 0/45 [00:00<?, ?it/s]"
     ]
    },
    {
     "name": "stdout",
     "output_type": "stream",
     "text": [
      "Train Loss: 0.0141\n",
      "Val Loss: 0.0113\n",
      "Epoch 203 of 1000\n",
      "<torch.utils.data.dataloader.DataLoader object at 0x7fb151915550>\n",
      "Train Loss: 0.0141\n",
      "Val Loss: 0.0113\n",
      "Epoch 204 of 1000\n",
      "<torch.utils.data.dataloader.DataLoader object at 0x7fb151915550>\n"
     ]
    },
    {
     "name": "stderr",
     "output_type": "stream",
     "text": [
      "100%|██████████| 45/45 [00:00<00:00, 422.94it/s]\n",
      "100%|██████████| 5/5 [00:00<00:00, 1189.00it/s]\n",
      "100%|██████████| 45/45 [00:00<00:00, 422.80it/s]\n",
      "100%|██████████| 5/5 [00:00<00:00, 1208.59it/s]\n",
      "  0%|          | 0/45 [00:00<?, ?it/s]"
     ]
    },
    {
     "name": "stdout",
     "output_type": "stream",
     "text": [
      "Train Loss: 0.0141\n",
      "Val Loss: 0.0113\n",
      "Epoch 205 of 1000\n",
      "<torch.utils.data.dataloader.DataLoader object at 0x7fb151915550>\n",
      "Train Loss: 0.0141\n",
      "Val Loss: 0.0113\n",
      "Epoch 206 of 1000\n",
      "<torch.utils.data.dataloader.DataLoader object at 0x7fb151915550>\n"
     ]
    },
    {
     "name": "stderr",
     "output_type": "stream",
     "text": [
      "100%|██████████| 45/45 [00:00<00:00, 421.88it/s]\n",
      "100%|██████████| 5/5 [00:00<00:00, 1224.83it/s]\n",
      "100%|██████████| 45/45 [00:00<00:00, 412.69it/s]\n",
      "100%|██████████| 5/5 [00:00<00:00, 1176.72it/s]\n",
      "  0%|          | 0/45 [00:00<?, ?it/s]"
     ]
    },
    {
     "name": "stdout",
     "output_type": "stream",
     "text": [
      "Train Loss: 0.0141\n",
      "Val Loss: 0.0113\n",
      "Epoch 207 of 1000\n",
      "<torch.utils.data.dataloader.DataLoader object at 0x7fb151915550>\n",
      "Train Loss: 0.0141\n",
      "Val Loss: 0.0113\n",
      "Epoch 208 of 1000\n",
      "<torch.utils.data.dataloader.DataLoader object at 0x7fb151915550>\n"
     ]
    },
    {
     "name": "stderr",
     "output_type": "stream",
     "text": [
      "100%|██████████| 45/45 [00:00<00:00, 416.12it/s]\n",
      "100%|██████████| 5/5 [00:00<00:00, 1176.79it/s]\n",
      "100%|██████████| 45/45 [00:00<00:00, 405.17it/s]\n",
      "100%|██████████| 5/5 [00:00<00:00, 1165.47it/s]\n",
      "  0%|          | 0/45 [00:00<?, ?it/s]"
     ]
    },
    {
     "name": "stdout",
     "output_type": "stream",
     "text": [
      "Train Loss: 0.0141\n",
      "Val Loss: 0.0113\n",
      "Epoch 209 of 1000\n",
      "<torch.utils.data.dataloader.DataLoader object at 0x7fb151915550>\n",
      "Train Loss: 0.0141\n",
      "Val Loss: 0.0113\n",
      "Epoch 210 of 1000\n",
      "<torch.utils.data.dataloader.DataLoader object at 0x7fb151915550>\n"
     ]
    },
    {
     "name": "stderr",
     "output_type": "stream",
     "text": [
      "100%|██████████| 45/45 [00:00<00:00, 420.64it/s]\n",
      "100%|██████████| 5/5 [00:00<00:00, 1166.90it/s]\n",
      "100%|██████████| 45/45 [00:00<00:00, 423.18it/s]\n",
      "100%|██████████| 5/5 [00:00<00:00, 1106.21it/s]\n",
      "  0%|          | 0/45 [00:00<?, ?it/s]"
     ]
    },
    {
     "name": "stdout",
     "output_type": "stream",
     "text": [
      "Train Loss: 0.0141\n",
      "Val Loss: 0.0113\n",
      "Epoch 211 of 1000\n",
      "<torch.utils.data.dataloader.DataLoader object at 0x7fb151915550>\n",
      "Train Loss: 0.0141\n",
      "Val Loss: 0.0113\n",
      "Epoch 212 of 1000\n",
      "<torch.utils.data.dataloader.DataLoader object at 0x7fb151915550>\n"
     ]
    },
    {
     "name": "stderr",
     "output_type": "stream",
     "text": [
      "100%|██████████| 45/45 [00:00<00:00, 416.59it/s]\n",
      "100%|██████████| 5/5 [00:00<00:00, 991.42it/s]\n",
      "100%|██████████| 45/45 [00:00<00:00, 419.08it/s]\n",
      "100%|██████████| 5/5 [00:00<00:00, 1182.96it/s]\n",
      "  0%|          | 0/45 [00:00<?, ?it/s]"
     ]
    },
    {
     "name": "stdout",
     "output_type": "stream",
     "text": [
      "Train Loss: 0.0141\n",
      "Val Loss: 0.0113\n",
      "Epoch 213 of 1000\n",
      "<torch.utils.data.dataloader.DataLoader object at 0x7fb151915550>\n",
      "Train Loss: 0.0141\n",
      "Val Loss: 0.0113\n",
      "Epoch 214 of 1000\n",
      "<torch.utils.data.dataloader.DataLoader object at 0x7fb151915550>\n"
     ]
    },
    {
     "name": "stderr",
     "output_type": "stream",
     "text": [
      "100%|██████████| 45/45 [00:00<00:00, 410.77it/s]\n",
      "100%|██████████| 5/5 [00:00<00:00, 1079.84it/s]\n",
      "100%|██████████| 45/45 [00:00<00:00, 423.27it/s]\n",
      "100%|██████████| 5/5 [00:00<00:00, 1117.17it/s]\n",
      "  0%|          | 0/45 [00:00<?, ?it/s]"
     ]
    },
    {
     "name": "stdout",
     "output_type": "stream",
     "text": [
      "Train Loss: 0.0141\n",
      "Val Loss: 0.0113\n",
      "Epoch 215 of 1000\n",
      "<torch.utils.data.dataloader.DataLoader object at 0x7fb151915550>\n",
      "Train Loss: 0.0141\n",
      "Val Loss: 0.0113\n",
      "Epoch 216 of 1000\n",
      "<torch.utils.data.dataloader.DataLoader object at 0x7fb151915550>\n"
     ]
    },
    {
     "name": "stderr",
     "output_type": "stream",
     "text": [
      "100%|██████████| 45/45 [00:00<00:00, 417.34it/s]\n",
      "100%|██████████| 5/5 [00:00<00:00, 1160.44it/s]\n",
      "100%|██████████| 45/45 [00:00<00:00, 412.73it/s]\n",
      "100%|██████████| 5/5 [00:00<00:00, 1120.57it/s]\n",
      "  0%|          | 0/45 [00:00<?, ?it/s]"
     ]
    },
    {
     "name": "stdout",
     "output_type": "stream",
     "text": [
      "Train Loss: 0.0141\n",
      "Val Loss: 0.0113\n",
      "Epoch 217 of 1000\n",
      "<torch.utils.data.dataloader.DataLoader object at 0x7fb151915550>\n",
      "Train Loss: 0.0141\n",
      "Val Loss: 0.0113\n",
      "Epoch 218 of 1000\n",
      "<torch.utils.data.dataloader.DataLoader object at 0x7fb151915550>\n"
     ]
    },
    {
     "name": "stderr",
     "output_type": "stream",
     "text": [
      "100%|██████████| 45/45 [00:00<00:00, 421.64it/s]\n",
      "100%|██████████| 5/5 [00:00<00:00, 1164.11it/s]\n",
      "100%|██████████| 45/45 [00:00<00:00, 433.53it/s]\n",
      "100%|██████████| 5/5 [00:00<00:00, 1145.42it/s]\n",
      "  0%|          | 0/45 [00:00<?, ?it/s]"
     ]
    },
    {
     "name": "stdout",
     "output_type": "stream",
     "text": [
      "Train Loss: 0.0141\n",
      "Val Loss: 0.0113\n",
      "Epoch 219 of 1000\n",
      "<torch.utils.data.dataloader.DataLoader object at 0x7fb151915550>\n",
      "Train Loss: 0.0141\n",
      "Val Loss: 0.0112\n",
      "Epoch 220 of 1000\n",
      "<torch.utils.data.dataloader.DataLoader object at 0x7fb151915550>\n"
     ]
    },
    {
     "name": "stderr",
     "output_type": "stream",
     "text": [
      "100%|██████████| 45/45 [00:00<00:00, 404.81it/s]\n",
      "100%|██████████| 5/5 [00:00<00:00, 1159.22it/s]\n",
      "100%|██████████| 45/45 [00:00<00:00, 428.12it/s]\n",
      "100%|██████████| 5/5 [00:00<00:00, 1212.09it/s]\n",
      "  0%|          | 0/45 [00:00<?, ?it/s]"
     ]
    },
    {
     "name": "stdout",
     "output_type": "stream",
     "text": [
      "Train Loss: 0.0141\n",
      "Val Loss: 0.0112\n",
      "Epoch 221 of 1000\n",
      "<torch.utils.data.dataloader.DataLoader object at 0x7fb151915550>\n",
      "Train Loss: 0.0141\n",
      "Val Loss: 0.0112\n",
      "Epoch 222 of 1000\n",
      "<torch.utils.data.dataloader.DataLoader object at 0x7fb151915550>\n"
     ]
    },
    {
     "name": "stderr",
     "output_type": "stream",
     "text": [
      "100%|██████████| 45/45 [00:00<00:00, 426.13it/s]\n",
      "100%|██████████| 5/5 [00:00<00:00, 1178.71it/s]\n",
      "100%|██████████| 45/45 [00:00<00:00, 424.29it/s]\n",
      "100%|██████████| 5/5 [00:00<00:00, 1206.65it/s]\n",
      "  0%|          | 0/45 [00:00<?, ?it/s]"
     ]
    },
    {
     "name": "stdout",
     "output_type": "stream",
     "text": [
      "Train Loss: 0.0141\n",
      "Val Loss: 0.0112\n",
      "Epoch 223 of 1000\n",
      "<torch.utils.data.dataloader.DataLoader object at 0x7fb151915550>\n",
      "Train Loss: 0.0141\n",
      "Val Loss: 0.0112\n",
      "Epoch 224 of 1000\n",
      "<torch.utils.data.dataloader.DataLoader object at 0x7fb151915550>\n"
     ]
    },
    {
     "name": "stderr",
     "output_type": "stream",
     "text": [
      "100%|██████████| 45/45 [00:00<00:00, 423.99it/s]\n",
      "100%|██████████| 5/5 [00:00<00:00, 1019.37it/s]\n",
      "100%|██████████| 45/45 [00:00<00:00, 396.70it/s]\n",
      "100%|██████████| 5/5 [00:00<00:00, 1172.90it/s]\n",
      "  0%|          | 0/45 [00:00<?, ?it/s]"
     ]
    },
    {
     "name": "stdout",
     "output_type": "stream",
     "text": [
      "Train Loss: 0.0141\n",
      "Val Loss: 0.0112\n",
      "Epoch 225 of 1000\n",
      "<torch.utils.data.dataloader.DataLoader object at 0x7fb151915550>\n",
      "Train Loss: 0.0141\n",
      "Val Loss: 0.0112\n",
      "Epoch 226 of 1000\n",
      "<torch.utils.data.dataloader.DataLoader object at 0x7fb151915550>\n"
     ]
    },
    {
     "name": "stderr",
     "output_type": "stream",
     "text": [
      "100%|██████████| 45/45 [00:00<00:00, 420.09it/s]\n",
      "100%|██████████| 5/5 [00:00<00:00, 1209.57it/s]\n",
      "100%|██████████| 45/45 [00:00<00:00, 417.39it/s]\n",
      "100%|██████████| 5/5 [00:00<00:00, 1073.26it/s]\n",
      "  0%|          | 0/45 [00:00<?, ?it/s]"
     ]
    },
    {
     "name": "stdout",
     "output_type": "stream",
     "text": [
      "Train Loss: 0.0141\n",
      "Val Loss: 0.0112\n",
      "Epoch 227 of 1000\n",
      "<torch.utils.data.dataloader.DataLoader object at 0x7fb151915550>\n",
      "Train Loss: 0.0141\n",
      "Val Loss: 0.0112\n",
      "Epoch 228 of 1000\n",
      "<torch.utils.data.dataloader.DataLoader object at 0x7fb151915550>\n"
     ]
    },
    {
     "name": "stderr",
     "output_type": "stream",
     "text": [
      "100%|██████████| 45/45 [00:00<00:00, 419.66it/s]\n",
      "100%|██████████| 5/5 [00:00<00:00, 1128.65it/s]\n",
      "100%|██████████| 45/45 [00:00<00:00, 422.04it/s]\n",
      "100%|██████████| 5/5 [00:00<00:00, 1162.63it/s]\n",
      "  0%|          | 0/45 [00:00<?, ?it/s]"
     ]
    },
    {
     "name": "stdout",
     "output_type": "stream",
     "text": [
      "Train Loss: 0.0141\n",
      "Val Loss: 0.0112\n",
      "Epoch 229 of 1000\n",
      "<torch.utils.data.dataloader.DataLoader object at 0x7fb151915550>\n",
      "Train Loss: 0.0141\n",
      "Val Loss: 0.0112\n",
      "Epoch 230 of 1000\n",
      "<torch.utils.data.dataloader.DataLoader object at 0x7fb151915550>\n"
     ]
    },
    {
     "name": "stderr",
     "output_type": "stream",
     "text": [
      "100%|██████████| 45/45 [00:00<00:00, 390.23it/s]\n",
      "100%|██████████| 5/5 [00:00<00:00, 1152.53it/s]\n",
      "100%|██████████| 45/45 [00:00<00:00, 422.62it/s]\n",
      "100%|██████████| 5/5 [00:00<00:00, 1185.50it/s]\n",
      "  0%|          | 0/45 [00:00<?, ?it/s]"
     ]
    },
    {
     "name": "stdout",
     "output_type": "stream",
     "text": [
      "Train Loss: 0.0141\n",
      "Val Loss: 0.0112\n",
      "Epoch 231 of 1000\n",
      "<torch.utils.data.dataloader.DataLoader object at 0x7fb151915550>\n",
      "Train Loss: 0.0141\n",
      "Val Loss: 0.0112\n",
      "Epoch 232 of 1000\n",
      "<torch.utils.data.dataloader.DataLoader object at 0x7fb151915550>\n"
     ]
    },
    {
     "name": "stderr",
     "output_type": "stream",
     "text": [
      "100%|██████████| 45/45 [00:00<00:00, 423.38it/s]\n",
      "100%|██████████| 5/5 [00:00<00:00, 1117.94it/s]\n",
      "100%|██████████| 45/45 [00:00<00:00, 414.82it/s]\n",
      "100%|██████████| 5/5 [00:00<00:00, 1006.79it/s]\n",
      "  0%|          | 0/45 [00:00<?, ?it/s]"
     ]
    },
    {
     "name": "stdout",
     "output_type": "stream",
     "text": [
      "Train Loss: 0.0141\n",
      "Val Loss: 0.0112\n",
      "Epoch 233 of 1000\n",
      "<torch.utils.data.dataloader.DataLoader object at 0x7fb151915550>\n",
      "Train Loss: 0.0141\n",
      "Val Loss: 0.0112\n",
      "Epoch 234 of 1000\n",
      "<torch.utils.data.dataloader.DataLoader object at 0x7fb151915550>\n"
     ]
    },
    {
     "name": "stderr",
     "output_type": "stream",
     "text": [
      "100%|██████████| 45/45 [00:00<00:00, 414.88it/s]\n",
      "100%|██████████| 5/5 [00:00<00:00, 926.67it/s]\n",
      "100%|██████████| 45/45 [00:00<00:00, 417.81it/s]\n",
      "100%|██████████| 5/5 [00:00<00:00, 1129.75it/s]\n",
      "  0%|          | 0/45 [00:00<?, ?it/s]"
     ]
    },
    {
     "name": "stdout",
     "output_type": "stream",
     "text": [
      "Train Loss: 0.0141\n",
      "Val Loss: 0.0112\n",
      "Epoch 235 of 1000\n",
      "<torch.utils.data.dataloader.DataLoader object at 0x7fb151915550>\n",
      "Train Loss: 0.0141\n",
      "Val Loss: 0.0112\n",
      "Epoch 236 of 1000\n",
      "<torch.utils.data.dataloader.DataLoader object at 0x7fb151915550>\n"
     ]
    },
    {
     "name": "stderr",
     "output_type": "stream",
     "text": [
      "100%|██████████| 45/45 [00:00<00:00, 424.56it/s]\n",
      "100%|██████████| 5/5 [00:00<00:00, 1048.31it/s]\n",
      "100%|██████████| 45/45 [00:00<00:00, 410.41it/s]\n",
      "100%|██████████| 5/5 [00:00<00:00, 1159.03it/s]\n",
      "  0%|          | 0/45 [00:00<?, ?it/s]"
     ]
    },
    {
     "name": "stdout",
     "output_type": "stream",
     "text": [
      "Train Loss: 0.0141\n",
      "Val Loss: 0.0112\n",
      "Epoch 237 of 1000\n",
      "<torch.utils.data.dataloader.DataLoader object at 0x7fb151915550>\n",
      "Train Loss: 0.0141\n",
      "Val Loss: 0.0112\n",
      "Epoch 238 of 1000\n",
      "<torch.utils.data.dataloader.DataLoader object at 0x7fb151915550>\n"
     ]
    },
    {
     "name": "stderr",
     "output_type": "stream",
     "text": [
      "100%|██████████| 45/45 [00:00<00:00, 410.90it/s]\n",
      "100%|██████████| 5/5 [00:00<00:00, 1117.35it/s]\n",
      "100%|██████████| 45/45 [00:00<00:00, 423.57it/s]\n",
      "100%|██████████| 5/5 [00:00<00:00, 1178.51it/s]\n",
      "  0%|          | 0/45 [00:00<?, ?it/s]"
     ]
    },
    {
     "name": "stdout",
     "output_type": "stream",
     "text": [
      "Train Loss: 0.0141\n",
      "Val Loss: 0.0112\n",
      "Epoch 239 of 1000\n",
      "<torch.utils.data.dataloader.DataLoader object at 0x7fb151915550>\n",
      "Train Loss: 0.0140\n",
      "Val Loss: 0.0112\n",
      "Epoch 240 of 1000\n",
      "<torch.utils.data.dataloader.DataLoader object at 0x7fb151915550>\n"
     ]
    },
    {
     "name": "stderr",
     "output_type": "stream",
     "text": [
      "100%|██████████| 45/45 [00:00<00:00, 425.95it/s]\n",
      "100%|██████████| 5/5 [00:00<00:00, 1145.23it/s]\n",
      "100%|██████████| 45/45 [00:00<00:00, 432.00it/s]\n",
      "100%|██████████| 5/5 [00:00<00:00, 1215.39it/s]\n",
      "  0%|          | 0/45 [00:00<?, ?it/s]"
     ]
    },
    {
     "name": "stdout",
     "output_type": "stream",
     "text": [
      "Train Loss: 0.0140\n",
      "Val Loss: 0.0112\n",
      "Epoch 241 of 1000\n",
      "<torch.utils.data.dataloader.DataLoader object at 0x7fb151915550>\n",
      "Train Loss: 0.0140\n",
      "Val Loss: 0.0112\n",
      "Epoch 242 of 1000\n",
      "<torch.utils.data.dataloader.DataLoader object at 0x7fb151915550>\n"
     ]
    },
    {
     "name": "stderr",
     "output_type": "stream",
     "text": [
      "100%|██████████| 45/45 [00:00<00:00, 414.68it/s]\n",
      "100%|██████████| 5/5 [00:00<00:00, 1117.83it/s]\n",
      "100%|██████████| 45/45 [00:00<00:00, 423.90it/s]\n",
      "100%|██████████| 5/5 [00:00<00:00, 1022.75it/s]\n",
      "  0%|          | 0/45 [00:00<?, ?it/s]"
     ]
    },
    {
     "name": "stdout",
     "output_type": "stream",
     "text": [
      "Train Loss: 0.0140\n",
      "Val Loss: 0.0112\n",
      "Epoch 243 of 1000\n",
      "<torch.utils.data.dataloader.DataLoader object at 0x7fb151915550>\n",
      "Train Loss: 0.0140\n",
      "Val Loss: 0.0112\n",
      "Epoch 244 of 1000\n",
      "<torch.utils.data.dataloader.DataLoader object at 0x7fb151915550>\n"
     ]
    },
    {
     "name": "stderr",
     "output_type": "stream",
     "text": [
      "100%|██████████| 45/45 [00:00<00:00, 407.59it/s]\n",
      "100%|██████████| 5/5 [00:00<00:00, 1226.48it/s]\n",
      "100%|██████████| 45/45 [00:00<00:00, 435.00it/s]\n",
      "100%|██████████| 5/5 [00:00<00:00, 1162.57it/s]\n",
      "  0%|          | 0/45 [00:00<?, ?it/s]"
     ]
    },
    {
     "name": "stdout",
     "output_type": "stream",
     "text": [
      "Train Loss: 0.0140\n",
      "Val Loss: 0.0112\n",
      "Epoch 245 of 1000\n",
      "<torch.utils.data.dataloader.DataLoader object at 0x7fb151915550>\n",
      "Train Loss: 0.0140\n",
      "Val Loss: 0.0112\n",
      "Epoch 246 of 1000\n",
      "<torch.utils.data.dataloader.DataLoader object at 0x7fb151915550>\n"
     ]
    },
    {
     "name": "stderr",
     "output_type": "stream",
     "text": [
      "100%|██████████| 45/45 [00:00<00:00, 430.04it/s]\n",
      "100%|██████████| 5/5 [00:00<00:00, 1220.13it/s]\n",
      "100%|██████████| 45/45 [00:00<00:00, 421.62it/s]\n",
      "100%|██████████| 5/5 [00:00<00:00, 1119.26it/s]\n",
      "  0%|          | 0/45 [00:00<?, ?it/s]"
     ]
    },
    {
     "name": "stdout",
     "output_type": "stream",
     "text": [
      "Train Loss: 0.0140\n",
      "Val Loss: 0.0112\n",
      "Epoch 247 of 1000\n",
      "<torch.utils.data.dataloader.DataLoader object at 0x7fb151915550>\n",
      "Train Loss: 0.0140\n",
      "Val Loss: 0.0112\n",
      "Epoch 248 of 1000\n",
      "<torch.utils.data.dataloader.DataLoader object at 0x7fb151915550>\n"
     ]
    },
    {
     "name": "stderr",
     "output_type": "stream",
     "text": [
      "100%|██████████| 45/45 [00:00<00:00, 427.51it/s]\n",
      "100%|██████████| 5/5 [00:00<00:00, 1163.34it/s]\n",
      "100%|██████████| 45/45 [00:00<00:00, 421.60it/s]\n",
      "100%|██████████| 5/5 [00:00<00:00, 878.28it/s]\n",
      "  0%|          | 0/45 [00:00<?, ?it/s]"
     ]
    },
    {
     "name": "stdout",
     "output_type": "stream",
     "text": [
      "Train Loss: 0.0140\n",
      "Val Loss: 0.0112\n",
      "Epoch 249 of 1000\n",
      "<torch.utils.data.dataloader.DataLoader object at 0x7fb151915550>\n",
      "Train Loss: 0.0140\n",
      "Val Loss: 0.0112\n",
      "Epoch 250 of 1000\n",
      "<torch.utils.data.dataloader.DataLoader object at 0x7fb151915550>\n"
     ]
    },
    {
     "name": "stderr",
     "output_type": "stream",
     "text": [
      "100%|██████████| 45/45 [00:00<00:00, 425.13it/s]\n",
      "100%|██████████| 5/5 [00:00<00:00, 1201.88it/s]\n",
      "100%|██████████| 45/45 [00:00<00:00, 431.55it/s]\n",
      "100%|██████████| 5/5 [00:00<00:00, 1186.17it/s]\n",
      "  0%|          | 0/45 [00:00<?, ?it/s]"
     ]
    },
    {
     "name": "stdout",
     "output_type": "stream",
     "text": [
      "Train Loss: 0.0140\n",
      "Val Loss: 0.0112\n",
      "Epoch 251 of 1000\n",
      "<torch.utils.data.dataloader.DataLoader object at 0x7fb151915550>\n",
      "Train Loss: 0.0140\n",
      "Val Loss: 0.0112\n",
      "Epoch 252 of 1000\n",
      "<torch.utils.data.dataloader.DataLoader object at 0x7fb151915550>\n"
     ]
    },
    {
     "name": "stderr",
     "output_type": "stream",
     "text": [
      "100%|██████████| 45/45 [00:00<00:00, 421.31it/s]\n",
      "100%|██████████| 5/5 [00:00<00:00, 1154.63it/s]\n",
      "100%|██████████| 45/45 [00:00<00:00, 406.76it/s]\n",
      "100%|██████████| 5/5 [00:00<00:00, 1187.45it/s]\n",
      "  0%|          | 0/45 [00:00<?, ?it/s]"
     ]
    },
    {
     "name": "stdout",
     "output_type": "stream",
     "text": [
      "Train Loss: 0.0140\n",
      "Val Loss: 0.0112\n",
      "Epoch 253 of 1000\n",
      "<torch.utils.data.dataloader.DataLoader object at 0x7fb151915550>\n",
      "Train Loss: 0.0140\n",
      "Val Loss: 0.0112\n",
      "Epoch 254 of 1000\n",
      "<torch.utils.data.dataloader.DataLoader object at 0x7fb151915550>\n"
     ]
    },
    {
     "name": "stderr",
     "output_type": "stream",
     "text": [
      "100%|██████████| 45/45 [00:00<00:00, 378.69it/s]\n",
      "100%|██████████| 5/5 [00:00<00:00, 1250.54it/s]\n",
      "100%|██████████| 45/45 [00:00<00:00, 417.42it/s]\n",
      "100%|██████████| 5/5 [00:00<00:00, 1050.20it/s]\n",
      "  0%|          | 0/45 [00:00<?, ?it/s]"
     ]
    },
    {
     "name": "stdout",
     "output_type": "stream",
     "text": [
      "Train Loss: 0.0140\n",
      "Val Loss: 0.0112\n",
      "Epoch 255 of 1000\n",
      "<torch.utils.data.dataloader.DataLoader object at 0x7fb151915550>\n",
      "Train Loss: 0.0140\n",
      "Val Loss: 0.0112\n",
      "Epoch 256 of 1000\n",
      "<torch.utils.data.dataloader.DataLoader object at 0x7fb151915550>\n"
     ]
    },
    {
     "name": "stderr",
     "output_type": "stream",
     "text": [
      "100%|██████████| 45/45 [00:00<00:00, 424.76it/s]\n",
      "100%|██████████| 5/5 [00:00<00:00, 1117.88it/s]\n",
      "100%|██████████| 45/45 [00:00<00:00, 427.09it/s]\n",
      "100%|██████████| 5/5 [00:00<00:00, 1112.02it/s]\n",
      "  0%|          | 0/45 [00:00<?, ?it/s]"
     ]
    },
    {
     "name": "stdout",
     "output_type": "stream",
     "text": [
      "Train Loss: 0.0140\n",
      "Val Loss: 0.0112\n",
      "Epoch 257 of 1000\n",
      "<torch.utils.data.dataloader.DataLoader object at 0x7fb151915550>\n",
      "Train Loss: 0.0140\n",
      "Val Loss: 0.0112\n",
      "Epoch 258 of 1000\n",
      "<torch.utils.data.dataloader.DataLoader object at 0x7fb151915550>\n"
     ]
    },
    {
     "name": "stderr",
     "output_type": "stream",
     "text": [
      "100%|██████████| 45/45 [00:00<00:00, 434.55it/s]\n",
      "100%|██████████| 5/5 [00:00<00:00, 1194.01it/s]\n",
      "100%|██████████| 45/45 [00:00<00:00, 393.83it/s]\n",
      "100%|██████████| 5/5 [00:00<00:00, 1098.96it/s]\n",
      "  0%|          | 0/45 [00:00<?, ?it/s]"
     ]
    },
    {
     "name": "stdout",
     "output_type": "stream",
     "text": [
      "Train Loss: 0.0140\n",
      "Val Loss: 0.0112\n",
      "Epoch 259 of 1000\n",
      "<torch.utils.data.dataloader.DataLoader object at 0x7fb151915550>\n",
      "Train Loss: 0.0140\n",
      "Val Loss: 0.0112\n",
      "Epoch 260 of 1000\n",
      "<torch.utils.data.dataloader.DataLoader object at 0x7fb151915550>\n"
     ]
    },
    {
     "name": "stderr",
     "output_type": "stream",
     "text": [
      "100%|██████████| 45/45 [00:00<00:00, 350.89it/s]\n",
      "100%|██████████| 5/5 [00:00<00:00, 839.50it/s]\n",
      "100%|██████████| 45/45 [00:00<00:00, 407.27it/s]\n",
      "100%|██████████| 5/5 [00:00<00:00, 1013.95it/s]\n",
      "  0%|          | 0/45 [00:00<?, ?it/s]"
     ]
    },
    {
     "name": "stdout",
     "output_type": "stream",
     "text": [
      "Train Loss: 0.0140\n",
      "Val Loss: 0.0112\n",
      "Epoch 261 of 1000\n",
      "<torch.utils.data.dataloader.DataLoader object at 0x7fb151915550>\n",
      "Train Loss: 0.0140\n",
      "Val Loss: 0.0112\n",
      "Epoch 262 of 1000\n",
      "<torch.utils.data.dataloader.DataLoader object at 0x7fb151915550>\n"
     ]
    },
    {
     "name": "stderr",
     "output_type": "stream",
     "text": [
      "100%|██████████| 45/45 [00:00<00:00, 412.51it/s]\n",
      "100%|██████████| 5/5 [00:00<00:00, 1207.55it/s]\n",
      "100%|██████████| 45/45 [00:00<00:00, 424.51it/s]\n",
      "100%|██████████| 5/5 [00:00<00:00, 1194.21it/s]\n",
      "  0%|          | 0/45 [00:00<?, ?it/s]"
     ]
    },
    {
     "name": "stdout",
     "output_type": "stream",
     "text": [
      "Train Loss: 0.0140\n",
      "Val Loss: 0.0112\n",
      "Epoch 263 of 1000\n",
      "<torch.utils.data.dataloader.DataLoader object at 0x7fb151915550>\n",
      "Train Loss: 0.0140\n",
      "Val Loss: 0.0112\n",
      "Epoch 264 of 1000\n",
      "<torch.utils.data.dataloader.DataLoader object at 0x7fb151915550>\n"
     ]
    },
    {
     "name": "stderr",
     "output_type": "stream",
     "text": [
      "100%|██████████| 45/45 [00:00<00:00, 427.69it/s]\n",
      "100%|██████████| 5/5 [00:00<00:00, 1124.00it/s]\n",
      "100%|██████████| 45/45 [00:00<00:00, 421.33it/s]\n",
      "100%|██████████| 5/5 [00:00<00:00, 1165.47it/s]\n",
      "  0%|          | 0/45 [00:00<?, ?it/s]"
     ]
    },
    {
     "name": "stdout",
     "output_type": "stream",
     "text": [
      "Train Loss: 0.0140\n",
      "Val Loss: 0.0112\n",
      "Epoch 265 of 1000\n",
      "<torch.utils.data.dataloader.DataLoader object at 0x7fb151915550>\n",
      "Train Loss: 0.0140\n",
      "Val Loss: 0.0112\n",
      "Epoch 266 of 1000\n",
      "<torch.utils.data.dataloader.DataLoader object at 0x7fb151915550>\n"
     ]
    },
    {
     "name": "stderr",
     "output_type": "stream",
     "text": [
      "100%|██████████| 45/45 [00:00<00:00, 412.38it/s]\n",
      "100%|██████████| 5/5 [00:00<00:00, 1114.62it/s]\n",
      "100%|██████████| 45/45 [00:00<00:00, 423.18it/s]\n",
      "100%|██████████| 5/5 [00:00<00:00, 1161.34it/s]\n",
      "  0%|          | 0/45 [00:00<?, ?it/s]"
     ]
    },
    {
     "name": "stdout",
     "output_type": "stream",
     "text": [
      "Train Loss: 0.0140\n",
      "Val Loss: 0.0112\n",
      "Epoch 267 of 1000\n",
      "<torch.utils.data.dataloader.DataLoader object at 0x7fb151915550>\n",
      "Train Loss: 0.0140\n",
      "Val Loss: 0.0112\n",
      "Epoch 268 of 1000\n",
      "<torch.utils.data.dataloader.DataLoader object at 0x7fb151915550>\n"
     ]
    },
    {
     "name": "stderr",
     "output_type": "stream",
     "text": [
      "100%|██████████| 45/45 [00:00<00:00, 426.99it/s]\n",
      "100%|██████████| 5/5 [00:00<00:00, 1157.50it/s]\n",
      "100%|██████████| 45/45 [00:00<00:00, 407.40it/s]\n",
      "100%|██████████| 5/5 [00:00<00:00, 1207.55it/s]\n",
      "  0%|          | 0/45 [00:00<?, ?it/s]"
     ]
    },
    {
     "name": "stdout",
     "output_type": "stream",
     "text": [
      "Train Loss: 0.0140\n",
      "Val Loss: 0.0112\n",
      "Epoch 269 of 1000\n",
      "<torch.utils.data.dataloader.DataLoader object at 0x7fb151915550>\n",
      "Train Loss: 0.0140\n",
      "Val Loss: 0.0112\n",
      "Epoch 270 of 1000\n",
      "<torch.utils.data.dataloader.DataLoader object at 0x7fb151915550>\n"
     ]
    },
    {
     "name": "stderr",
     "output_type": "stream",
     "text": [
      "100%|██████████| 45/45 [00:00<00:00, 406.00it/s]\n",
      "100%|██████████| 5/5 [00:00<00:00, 1132.25it/s]\n",
      "100%|██████████| 45/45 [00:00<00:00, 428.06it/s]\n",
      "100%|██████████| 5/5 [00:00<00:00, 1204.50it/s]\n",
      "  0%|          | 0/45 [00:00<?, ?it/s]"
     ]
    },
    {
     "name": "stdout",
     "output_type": "stream",
     "text": [
      "Train Loss: 0.0140\n",
      "Val Loss: 0.0112\n",
      "Epoch 271 of 1000\n",
      "<torch.utils.data.dataloader.DataLoader object at 0x7fb151915550>\n",
      "Train Loss: 0.0140\n",
      "Val Loss: 0.0112\n",
      "Epoch 272 of 1000\n",
      "<torch.utils.data.dataloader.DataLoader object at 0x7fb151915550>\n"
     ]
    },
    {
     "name": "stderr",
     "output_type": "stream",
     "text": [
      "100%|██████████| 45/45 [00:00<00:00, 426.37it/s]\n",
      "100%|██████████| 5/5 [00:00<00:00, 1210.83it/s]\n",
      "100%|██████████| 45/45 [00:00<00:00, 404.86it/s]\n",
      "100%|██████████| 5/5 [00:00<00:00, 1004.62it/s]\n",
      "  0%|          | 0/45 [00:00<?, ?it/s]"
     ]
    },
    {
     "name": "stdout",
     "output_type": "stream",
     "text": [
      "Train Loss: 0.0140\n",
      "Val Loss: 0.0112\n",
      "Epoch 273 of 1000\n",
      "<torch.utils.data.dataloader.DataLoader object at 0x7fb151915550>\n",
      "Train Loss: 0.0140\n",
      "Val Loss: 0.0112\n",
      "Epoch 274 of 1000\n",
      "<torch.utils.data.dataloader.DataLoader object at 0x7fb151915550>\n"
     ]
    },
    {
     "name": "stderr",
     "output_type": "stream",
     "text": [
      "100%|██████████| 45/45 [00:00<00:00, 415.29it/s]\n",
      "100%|██████████| 5/5 [00:00<00:00, 1111.72it/s]\n",
      "100%|██████████| 45/45 [00:00<00:00, 417.43it/s]\n",
      "100%|██████████| 5/5 [00:00<00:00, 1197.14it/s]\n",
      "  0%|          | 0/45 [00:00<?, ?it/s]"
     ]
    },
    {
     "name": "stdout",
     "output_type": "stream",
     "text": [
      "Train Loss: 0.0140\n",
      "Val Loss: 0.0112\n",
      "Epoch 275 of 1000\n",
      "<torch.utils.data.dataloader.DataLoader object at 0x7fb151915550>\n",
      "Train Loss: 0.0140\n",
      "Val Loss: 0.0112\n",
      "Epoch 276 of 1000\n",
      "<torch.utils.data.dataloader.DataLoader object at 0x7fb151915550>\n"
     ]
    },
    {
     "name": "stderr",
     "output_type": "stream",
     "text": [
      "100%|██████████| 45/45 [00:00<00:00, 425.22it/s]\n",
      "100%|██████████| 5/5 [00:00<00:00, 1217.15it/s]\n",
      "100%|██████████| 45/45 [00:00<00:00, 421.32it/s]\n",
      "100%|██████████| 5/5 [00:00<00:00, 1122.55it/s]\n",
      "  0%|          | 0/45 [00:00<?, ?it/s]"
     ]
    },
    {
     "name": "stdout",
     "output_type": "stream",
     "text": [
      "Train Loss: 0.0140\n",
      "Val Loss: 0.0112\n",
      "Epoch 277 of 1000\n",
      "<torch.utils.data.dataloader.DataLoader object at 0x7fb151915550>\n",
      "Train Loss: 0.0140\n",
      "Val Loss: 0.0112\n",
      "Epoch 278 of 1000\n",
      "<torch.utils.data.dataloader.DataLoader object at 0x7fb151915550>\n"
     ]
    },
    {
     "name": "stderr",
     "output_type": "stream",
     "text": [
      "100%|██████████| 45/45 [00:00<00:00, 387.05it/s]\n",
      "100%|██████████| 5/5 [00:00<00:00, 1133.53it/s]\n",
      "100%|██████████| 45/45 [00:00<00:00, 416.98it/s]\n",
      "100%|██████████| 5/5 [00:00<00:00, 1110.60it/s]\n",
      "  0%|          | 0/45 [00:00<?, ?it/s]"
     ]
    },
    {
     "name": "stdout",
     "output_type": "stream",
     "text": [
      "Train Loss: 0.0140\n",
      "Val Loss: 0.0112\n",
      "Epoch 279 of 1000\n",
      "<torch.utils.data.dataloader.DataLoader object at 0x7fb151915550>\n",
      "Train Loss: 0.0140\n",
      "Val Loss: 0.0112\n",
      "Epoch 280 of 1000\n",
      "<torch.utils.data.dataloader.DataLoader object at 0x7fb151915550>\n"
     ]
    },
    {
     "name": "stderr",
     "output_type": "stream",
     "text": [
      "100%|██████████| 45/45 [00:00<00:00, 414.41it/s]\n",
      "100%|██████████| 5/5 [00:00<00:00, 1188.66it/s]\n",
      "100%|██████████| 45/45 [00:00<00:00, 412.68it/s]\n",
      "100%|██████████| 5/5 [00:00<00:00, 1176.32it/s]\n",
      "  0%|          | 0/45 [00:00<?, ?it/s]"
     ]
    },
    {
     "name": "stdout",
     "output_type": "stream",
     "text": [
      "Train Loss: 0.0140\n",
      "Val Loss: 0.0112\n",
      "Epoch 281 of 1000\n",
      "<torch.utils.data.dataloader.DataLoader object at 0x7fb151915550>\n",
      "Train Loss: 0.0140\n",
      "Val Loss: 0.0112\n",
      "Epoch 282 of 1000\n",
      "<torch.utils.data.dataloader.DataLoader object at 0x7fb151915550>\n"
     ]
    },
    {
     "name": "stderr",
     "output_type": "stream",
     "text": [
      "100%|██████████| 45/45 [00:00<00:00, 433.22it/s]\n",
      "100%|██████████| 5/5 [00:00<00:00, 1149.50it/s]\n",
      "100%|██████████| 45/45 [00:00<00:00, 414.96it/s]\n",
      "100%|██████████| 5/5 [00:00<00:00, 1076.24it/s]\n",
      "  0%|          | 0/45 [00:00<?, ?it/s]"
     ]
    },
    {
     "name": "stdout",
     "output_type": "stream",
     "text": [
      "Train Loss: 0.0140\n",
      "Val Loss: 0.0112\n",
      "Epoch 283 of 1000\n",
      "<torch.utils.data.dataloader.DataLoader object at 0x7fb151915550>\n",
      "Train Loss: 0.0140\n",
      "Val Loss: 0.0112\n",
      "Epoch 284 of 1000\n",
      "<torch.utils.data.dataloader.DataLoader object at 0x7fb151915550>\n"
     ]
    },
    {
     "name": "stderr",
     "output_type": "stream",
     "text": [
      "100%|██████████| 45/45 [00:00<00:00, 413.96it/s]\n",
      "100%|██████████| 5/5 [00:00<00:00, 1057.99it/s]\n",
      "100%|██████████| 45/45 [00:00<00:00, 423.21it/s]\n",
      "100%|██████████| 5/5 [00:00<00:00, 1187.92it/s]\n",
      "  0%|          | 0/45 [00:00<?, ?it/s]"
     ]
    },
    {
     "name": "stdout",
     "output_type": "stream",
     "text": [
      "Train Loss: 0.0140\n",
      "Val Loss: 0.0112\n",
      "Epoch 285 of 1000\n",
      "<torch.utils.data.dataloader.DataLoader object at 0x7fb151915550>\n",
      "Train Loss: 0.0140\n",
      "Val Loss: 0.0112\n",
      "Epoch 286 of 1000\n",
      "<torch.utils.data.dataloader.DataLoader object at 0x7fb151915550>\n"
     ]
    },
    {
     "name": "stderr",
     "output_type": "stream",
     "text": [
      "100%|██████████| 45/45 [00:00<00:00, 426.81it/s]\n",
      "100%|██████████| 5/5 [00:00<00:00, 1152.66it/s]\n",
      "100%|██████████| 45/45 [00:00<00:00, 425.55it/s]\n",
      "100%|██████████| 5/5 [00:00<00:00, 812.31it/s]\n",
      "  0%|          | 0/45 [00:00<?, ?it/s]"
     ]
    },
    {
     "name": "stdout",
     "output_type": "stream",
     "text": [
      "Train Loss: 0.0140\n",
      "Val Loss: 0.0112\n",
      "Epoch 287 of 1000\n",
      "<torch.utils.data.dataloader.DataLoader object at 0x7fb151915550>\n",
      "Train Loss: 0.0140\n",
      "Val Loss: 0.0112\n",
      "Epoch 288 of 1000\n",
      "<torch.utils.data.dataloader.DataLoader object at 0x7fb151915550>\n"
     ]
    },
    {
     "name": "stderr",
     "output_type": "stream",
     "text": [
      "100%|██████████| 45/45 [00:00<00:00, 430.64it/s]\n",
      "100%|██████████| 5/5 [00:00<00:00, 1142.55it/s]\n",
      "100%|██████████| 45/45 [00:00<00:00, 416.57it/s]\n",
      "100%|██████████| 5/5 [00:00<00:00, 1188.12it/s]\n",
      "  0%|          | 0/45 [00:00<?, ?it/s]"
     ]
    },
    {
     "name": "stdout",
     "output_type": "stream",
     "text": [
      "Train Loss: 0.0140\n",
      "Val Loss: 0.0112\n",
      "Epoch 289 of 1000\n",
      "<torch.utils.data.dataloader.DataLoader object at 0x7fb151915550>\n",
      "Train Loss: 0.0140\n",
      "Val Loss: 0.0112\n",
      "Epoch 290 of 1000\n",
      "<torch.utils.data.dataloader.DataLoader object at 0x7fb151915550>\n"
     ]
    },
    {
     "name": "stderr",
     "output_type": "stream",
     "text": [
      "100%|██████████| 45/45 [00:00<00:00, 404.30it/s]\n",
      "100%|██████████| 5/5 [00:00<00:00, 1138.89it/s]\n",
      "100%|██████████| 45/45 [00:00<00:00, 422.29it/s]\n",
      "100%|██████████| 5/5 [00:00<00:00, 1223.11it/s]\n",
      "  0%|          | 0/45 [00:00<?, ?it/s]"
     ]
    },
    {
     "name": "stdout",
     "output_type": "stream",
     "text": [
      "Train Loss: 0.0140\n",
      "Val Loss: 0.0112\n",
      "Epoch 291 of 1000\n",
      "<torch.utils.data.dataloader.DataLoader object at 0x7fb151915550>\n",
      "Train Loss: 0.0140\n",
      "Val Loss: 0.0112\n",
      "Epoch 292 of 1000\n",
      "<torch.utils.data.dataloader.DataLoader object at 0x7fb151915550>\n"
     ]
    },
    {
     "name": "stderr",
     "output_type": "stream",
     "text": [
      "100%|██████████| 45/45 [00:00<00:00, 409.55it/s]\n",
      "100%|██████████| 5/5 [00:00<00:00, 1181.43it/s]\n",
      "100%|██████████| 45/45 [00:00<00:00, 418.82it/s]\n",
      "100%|██████████| 5/5 [00:00<00:00, 1119.50it/s]\n",
      "  0%|          | 0/45 [00:00<?, ?it/s]"
     ]
    },
    {
     "name": "stdout",
     "output_type": "stream",
     "text": [
      "Train Loss: 0.0140\n",
      "Val Loss: 0.0112\n",
      "Epoch 293 of 1000\n",
      "<torch.utils.data.dataloader.DataLoader object at 0x7fb151915550>\n",
      "Train Loss: 0.0140\n",
      "Val Loss: 0.0112\n",
      "Epoch 294 of 1000\n",
      "<torch.utils.data.dataloader.DataLoader object at 0x7fb151915550>\n"
     ]
    },
    {
     "name": "stderr",
     "output_type": "stream",
     "text": [
      "100%|██████████| 45/45 [00:00<00:00, 424.38it/s]\n",
      "100%|██████████| 5/5 [00:00<00:00, 1094.72it/s]\n",
      "100%|██████████| 45/45 [00:00<00:00, 422.55it/s]\n",
      "100%|██████████| 5/5 [00:00<00:00, 1121.11it/s]\n",
      "  0%|          | 0/45 [00:00<?, ?it/s]"
     ]
    },
    {
     "name": "stdout",
     "output_type": "stream",
     "text": [
      "Train Loss: 0.0140\n",
      "Val Loss: 0.0112\n",
      "Epoch 295 of 1000\n",
      "<torch.utils.data.dataloader.DataLoader object at 0x7fb151915550>\n",
      "Train Loss: 0.0140\n",
      "Val Loss: 0.0112\n",
      "Epoch 296 of 1000\n",
      "<torch.utils.data.dataloader.DataLoader object at 0x7fb151915550>\n"
     ]
    },
    {
     "name": "stderr",
     "output_type": "stream",
     "text": [
      "100%|██████████| 45/45 [00:00<00:00, 429.59it/s]\n",
      "100%|██████████| 5/5 [00:00<00:00, 1218.57it/s]\n",
      "100%|██████████| 45/45 [00:00<00:00, 404.63it/s]\n",
      "100%|██████████| 5/5 [00:00<00:00, 1224.33it/s]\n",
      "  0%|          | 0/45 [00:00<?, ?it/s]"
     ]
    },
    {
     "name": "stdout",
     "output_type": "stream",
     "text": [
      "Train Loss: 0.0140\n",
      "Val Loss: 0.0112\n",
      "Epoch 297 of 1000\n",
      "<torch.utils.data.dataloader.DataLoader object at 0x7fb151915550>\n",
      "Train Loss: 0.0140\n",
      "Val Loss: 0.0112\n",
      "Epoch 298 of 1000\n",
      "<torch.utils.data.dataloader.DataLoader object at 0x7fb151915550>\n"
     ]
    },
    {
     "name": "stderr",
     "output_type": "stream",
     "text": [
      "100%|██████████| 45/45 [00:00<00:00, 425.77it/s]\n",
      "100%|██████████| 5/5 [00:00<00:00, 1217.29it/s]\n",
      "100%|██████████| 45/45 [00:00<00:00, 421.10it/s]\n",
      "100%|██████████| 5/5 [00:00<00:00, 1099.71it/s]\n",
      "  0%|          | 0/45 [00:00<?, ?it/s]"
     ]
    },
    {
     "name": "stdout",
     "output_type": "stream",
     "text": [
      "Train Loss: 0.0140\n",
      "Val Loss: 0.0112\n",
      "Epoch 299 of 1000\n",
      "<torch.utils.data.dataloader.DataLoader object at 0x7fb151915550>\n",
      "Train Loss: 0.0140\n",
      "Val Loss: 0.0112\n",
      "Epoch 300 of 1000\n",
      "<torch.utils.data.dataloader.DataLoader object at 0x7fb151915550>\n"
     ]
    },
    {
     "name": "stderr",
     "output_type": "stream",
     "text": [
      "100%|██████████| 45/45 [00:00<00:00, 418.20it/s]\n",
      "100%|██████████| 5/5 [00:00<00:00, 1192.58it/s]\n",
      "100%|██████████| 45/45 [00:00<00:00, 413.79it/s]\n",
      "100%|██████████| 5/5 [00:00<00:00, 1097.87it/s]\n",
      "  0%|          | 0/45 [00:00<?, ?it/s]"
     ]
    },
    {
     "name": "stdout",
     "output_type": "stream",
     "text": [
      "Train Loss: 0.0140\n",
      "Val Loss: 0.0112\n",
      "Epoch 301 of 1000\n",
      "<torch.utils.data.dataloader.DataLoader object at 0x7fb151915550>\n",
      "Train Loss: 0.0140\n",
      "Val Loss: 0.0112\n",
      "Epoch 302 of 1000\n",
      "<torch.utils.data.dataloader.DataLoader object at 0x7fb151915550>\n"
     ]
    },
    {
     "name": "stderr",
     "output_type": "stream",
     "text": [
      "100%|██████████| 45/45 [00:00<00:00, 420.77it/s]\n",
      "100%|██████████| 5/5 [00:00<00:00, 1206.16it/s]\n",
      "100%|██████████| 45/45 [00:00<00:00, 436.92it/s]\n",
      "100%|██████████| 5/5 [00:00<00:00, 1198.17it/s]\n",
      "  0%|          | 0/45 [00:00<?, ?it/s]"
     ]
    },
    {
     "name": "stdout",
     "output_type": "stream",
     "text": [
      "Train Loss: 0.0140\n",
      "Val Loss: 0.0112\n",
      "Epoch 303 of 1000\n",
      "<torch.utils.data.dataloader.DataLoader object at 0x7fb151915550>\n",
      "Train Loss: 0.0140\n",
      "Val Loss: 0.0112\n",
      "Epoch 304 of 1000\n",
      "<torch.utils.data.dataloader.DataLoader object at 0x7fb151915550>\n"
     ]
    },
    {
     "name": "stderr",
     "output_type": "stream",
     "text": [
      "100%|██████████| 45/45 [00:00<00:00, 356.59it/s]\n",
      "100%|██████████| 5/5 [00:00<00:00, 1204.43it/s]\n",
      "100%|██████████| 45/45 [00:00<00:00, 414.01it/s]\n",
      "100%|██████████| 5/5 [00:00<00:00, 1173.89it/s]\n",
      "  0%|          | 0/45 [00:00<?, ?it/s]"
     ]
    },
    {
     "name": "stdout",
     "output_type": "stream",
     "text": [
      "Train Loss: 0.0140\n",
      "Val Loss: 0.0112\n",
      "Epoch 305 of 1000\n",
      "<torch.utils.data.dataloader.DataLoader object at 0x7fb151915550>\n",
      "Train Loss: 0.0140\n",
      "Val Loss: 0.0112\n",
      "Epoch 306 of 1000\n",
      "<torch.utils.data.dataloader.DataLoader object at 0x7fb151915550>\n"
     ]
    },
    {
     "name": "stderr",
     "output_type": "stream",
     "text": [
      "100%|██████████| 45/45 [00:00<00:00, 407.25it/s]\n",
      "100%|██████████| 5/5 [00:00<00:00, 1182.63it/s]\n",
      "100%|██████████| 45/45 [00:00<00:00, 423.24it/s]\n",
      "100%|██████████| 5/5 [00:00<00:00, 1191.16it/s]\n",
      "  0%|          | 0/45 [00:00<?, ?it/s]"
     ]
    },
    {
     "name": "stdout",
     "output_type": "stream",
     "text": [
      "Train Loss: 0.0140\n",
      "Val Loss: 0.0112\n",
      "Epoch 307 of 1000\n",
      "<torch.utils.data.dataloader.DataLoader object at 0x7fb151915550>\n",
      "Train Loss: 0.0140\n",
      "Val Loss: 0.0112\n",
      "Epoch 308 of 1000\n",
      "<torch.utils.data.dataloader.DataLoader object at 0x7fb151915550>\n"
     ]
    },
    {
     "name": "stderr",
     "output_type": "stream",
     "text": [
      "100%|██████████| 45/45 [00:00<00:00, 420.56it/s]\n",
      "100%|██████████| 5/5 [00:00<00:00, 1220.98it/s]\n",
      "100%|██████████| 45/45 [00:00<00:00, 431.33it/s]\n",
      "100%|██████████| 5/5 [00:00<00:00, 1209.15it/s]\n",
      "  0%|          | 0/45 [00:00<?, ?it/s]"
     ]
    },
    {
     "name": "stdout",
     "output_type": "stream",
     "text": [
      "Train Loss: 0.0140\n",
      "Val Loss: 0.0112\n",
      "Epoch 309 of 1000\n",
      "<torch.utils.data.dataloader.DataLoader object at 0x7fb151915550>\n",
      "Train Loss: 0.0140\n",
      "Val Loss: 0.0112\n",
      "Epoch 310 of 1000\n",
      "<torch.utils.data.dataloader.DataLoader object at 0x7fb151915550>\n"
     ]
    },
    {
     "name": "stderr",
     "output_type": "stream",
     "text": [
      "100%|██████████| 45/45 [00:00<00:00, 426.22it/s]\n",
      "100%|██████████| 5/5 [00:00<00:00, 1168.39it/s]\n",
      "100%|██████████| 45/45 [00:00<00:00, 427.20it/s]\n",
      "100%|██████████| 5/5 [00:00<00:00, 882.97it/s]\n",
      "  0%|          | 0/45 [00:00<?, ?it/s]"
     ]
    },
    {
     "name": "stdout",
     "output_type": "stream",
     "text": [
      "Train Loss: 0.0140\n",
      "Val Loss: 0.0112\n",
      "Epoch 311 of 1000\n",
      "<torch.utils.data.dataloader.DataLoader object at 0x7fb151915550>\n",
      "Train Loss: 0.0140\n",
      "Val Loss: 0.0112\n",
      "Epoch 312 of 1000\n",
      "<torch.utils.data.dataloader.DataLoader object at 0x7fb151915550>\n"
     ]
    },
    {
     "name": "stderr",
     "output_type": "stream",
     "text": [
      "100%|██████████| 45/45 [00:00<00:00, 437.35it/s]\n",
      "100%|██████████| 5/5 [00:00<00:00, 1140.38it/s]\n",
      "100%|██████████| 45/45 [00:00<00:00, 407.95it/s]\n",
      "100%|██████████| 5/5 [00:00<00:00, 1107.32it/s]\n",
      "  0%|          | 0/45 [00:00<?, ?it/s]"
     ]
    },
    {
     "name": "stdout",
     "output_type": "stream",
     "text": [
      "Train Loss: 0.0140\n",
      "Val Loss: 0.0112\n",
      "Epoch 313 of 1000\n",
      "<torch.utils.data.dataloader.DataLoader object at 0x7fb151915550>\n",
      "Train Loss: 0.0140\n",
      "Val Loss: 0.0112\n",
      "Epoch 314 of 1000\n",
      "<torch.utils.data.dataloader.DataLoader object at 0x7fb151915550>\n"
     ]
    },
    {
     "name": "stderr",
     "output_type": "stream",
     "text": [
      "100%|██████████| 45/45 [00:00<00:00, 420.14it/s]\n",
      "100%|██████████| 5/5 [00:00<00:00, 1176.32it/s]\n",
      "100%|██████████| 45/45 [00:00<00:00, 422.43it/s]\n",
      "100%|██████████| 5/5 [00:00<00:00, 1141.25it/s]\n",
      "  0%|          | 0/45 [00:00<?, ?it/s]"
     ]
    },
    {
     "name": "stdout",
     "output_type": "stream",
     "text": [
      "Train Loss: 0.0140\n",
      "Val Loss: 0.0112\n",
      "Epoch 315 of 1000\n",
      "<torch.utils.data.dataloader.DataLoader object at 0x7fb151915550>\n",
      "Train Loss: 0.0140\n",
      "Val Loss: 0.0112\n",
      "Epoch 316 of 1000\n",
      "<torch.utils.data.dataloader.DataLoader object at 0x7fb151915550>\n"
     ]
    },
    {
     "name": "stderr",
     "output_type": "stream",
     "text": [
      "100%|██████████| 45/45 [00:00<00:00, 420.20it/s]\n",
      "100%|██████████| 5/5 [00:00<00:00, 1214.90it/s]\n",
      "100%|██████████| 45/45 [00:00<00:00, 424.04it/s]\n",
      "100%|██████████| 5/5 [00:00<00:00, 1145.73it/s]\n",
      "  0%|          | 0/45 [00:00<?, ?it/s]"
     ]
    },
    {
     "name": "stdout",
     "output_type": "stream",
     "text": [
      "Train Loss: 0.0140\n",
      "Val Loss: 0.0112\n",
      "Epoch 317 of 1000\n",
      "<torch.utils.data.dataloader.DataLoader object at 0x7fb151915550>\n",
      "Train Loss: 0.0140\n",
      "Val Loss: 0.0112\n",
      "Epoch 318 of 1000\n",
      "<torch.utils.data.dataloader.DataLoader object at 0x7fb151915550>\n"
     ]
    },
    {
     "name": "stderr",
     "output_type": "stream",
     "text": [
      "100%|██████████| 45/45 [00:00<00:00, 430.54it/s]\n",
      "100%|██████████| 5/5 [00:00<00:00, 1211.18it/s]\n",
      "100%|██████████| 45/45 [00:00<00:00, 408.35it/s]\n",
      "100%|██████████| 5/5 [00:00<00:00, 1044.50it/s]\n",
      "  0%|          | 0/45 [00:00<?, ?it/s]"
     ]
    },
    {
     "name": "stdout",
     "output_type": "stream",
     "text": [
      "Train Loss: 0.0140\n",
      "Val Loss: 0.0112\n",
      "Epoch 319 of 1000\n",
      "<torch.utils.data.dataloader.DataLoader object at 0x7fb151915550>\n",
      "Train Loss: 0.0140\n",
      "Val Loss: 0.0112\n",
      "Epoch 320 of 1000\n",
      "<torch.utils.data.dataloader.DataLoader object at 0x7fb151915550>\n"
     ]
    },
    {
     "name": "stderr",
     "output_type": "stream",
     "text": [
      "100%|██████████| 45/45 [00:00<00:00, 419.30it/s]\n",
      "100%|██████████| 5/5 [00:00<00:00, 1280.55it/s]\n",
      "100%|██████████| 45/45 [00:00<00:00, 405.90it/s]\n",
      "100%|██████████| 5/5 [00:00<00:00, 1125.02it/s]\n",
      "  0%|          | 0/45 [00:00<?, ?it/s]"
     ]
    },
    {
     "name": "stdout",
     "output_type": "stream",
     "text": [
      "Train Loss: 0.0140\n",
      "Val Loss: 0.0112\n",
      "Epoch 321 of 1000\n",
      "<torch.utils.data.dataloader.DataLoader object at 0x7fb151915550>\n",
      "Train Loss: 0.0140\n",
      "Val Loss: 0.0112\n",
      "Epoch 322 of 1000\n",
      "<torch.utils.data.dataloader.DataLoader object at 0x7fb151915550>\n"
     ]
    },
    {
     "name": "stderr",
     "output_type": "stream",
     "text": [
      "100%|██████████| 45/45 [00:00<00:00, 423.76it/s]\n",
      "100%|██████████| 5/5 [00:00<00:00, 1181.56it/s]\n",
      "100%|██████████| 45/45 [00:00<00:00, 419.87it/s]\n",
      "100%|██████████| 5/5 [00:00<00:00, 1166.96it/s]\n",
      "  0%|          | 0/45 [00:00<?, ?it/s]"
     ]
    },
    {
     "name": "stdout",
     "output_type": "stream",
     "text": [
      "Train Loss: 0.0140\n",
      "Val Loss: 0.0112\n",
      "Epoch 323 of 1000\n",
      "<torch.utils.data.dataloader.DataLoader object at 0x7fb151915550>\n",
      "Train Loss: 0.0140\n",
      "Val Loss: 0.0112\n",
      "Epoch 324 of 1000\n",
      "<torch.utils.data.dataloader.DataLoader object at 0x7fb151915550>\n"
     ]
    },
    {
     "name": "stderr",
     "output_type": "stream",
     "text": [
      "100%|██████████| 45/45 [00:00<00:00, 421.10it/s]\n",
      "100%|██████████| 5/5 [00:00<00:00, 1174.22it/s]\n",
      "100%|██████████| 45/45 [00:00<00:00, 418.87it/s]\n",
      "100%|██████████| 5/5 [00:00<00:00, 1169.44it/s]\n",
      "  0%|          | 0/45 [00:00<?, ?it/s]"
     ]
    },
    {
     "name": "stdout",
     "output_type": "stream",
     "text": [
      "Train Loss: 0.0140\n",
      "Val Loss: 0.0112\n",
      "Epoch 325 of 1000\n",
      "<torch.utils.data.dataloader.DataLoader object at 0x7fb151915550>\n",
      "Train Loss: 0.0140\n",
      "Val Loss: 0.0112\n",
      "Epoch 326 of 1000\n",
      "<torch.utils.data.dataloader.DataLoader object at 0x7fb151915550>\n"
     ]
    },
    {
     "name": "stderr",
     "output_type": "stream",
     "text": [
      "100%|██████████| 45/45 [00:00<00:00, 419.08it/s]\n",
      "100%|██████████| 5/5 [00:00<00:00, 1116.52it/s]\n",
      "100%|██████████| 45/45 [00:00<00:00, 413.85it/s]\n",
      "100%|██████████| 5/5 [00:00<00:00, 1138.02it/s]\n",
      "  0%|          | 0/45 [00:00<?, ?it/s]"
     ]
    },
    {
     "name": "stdout",
     "output_type": "stream",
     "text": [
      "Train Loss: 0.0140\n",
      "Val Loss: 0.0112\n",
      "Epoch 327 of 1000\n",
      "<torch.utils.data.dataloader.DataLoader object at 0x7fb151915550>\n",
      "Train Loss: 0.0140\n",
      "Val Loss: 0.0112\n",
      "Epoch 328 of 1000\n",
      "<torch.utils.data.dataloader.DataLoader object at 0x7fb151915550>\n"
     ]
    },
    {
     "name": "stderr",
     "output_type": "stream",
     "text": [
      "100%|██████████| 45/45 [00:00<00:00, 421.36it/s]\n",
      "100%|██████████| 5/5 [00:00<00:00, 1059.97it/s]\n",
      "100%|██████████| 45/45 [00:00<00:00, 421.83it/s]\n",
      "100%|██████████| 5/5 [00:00<00:00, 1162.82it/s]\n",
      "  0%|          | 0/45 [00:00<?, ?it/s]"
     ]
    },
    {
     "name": "stdout",
     "output_type": "stream",
     "text": [
      "Train Loss: 0.0140\n",
      "Val Loss: 0.0112\n",
      "Epoch 329 of 1000\n",
      "<torch.utils.data.dataloader.DataLoader object at 0x7fb151915550>\n",
      "Train Loss: 0.0140\n",
      "Val Loss: 0.0112\n",
      "Epoch 330 of 1000\n",
      "<torch.utils.data.dataloader.DataLoader object at 0x7fb151915550>\n"
     ]
    },
    {
     "name": "stderr",
     "output_type": "stream",
     "text": [
      "100%|██████████| 45/45 [00:00<00:00, 419.96it/s]\n",
      "100%|██████████| 5/5 [00:00<00:00, 1265.71it/s]\n",
      "100%|██████████| 45/45 [00:00<00:00, 427.45it/s]\n",
      "100%|██████████| 5/5 [00:00<00:00, 1220.13it/s]\n",
      "  0%|          | 0/45 [00:00<?, ?it/s]"
     ]
    },
    {
     "name": "stdout",
     "output_type": "stream",
     "text": [
      "Train Loss: 0.0140\n",
      "Val Loss: 0.0112\n",
      "Epoch 331 of 1000\n",
      "<torch.utils.data.dataloader.DataLoader object at 0x7fb151915550>\n",
      "Train Loss: 0.0140\n",
      "Val Loss: 0.0112\n",
      "Epoch 332 of 1000\n",
      "<torch.utils.data.dataloader.DataLoader object at 0x7fb151915550>\n"
     ]
    },
    {
     "name": "stderr",
     "output_type": "stream",
     "text": [
      "100%|██████████| 45/45 [00:00<00:00, 430.22it/s]\n",
      "100%|██████████| 5/5 [00:00<00:00, 1123.21it/s]\n",
      "100%|██████████| 45/45 [00:00<00:00, 428.66it/s]\n",
      "100%|██████████| 5/5 [00:00<00:00, 1210.97it/s]\n",
      "  0%|          | 0/45 [00:00<?, ?it/s]"
     ]
    },
    {
     "name": "stdout",
     "output_type": "stream",
     "text": [
      "Train Loss: 0.0140\n",
      "Val Loss: 0.0112\n",
      "Epoch 333 of 1000\n",
      "<torch.utils.data.dataloader.DataLoader object at 0x7fb151915550>\n",
      "Train Loss: 0.0140\n",
      "Val Loss: 0.0112\n",
      "Epoch 334 of 1000\n",
      "<torch.utils.data.dataloader.DataLoader object at 0x7fb151915550>\n"
     ]
    },
    {
     "name": "stderr",
     "output_type": "stream",
     "text": [
      "100%|██████████| 45/45 [00:00<00:00, 417.57it/s]\n",
      "100%|██████████| 5/5 [00:00<00:00, 1148.18it/s]\n",
      "100%|██████████| 45/45 [00:00<00:00, 423.27it/s]\n",
      "100%|██████████| 5/5 [00:00<00:00, 1182.36it/s]\n",
      "  0%|          | 0/45 [00:00<?, ?it/s]"
     ]
    },
    {
     "name": "stdout",
     "output_type": "stream",
     "text": [
      "Train Loss: 0.0140\n",
      "Val Loss: 0.0112\n",
      "Epoch 335 of 1000\n",
      "<torch.utils.data.dataloader.DataLoader object at 0x7fb151915550>\n",
      "Train Loss: 0.0140\n",
      "Val Loss: 0.0112\n",
      "Epoch 336 of 1000\n",
      "<torch.utils.data.dataloader.DataLoader object at 0x7fb151915550>\n"
     ]
    },
    {
     "name": "stderr",
     "output_type": "stream",
     "text": [
      "100%|██████████| 45/45 [00:00<00:00, 424.08it/s]\n",
      "100%|██████████| 5/5 [00:00<00:00, 1179.70it/s]\n",
      "100%|██████████| 45/45 [00:00<00:00, 418.80it/s]\n",
      "100%|██████████| 5/5 [00:00<00:00, 1176.72it/s]\n",
      "  0%|          | 0/45 [00:00<?, ?it/s]"
     ]
    },
    {
     "name": "stdout",
     "output_type": "stream",
     "text": [
      "Train Loss: 0.0140\n",
      "Val Loss: 0.0112\n",
      "Epoch 337 of 1000\n",
      "<torch.utils.data.dataloader.DataLoader object at 0x7fb151915550>\n",
      "Train Loss: 0.0140\n",
      "Val Loss: 0.0112\n",
      "Epoch 338 of 1000\n",
      "<torch.utils.data.dataloader.DataLoader object at 0x7fb151915550>\n"
     ]
    },
    {
     "name": "stderr",
     "output_type": "stream",
     "text": [
      "100%|██████████| 45/45 [00:00<00:00, 434.41it/s]\n",
      "100%|██████████| 5/5 [00:00<00:00, 1248.45it/s]\n",
      "100%|██████████| 45/45 [00:00<00:00, 420.71it/s]\n",
      "100%|██████████| 5/5 [00:00<00:00, 1152.98it/s]\n",
      "  0%|          | 0/45 [00:00<?, ?it/s]"
     ]
    },
    {
     "name": "stdout",
     "output_type": "stream",
     "text": [
      "Train Loss: 0.0140\n",
      "Val Loss: 0.0112\n",
      "Epoch 339 of 1000\n",
      "<torch.utils.data.dataloader.DataLoader object at 0x7fb151915550>\n",
      "Train Loss: 0.0140\n",
      "Val Loss: 0.0112\n",
      "Epoch 340 of 1000\n",
      "<torch.utils.data.dataloader.DataLoader object at 0x7fb151915550>\n"
     ]
    },
    {
     "name": "stderr",
     "output_type": "stream",
     "text": [
      "100%|██████████| 45/45 [00:00<00:00, 418.13it/s]\n",
      "100%|██████████| 5/5 [00:00<00:00, 1186.51it/s]\n",
      "100%|██████████| 45/45 [00:00<00:00, 422.97it/s]\n",
      "100%|██████████| 5/5 [00:00<00:00, 1104.58it/s]\n",
      "  0%|          | 0/45 [00:00<?, ?it/s]"
     ]
    },
    {
     "name": "stdout",
     "output_type": "stream",
     "text": [
      "Train Loss: 0.0140\n",
      "Val Loss: 0.0112\n",
      "Epoch 341 of 1000\n",
      "<torch.utils.data.dataloader.DataLoader object at 0x7fb151915550>\n",
      "Train Loss: 0.0140\n",
      "Val Loss: 0.0112\n",
      "Epoch 342 of 1000\n",
      "<torch.utils.data.dataloader.DataLoader object at 0x7fb151915550>\n"
     ]
    },
    {
     "name": "stderr",
     "output_type": "stream",
     "text": [
      "100%|██████████| 45/45 [00:00<00:00, 429.53it/s]\n",
      "100%|██████████| 5/5 [00:00<00:00, 1165.47it/s]\n",
      "100%|██████████| 45/45 [00:00<00:00, 428.41it/s]\n",
      "100%|██████████| 5/5 [00:00<00:00, 1177.38it/s]\n",
      "  0%|          | 0/45 [00:00<?, ?it/s]"
     ]
    },
    {
     "name": "stdout",
     "output_type": "stream",
     "text": [
      "Train Loss: 0.0140\n",
      "Val Loss: 0.0112\n",
      "Epoch 343 of 1000\n",
      "<torch.utils.data.dataloader.DataLoader object at 0x7fb151915550>\n",
      "Train Loss: 0.0140\n",
      "Val Loss: 0.0112\n",
      "Epoch 344 of 1000\n",
      "<torch.utils.data.dataloader.DataLoader object at 0x7fb151915550>\n"
     ]
    },
    {
     "name": "stderr",
     "output_type": "stream",
     "text": [
      "100%|██████████| 45/45 [00:00<00:00, 411.56it/s]\n",
      "100%|██████████| 5/5 [00:00<00:00, 1163.47it/s]\n",
      "100%|██████████| 45/45 [00:00<00:00, 421.42it/s]\n",
      "100%|██████████| 5/5 [00:00<00:00, 1169.57it/s]\n",
      "  0%|          | 0/45 [00:00<?, ?it/s]"
     ]
    },
    {
     "name": "stdout",
     "output_type": "stream",
     "text": [
      "Train Loss: 0.0140\n",
      "Val Loss: 0.0112\n",
      "Epoch 345 of 1000\n",
      "<torch.utils.data.dataloader.DataLoader object at 0x7fb151915550>\n",
      "Train Loss: 0.0140\n",
      "Val Loss: 0.0112\n",
      "Epoch 346 of 1000\n",
      "<torch.utils.data.dataloader.DataLoader object at 0x7fb151915550>\n"
     ]
    },
    {
     "name": "stderr",
     "output_type": "stream",
     "text": [
      "100%|██████████| 45/45 [00:00<00:00, 424.82it/s]\n",
      "100%|██████████| 5/5 [00:00<00:00, 1041.80it/s]\n",
      "100%|██████████| 45/45 [00:00<00:00, 420.82it/s]\n",
      "100%|██████████| 5/5 [00:00<00:00, 1176.65it/s]\n",
      "  0%|          | 0/45 [00:00<?, ?it/s]"
     ]
    },
    {
     "name": "stdout",
     "output_type": "stream",
     "text": [
      "Train Loss: 0.0140\n",
      "Val Loss: 0.0112\n",
      "Epoch 347 of 1000\n",
      "<torch.utils.data.dataloader.DataLoader object at 0x7fb151915550>\n",
      "Train Loss: 0.0140\n",
      "Val Loss: 0.0112\n",
      "Epoch 348 of 1000\n",
      "<torch.utils.data.dataloader.DataLoader object at 0x7fb151915550>\n"
     ]
    },
    {
     "name": "stderr",
     "output_type": "stream",
     "text": [
      "100%|██████████| 45/45 [00:00<00:00, 419.09it/s]\n",
      "100%|██████████| 5/5 [00:00<00:00, 1132.55it/s]\n",
      "100%|██████████| 45/45 [00:00<00:00, 421.26it/s]\n",
      "100%|██████████| 5/5 [00:00<00:00, 1183.76it/s]\n",
      "  0%|          | 0/45 [00:00<?, ?it/s]"
     ]
    },
    {
     "name": "stdout",
     "output_type": "stream",
     "text": [
      "Train Loss: 0.0140\n",
      "Val Loss: 0.0112\n",
      "Epoch 349 of 1000\n",
      "<torch.utils.data.dataloader.DataLoader object at 0x7fb151915550>\n",
      "Train Loss: 0.0140\n",
      "Val Loss: 0.0112\n",
      "Epoch 350 of 1000\n",
      "<torch.utils.data.dataloader.DataLoader object at 0x7fb151915550>\n"
     ]
    },
    {
     "name": "stderr",
     "output_type": "stream",
     "text": [
      "100%|██████████| 45/45 [00:00<00:00, 427.75it/s]\n",
      "100%|██████████| 5/5 [00:00<00:00, 1185.70it/s]\n",
      "100%|██████████| 45/45 [00:00<00:00, 420.61it/s]\n",
      "100%|██████████| 5/5 [00:00<00:00, 1167.03it/s]\n",
      "  0%|          | 0/45 [00:00<?, ?it/s]"
     ]
    },
    {
     "name": "stdout",
     "output_type": "stream",
     "text": [
      "Train Loss: 0.0140\n",
      "Val Loss: 0.0112\n",
      "Epoch 351 of 1000\n",
      "<torch.utils.data.dataloader.DataLoader object at 0x7fb151915550>\n",
      "Train Loss: 0.0139\n",
      "Val Loss: 0.0112\n",
      "Epoch 352 of 1000\n",
      "<torch.utils.data.dataloader.DataLoader object at 0x7fb151915550>\n"
     ]
    },
    {
     "name": "stderr",
     "output_type": "stream",
     "text": [
      "100%|██████████| 45/45 [00:00<00:00, 421.69it/s]\n",
      "100%|██████████| 5/5 [00:00<00:00, 983.10it/s]\n",
      "100%|██████████| 45/45 [00:00<00:00, 419.15it/s]\n",
      "100%|██████████| 5/5 [00:00<00:00, 1053.00it/s]\n",
      "  0%|          | 0/45 [00:00<?, ?it/s]"
     ]
    },
    {
     "name": "stdout",
     "output_type": "stream",
     "text": [
      "Train Loss: 0.0139\n",
      "Val Loss: 0.0112\n",
      "Epoch 353 of 1000\n",
      "<torch.utils.data.dataloader.DataLoader object at 0x7fb151915550>\n",
      "Train Loss: 0.0139\n",
      "Val Loss: 0.0112\n",
      "Epoch 354 of 1000\n",
      "<torch.utils.data.dataloader.DataLoader object at 0x7fb151915550>\n"
     ]
    },
    {
     "name": "stderr",
     "output_type": "stream",
     "text": [
      "100%|██████████| 45/45 [00:00<00:00, 414.58it/s]\n",
      "100%|██████████| 5/5 [00:00<00:00, 1159.99it/s]\n",
      "100%|██████████| 45/45 [00:00<00:00, 408.09it/s]\n",
      "100%|██████████| 5/5 [00:00<00:00, 1083.80it/s]\n",
      "  0%|          | 0/45 [00:00<?, ?it/s]"
     ]
    },
    {
     "name": "stdout",
     "output_type": "stream",
     "text": [
      "Train Loss: 0.0139\n",
      "Val Loss: 0.0112\n",
      "Epoch 355 of 1000\n",
      "<torch.utils.data.dataloader.DataLoader object at 0x7fb151915550>\n",
      "Train Loss: 0.0139\n",
      "Val Loss: 0.0112\n",
      "Epoch 356 of 1000\n",
      "<torch.utils.data.dataloader.DataLoader object at 0x7fb151915550>\n"
     ]
    },
    {
     "name": "stderr",
     "output_type": "stream",
     "text": [
      "100%|██████████| 45/45 [00:00<00:00, 419.41it/s]\n",
      "100%|██████████| 5/5 [00:00<00:00, 1053.21it/s]\n",
      "100%|██████████| 45/45 [00:00<00:00, 422.33it/s]\n",
      "100%|██████████| 5/5 [00:00<00:00, 1176.99it/s]\n",
      "  0%|          | 0/45 [00:00<?, ?it/s]"
     ]
    },
    {
     "name": "stdout",
     "output_type": "stream",
     "text": [
      "Train Loss: 0.0139\n",
      "Val Loss: 0.0112\n",
      "Epoch 357 of 1000\n",
      "<torch.utils.data.dataloader.DataLoader object at 0x7fb151915550>\n",
      "Train Loss: 0.0139\n",
      "Val Loss: 0.0112\n",
      "Epoch 358 of 1000\n",
      "<torch.utils.data.dataloader.DataLoader object at 0x7fb151915550>\n"
     ]
    },
    {
     "name": "stderr",
     "output_type": "stream",
     "text": [
      "100%|██████████| 45/45 [00:00<00:00, 421.49it/s]\n",
      "100%|██████████| 5/5 [00:00<00:00, 1172.97it/s]\n",
      "100%|██████████| 45/45 [00:00<00:00, 424.60it/s]\n",
      "100%|██████████| 5/5 [00:00<00:00, 1179.57it/s]\n",
      "  0%|          | 0/45 [00:00<?, ?it/s]"
     ]
    },
    {
     "name": "stdout",
     "output_type": "stream",
     "text": [
      "Train Loss: 0.0139\n",
      "Val Loss: 0.0112\n",
      "Epoch 359 of 1000\n",
      "<torch.utils.data.dataloader.DataLoader object at 0x7fb151915550>\n",
      "Train Loss: 0.0139\n",
      "Val Loss: 0.0112\n",
      "Epoch 360 of 1000\n",
      "<torch.utils.data.dataloader.DataLoader object at 0x7fb151915550>\n"
     ]
    },
    {
     "name": "stderr",
     "output_type": "stream",
     "text": [
      "100%|██████████| 45/45 [00:00<00:00, 424.16it/s]\n",
      "100%|██████████| 5/5 [00:00<00:00, 1121.53it/s]\n",
      "100%|██████████| 45/45 [00:00<00:00, 418.62it/s]\n",
      "100%|██████████| 5/5 [00:00<00:00, 1138.58it/s]\n",
      "  0%|          | 0/45 [00:00<?, ?it/s]"
     ]
    },
    {
     "name": "stdout",
     "output_type": "stream",
     "text": [
      "Train Loss: 0.0139\n",
      "Val Loss: 0.0112\n",
      "Epoch 361 of 1000\n",
      "<torch.utils.data.dataloader.DataLoader object at 0x7fb151915550>\n",
      "Train Loss: 0.0139\n",
      "Val Loss: 0.0112\n",
      "Epoch 362 of 1000\n",
      "<torch.utils.data.dataloader.DataLoader object at 0x7fb151915550>\n"
     ]
    },
    {
     "name": "stderr",
     "output_type": "stream",
     "text": [
      "100%|██████████| 45/45 [00:00<00:00, 413.79it/s]\n",
      "100%|██████████| 5/5 [00:00<00:00, 1104.11it/s]\n",
      "100%|██████████| 45/45 [00:00<00:00, 398.33it/s]\n",
      "100%|██████████| 5/5 [00:00<00:00, 1192.38it/s]\n",
      "  0%|          | 0/45 [00:00<?, ?it/s]"
     ]
    },
    {
     "name": "stdout",
     "output_type": "stream",
     "text": [
      "Train Loss: 0.0139\n",
      "Val Loss: 0.0112\n",
      "Epoch 363 of 1000\n",
      "<torch.utils.data.dataloader.DataLoader object at 0x7fb151915550>\n",
      "Train Loss: 0.0139\n",
      "Val Loss: 0.0112\n",
      "Epoch 364 of 1000\n",
      "<torch.utils.data.dataloader.DataLoader object at 0x7fb151915550>\n"
     ]
    },
    {
     "name": "stderr",
     "output_type": "stream",
     "text": [
      "100%|██████████| 45/45 [00:00<00:00, 418.56it/s]\n",
      "100%|██████████| 5/5 [00:00<00:00, 1183.56it/s]\n",
      "100%|██████████| 45/45 [00:00<00:00, 424.42it/s]\n",
      "100%|██████████| 5/5 [00:00<00:00, 1159.42it/s]\n",
      "  0%|          | 0/45 [00:00<?, ?it/s]"
     ]
    },
    {
     "name": "stdout",
     "output_type": "stream",
     "text": [
      "Train Loss: 0.0139\n",
      "Val Loss: 0.0112\n",
      "Epoch 365 of 1000\n",
      "<torch.utils.data.dataloader.DataLoader object at 0x7fb151915550>\n",
      "Train Loss: 0.0139\n",
      "Val Loss: 0.0112\n",
      "Epoch 366 of 1000\n",
      "<torch.utils.data.dataloader.DataLoader object at 0x7fb151915550>\n"
     ]
    },
    {
     "name": "stderr",
     "output_type": "stream",
     "text": [
      "100%|██████████| 45/45 [00:00<00:00, 415.56it/s]\n",
      "100%|██████████| 5/5 [00:00<00:00, 1160.38it/s]\n",
      "100%|██████████| 45/45 [00:00<00:00, 419.34it/s]\n",
      "100%|██████████| 5/5 [00:00<00:00, 1072.99it/s]\n",
      "  0%|          | 0/45 [00:00<?, ?it/s]"
     ]
    },
    {
     "name": "stdout",
     "output_type": "stream",
     "text": [
      "Train Loss: 0.0139\n",
      "Val Loss: 0.0112\n",
      "Epoch 367 of 1000\n",
      "<torch.utils.data.dataloader.DataLoader object at 0x7fb151915550>\n",
      "Train Loss: 0.0139\n",
      "Val Loss: 0.0112\n",
      "Epoch 368 of 1000\n",
      "<torch.utils.data.dataloader.DataLoader object at 0x7fb151915550>\n"
     ]
    },
    {
     "name": "stderr",
     "output_type": "stream",
     "text": [
      "100%|██████████| 45/45 [00:00<00:00, 404.18it/s]\n",
      "100%|██████████| 5/5 [00:00<00:00, 960.45it/s]\n",
      "100%|██████████| 45/45 [00:00<00:00, 424.99it/s]\n",
      "100%|██████████| 5/5 [00:00<00:00, 1143.36it/s]\n",
      "  0%|          | 0/45 [00:00<?, ?it/s]"
     ]
    },
    {
     "name": "stdout",
     "output_type": "stream",
     "text": [
      "Train Loss: 0.0139\n",
      "Val Loss: 0.0112\n",
      "Epoch 369 of 1000\n",
      "<torch.utils.data.dataloader.DataLoader object at 0x7fb151915550>\n",
      "Train Loss: 0.0139\n",
      "Val Loss: 0.0112\n",
      "Epoch 370 of 1000\n",
      "<torch.utils.data.dataloader.DataLoader object at 0x7fb151915550>\n"
     ]
    },
    {
     "name": "stderr",
     "output_type": "stream",
     "text": [
      "100%|██████████| 45/45 [00:00<00:00, 421.56it/s]\n",
      "100%|██████████| 5/5 [00:00<00:00, 1174.35it/s]\n",
      "100%|██████████| 45/45 [00:00<00:00, 411.67it/s]\n",
      "100%|██████████| 5/5 [00:00<00:00, 1119.26it/s]\n",
      "  0%|          | 0/45 [00:00<?, ?it/s]"
     ]
    },
    {
     "name": "stdout",
     "output_type": "stream",
     "text": [
      "Train Loss: 0.0139\n",
      "Val Loss: 0.0112\n",
      "Epoch 371 of 1000\n",
      "<torch.utils.data.dataloader.DataLoader object at 0x7fb151915550>\n",
      "Train Loss: 0.0139\n",
      "Val Loss: 0.0112\n",
      "Epoch 372 of 1000\n",
      "<torch.utils.data.dataloader.DataLoader object at 0x7fb151915550>\n"
     ]
    },
    {
     "name": "stderr",
     "output_type": "stream",
     "text": [
      "100%|██████████| 45/45 [00:00<00:00, 402.53it/s]\n",
      "100%|██████████| 5/5 [00:00<00:00, 1132.31it/s]\n",
      "100%|██████████| 45/45 [00:00<00:00, 404.54it/s]\n",
      "100%|██████████| 5/5 [00:00<00:00, 1032.16it/s]\n",
      "  0%|          | 0/45 [00:00<?, ?it/s]"
     ]
    },
    {
     "name": "stdout",
     "output_type": "stream",
     "text": [
      "Train Loss: 0.0139\n",
      "Val Loss: 0.0112\n",
      "Epoch 373 of 1000\n",
      "<torch.utils.data.dataloader.DataLoader object at 0x7fb151915550>\n",
      "Train Loss: 0.0139\n",
      "Val Loss: 0.0112\n",
      "Epoch 374 of 1000\n",
      "<torch.utils.data.dataloader.DataLoader object at 0x7fb151915550>\n"
     ]
    },
    {
     "name": "stderr",
     "output_type": "stream",
     "text": [
      "100%|██████████| 45/45 [00:00<00:00, 418.18it/s]\n",
      "100%|██████████| 5/5 [00:00<00:00, 1188.46it/s]\n",
      "100%|██████████| 45/45 [00:00<00:00, 415.16it/s]\n",
      "100%|██████████| 5/5 [00:00<00:00, 1180.70it/s]\n",
      "  0%|          | 0/45 [00:00<?, ?it/s]"
     ]
    },
    {
     "name": "stdout",
     "output_type": "stream",
     "text": [
      "Train Loss: 0.0139\n",
      "Val Loss: 0.0112\n",
      "Epoch 375 of 1000\n",
      "<torch.utils.data.dataloader.DataLoader object at 0x7fb151915550>\n",
      "Train Loss: 0.0139\n",
      "Val Loss: 0.0112\n",
      "Epoch 376 of 1000\n",
      "<torch.utils.data.dataloader.DataLoader object at 0x7fb151915550>\n"
     ]
    },
    {
     "name": "stderr",
     "output_type": "stream",
     "text": [
      "100%|██████████| 45/45 [00:00<00:00, 422.82it/s]\n",
      "100%|██████████| 5/5 [00:00<00:00, 1179.17it/s]\n",
      "100%|██████████| 45/45 [00:00<00:00, 383.29it/s]\n",
      "100%|██████████| 5/5 [00:00<00:00, 1147.55it/s]\n",
      "  0%|          | 0/45 [00:00<?, ?it/s]"
     ]
    },
    {
     "name": "stdout",
     "output_type": "stream",
     "text": [
      "Train Loss: 0.0139\n",
      "Val Loss: 0.0112\n",
      "Epoch 377 of 1000\n",
      "<torch.utils.data.dataloader.DataLoader object at 0x7fb151915550>\n",
      "Train Loss: 0.0139\n",
      "Val Loss: 0.0112\n",
      "Epoch 378 of 1000\n",
      "<torch.utils.data.dataloader.DataLoader object at 0x7fb151915550>\n"
     ]
    },
    {
     "name": "stderr",
     "output_type": "stream",
     "text": [
      "100%|██████████| 45/45 [00:00<00:00, 423.73it/s]\n",
      "100%|██████████| 5/5 [00:00<00:00, 1035.53it/s]\n",
      "100%|██████████| 45/45 [00:00<00:00, 420.93it/s]\n",
      "100%|██████████| 5/5 [00:00<00:00, 1137.28it/s]\n",
      "  0%|          | 0/45 [00:00<?, ?it/s]"
     ]
    },
    {
     "name": "stdout",
     "output_type": "stream",
     "text": [
      "Train Loss: 0.0139\n",
      "Val Loss: 0.0112\n",
      "Epoch 379 of 1000\n",
      "<torch.utils.data.dataloader.DataLoader object at 0x7fb151915550>\n",
      "Train Loss: 0.0139\n",
      "Val Loss: 0.0112\n",
      "Epoch 380 of 1000\n",
      "<torch.utils.data.dataloader.DataLoader object at 0x7fb151915550>\n"
     ]
    },
    {
     "name": "stderr",
     "output_type": "stream",
     "text": [
      "100%|██████████| 45/45 [00:00<00:00, 419.34it/s]\n",
      "100%|██████████| 5/5 [00:00<00:00, 1167.29it/s]\n",
      "100%|██████████| 45/45 [00:00<00:00, 416.97it/s]\n",
      "100%|██████████| 5/5 [00:00<00:00, 1188.52it/s]\n",
      "  0%|          | 0/45 [00:00<?, ?it/s]"
     ]
    },
    {
     "name": "stdout",
     "output_type": "stream",
     "text": [
      "Train Loss: 0.0139\n",
      "Val Loss: 0.0112\n",
      "Epoch 381 of 1000\n",
      "<torch.utils.data.dataloader.DataLoader object at 0x7fb151915550>\n",
      "Train Loss: 0.0139\n",
      "Val Loss: 0.0112\n",
      "Epoch 382 of 1000\n",
      "<torch.utils.data.dataloader.DataLoader object at 0x7fb151915550>\n"
     ]
    },
    {
     "name": "stderr",
     "output_type": "stream",
     "text": [
      "100%|██████████| 45/45 [00:00<00:00, 412.00it/s]\n",
      "100%|██████████| 5/5 [00:00<00:00, 1077.78it/s]\n",
      "100%|██████████| 45/45 [00:00<00:00, 419.49it/s]\n",
      "100%|██████████| 5/5 [00:00<00:00, 1151.78it/s]\n",
      "  0%|          | 0/45 [00:00<?, ?it/s]"
     ]
    },
    {
     "name": "stdout",
     "output_type": "stream",
     "text": [
      "Train Loss: 0.0139\n",
      "Val Loss: 0.0112\n",
      "Epoch 383 of 1000\n",
      "<torch.utils.data.dataloader.DataLoader object at 0x7fb151915550>\n",
      "Train Loss: 0.0139\n",
      "Val Loss: 0.0112\n",
      "Epoch 384 of 1000\n",
      "<torch.utils.data.dataloader.DataLoader object at 0x7fb151915550>\n"
     ]
    },
    {
     "name": "stderr",
     "output_type": "stream",
     "text": [
      "100%|██████████| 45/45 [00:00<00:00, 419.72it/s]\n",
      "100%|██████████| 5/5 [00:00<00:00, 1126.17it/s]\n",
      "100%|██████████| 45/45 [00:00<00:00, 427.76it/s]\n",
      "100%|██████████| 5/5 [00:00<00:00, 1241.87it/s]\n",
      "  0%|          | 0/45 [00:00<?, ?it/s]"
     ]
    },
    {
     "name": "stdout",
     "output_type": "stream",
     "text": [
      "Train Loss: 0.0139\n",
      "Val Loss: 0.0112\n",
      "Epoch 385 of 1000\n",
      "<torch.utils.data.dataloader.DataLoader object at 0x7fb151915550>\n",
      "Train Loss: 0.0139\n",
      "Val Loss: 0.0112\n",
      "Epoch 386 of 1000\n",
      "<torch.utils.data.dataloader.DataLoader object at 0x7fb151915550>\n"
     ]
    },
    {
     "name": "stderr",
     "output_type": "stream",
     "text": [
      "100%|██████████| 45/45 [00:00<00:00, 431.33it/s]\n",
      "100%|██████████| 5/5 [00:00<00:00, 1214.68it/s]\n",
      "100%|██████████| 45/45 [00:00<00:00, 427.41it/s]\n",
      "100%|██████████| 5/5 [00:00<00:00, 840.47it/s]\n",
      "  0%|          | 0/45 [00:00<?, ?it/s]"
     ]
    },
    {
     "name": "stdout",
     "output_type": "stream",
     "text": [
      "Train Loss: 0.0139\n",
      "Val Loss: 0.0112\n",
      "Epoch 387 of 1000\n",
      "<torch.utils.data.dataloader.DataLoader object at 0x7fb151915550>\n",
      "Train Loss: 0.0139\n",
      "Val Loss: 0.0112\n",
      "Epoch 388 of 1000\n",
      "<torch.utils.data.dataloader.DataLoader object at 0x7fb151915550>\n"
     ]
    },
    {
     "name": "stderr",
     "output_type": "stream",
     "text": [
      "100%|██████████| 45/45 [00:00<00:00, 396.12it/s]\n",
      "100%|██████████| 5/5 [00:00<00:00, 1269.92it/s]\n",
      "100%|██████████| 45/45 [00:00<00:00, 419.05it/s]\n",
      "100%|██████████| 5/5 [00:00<00:00, 1211.53it/s]\n",
      "  0%|          | 0/45 [00:00<?, ?it/s]"
     ]
    },
    {
     "name": "stdout",
     "output_type": "stream",
     "text": [
      "Train Loss: 0.0139\n",
      "Val Loss: 0.0112\n",
      "Epoch 389 of 1000\n",
      "<torch.utils.data.dataloader.DataLoader object at 0x7fb151915550>\n",
      "Train Loss: 0.0139\n",
      "Val Loss: 0.0112\n",
      "Epoch 390 of 1000\n",
      "<torch.utils.data.dataloader.DataLoader object at 0x7fb151915550>\n"
     ]
    },
    {
     "name": "stderr",
     "output_type": "stream",
     "text": [
      "100%|██████████| 45/45 [00:00<00:00, 431.51it/s]\n",
      "100%|██████████| 5/5 [00:00<00:00, 1118.66it/s]\n",
      "100%|██████████| 45/45 [00:00<00:00, 415.81it/s]\n",
      "100%|██████████| 5/5 [00:00<00:00, 1159.54it/s]\n",
      "  0%|          | 0/45 [00:00<?, ?it/s]"
     ]
    },
    {
     "name": "stdout",
     "output_type": "stream",
     "text": [
      "Train Loss: 0.0139\n",
      "Val Loss: 0.0112\n",
      "Epoch 391 of 1000\n",
      "<torch.utils.data.dataloader.DataLoader object at 0x7fb151915550>\n",
      "Train Loss: 0.0139\n",
      "Val Loss: 0.0112\n",
      "Epoch 392 of 1000\n",
      "<torch.utils.data.dataloader.DataLoader object at 0x7fb151915550>\n"
     ]
    },
    {
     "name": "stderr",
     "output_type": "stream",
     "text": [
      "100%|██████████| 45/45 [00:00<00:00, 413.97it/s]\n",
      "100%|██████████| 5/5 [00:00<00:00, 1123.09it/s]\n",
      "100%|██████████| 45/45 [00:00<00:00, 419.95it/s]\n",
      "100%|██████████| 5/5 [00:00<00:00, 1189.27it/s]\n",
      "  0%|          | 0/45 [00:00<?, ?it/s]"
     ]
    },
    {
     "name": "stdout",
     "output_type": "stream",
     "text": [
      "Train Loss: 0.0139\n",
      "Val Loss: 0.0112\n",
      "Epoch 393 of 1000\n",
      "<torch.utils.data.dataloader.DataLoader object at 0x7fb151915550>\n",
      "Train Loss: 0.0139\n",
      "Val Loss: 0.0112\n",
      "Epoch 394 of 1000\n",
      "<torch.utils.data.dataloader.DataLoader object at 0x7fb151915550>\n"
     ]
    },
    {
     "name": "stderr",
     "output_type": "stream",
     "text": [
      "100%|██████████| 45/45 [00:00<00:00, 417.79it/s]\n",
      "100%|██████████| 5/5 [00:00<00:00, 1226.48it/s]\n",
      "100%|██████████| 45/45 [00:00<00:00, 428.60it/s]\n",
      "100%|██████████| 5/5 [00:00<00:00, 1158.65it/s]\n",
      "  0%|          | 0/45 [00:00<?, ?it/s]"
     ]
    },
    {
     "name": "stdout",
     "output_type": "stream",
     "text": [
      "Train Loss: 0.0139\n",
      "Val Loss: 0.0112\n",
      "Epoch 395 of 1000\n",
      "<torch.utils.data.dataloader.DataLoader object at 0x7fb151915550>\n",
      "Train Loss: 0.0139\n",
      "Val Loss: 0.0112\n",
      "Epoch 396 of 1000\n",
      "<torch.utils.data.dataloader.DataLoader object at 0x7fb151915550>\n"
     ]
    },
    {
     "name": "stderr",
     "output_type": "stream",
     "text": [
      "100%|██████████| 45/45 [00:00<00:00, 427.27it/s]\n",
      "100%|██████████| 5/5 [00:00<00:00, 1188.59it/s]\n",
      "100%|██████████| 45/45 [00:00<00:00, 424.91it/s]\n",
      "100%|██████████| 5/5 [00:00<00:00, 1016.46it/s]\n",
      "  0%|          | 0/45 [00:00<?, ?it/s]"
     ]
    },
    {
     "name": "stdout",
     "output_type": "stream",
     "text": [
      "Train Loss: 0.0139\n",
      "Val Loss: 0.0112\n",
      "Epoch 397 of 1000\n",
      "<torch.utils.data.dataloader.DataLoader object at 0x7fb151915550>\n",
      "Train Loss: 0.0139\n",
      "Val Loss: 0.0112\n",
      "Epoch 398 of 1000\n",
      "<torch.utils.data.dataloader.DataLoader object at 0x7fb151915550>\n"
     ]
    },
    {
     "name": "stderr",
     "output_type": "stream",
     "text": [
      "100%|██████████| 45/45 [00:00<00:00, 414.39it/s]\n",
      "100%|██████████| 5/5 [00:00<00:00, 1126.53it/s]\n",
      "100%|██████████| 45/45 [00:00<00:00, 421.53it/s]\n",
      "100%|██████████| 5/5 [00:00<00:00, 1068.56it/s]\n",
      "  0%|          | 0/45 [00:00<?, ?it/s]"
     ]
    },
    {
     "name": "stdout",
     "output_type": "stream",
     "text": [
      "Train Loss: 0.0139\n",
      "Val Loss: 0.0112\n",
      "Epoch 399 of 1000\n",
      "<torch.utils.data.dataloader.DataLoader object at 0x7fb151915550>\n",
      "Train Loss: 0.0139\n",
      "Val Loss: 0.0112\n",
      "Epoch 400 of 1000\n",
      "<torch.utils.data.dataloader.DataLoader object at 0x7fb151915550>\n"
     ]
    },
    {
     "name": "stderr",
     "output_type": "stream",
     "text": [
      "100%|██████████| 45/45 [00:00<00:00, 425.00it/s]\n",
      "100%|██████████| 5/5 [00:00<00:00, 1165.02it/s]\n",
      "100%|██████████| 45/45 [00:00<00:00, 415.57it/s]\n",
      "100%|██████████| 5/5 [00:00<00:00, 1116.87it/s]\n",
      "  0%|          | 0/45 [00:00<?, ?it/s]"
     ]
    },
    {
     "name": "stdout",
     "output_type": "stream",
     "text": [
      "Train Loss: 0.0139\n",
      "Val Loss: 0.0112\n",
      "Epoch 401 of 1000\n",
      "<torch.utils.data.dataloader.DataLoader object at 0x7fb151915550>\n",
      "Train Loss: 0.0139\n",
      "Val Loss: 0.0112\n",
      "Epoch 402 of 1000\n",
      "<torch.utils.data.dataloader.DataLoader object at 0x7fb151915550>\n"
     ]
    },
    {
     "name": "stderr",
     "output_type": "stream",
     "text": [
      "100%|██████████| 45/45 [00:00<00:00, 410.57it/s]\n",
      "100%|██████████| 5/5 [00:00<00:00, 1125.38it/s]\n",
      "100%|██████████| 45/45 [00:00<00:00, 412.17it/s]\n",
      "100%|██████████| 5/5 [00:00<00:00, 1180.23it/s]\n",
      "  0%|          | 0/45 [00:00<?, ?it/s]"
     ]
    },
    {
     "name": "stdout",
     "output_type": "stream",
     "text": [
      "Train Loss: 0.0139\n",
      "Val Loss: 0.0112\n",
      "Epoch 403 of 1000\n",
      "<torch.utils.data.dataloader.DataLoader object at 0x7fb151915550>\n",
      "Train Loss: 0.0139\n",
      "Val Loss: 0.0112\n",
      "Epoch 404 of 1000\n",
      "<torch.utils.data.dataloader.DataLoader object at 0x7fb151915550>\n"
     ]
    },
    {
     "name": "stderr",
     "output_type": "stream",
     "text": [
      "100%|██████████| 45/45 [00:00<00:00, 425.13it/s]\n",
      "100%|██████████| 5/5 [00:00<00:00, 1138.64it/s]\n",
      "100%|██████████| 45/45 [00:00<00:00, 416.53it/s]\n",
      "100%|██████████| 5/5 [00:00<00:00, 1149.82it/s]\n",
      "  0%|          | 0/45 [00:00<?, ?it/s]"
     ]
    },
    {
     "name": "stdout",
     "output_type": "stream",
     "text": [
      "Train Loss: 0.0139\n",
      "Val Loss: 0.0112\n",
      "Epoch 405 of 1000\n",
      "<torch.utils.data.dataloader.DataLoader object at 0x7fb151915550>\n",
      "Train Loss: 0.0139\n",
      "Val Loss: 0.0112\n",
      "Epoch 406 of 1000\n",
      "<torch.utils.data.dataloader.DataLoader object at 0x7fb151915550>\n"
     ]
    },
    {
     "name": "stderr",
     "output_type": "stream",
     "text": [
      "100%|██████████| 45/45 [00:00<00:00, 415.57it/s]\n",
      "100%|██████████| 5/5 [00:00<00:00, 1177.05it/s]\n",
      "100%|██████████| 45/45 [00:00<00:00, 423.07it/s]\n",
      "100%|██████████| 5/5 [00:00<00:00, 1077.34it/s]\n",
      "  0%|          | 0/45 [00:00<?, ?it/s]"
     ]
    },
    {
     "name": "stdout",
     "output_type": "stream",
     "text": [
      "Train Loss: 0.0139\n",
      "Val Loss: 0.0112\n",
      "Epoch 407 of 1000\n",
      "<torch.utils.data.dataloader.DataLoader object at 0x7fb151915550>\n",
      "Train Loss: 0.0139\n",
      "Val Loss: 0.0112\n",
      "Epoch 408 of 1000\n",
      "<torch.utils.data.dataloader.DataLoader object at 0x7fb151915550>\n"
     ]
    },
    {
     "name": "stderr",
     "output_type": "stream",
     "text": [
      "100%|██████████| 45/45 [00:00<00:00, 415.26it/s]\n",
      "100%|██████████| 5/5 [00:00<00:00, 1193.26it/s]\n",
      "100%|██████████| 45/45 [00:00<00:00, 410.04it/s]\n",
      "100%|██████████| 5/5 [00:00<00:00, 1192.99it/s]\n",
      "  0%|          | 0/45 [00:00<?, ?it/s]"
     ]
    },
    {
     "name": "stdout",
     "output_type": "stream",
     "text": [
      "Train Loss: 0.0139\n",
      "Val Loss: 0.0112\n",
      "Epoch 409 of 1000\n",
      "<torch.utils.data.dataloader.DataLoader object at 0x7fb151915550>\n",
      "Train Loss: 0.0139\n",
      "Val Loss: 0.0112\n",
      "Epoch 410 of 1000\n",
      "<torch.utils.data.dataloader.DataLoader object at 0x7fb151915550>\n"
     ]
    },
    {
     "name": "stderr",
     "output_type": "stream",
     "text": [
      "100%|██████████| 45/45 [00:00<00:00, 419.62it/s]\n",
      "100%|██████████| 5/5 [00:00<00:00, 1136.05it/s]\n",
      "100%|██████████| 45/45 [00:00<00:00, 415.38it/s]\n",
      "100%|██████████| 5/5 [00:00<00:00, 1219.84it/s]\n",
      "  0%|          | 0/45 [00:00<?, ?it/s]"
     ]
    },
    {
     "name": "stdout",
     "output_type": "stream",
     "text": [
      "Train Loss: 0.0139\n",
      "Val Loss: 0.0112\n",
      "Epoch 411 of 1000\n",
      "<torch.utils.data.dataloader.DataLoader object at 0x7fb151915550>\n",
      "Train Loss: 0.0139\n",
      "Val Loss: 0.0112\n",
      "Epoch 412 of 1000\n",
      "<torch.utils.data.dataloader.DataLoader object at 0x7fb151915550>\n"
     ]
    },
    {
     "name": "stderr",
     "output_type": "stream",
     "text": [
      "100%|██████████| 45/45 [00:00<00:00, 423.60it/s]\n",
      "100%|██████████| 5/5 [00:00<00:00, 1170.16it/s]\n",
      "100%|██████████| 45/45 [00:00<00:00, 384.76it/s]\n",
      "100%|██████████| 5/5 [00:00<00:00, 1202.84it/s]\n",
      "  0%|          | 0/45 [00:00<?, ?it/s]"
     ]
    },
    {
     "name": "stdout",
     "output_type": "stream",
     "text": [
      "Train Loss: 0.0139\n",
      "Val Loss: 0.0112\n",
      "Epoch 413 of 1000\n",
      "<torch.utils.data.dataloader.DataLoader object at 0x7fb151915550>\n",
      "Train Loss: 0.0139\n",
      "Val Loss: 0.0112\n",
      "Epoch 414 of 1000\n",
      "<torch.utils.data.dataloader.DataLoader object at 0x7fb151915550>\n"
     ]
    },
    {
     "name": "stderr",
     "output_type": "stream",
     "text": [
      "100%|██████████| 45/45 [00:00<00:00, 437.97it/s]\n",
      "100%|██████████| 5/5 [00:00<00:00, 1170.16it/s]\n",
      "100%|██████████| 45/45 [00:00<00:00, 426.68it/s]\n",
      "100%|██████████| 5/5 [00:00<00:00, 1160.89it/s]\n",
      "  0%|          | 0/45 [00:00<?, ?it/s]"
     ]
    },
    {
     "name": "stdout",
     "output_type": "stream",
     "text": [
      "Train Loss: 0.0139\n",
      "Val Loss: 0.0112\n",
      "Epoch 415 of 1000\n",
      "<torch.utils.data.dataloader.DataLoader object at 0x7fb151915550>\n",
      "Train Loss: 0.0139\n",
      "Val Loss: 0.0112\n",
      "Epoch 416 of 1000\n",
      "<torch.utils.data.dataloader.DataLoader object at 0x7fb151915550>\n"
     ]
    },
    {
     "name": "stderr",
     "output_type": "stream",
     "text": [
      "100%|██████████| 45/45 [00:00<00:00, 422.21it/s]\n",
      "100%|██████████| 5/5 [00:00<00:00, 1183.16it/s]\n",
      "100%|██████████| 45/45 [00:00<00:00, 422.26it/s]\n",
      "100%|██████████| 5/5 [00:00<00:00, 1189.13it/s]\n",
      "  0%|          | 0/45 [00:00<?, ?it/s]"
     ]
    },
    {
     "name": "stdout",
     "output_type": "stream",
     "text": [
      "Train Loss: 0.0139\n",
      "Val Loss: 0.0112\n",
      "Epoch 417 of 1000\n",
      "<torch.utils.data.dataloader.DataLoader object at 0x7fb151915550>\n",
      "Train Loss: 0.0139\n",
      "Val Loss: 0.0112\n",
      "Epoch 418 of 1000\n",
      "<torch.utils.data.dataloader.DataLoader object at 0x7fb151915550>\n"
     ]
    },
    {
     "name": "stderr",
     "output_type": "stream",
     "text": [
      "100%|██████████| 45/45 [00:00<00:00, 424.17it/s]\n",
      "100%|██████████| 5/5 [00:00<00:00, 1125.99it/s]\n",
      "100%|██████████| 45/45 [00:00<00:00, 420.88it/s]\n",
      "100%|██████████| 5/5 [00:00<00:00, 1224.33it/s]\n",
      "  0%|          | 0/45 [00:00<?, ?it/s]"
     ]
    },
    {
     "name": "stdout",
     "output_type": "stream",
     "text": [
      "Train Loss: 0.0139\n",
      "Val Loss: 0.0112\n",
      "Epoch 419 of 1000\n",
      "<torch.utils.data.dataloader.DataLoader object at 0x7fb151915550>\n",
      "Train Loss: 0.0139\n",
      "Val Loss: 0.0112\n",
      "Epoch 420 of 1000\n",
      "<torch.utils.data.dataloader.DataLoader object at 0x7fb151915550>\n"
     ]
    },
    {
     "name": "stderr",
     "output_type": "stream",
     "text": [
      "100%|██████████| 45/45 [00:00<00:00, 423.54it/s]\n",
      "100%|██████████| 5/5 [00:00<00:00, 1134.45it/s]\n",
      "100%|██████████| 45/45 [00:00<00:00, 430.84it/s]\n",
      "100%|██████████| 5/5 [00:00<00:00, 1206.65it/s]\n",
      "  0%|          | 0/45 [00:00<?, ?it/s]"
     ]
    },
    {
     "name": "stdout",
     "output_type": "stream",
     "text": [
      "Train Loss: 0.0139\n",
      "Val Loss: 0.0112\n",
      "Epoch 421 of 1000\n",
      "<torch.utils.data.dataloader.DataLoader object at 0x7fb151915550>\n",
      "Train Loss: 0.0139\n",
      "Val Loss: 0.0112\n",
      "Epoch 422 of 1000\n",
      "<torch.utils.data.dataloader.DataLoader object at 0x7fb151915550>\n"
     ]
    },
    {
     "name": "stderr",
     "output_type": "stream",
     "text": [
      "100%|██████████| 45/45 [00:00<00:00, 418.28it/s]\n",
      "100%|██████████| 5/5 [00:00<00:00, 1190.21it/s]\n",
      "100%|██████████| 45/45 [00:00<00:00, 428.98it/s]\n",
      "100%|██████████| 5/5 [00:00<00:00, 1120.93it/s]\n",
      "  0%|          | 0/45 [00:00<?, ?it/s]"
     ]
    },
    {
     "name": "stdout",
     "output_type": "stream",
     "text": [
      "Train Loss: 0.0139\n",
      "Val Loss: 0.0112\n",
      "Epoch 423 of 1000\n",
      "<torch.utils.data.dataloader.DataLoader object at 0x7fb151915550>\n",
      "Train Loss: 0.0139\n",
      "Val Loss: 0.0112\n",
      "Epoch 424 of 1000\n",
      "<torch.utils.data.dataloader.DataLoader object at 0x7fb151915550>\n"
     ]
    },
    {
     "name": "stderr",
     "output_type": "stream",
     "text": [
      "100%|██████████| 45/45 [00:00<00:00, 422.66it/s]\n",
      "100%|██████████| 5/5 [00:00<00:00, 1141.25it/s]\n",
      "100%|██████████| 45/45 [00:00<00:00, 432.09it/s]\n",
      "100%|██████████| 5/5 [00:00<00:00, 1164.31it/s]\n",
      "  0%|          | 0/45 [00:00<?, ?it/s]"
     ]
    },
    {
     "name": "stdout",
     "output_type": "stream",
     "text": [
      "Train Loss: 0.0139\n",
      "Val Loss: 0.0112\n",
      "Epoch 425 of 1000\n",
      "<torch.utils.data.dataloader.DataLoader object at 0x7fb151915550>\n",
      "Train Loss: 0.0139\n",
      "Val Loss: 0.0112\n",
      "Epoch 426 of 1000\n",
      "<torch.utils.data.dataloader.DataLoader object at 0x7fb151915550>\n"
     ]
    },
    {
     "name": "stderr",
     "output_type": "stream",
     "text": [
      "100%|██████████| 45/45 [00:00<00:00, 425.00it/s]\n",
      "100%|██████████| 5/5 [00:00<00:00, 1063.68it/s]\n",
      "100%|██████████| 45/45 [00:00<00:00, 422.93it/s]\n",
      "100%|██████████| 5/5 [00:00<00:00, 1158.71it/s]\n",
      "  0%|          | 0/45 [00:00<?, ?it/s]"
     ]
    },
    {
     "name": "stdout",
     "output_type": "stream",
     "text": [
      "Train Loss: 0.0139\n",
      "Val Loss: 0.0112\n",
      "Epoch 427 of 1000\n",
      "<torch.utils.data.dataloader.DataLoader object at 0x7fb151915550>\n",
      "Train Loss: 0.0139\n",
      "Val Loss: 0.0112\n",
      "Epoch 428 of 1000\n",
      "<torch.utils.data.dataloader.DataLoader object at 0x7fb151915550>\n"
     ]
    },
    {
     "name": "stderr",
     "output_type": "stream",
     "text": [
      "100%|██████████| 45/45 [00:00<00:00, 425.56it/s]\n",
      "100%|██████████| 5/5 [00:00<00:00, 1216.09it/s]\n",
      "100%|██████████| 45/45 [00:00<00:00, 428.65it/s]\n",
      "100%|██████████| 5/5 [00:00<00:00, 1206.16it/s]\n",
      "  0%|          | 0/45 [00:00<?, ?it/s]"
     ]
    },
    {
     "name": "stdout",
     "output_type": "stream",
     "text": [
      "Train Loss: 0.0139\n",
      "Val Loss: 0.0112\n",
      "Epoch 429 of 1000\n",
      "<torch.utils.data.dataloader.DataLoader object at 0x7fb151915550>\n",
      "Train Loss: 0.0139\n",
      "Val Loss: 0.0112\n",
      "Epoch 430 of 1000\n",
      "<torch.utils.data.dataloader.DataLoader object at 0x7fb151915550>\n"
     ]
    },
    {
     "name": "stderr",
     "output_type": "stream",
     "text": [
      "100%|██████████| 45/45 [00:00<00:00, 425.78it/s]\n",
      "100%|██████████| 5/5 [00:00<00:00, 1182.69it/s]\n",
      "100%|██████████| 45/45 [00:00<00:00, 413.62it/s]\n",
      "100%|██████████| 5/5 [00:00<00:00, 1095.86it/s]\n",
      "  0%|          | 0/45 [00:00<?, ?it/s]"
     ]
    },
    {
     "name": "stdout",
     "output_type": "stream",
     "text": [
      "Train Loss: 0.0139\n",
      "Val Loss: 0.0112\n",
      "Epoch 431 of 1000\n",
      "<torch.utils.data.dataloader.DataLoader object at 0x7fb151915550>\n",
      "Train Loss: 0.0139\n",
      "Val Loss: 0.0112\n",
      "Epoch 432 of 1000\n",
      "<torch.utils.data.dataloader.DataLoader object at 0x7fb151915550>\n"
     ]
    },
    {
     "name": "stderr",
     "output_type": "stream",
     "text": [
      "100%|██████████| 45/45 [00:00<00:00, 412.89it/s]\n",
      "100%|██████████| 5/5 [00:00<00:00, 1199.33it/s]\n",
      "100%|██████████| 45/45 [00:00<00:00, 419.95it/s]\n",
      "100%|██████████| 5/5 [00:00<00:00, 1147.49it/s]\n",
      "  0%|          | 0/45 [00:00<?, ?it/s]"
     ]
    },
    {
     "name": "stdout",
     "output_type": "stream",
     "text": [
      "Train Loss: 0.0139\n",
      "Val Loss: 0.0112\n",
      "Epoch 433 of 1000\n",
      "<torch.utils.data.dataloader.DataLoader object at 0x7fb151915550>\n",
      "Train Loss: 0.0139\n",
      "Val Loss: 0.0112\n",
      "Epoch 434 of 1000\n",
      "<torch.utils.data.dataloader.DataLoader object at 0x7fb151915550>\n"
     ]
    },
    {
     "name": "stderr",
     "output_type": "stream",
     "text": [
      "100%|██████████| 45/45 [00:00<00:00, 429.58it/s]\n",
      "100%|██████████| 5/5 [00:00<00:00, 1240.04it/s]\n",
      "100%|██████████| 45/45 [00:00<00:00, 431.91it/s]\n",
      "100%|██████████| 5/5 [00:00<00:00, 1162.57it/s]\n",
      "  0%|          | 0/45 [00:00<?, ?it/s]"
     ]
    },
    {
     "name": "stdout",
     "output_type": "stream",
     "text": [
      "Train Loss: 0.0139\n",
      "Val Loss: 0.0112\n",
      "Epoch 435 of 1000\n",
      "<torch.utils.data.dataloader.DataLoader object at 0x7fb151915550>\n",
      "Train Loss: 0.0139\n",
      "Val Loss: 0.0111\n",
      "Epoch 436 of 1000\n",
      "<torch.utils.data.dataloader.DataLoader object at 0x7fb151915550>\n"
     ]
    },
    {
     "name": "stderr",
     "output_type": "stream",
     "text": [
      "100%|██████████| 45/45 [00:00<00:00, 428.22it/s]\n",
      "100%|██████████| 5/5 [00:00<00:00, 1163.53it/s]\n",
      "100%|██████████| 45/45 [00:00<00:00, 432.18it/s]\n",
      "100%|██████████| 5/5 [00:00<00:00, 1216.87it/s]\n",
      "  0%|          | 0/45 [00:00<?, ?it/s]"
     ]
    },
    {
     "name": "stdout",
     "output_type": "stream",
     "text": [
      "Train Loss: 0.0139\n",
      "Val Loss: 0.0111\n",
      "Epoch 437 of 1000\n",
      "<torch.utils.data.dataloader.DataLoader object at 0x7fb151915550>\n",
      "Train Loss: 0.0139\n",
      "Val Loss: 0.0111\n",
      "Epoch 438 of 1000\n",
      "<torch.utils.data.dataloader.DataLoader object at 0x7fb151915550>\n"
     ]
    },
    {
     "name": "stderr",
     "output_type": "stream",
     "text": [
      "100%|██████████| 45/45 [00:00<00:00, 430.81it/s]\n",
      "100%|██████████| 5/5 [00:00<00:00, 1096.66it/s]\n",
      "100%|██████████| 45/45 [00:00<00:00, 428.68it/s]\n",
      "100%|██████████| 5/5 [00:00<00:00, 1101.16it/s]\n",
      "  0%|          | 0/45 [00:00<?, ?it/s]"
     ]
    },
    {
     "name": "stdout",
     "output_type": "stream",
     "text": [
      "Train Loss: 0.0139\n",
      "Val Loss: 0.0111\n",
      "Epoch 439 of 1000\n",
      "<torch.utils.data.dataloader.DataLoader object at 0x7fb151915550>\n",
      "Train Loss: 0.0139\n",
      "Val Loss: 0.0111\n",
      "Epoch 440 of 1000\n",
      "<torch.utils.data.dataloader.DataLoader object at 0x7fb151915550>\n"
     ]
    },
    {
     "name": "stderr",
     "output_type": "stream",
     "text": [
      "100%|██████████| 45/45 [00:00<00:00, 428.73it/s]\n",
      "100%|██████████| 5/5 [00:00<00:00, 1141.68it/s]\n",
      "100%|██████████| 45/45 [00:00<00:00, 425.38it/s]\n",
      "100%|██████████| 5/5 [00:00<00:00, 1155.33it/s]\n",
      "  0%|          | 0/45 [00:00<?, ?it/s]"
     ]
    },
    {
     "name": "stdout",
     "output_type": "stream",
     "text": [
      "Train Loss: 0.0139\n",
      "Val Loss: 0.0111\n",
      "Epoch 441 of 1000\n",
      "<torch.utils.data.dataloader.DataLoader object at 0x7fb151915550>\n",
      "Train Loss: 0.0139\n",
      "Val Loss: 0.0111\n",
      "Epoch 442 of 1000\n",
      "<torch.utils.data.dataloader.DataLoader object at 0x7fb151915550>\n"
     ]
    },
    {
     "name": "stderr",
     "output_type": "stream",
     "text": [
      "100%|██████████| 45/45 [00:00<00:00, 413.15it/s]\n",
      "100%|██████████| 5/5 [00:00<00:00, 1183.63it/s]\n",
      "100%|██████████| 45/45 [00:00<00:00, 425.75it/s]\n",
      "100%|██████████| 5/5 [00:00<00:00, 1098.33it/s]\n",
      "  0%|          | 0/45 [00:00<?, ?it/s]"
     ]
    },
    {
     "name": "stdout",
     "output_type": "stream",
     "text": [
      "Train Loss: 0.0139\n",
      "Val Loss: 0.0111\n",
      "Epoch 443 of 1000\n",
      "<torch.utils.data.dataloader.DataLoader object at 0x7fb151915550>\n",
      "Train Loss: 0.0139\n",
      "Val Loss: 0.0111\n",
      "Epoch 444 of 1000\n",
      "<torch.utils.data.dataloader.DataLoader object at 0x7fb151915550>\n"
     ]
    },
    {
     "name": "stderr",
     "output_type": "stream",
     "text": [
      "100%|██████████| 45/45 [00:00<00:00, 424.55it/s]\n",
      "100%|██████████| 5/5 [00:00<00:00, 1045.07it/s]\n",
      "100%|██████████| 45/45 [00:00<00:00, 418.74it/s]\n",
      "100%|██████████| 5/5 [00:00<00:00, 1005.59it/s]\n",
      "  0%|          | 0/45 [00:00<?, ?it/s]"
     ]
    },
    {
     "name": "stdout",
     "output_type": "stream",
     "text": [
      "Train Loss: 0.0139\n",
      "Val Loss: 0.0111\n",
      "Epoch 445 of 1000\n",
      "<torch.utils.data.dataloader.DataLoader object at 0x7fb151915550>\n",
      "Train Loss: 0.0139\n",
      "Val Loss: 0.0111\n",
      "Epoch 446 of 1000\n",
      "<torch.utils.data.dataloader.DataLoader object at 0x7fb151915550>\n"
     ]
    },
    {
     "name": "stderr",
     "output_type": "stream",
     "text": [
      "100%|██████████| 45/45 [00:00<00:00, 422.29it/s]\n",
      "100%|██████████| 5/5 [00:00<00:00, 1061.04it/s]\n",
      "100%|██████████| 45/45 [00:00<00:00, 420.60it/s]\n",
      "100%|██████████| 5/5 [00:00<00:00, 1176.52it/s]\n",
      "  0%|          | 0/45 [00:00<?, ?it/s]"
     ]
    },
    {
     "name": "stdout",
     "output_type": "stream",
     "text": [
      "Train Loss: 0.0139\n",
      "Val Loss: 0.0111\n",
      "Epoch 447 of 1000\n",
      "<torch.utils.data.dataloader.DataLoader object at 0x7fb151915550>\n",
      "Train Loss: 0.0139\n",
      "Val Loss: 0.0111\n",
      "Epoch 448 of 1000\n",
      "<torch.utils.data.dataloader.DataLoader object at 0x7fb151915550>\n"
     ]
    },
    {
     "name": "stderr",
     "output_type": "stream",
     "text": [
      "100%|██████████| 45/45 [00:00<00:00, 437.41it/s]\n",
      "100%|██████████| 5/5 [00:00<00:00, 1089.20it/s]\n",
      "100%|██████████| 45/45 [00:00<00:00, 421.76it/s]\n",
      "100%|██████████| 5/5 [00:00<00:00, 1177.18it/s]\n",
      "  0%|          | 0/45 [00:00<?, ?it/s]"
     ]
    },
    {
     "name": "stdout",
     "output_type": "stream",
     "text": [
      "Train Loss: 0.0139\n",
      "Val Loss: 0.0111\n",
      "Epoch 449 of 1000\n",
      "<torch.utils.data.dataloader.DataLoader object at 0x7fb151915550>\n",
      "Train Loss: 0.0139\n",
      "Val Loss: 0.0111\n",
      "Epoch 450 of 1000\n",
      "<torch.utils.data.dataloader.DataLoader object at 0x7fb151915550>\n"
     ]
    },
    {
     "name": "stderr",
     "output_type": "stream",
     "text": [
      "100%|██████████| 45/45 [00:00<00:00, 425.27it/s]\n",
      "100%|██████████| 5/5 [00:00<00:00, 1171.27it/s]\n",
      "100%|██████████| 45/45 [00:00<00:00, 420.78it/s]\n",
      "100%|██████████| 5/5 [00:00<00:00, 1133.72it/s]\n",
      "  0%|          | 0/45 [00:00<?, ?it/s]"
     ]
    },
    {
     "name": "stdout",
     "output_type": "stream",
     "text": [
      "Train Loss: 0.0139\n",
      "Val Loss: 0.0111\n",
      "Epoch 451 of 1000\n",
      "<torch.utils.data.dataloader.DataLoader object at 0x7fb151915550>\n",
      "Train Loss: 0.0139\n",
      "Val Loss: 0.0111\n",
      "Epoch 452 of 1000\n",
      "<torch.utils.data.dataloader.DataLoader object at 0x7fb151915550>\n"
     ]
    },
    {
     "name": "stderr",
     "output_type": "stream",
     "text": [
      "100%|██████████| 45/45 [00:00<00:00, 427.34it/s]\n",
      "100%|██████████| 5/5 [00:00<00:00, 1209.57it/s]\n",
      "100%|██████████| 45/45 [00:00<00:00, 427.86it/s]\n",
      "100%|██████████| 5/5 [00:00<00:00, 1093.98it/s]\n",
      "  0%|          | 0/45 [00:00<?, ?it/s]"
     ]
    },
    {
     "name": "stdout",
     "output_type": "stream",
     "text": [
      "Train Loss: 0.0139\n",
      "Val Loss: 0.0111\n",
      "Epoch 453 of 1000\n",
      "<torch.utils.data.dataloader.DataLoader object at 0x7fb151915550>\n",
      "Train Loss: 0.0139\n",
      "Val Loss: 0.0111\n",
      "Epoch 454 of 1000\n",
      "<torch.utils.data.dataloader.DataLoader object at 0x7fb151915550>\n"
     ]
    },
    {
     "name": "stderr",
     "output_type": "stream",
     "text": [
      "100%|██████████| 45/45 [00:00<00:00, 419.63it/s]\n",
      "100%|██████████| 5/5 [00:00<00:00, 1147.74it/s]\n",
      "100%|██████████| 45/45 [00:00<00:00, 421.43it/s]\n",
      "100%|██████████| 5/5 [00:00<00:00, 1127.38it/s]\n",
      "  0%|          | 0/45 [00:00<?, ?it/s]"
     ]
    },
    {
     "name": "stdout",
     "output_type": "stream",
     "text": [
      "Train Loss: 0.0139\n",
      "Val Loss: 0.0111\n",
      "Epoch 455 of 1000\n",
      "<torch.utils.data.dataloader.DataLoader object at 0x7fb151915550>\n",
      "Train Loss: 0.0139\n",
      "Val Loss: 0.0111\n",
      "Epoch 456 of 1000\n",
      "<torch.utils.data.dataloader.DataLoader object at 0x7fb151915550>\n"
     ]
    },
    {
     "name": "stderr",
     "output_type": "stream",
     "text": [
      "100%|██████████| 45/45 [00:00<00:00, 417.69it/s]\n",
      "100%|██████████| 5/5 [00:00<00:00, 1199.88it/s]\n",
      "100%|██████████| 45/45 [00:00<00:00, 425.22it/s]\n",
      "100%|██████████| 5/5 [00:00<00:00, 1211.39it/s]\n",
      "  0%|          | 0/45 [00:00<?, ?it/s]"
     ]
    },
    {
     "name": "stdout",
     "output_type": "stream",
     "text": [
      "Train Loss: 0.0139\n",
      "Val Loss: 0.0111\n",
      "Epoch 457 of 1000\n",
      "<torch.utils.data.dataloader.DataLoader object at 0x7fb151915550>\n",
      "Train Loss: 0.0139\n",
      "Val Loss: 0.0111\n",
      "Epoch 458 of 1000\n",
      "<torch.utils.data.dataloader.DataLoader object at 0x7fb151915550>\n"
     ]
    },
    {
     "name": "stderr",
     "output_type": "stream",
     "text": [
      "100%|██████████| 45/45 [00:00<00:00, 420.34it/s]\n",
      "100%|██████████| 5/5 [00:00<00:00, 1106.21it/s]\n",
      "100%|██████████| 45/45 [00:00<00:00, 417.88it/s]\n",
      "100%|██████████| 5/5 [00:00<00:00, 1173.49it/s]\n",
      "  0%|          | 0/45 [00:00<?, ?it/s]"
     ]
    },
    {
     "name": "stdout",
     "output_type": "stream",
     "text": [
      "Train Loss: 0.0139\n",
      "Val Loss: 0.0111\n",
      "Epoch 459 of 1000\n",
      "<torch.utils.data.dataloader.DataLoader object at 0x7fb151915550>\n",
      "Train Loss: 0.0139\n",
      "Val Loss: 0.0111\n",
      "Epoch 460 of 1000\n",
      "<torch.utils.data.dataloader.DataLoader object at 0x7fb151915550>\n"
     ]
    },
    {
     "name": "stderr",
     "output_type": "stream",
     "text": [
      "100%|██████████| 45/45 [00:00<00:00, 419.92it/s]\n",
      "100%|██████████| 5/5 [00:00<00:00, 1124.48it/s]\n",
      "100%|██████████| 45/45 [00:00<00:00, 416.98it/s]\n",
      "100%|██████████| 5/5 [00:00<00:00, 1179.50it/s]\n",
      "  0%|          | 0/45 [00:00<?, ?it/s]"
     ]
    },
    {
     "name": "stdout",
     "output_type": "stream",
     "text": [
      "Train Loss: 0.0139\n",
      "Val Loss: 0.0111\n",
      "Epoch 461 of 1000\n",
      "<torch.utils.data.dataloader.DataLoader object at 0x7fb151915550>\n",
      "Train Loss: 0.0139\n",
      "Val Loss: 0.0111\n",
      "Epoch 462 of 1000\n",
      "<torch.utils.data.dataloader.DataLoader object at 0x7fb151915550>\n"
     ]
    },
    {
     "name": "stderr",
     "output_type": "stream",
     "text": [
      "100%|██████████| 45/45 [00:00<00:00, 420.26it/s]\n",
      "100%|██████████| 5/5 [00:00<00:00, 1189.54it/s]\n",
      "100%|██████████| 45/45 [00:00<00:00, 424.44it/s]\n",
      "100%|██████████| 5/5 [00:00<00:00, 1173.82it/s]\n",
      "  0%|          | 0/45 [00:00<?, ?it/s]"
     ]
    },
    {
     "name": "stdout",
     "output_type": "stream",
     "text": [
      "Train Loss: 0.0139\n",
      "Val Loss: 0.0111\n",
      "Epoch 463 of 1000\n",
      "<torch.utils.data.dataloader.DataLoader object at 0x7fb151915550>\n",
      "Train Loss: 0.0139\n",
      "Val Loss: 0.0111\n",
      "Epoch 464 of 1000\n",
      "<torch.utils.data.dataloader.DataLoader object at 0x7fb151915550>\n"
     ]
    },
    {
     "name": "stderr",
     "output_type": "stream",
     "text": [
      "100%|██████████| 45/45 [00:00<00:00, 401.77it/s]\n",
      "100%|██████████| 5/5 [00:00<00:00, 1147.93it/s]\n",
      "100%|██████████| 45/45 [00:00<00:00, 417.96it/s]\n",
      "100%|██████████| 5/5 [00:00<00:00, 1112.08it/s]\n",
      "  0%|          | 0/45 [00:00<?, ?it/s]"
     ]
    },
    {
     "name": "stdout",
     "output_type": "stream",
     "text": [
      "Train Loss: 0.0139\n",
      "Val Loss: 0.0111\n",
      "Epoch 465 of 1000\n",
      "<torch.utils.data.dataloader.DataLoader object at 0x7fb151915550>\n",
      "Train Loss: 0.0139\n",
      "Val Loss: 0.0111\n",
      "Epoch 466 of 1000\n",
      "<torch.utils.data.dataloader.DataLoader object at 0x7fb151915550>\n"
     ]
    },
    {
     "name": "stderr",
     "output_type": "stream",
     "text": [
      "100%|██████████| 45/45 [00:00<00:00, 421.02it/s]\n",
      "100%|██████████| 5/5 [00:00<00:00, 1189.00it/s]\n",
      "100%|██████████| 45/45 [00:00<00:00, 415.94it/s]\n",
      "100%|██████████| 5/5 [00:00<00:00, 1229.21it/s]\n",
      "  0%|          | 0/45 [00:00<?, ?it/s]"
     ]
    },
    {
     "name": "stdout",
     "output_type": "stream",
     "text": [
      "Train Loss: 0.0139\n",
      "Val Loss: 0.0111\n",
      "Epoch 467 of 1000\n",
      "<torch.utils.data.dataloader.DataLoader object at 0x7fb151915550>\n",
      "Train Loss: 0.0139\n",
      "Val Loss: 0.0111\n",
      "Epoch 468 of 1000\n",
      "<torch.utils.data.dataloader.DataLoader object at 0x7fb151915550>\n"
     ]
    },
    {
     "name": "stderr",
     "output_type": "stream",
     "text": [
      "100%|██████████| 45/45 [00:00<00:00, 420.91it/s]\n",
      "100%|██████████| 5/5 [00:00<00:00, 1171.07it/s]\n",
      "100%|██████████| 45/45 [00:00<00:00, 425.00it/s]\n",
      "100%|██████████| 5/5 [00:00<00:00, 1027.91it/s]\n",
      "  0%|          | 0/45 [00:00<?, ?it/s]"
     ]
    },
    {
     "name": "stdout",
     "output_type": "stream",
     "text": [
      "Train Loss: 0.0139\n",
      "Val Loss: 0.0111\n",
      "Epoch 469 of 1000\n",
      "<torch.utils.data.dataloader.DataLoader object at 0x7fb151915550>\n",
      "Train Loss: 0.0139\n",
      "Val Loss: 0.0111\n",
      "Epoch 470 of 1000\n",
      "<torch.utils.data.dataloader.DataLoader object at 0x7fb151915550>\n"
     ]
    },
    {
     "name": "stderr",
     "output_type": "stream",
     "text": [
      "100%|██████████| 45/45 [00:00<00:00, 424.56it/s]\n",
      "100%|██████████| 5/5 [00:00<00:00, 1163.66it/s]\n",
      "100%|██████████| 45/45 [00:00<00:00, 414.32it/s]\n",
      "100%|██████████| 5/5 [00:00<00:00, 1089.15it/s]\n",
      "  0%|          | 0/45 [00:00<?, ?it/s]"
     ]
    },
    {
     "name": "stdout",
     "output_type": "stream",
     "text": [
      "Train Loss: 0.0139\n",
      "Val Loss: 0.0111\n",
      "Epoch 471 of 1000\n",
      "<torch.utils.data.dataloader.DataLoader object at 0x7fb151915550>\n",
      "Train Loss: 0.0139\n",
      "Val Loss: 0.0111\n",
      "Epoch 472 of 1000\n",
      "<torch.utils.data.dataloader.DataLoader object at 0x7fb151915550>\n"
     ]
    },
    {
     "name": "stderr",
     "output_type": "stream",
     "text": [
      "100%|██████████| 45/45 [00:00<00:00, 418.27it/s]\n",
      "100%|██████████| 5/5 [00:00<00:00, 1216.09it/s]\n",
      "100%|██████████| 45/45 [00:00<00:00, 423.94it/s]\n",
      "100%|██████████| 5/5 [00:00<00:00, 1228.92it/s]\n",
      "  0%|          | 0/45 [00:00<?, ?it/s]"
     ]
    },
    {
     "name": "stdout",
     "output_type": "stream",
     "text": [
      "Train Loss: 0.0139\n",
      "Val Loss: 0.0111\n",
      "Epoch 473 of 1000\n",
      "<torch.utils.data.dataloader.DataLoader object at 0x7fb151915550>\n",
      "Train Loss: 0.0139\n",
      "Val Loss: 0.0111\n",
      "Epoch 474 of 1000\n",
      "<torch.utils.data.dataloader.DataLoader object at 0x7fb151915550>\n"
     ]
    },
    {
     "name": "stderr",
     "output_type": "stream",
     "text": [
      "100%|██████████| 45/45 [00:00<00:00, 430.18it/s]\n",
      "100%|██████████| 5/5 [00:00<00:00, 1214.97it/s]\n",
      "100%|██████████| 45/45 [00:00<00:00, 434.30it/s]\n",
      "100%|██████████| 5/5 [00:00<00:00, 1241.29it/s]\n",
      "  0%|          | 0/45 [00:00<?, ?it/s]"
     ]
    },
    {
     "name": "stdout",
     "output_type": "stream",
     "text": [
      "Train Loss: 0.0139\n",
      "Val Loss: 0.0111\n",
      "Epoch 475 of 1000\n",
      "<torch.utils.data.dataloader.DataLoader object at 0x7fb151915550>\n",
      "Train Loss: 0.0139\n",
      "Val Loss: 0.0111\n",
      "Epoch 476 of 1000\n",
      "<torch.utils.data.dataloader.DataLoader object at 0x7fb151915550>\n"
     ]
    },
    {
     "name": "stderr",
     "output_type": "stream",
     "text": [
      "100%|██████████| 45/45 [00:00<00:00, 413.83it/s]\n",
      "100%|██████████| 5/5 [00:00<00:00, 1046.17it/s]\n",
      "100%|██████████| 45/45 [00:00<00:00, 409.73it/s]\n",
      "100%|██████████| 5/5 [00:00<00:00, 850.43it/s]\n",
      "  0%|          | 0/45 [00:00<?, ?it/s]"
     ]
    },
    {
     "name": "stdout",
     "output_type": "stream",
     "text": [
      "Train Loss: 0.0139\n",
      "Val Loss: 0.0111\n",
      "Epoch 477 of 1000\n",
      "<torch.utils.data.dataloader.DataLoader object at 0x7fb151915550>\n",
      "Train Loss: 0.0139\n",
      "Val Loss: 0.0111\n",
      "Epoch 478 of 1000\n",
      "<torch.utils.data.dataloader.DataLoader object at 0x7fb151915550>\n"
     ]
    },
    {
     "name": "stderr",
     "output_type": "stream",
     "text": [
      "100%|██████████| 45/45 [00:00<00:00, 426.06it/s]\n",
      "100%|██████████| 5/5 [00:00<00:00, 1170.42it/s]\n",
      "100%|██████████| 45/45 [00:00<00:00, 423.92it/s]\n",
      "100%|██████████| 5/5 [00:00<00:00, 498.34it/s]\n",
      "  0%|          | 0/45 [00:00<?, ?it/s]"
     ]
    },
    {
     "name": "stdout",
     "output_type": "stream",
     "text": [
      "Train Loss: 0.0139\n",
      "Val Loss: 0.0111\n",
      "Epoch 479 of 1000\n",
      "<torch.utils.data.dataloader.DataLoader object at 0x7fb151915550>\n",
      "Train Loss: 0.0139\n",
      "Val Loss: 0.0111\n",
      "Epoch 480 of 1000\n",
      "<torch.utils.data.dataloader.DataLoader object at 0x7fb151915550>\n"
     ]
    },
    {
     "name": "stderr",
     "output_type": "stream",
     "text": [
      "100%|██████████| 45/45 [00:00<00:00, 412.45it/s]\n",
      "100%|██████████| 5/5 [00:00<00:00, 1134.21it/s]\n",
      "100%|██████████| 45/45 [00:00<00:00, 417.29it/s]\n",
      "100%|██████████| 5/5 [00:00<00:00, 1122.31it/s]\n",
      "  0%|          | 0/45 [00:00<?, ?it/s]"
     ]
    },
    {
     "name": "stdout",
     "output_type": "stream",
     "text": [
      "Train Loss: 0.0139\n",
      "Val Loss: 0.0111\n",
      "Epoch 481 of 1000\n",
      "<torch.utils.data.dataloader.DataLoader object at 0x7fb151915550>\n",
      "Train Loss: 0.0139\n",
      "Val Loss: 0.0111\n",
      "Epoch 482 of 1000\n",
      "<torch.utils.data.dataloader.DataLoader object at 0x7fb151915550>\n"
     ]
    },
    {
     "name": "stderr",
     "output_type": "stream",
     "text": [
      "100%|██████████| 45/45 [00:00<00:00, 423.29it/s]\n",
      "100%|██████████| 5/5 [00:00<00:00, 1047.16it/s]\n",
      "100%|██████████| 45/45 [00:00<00:00, 424.31it/s]\n",
      "100%|██████████| 5/5 [00:00<00:00, 1072.22it/s]\n",
      "  0%|          | 0/45 [00:00<?, ?it/s]"
     ]
    },
    {
     "name": "stdout",
     "output_type": "stream",
     "text": [
      "Train Loss: 0.0139\n",
      "Val Loss: 0.0111\n",
      "Epoch 483 of 1000\n",
      "<torch.utils.data.dataloader.DataLoader object at 0x7fb151915550>\n",
      "Train Loss: 0.0139\n",
      "Val Loss: 0.0111\n",
      "Epoch 484 of 1000\n",
      "<torch.utils.data.dataloader.DataLoader object at 0x7fb151915550>\n"
     ]
    },
    {
     "name": "stderr",
     "output_type": "stream",
     "text": [
      "100%|██████████| 45/45 [00:00<00:00, 423.84it/s]\n",
      "100%|██████████| 5/5 [00:00<00:00, 886.48it/s]\n",
      "100%|██████████| 45/45 [00:00<00:00, 432.89it/s]\n",
      "100%|██████████| 5/5 [00:00<00:00, 1206.44it/s]\n",
      "  0%|          | 0/45 [00:00<?, ?it/s]"
     ]
    },
    {
     "name": "stdout",
     "output_type": "stream",
     "text": [
      "Train Loss: 0.0139\n",
      "Val Loss: 0.0111\n",
      "Epoch 485 of 1000\n",
      "<torch.utils.data.dataloader.DataLoader object at 0x7fb151915550>\n",
      "Train Loss: 0.0139\n",
      "Val Loss: 0.0111\n",
      "Epoch 486 of 1000\n",
      "<torch.utils.data.dataloader.DataLoader object at 0x7fb151915550>\n"
     ]
    },
    {
     "name": "stderr",
     "output_type": "stream",
     "text": [
      "100%|██████████| 45/45 [00:00<00:00, 425.24it/s]\n",
      "100%|██████████| 5/5 [00:00<00:00, 974.74it/s]\n",
      "100%|██████████| 45/45 [00:00<00:00, 433.93it/s]\n",
      "100%|██████████| 5/5 [00:00<00:00, 1109.43it/s]\n",
      "  0%|          | 0/45 [00:00<?, ?it/s]"
     ]
    },
    {
     "name": "stdout",
     "output_type": "stream",
     "text": [
      "Train Loss: 0.0139\n",
      "Val Loss: 0.0111\n",
      "Epoch 487 of 1000\n",
      "<torch.utils.data.dataloader.DataLoader object at 0x7fb151915550>\n",
      "Train Loss: 0.0139\n",
      "Val Loss: 0.0111\n",
      "Epoch 488 of 1000\n",
      "<torch.utils.data.dataloader.DataLoader object at 0x7fb151915550>\n"
     ]
    },
    {
     "name": "stderr",
     "output_type": "stream",
     "text": [
      "100%|██████████| 45/45 [00:00<00:00, 417.32it/s]\n",
      "100%|██████████| 5/5 [00:00<00:00, 1154.76it/s]\n",
      "100%|██████████| 45/45 [00:00<00:00, 424.62it/s]\n",
      "100%|██████████| 5/5 [00:00<00:00, 1214.33it/s]\n",
      "  0%|          | 0/45 [00:00<?, ?it/s]"
     ]
    },
    {
     "name": "stdout",
     "output_type": "stream",
     "text": [
      "Train Loss: 0.0139\n",
      "Val Loss: 0.0111\n",
      "Epoch 489 of 1000\n",
      "<torch.utils.data.dataloader.DataLoader object at 0x7fb151915550>\n",
      "Train Loss: 0.0139\n",
      "Val Loss: 0.0111\n",
      "Epoch 490 of 1000\n",
      "<torch.utils.data.dataloader.DataLoader object at 0x7fb151915550>\n"
     ]
    },
    {
     "name": "stderr",
     "output_type": "stream",
     "text": [
      "100%|██████████| 45/45 [00:00<00:00, 398.19it/s]\n",
      "100%|██████████| 5/5 [00:00<00:00, 1060.45it/s]\n",
      "100%|██████████| 45/45 [00:00<00:00, 425.02it/s]\n",
      "100%|██████████| 5/5 [00:00<00:00, 1159.03it/s]\n",
      "  0%|          | 0/45 [00:00<?, ?it/s]"
     ]
    },
    {
     "name": "stdout",
     "output_type": "stream",
     "text": [
      "Train Loss: 0.0139\n",
      "Val Loss: 0.0111\n",
      "Epoch 491 of 1000\n",
      "<torch.utils.data.dataloader.DataLoader object at 0x7fb151915550>\n",
      "Train Loss: 0.0139\n",
      "Val Loss: 0.0111\n",
      "Epoch 492 of 1000\n",
      "<torch.utils.data.dataloader.DataLoader object at 0x7fb151915550>\n"
     ]
    },
    {
     "name": "stderr",
     "output_type": "stream",
     "text": [
      "100%|██████████| 45/45 [00:00<00:00, 411.47it/s]\n",
      "100%|██████████| 5/5 [00:00<00:00, 1188.19it/s]\n",
      "100%|██████████| 45/45 [00:00<00:00, 423.82it/s]\n",
      "100%|██████████| 5/5 [00:00<00:00, 1200.71it/s]\n",
      "  0%|          | 0/45 [00:00<?, ?it/s]"
     ]
    },
    {
     "name": "stdout",
     "output_type": "stream",
     "text": [
      "Train Loss: 0.0139\n",
      "Val Loss: 0.0111\n",
      "Epoch 493 of 1000\n",
      "<torch.utils.data.dataloader.DataLoader object at 0x7fb151915550>\n",
      "Train Loss: 0.0139\n",
      "Val Loss: 0.0111\n",
      "Epoch 494 of 1000\n",
      "<torch.utils.data.dataloader.DataLoader object at 0x7fb151915550>\n"
     ]
    },
    {
     "name": "stderr",
     "output_type": "stream",
     "text": [
      "100%|██████████| 45/45 [00:00<00:00, 405.22it/s]\n",
      "100%|██████████| 5/5 [00:00<00:00, 1132.49it/s]\n",
      "100%|██████████| 45/45 [00:00<00:00, 416.96it/s]\n",
      "100%|██████████| 5/5 [00:00<00:00, 1124.42it/s]\n",
      "  0%|          | 0/45 [00:00<?, ?it/s]"
     ]
    },
    {
     "name": "stdout",
     "output_type": "stream",
     "text": [
      "Train Loss: 0.0139\n",
      "Val Loss: 0.0111\n",
      "Epoch 495 of 1000\n",
      "<torch.utils.data.dataloader.DataLoader object at 0x7fb151915550>\n",
      "Train Loss: 0.0139\n",
      "Val Loss: 0.0111\n",
      "Epoch 496 of 1000\n",
      "<torch.utils.data.dataloader.DataLoader object at 0x7fb151915550>\n"
     ]
    },
    {
     "name": "stderr",
     "output_type": "stream",
     "text": [
      "100%|██████████| 45/45 [00:00<00:00, 413.73it/s]\n",
      "100%|██████████| 5/5 [00:00<00:00, 1103.30it/s]\n",
      "100%|██████████| 45/45 [00:00<00:00, 424.30it/s]\n",
      "100%|██████████| 5/5 [00:00<00:00, 1192.51it/s]\n",
      "  0%|          | 0/45 [00:00<?, ?it/s]"
     ]
    },
    {
     "name": "stdout",
     "output_type": "stream",
     "text": [
      "Train Loss: 0.0139\n",
      "Val Loss: 0.0111\n",
      "Epoch 497 of 1000\n",
      "<torch.utils.data.dataloader.DataLoader object at 0x7fb151915550>\n",
      "Train Loss: 0.0139\n",
      "Val Loss: 0.0111\n",
      "Epoch 498 of 1000\n",
      "<torch.utils.data.dataloader.DataLoader object at 0x7fb151915550>\n"
     ]
    },
    {
     "name": "stderr",
     "output_type": "stream",
     "text": [
      "100%|██████████| 45/45 [00:00<00:00, 420.15it/s]\n",
      "100%|██████████| 5/5 [00:00<00:00, 1150.26it/s]\n",
      "100%|██████████| 45/45 [00:00<00:00, 424.32it/s]\n",
      "100%|██████████| 5/5 [00:00<00:00, 1092.44it/s]\n",
      "  0%|          | 0/45 [00:00<?, ?it/s]"
     ]
    },
    {
     "name": "stdout",
     "output_type": "stream",
     "text": [
      "Train Loss: 0.0139\n",
      "Val Loss: 0.0111\n",
      "Epoch 499 of 1000\n",
      "<torch.utils.data.dataloader.DataLoader object at 0x7fb151915550>\n",
      "Train Loss: 0.0139\n",
      "Val Loss: 0.0111\n",
      "Epoch 500 of 1000\n",
      "<torch.utils.data.dataloader.DataLoader object at 0x7fb151915550>\n"
     ]
    },
    {
     "name": "stderr",
     "output_type": "stream",
     "text": [
      "100%|██████████| 45/45 [00:00<00:00, 420.24it/s]\n",
      "100%|██████████| 5/5 [00:00<00:00, 1149.19it/s]\n",
      "100%|██████████| 45/45 [00:00<00:00, 423.20it/s]\n",
      "100%|██████████| 5/5 [00:00<00:00, 1168.39it/s]\n",
      "  0%|          | 0/45 [00:00<?, ?it/s]"
     ]
    },
    {
     "name": "stdout",
     "output_type": "stream",
     "text": [
      "Train Loss: 0.0139\n",
      "Val Loss: 0.0111\n",
      "Epoch 501 of 1000\n",
      "<torch.utils.data.dataloader.DataLoader object at 0x7fb151915550>\n",
      "Train Loss: 0.0139\n",
      "Val Loss: 0.0111\n",
      "Epoch 502 of 1000\n",
      "<torch.utils.data.dataloader.DataLoader object at 0x7fb151915550>\n"
     ]
    },
    {
     "name": "stderr",
     "output_type": "stream",
     "text": [
      "100%|██████████| 45/45 [00:00<00:00, 406.44it/s]\n",
      "100%|██████████| 5/5 [00:00<00:00, 1070.90it/s]\n",
      "100%|██████████| 45/45 [00:00<00:00, 412.39it/s]\n",
      "100%|██████████| 5/5 [00:00<00:00, 1130.97it/s]\n",
      "  0%|          | 0/45 [00:00<?, ?it/s]"
     ]
    },
    {
     "name": "stdout",
     "output_type": "stream",
     "text": [
      "Train Loss: 0.0139\n",
      "Val Loss: 0.0111\n",
      "Epoch 503 of 1000\n",
      "<torch.utils.data.dataloader.DataLoader object at 0x7fb151915550>\n",
      "Train Loss: 0.0139\n",
      "Val Loss: 0.0111\n",
      "Epoch 504 of 1000\n",
      "<torch.utils.data.dataloader.DataLoader object at 0x7fb151915550>\n"
     ]
    },
    {
     "name": "stderr",
     "output_type": "stream",
     "text": [
      "100%|██████████| 45/45 [00:00<00:00, 402.49it/s]\n",
      "100%|██████████| 5/5 [00:00<00:00, 1174.81it/s]\n",
      "100%|██████████| 45/45 [00:00<00:00, 401.38it/s]\n",
      "100%|██████████| 5/5 [00:00<00:00, 1104.17it/s]\n",
      "  0%|          | 0/45 [00:00<?, ?it/s]"
     ]
    },
    {
     "name": "stdout",
     "output_type": "stream",
     "text": [
      "Train Loss: 0.0139\n",
      "Val Loss: 0.0111\n",
      "Epoch 505 of 1000\n",
      "<torch.utils.data.dataloader.DataLoader object at 0x7fb151915550>\n",
      "Train Loss: 0.0139\n",
      "Val Loss: 0.0111\n",
      "Epoch 506 of 1000\n",
      "<torch.utils.data.dataloader.DataLoader object at 0x7fb151915550>\n"
     ]
    },
    {
     "name": "stderr",
     "output_type": "stream",
     "text": [
      "100%|██████████| 45/45 [00:00<00:00, 420.46it/s]\n",
      "100%|██████████| 5/5 [00:00<00:00, 1146.61it/s]\n",
      "100%|██████████| 45/45 [00:00<00:00, 422.59it/s]\n",
      "100%|██████████| 5/5 [00:00<00:00, 1138.46it/s]\n",
      "  0%|          | 0/45 [00:00<?, ?it/s]"
     ]
    },
    {
     "name": "stdout",
     "output_type": "stream",
     "text": [
      "Train Loss: 0.0139\n",
      "Val Loss: 0.0111\n",
      "Epoch 507 of 1000\n",
      "<torch.utils.data.dataloader.DataLoader object at 0x7fb151915550>\n",
      "Train Loss: 0.0139\n",
      "Val Loss: 0.0111\n",
      "Epoch 508 of 1000\n",
      "<torch.utils.data.dataloader.DataLoader object at 0x7fb151915550>\n"
     ]
    },
    {
     "name": "stderr",
     "output_type": "stream",
     "text": [
      "100%|██████████| 45/45 [00:00<00:00, 419.21it/s]\n",
      "100%|██████████| 5/5 [00:00<00:00, 376.90it/s]\n",
      "100%|██████████| 45/45 [00:00<00:00, 404.90it/s]\n",
      "100%|██████████| 5/5 [00:00<00:00, 1178.64it/s]\n",
      "  0%|          | 0/45 [00:00<?, ?it/s]"
     ]
    },
    {
     "name": "stdout",
     "output_type": "stream",
     "text": [
      "Train Loss: 0.0139\n",
      "Val Loss: 0.0111\n",
      "Epoch 509 of 1000\n",
      "<torch.utils.data.dataloader.DataLoader object at 0x7fb151915550>\n",
      "Train Loss: 0.0139\n",
      "Val Loss: 0.0111\n",
      "Epoch 510 of 1000\n",
      "<torch.utils.data.dataloader.DataLoader object at 0x7fb151915550>\n"
     ]
    },
    {
     "name": "stderr",
     "output_type": "stream",
     "text": [
      "100%|██████████| 45/45 [00:00<00:00, 423.45it/s]\n",
      "100%|██████████| 5/5 [00:00<00:00, 1161.34it/s]\n",
      "100%|██████████| 45/45 [00:00<00:00, 418.61it/s]\n",
      "100%|██████████| 5/5 [00:00<00:00, 1130.78it/s]\n",
      "  0%|          | 0/45 [00:00<?, ?it/s]"
     ]
    },
    {
     "name": "stdout",
     "output_type": "stream",
     "text": [
      "Train Loss: 0.0139\n",
      "Val Loss: 0.0111\n",
      "Epoch 511 of 1000\n",
      "<torch.utils.data.dataloader.DataLoader object at 0x7fb151915550>\n",
      "Train Loss: 0.0139\n",
      "Val Loss: 0.0111\n",
      "Epoch 512 of 1000\n",
      "<torch.utils.data.dataloader.DataLoader object at 0x7fb151915550>\n"
     ]
    },
    {
     "name": "stderr",
     "output_type": "stream",
     "text": [
      "100%|██████████| 45/45 [00:00<00:00, 407.92it/s]\n",
      "100%|██████████| 5/5 [00:00<00:00, 1190.01it/s]\n",
      "100%|██████████| 45/45 [00:00<00:00, 429.31it/s]\n",
      "100%|██████████| 5/5 [00:00<00:00, 1224.40it/s]\n",
      "  0%|          | 0/45 [00:00<?, ?it/s]"
     ]
    },
    {
     "name": "stdout",
     "output_type": "stream",
     "text": [
      "Train Loss: 0.0139\n",
      "Val Loss: 0.0111\n",
      "Epoch 513 of 1000\n",
      "<torch.utils.data.dataloader.DataLoader object at 0x7fb151915550>\n",
      "Train Loss: 0.0139\n",
      "Val Loss: 0.0111\n",
      "Epoch 514 of 1000\n",
      "<torch.utils.data.dataloader.DataLoader object at 0x7fb151915550>\n"
     ]
    },
    {
     "name": "stderr",
     "output_type": "stream",
     "text": [
      "100%|██████████| 45/45 [00:00<00:00, 423.19it/s]\n",
      "100%|██████████| 5/5 [00:00<00:00, 1223.54it/s]\n",
      "100%|██████████| 45/45 [00:00<00:00, 391.63it/s]\n",
      "100%|██████████| 5/5 [00:00<00:00, 1025.55it/s]\n",
      "  0%|          | 0/45 [00:00<?, ?it/s]"
     ]
    },
    {
     "name": "stdout",
     "output_type": "stream",
     "text": [
      "Train Loss: 0.0139\n",
      "Val Loss: 0.0111\n",
      "Epoch 515 of 1000\n",
      "<torch.utils.data.dataloader.DataLoader object at 0x7fb151915550>\n",
      "Train Loss: 0.0139\n",
      "Val Loss: 0.0111\n",
      "Epoch 516 of 1000\n",
      "<torch.utils.data.dataloader.DataLoader object at 0x7fb151915550>\n"
     ]
    },
    {
     "name": "stderr",
     "output_type": "stream",
     "text": [
      "100%|██████████| 45/45 [00:00<00:00, 409.50it/s]\n",
      "100%|██████████| 5/5 [00:00<00:00, 1187.99it/s]\n",
      "100%|██████████| 45/45 [00:00<00:00, 398.45it/s]\n",
      "100%|██████████| 5/5 [00:00<00:00, 1139.63it/s]\n",
      "  0%|          | 0/45 [00:00<?, ?it/s]"
     ]
    },
    {
     "name": "stdout",
     "output_type": "stream",
     "text": [
      "Train Loss: 0.0139\n",
      "Val Loss: 0.0111\n",
      "Epoch 517 of 1000\n",
      "<torch.utils.data.dataloader.DataLoader object at 0x7fb151915550>\n",
      "Train Loss: 0.0139\n",
      "Val Loss: 0.0111\n",
      "Epoch 518 of 1000\n",
      "<torch.utils.data.dataloader.DataLoader object at 0x7fb151915550>\n"
     ]
    },
    {
     "name": "stderr",
     "output_type": "stream",
     "text": [
      "100%|██████████| 45/45 [00:00<00:00, 402.13it/s]\n",
      "100%|██████████| 5/5 [00:00<00:00, 1087.57it/s]\n",
      "100%|██████████| 45/45 [00:00<00:00, 410.87it/s]\n",
      "100%|██████████| 5/5 [00:00<00:00, 1197.07it/s]\n",
      "  0%|          | 0/45 [00:00<?, ?it/s]"
     ]
    },
    {
     "name": "stdout",
     "output_type": "stream",
     "text": [
      "Train Loss: 0.0139\n",
      "Val Loss: 0.0111\n",
      "Epoch 519 of 1000\n",
      "<torch.utils.data.dataloader.DataLoader object at 0x7fb151915550>\n",
      "Train Loss: 0.0139\n",
      "Val Loss: 0.0111\n",
      "Epoch 520 of 1000\n",
      "<torch.utils.data.dataloader.DataLoader object at 0x7fb151915550>\n"
     ]
    },
    {
     "name": "stderr",
     "output_type": "stream",
     "text": [
      "100%|██████████| 45/45 [00:00<00:00, 391.38it/s]\n",
      "100%|██████████| 5/5 [00:00<00:00, 1130.48it/s]\n",
      "100%|██████████| 45/45 [00:00<00:00, 378.08it/s]\n",
      "100%|██████████| 5/5 [00:00<00:00, 1181.49it/s]\n",
      "  0%|          | 0/45 [00:00<?, ?it/s]"
     ]
    },
    {
     "name": "stdout",
     "output_type": "stream",
     "text": [
      "Train Loss: 0.0139\n",
      "Val Loss: 0.0111\n",
      "Epoch 521 of 1000\n",
      "<torch.utils.data.dataloader.DataLoader object at 0x7fb151915550>\n",
      "Train Loss: 0.0139\n",
      "Val Loss: 0.0111\n",
      "Epoch 522 of 1000\n",
      "<torch.utils.data.dataloader.DataLoader object at 0x7fb151915550>\n"
     ]
    },
    {
     "name": "stderr",
     "output_type": "stream",
     "text": [
      "100%|██████████| 45/45 [00:00<00:00, 426.79it/s]\n",
      "100%|██████████| 5/5 [00:00<00:00, 1216.16it/s]\n",
      "100%|██████████| 45/45 [00:00<00:00, 430.36it/s]\n",
      "100%|██████████| 5/5 [00:00<00:00, 1099.89it/s]\n",
      "  0%|          | 0/45 [00:00<?, ?it/s]"
     ]
    },
    {
     "name": "stdout",
     "output_type": "stream",
     "text": [
      "Train Loss: 0.0139\n",
      "Val Loss: 0.0111\n",
      "Epoch 523 of 1000\n",
      "<torch.utils.data.dataloader.DataLoader object at 0x7fb151915550>\n",
      "Train Loss: 0.0139\n",
      "Val Loss: 0.0111\n",
      "Epoch 524 of 1000\n",
      "<torch.utils.data.dataloader.DataLoader object at 0x7fb151915550>\n"
     ]
    },
    {
     "name": "stderr",
     "output_type": "stream",
     "text": [
      "100%|██████████| 45/45 [00:00<00:00, 427.00it/s]\n",
      "100%|██████████| 5/5 [00:00<00:00, 1178.57it/s]\n",
      "100%|██████████| 45/45 [00:00<00:00, 427.32it/s]\n",
      "100%|██████████| 5/5 [00:00<00:00, 968.57it/s]\n",
      "  0%|          | 0/45 [00:00<?, ?it/s]"
     ]
    },
    {
     "name": "stdout",
     "output_type": "stream",
     "text": [
      "Train Loss: 0.0139\n",
      "Val Loss: 0.0111\n",
      "Epoch 525 of 1000\n",
      "<torch.utils.data.dataloader.DataLoader object at 0x7fb151915550>\n",
      "Train Loss: 0.0139\n",
      "Val Loss: 0.0111\n",
      "Epoch 526 of 1000\n",
      "<torch.utils.data.dataloader.DataLoader object at 0x7fb151915550>\n"
     ]
    },
    {
     "name": "stderr",
     "output_type": "stream",
     "text": [
      "100%|██████████| 45/45 [00:00<00:00, 419.09it/s]\n",
      "100%|██████████| 5/5 [00:00<00:00, 1134.76it/s]\n",
      "100%|██████████| 45/45 [00:00<00:00, 419.38it/s]\n",
      "100%|██████████| 5/5 [00:00<00:00, 1192.17it/s]\n",
      "  0%|          | 0/45 [00:00<?, ?it/s]"
     ]
    },
    {
     "name": "stdout",
     "output_type": "stream",
     "text": [
      "Train Loss: 0.0139\n",
      "Val Loss: 0.0111\n",
      "Epoch 527 of 1000\n",
      "<torch.utils.data.dataloader.DataLoader object at 0x7fb151915550>\n",
      "Train Loss: 0.0139\n",
      "Val Loss: 0.0111\n",
      "Epoch 528 of 1000\n",
      "<torch.utils.data.dataloader.DataLoader object at 0x7fb151915550>\n"
     ]
    },
    {
     "name": "stderr",
     "output_type": "stream",
     "text": [
      "100%|██████████| 45/45 [00:00<00:00, 414.49it/s]\n",
      "100%|██████████| 5/5 [00:00<00:00, 1140.87it/s]\n",
      "100%|██████████| 45/45 [00:00<00:00, 406.36it/s]\n",
      "100%|██████████| 5/5 [00:00<00:00, 1213.21it/s]\n",
      "  0%|          | 0/45 [00:00<?, ?it/s]"
     ]
    },
    {
     "name": "stdout",
     "output_type": "stream",
     "text": [
      "Train Loss: 0.0139\n",
      "Val Loss: 0.0111\n",
      "Epoch 529 of 1000\n",
      "<torch.utils.data.dataloader.DataLoader object at 0x7fb151915550>\n",
      "Train Loss: 0.0139\n",
      "Val Loss: 0.0111\n",
      "Epoch 530 of 1000\n",
      "<torch.utils.data.dataloader.DataLoader object at 0x7fb151915550>\n"
     ]
    },
    {
     "name": "stderr",
     "output_type": "stream",
     "text": [
      "100%|██████████| 45/45 [00:00<00:00, 427.46it/s]\n",
      "100%|██████████| 5/5 [00:00<00:00, 1094.95it/s]\n",
      "100%|██████████| 45/45 [00:00<00:00, 421.57it/s]\n",
      "100%|██████████| 5/5 [00:00<00:00, 1085.15it/s]\n",
      "  0%|          | 0/45 [00:00<?, ?it/s]"
     ]
    },
    {
     "name": "stdout",
     "output_type": "stream",
     "text": [
      "Train Loss: 0.0139\n",
      "Val Loss: 0.0111\n",
      "Epoch 531 of 1000\n",
      "<torch.utils.data.dataloader.DataLoader object at 0x7fb151915550>\n",
      "Train Loss: 0.0139\n",
      "Val Loss: 0.0111\n",
      "Epoch 532 of 1000\n",
      "<torch.utils.data.dataloader.DataLoader object at 0x7fb151915550>\n"
     ]
    },
    {
     "name": "stderr",
     "output_type": "stream",
     "text": [
      "100%|██████████| 45/45 [00:00<00:00, 421.65it/s]\n",
      "100%|██████████| 5/5 [00:00<00:00, 1128.53it/s]\n",
      "100%|██████████| 45/45 [00:00<00:00, 415.81it/s]\n",
      "100%|██████████| 5/5 [00:00<00:00, 1074.31it/s]\n",
      "  0%|          | 0/45 [00:00<?, ?it/s]"
     ]
    },
    {
     "name": "stdout",
     "output_type": "stream",
     "text": [
      "Train Loss: 0.0139\n",
      "Val Loss: 0.0111\n",
      "Epoch 533 of 1000\n",
      "<torch.utils.data.dataloader.DataLoader object at 0x7fb151915550>\n",
      "Train Loss: 0.0139\n",
      "Val Loss: 0.0111\n",
      "Epoch 534 of 1000\n",
      "<torch.utils.data.dataloader.DataLoader object at 0x7fb151915550>\n"
     ]
    },
    {
     "name": "stderr",
     "output_type": "stream",
     "text": [
      "100%|██████████| 45/45 [00:00<00:00, 431.63it/s]\n",
      "100%|██████████| 5/5 [00:00<00:00, 1216.37it/s]\n",
      "100%|██████████| 45/45 [00:00<00:00, 433.35it/s]\n",
      "100%|██████████| 5/5 [00:00<00:00, 1114.44it/s]\n",
      "  0%|          | 0/45 [00:00<?, ?it/s]"
     ]
    },
    {
     "name": "stdout",
     "output_type": "stream",
     "text": [
      "Train Loss: 0.0139\n",
      "Val Loss: 0.0111\n",
      "Epoch 535 of 1000\n",
      "<torch.utils.data.dataloader.DataLoader object at 0x7fb151915550>\n",
      "Train Loss: 0.0139\n",
      "Val Loss: 0.0111\n",
      "Epoch 536 of 1000\n",
      "<torch.utils.data.dataloader.DataLoader object at 0x7fb151915550>\n"
     ]
    },
    {
     "name": "stderr",
     "output_type": "stream",
     "text": [
      "100%|██████████| 45/45 [00:00<00:00, 428.99it/s]\n",
      "100%|██████████| 5/5 [00:00<00:00, 1204.22it/s]\n",
      "100%|██████████| 45/45 [00:00<00:00, 437.27it/s]\n",
      "100%|██████████| 5/5 [00:00<00:00, 1088.30it/s]\n",
      "  0%|          | 0/45 [00:00<?, ?it/s]"
     ]
    },
    {
     "name": "stdout",
     "output_type": "stream",
     "text": [
      "Train Loss: 0.0139\n",
      "Val Loss: 0.0111\n",
      "Epoch 537 of 1000\n",
      "<torch.utils.data.dataloader.DataLoader object at 0x7fb151915550>\n",
      "Train Loss: 0.0139\n",
      "Val Loss: 0.0111\n",
      "Epoch 538 of 1000\n",
      "<torch.utils.data.dataloader.DataLoader object at 0x7fb151915550>\n"
     ]
    },
    {
     "name": "stderr",
     "output_type": "stream",
     "text": [
      "100%|██████████| 45/45 [00:00<00:00, 420.73it/s]\n",
      "100%|██████████| 5/5 [00:00<00:00, 1178.37it/s]\n",
      "100%|██████████| 45/45 [00:00<00:00, 420.93it/s]\n",
      "100%|██████████| 5/5 [00:00<00:00, 1175.40it/s]\n",
      "  0%|          | 0/45 [00:00<?, ?it/s]"
     ]
    },
    {
     "name": "stdout",
     "output_type": "stream",
     "text": [
      "Train Loss: 0.0139\n",
      "Val Loss: 0.0111\n",
      "Epoch 539 of 1000\n",
      "<torch.utils.data.dataloader.DataLoader object at 0x7fb151915550>\n",
      "Train Loss: 0.0139\n",
      "Val Loss: 0.0111\n",
      "Epoch 540 of 1000\n",
      "<torch.utils.data.dataloader.DataLoader object at 0x7fb151915550>\n"
     ]
    },
    {
     "name": "stderr",
     "output_type": "stream",
     "text": [
      "100%|██████████| 45/45 [00:00<00:00, 417.52it/s]\n",
      "100%|██████████| 5/5 [00:00<00:00, 1072.71it/s]\n",
      "100%|██████████| 45/45 [00:00<00:00, 431.54it/s]\n",
      "100%|██████████| 5/5 [00:00<00:00, 1150.13it/s]\n",
      "  0%|          | 0/45 [00:00<?, ?it/s]"
     ]
    },
    {
     "name": "stdout",
     "output_type": "stream",
     "text": [
      "Train Loss: 0.0139\n",
      "Val Loss: 0.0111\n",
      "Epoch 541 of 1000\n",
      "<torch.utils.data.dataloader.DataLoader object at 0x7fb151915550>\n",
      "Train Loss: 0.0139\n",
      "Val Loss: 0.0111\n",
      "Epoch 542 of 1000\n",
      "<torch.utils.data.dataloader.DataLoader object at 0x7fb151915550>\n"
     ]
    },
    {
     "name": "stderr",
     "output_type": "stream",
     "text": [
      "100%|██████████| 45/45 [00:00<00:00, 417.62it/s]\n",
      "100%|██████████| 5/5 [00:00<00:00, 1056.93it/s]\n",
      "100%|██████████| 45/45 [00:00<00:00, 438.51it/s]\n",
      "100%|██████████| 5/5 [00:00<00:00, 1197.00it/s]\n",
      "  0%|          | 0/45 [00:00<?, ?it/s]"
     ]
    },
    {
     "name": "stdout",
     "output_type": "stream",
     "text": [
      "Train Loss: 0.0139\n",
      "Val Loss: 0.0111\n",
      "Epoch 543 of 1000\n",
      "<torch.utils.data.dataloader.DataLoader object at 0x7fb151915550>\n",
      "Train Loss: 0.0139\n",
      "Val Loss: 0.0111\n",
      "Epoch 544 of 1000\n",
      "<torch.utils.data.dataloader.DataLoader object at 0x7fb151915550>\n"
     ]
    },
    {
     "name": "stderr",
     "output_type": "stream",
     "text": [
      "100%|██████████| 45/45 [00:00<00:00, 411.24it/s]\n",
      "100%|██████████| 5/5 [00:00<00:00, 1163.60it/s]\n",
      "100%|██████████| 45/45 [00:00<00:00, 410.55it/s]\n",
      "100%|██████████| 5/5 [00:00<00:00, 1118.78it/s]\n",
      "  0%|          | 0/45 [00:00<?, ?it/s]"
     ]
    },
    {
     "name": "stdout",
     "output_type": "stream",
     "text": [
      "Train Loss: 0.0139\n",
      "Val Loss: 0.0111\n",
      "Epoch 545 of 1000\n",
      "<torch.utils.data.dataloader.DataLoader object at 0x7fb151915550>\n",
      "Train Loss: 0.0139\n",
      "Val Loss: 0.0111\n",
      "Epoch 546 of 1000\n",
      "<torch.utils.data.dataloader.DataLoader object at 0x7fb151915550>\n"
     ]
    },
    {
     "name": "stderr",
     "output_type": "stream",
     "text": [
      "100%|██████████| 45/45 [00:00<00:00, 434.54it/s]\n",
      "100%|██████████| 5/5 [00:00<00:00, 1194.75it/s]\n",
      "100%|██████████| 45/45 [00:00<00:00, 424.10it/s]\n",
      "100%|██████████| 5/5 [00:00<00:00, 1122.61it/s]\n",
      "  0%|          | 0/45 [00:00<?, ?it/s]"
     ]
    },
    {
     "name": "stdout",
     "output_type": "stream",
     "text": [
      "Train Loss: 0.0139\n",
      "Val Loss: 0.0111\n",
      "Epoch 547 of 1000\n",
      "<torch.utils.data.dataloader.DataLoader object at 0x7fb151915550>\n",
      "Train Loss: 0.0139\n",
      "Val Loss: 0.0111\n",
      "Epoch 548 of 1000\n",
      "<torch.utils.data.dataloader.DataLoader object at 0x7fb151915550>\n"
     ]
    },
    {
     "name": "stderr",
     "output_type": "stream",
     "text": [
      "100%|██████████| 45/45 [00:00<00:00, 430.59it/s]\n",
      "100%|██████████| 5/5 [00:00<00:00, 1152.22it/s]\n",
      "100%|██████████| 45/45 [00:00<00:00, 424.18it/s]\n",
      "100%|██████████| 5/5 [00:00<00:00, 1181.76it/s]\n",
      "  0%|          | 0/45 [00:00<?, ?it/s]"
     ]
    },
    {
     "name": "stdout",
     "output_type": "stream",
     "text": [
      "Train Loss: 0.0139\n",
      "Val Loss: 0.0111\n",
      "Epoch 549 of 1000\n",
      "<torch.utils.data.dataloader.DataLoader object at 0x7fb151915550>\n",
      "Train Loss: 0.0139\n",
      "Val Loss: 0.0111\n",
      "Epoch 550 of 1000\n",
      "<torch.utils.data.dataloader.DataLoader object at 0x7fb151915550>\n"
     ]
    },
    {
     "name": "stderr",
     "output_type": "stream",
     "text": [
      "100%|██████████| 45/45 [00:00<00:00, 422.22it/s]\n",
      "100%|██████████| 5/5 [00:00<00:00, 1187.38it/s]\n",
      "100%|██████████| 45/45 [00:00<00:00, 426.03it/s]\n",
      "100%|██████████| 5/5 [00:00<00:00, 1185.10it/s]\n",
      "  0%|          | 0/45 [00:00<?, ?it/s]"
     ]
    },
    {
     "name": "stdout",
     "output_type": "stream",
     "text": [
      "Train Loss: 0.0139\n",
      "Val Loss: 0.0111\n",
      "Epoch 551 of 1000\n",
      "<torch.utils.data.dataloader.DataLoader object at 0x7fb151915550>\n",
      "Train Loss: 0.0139\n",
      "Val Loss: 0.0111\n",
      "Epoch 552 of 1000\n",
      "<torch.utils.data.dataloader.DataLoader object at 0x7fb151915550>\n"
     ]
    },
    {
     "name": "stderr",
     "output_type": "stream",
     "text": [
      "100%|██████████| 45/45 [00:00<00:00, 420.41it/s]\n",
      "100%|██████████| 5/5 [00:00<00:00, 1139.63it/s]\n",
      "100%|██████████| 45/45 [00:00<00:00, 417.63it/s]\n",
      "100%|██████████| 5/5 [00:00<00:00, 1105.28it/s]\n",
      "  0%|          | 0/45 [00:00<?, ?it/s]"
     ]
    },
    {
     "name": "stdout",
     "output_type": "stream",
     "text": [
      "Train Loss: 0.0139\n",
      "Val Loss: 0.0111\n",
      "Epoch 553 of 1000\n",
      "<torch.utils.data.dataloader.DataLoader object at 0x7fb151915550>\n",
      "Train Loss: 0.0139\n",
      "Val Loss: 0.0111\n",
      "Epoch 554 of 1000\n",
      "<torch.utils.data.dataloader.DataLoader object at 0x7fb151915550>\n"
     ]
    },
    {
     "name": "stderr",
     "output_type": "stream",
     "text": [
      "100%|██████████| 45/45 [00:00<00:00, 423.03it/s]\n",
      "100%|██████████| 5/5 [00:00<00:00, 1174.22it/s]\n",
      "100%|██████████| 45/45 [00:00<00:00, 425.56it/s]\n",
      "100%|██████████| 5/5 [00:00<00:00, 1141.00it/s]\n",
      "  0%|          | 0/45 [00:00<?, ?it/s]"
     ]
    },
    {
     "name": "stdout",
     "output_type": "stream",
     "text": [
      "Train Loss: 0.0139\n",
      "Val Loss: 0.0111\n",
      "Epoch 555 of 1000\n",
      "<torch.utils.data.dataloader.DataLoader object at 0x7fb151915550>\n",
      "Train Loss: 0.0139\n",
      "Val Loss: 0.0111\n",
      "Epoch 556 of 1000\n",
      "<torch.utils.data.dataloader.DataLoader object at 0x7fb151915550>\n"
     ]
    },
    {
     "name": "stderr",
     "output_type": "stream",
     "text": [
      "100%|██████████| 45/45 [00:00<00:00, 425.32it/s]\n",
      "100%|██████████| 5/5 [00:00<00:00, 1175.93it/s]\n",
      "100%|██████████| 45/45 [00:00<00:00, 427.90it/s]\n",
      "100%|██████████| 5/5 [00:00<00:00, 1141.18it/s]\n",
      "  0%|          | 0/45 [00:00<?, ?it/s]"
     ]
    },
    {
     "name": "stdout",
     "output_type": "stream",
     "text": [
      "Train Loss: 0.0139\n",
      "Val Loss: 0.0111\n",
      "Epoch 557 of 1000\n",
      "<torch.utils.data.dataloader.DataLoader object at 0x7fb151915550>\n",
      "Train Loss: 0.0139\n",
      "Val Loss: 0.0111\n",
      "Epoch 558 of 1000\n",
      "<torch.utils.data.dataloader.DataLoader object at 0x7fb151915550>\n"
     ]
    },
    {
     "name": "stderr",
     "output_type": "stream",
     "text": [
      "100%|██████████| 45/45 [00:00<00:00, 428.88it/s]\n",
      "100%|██████████| 5/5 [00:00<00:00, 1184.30it/s]\n",
      "100%|██████████| 45/45 [00:00<00:00, 425.50it/s]\n",
      "100%|██████████| 5/5 [00:00<00:00, 1185.23it/s]\n",
      "  0%|          | 0/45 [00:00<?, ?it/s]"
     ]
    },
    {
     "name": "stdout",
     "output_type": "stream",
     "text": [
      "Train Loss: 0.0139\n",
      "Val Loss: 0.0111\n",
      "Epoch 559 of 1000\n",
      "<torch.utils.data.dataloader.DataLoader object at 0x7fb151915550>\n",
      "Train Loss: 0.0139\n",
      "Val Loss: 0.0111\n",
      "Epoch 560 of 1000\n",
      "<torch.utils.data.dataloader.DataLoader object at 0x7fb151915550>\n"
     ]
    },
    {
     "name": "stderr",
     "output_type": "stream",
     "text": [
      "100%|██████████| 45/45 [00:00<00:00, 424.33it/s]\n",
      "100%|██████████| 5/5 [00:00<00:00, 1127.74it/s]\n",
      "100%|██████████| 45/45 [00:00<00:00, 422.62it/s]\n",
      "100%|██████████| 5/5 [00:00<00:00, 1166.19it/s]\n",
      "  0%|          | 0/45 [00:00<?, ?it/s]"
     ]
    },
    {
     "name": "stdout",
     "output_type": "stream",
     "text": [
      "Train Loss: 0.0139\n",
      "Val Loss: 0.0111\n",
      "Epoch 561 of 1000\n",
      "<torch.utils.data.dataloader.DataLoader object at 0x7fb151915550>\n",
      "Train Loss: 0.0139\n",
      "Val Loss: 0.0111\n",
      "Epoch 562 of 1000\n",
      "<torch.utils.data.dataloader.DataLoader object at 0x7fb151915550>\n"
     ]
    },
    {
     "name": "stderr",
     "output_type": "stream",
     "text": [
      "100%|██████████| 45/45 [00:00<00:00, 422.47it/s]\n",
      "100%|██████████| 5/5 [00:00<00:00, 1210.20it/s]\n",
      "100%|██████████| 45/45 [00:00<00:00, 435.32it/s]\n",
      "100%|██████████| 5/5 [00:00<00:00, 1042.37it/s]\n",
      "  0%|          | 0/45 [00:00<?, ?it/s]"
     ]
    },
    {
     "name": "stdout",
     "output_type": "stream",
     "text": [
      "Train Loss: 0.0139\n",
      "Val Loss: 0.0111\n",
      "Epoch 563 of 1000\n",
      "<torch.utils.data.dataloader.DataLoader object at 0x7fb151915550>\n",
      "Train Loss: 0.0139\n",
      "Val Loss: 0.0111\n",
      "Epoch 564 of 1000\n",
      "<torch.utils.data.dataloader.DataLoader object at 0x7fb151915550>\n"
     ]
    },
    {
     "name": "stderr",
     "output_type": "stream",
     "text": [
      "100%|██████████| 45/45 [00:00<00:00, 424.88it/s]\n",
      "100%|██████████| 5/5 [00:00<00:00, 1040.00it/s]\n",
      "100%|██████████| 45/45 [00:00<00:00, 424.85it/s]\n",
      "100%|██████████| 5/5 [00:00<00:00, 1206.86it/s]\n",
      "  0%|          | 0/45 [00:00<?, ?it/s]"
     ]
    },
    {
     "name": "stdout",
     "output_type": "stream",
     "text": [
      "Train Loss: 0.0139\n",
      "Val Loss: 0.0111\n",
      "Epoch 565 of 1000\n",
      "<torch.utils.data.dataloader.DataLoader object at 0x7fb151915550>\n",
      "Train Loss: 0.0139\n",
      "Val Loss: 0.0111\n",
      "Epoch 566 of 1000\n",
      "<torch.utils.data.dataloader.DataLoader object at 0x7fb151915550>\n"
     ]
    },
    {
     "name": "stderr",
     "output_type": "stream",
     "text": [
      "100%|██████████| 45/45 [00:00<00:00, 411.70it/s]\n",
      "100%|██████████| 5/5 [00:00<00:00, 1183.09it/s]\n",
      "100%|██████████| 45/45 [00:00<00:00, 418.77it/s]\n",
      "100%|██████████| 5/5 [00:00<00:00, 1192.17it/s]\n",
      "  0%|          | 0/45 [00:00<?, ?it/s]"
     ]
    },
    {
     "name": "stdout",
     "output_type": "stream",
     "text": [
      "Train Loss: 0.0139\n",
      "Val Loss: 0.0111\n",
      "Epoch 567 of 1000\n",
      "<torch.utils.data.dataloader.DataLoader object at 0x7fb151915550>\n",
      "Train Loss: 0.0139\n",
      "Val Loss: 0.0111\n",
      "Epoch 568 of 1000\n",
      "<torch.utils.data.dataloader.DataLoader object at 0x7fb151915550>\n"
     ]
    },
    {
     "name": "stderr",
     "output_type": "stream",
     "text": [
      "100%|██████████| 45/45 [00:00<00:00, 403.24it/s]\n",
      "100%|██████████| 5/5 [00:00<00:00, 1134.39it/s]\n",
      "100%|██████████| 45/45 [00:00<00:00, 427.22it/s]\n",
      "100%|██████████| 5/5 [00:00<00:00, 1130.48it/s]\n",
      "  0%|          | 0/45 [00:00<?, ?it/s]"
     ]
    },
    {
     "name": "stdout",
     "output_type": "stream",
     "text": [
      "Train Loss: 0.0139\n",
      "Val Loss: 0.0111\n",
      "Epoch 569 of 1000\n",
      "<torch.utils.data.dataloader.DataLoader object at 0x7fb151915550>\n",
      "Train Loss: 0.0139\n",
      "Val Loss: 0.0111\n",
      "Epoch 570 of 1000\n",
      "<torch.utils.data.dataloader.DataLoader object at 0x7fb151915550>\n"
     ]
    },
    {
     "name": "stderr",
     "output_type": "stream",
     "text": [
      "100%|██████████| 45/45 [00:00<00:00, 436.32it/s]\n",
      "100%|██████████| 5/5 [00:00<00:00, 1235.00it/s]\n",
      "100%|██████████| 45/45 [00:00<00:00, 429.20it/s]\n",
      "100%|██████████| 5/5 [00:00<00:00, 1027.61it/s]\n",
      "  0%|          | 0/45 [00:00<?, ?it/s]"
     ]
    },
    {
     "name": "stdout",
     "output_type": "stream",
     "text": [
      "Train Loss: 0.0139\n",
      "Val Loss: 0.0111\n",
      "Epoch 571 of 1000\n",
      "<torch.utils.data.dataloader.DataLoader object at 0x7fb151915550>\n",
      "Train Loss: 0.0139\n",
      "Val Loss: 0.0111\n",
      "Epoch 572 of 1000\n",
      "<torch.utils.data.dataloader.DataLoader object at 0x7fb151915550>\n"
     ]
    },
    {
     "name": "stderr",
     "output_type": "stream",
     "text": [
      "100%|██████████| 45/45 [00:00<00:00, 435.53it/s]\n",
      "100%|██████████| 5/5 [00:00<00:00, 1113.20it/s]\n",
      "100%|██████████| 45/45 [00:00<00:00, 433.23it/s]\n",
      "100%|██████████| 5/5 [00:00<00:00, 1191.77it/s]\n",
      "  0%|          | 0/45 [00:00<?, ?it/s]"
     ]
    },
    {
     "name": "stdout",
     "output_type": "stream",
     "text": [
      "Train Loss: 0.0139\n",
      "Val Loss: 0.0111\n",
      "Epoch 573 of 1000\n",
      "<torch.utils.data.dataloader.DataLoader object at 0x7fb151915550>\n",
      "Train Loss: 0.0139\n",
      "Val Loss: 0.0111\n",
      "Epoch 574 of 1000\n",
      "<torch.utils.data.dataloader.DataLoader object at 0x7fb151915550>\n"
     ]
    },
    {
     "name": "stderr",
     "output_type": "stream",
     "text": [
      "100%|██████████| 45/45 [00:00<00:00, 425.43it/s]\n",
      "100%|██████████| 5/5 [00:00<00:00, 1178.37it/s]\n",
      "100%|██████████| 45/45 [00:00<00:00, 402.99it/s]\n",
      "100%|██████████| 5/5 [00:00<00:00, 1165.86it/s]\n",
      "  0%|          | 0/45 [00:00<?, ?it/s]"
     ]
    },
    {
     "name": "stdout",
     "output_type": "stream",
     "text": [
      "Train Loss: 0.0139\n",
      "Val Loss: 0.0111\n",
      "Epoch 575 of 1000\n",
      "<torch.utils.data.dataloader.DataLoader object at 0x7fb151915550>\n",
      "Train Loss: 0.0139\n",
      "Val Loss: 0.0111\n",
      "Epoch 576 of 1000\n",
      "<torch.utils.data.dataloader.DataLoader object at 0x7fb151915550>\n"
     ]
    },
    {
     "name": "stderr",
     "output_type": "stream",
     "text": [
      "100%|██████████| 45/45 [00:00<00:00, 410.97it/s]\n",
      "100%|██████████| 5/5 [00:00<00:00, 1173.95it/s]\n",
      "100%|██████████| 45/45 [00:00<00:00, 419.08it/s]\n",
      "100%|██████████| 5/5 [00:00<00:00, 1057.19it/s]\n",
      "  0%|          | 0/45 [00:00<?, ?it/s]"
     ]
    },
    {
     "name": "stdout",
     "output_type": "stream",
     "text": [
      "Train Loss: 0.0139\n",
      "Val Loss: 0.0111\n",
      "Epoch 577 of 1000\n",
      "<torch.utils.data.dataloader.DataLoader object at 0x7fb151915550>\n",
      "Train Loss: 0.0139\n",
      "Val Loss: 0.0111\n",
      "Epoch 578 of 1000\n",
      "<torch.utils.data.dataloader.DataLoader object at 0x7fb151915550>\n"
     ]
    },
    {
     "name": "stderr",
     "output_type": "stream",
     "text": [
      "100%|██████████| 45/45 [00:00<00:00, 419.10it/s]\n",
      "100%|██████████| 5/5 [00:00<00:00, 1138.09it/s]\n",
      "100%|██████████| 45/45 [00:00<00:00, 420.68it/s]\n",
      "100%|██████████| 5/5 [00:00<00:00, 1194.48it/s]\n",
      "  0%|          | 0/45 [00:00<?, ?it/s]"
     ]
    },
    {
     "name": "stdout",
     "output_type": "stream",
     "text": [
      "Train Loss: 0.0139\n",
      "Val Loss: 0.0111\n",
      "Epoch 579 of 1000\n",
      "<torch.utils.data.dataloader.DataLoader object at 0x7fb151915550>\n",
      "Train Loss: 0.0139\n",
      "Val Loss: 0.0111\n",
      "Epoch 580 of 1000\n",
      "<torch.utils.data.dataloader.DataLoader object at 0x7fb151915550>\n"
     ]
    },
    {
     "name": "stderr",
     "output_type": "stream",
     "text": [
      "100%|██████████| 45/45 [00:00<00:00, 418.54it/s]\n",
      "100%|██████████| 5/5 [00:00<00:00, 1177.58it/s]\n",
      "100%|██████████| 45/45 [00:00<00:00, 420.50it/s]\n",
      "100%|██████████| 5/5 [00:00<00:00, 1086.27it/s]\n",
      "  0%|          | 0/45 [00:00<?, ?it/s]"
     ]
    },
    {
     "name": "stdout",
     "output_type": "stream",
     "text": [
      "Train Loss: 0.0139\n",
      "Val Loss: 0.0111\n",
      "Epoch 581 of 1000\n",
      "<torch.utils.data.dataloader.DataLoader object at 0x7fb151915550>\n",
      "Train Loss: 0.0139\n",
      "Val Loss: 0.0111\n",
      "Epoch 582 of 1000\n",
      "<torch.utils.data.dataloader.DataLoader object at 0x7fb151915550>\n"
     ]
    },
    {
     "name": "stderr",
     "output_type": "stream",
     "text": [
      "100%|██████████| 45/45 [00:00<00:00, 418.16it/s]\n",
      "100%|██████████| 5/5 [00:00<00:00, 1173.49it/s]\n",
      "100%|██████████| 45/45 [00:00<00:00, 420.96it/s]\n",
      "100%|██████████| 5/5 [00:00<00:00, 1170.16it/s]\n",
      "  0%|          | 0/45 [00:00<?, ?it/s]"
     ]
    },
    {
     "name": "stdout",
     "output_type": "stream",
     "text": [
      "Train Loss: 0.0139\n",
      "Val Loss: 0.0111\n",
      "Epoch 583 of 1000\n",
      "<torch.utils.data.dataloader.DataLoader object at 0x7fb151915550>\n",
      "Train Loss: 0.0139\n",
      "Val Loss: 0.0111\n",
      "Epoch 584 of 1000\n",
      "<torch.utils.data.dataloader.DataLoader object at 0x7fb151915550>\n"
     ]
    },
    {
     "name": "stderr",
     "output_type": "stream",
     "text": [
      "100%|██████████| 45/45 [00:00<00:00, 413.00it/s]\n",
      "100%|██████████| 5/5 [00:00<00:00, 1180.30it/s]\n",
      "100%|██████████| 45/45 [00:00<00:00, 420.64it/s]\n",
      "100%|██████████| 5/5 [00:00<00:00, 1177.51it/s]\n",
      "  0%|          | 0/45 [00:00<?, ?it/s]"
     ]
    },
    {
     "name": "stdout",
     "output_type": "stream",
     "text": [
      "Train Loss: 0.0139\n",
      "Val Loss: 0.0111\n",
      "Epoch 585 of 1000\n",
      "<torch.utils.data.dataloader.DataLoader object at 0x7fb151915550>\n",
      "Train Loss: 0.0139\n",
      "Val Loss: 0.0111\n",
      "Epoch 586 of 1000\n",
      "<torch.utils.data.dataloader.DataLoader object at 0x7fb151915550>\n"
     ]
    },
    {
     "name": "stderr",
     "output_type": "stream",
     "text": [
      "100%|██████████| 45/45 [00:00<00:00, 421.43it/s]\n",
      "100%|██████████| 5/5 [00:00<00:00, 1156.28it/s]\n",
      "100%|██████████| 45/45 [00:00<00:00, 425.67it/s]\n",
      "100%|██████████| 5/5 [00:00<00:00, 1084.86it/s]\n",
      "  0%|          | 0/45 [00:00<?, ?it/s]"
     ]
    },
    {
     "name": "stdout",
     "output_type": "stream",
     "text": [
      "Train Loss: 0.0139\n",
      "Val Loss: 0.0111\n",
      "Epoch 587 of 1000\n",
      "<torch.utils.data.dataloader.DataLoader object at 0x7fb151915550>\n",
      "Train Loss: 0.0139\n",
      "Val Loss: 0.0111\n",
      "Epoch 588 of 1000\n",
      "<torch.utils.data.dataloader.DataLoader object at 0x7fb151915550>\n"
     ]
    },
    {
     "name": "stderr",
     "output_type": "stream",
     "text": [
      "100%|██████████| 45/45 [00:00<00:00, 406.83it/s]\n",
      "100%|██████████| 5/5 [00:00<00:00, 1217.79it/s]\n",
      "100%|██████████| 45/45 [00:00<00:00, 433.54it/s]\n",
      "100%|██████████| 5/5 [00:00<00:00, 1212.65it/s]\n",
      "  0%|          | 0/45 [00:00<?, ?it/s]"
     ]
    },
    {
     "name": "stdout",
     "output_type": "stream",
     "text": [
      "Train Loss: 0.0139\n",
      "Val Loss: 0.0111\n",
      "Epoch 589 of 1000\n",
      "<torch.utils.data.dataloader.DataLoader object at 0x7fb151915550>\n",
      "Train Loss: 0.0139\n",
      "Val Loss: 0.0111\n",
      "Epoch 590 of 1000\n",
      "<torch.utils.data.dataloader.DataLoader object at 0x7fb151915550>\n"
     ]
    },
    {
     "name": "stderr",
     "output_type": "stream",
     "text": [
      "100%|██████████| 45/45 [00:00<00:00, 426.32it/s]\n",
      "100%|██████████| 5/5 [00:00<00:00, 1189.74it/s]\n",
      "100%|██████████| 45/45 [00:00<00:00, 427.17it/s]\n",
      "100%|██████████| 5/5 [00:00<00:00, 1191.43it/s]\n",
      "  0%|          | 0/45 [00:00<?, ?it/s]"
     ]
    },
    {
     "name": "stdout",
     "output_type": "stream",
     "text": [
      "Train Loss: 0.0139\n",
      "Val Loss: 0.0111\n",
      "Epoch 591 of 1000\n",
      "<torch.utils.data.dataloader.DataLoader object at 0x7fb151915550>\n",
      "Train Loss: 0.0139\n",
      "Val Loss: 0.0111\n",
      "Epoch 592 of 1000\n",
      "<torch.utils.data.dataloader.DataLoader object at 0x7fb151915550>\n"
     ]
    },
    {
     "name": "stderr",
     "output_type": "stream",
     "text": [
      "100%|██████████| 45/45 [00:00<00:00, 418.96it/s]\n",
      "100%|██████████| 5/5 [00:00<00:00, 1134.02it/s]\n",
      "100%|██████████| 45/45 [00:00<00:00, 422.67it/s]\n",
      "100%|██████████| 5/5 [00:00<00:00, 1119.79it/s]\n",
      "  0%|          | 0/45 [00:00<?, ?it/s]"
     ]
    },
    {
     "name": "stdout",
     "output_type": "stream",
     "text": [
      "Train Loss: 0.0139\n",
      "Val Loss: 0.0111\n",
      "Epoch 593 of 1000\n",
      "<torch.utils.data.dataloader.DataLoader object at 0x7fb151915550>\n",
      "Train Loss: 0.0139\n",
      "Val Loss: 0.0111\n",
      "Epoch 594 of 1000\n",
      "<torch.utils.data.dataloader.DataLoader object at 0x7fb151915550>\n"
     ]
    },
    {
     "name": "stderr",
     "output_type": "stream",
     "text": [
      "100%|██████████| 45/45 [00:00<00:00, 423.35it/s]\n",
      "100%|██████████| 5/5 [00:00<00:00, 1249.20it/s]\n",
      "100%|██████████| 45/45 [00:00<00:00, 436.13it/s]\n",
      "100%|██████████| 5/5 [00:00<00:00, 1218.21it/s]\n",
      "  0%|          | 0/45 [00:00<?, ?it/s]"
     ]
    },
    {
     "name": "stdout",
     "output_type": "stream",
     "text": [
      "Train Loss: 0.0139\n",
      "Val Loss: 0.0111\n",
      "Epoch 595 of 1000\n",
      "<torch.utils.data.dataloader.DataLoader object at 0x7fb151915550>\n",
      "Train Loss: 0.0139\n",
      "Val Loss: 0.0111\n",
      "Epoch 596 of 1000\n",
      "<torch.utils.data.dataloader.DataLoader object at 0x7fb151915550>\n"
     ]
    },
    {
     "name": "stderr",
     "output_type": "stream",
     "text": [
      "100%|██████████| 45/45 [00:00<00:00, 430.12it/s]\n",
      "100%|██████████| 5/5 [00:00<00:00, 1158.78it/s]\n",
      "100%|██████████| 45/45 [00:00<00:00, 440.26it/s]\n",
      "100%|██████████| 5/5 [00:00<00:00, 967.32it/s]\n",
      "  0%|          | 0/45 [00:00<?, ?it/s]"
     ]
    },
    {
     "name": "stdout",
     "output_type": "stream",
     "text": [
      "Train Loss: 0.0139\n",
      "Val Loss: 0.0111\n",
      "Epoch 597 of 1000\n",
      "<torch.utils.data.dataloader.DataLoader object at 0x7fb151915550>\n",
      "Train Loss: 0.0139\n",
      "Val Loss: 0.0111\n",
      "Epoch 598 of 1000\n",
      "<torch.utils.data.dataloader.DataLoader object at 0x7fb151915550>\n"
     ]
    },
    {
     "name": "stderr",
     "output_type": "stream",
     "text": [
      "100%|██████████| 45/45 [00:00<00:00, 413.85it/s]\n",
      "100%|██████████| 5/5 [00:00<00:00, 1103.01it/s]\n",
      "100%|██████████| 45/45 [00:00<00:00, 408.93it/s]\n",
      "100%|██████████| 5/5 [00:00<00:00, 1181.76it/s]\n",
      "  0%|          | 0/45 [00:00<?, ?it/s]"
     ]
    },
    {
     "name": "stdout",
     "output_type": "stream",
     "text": [
      "Train Loss: 0.0139\n",
      "Val Loss: 0.0111\n",
      "Epoch 599 of 1000\n",
      "<torch.utils.data.dataloader.DataLoader object at 0x7fb151915550>\n",
      "Train Loss: 0.0139\n",
      "Val Loss: 0.0111\n",
      "Epoch 600 of 1000\n",
      "<torch.utils.data.dataloader.DataLoader object at 0x7fb151915550>\n"
     ]
    },
    {
     "name": "stderr",
     "output_type": "stream",
     "text": [
      "100%|██████████| 45/45 [00:00<00:00, 417.59it/s]\n",
      "100%|██████████| 5/5 [00:00<00:00, 1185.30it/s]\n",
      "100%|██████████| 45/45 [00:00<00:00, 423.90it/s]\n",
      "100%|██████████| 5/5 [00:00<00:00, 1163.79it/s]\n",
      "  0%|          | 0/45 [00:00<?, ?it/s]"
     ]
    },
    {
     "name": "stdout",
     "output_type": "stream",
     "text": [
      "Train Loss: 0.0139\n",
      "Val Loss: 0.0111\n",
      "Epoch 601 of 1000\n",
      "<torch.utils.data.dataloader.DataLoader object at 0x7fb151915550>\n",
      "Train Loss: 0.0139\n",
      "Val Loss: 0.0111\n",
      "Epoch 602 of 1000\n",
      "<torch.utils.data.dataloader.DataLoader object at 0x7fb151915550>\n"
     ]
    },
    {
     "name": "stderr",
     "output_type": "stream",
     "text": [
      "100%|██████████| 45/45 [00:00<00:00, 403.22it/s]\n",
      "100%|██████████| 5/5 [00:00<00:00, 902.12it/s]\n",
      "100%|██████████| 45/45 [00:00<00:00, 409.34it/s]\n",
      "100%|██████████| 5/5 [00:00<00:00, 1180.03it/s]\n",
      "  0%|          | 0/45 [00:00<?, ?it/s]"
     ]
    },
    {
     "name": "stdout",
     "output_type": "stream",
     "text": [
      "Train Loss: 0.0139\n",
      "Val Loss: 0.0111\n",
      "Epoch 603 of 1000\n",
      "<torch.utils.data.dataloader.DataLoader object at 0x7fb151915550>\n",
      "Train Loss: 0.0139\n",
      "Val Loss: 0.0111\n",
      "Epoch 604 of 1000\n",
      "<torch.utils.data.dataloader.DataLoader object at 0x7fb151915550>\n"
     ]
    },
    {
     "name": "stderr",
     "output_type": "stream",
     "text": [
      "100%|██████████| 45/45 [00:00<00:00, 396.60it/s]\n",
      "100%|██████████| 5/5 [00:00<00:00, 1125.93it/s]\n",
      "100%|██████████| 45/45 [00:00<00:00, 417.35it/s]\n",
      "100%|██████████| 5/5 [00:00<00:00, 1180.90it/s]\n",
      "  0%|          | 0/45 [00:00<?, ?it/s]"
     ]
    },
    {
     "name": "stdout",
     "output_type": "stream",
     "text": [
      "Train Loss: 0.0139\n",
      "Val Loss: 0.0111\n",
      "Epoch 605 of 1000\n",
      "<torch.utils.data.dataloader.DataLoader object at 0x7fb151915550>\n",
      "Train Loss: 0.0139\n",
      "Val Loss: 0.0111\n",
      "Epoch 606 of 1000\n",
      "<torch.utils.data.dataloader.DataLoader object at 0x7fb151915550>\n"
     ]
    },
    {
     "name": "stderr",
     "output_type": "stream",
     "text": [
      "100%|██████████| 45/45 [00:00<00:00, 418.23it/s]\n",
      "100%|██████████| 5/5 [00:00<00:00, 616.03it/s]\n",
      "100%|██████████| 45/45 [00:00<00:00, 424.22it/s]\n",
      "100%|██████████| 5/5 [00:00<00:00, 1090.28it/s]\n",
      "  0%|          | 0/45 [00:00<?, ?it/s]"
     ]
    },
    {
     "name": "stdout",
     "output_type": "stream",
     "text": [
      "Train Loss: 0.0139\n",
      "Val Loss: 0.0111\n",
      "Epoch 607 of 1000\n",
      "<torch.utils.data.dataloader.DataLoader object at 0x7fb151915550>\n",
      "Train Loss: 0.0139\n",
      "Val Loss: 0.0111\n",
      "Epoch 608 of 1000\n",
      "<torch.utils.data.dataloader.DataLoader object at 0x7fb151915550>\n"
     ]
    },
    {
     "name": "stderr",
     "output_type": "stream",
     "text": [
      "100%|██████████| 45/45 [00:00<00:00, 394.70it/s]\n",
      "100%|██████████| 5/5 [00:00<00:00, 1186.78it/s]\n",
      "100%|██████████| 45/45 [00:00<00:00, 420.79it/s]\n",
      "100%|██████████| 5/5 [00:00<00:00, 893.47it/s]\n",
      "  0%|          | 0/45 [00:00<?, ?it/s]"
     ]
    },
    {
     "name": "stdout",
     "output_type": "stream",
     "text": [
      "Train Loss: 0.0139\n",
      "Val Loss: 0.0111\n",
      "Epoch 609 of 1000\n",
      "<torch.utils.data.dataloader.DataLoader object at 0x7fb151915550>\n",
      "Train Loss: 0.0139\n",
      "Val Loss: 0.0111\n",
      "Epoch 610 of 1000\n",
      "<torch.utils.data.dataloader.DataLoader object at 0x7fb151915550>\n"
     ]
    },
    {
     "name": "stderr",
     "output_type": "stream",
     "text": [
      "100%|██████████| 45/45 [00:00<00:00, 417.51it/s]\n",
      "100%|██████████| 5/5 [00:00<00:00, 1165.15it/s]\n",
      "100%|██████████| 45/45 [00:00<00:00, 423.05it/s]\n",
      "100%|██████████| 5/5 [00:00<00:00, 1175.60it/s]\n",
      "  0%|          | 0/45 [00:00<?, ?it/s]"
     ]
    },
    {
     "name": "stdout",
     "output_type": "stream",
     "text": [
      "Train Loss: 0.0139\n",
      "Val Loss: 0.0111\n",
      "Epoch 611 of 1000\n",
      "<torch.utils.data.dataloader.DataLoader object at 0x7fb151915550>\n",
      "Train Loss: 0.0139\n",
      "Val Loss: 0.0111\n",
      "Epoch 612 of 1000\n",
      "<torch.utils.data.dataloader.DataLoader object at 0x7fb151915550>\n"
     ]
    },
    {
     "name": "stderr",
     "output_type": "stream",
     "text": [
      "100%|██████████| 45/45 [00:00<00:00, 431.08it/s]\n",
      "100%|██████████| 5/5 [00:00<00:00, 1187.25it/s]\n",
      "100%|██████████| 45/45 [00:00<00:00, 433.56it/s]\n",
      "100%|██████████| 5/5 [00:00<00:00, 1180.83it/s]\n",
      "  0%|          | 0/45 [00:00<?, ?it/s]"
     ]
    },
    {
     "name": "stdout",
     "output_type": "stream",
     "text": [
      "Train Loss: 0.0139\n",
      "Val Loss: 0.0111\n",
      "Epoch 613 of 1000\n",
      "<torch.utils.data.dataloader.DataLoader object at 0x7fb151915550>\n",
      "Train Loss: 0.0139\n",
      "Val Loss: 0.0111\n",
      "Epoch 614 of 1000\n",
      "<torch.utils.data.dataloader.DataLoader object at 0x7fb151915550>\n"
     ]
    },
    {
     "name": "stderr",
     "output_type": "stream",
     "text": [
      "100%|██████████| 45/45 [00:00<00:00, 424.05it/s]\n",
      "100%|██████████| 5/5 [00:00<00:00, 1223.11it/s]\n",
      "100%|██████████| 45/45 [00:00<00:00, 415.96it/s]\n",
      "100%|██████████| 5/5 [00:00<00:00, 1204.43it/s]\n",
      "  0%|          | 0/45 [00:00<?, ?it/s]"
     ]
    },
    {
     "name": "stdout",
     "output_type": "stream",
     "text": [
      "Train Loss: 0.0139\n",
      "Val Loss: 0.0111\n",
      "Epoch 615 of 1000\n",
      "<torch.utils.data.dataloader.DataLoader object at 0x7fb151915550>\n",
      "Train Loss: 0.0139\n",
      "Val Loss: 0.0111\n",
      "Epoch 616 of 1000\n",
      "<torch.utils.data.dataloader.DataLoader object at 0x7fb151915550>\n"
     ]
    },
    {
     "name": "stderr",
     "output_type": "stream",
     "text": [
      "100%|██████████| 45/45 [00:00<00:00, 422.12it/s]\n",
      "100%|██████████| 5/5 [00:00<00:00, 1167.55it/s]\n",
      "100%|██████████| 45/45 [00:00<00:00, 430.38it/s]\n",
      "100%|██████████| 5/5 [00:00<00:00, 1210.97it/s]\n",
      "  0%|          | 0/45 [00:00<?, ?it/s]"
     ]
    },
    {
     "name": "stdout",
     "output_type": "stream",
     "text": [
      "Train Loss: 0.0139\n",
      "Val Loss: 0.0111\n",
      "Epoch 617 of 1000\n",
      "<torch.utils.data.dataloader.DataLoader object at 0x7fb151915550>\n",
      "Train Loss: 0.0139\n",
      "Val Loss: 0.0111\n",
      "Epoch 618 of 1000\n",
      "<torch.utils.data.dataloader.DataLoader object at 0x7fb151915550>\n"
     ]
    },
    {
     "name": "stderr",
     "output_type": "stream",
     "text": [
      "100%|██████████| 45/45 [00:00<00:00, 419.83it/s]\n",
      "100%|██████████| 5/5 [00:00<00:00, 1141.99it/s]\n",
      "100%|██████████| 45/45 [00:00<00:00, 429.74it/s]\n",
      "100%|██████████| 5/5 [00:00<00:00, 1191.50it/s]\n",
      "  0%|          | 0/45 [00:00<?, ?it/s]"
     ]
    },
    {
     "name": "stdout",
     "output_type": "stream",
     "text": [
      "Train Loss: 0.0139\n",
      "Val Loss: 0.0111\n",
      "Epoch 619 of 1000\n",
      "<torch.utils.data.dataloader.DataLoader object at 0x7fb151915550>\n",
      "Train Loss: 0.0139\n",
      "Val Loss: 0.0111\n",
      "Epoch 620 of 1000\n",
      "<torch.utils.data.dataloader.DataLoader object at 0x7fb151915550>\n"
     ]
    },
    {
     "name": "stderr",
     "output_type": "stream",
     "text": [
      "100%|██████████| 45/45 [00:00<00:00, 408.12it/s]\n",
      "100%|██████████| 5/5 [00:00<00:00, 1213.98it/s]\n",
      "100%|██████████| 45/45 [00:00<00:00, 435.16it/s]\n",
      "100%|██████████| 5/5 [00:00<00:00, 1124.48it/s]\n",
      "  0%|          | 0/45 [00:00<?, ?it/s]"
     ]
    },
    {
     "name": "stdout",
     "output_type": "stream",
     "text": [
      "Train Loss: 0.0139\n",
      "Val Loss: 0.0111\n",
      "Epoch 621 of 1000\n",
      "<torch.utils.data.dataloader.DataLoader object at 0x7fb151915550>\n",
      "Train Loss: 0.0139\n",
      "Val Loss: 0.0111\n",
      "Epoch 622 of 1000\n",
      "<torch.utils.data.dataloader.DataLoader object at 0x7fb151915550>\n"
     ]
    },
    {
     "name": "stderr",
     "output_type": "stream",
     "text": [
      "100%|██████████| 45/45 [00:00<00:00, 420.61it/s]\n",
      "100%|██████████| 5/5 [00:00<00:00, 1131.39it/s]\n",
      "100%|██████████| 45/45 [00:00<00:00, 387.32it/s]\n",
      "100%|██████████| 5/5 [00:00<00:00, 1061.63it/s]\n",
      "  0%|          | 0/45 [00:00<?, ?it/s]"
     ]
    },
    {
     "name": "stdout",
     "output_type": "stream",
     "text": [
      "Train Loss: 0.0139\n",
      "Val Loss: 0.0111\n",
      "Epoch 623 of 1000\n",
      "<torch.utils.data.dataloader.DataLoader object at 0x7fb151915550>\n",
      "Train Loss: 0.0139\n",
      "Val Loss: 0.0111\n",
      "Epoch 624 of 1000\n",
      "<torch.utils.data.dataloader.DataLoader object at 0x7fb151915550>\n"
     ]
    },
    {
     "name": "stderr",
     "output_type": "stream",
     "text": [
      "100%|██████████| 45/45 [00:00<00:00, 411.82it/s]\n",
      "100%|██████████| 5/5 [00:00<00:00, 1094.49it/s]\n",
      "100%|██████████| 45/45 [00:00<00:00, 417.07it/s]\n",
      "100%|██████████| 5/5 [00:00<00:00, 1205.88it/s]\n",
      "  0%|          | 0/45 [00:00<?, ?it/s]"
     ]
    },
    {
     "name": "stdout",
     "output_type": "stream",
     "text": [
      "Train Loss: 0.0139\n",
      "Val Loss: 0.0111\n",
      "Epoch 625 of 1000\n",
      "<torch.utils.data.dataloader.DataLoader object at 0x7fb151915550>\n",
      "Train Loss: 0.0139\n",
      "Val Loss: 0.0111\n",
      "Epoch 626 of 1000\n",
      "<torch.utils.data.dataloader.DataLoader object at 0x7fb151915550>\n"
     ]
    },
    {
     "name": "stderr",
     "output_type": "stream",
     "text": [
      "100%|██████████| 45/45 [00:00<00:00, 399.99it/s]\n",
      "100%|██████████| 5/5 [00:00<00:00, 1216.94it/s]\n",
      "100%|██████████| 45/45 [00:00<00:00, 423.01it/s]\n",
      "100%|██████████| 5/5 [00:00<00:00, 1064.44it/s]\n",
      "  0%|          | 0/45 [00:00<?, ?it/s]"
     ]
    },
    {
     "name": "stdout",
     "output_type": "stream",
     "text": [
      "Train Loss: 0.0139\n",
      "Val Loss: 0.0111\n",
      "Epoch 627 of 1000\n",
      "<torch.utils.data.dataloader.DataLoader object at 0x7fb151915550>\n",
      "Train Loss: 0.0139\n",
      "Val Loss: 0.0111\n",
      "Epoch 628 of 1000\n",
      "<torch.utils.data.dataloader.DataLoader object at 0x7fb151915550>\n"
     ]
    },
    {
     "name": "stderr",
     "output_type": "stream",
     "text": [
      "100%|██████████| 45/45 [00:00<00:00, 398.78it/s]\n",
      "100%|██████████| 5/5 [00:00<00:00, 1202.63it/s]\n",
      "100%|██████████| 45/45 [00:00<00:00, 424.87it/s]\n",
      "100%|██████████| 5/5 [00:00<00:00, 1214.61it/s]\n",
      "  0%|          | 0/45 [00:00<?, ?it/s]"
     ]
    },
    {
     "name": "stdout",
     "output_type": "stream",
     "text": [
      "Train Loss: 0.0139\n",
      "Val Loss: 0.0111\n",
      "Epoch 629 of 1000\n",
      "<torch.utils.data.dataloader.DataLoader object at 0x7fb151915550>\n",
      "Train Loss: 0.0139\n",
      "Val Loss: 0.0111\n",
      "Epoch 630 of 1000\n",
      "<torch.utils.data.dataloader.DataLoader object at 0x7fb151915550>\n"
     ]
    },
    {
     "name": "stderr",
     "output_type": "stream",
     "text": [
      "100%|██████████| 45/45 [00:00<00:00, 422.33it/s]\n",
      "100%|██████████| 5/5 [00:00<00:00, 1242.17it/s]\n",
      "100%|██████████| 45/45 [00:00<00:00, 432.99it/s]\n",
      "100%|██████████| 5/5 [00:00<00:00, 1149.94it/s]\n",
      "  0%|          | 0/45 [00:00<?, ?it/s]"
     ]
    },
    {
     "name": "stdout",
     "output_type": "stream",
     "text": [
      "Train Loss: 0.0139\n",
      "Val Loss: 0.0111\n",
      "Epoch 631 of 1000\n",
      "<torch.utils.data.dataloader.DataLoader object at 0x7fb151915550>\n",
      "Train Loss: 0.0139\n",
      "Val Loss: 0.0111\n",
      "Epoch 632 of 1000\n",
      "<torch.utils.data.dataloader.DataLoader object at 0x7fb151915550>\n"
     ]
    },
    {
     "name": "stderr",
     "output_type": "stream",
     "text": [
      "100%|██████████| 45/45 [00:00<00:00, 428.45it/s]\n",
      "100%|██████████| 5/5 [00:00<00:00, 1218.92it/s]\n",
      "100%|██████████| 45/45 [00:00<00:00, 425.90it/s]\n",
      "100%|██████████| 5/5 [00:00<00:00, 1151.46it/s]\n",
      "  0%|          | 0/45 [00:00<?, ?it/s]"
     ]
    },
    {
     "name": "stdout",
     "output_type": "stream",
     "text": [
      "Train Loss: 0.0139\n",
      "Val Loss: 0.0111\n",
      "Epoch 633 of 1000\n",
      "<torch.utils.data.dataloader.DataLoader object at 0x7fb151915550>\n",
      "Train Loss: 0.0139\n",
      "Val Loss: 0.0111\n",
      "Epoch 634 of 1000\n",
      "<torch.utils.data.dataloader.DataLoader object at 0x7fb151915550>\n"
     ]
    },
    {
     "name": "stderr",
     "output_type": "stream",
     "text": [
      "100%|██████████| 45/45 [00:00<00:00, 416.93it/s]\n",
      "100%|██████████| 5/5 [00:00<00:00, 1061.74it/s]\n",
      "100%|██████████| 45/45 [00:00<00:00, 429.19it/s]\n",
      "100%|██████████| 5/5 [00:00<00:00, 1263.80it/s]\n",
      "  0%|          | 0/45 [00:00<?, ?it/s]"
     ]
    },
    {
     "name": "stdout",
     "output_type": "stream",
     "text": [
      "Train Loss: 0.0139\n",
      "Val Loss: 0.0111\n",
      "Epoch 635 of 1000\n",
      "<torch.utils.data.dataloader.DataLoader object at 0x7fb151915550>\n",
      "Train Loss: 0.0139\n",
      "Val Loss: 0.0111\n",
      "Epoch 636 of 1000\n",
      "<torch.utils.data.dataloader.DataLoader object at 0x7fb151915550>\n"
     ]
    },
    {
     "name": "stderr",
     "output_type": "stream",
     "text": [
      "100%|██████████| 45/45 [00:00<00:00, 430.22it/s]\n",
      "100%|██████████| 5/5 [00:00<00:00, 1114.08it/s]\n",
      "100%|██████████| 45/45 [00:00<00:00, 439.02it/s]\n",
      "100%|██████████| 5/5 [00:00<00:00, 1250.17it/s]\n",
      "  0%|          | 0/45 [00:00<?, ?it/s]"
     ]
    },
    {
     "name": "stdout",
     "output_type": "stream",
     "text": [
      "Train Loss: 0.0139\n",
      "Val Loss: 0.0111\n",
      "Epoch 637 of 1000\n",
      "<torch.utils.data.dataloader.DataLoader object at 0x7fb151915550>\n",
      "Train Loss: 0.0139\n",
      "Val Loss: 0.0111\n",
      "Epoch 638 of 1000\n",
      "<torch.utils.data.dataloader.DataLoader object at 0x7fb151915550>\n"
     ]
    },
    {
     "name": "stderr",
     "output_type": "stream",
     "text": [
      "100%|██████████| 45/45 [00:00<00:00, 430.16it/s]\n",
      "100%|██████████| 5/5 [00:00<00:00, 1090.05it/s]\n",
      "100%|██████████| 45/45 [00:00<00:00, 424.20it/s]\n",
      "100%|██████████| 5/5 [00:00<00:00, 1138.02it/s]\n",
      "  0%|          | 0/45 [00:00<?, ?it/s]"
     ]
    },
    {
     "name": "stdout",
     "output_type": "stream",
     "text": [
      "Train Loss: 0.0139\n",
      "Val Loss: 0.0111\n",
      "Epoch 639 of 1000\n",
      "<torch.utils.data.dataloader.DataLoader object at 0x7fb151915550>\n",
      "Train Loss: 0.0139\n",
      "Val Loss: 0.0111\n",
      "Epoch 640 of 1000\n",
      "<torch.utils.data.dataloader.DataLoader object at 0x7fb151915550>\n"
     ]
    },
    {
     "name": "stderr",
     "output_type": "stream",
     "text": [
      "100%|██████████| 45/45 [00:00<00:00, 429.59it/s]\n",
      "100%|██████████| 5/5 [00:00<00:00, 1157.82it/s]\n",
      "100%|██████████| 45/45 [00:00<00:00, 421.83it/s]\n",
      "100%|██████████| 5/5 [00:00<00:00, 1154.82it/s]\n",
      "  0%|          | 0/45 [00:00<?, ?it/s]"
     ]
    },
    {
     "name": "stdout",
     "output_type": "stream",
     "text": [
      "Train Loss: 0.0139\n",
      "Val Loss: 0.0111\n",
      "Epoch 641 of 1000\n",
      "<torch.utils.data.dataloader.DataLoader object at 0x7fb151915550>\n",
      "Train Loss: 0.0139\n",
      "Val Loss: 0.0111\n",
      "Epoch 642 of 1000\n",
      "<torch.utils.data.dataloader.DataLoader object at 0x7fb151915550>\n"
     ]
    },
    {
     "name": "stderr",
     "output_type": "stream",
     "text": [
      "100%|██████████| 45/45 [00:00<00:00, 426.81it/s]\n",
      "100%|██████████| 5/5 [00:00<00:00, 1199.19it/s]\n",
      "100%|██████████| 45/45 [00:00<00:00, 411.79it/s]\n",
      "100%|██████████| 5/5 [00:00<00:00, 1172.97it/s]\n",
      "  0%|          | 0/45 [00:00<?, ?it/s]"
     ]
    },
    {
     "name": "stdout",
     "output_type": "stream",
     "text": [
      "Train Loss: 0.0139\n",
      "Val Loss: 0.0111\n",
      "Epoch 643 of 1000\n",
      "<torch.utils.data.dataloader.DataLoader object at 0x7fb151915550>\n",
      "Train Loss: 0.0139\n",
      "Val Loss: 0.0111\n",
      "Epoch 644 of 1000\n",
      "<torch.utils.data.dataloader.DataLoader object at 0x7fb151915550>\n"
     ]
    },
    {
     "name": "stderr",
     "output_type": "stream",
     "text": [
      "100%|██████████| 45/45 [00:00<00:00, 416.43it/s]\n",
      "100%|██████████| 5/5 [00:00<00:00, 1131.76it/s]\n",
      "100%|██████████| 45/45 [00:00<00:00, 412.26it/s]\n",
      "100%|██████████| 5/5 [00:00<00:00, 1101.04it/s]\n",
      "  0%|          | 0/45 [00:00<?, ?it/s]"
     ]
    },
    {
     "name": "stdout",
     "output_type": "stream",
     "text": [
      "Train Loss: 0.0139\n",
      "Val Loss: 0.0111\n",
      "Epoch 645 of 1000\n",
      "<torch.utils.data.dataloader.DataLoader object at 0x7fb151915550>\n",
      "Train Loss: 0.0139\n",
      "Val Loss: 0.0111\n",
      "Epoch 646 of 1000\n",
      "<torch.utils.data.dataloader.DataLoader object at 0x7fb151915550>\n"
     ]
    },
    {
     "name": "stderr",
     "output_type": "stream",
     "text": [
      "100%|██████████| 45/45 [00:00<00:00, 404.28it/s]\n",
      "100%|██████████| 5/5 [00:00<00:00, 988.06it/s]\n",
      "100%|██████████| 45/45 [00:00<00:00, 402.43it/s]\n",
      "100%|██████████| 5/5 [00:00<00:00, 588.87it/s]\n",
      "  0%|          | 0/45 [00:00<?, ?it/s]"
     ]
    },
    {
     "name": "stdout",
     "output_type": "stream",
     "text": [
      "Train Loss: 0.0139\n",
      "Val Loss: 0.0111\n",
      "Epoch 647 of 1000\n",
      "<torch.utils.data.dataloader.DataLoader object at 0x7fb151915550>\n",
      "Train Loss: 0.0139\n",
      "Val Loss: 0.0111\n",
      "Epoch 648 of 1000\n",
      "<torch.utils.data.dataloader.DataLoader object at 0x7fb151915550>\n"
     ]
    },
    {
     "name": "stderr",
     "output_type": "stream",
     "text": [
      "100%|██████████| 45/45 [00:00<00:00, 410.25it/s]\n",
      "100%|██████████| 5/5 [00:00<00:00, 1076.18it/s]\n",
      "100%|██████████| 45/45 [00:00<00:00, 408.17it/s]\n",
      "100%|██████████| 5/5 [00:00<00:00, 1131.09it/s]\n",
      "  0%|          | 0/45 [00:00<?, ?it/s]"
     ]
    },
    {
     "name": "stdout",
     "output_type": "stream",
     "text": [
      "Train Loss: 0.0139\n",
      "Val Loss: 0.0111\n",
      "Epoch 649 of 1000\n",
      "<torch.utils.data.dataloader.DataLoader object at 0x7fb151915550>\n",
      "Train Loss: 0.0139\n",
      "Val Loss: 0.0111\n",
      "Epoch 650 of 1000\n",
      "<torch.utils.data.dataloader.DataLoader object at 0x7fb151915550>\n"
     ]
    },
    {
     "name": "stderr",
     "output_type": "stream",
     "text": [
      "100%|██████████| 45/45 [00:00<00:00, 405.64it/s]\n",
      "100%|██████████| 5/5 [00:00<00:00, 1163.21it/s]\n",
      "100%|██████████| 45/45 [00:00<00:00, 397.26it/s]\n",
      "100%|██████████| 5/5 [00:00<00:00, 1141.37it/s]\n",
      "  0%|          | 0/45 [00:00<?, ?it/s]"
     ]
    },
    {
     "name": "stdout",
     "output_type": "stream",
     "text": [
      "Train Loss: 0.0139\n",
      "Val Loss: 0.0111\n",
      "Epoch 651 of 1000\n",
      "<torch.utils.data.dataloader.DataLoader object at 0x7fb151915550>\n",
      "Train Loss: 0.0139\n",
      "Val Loss: 0.0111\n",
      "Epoch 652 of 1000\n",
      "<torch.utils.data.dataloader.DataLoader object at 0x7fb151915550>\n"
     ]
    },
    {
     "name": "stderr",
     "output_type": "stream",
     "text": [
      "100%|██████████| 45/45 [00:00<00:00, 414.72it/s]\n",
      "100%|██████████| 5/5 [00:00<00:00, 1213.91it/s]\n",
      "100%|██████████| 45/45 [00:00<00:00, 409.42it/s]\n",
      "100%|██████████| 5/5 [00:00<00:00, 986.62it/s]\n",
      "  0%|          | 0/45 [00:00<?, ?it/s]"
     ]
    },
    {
     "name": "stdout",
     "output_type": "stream",
     "text": [
      "Train Loss: 0.0139\n",
      "Val Loss: 0.0111\n",
      "Epoch 653 of 1000\n",
      "<torch.utils.data.dataloader.DataLoader object at 0x7fb151915550>\n",
      "Train Loss: 0.0139\n",
      "Val Loss: 0.0111\n",
      "Epoch 654 of 1000\n",
      "<torch.utils.data.dataloader.DataLoader object at 0x7fb151915550>\n"
     ]
    },
    {
     "name": "stderr",
     "output_type": "stream",
     "text": [
      "100%|██████████| 45/45 [00:00<00:00, 416.02it/s]\n",
      "100%|██████████| 5/5 [00:00<00:00, 1171.00it/s]\n",
      "100%|██████████| 45/45 [00:00<00:00, 432.35it/s]\n",
      "100%|██████████| 5/5 [00:00<00:00, 1214.75it/s]\n",
      "  0%|          | 0/45 [00:00<?, ?it/s]"
     ]
    },
    {
     "name": "stdout",
     "output_type": "stream",
     "text": [
      "Train Loss: 0.0139\n",
      "Val Loss: 0.0111\n",
      "Epoch 655 of 1000\n",
      "<torch.utils.data.dataloader.DataLoader object at 0x7fb151915550>\n",
      "Train Loss: 0.0139\n",
      "Val Loss: 0.0111\n",
      "Epoch 656 of 1000\n",
      "<torch.utils.data.dataloader.DataLoader object at 0x7fb151915550>\n"
     ]
    },
    {
     "name": "stderr",
     "output_type": "stream",
     "text": [
      "100%|██████████| 45/45 [00:00<00:00, 425.23it/s]\n",
      "100%|██████████| 5/5 [00:00<00:00, 1013.31it/s]\n",
      "100%|██████████| 45/45 [00:00<00:00, 432.20it/s]\n",
      "100%|██████████| 5/5 [00:00<00:00, 1203.95it/s]\n",
      "  0%|          | 0/45 [00:00<?, ?it/s]"
     ]
    },
    {
     "name": "stdout",
     "output_type": "stream",
     "text": [
      "Train Loss: 0.0139\n",
      "Val Loss: 0.0111\n",
      "Epoch 657 of 1000\n",
      "<torch.utils.data.dataloader.DataLoader object at 0x7fb151915550>\n",
      "Train Loss: 0.0139\n",
      "Val Loss: 0.0111\n",
      "Epoch 658 of 1000\n",
      "<torch.utils.data.dataloader.DataLoader object at 0x7fb151915550>\n"
     ]
    },
    {
     "name": "stderr",
     "output_type": "stream",
     "text": [
      "100%|██████████| 45/45 [00:00<00:00, 427.66it/s]\n",
      "100%|██████████| 5/5 [00:00<00:00, 1207.06it/s]\n",
      "100%|██████████| 45/45 [00:00<00:00, 437.36it/s]\n",
      "100%|██████████| 5/5 [00:00<00:00, 1220.05it/s]\n",
      "  0%|          | 0/45 [00:00<?, ?it/s]"
     ]
    },
    {
     "name": "stdout",
     "output_type": "stream",
     "text": [
      "Train Loss: 0.0139\n",
      "Val Loss: 0.0111\n",
      "Epoch 659 of 1000\n",
      "<torch.utils.data.dataloader.DataLoader object at 0x7fb151915550>\n",
      "Train Loss: 0.0139\n",
      "Val Loss: 0.0111\n",
      "Epoch 660 of 1000\n",
      "<torch.utils.data.dataloader.DataLoader object at 0x7fb151915550>\n"
     ]
    },
    {
     "name": "stderr",
     "output_type": "stream",
     "text": [
      "100%|██████████| 45/45 [00:00<00:00, 424.69it/s]\n",
      "100%|██████████| 5/5 [00:00<00:00, 1106.91it/s]\n",
      "100%|██████████| 45/45 [00:00<00:00, 422.28it/s]\n",
      "100%|██████████| 5/5 [00:00<00:00, 1155.20it/s]\n",
      "  0%|          | 0/45 [00:00<?, ?it/s]"
     ]
    },
    {
     "name": "stdout",
     "output_type": "stream",
     "text": [
      "Train Loss: 0.0139\n",
      "Val Loss: 0.0111\n",
      "Epoch 661 of 1000\n",
      "<torch.utils.data.dataloader.DataLoader object at 0x7fb151915550>\n",
      "Train Loss: 0.0139\n",
      "Val Loss: 0.0111\n",
      "Epoch 662 of 1000\n",
      "<torch.utils.data.dataloader.DataLoader object at 0x7fb151915550>\n"
     ]
    },
    {
     "name": "stderr",
     "output_type": "stream",
     "text": [
      "100%|██████████| 45/45 [00:00<00:00, 407.34it/s]\n",
      "100%|██████████| 5/5 [00:00<00:00, 1211.53it/s]\n",
      "100%|██████████| 45/45 [00:00<00:00, 414.47it/s]\n",
      "100%|██████████| 5/5 [00:00<00:00, 1215.39it/s]\n",
      "  0%|          | 0/45 [00:00<?, ?it/s]"
     ]
    },
    {
     "name": "stdout",
     "output_type": "stream",
     "text": [
      "Train Loss: 0.0139\n",
      "Val Loss: 0.0111\n",
      "Epoch 663 of 1000\n",
      "<torch.utils.data.dataloader.DataLoader object at 0x7fb151915550>\n",
      "Train Loss: 0.0139\n",
      "Val Loss: 0.0111\n",
      "Epoch 664 of 1000\n",
      "<torch.utils.data.dataloader.DataLoader object at 0x7fb151915550>\n"
     ]
    },
    {
     "name": "stderr",
     "output_type": "stream",
     "text": [
      "100%|██████████| 45/45 [00:00<00:00, 421.27it/s]\n",
      "100%|██████████| 5/5 [00:00<00:00, 1156.16it/s]\n",
      "100%|██████████| 45/45 [00:00<00:00, 432.11it/s]\n",
      "100%|██████████| 5/5 [00:00<00:00, 1208.18it/s]\n",
      "  0%|          | 0/45 [00:00<?, ?it/s]"
     ]
    },
    {
     "name": "stdout",
     "output_type": "stream",
     "text": [
      "Train Loss: 0.0139\n",
      "Val Loss: 0.0111\n",
      "Epoch 665 of 1000\n",
      "<torch.utils.data.dataloader.DataLoader object at 0x7fb151915550>\n",
      "Train Loss: 0.0139\n",
      "Val Loss: 0.0111\n",
      "Epoch 666 of 1000\n",
      "<torch.utils.data.dataloader.DataLoader object at 0x7fb151915550>\n"
     ]
    },
    {
     "name": "stderr",
     "output_type": "stream",
     "text": [
      "100%|██████████| 45/45 [00:00<00:00, 425.14it/s]\n",
      "100%|██████████| 5/5 [00:00<00:00, 1182.23it/s]\n",
      "100%|██████████| 45/45 [00:00<00:00, 421.42it/s]\n",
      "100%|██████████| 5/5 [00:00<00:00, 1149.25it/s]\n",
      "  0%|          | 0/45 [00:00<?, ?it/s]"
     ]
    },
    {
     "name": "stdout",
     "output_type": "stream",
     "text": [
      "Train Loss: 0.0139\n",
      "Val Loss: 0.0111\n",
      "Epoch 667 of 1000\n",
      "<torch.utils.data.dataloader.DataLoader object at 0x7fb151915550>\n",
      "Train Loss: 0.0139\n",
      "Val Loss: 0.0111\n",
      "Epoch 668 of 1000\n",
      "<torch.utils.data.dataloader.DataLoader object at 0x7fb151915550>\n"
     ]
    },
    {
     "name": "stderr",
     "output_type": "stream",
     "text": [
      "100%|██████████| 45/45 [00:00<00:00, 413.15it/s]\n",
      "100%|██████████| 5/5 [00:00<00:00, 1120.09it/s]\n",
      "100%|██████████| 45/45 [00:00<00:00, 416.66it/s]\n",
      "100%|██████████| 5/5 [00:00<00:00, 1141.49it/s]\n",
      "  0%|          | 0/45 [00:00<?, ?it/s]"
     ]
    },
    {
     "name": "stdout",
     "output_type": "stream",
     "text": [
      "Train Loss: 0.0139\n",
      "Val Loss: 0.0111\n",
      "Epoch 669 of 1000\n",
      "<torch.utils.data.dataloader.DataLoader object at 0x7fb151915550>\n",
      "Train Loss: 0.0139\n",
      "Val Loss: 0.0111\n",
      "Epoch 670 of 1000\n",
      "<torch.utils.data.dataloader.DataLoader object at 0x7fb151915550>\n"
     ]
    },
    {
     "name": "stderr",
     "output_type": "stream",
     "text": [
      "100%|██████████| 45/45 [00:00<00:00, 417.59it/s]\n",
      "100%|██████████| 5/5 [00:00<00:00, 1144.61it/s]\n",
      "100%|██████████| 45/45 [00:00<00:00, 418.53it/s]\n",
      "100%|██████████| 5/5 [00:00<00:00, 1213.70it/s]\n",
      "  0%|          | 0/45 [00:00<?, ?it/s]"
     ]
    },
    {
     "name": "stdout",
     "output_type": "stream",
     "text": [
      "Train Loss: 0.0139\n",
      "Val Loss: 0.0111\n",
      "Epoch 671 of 1000\n",
      "<torch.utils.data.dataloader.DataLoader object at 0x7fb151915550>\n",
      "Train Loss: 0.0139\n",
      "Val Loss: 0.0111\n",
      "Epoch 672 of 1000\n",
      "<torch.utils.data.dataloader.DataLoader object at 0x7fb151915550>\n"
     ]
    },
    {
     "name": "stderr",
     "output_type": "stream",
     "text": [
      "100%|██████████| 45/45 [00:00<00:00, 421.92it/s]\n",
      "100%|██████████| 5/5 [00:00<00:00, 1169.50it/s]\n",
      "100%|██████████| 45/45 [00:00<00:00, 424.34it/s]\n",
      "100%|██████████| 5/5 [00:00<00:00, 1181.96it/s]\n",
      "  0%|          | 0/45 [00:00<?, ?it/s]"
     ]
    },
    {
     "name": "stdout",
     "output_type": "stream",
     "text": [
      "Train Loss: 0.0139\n",
      "Val Loss: 0.0111\n",
      "Epoch 673 of 1000\n",
      "<torch.utils.data.dataloader.DataLoader object at 0x7fb151915550>\n",
      "Train Loss: 0.0139\n",
      "Val Loss: 0.0111\n",
      "Epoch 674 of 1000\n",
      "<torch.utils.data.dataloader.DataLoader object at 0x7fb151915550>\n"
     ]
    },
    {
     "name": "stderr",
     "output_type": "stream",
     "text": [
      "100%|██████████| 45/45 [00:00<00:00, 422.29it/s]\n",
      "100%|██████████| 5/5 [00:00<00:00, 1145.67it/s]\n",
      "100%|██████████| 45/45 [00:00<00:00, 423.60it/s]\n",
      "100%|██████████| 5/5 [00:00<00:00, 1169.44it/s]\n",
      "  0%|          | 0/45 [00:00<?, ?it/s]"
     ]
    },
    {
     "name": "stdout",
     "output_type": "stream",
     "text": [
      "Train Loss: 0.0139\n",
      "Val Loss: 0.0111\n",
      "Epoch 675 of 1000\n",
      "<torch.utils.data.dataloader.DataLoader object at 0x7fb151915550>\n",
      "Train Loss: 0.0139\n",
      "Val Loss: 0.0111\n",
      "Epoch 676 of 1000\n",
      "<torch.utils.data.dataloader.DataLoader object at 0x7fb151915550>\n"
     ]
    },
    {
     "name": "stderr",
     "output_type": "stream",
     "text": [
      "100%|██████████| 45/45 [00:00<00:00, 419.17it/s]\n",
      "100%|██████████| 5/5 [00:00<00:00, 1164.24it/s]\n",
      "100%|██████████| 45/45 [00:00<00:00, 415.52it/s]\n",
      "100%|██████████| 5/5 [00:00<00:00, 1174.81it/s]\n",
      "  0%|          | 0/45 [00:00<?, ?it/s]"
     ]
    },
    {
     "name": "stdout",
     "output_type": "stream",
     "text": [
      "Train Loss: 0.0139\n",
      "Val Loss: 0.0111\n",
      "Epoch 677 of 1000\n",
      "<torch.utils.data.dataloader.DataLoader object at 0x7fb151915550>\n",
      "Train Loss: 0.0139\n",
      "Val Loss: 0.0111\n",
      "Epoch 678 of 1000\n",
      "<torch.utils.data.dataloader.DataLoader object at 0x7fb151915550>\n"
     ]
    },
    {
     "name": "stderr",
     "output_type": "stream",
     "text": [
      "100%|██████████| 45/45 [00:00<00:00, 421.42it/s]\n",
      "100%|██████████| 5/5 [00:00<00:00, 1166.45it/s]\n",
      "100%|██████████| 45/45 [00:00<00:00, 416.39it/s]\n",
      "100%|██████████| 5/5 [00:00<00:00, 1021.31it/s]\n",
      "  0%|          | 0/45 [00:00<?, ?it/s]"
     ]
    },
    {
     "name": "stdout",
     "output_type": "stream",
     "text": [
      "Train Loss: 0.0139\n",
      "Val Loss: 0.0111\n",
      "Epoch 679 of 1000\n",
      "<torch.utils.data.dataloader.DataLoader object at 0x7fb151915550>\n",
      "Train Loss: 0.0139\n",
      "Val Loss: 0.0111\n",
      "Epoch 680 of 1000\n",
      "<torch.utils.data.dataloader.DataLoader object at 0x7fb151915550>\n"
     ]
    },
    {
     "name": "stderr",
     "output_type": "stream",
     "text": [
      "100%|██████████| 45/45 [00:00<00:00, 417.62it/s]\n",
      "100%|██████████| 5/5 [00:00<00:00, 1233.76it/s]\n",
      "100%|██████████| 45/45 [00:00<00:00, 419.04it/s]\n",
      "100%|██████████| 5/5 [00:00<00:00, 1114.08it/s]\n",
      "  0%|          | 0/45 [00:00<?, ?it/s]"
     ]
    },
    {
     "name": "stdout",
     "output_type": "stream",
     "text": [
      "Train Loss: 0.0139\n",
      "Val Loss: 0.0111\n",
      "Epoch 681 of 1000\n",
      "<torch.utils.data.dataloader.DataLoader object at 0x7fb151915550>\n",
      "Train Loss: 0.0139\n",
      "Val Loss: 0.0111\n",
      "Epoch 682 of 1000\n",
      "<torch.utils.data.dataloader.DataLoader object at 0x7fb151915550>\n"
     ]
    },
    {
     "name": "stderr",
     "output_type": "stream",
     "text": [
      "100%|██████████| 45/45 [00:00<00:00, 419.20it/s]\n",
      "100%|██████████| 5/5 [00:00<00:00, 1172.64it/s]\n",
      "100%|██████████| 45/45 [00:00<00:00, 421.04it/s]\n",
      "100%|██████████| 5/5 [00:00<00:00, 1145.11it/s]\n",
      "  0%|          | 0/45 [00:00<?, ?it/s]"
     ]
    },
    {
     "name": "stdout",
     "output_type": "stream",
     "text": [
      "Train Loss: 0.0139\n",
      "Val Loss: 0.0111\n",
      "Epoch 683 of 1000\n",
      "<torch.utils.data.dataloader.DataLoader object at 0x7fb151915550>\n",
      "Train Loss: 0.0139\n",
      "Val Loss: 0.0111\n",
      "Epoch 684 of 1000\n",
      "<torch.utils.data.dataloader.DataLoader object at 0x7fb151915550>\n"
     ]
    },
    {
     "name": "stderr",
     "output_type": "stream",
     "text": [
      "100%|██████████| 45/45 [00:00<00:00, 422.94it/s]\n",
      "100%|██████████| 5/5 [00:00<00:00, 1167.55it/s]\n",
      "100%|██████████| 45/45 [00:00<00:00, 401.92it/s]\n",
      "100%|██████████| 5/5 [00:00<00:00, 1120.45it/s]\n",
      "  0%|          | 0/45 [00:00<?, ?it/s]"
     ]
    },
    {
     "name": "stdout",
     "output_type": "stream",
     "text": [
      "Train Loss: 0.0139\n",
      "Val Loss: 0.0111\n",
      "Epoch 685 of 1000\n",
      "<torch.utils.data.dataloader.DataLoader object at 0x7fb151915550>\n",
      "Train Loss: 0.0139\n",
      "Val Loss: 0.0111\n",
      "Epoch 686 of 1000\n",
      "<torch.utils.data.dataloader.DataLoader object at 0x7fb151915550>\n"
     ]
    },
    {
     "name": "stderr",
     "output_type": "stream",
     "text": [
      "100%|██████████| 45/45 [00:00<00:00, 413.43it/s]\n",
      "100%|██████████| 5/5 [00:00<00:00, 1042.32it/s]\n",
      "100%|██████████| 45/45 [00:00<00:00, 418.83it/s]\n",
      "100%|██████████| 5/5 [00:00<00:00, 1176.85it/s]\n",
      "  0%|          | 0/45 [00:00<?, ?it/s]"
     ]
    },
    {
     "name": "stdout",
     "output_type": "stream",
     "text": [
      "Train Loss: 0.0139\n",
      "Val Loss: 0.0111\n",
      "Epoch 687 of 1000\n",
      "<torch.utils.data.dataloader.DataLoader object at 0x7fb151915550>\n",
      "Train Loss: 0.0139\n",
      "Val Loss: 0.0111\n",
      "Epoch 688 of 1000\n",
      "<torch.utils.data.dataloader.DataLoader object at 0x7fb151915550>\n"
     ]
    },
    {
     "name": "stderr",
     "output_type": "stream",
     "text": [
      "100%|██████████| 45/45 [00:00<00:00, 420.08it/s]\n",
      "100%|██████████| 5/5 [00:00<00:00, 1093.58it/s]\n",
      "100%|██████████| 45/45 [00:00<00:00, 418.27it/s]\n",
      "100%|██████████| 5/5 [00:00<00:00, 1110.66it/s]\n",
      "  0%|          | 0/45 [00:00<?, ?it/s]"
     ]
    },
    {
     "name": "stdout",
     "output_type": "stream",
     "text": [
      "Train Loss: 0.0139\n",
      "Val Loss: 0.0111\n",
      "Epoch 689 of 1000\n",
      "<torch.utils.data.dataloader.DataLoader object at 0x7fb151915550>\n",
      "Train Loss: 0.0139\n",
      "Val Loss: 0.0111\n",
      "Epoch 690 of 1000\n",
      "<torch.utils.data.dataloader.DataLoader object at 0x7fb151915550>\n"
     ]
    },
    {
     "name": "stderr",
     "output_type": "stream",
     "text": [
      "100%|██████████| 45/45 [00:00<00:00, 425.46it/s]\n",
      "100%|██████████| 5/5 [00:00<00:00, 1180.23it/s]\n",
      "100%|██████████| 45/45 [00:00<00:00, 417.67it/s]\n",
      "100%|██████████| 5/5 [00:00<00:00, 1187.72it/s]\n",
      "  0%|          | 0/45 [00:00<?, ?it/s]"
     ]
    },
    {
     "name": "stdout",
     "output_type": "stream",
     "text": [
      "Train Loss: 0.0139\n",
      "Val Loss: 0.0111\n",
      "Epoch 691 of 1000\n",
      "<torch.utils.data.dataloader.DataLoader object at 0x7fb151915550>\n",
      "Train Loss: 0.0139\n",
      "Val Loss: 0.0111\n",
      "Epoch 692 of 1000\n",
      "<torch.utils.data.dataloader.DataLoader object at 0x7fb151915550>\n"
     ]
    },
    {
     "name": "stderr",
     "output_type": "stream",
     "text": [
      "100%|██████████| 45/45 [00:00<00:00, 400.56it/s]\n",
      "100%|██████████| 5/5 [00:00<00:00, 1102.78it/s]\n",
      "100%|██████████| 45/45 [00:00<00:00, 432.24it/s]\n",
      "100%|██████████| 5/5 [00:00<00:00, 1205.81it/s]\n",
      "  0%|          | 0/45 [00:00<?, ?it/s]"
     ]
    },
    {
     "name": "stdout",
     "output_type": "stream",
     "text": [
      "Train Loss: 0.0139\n",
      "Val Loss: 0.0111\n",
      "Epoch 693 of 1000\n",
      "<torch.utils.data.dataloader.DataLoader object at 0x7fb151915550>\n",
      "Train Loss: 0.0139\n",
      "Val Loss: 0.0111\n",
      "Epoch 694 of 1000\n",
      "<torch.utils.data.dataloader.DataLoader object at 0x7fb151915550>\n"
     ]
    },
    {
     "name": "stderr",
     "output_type": "stream",
     "text": [
      "100%|██████████| 45/45 [00:00<00:00, 425.63it/s]\n",
      "100%|██████████| 5/5 [00:00<00:00, 1117.47it/s]\n",
      "100%|██████████| 45/45 [00:00<00:00, 414.98it/s]\n",
      "100%|██████████| 5/5 [00:00<00:00, 1178.11it/s]\n",
      "  0%|          | 0/45 [00:00<?, ?it/s]"
     ]
    },
    {
     "name": "stdout",
     "output_type": "stream",
     "text": [
      "Train Loss: 0.0139\n",
      "Val Loss: 0.0111\n",
      "Epoch 695 of 1000\n",
      "<torch.utils.data.dataloader.DataLoader object at 0x7fb151915550>\n",
      "Train Loss: 0.0139\n",
      "Val Loss: 0.0111\n",
      "Epoch 696 of 1000\n",
      "<torch.utils.data.dataloader.DataLoader object at 0x7fb151915550>\n"
     ]
    },
    {
     "name": "stderr",
     "output_type": "stream",
     "text": [
      "100%|██████████| 45/45 [00:00<00:00, 418.59it/s]\n",
      "100%|██████████| 5/5 [00:00<00:00, 1120.69it/s]\n",
      "100%|██████████| 45/45 [00:00<00:00, 416.51it/s]\n",
      "100%|██████████| 5/5 [00:00<00:00, 1128.65it/s]\n",
      "  0%|          | 0/45 [00:00<?, ?it/s]"
     ]
    },
    {
     "name": "stdout",
     "output_type": "stream",
     "text": [
      "Train Loss: 0.0139\n",
      "Val Loss: 0.0111\n",
      "Epoch 697 of 1000\n",
      "<torch.utils.data.dataloader.DataLoader object at 0x7fb151915550>\n",
      "Train Loss: 0.0139\n",
      "Val Loss: 0.0111\n",
      "Epoch 698 of 1000\n",
      "<torch.utils.data.dataloader.DataLoader object at 0x7fb151915550>\n"
     ]
    },
    {
     "name": "stderr",
     "output_type": "stream",
     "text": [
      "100%|██████████| 45/45 [00:00<00:00, 425.59it/s]\n",
      "100%|██████████| 5/5 [00:00<00:00, 1161.99it/s]\n",
      "100%|██████████| 45/45 [00:00<00:00, 411.42it/s]\n",
      "100%|██████████| 5/5 [00:00<00:00, 1068.83it/s]\n",
      "  0%|          | 0/45 [00:00<?, ?it/s]"
     ]
    },
    {
     "name": "stdout",
     "output_type": "stream",
     "text": [
      "Train Loss: 0.0139\n",
      "Val Loss: 0.0111\n",
      "Epoch 699 of 1000\n",
      "<torch.utils.data.dataloader.DataLoader object at 0x7fb151915550>\n",
      "Train Loss: 0.0139\n",
      "Val Loss: 0.0111\n",
      "Epoch 700 of 1000\n",
      "<torch.utils.data.dataloader.DataLoader object at 0x7fb151915550>\n"
     ]
    },
    {
     "name": "stderr",
     "output_type": "stream",
     "text": [
      "100%|██████████| 45/45 [00:00<00:00, 431.92it/s]\n",
      "100%|██████████| 5/5 [00:00<00:00, 1222.05it/s]\n",
      "100%|██████████| 45/45 [00:00<00:00, 427.50it/s]\n",
      "100%|██████████| 5/5 [00:00<00:00, 1171.86it/s]\n",
      "  0%|          | 0/45 [00:00<?, ?it/s]"
     ]
    },
    {
     "name": "stdout",
     "output_type": "stream",
     "text": [
      "Train Loss: 0.0139\n",
      "Val Loss: 0.0111\n",
      "Epoch 701 of 1000\n",
      "<torch.utils.data.dataloader.DataLoader object at 0x7fb151915550>\n",
      "Train Loss: 0.0139\n",
      "Val Loss: 0.0111\n",
      "Epoch 702 of 1000\n",
      "<torch.utils.data.dataloader.DataLoader object at 0x7fb151915550>\n"
     ]
    },
    {
     "name": "stderr",
     "output_type": "stream",
     "text": [
      "100%|██████████| 45/45 [00:00<00:00, 404.80it/s]\n",
      "100%|██████████| 5/5 [00:00<00:00, 1246.60it/s]\n",
      "100%|██████████| 45/45 [00:00<00:00, 420.48it/s]\n",
      "100%|██████████| 5/5 [00:00<00:00, 1117.29it/s]\n",
      "  0%|          | 0/45 [00:00<?, ?it/s]"
     ]
    },
    {
     "name": "stdout",
     "output_type": "stream",
     "text": [
      "Train Loss: 0.0139\n",
      "Val Loss: 0.0111\n",
      "Epoch 703 of 1000\n",
      "<torch.utils.data.dataloader.DataLoader object at 0x7fb151915550>\n",
      "Train Loss: 0.0139\n",
      "Val Loss: 0.0111\n",
      "Epoch 704 of 1000\n",
      "<torch.utils.data.dataloader.DataLoader object at 0x7fb151915550>\n"
     ]
    },
    {
     "name": "stderr",
     "output_type": "stream",
     "text": [
      "100%|██████████| 45/45 [00:00<00:00, 424.31it/s]\n",
      "100%|██████████| 5/5 [00:00<00:00, 1129.14it/s]\n",
      "100%|██████████| 45/45 [00:00<00:00, 420.57it/s]\n",
      "100%|██████████| 5/5 [00:00<00:00, 1074.53it/s]\n",
      "  0%|          | 0/45 [00:00<?, ?it/s]"
     ]
    },
    {
     "name": "stdout",
     "output_type": "stream",
     "text": [
      "Train Loss: 0.0139\n",
      "Val Loss: 0.0111\n",
      "Epoch 705 of 1000\n",
      "<torch.utils.data.dataloader.DataLoader object at 0x7fb151915550>\n",
      "Train Loss: 0.0139\n",
      "Val Loss: 0.0111\n",
      "Epoch 706 of 1000\n",
      "<torch.utils.data.dataloader.DataLoader object at 0x7fb151915550>\n"
     ]
    },
    {
     "name": "stderr",
     "output_type": "stream",
     "text": [
      "100%|██████████| 45/45 [00:00<00:00, 426.73it/s]\n",
      "100%|██████████| 5/5 [00:00<00:00, 1116.28it/s]\n",
      "100%|██████████| 45/45 [00:00<00:00, 408.64it/s]\n",
      "100%|██████████| 5/5 [00:00<00:00, 1256.31it/s]\n",
      "  0%|          | 0/45 [00:00<?, ?it/s]"
     ]
    },
    {
     "name": "stdout",
     "output_type": "stream",
     "text": [
      "Train Loss: 0.0139\n",
      "Val Loss: 0.0111\n",
      "Epoch 707 of 1000\n",
      "<torch.utils.data.dataloader.DataLoader object at 0x7fb151915550>\n",
      "Train Loss: 0.0139\n",
      "Val Loss: 0.0111\n",
      "Epoch 708 of 1000\n",
      "<torch.utils.data.dataloader.DataLoader object at 0x7fb151915550>\n"
     ]
    },
    {
     "name": "stderr",
     "output_type": "stream",
     "text": [
      "100%|██████████| 45/45 [00:00<00:00, 418.14it/s]\n",
      "100%|██████████| 5/5 [00:00<00:00, 1233.55it/s]\n",
      "100%|██████████| 45/45 [00:00<00:00, 425.40it/s]\n",
      "100%|██████████| 5/5 [00:00<00:00, 1099.19it/s]\n",
      "  0%|          | 0/45 [00:00<?, ?it/s]"
     ]
    },
    {
     "name": "stdout",
     "output_type": "stream",
     "text": [
      "Train Loss: 0.0139\n",
      "Val Loss: 0.0111\n",
      "Epoch 709 of 1000\n",
      "<torch.utils.data.dataloader.DataLoader object at 0x7fb151915550>\n",
      "Train Loss: 0.0139\n",
      "Val Loss: 0.0111\n",
      "Epoch 710 of 1000\n",
      "<torch.utils.data.dataloader.DataLoader object at 0x7fb151915550>\n"
     ]
    },
    {
     "name": "stderr",
     "output_type": "stream",
     "text": [
      "100%|██████████| 45/45 [00:00<00:00, 420.51it/s]\n",
      "100%|██████████| 5/5 [00:00<00:00, 1117.94it/s]\n",
      "100%|██████████| 45/45 [00:00<00:00, 413.71it/s]\n",
      "100%|██████████| 5/5 [00:00<00:00, 1149.63it/s]\n",
      "  0%|          | 0/45 [00:00<?, ?it/s]"
     ]
    },
    {
     "name": "stdout",
     "output_type": "stream",
     "text": [
      "Train Loss: 0.0139\n",
      "Val Loss: 0.0111\n",
      "Epoch 711 of 1000\n",
      "<torch.utils.data.dataloader.DataLoader object at 0x7fb151915550>\n",
      "Train Loss: 0.0139\n",
      "Val Loss: 0.0111\n",
      "Epoch 712 of 1000\n",
      "<torch.utils.data.dataloader.DataLoader object at 0x7fb151915550>\n"
     ]
    },
    {
     "name": "stderr",
     "output_type": "stream",
     "text": [
      "100%|██████████| 45/45 [00:00<00:00, 400.77it/s]\n",
      "100%|██████████| 5/5 [00:00<00:00, 811.34it/s]\n",
      "100%|██████████| 45/45 [00:00<00:00, 427.43it/s]\n",
      "100%|██████████| 5/5 [00:00<00:00, 1197.69it/s]\n",
      "  0%|          | 0/45 [00:00<?, ?it/s]"
     ]
    },
    {
     "name": "stdout",
     "output_type": "stream",
     "text": [
      "Train Loss: 0.0139\n",
      "Val Loss: 0.0111\n",
      "Epoch 713 of 1000\n",
      "<torch.utils.data.dataloader.DataLoader object at 0x7fb151915550>\n",
      "Train Loss: 0.0139\n",
      "Val Loss: 0.0111\n",
      "Epoch 714 of 1000\n",
      "<torch.utils.data.dataloader.DataLoader object at 0x7fb151915550>\n"
     ]
    },
    {
     "name": "stderr",
     "output_type": "stream",
     "text": [
      "100%|██████████| 45/45 [00:00<00:00, 415.37it/s]\n",
      "100%|██████████| 5/5 [00:00<00:00, 1176.13it/s]\n",
      "100%|██████████| 45/45 [00:00<00:00, 416.34it/s]\n",
      "100%|██████████| 5/5 [00:00<00:00, 1191.70it/s]\n",
      "  0%|          | 0/45 [00:00<?, ?it/s]"
     ]
    },
    {
     "name": "stdout",
     "output_type": "stream",
     "text": [
      "Train Loss: 0.0139\n",
      "Val Loss: 0.0111\n",
      "Epoch 715 of 1000\n",
      "<torch.utils.data.dataloader.DataLoader object at 0x7fb151915550>\n",
      "Train Loss: 0.0139\n",
      "Val Loss: 0.0111\n",
      "Epoch 716 of 1000\n",
      "<torch.utils.data.dataloader.DataLoader object at 0x7fb151915550>\n"
     ]
    },
    {
     "name": "stderr",
     "output_type": "stream",
     "text": [
      "100%|██████████| 45/45 [00:00<00:00, 416.29it/s]\n",
      "100%|██████████| 5/5 [00:00<00:00, 1125.38it/s]\n",
      "100%|██████████| 45/45 [00:00<00:00, 417.30it/s]\n",
      "100%|██████████| 5/5 [00:00<00:00, 1198.58it/s]\n",
      "  0%|          | 0/45 [00:00<?, ?it/s]"
     ]
    },
    {
     "name": "stdout",
     "output_type": "stream",
     "text": [
      "Train Loss: 0.0139\n",
      "Val Loss: 0.0111\n",
      "Epoch 717 of 1000\n",
      "<torch.utils.data.dataloader.DataLoader object at 0x7fb151915550>\n",
      "Train Loss: 0.0139\n",
      "Val Loss: 0.0111\n",
      "Epoch 718 of 1000\n",
      "<torch.utils.data.dataloader.DataLoader object at 0x7fb151915550>\n"
     ]
    },
    {
     "name": "stderr",
     "output_type": "stream",
     "text": [
      "100%|██████████| 45/45 [00:00<00:00, 412.99it/s]\n",
      "100%|██████████| 5/5 [00:00<00:00, 1259.40it/s]\n",
      "100%|██████████| 45/45 [00:00<00:00, 428.16it/s]\n",
      "100%|██████████| 5/5 [00:00<00:00, 1144.23it/s]\n",
      "  0%|          | 0/45 [00:00<?, ?it/s]"
     ]
    },
    {
     "name": "stdout",
     "output_type": "stream",
     "text": [
      "Train Loss: 0.0139\n",
      "Val Loss: 0.0111\n",
      "Epoch 719 of 1000\n",
      "<torch.utils.data.dataloader.DataLoader object at 0x7fb151915550>\n",
      "Train Loss: 0.0139\n",
      "Val Loss: 0.0111\n",
      "Epoch 720 of 1000\n",
      "<torch.utils.data.dataloader.DataLoader object at 0x7fb151915550>\n"
     ]
    },
    {
     "name": "stderr",
     "output_type": "stream",
     "text": [
      "100%|██████████| 45/45 [00:00<00:00, 420.02it/s]\n",
      "100%|██████████| 5/5 [00:00<00:00, 1089.03it/s]\n",
      "100%|██████████| 45/45 [00:00<00:00, 423.05it/s]\n",
      "100%|██████████| 5/5 [00:00<00:00, 1185.57it/s]\n",
      "  0%|          | 0/45 [00:00<?, ?it/s]"
     ]
    },
    {
     "name": "stdout",
     "output_type": "stream",
     "text": [
      "Train Loss: 0.0139\n",
      "Val Loss: 0.0111\n",
      "Epoch 721 of 1000\n",
      "<torch.utils.data.dataloader.DataLoader object at 0x7fb151915550>\n",
      "Train Loss: 0.0139\n",
      "Val Loss: 0.0111\n",
      "Epoch 722 of 1000\n",
      "<torch.utils.data.dataloader.DataLoader object at 0x7fb151915550>\n"
     ]
    },
    {
     "name": "stderr",
     "output_type": "stream",
     "text": [
      "100%|██████████| 45/45 [00:00<00:00, 422.57it/s]\n",
      "100%|██████████| 5/5 [00:00<00:00, 1033.64it/s]\n",
      "100%|██████████| 45/45 [00:00<00:00, 402.79it/s]\n",
      "100%|██████████| 5/5 [00:00<00:00, 1197.35it/s]\n",
      "  0%|          | 0/45 [00:00<?, ?it/s]"
     ]
    },
    {
     "name": "stdout",
     "output_type": "stream",
     "text": [
      "Train Loss: 0.0139\n",
      "Val Loss: 0.0111\n",
      "Epoch 723 of 1000\n",
      "<torch.utils.data.dataloader.DataLoader object at 0x7fb151915550>\n",
      "Train Loss: 0.0139\n",
      "Val Loss: 0.0111\n",
      "Epoch 724 of 1000\n",
      "<torch.utils.data.dataloader.DataLoader object at 0x7fb151915550>\n"
     ]
    },
    {
     "name": "stderr",
     "output_type": "stream",
     "text": [
      "100%|██████████| 45/45 [00:00<00:00, 417.42it/s]\n",
      "100%|██████████| 5/5 [00:00<00:00, 1114.91it/s]\n",
      "100%|██████████| 45/45 [00:00<00:00, 422.63it/s]\n",
      "100%|██████████| 5/5 [00:00<00:00, 1033.95it/s]\n",
      "  0%|          | 0/45 [00:00<?, ?it/s]"
     ]
    },
    {
     "name": "stdout",
     "output_type": "stream",
     "text": [
      "Train Loss: 0.0139\n",
      "Val Loss: 0.0111\n",
      "Epoch 725 of 1000\n",
      "<torch.utils.data.dataloader.DataLoader object at 0x7fb151915550>\n",
      "Train Loss: 0.0139\n",
      "Val Loss: 0.0111\n",
      "Epoch 726 of 1000\n",
      "<torch.utils.data.dataloader.DataLoader object at 0x7fb151915550>\n"
     ]
    },
    {
     "name": "stderr",
     "output_type": "stream",
     "text": [
      "100%|██████████| 45/45 [00:00<00:00, 425.05it/s]\n",
      "100%|██████████| 5/5 [00:00<00:00, 1191.16it/s]\n",
      "100%|██████████| 45/45 [00:00<00:00, 408.39it/s]\n",
      "100%|██████████| 5/5 [00:00<00:00, 1176.79it/s]\n",
      "  0%|          | 0/45 [00:00<?, ?it/s]"
     ]
    },
    {
     "name": "stdout",
     "output_type": "stream",
     "text": [
      "Train Loss: 0.0139\n",
      "Val Loss: 0.0111\n",
      "Epoch 727 of 1000\n",
      "<torch.utils.data.dataloader.DataLoader object at 0x7fb151915550>\n",
      "Train Loss: 0.0139\n",
      "Val Loss: 0.0111\n",
      "Epoch 728 of 1000\n",
      "<torch.utils.data.dataloader.DataLoader object at 0x7fb151915550>\n"
     ]
    },
    {
     "name": "stderr",
     "output_type": "stream",
     "text": [
      "100%|██████████| 45/45 [00:00<00:00, 373.00it/s]\n",
      "100%|██████████| 5/5 [00:00<00:00, 1134.27it/s]\n",
      "100%|██████████| 45/45 [00:00<00:00, 410.53it/s]\n",
      "100%|██████████| 5/5 [00:00<00:00, 1223.61it/s]\n",
      "  0%|          | 0/45 [00:00<?, ?it/s]"
     ]
    },
    {
     "name": "stdout",
     "output_type": "stream",
     "text": [
      "Train Loss: 0.0139\n",
      "Val Loss: 0.0111\n",
      "Epoch 729 of 1000\n",
      "<torch.utils.data.dataloader.DataLoader object at 0x7fb151915550>\n",
      "Train Loss: 0.0139\n",
      "Val Loss: 0.0111\n",
      "Epoch 730 of 1000\n",
      "<torch.utils.data.dataloader.DataLoader object at 0x7fb151915550>\n"
     ]
    },
    {
     "name": "stderr",
     "output_type": "stream",
     "text": [
      "100%|██████████| 45/45 [00:00<00:00, 418.22it/s]\n",
      "100%|██████████| 5/5 [00:00<00:00, 1072.33it/s]\n",
      "100%|██████████| 45/45 [00:00<00:00, 372.11it/s]\n",
      "100%|██████████| 5/5 [00:00<00:00, 1072.49it/s]\n",
      "  0%|          | 0/45 [00:00<?, ?it/s]"
     ]
    },
    {
     "name": "stdout",
     "output_type": "stream",
     "text": [
      "Train Loss: 0.0139\n",
      "Val Loss: 0.0111\n",
      "Epoch 731 of 1000\n",
      "<torch.utils.data.dataloader.DataLoader object at 0x7fb151915550>\n",
      "Train Loss: 0.0139\n",
      "Val Loss: 0.0111\n",
      "Epoch 732 of 1000\n",
      "<torch.utils.data.dataloader.DataLoader object at 0x7fb151915550>\n"
     ]
    },
    {
     "name": "stderr",
     "output_type": "stream",
     "text": [
      "100%|██████████| 45/45 [00:00<00:00, 391.32it/s]\n",
      "100%|██████████| 5/5 [00:00<00:00, 1072.11it/s]\n",
      "100%|██████████| 45/45 [00:00<00:00, 407.89it/s]\n",
      "100%|██████████| 5/5 [00:00<00:00, 1158.52it/s]\n",
      "  0%|          | 0/45 [00:00<?, ?it/s]"
     ]
    },
    {
     "name": "stdout",
     "output_type": "stream",
     "text": [
      "Train Loss: 0.0139\n",
      "Val Loss: 0.0111\n",
      "Epoch 733 of 1000\n",
      "<torch.utils.data.dataloader.DataLoader object at 0x7fb151915550>\n",
      "Train Loss: 0.0139\n",
      "Val Loss: 0.0111\n",
      "Epoch 734 of 1000\n",
      "<torch.utils.data.dataloader.DataLoader object at 0x7fb151915550>\n"
     ]
    },
    {
     "name": "stderr",
     "output_type": "stream",
     "text": [
      "100%|██████████| 45/45 [00:00<00:00, 387.75it/s]\n",
      "100%|██████████| 5/5 [00:00<00:00, 1151.84it/s]\n",
      "100%|██████████| 45/45 [00:00<00:00, 392.03it/s]\n",
      "100%|██████████| 5/5 [00:00<00:00, 1249.49it/s]\n",
      "  0%|          | 0/45 [00:00<?, ?it/s]"
     ]
    },
    {
     "name": "stdout",
     "output_type": "stream",
     "text": [
      "Train Loss: 0.0139\n",
      "Val Loss: 0.0111\n",
      "Epoch 735 of 1000\n",
      "<torch.utils.data.dataloader.DataLoader object at 0x7fb151915550>\n",
      "Train Loss: 0.0139\n",
      "Val Loss: 0.0111\n",
      "Epoch 736 of 1000\n",
      "<torch.utils.data.dataloader.DataLoader object at 0x7fb151915550>\n"
     ]
    },
    {
     "name": "stderr",
     "output_type": "stream",
     "text": [
      "100%|██████████| 45/45 [00:00<00:00, 435.85it/s]\n",
      "100%|██████████| 5/5 [00:00<00:00, 1111.43it/s]\n",
      "100%|██████████| 45/45 [00:00<00:00, 417.64it/s]\n",
      "100%|██████████| 5/5 [00:00<00:00, 1156.41it/s]\n",
      "  0%|          | 0/45 [00:00<?, ?it/s]"
     ]
    },
    {
     "name": "stdout",
     "output_type": "stream",
     "text": [
      "Train Loss: 0.0139\n",
      "Val Loss: 0.0111\n",
      "Epoch 737 of 1000\n",
      "<torch.utils.data.dataloader.DataLoader object at 0x7fb151915550>\n",
      "Train Loss: 0.0139\n",
      "Val Loss: 0.0111\n",
      "Epoch 738 of 1000\n",
      "<torch.utils.data.dataloader.DataLoader object at 0x7fb151915550>\n"
     ]
    },
    {
     "name": "stderr",
     "output_type": "stream",
     "text": [
      "100%|██████████| 45/45 [00:00<00:00, 424.58it/s]\n",
      "100%|██████████| 5/5 [00:00<00:00, 1067.69it/s]\n",
      "100%|██████████| 45/45 [00:00<00:00, 425.98it/s]\n",
      "100%|██████████| 5/5 [00:00<00:00, 1181.29it/s]\n",
      "  0%|          | 0/45 [00:00<?, ?it/s]"
     ]
    },
    {
     "name": "stdout",
     "output_type": "stream",
     "text": [
      "Train Loss: 0.0139\n",
      "Val Loss: 0.0111\n",
      "Epoch 739 of 1000\n",
      "<torch.utils.data.dataloader.DataLoader object at 0x7fb151915550>\n",
      "Train Loss: 0.0139\n",
      "Val Loss: 0.0111\n",
      "Epoch 740 of 1000\n",
      "<torch.utils.data.dataloader.DataLoader object at 0x7fb151915550>\n"
     ]
    },
    {
     "name": "stderr",
     "output_type": "stream",
     "text": [
      "100%|██████████| 45/45 [00:00<00:00, 424.94it/s]\n",
      "100%|██████████| 5/5 [00:00<00:00, 1176.13it/s]\n",
      "100%|██████████| 45/45 [00:00<00:00, 425.33it/s]\n",
      "100%|██████████| 5/5 [00:00<00:00, 1123.39it/s]\n",
      "  0%|          | 0/45 [00:00<?, ?it/s]"
     ]
    },
    {
     "name": "stdout",
     "output_type": "stream",
     "text": [
      "Train Loss: 0.0139\n",
      "Val Loss: 0.0111\n",
      "Epoch 741 of 1000\n",
      "<torch.utils.data.dataloader.DataLoader object at 0x7fb151915550>\n",
      "Train Loss: 0.0139\n",
      "Val Loss: 0.0111\n",
      "Epoch 742 of 1000\n",
      "<torch.utils.data.dataloader.DataLoader object at 0x7fb151915550>\n"
     ]
    },
    {
     "name": "stderr",
     "output_type": "stream",
     "text": [
      "100%|██████████| 45/45 [00:00<00:00, 399.53it/s]\n",
      "100%|██████████| 5/5 [00:00<00:00, 1144.30it/s]\n",
      "100%|██████████| 45/45 [00:00<00:00, 421.85it/s]\n",
      "100%|██████████| 5/5 [00:00<00:00, 1182.83it/s]\n",
      "  0%|          | 0/45 [00:00<?, ?it/s]"
     ]
    },
    {
     "name": "stdout",
     "output_type": "stream",
     "text": [
      "Train Loss: 0.0139\n",
      "Val Loss: 0.0111\n",
      "Epoch 743 of 1000\n",
      "<torch.utils.data.dataloader.DataLoader object at 0x7fb151915550>\n",
      "Train Loss: 0.0139\n",
      "Val Loss: 0.0111\n",
      "Epoch 744 of 1000\n",
      "<torch.utils.data.dataloader.DataLoader object at 0x7fb151915550>\n"
     ]
    },
    {
     "name": "stderr",
     "output_type": "stream",
     "text": [
      "100%|██████████| 45/45 [00:00<00:00, 422.40it/s]\n",
      "100%|██████████| 5/5 [00:00<00:00, 1159.10it/s]\n",
      "100%|██████████| 45/45 [00:00<00:00, 411.27it/s]\n",
      "100%|██████████| 5/5 [00:00<00:00, 1108.55it/s]\n",
      "  0%|          | 0/45 [00:00<?, ?it/s]"
     ]
    },
    {
     "name": "stdout",
     "output_type": "stream",
     "text": [
      "Train Loss: 0.0139\n",
      "Val Loss: 0.0111\n",
      "Epoch 745 of 1000\n",
      "<torch.utils.data.dataloader.DataLoader object at 0x7fb151915550>\n",
      "Train Loss: 0.0139\n",
      "Val Loss: 0.0111\n",
      "Epoch 746 of 1000\n",
      "<torch.utils.data.dataloader.DataLoader object at 0x7fb151915550>\n"
     ]
    },
    {
     "name": "stderr",
     "output_type": "stream",
     "text": [
      "100%|██████████| 45/45 [00:00<00:00, 411.82it/s]\n",
      "100%|██████████| 5/5 [00:00<00:00, 1126.17it/s]\n",
      "100%|██████████| 45/45 [00:00<00:00, 424.37it/s]\n",
      "100%|██████████| 5/5 [00:00<00:00, 1092.21it/s]\n",
      "  0%|          | 0/45 [00:00<?, ?it/s]"
     ]
    },
    {
     "name": "stdout",
     "output_type": "stream",
     "text": [
      "Train Loss: 0.0139\n",
      "Val Loss: 0.0111\n",
      "Epoch 747 of 1000\n",
      "<torch.utils.data.dataloader.DataLoader object at 0x7fb151915550>\n",
      "Train Loss: 0.0139\n",
      "Val Loss: 0.0111\n",
      "Epoch 748 of 1000\n",
      "<torch.utils.data.dataloader.DataLoader object at 0x7fb151915550>\n"
     ]
    },
    {
     "name": "stderr",
     "output_type": "stream",
     "text": [
      "100%|██████████| 45/45 [00:00<00:00, 421.08it/s]\n",
      "100%|██████████| 5/5 [00:00<00:00, 1119.79it/s]\n",
      "100%|██████████| 45/45 [00:00<00:00, 419.43it/s]\n",
      "100%|██████████| 5/5 [00:00<00:00, 1185.57it/s]\n",
      "  0%|          | 0/45 [00:00<?, ?it/s]"
     ]
    },
    {
     "name": "stdout",
     "output_type": "stream",
     "text": [
      "Train Loss: 0.0139\n",
      "Val Loss: 0.0111\n",
      "Epoch 749 of 1000\n",
      "<torch.utils.data.dataloader.DataLoader object at 0x7fb151915550>\n",
      "Train Loss: 0.0139\n",
      "Val Loss: 0.0111\n",
      "Epoch 750 of 1000\n",
      "<torch.utils.data.dataloader.DataLoader object at 0x7fb151915550>\n"
     ]
    },
    {
     "name": "stderr",
     "output_type": "stream",
     "text": [
      "100%|██████████| 45/45 [00:00<00:00, 423.20it/s]\n",
      "100%|██████████| 5/5 [00:00<00:00, 1125.32it/s]\n",
      "100%|██████████| 45/45 [00:00<00:00, 425.76it/s]\n",
      "100%|██████████| 5/5 [00:00<00:00, 1183.76it/s]\n",
      "  0%|          | 0/45 [00:00<?, ?it/s]"
     ]
    },
    {
     "name": "stdout",
     "output_type": "stream",
     "text": [
      "Train Loss: 0.0139\n",
      "Val Loss: 0.0111\n",
      "Epoch 751 of 1000\n",
      "<torch.utils.data.dataloader.DataLoader object at 0x7fb151915550>\n",
      "Train Loss: 0.0139\n",
      "Val Loss: 0.0111\n",
      "Epoch 752 of 1000\n",
      "<torch.utils.data.dataloader.DataLoader object at 0x7fb151915550>\n"
     ]
    },
    {
     "name": "stderr",
     "output_type": "stream",
     "text": [
      "100%|██████████| 45/45 [00:00<00:00, 407.85it/s]\n",
      "100%|██████████| 5/5 [00:00<00:00, 1174.74it/s]\n",
      "100%|██████████| 45/45 [00:00<00:00, 373.96it/s]\n",
      "100%|██████████| 5/5 [00:00<00:00, 1169.18it/s]\n",
      "  0%|          | 0/45 [00:00<?, ?it/s]"
     ]
    },
    {
     "name": "stdout",
     "output_type": "stream",
     "text": [
      "Train Loss: 0.0139\n",
      "Val Loss: 0.0111\n",
      "Epoch 753 of 1000\n",
      "<torch.utils.data.dataloader.DataLoader object at 0x7fb151915550>\n",
      "Train Loss: 0.0139\n",
      "Val Loss: 0.0111\n",
      "Epoch 754 of 1000\n",
      "<torch.utils.data.dataloader.DataLoader object at 0x7fb151915550>\n"
     ]
    },
    {
     "name": "stderr",
     "output_type": "stream",
     "text": [
      "100%|██████████| 45/45 [00:00<00:00, 413.41it/s]\n",
      "100%|██████████| 5/5 [00:00<00:00, 1056.55it/s]\n",
      "100%|██████████| 45/45 [00:00<00:00, 412.89it/s]\n",
      "100%|██████████| 5/5 [00:00<00:00, 1177.65it/s]\n",
      "  0%|          | 0/45 [00:00<?, ?it/s]"
     ]
    },
    {
     "name": "stdout",
     "output_type": "stream",
     "text": [
      "Train Loss: 0.0139\n",
      "Val Loss: 0.0111\n",
      "Epoch 755 of 1000\n",
      "<torch.utils.data.dataloader.DataLoader object at 0x7fb151915550>\n",
      "Train Loss: 0.0139\n",
      "Val Loss: 0.0111\n",
      "Epoch 756 of 1000\n",
      "<torch.utils.data.dataloader.DataLoader object at 0x7fb151915550>\n"
     ]
    },
    {
     "name": "stderr",
     "output_type": "stream",
     "text": [
      "100%|██████████| 45/45 [00:00<00:00, 404.91it/s]\n",
      "100%|██████████| 5/5 [00:00<00:00, 1164.44it/s]\n",
      "100%|██████████| 45/45 [00:00<00:00, 420.07it/s]\n",
      "100%|██████████| 5/5 [00:00<00:00, 1177.45it/s]\n",
      "  0%|          | 0/45 [00:00<?, ?it/s]"
     ]
    },
    {
     "name": "stdout",
     "output_type": "stream",
     "text": [
      "Train Loss: 0.0139\n",
      "Val Loss: 0.0111\n",
      "Epoch 757 of 1000\n",
      "<torch.utils.data.dataloader.DataLoader object at 0x7fb151915550>\n",
      "Train Loss: 0.0139\n",
      "Val Loss: 0.0111\n",
      "Epoch 758 of 1000\n",
      "<torch.utils.data.dataloader.DataLoader object at 0x7fb151915550>\n"
     ]
    },
    {
     "name": "stderr",
     "output_type": "stream",
     "text": [
      "100%|██████████| 45/45 [00:00<00:00, 396.91it/s]\n",
      "100%|██████████| 5/5 [00:00<00:00, 1259.48it/s]\n",
      "100%|██████████| 45/45 [00:00<00:00, 415.43it/s]\n",
      "100%|██████████| 5/5 [00:00<00:00, 1135.50it/s]\n",
      "  0%|          | 0/45 [00:00<?, ?it/s]"
     ]
    },
    {
     "name": "stdout",
     "output_type": "stream",
     "text": [
      "Train Loss: 0.0139\n",
      "Val Loss: 0.0111\n",
      "Epoch 759 of 1000\n",
      "<torch.utils.data.dataloader.DataLoader object at 0x7fb151915550>\n",
      "Train Loss: 0.0139\n",
      "Val Loss: 0.0111\n",
      "Epoch 760 of 1000\n",
      "<torch.utils.data.dataloader.DataLoader object at 0x7fb151915550>\n"
     ]
    },
    {
     "name": "stderr",
     "output_type": "stream",
     "text": [
      "100%|██████████| 45/45 [00:00<00:00, 379.24it/s]\n",
      "100%|██████████| 5/5 [00:00<00:00, 1125.50it/s]\n",
      "100%|██████████| 45/45 [00:00<00:00, 420.08it/s]\n",
      "100%|██████████| 5/5 [00:00<00:00, 1165.34it/s]\n",
      "  0%|          | 0/45 [00:00<?, ?it/s]"
     ]
    },
    {
     "name": "stdout",
     "output_type": "stream",
     "text": [
      "Train Loss: 0.0139\n",
      "Val Loss: 0.0111\n",
      "Epoch 761 of 1000\n",
      "<torch.utils.data.dataloader.DataLoader object at 0x7fb151915550>\n",
      "Train Loss: 0.0139\n",
      "Val Loss: 0.0111\n",
      "Epoch 762 of 1000\n",
      "<torch.utils.data.dataloader.DataLoader object at 0x7fb151915550>\n"
     ]
    },
    {
     "name": "stderr",
     "output_type": "stream",
     "text": [
      "100%|██████████| 45/45 [00:00<00:00, 421.34it/s]\n",
      "100%|██████████| 5/5 [00:00<00:00, 1009.27it/s]\n",
      "100%|██████████| 45/45 [00:00<00:00, 411.75it/s]\n",
      "100%|██████████| 5/5 [00:00<00:00, 1142.86it/s]\n",
      "  0%|          | 0/45 [00:00<?, ?it/s]"
     ]
    },
    {
     "name": "stdout",
     "output_type": "stream",
     "text": [
      "Train Loss: 0.0139\n",
      "Val Loss: 0.0111\n",
      "Epoch 763 of 1000\n",
      "<torch.utils.data.dataloader.DataLoader object at 0x7fb151915550>\n",
      "Train Loss: 0.0139\n",
      "Val Loss: 0.0111\n",
      "Epoch 764 of 1000\n",
      "<torch.utils.data.dataloader.DataLoader object at 0x7fb151915550>\n"
     ]
    },
    {
     "name": "stderr",
     "output_type": "stream",
     "text": [
      "100%|██████████| 45/45 [00:00<00:00, 420.43it/s]\n",
      "100%|██████████| 5/5 [00:00<00:00, 1185.84it/s]\n",
      "100%|██████████| 45/45 [00:00<00:00, 412.26it/s]\n",
      "100%|██████████| 5/5 [00:00<00:00, 1077.73it/s]\n",
      "  0%|          | 0/45 [00:00<?, ?it/s]"
     ]
    },
    {
     "name": "stdout",
     "output_type": "stream",
     "text": [
      "Train Loss: 0.0139\n",
      "Val Loss: 0.0111\n",
      "Epoch 765 of 1000\n",
      "<torch.utils.data.dataloader.DataLoader object at 0x7fb151915550>\n",
      "Train Loss: 0.0139\n",
      "Val Loss: 0.0111\n",
      "Epoch 766 of 1000\n",
      "<torch.utils.data.dataloader.DataLoader object at 0x7fb151915550>\n"
     ]
    },
    {
     "name": "stderr",
     "output_type": "stream",
     "text": [
      "100%|██████████| 45/45 [00:00<00:00, 393.43it/s]\n",
      "100%|██████████| 5/5 [00:00<00:00, 1145.17it/s]\n",
      "100%|██████████| 45/45 [00:00<00:00, 418.40it/s]\n",
      "100%|██████████| 5/5 [00:00<00:00, 1138.83it/s]\n",
      "  0%|          | 0/45 [00:00<?, ?it/s]"
     ]
    },
    {
     "name": "stdout",
     "output_type": "stream",
     "text": [
      "Train Loss: 0.0139\n",
      "Val Loss: 0.0111\n",
      "Epoch 767 of 1000\n",
      "<torch.utils.data.dataloader.DataLoader object at 0x7fb151915550>\n",
      "Train Loss: 0.0139\n",
      "Val Loss: 0.0111\n",
      "Epoch 768 of 1000\n",
      "<torch.utils.data.dataloader.DataLoader object at 0x7fb151915550>\n"
     ]
    },
    {
     "name": "stderr",
     "output_type": "stream",
     "text": [
      "100%|██████████| 45/45 [00:00<00:00, 424.47it/s]\n",
      "100%|██████████| 5/5 [00:00<00:00, 1107.73it/s]\n",
      "100%|██████████| 45/45 [00:00<00:00, 425.40it/s]\n",
      "100%|██████████| 5/5 [00:00<00:00, 1173.89it/s]\n",
      "  0%|          | 0/45 [00:00<?, ?it/s]"
     ]
    },
    {
     "name": "stdout",
     "output_type": "stream",
     "text": [
      "Train Loss: 0.0139\n",
      "Val Loss: 0.0111\n",
      "Epoch 769 of 1000\n",
      "<torch.utils.data.dataloader.DataLoader object at 0x7fb151915550>\n",
      "Train Loss: 0.0139\n",
      "Val Loss: 0.0111\n",
      "Epoch 770 of 1000\n",
      "<torch.utils.data.dataloader.DataLoader object at 0x7fb151915550>\n"
     ]
    },
    {
     "name": "stderr",
     "output_type": "stream",
     "text": [
      "100%|██████████| 45/45 [00:00<00:00, 419.83it/s]\n",
      "100%|██████████| 5/5 [00:00<00:00, 1046.64it/s]\n",
      "100%|██████████| 45/45 [00:00<00:00, 402.37it/s]\n",
      "100%|██████████| 5/5 [00:00<00:00, 1037.68it/s]\n",
      "  0%|          | 0/45 [00:00<?, ?it/s]"
     ]
    },
    {
     "name": "stdout",
     "output_type": "stream",
     "text": [
      "Train Loss: 0.0139\n",
      "Val Loss: 0.0111\n",
      "Epoch 771 of 1000\n",
      "<torch.utils.data.dataloader.DataLoader object at 0x7fb151915550>\n",
      "Train Loss: 0.0139\n",
      "Val Loss: 0.0111\n",
      "Epoch 772 of 1000\n",
      "<torch.utils.data.dataloader.DataLoader object at 0x7fb151915550>\n"
     ]
    },
    {
     "name": "stderr",
     "output_type": "stream",
     "text": [
      "100%|██████████| 45/45 [00:00<00:00, 429.10it/s]\n",
      "100%|██████████| 5/5 [00:00<00:00, 1204.91it/s]\n",
      "100%|██████████| 45/45 [00:00<00:00, 389.87it/s]\n",
      "100%|██████████| 5/5 [00:00<00:00, 1114.02it/s]\n",
      "  0%|          | 0/45 [00:00<?, ?it/s]"
     ]
    },
    {
     "name": "stdout",
     "output_type": "stream",
     "text": [
      "Train Loss: 0.0139\n",
      "Val Loss: 0.0111\n",
      "Epoch 773 of 1000\n",
      "<torch.utils.data.dataloader.DataLoader object at 0x7fb151915550>\n",
      "Train Loss: 0.0139\n",
      "Val Loss: 0.0111\n",
      "Epoch 774 of 1000\n",
      "<torch.utils.data.dataloader.DataLoader object at 0x7fb151915550>\n"
     ]
    },
    {
     "name": "stderr",
     "output_type": "stream",
     "text": [
      "100%|██████████| 45/45 [00:00<00:00, 422.68it/s]\n",
      "100%|██████████| 5/5 [00:00<00:00, 1180.10it/s]\n",
      "100%|██████████| 45/45 [00:00<00:00, 420.65it/s]\n",
      "100%|██████████| 5/5 [00:00<00:00, 1177.38it/s]\n",
      "  0%|          | 0/45 [00:00<?, ?it/s]"
     ]
    },
    {
     "name": "stdout",
     "output_type": "stream",
     "text": [
      "Train Loss: 0.0139\n",
      "Val Loss: 0.0111\n",
      "Epoch 775 of 1000\n",
      "<torch.utils.data.dataloader.DataLoader object at 0x7fb151915550>\n",
      "Train Loss: 0.0139\n",
      "Val Loss: 0.0111\n",
      "Epoch 776 of 1000\n",
      "<torch.utils.data.dataloader.DataLoader object at 0x7fb151915550>\n"
     ]
    },
    {
     "name": "stderr",
     "output_type": "stream",
     "text": [
      "100%|██████████| 45/45 [00:00<00:00, 425.85it/s]\n",
      "100%|██████████| 5/5 [00:00<00:00, 1147.55it/s]\n",
      "100%|██████████| 45/45 [00:00<00:00, 428.06it/s]\n",
      "100%|██████████| 5/5 [00:00<00:00, 1155.39it/s]\n",
      "  0%|          | 0/45 [00:00<?, ?it/s]"
     ]
    },
    {
     "name": "stdout",
     "output_type": "stream",
     "text": [
      "Train Loss: 0.0139\n",
      "Val Loss: 0.0111\n",
      "Epoch 777 of 1000\n",
      "<torch.utils.data.dataloader.DataLoader object at 0x7fb151915550>\n",
      "Train Loss: 0.0139\n",
      "Val Loss: 0.0111\n",
      "Epoch 778 of 1000\n",
      "<torch.utils.data.dataloader.DataLoader object at 0x7fb151915550>\n"
     ]
    },
    {
     "name": "stderr",
     "output_type": "stream",
     "text": [
      "100%|██████████| 45/45 [00:00<00:00, 420.27it/s]\n",
      "100%|██████████| 5/5 [00:00<00:00, 1212.16it/s]\n",
      "100%|██████████| 45/45 [00:00<00:00, 428.93it/s]\n",
      "100%|██████████| 5/5 [00:00<00:00, 1212.37it/s]\n",
      "  0%|          | 0/45 [00:00<?, ?it/s]"
     ]
    },
    {
     "name": "stdout",
     "output_type": "stream",
     "text": [
      "Train Loss: 0.0139\n",
      "Val Loss: 0.0111\n",
      "Epoch 779 of 1000\n",
      "<torch.utils.data.dataloader.DataLoader object at 0x7fb151915550>\n",
      "Train Loss: 0.0139\n",
      "Val Loss: 0.0111\n",
      "Epoch 780 of 1000\n",
      "<torch.utils.data.dataloader.DataLoader object at 0x7fb151915550>\n"
     ]
    },
    {
     "name": "stderr",
     "output_type": "stream",
     "text": [
      "100%|██████████| 45/45 [00:00<00:00, 423.12it/s]\n",
      "100%|██████████| 5/5 [00:00<00:00, 1166.90it/s]\n",
      "100%|██████████| 45/45 [00:00<00:00, 412.89it/s]\n",
      "100%|██████████| 5/5 [00:00<00:00, 1184.50it/s]\n",
      "  0%|          | 0/45 [00:00<?, ?it/s]"
     ]
    },
    {
     "name": "stdout",
     "output_type": "stream",
     "text": [
      "Train Loss: 0.0139\n",
      "Val Loss: 0.0111\n",
      "Epoch 781 of 1000\n",
      "<torch.utils.data.dataloader.DataLoader object at 0x7fb151915550>\n",
      "Train Loss: 0.0139\n",
      "Val Loss: 0.0111\n",
      "Epoch 782 of 1000\n",
      "<torch.utils.data.dataloader.DataLoader object at 0x7fb151915550>\n"
     ]
    },
    {
     "name": "stderr",
     "output_type": "stream",
     "text": [
      "100%|██████████| 45/45 [00:00<00:00, 426.94it/s]\n",
      "100%|██████████| 5/5 [00:00<00:00, 1176.19it/s]\n",
      "100%|██████████| 45/45 [00:00<00:00, 426.07it/s]\n",
      "100%|██████████| 5/5 [00:00<00:00, 1177.32it/s]\n",
      "  0%|          | 0/45 [00:00<?, ?it/s]"
     ]
    },
    {
     "name": "stdout",
     "output_type": "stream",
     "text": [
      "Train Loss: 0.0139\n",
      "Val Loss: 0.0111\n",
      "Epoch 783 of 1000\n",
      "<torch.utils.data.dataloader.DataLoader object at 0x7fb151915550>\n",
      "Train Loss: 0.0139\n",
      "Val Loss: 0.0111\n",
      "Epoch 784 of 1000\n",
      "<torch.utils.data.dataloader.DataLoader object at 0x7fb151915550>\n"
     ]
    },
    {
     "name": "stderr",
     "output_type": "stream",
     "text": [
      "100%|██████████| 45/45 [00:00<00:00, 418.44it/s]\n",
      "100%|██████████| 5/5 [00:00<00:00, 1087.79it/s]\n",
      "100%|██████████| 45/45 [00:00<00:00, 411.15it/s]\n",
      "100%|██████████| 5/5 [00:00<00:00, 1267.47it/s]\n",
      "  0%|          | 0/45 [00:00<?, ?it/s]"
     ]
    },
    {
     "name": "stdout",
     "output_type": "stream",
     "text": [
      "Train Loss: 0.0139\n",
      "Val Loss: 0.0111\n",
      "Epoch 785 of 1000\n",
      "<torch.utils.data.dataloader.DataLoader object at 0x7fb151915550>\n",
      "Train Loss: 0.0139\n",
      "Val Loss: 0.0111\n",
      "Epoch 786 of 1000\n",
      "<torch.utils.data.dataloader.DataLoader object at 0x7fb151915550>\n"
     ]
    },
    {
     "name": "stderr",
     "output_type": "stream",
     "text": [
      "100%|██████████| 45/45 [00:00<00:00, 394.14it/s]\n",
      "100%|██████████| 5/5 [00:00<00:00, 1162.89it/s]\n",
      "100%|██████████| 45/45 [00:00<00:00, 426.88it/s]\n",
      "100%|██████████| 5/5 [00:00<00:00, 1039.58it/s]\n",
      "  0%|          | 0/45 [00:00<?, ?it/s]"
     ]
    },
    {
     "name": "stdout",
     "output_type": "stream",
     "text": [
      "Train Loss: 0.0139\n",
      "Val Loss: 0.0111\n",
      "Epoch 787 of 1000\n",
      "<torch.utils.data.dataloader.DataLoader object at 0x7fb151915550>\n",
      "Train Loss: 0.0139\n",
      "Val Loss: 0.0111\n",
      "Epoch 788 of 1000\n",
      "<torch.utils.data.dataloader.DataLoader object at 0x7fb151915550>\n"
     ]
    },
    {
     "name": "stderr",
     "output_type": "stream",
     "text": [
      "100%|██████████| 45/45 [00:00<00:00, 413.99it/s]\n",
      "100%|██████████| 5/5 [00:00<00:00, 1090.05it/s]\n",
      "100%|██████████| 45/45 [00:00<00:00, 412.15it/s]\n",
      "100%|██████████| 5/5 [00:00<00:00, 1014.10it/s]\n",
      "  0%|          | 0/45 [00:00<?, ?it/s]"
     ]
    },
    {
     "name": "stdout",
     "output_type": "stream",
     "text": [
      "Train Loss: 0.0139\n",
      "Val Loss: 0.0111\n",
      "Epoch 789 of 1000\n",
      "<torch.utils.data.dataloader.DataLoader object at 0x7fb151915550>\n",
      "Train Loss: 0.0139\n",
      "Val Loss: 0.0111\n",
      "Epoch 790 of 1000\n",
      "<torch.utils.data.dataloader.DataLoader object at 0x7fb151915550>\n"
     ]
    },
    {
     "name": "stderr",
     "output_type": "stream",
     "text": [
      "100%|██████████| 45/45 [00:00<00:00, 417.56it/s]\n",
      "100%|██████████| 5/5 [00:00<00:00, 1234.20it/s]\n",
      "100%|██████████| 45/45 [00:00<00:00, 417.21it/s]\n",
      "100%|██████████| 5/5 [00:00<00:00, 1117.35it/s]\n",
      "  0%|          | 0/45 [00:00<?, ?it/s]"
     ]
    },
    {
     "name": "stdout",
     "output_type": "stream",
     "text": [
      "Train Loss: 0.0139\n",
      "Val Loss: 0.0111\n",
      "Epoch 791 of 1000\n",
      "<torch.utils.data.dataloader.DataLoader object at 0x7fb151915550>\n",
      "Train Loss: 0.0139\n",
      "Val Loss: 0.0111\n",
      "Epoch 792 of 1000\n",
      "<torch.utils.data.dataloader.DataLoader object at 0x7fb151915550>\n"
     ]
    },
    {
     "name": "stderr",
     "output_type": "stream",
     "text": [
      "100%|██████████| 45/45 [00:00<00:00, 423.46it/s]\n",
      "100%|██████████| 5/5 [00:00<00:00, 1145.36it/s]\n",
      "100%|██████████| 45/45 [00:00<00:00, 416.98it/s]\n",
      "100%|██████████| 5/5 [00:00<00:00, 1105.86it/s]\n",
      "  0%|          | 0/45 [00:00<?, ?it/s]"
     ]
    },
    {
     "name": "stdout",
     "output_type": "stream",
     "text": [
      "Train Loss: 0.0139\n",
      "Val Loss: 0.0111\n",
      "Epoch 793 of 1000\n",
      "<torch.utils.data.dataloader.DataLoader object at 0x7fb151915550>\n",
      "Train Loss: 0.0139\n",
      "Val Loss: 0.0111\n",
      "Epoch 794 of 1000\n",
      "<torch.utils.data.dataloader.DataLoader object at 0x7fb151915550>\n"
     ]
    },
    {
     "name": "stderr",
     "output_type": "stream",
     "text": [
      "100%|██████████| 45/45 [00:00<00:00, 423.27it/s]\n",
      "100%|██████████| 5/5 [00:00<00:00, 1185.43it/s]\n",
      "100%|██████████| 45/45 [00:00<00:00, 424.82it/s]\n",
      "100%|██████████| 5/5 [00:00<00:00, 1192.51it/s]\n",
      "  0%|          | 0/45 [00:00<?, ?it/s]"
     ]
    },
    {
     "name": "stdout",
     "output_type": "stream",
     "text": [
      "Train Loss: 0.0139\n",
      "Val Loss: 0.0111\n",
      "Epoch 795 of 1000\n",
      "<torch.utils.data.dataloader.DataLoader object at 0x7fb151915550>\n",
      "Train Loss: 0.0139\n",
      "Val Loss: 0.0111\n",
      "Epoch 796 of 1000\n",
      "<torch.utils.data.dataloader.DataLoader object at 0x7fb151915550>\n"
     ]
    },
    {
     "name": "stderr",
     "output_type": "stream",
     "text": [
      "100%|██████████| 45/45 [00:00<00:00, 400.32it/s]\n",
      "100%|██████████| 5/5 [00:00<00:00, 1176.79it/s]\n",
      "100%|██████████| 45/45 [00:00<00:00, 426.97it/s]\n",
      "100%|██████████| 5/5 [00:00<00:00, 1153.36it/s]\n",
      "  0%|          | 0/45 [00:00<?, ?it/s]"
     ]
    },
    {
     "name": "stdout",
     "output_type": "stream",
     "text": [
      "Train Loss: 0.0139\n",
      "Val Loss: 0.0111\n",
      "Epoch 797 of 1000\n",
      "<torch.utils.data.dataloader.DataLoader object at 0x7fb151915550>\n",
      "Train Loss: 0.0139\n",
      "Val Loss: 0.0111\n",
      "Epoch 798 of 1000\n",
      "<torch.utils.data.dataloader.DataLoader object at 0x7fb151915550>\n"
     ]
    },
    {
     "name": "stderr",
     "output_type": "stream",
     "text": [
      "100%|██████████| 45/45 [00:00<00:00, 405.47it/s]\n",
      "100%|██████████| 5/5 [00:00<00:00, 1166.06it/s]\n",
      "100%|██████████| 45/45 [00:00<00:00, 405.31it/s]\n",
      "100%|██████████| 5/5 [00:00<00:00, 1176.59it/s]\n",
      "  0%|          | 0/45 [00:00<?, ?it/s]"
     ]
    },
    {
     "name": "stdout",
     "output_type": "stream",
     "text": [
      "Train Loss: 0.0139\n",
      "Val Loss: 0.0111\n",
      "Epoch 799 of 1000\n",
      "<torch.utils.data.dataloader.DataLoader object at 0x7fb151915550>\n",
      "Train Loss: 0.0139\n",
      "Val Loss: 0.0111\n",
      "Epoch 800 of 1000\n",
      "<torch.utils.data.dataloader.DataLoader object at 0x7fb151915550>\n"
     ]
    },
    {
     "name": "stderr",
     "output_type": "stream",
     "text": [
      "100%|██████████| 45/45 [00:00<00:00, 409.63it/s]\n",
      "100%|██████████| 5/5 [00:00<00:00, 1175.73it/s]\n",
      "100%|██████████| 45/45 [00:00<00:00, 410.68it/s]\n",
      "100%|██████████| 5/5 [00:00<00:00, 1141.99it/s]\n",
      "  0%|          | 0/45 [00:00<?, ?it/s]"
     ]
    },
    {
     "name": "stdout",
     "output_type": "stream",
     "text": [
      "Train Loss: 0.0139\n",
      "Val Loss: 0.0111\n",
      "Epoch 801 of 1000\n",
      "<torch.utils.data.dataloader.DataLoader object at 0x7fb151915550>\n",
      "Train Loss: 0.0139\n",
      "Val Loss: 0.0111\n",
      "Epoch 802 of 1000\n",
      "<torch.utils.data.dataloader.DataLoader object at 0x7fb151915550>\n"
     ]
    },
    {
     "name": "stderr",
     "output_type": "stream",
     "text": [
      "100%|██████████| 45/45 [00:00<00:00, 419.94it/s]\n",
      "100%|██████████| 5/5 [00:00<00:00, 1166.70it/s]\n",
      "100%|██████████| 45/45 [00:00<00:00, 409.75it/s]\n",
      "100%|██████████| 5/5 [00:00<00:00, 1122.61it/s]\n",
      "  0%|          | 0/45 [00:00<?, ?it/s]"
     ]
    },
    {
     "name": "stdout",
     "output_type": "stream",
     "text": [
      "Train Loss: 0.0139\n",
      "Val Loss: 0.0111\n",
      "Epoch 803 of 1000\n",
      "<torch.utils.data.dataloader.DataLoader object at 0x7fb151915550>\n",
      "Train Loss: 0.0139\n",
      "Val Loss: 0.0111\n",
      "Epoch 804 of 1000\n",
      "<torch.utils.data.dataloader.DataLoader object at 0x7fb151915550>\n"
     ]
    },
    {
     "name": "stderr",
     "output_type": "stream",
     "text": [
      "100%|██████████| 45/45 [00:00<00:00, 410.38it/s]\n",
      "100%|██████████| 5/5 [00:00<00:00, 1169.63it/s]\n",
      "100%|██████████| 45/45 [00:00<00:00, 412.17it/s]\n",
      "100%|██████████| 5/5 [00:00<00:00, 1202.36it/s]\n",
      "  0%|          | 0/45 [00:00<?, ?it/s]"
     ]
    },
    {
     "name": "stdout",
     "output_type": "stream",
     "text": [
      "Train Loss: 0.0139\n",
      "Val Loss: 0.0111\n",
      "Epoch 805 of 1000\n",
      "<torch.utils.data.dataloader.DataLoader object at 0x7fb151915550>\n",
      "Train Loss: 0.0139\n",
      "Val Loss: 0.0111\n",
      "Epoch 806 of 1000\n",
      "<torch.utils.data.dataloader.DataLoader object at 0x7fb151915550>\n"
     ]
    },
    {
     "name": "stderr",
     "output_type": "stream",
     "text": [
      "100%|██████████| 45/45 [00:00<00:00, 420.85it/s]\n",
      "100%|██████████| 5/5 [00:00<00:00, 1202.63it/s]\n",
      "100%|██████████| 45/45 [00:00<00:00, 421.55it/s]\n",
      "100%|██████████| 5/5 [00:00<00:00, 1100.92it/s]\n",
      "  0%|          | 0/45 [00:00<?, ?it/s]"
     ]
    },
    {
     "name": "stdout",
     "output_type": "stream",
     "text": [
      "Train Loss: 0.0139\n",
      "Val Loss: 0.0111\n",
      "Epoch 807 of 1000\n",
      "<torch.utils.data.dataloader.DataLoader object at 0x7fb151915550>\n",
      "Train Loss: 0.0139\n",
      "Val Loss: 0.0111\n",
      "Epoch 808 of 1000\n",
      "<torch.utils.data.dataloader.DataLoader object at 0x7fb151915550>\n"
     ]
    },
    {
     "name": "stderr",
     "output_type": "stream",
     "text": [
      "100%|██████████| 45/45 [00:00<00:00, 417.92it/s]\n",
      "100%|██████████| 5/5 [00:00<00:00, 1141.18it/s]\n",
      "100%|██████████| 45/45 [00:00<00:00, 419.10it/s]\n",
      "100%|██████████| 5/5 [00:00<00:00, 1149.31it/s]\n",
      "  0%|          | 0/45 [00:00<?, ?it/s]"
     ]
    },
    {
     "name": "stdout",
     "output_type": "stream",
     "text": [
      "Train Loss: 0.0139\n",
      "Val Loss: 0.0111\n",
      "Epoch 809 of 1000\n",
      "<torch.utils.data.dataloader.DataLoader object at 0x7fb151915550>\n",
      "Train Loss: 0.0139\n",
      "Val Loss: 0.0111\n",
      "Epoch 810 of 1000\n",
      "<torch.utils.data.dataloader.DataLoader object at 0x7fb151915550>\n"
     ]
    },
    {
     "name": "stderr",
     "output_type": "stream",
     "text": [
      "100%|██████████| 45/45 [00:00<00:00, 429.03it/s]\n",
      "100%|██████████| 5/5 [00:00<00:00, 1161.60it/s]\n",
      "100%|██████████| 45/45 [00:00<00:00, 440.86it/s]\n",
      "100%|██████████| 5/5 [00:00<00:00, 1152.03it/s]\n",
      "  0%|          | 0/45 [00:00<?, ?it/s]"
     ]
    },
    {
     "name": "stdout",
     "output_type": "stream",
     "text": [
      "Train Loss: 0.0139\n",
      "Val Loss: 0.0111\n",
      "Epoch 811 of 1000\n",
      "<torch.utils.data.dataloader.DataLoader object at 0x7fb151915550>\n",
      "Train Loss: 0.0139\n",
      "Val Loss: 0.0111\n",
      "Epoch 812 of 1000\n",
      "<torch.utils.data.dataloader.DataLoader object at 0x7fb151915550>\n"
     ]
    },
    {
     "name": "stderr",
     "output_type": "stream",
     "text": [
      "100%|██████████| 45/45 [00:00<00:00, 434.22it/s]\n",
      "100%|██████████| 5/5 [00:00<00:00, 1162.69it/s]\n",
      "100%|██████████| 45/45 [00:00<00:00, 436.17it/s]\n",
      "100%|██████████| 5/5 [00:00<00:00, 1200.16it/s]\n",
      "  0%|          | 0/45 [00:00<?, ?it/s]"
     ]
    },
    {
     "name": "stdout",
     "output_type": "stream",
     "text": [
      "Train Loss: 0.0139\n",
      "Val Loss: 0.0111\n",
      "Epoch 813 of 1000\n",
      "<torch.utils.data.dataloader.DataLoader object at 0x7fb151915550>\n",
      "Train Loss: 0.0139\n",
      "Val Loss: 0.0111\n",
      "Epoch 814 of 1000\n",
      "<torch.utils.data.dataloader.DataLoader object at 0x7fb151915550>\n"
     ]
    },
    {
     "name": "stderr",
     "output_type": "stream",
     "text": [
      "100%|██████████| 45/45 [00:00<00:00, 433.41it/s]\n",
      "100%|██████████| 5/5 [00:00<00:00, 1180.30it/s]\n",
      "100%|██████████| 45/45 [00:00<00:00, 423.46it/s]\n",
      "100%|██████████| 5/5 [00:00<00:00, 1153.23it/s]\n",
      "  0%|          | 0/45 [00:00<?, ?it/s]"
     ]
    },
    {
     "name": "stdout",
     "output_type": "stream",
     "text": [
      "Train Loss: 0.0139\n",
      "Val Loss: 0.0111\n",
      "Epoch 815 of 1000\n",
      "<torch.utils.data.dataloader.DataLoader object at 0x7fb151915550>\n",
      "Train Loss: 0.0139\n",
      "Val Loss: 0.0111\n",
      "Epoch 816 of 1000\n",
      "<torch.utils.data.dataloader.DataLoader object at 0x7fb151915550>\n"
     ]
    },
    {
     "name": "stderr",
     "output_type": "stream",
     "text": [
      "100%|██████████| 45/45 [00:00<00:00, 430.97it/s]\n",
      "100%|██████████| 5/5 [00:00<00:00, 1082.90it/s]\n",
      "100%|██████████| 45/45 [00:00<00:00, 385.08it/s]\n",
      "100%|██████████| 5/5 [00:00<00:00, 1240.33it/s]\n",
      "  0%|          | 0/45 [00:00<?, ?it/s]"
     ]
    },
    {
     "name": "stdout",
     "output_type": "stream",
     "text": [
      "Train Loss: 0.0139\n",
      "Val Loss: 0.0111\n",
      "Epoch 817 of 1000\n",
      "<torch.utils.data.dataloader.DataLoader object at 0x7fb151915550>\n",
      "Train Loss: 0.0139\n",
      "Val Loss: 0.0111\n",
      "Epoch 818 of 1000\n",
      "<torch.utils.data.dataloader.DataLoader object at 0x7fb151915550>\n"
     ]
    },
    {
     "name": "stderr",
     "output_type": "stream",
     "text": [
      "100%|██████████| 45/45 [00:00<00:00, 401.57it/s]\n",
      "100%|██████████| 5/5 [00:00<00:00, 1164.05it/s]\n",
      "100%|██████████| 45/45 [00:00<00:00, 420.56it/s]\n",
      "100%|██████████| 5/5 [00:00<00:00, 1200.22it/s]\n",
      "  0%|          | 0/45 [00:00<?, ?it/s]"
     ]
    },
    {
     "name": "stdout",
     "output_type": "stream",
     "text": [
      "Train Loss: 0.0139\n",
      "Val Loss: 0.0111\n",
      "Epoch 819 of 1000\n",
      "<torch.utils.data.dataloader.DataLoader object at 0x7fb151915550>\n",
      "Train Loss: 0.0139\n",
      "Val Loss: 0.0111\n",
      "Epoch 820 of 1000\n",
      "<torch.utils.data.dataloader.DataLoader object at 0x7fb151915550>\n"
     ]
    },
    {
     "name": "stderr",
     "output_type": "stream",
     "text": [
      "100%|██████████| 45/45 [00:00<00:00, 404.70it/s]\n",
      "100%|██████████| 5/5 [00:00<00:00, 1163.47it/s]\n",
      "100%|██████████| 45/45 [00:00<00:00, 399.97it/s]\n",
      "100%|██████████| 5/5 [00:00<00:00, 1160.31it/s]\n",
      "  0%|          | 0/45 [00:00<?, ?it/s]"
     ]
    },
    {
     "name": "stdout",
     "output_type": "stream",
     "text": [
      "Train Loss: 0.0139\n",
      "Val Loss: 0.0111\n",
      "Epoch 821 of 1000\n",
      "<torch.utils.data.dataloader.DataLoader object at 0x7fb151915550>\n",
      "Train Loss: 0.0139\n",
      "Val Loss: 0.0111\n",
      "Epoch 822 of 1000\n",
      "<torch.utils.data.dataloader.DataLoader object at 0x7fb151915550>\n"
     ]
    },
    {
     "name": "stderr",
     "output_type": "stream",
     "text": [
      "100%|██████████| 45/45 [00:00<00:00, 383.70it/s]\n",
      "100%|██████████| 5/5 [00:00<00:00, 1238.35it/s]\n",
      "100%|██████████| 45/45 [00:00<00:00, 425.61it/s]\n",
      "100%|██████████| 5/5 [00:00<00:00, 1112.25it/s]\n",
      "  0%|          | 0/45 [00:00<?, ?it/s]"
     ]
    },
    {
     "name": "stdout",
     "output_type": "stream",
     "text": [
      "Train Loss: 0.0139\n",
      "Val Loss: 0.0111\n",
      "Epoch 823 of 1000\n",
      "<torch.utils.data.dataloader.DataLoader object at 0x7fb151915550>\n",
      "Train Loss: 0.0139\n",
      "Val Loss: 0.0111\n",
      "Epoch 824 of 1000\n",
      "<torch.utils.data.dataloader.DataLoader object at 0x7fb151915550>\n"
     ]
    },
    {
     "name": "stderr",
     "output_type": "stream",
     "text": [
      "100%|██████████| 45/45 [00:00<00:00, 415.12it/s]\n",
      "100%|██████████| 5/5 [00:00<00:00, 1176.46it/s]\n",
      "100%|██████████| 45/45 [00:00<00:00, 432.12it/s]\n",
      "100%|██████████| 5/5 [00:00<00:00, 1217.65it/s]\n",
      "  0%|          | 0/45 [00:00<?, ?it/s]"
     ]
    },
    {
     "name": "stdout",
     "output_type": "stream",
     "text": [
      "Train Loss: 0.0139\n",
      "Val Loss: 0.0111\n",
      "Epoch 825 of 1000\n",
      "<torch.utils.data.dataloader.DataLoader object at 0x7fb151915550>\n",
      "Train Loss: 0.0139\n",
      "Val Loss: 0.0111\n",
      "Epoch 826 of 1000\n",
      "<torch.utils.data.dataloader.DataLoader object at 0x7fb151915550>\n"
     ]
    },
    {
     "name": "stderr",
     "output_type": "stream",
     "text": [
      "100%|██████████| 45/45 [00:00<00:00, 428.71it/s]\n",
      "100%|██████████| 5/5 [00:00<00:00, 1197.82it/s]\n",
      "100%|██████████| 45/45 [00:00<00:00, 428.87it/s]\n",
      "100%|██████████| 5/5 [00:00<00:00, 1219.56it/s]\n",
      "  0%|          | 0/45 [00:00<?, ?it/s]"
     ]
    },
    {
     "name": "stdout",
     "output_type": "stream",
     "text": [
      "Train Loss: 0.0139\n",
      "Val Loss: 0.0111\n",
      "Epoch 827 of 1000\n",
      "<torch.utils.data.dataloader.DataLoader object at 0x7fb151915550>\n",
      "Train Loss: 0.0139\n",
      "Val Loss: 0.0111\n",
      "Epoch 828 of 1000\n",
      "<torch.utils.data.dataloader.DataLoader object at 0x7fb151915550>\n"
     ]
    },
    {
     "name": "stderr",
     "output_type": "stream",
     "text": [
      "100%|██████████| 45/45 [00:00<00:00, 431.21it/s]\n",
      "100%|██████████| 5/5 [00:00<00:00, 1219.63it/s]\n",
      "100%|██████████| 45/45 [00:00<00:00, 431.00it/s]\n",
      "100%|██████████| 5/5 [00:00<00:00, 1175.93it/s]\n",
      "  0%|          | 0/45 [00:00<?, ?it/s]"
     ]
    },
    {
     "name": "stdout",
     "output_type": "stream",
     "text": [
      "Train Loss: 0.0139\n",
      "Val Loss: 0.0111\n",
      "Epoch 829 of 1000\n",
      "<torch.utils.data.dataloader.DataLoader object at 0x7fb151915550>\n",
      "Train Loss: 0.0139\n",
      "Val Loss: 0.0111\n",
      "Epoch 830 of 1000\n",
      "<torch.utils.data.dataloader.DataLoader object at 0x7fb151915550>\n"
     ]
    },
    {
     "name": "stderr",
     "output_type": "stream",
     "text": [
      "100%|██████████| 45/45 [00:00<00:00, 424.72it/s]\n",
      "100%|██████████| 5/5 [00:00<00:00, 1158.39it/s]\n",
      "100%|██████████| 45/45 [00:00<00:00, 414.97it/s]\n",
      "100%|██████████| 5/5 [00:00<00:00, 1140.44it/s]\n",
      "  0%|          | 0/45 [00:00<?, ?it/s]"
     ]
    },
    {
     "name": "stdout",
     "output_type": "stream",
     "text": [
      "Train Loss: 0.0139\n",
      "Val Loss: 0.0111\n",
      "Epoch 831 of 1000\n",
      "<torch.utils.data.dataloader.DataLoader object at 0x7fb151915550>\n",
      "Train Loss: 0.0139\n",
      "Val Loss: 0.0111\n",
      "Epoch 832 of 1000\n",
      "<torch.utils.data.dataloader.DataLoader object at 0x7fb151915550>\n"
     ]
    },
    {
     "name": "stderr",
     "output_type": "stream",
     "text": [
      "100%|██████████| 45/45 [00:00<00:00, 412.15it/s]\n",
      "100%|██████████| 5/5 [00:00<00:00, 1140.56it/s]\n",
      "100%|██████████| 45/45 [00:00<00:00, 412.86it/s]\n",
      "100%|██████████| 5/5 [00:00<00:00, 1181.43it/s]\n",
      "  0%|          | 0/45 [00:00<?, ?it/s]"
     ]
    },
    {
     "name": "stdout",
     "output_type": "stream",
     "text": [
      "Train Loss: 0.0139\n",
      "Val Loss: 0.0111\n",
      "Epoch 833 of 1000\n",
      "<torch.utils.data.dataloader.DataLoader object at 0x7fb151915550>\n",
      "Train Loss: 0.0139\n",
      "Val Loss: 0.0111\n",
      "Epoch 834 of 1000\n",
      "<torch.utils.data.dataloader.DataLoader object at 0x7fb151915550>\n"
     ]
    },
    {
     "name": "stderr",
     "output_type": "stream",
     "text": [
      "100%|██████████| 45/45 [00:00<00:00, 424.35it/s]\n",
      "100%|██████████| 5/5 [00:00<00:00, 1231.52it/s]\n",
      "100%|██████████| 45/45 [00:00<00:00, 432.64it/s]\n",
      "100%|██████████| 5/5 [00:00<00:00, 1223.47it/s]\n",
      "  0%|          | 0/45 [00:00<?, ?it/s]"
     ]
    },
    {
     "name": "stdout",
     "output_type": "stream",
     "text": [
      "Train Loss: 0.0139\n",
      "Val Loss: 0.0111\n",
      "Epoch 835 of 1000\n",
      "<torch.utils.data.dataloader.DataLoader object at 0x7fb151915550>\n",
      "Train Loss: 0.0139\n",
      "Val Loss: 0.0111\n",
      "Epoch 836 of 1000\n",
      "<torch.utils.data.dataloader.DataLoader object at 0x7fb151915550>\n"
     ]
    },
    {
     "name": "stderr",
     "output_type": "stream",
     "text": [
      "100%|██████████| 45/45 [00:00<00:00, 438.71it/s]\n",
      "100%|██████████| 5/5 [00:00<00:00, 1140.00it/s]\n",
      "100%|██████████| 45/45 [00:00<00:00, 430.73it/s]\n",
      "100%|██████████| 5/5 [00:00<00:00, 1269.23it/s]\n",
      "  0%|          | 0/45 [00:00<?, ?it/s]"
     ]
    },
    {
     "name": "stdout",
     "output_type": "stream",
     "text": [
      "Train Loss: 0.0139\n",
      "Val Loss: 0.0111\n",
      "Epoch 837 of 1000\n",
      "<torch.utils.data.dataloader.DataLoader object at 0x7fb151915550>\n",
      "Train Loss: 0.0139\n",
      "Val Loss: 0.0111\n",
      "Epoch 838 of 1000\n",
      "<torch.utils.data.dataloader.DataLoader object at 0x7fb151915550>\n"
     ]
    },
    {
     "name": "stderr",
     "output_type": "stream",
     "text": [
      "100%|██████████| 45/45 [00:00<00:00, 427.83it/s]\n",
      "100%|██████████| 5/5 [00:00<00:00, 1163.86it/s]\n",
      "100%|██████████| 45/45 [00:00<00:00, 418.73it/s]\n",
      "100%|██████████| 5/5 [00:00<00:00, 1138.09it/s]\n",
      "  0%|          | 0/45 [00:00<?, ?it/s]"
     ]
    },
    {
     "name": "stdout",
     "output_type": "stream",
     "text": [
      "Train Loss: 0.0139\n",
      "Val Loss: 0.0111\n",
      "Epoch 839 of 1000\n",
      "<torch.utils.data.dataloader.DataLoader object at 0x7fb151915550>\n",
      "Train Loss: 0.0139\n",
      "Val Loss: 0.0111\n",
      "Epoch 840 of 1000\n",
      "<torch.utils.data.dataloader.DataLoader object at 0x7fb151915550>\n"
     ]
    },
    {
     "name": "stderr",
     "output_type": "stream",
     "text": [
      "100%|██████████| 45/45 [00:00<00:00, 401.02it/s]\n",
      "100%|██████████| 5/5 [00:00<00:00, 1160.12it/s]\n",
      "100%|██████████| 45/45 [00:00<00:00, 424.85it/s]\n",
      "100%|██████████| 5/5 [00:00<00:00, 1134.39it/s]\n",
      "  0%|          | 0/45 [00:00<?, ?it/s]"
     ]
    },
    {
     "name": "stdout",
     "output_type": "stream",
     "text": [
      "Train Loss: 0.0139\n",
      "Val Loss: 0.0111\n",
      "Epoch 841 of 1000\n",
      "<torch.utils.data.dataloader.DataLoader object at 0x7fb151915550>\n",
      "Train Loss: 0.0139\n",
      "Val Loss: 0.0111\n",
      "Epoch 842 of 1000\n",
      "<torch.utils.data.dataloader.DataLoader object at 0x7fb151915550>\n"
     ]
    },
    {
     "name": "stderr",
     "output_type": "stream",
     "text": [
      "100%|██████████| 45/45 [00:00<00:00, 422.99it/s]\n",
      "100%|██████████| 5/5 [00:00<00:00, 1197.21it/s]\n",
      "100%|██████████| 45/45 [00:00<00:00, 424.48it/s]\n",
      "100%|██████████| 5/5 [00:00<00:00, 1200.84it/s]\n",
      "  0%|          | 0/45 [00:00<?, ?it/s]"
     ]
    },
    {
     "name": "stdout",
     "output_type": "stream",
     "text": [
      "Train Loss: 0.0139\n",
      "Val Loss: 0.0111\n",
      "Epoch 843 of 1000\n",
      "<torch.utils.data.dataloader.DataLoader object at 0x7fb151915550>\n",
      "Train Loss: 0.0139\n",
      "Val Loss: 0.0111\n",
      "Epoch 844 of 1000\n",
      "<torch.utils.data.dataloader.DataLoader object at 0x7fb151915550>\n"
     ]
    },
    {
     "name": "stderr",
     "output_type": "stream",
     "text": [
      "100%|██████████| 45/45 [00:00<00:00, 429.04it/s]\n",
      "100%|██████████| 5/5 [00:00<00:00, 1137.35it/s]\n",
      "100%|██████████| 45/45 [00:00<00:00, 409.23it/s]\n",
      "100%|██████████| 5/5 [00:00<00:00, 1178.84it/s]\n",
      "  0%|          | 0/45 [00:00<?, ?it/s]"
     ]
    },
    {
     "name": "stdout",
     "output_type": "stream",
     "text": [
      "Train Loss: 0.0139\n",
      "Val Loss: 0.0111\n",
      "Epoch 845 of 1000\n",
      "<torch.utils.data.dataloader.DataLoader object at 0x7fb151915550>\n",
      "Train Loss: 0.0139\n",
      "Val Loss: 0.0111\n",
      "Epoch 846 of 1000\n",
      "<torch.utils.data.dataloader.DataLoader object at 0x7fb151915550>\n"
     ]
    },
    {
     "name": "stderr",
     "output_type": "stream",
     "text": [
      "100%|██████████| 45/45 [00:00<00:00, 425.93it/s]\n",
      "100%|██████████| 5/5 [00:00<00:00, 1193.80it/s]\n",
      "100%|██████████| 45/45 [00:00<00:00, 421.25it/s]\n",
      "100%|██████████| 5/5 [00:00<00:00, 1082.85it/s]\n",
      "  0%|          | 0/45 [00:00<?, ?it/s]"
     ]
    },
    {
     "name": "stdout",
     "output_type": "stream",
     "text": [
      "Train Loss: 0.0139\n",
      "Val Loss: 0.0111\n",
      "Epoch 847 of 1000\n",
      "<torch.utils.data.dataloader.DataLoader object at 0x7fb151915550>\n",
      "Train Loss: 0.0139\n",
      "Val Loss: 0.0111\n",
      "Epoch 848 of 1000\n",
      "<torch.utils.data.dataloader.DataLoader object at 0x7fb151915550>\n"
     ]
    },
    {
     "name": "stderr",
     "output_type": "stream",
     "text": [
      "100%|██████████| 45/45 [00:00<00:00, 412.08it/s]\n",
      "100%|██████████| 5/5 [00:00<00:00, 1163.60it/s]\n",
      "100%|██████████| 45/45 [00:00<00:00, 423.43it/s]\n",
      "100%|██████████| 5/5 [00:00<00:00, 1198.99it/s]\n",
      "  0%|          | 0/45 [00:00<?, ?it/s]"
     ]
    },
    {
     "name": "stdout",
     "output_type": "stream",
     "text": [
      "Train Loss: 0.0139\n",
      "Val Loss: 0.0111\n",
      "Epoch 849 of 1000\n",
      "<torch.utils.data.dataloader.DataLoader object at 0x7fb151915550>\n",
      "Train Loss: 0.0139\n",
      "Val Loss: 0.0111\n",
      "Epoch 850 of 1000\n",
      "<torch.utils.data.dataloader.DataLoader object at 0x7fb151915550>\n"
     ]
    },
    {
     "name": "stderr",
     "output_type": "stream",
     "text": [
      "100%|██████████| 45/45 [00:00<00:00, 413.15it/s]\n",
      "100%|██████████| 5/5 [00:00<00:00, 1184.43it/s]\n",
      "100%|██████████| 45/45 [00:00<00:00, 425.65it/s]\n",
      "100%|██████████| 5/5 [00:00<00:00, 1065.25it/s]\n",
      "  0%|          | 0/45 [00:00<?, ?it/s]"
     ]
    },
    {
     "name": "stdout",
     "output_type": "stream",
     "text": [
      "Train Loss: 0.0139\n",
      "Val Loss: 0.0111\n",
      "Epoch 851 of 1000\n",
      "<torch.utils.data.dataloader.DataLoader object at 0x7fb151915550>\n",
      "Train Loss: 0.0139\n",
      "Val Loss: 0.0111\n",
      "Epoch 852 of 1000\n",
      "<torch.utils.data.dataloader.DataLoader object at 0x7fb151915550>\n"
     ]
    },
    {
     "name": "stderr",
     "output_type": "stream",
     "text": [
      "100%|██████████| 45/45 [00:00<00:00, 424.57it/s]\n",
      "100%|██████████| 5/5 [00:00<00:00, 1130.84it/s]\n",
      "100%|██████████| 45/45 [00:00<00:00, 420.81it/s]\n",
      "100%|██████████| 5/5 [00:00<00:00, 1174.09it/s]\n",
      "  0%|          | 0/45 [00:00<?, ?it/s]"
     ]
    },
    {
     "name": "stdout",
     "output_type": "stream",
     "text": [
      "Train Loss: 0.0139\n",
      "Val Loss: 0.0111\n",
      "Epoch 853 of 1000\n",
      "<torch.utils.data.dataloader.DataLoader object at 0x7fb151915550>\n",
      "Train Loss: 0.0139\n",
      "Val Loss: 0.0111\n",
      "Epoch 854 of 1000\n",
      "<torch.utils.data.dataloader.DataLoader object at 0x7fb151915550>\n"
     ]
    },
    {
     "name": "stderr",
     "output_type": "stream",
     "text": [
      "100%|██████████| 45/45 [00:00<00:00, 422.28it/s]\n",
      "100%|██████████| 5/5 [00:00<00:00, 1179.04it/s]\n",
      "100%|██████████| 45/45 [00:00<00:00, 418.24it/s]\n",
      "100%|██████████| 5/5 [00:00<00:00, 1129.63it/s]\n",
      "  0%|          | 0/45 [00:00<?, ?it/s]"
     ]
    },
    {
     "name": "stdout",
     "output_type": "stream",
     "text": [
      "Train Loss: 0.0139\n",
      "Val Loss: 0.0111\n",
      "Epoch 855 of 1000\n",
      "<torch.utils.data.dataloader.DataLoader object at 0x7fb151915550>\n",
      "Train Loss: 0.0139\n",
      "Val Loss: 0.0111\n",
      "Epoch 856 of 1000\n",
      "<torch.utils.data.dataloader.DataLoader object at 0x7fb151915550>\n"
     ]
    },
    {
     "name": "stderr",
     "output_type": "stream",
     "text": [
      "100%|██████████| 45/45 [00:00<00:00, 419.15it/s]\n",
      "100%|██████████| 5/5 [00:00<00:00, 1215.18it/s]\n",
      "100%|██████████| 45/45 [00:00<00:00, 423.94it/s]\n",
      "100%|██████████| 5/5 [00:00<00:00, 1147.68it/s]\n",
      "  0%|          | 0/45 [00:00<?, ?it/s]"
     ]
    },
    {
     "name": "stdout",
     "output_type": "stream",
     "text": [
      "Train Loss: 0.0139\n",
      "Val Loss: 0.0111\n",
      "Epoch 857 of 1000\n",
      "<torch.utils.data.dataloader.DataLoader object at 0x7fb151915550>\n",
      "Train Loss: 0.0139\n",
      "Val Loss: 0.0111\n",
      "Epoch 858 of 1000\n",
      "<torch.utils.data.dataloader.DataLoader object at 0x7fb151915550>\n"
     ]
    },
    {
     "name": "stderr",
     "output_type": "stream",
     "text": [
      "100%|██████████| 45/45 [00:00<00:00, 427.14it/s]\n",
      "100%|██████████| 5/5 [00:00<00:00, 1163.02it/s]\n",
      "100%|██████████| 45/45 [00:00<00:00, 424.19it/s]\n",
      "100%|██████████| 5/5 [00:00<00:00, 1208.25it/s]\n",
      "  0%|          | 0/45 [00:00<?, ?it/s]"
     ]
    },
    {
     "name": "stdout",
     "output_type": "stream",
     "text": [
      "Train Loss: 0.0139\n",
      "Val Loss: 0.0111\n",
      "Epoch 859 of 1000\n",
      "<torch.utils.data.dataloader.DataLoader object at 0x7fb151915550>\n",
      "Train Loss: 0.0139\n",
      "Val Loss: 0.0111\n",
      "Epoch 860 of 1000\n",
      "<torch.utils.data.dataloader.DataLoader object at 0x7fb151915550>\n"
     ]
    },
    {
     "name": "stderr",
     "output_type": "stream",
     "text": [
      "100%|██████████| 45/45 [00:00<00:00, 425.49it/s]\n",
      "100%|██████████| 5/5 [00:00<00:00, 1185.90it/s]\n",
      "100%|██████████| 45/45 [00:00<00:00, 436.11it/s]\n",
      "100%|██████████| 5/5 [00:00<00:00, 1200.50it/s]\n",
      "  0%|          | 0/45 [00:00<?, ?it/s]"
     ]
    },
    {
     "name": "stdout",
     "output_type": "stream",
     "text": [
      "Train Loss: 0.0139\n",
      "Val Loss: 0.0111\n",
      "Epoch 861 of 1000\n",
      "<torch.utils.data.dataloader.DataLoader object at 0x7fb151915550>\n",
      "Train Loss: 0.0139\n",
      "Val Loss: 0.0111\n",
      "Epoch 862 of 1000\n",
      "<torch.utils.data.dataloader.DataLoader object at 0x7fb151915550>\n"
     ]
    },
    {
     "name": "stderr",
     "output_type": "stream",
     "text": [
      "100%|██████████| 45/45 [00:00<00:00, 424.18it/s]\n",
      "100%|██████████| 5/5 [00:00<00:00, 1217.58it/s]\n",
      "100%|██████████| 45/45 [00:00<00:00, 432.37it/s]\n",
      "100%|██████████| 5/5 [00:00<00:00, 1207.41it/s]\n",
      "  0%|          | 0/45 [00:00<?, ?it/s]"
     ]
    },
    {
     "name": "stdout",
     "output_type": "stream",
     "text": [
      "Train Loss: 0.0139\n",
      "Val Loss: 0.0111\n",
      "Epoch 863 of 1000\n",
      "<torch.utils.data.dataloader.DataLoader object at 0x7fb151915550>\n",
      "Train Loss: 0.0139\n",
      "Val Loss: 0.0111\n",
      "Epoch 864 of 1000\n",
      "<torch.utils.data.dataloader.DataLoader object at 0x7fb151915550>\n"
     ]
    },
    {
     "name": "stderr",
     "output_type": "stream",
     "text": [
      "100%|██████████| 45/45 [00:00<00:00, 427.44it/s]\n",
      "100%|██████████| 5/5 [00:00<00:00, 1160.06it/s]\n",
      "100%|██████████| 45/45 [00:00<00:00, 411.27it/s]\n",
      "100%|██████████| 5/5 [00:00<00:00, 1100.75it/s]\n",
      "  0%|          | 0/45 [00:00<?, ?it/s]"
     ]
    },
    {
     "name": "stdout",
     "output_type": "stream",
     "text": [
      "Train Loss: 0.0139\n",
      "Val Loss: 0.0111\n",
      "Epoch 865 of 1000\n",
      "<torch.utils.data.dataloader.DataLoader object at 0x7fb151915550>\n",
      "Train Loss: 0.0139\n",
      "Val Loss: 0.0111\n",
      "Epoch 866 of 1000\n",
      "<torch.utils.data.dataloader.DataLoader object at 0x7fb151915550>\n"
     ]
    },
    {
     "name": "stderr",
     "output_type": "stream",
     "text": [
      "100%|██████████| 45/45 [00:00<00:00, 357.06it/s]\n",
      "100%|██████████| 5/5 [00:00<00:00, 1086.55it/s]\n",
      "100%|██████████| 45/45 [00:00<00:00, 403.62it/s]\n",
      "100%|██████████| 5/5 [00:00<00:00, 1080.56it/s]\n",
      "  0%|          | 0/45 [00:00<?, ?it/s]"
     ]
    },
    {
     "name": "stdout",
     "output_type": "stream",
     "text": [
      "Train Loss: 0.0139\n",
      "Val Loss: 0.0111\n",
      "Epoch 867 of 1000\n",
      "<torch.utils.data.dataloader.DataLoader object at 0x7fb151915550>\n",
      "Train Loss: 0.0139\n",
      "Val Loss: 0.0111\n",
      "Epoch 868 of 1000\n",
      "<torch.utils.data.dataloader.DataLoader object at 0x7fb151915550>\n"
     ]
    },
    {
     "name": "stderr",
     "output_type": "stream",
     "text": [
      "100%|██████████| 45/45 [00:00<00:00, 389.02it/s]\n",
      "100%|██████████| 5/5 [00:00<00:00, 1070.36it/s]\n",
      "100%|██████████| 45/45 [00:00<00:00, 398.03it/s]\n",
      "100%|██████████| 5/5 [00:00<00:00, 1219.91it/s]\n",
      "  0%|          | 0/45 [00:00<?, ?it/s]"
     ]
    },
    {
     "name": "stdout",
     "output_type": "stream",
     "text": [
      "Train Loss: 0.0139\n",
      "Val Loss: 0.0111\n",
      "Epoch 869 of 1000\n",
      "<torch.utils.data.dataloader.DataLoader object at 0x7fb151915550>\n",
      "Train Loss: 0.0139\n",
      "Val Loss: 0.0111\n",
      "Epoch 870 of 1000\n",
      "<torch.utils.data.dataloader.DataLoader object at 0x7fb151915550>\n"
     ]
    },
    {
     "name": "stderr",
     "output_type": "stream",
     "text": [
      "100%|██████████| 45/45 [00:00<00:00, 416.59it/s]\n",
      "100%|██████████| 5/5 [00:00<00:00, 1186.71it/s]\n",
      "100%|██████████| 45/45 [00:00<00:00, 425.05it/s]\n",
      "100%|██████████| 5/5 [00:00<00:00, 1151.21it/s]\n",
      "  0%|          | 0/45 [00:00<?, ?it/s]"
     ]
    },
    {
     "name": "stdout",
     "output_type": "stream",
     "text": [
      "Train Loss: 0.0139\n",
      "Val Loss: 0.0111\n",
      "Epoch 871 of 1000\n",
      "<torch.utils.data.dataloader.DataLoader object at 0x7fb151915550>\n",
      "Train Loss: 0.0139\n",
      "Val Loss: 0.0111\n",
      "Epoch 872 of 1000\n",
      "<torch.utils.data.dataloader.DataLoader object at 0x7fb151915550>\n"
     ]
    },
    {
     "name": "stderr",
     "output_type": "stream",
     "text": [
      "100%|██████████| 45/45 [00:00<00:00, 415.71it/s]\n",
      "100%|██████████| 5/5 [00:00<00:00, 1146.24it/s]\n",
      "100%|██████████| 45/45 [00:00<00:00, 423.14it/s]\n",
      "100%|██████████| 5/5 [00:00<00:00, 1195.98it/s]\n",
      "  0%|          | 0/45 [00:00<?, ?it/s]"
     ]
    },
    {
     "name": "stdout",
     "output_type": "stream",
     "text": [
      "Train Loss: 0.0139\n",
      "Val Loss: 0.0111\n",
      "Epoch 873 of 1000\n",
      "<torch.utils.data.dataloader.DataLoader object at 0x7fb151915550>\n",
      "Train Loss: 0.0139\n",
      "Val Loss: 0.0111\n",
      "Epoch 874 of 1000\n",
      "<torch.utils.data.dataloader.DataLoader object at 0x7fb151915550>\n"
     ]
    },
    {
     "name": "stderr",
     "output_type": "stream",
     "text": [
      "100%|██████████| 45/45 [00:00<00:00, 426.61it/s]\n",
      "100%|██████████| 5/5 [00:00<00:00, 1175.93it/s]\n",
      "100%|██████████| 45/45 [00:00<00:00, 412.06it/s]\n",
      "100%|██████████| 5/5 [00:00<00:00, 1239.16it/s]\n",
      "  0%|          | 0/45 [00:00<?, ?it/s]"
     ]
    },
    {
     "name": "stdout",
     "output_type": "stream",
     "text": [
      "Train Loss: 0.0139\n",
      "Val Loss: 0.0111\n",
      "Epoch 875 of 1000\n",
      "<torch.utils.data.dataloader.DataLoader object at 0x7fb151915550>\n",
      "Train Loss: 0.0139\n",
      "Val Loss: 0.0111\n",
      "Epoch 876 of 1000\n",
      "<torch.utils.data.dataloader.DataLoader object at 0x7fb151915550>\n"
     ]
    },
    {
     "name": "stderr",
     "output_type": "stream",
     "text": [
      "100%|██████████| 45/45 [00:00<00:00, 403.75it/s]\n",
      "100%|██████████| 5/5 [00:00<00:00, 863.59it/s]\n",
      "100%|██████████| 45/45 [00:00<00:00, 425.07it/s]\n",
      "100%|██████████| 5/5 [00:00<00:00, 1138.83it/s]\n",
      "  0%|          | 0/45 [00:00<?, ?it/s]"
     ]
    },
    {
     "name": "stdout",
     "output_type": "stream",
     "text": [
      "Train Loss: 0.0139\n",
      "Val Loss: 0.0111\n",
      "Epoch 877 of 1000\n",
      "<torch.utils.data.dataloader.DataLoader object at 0x7fb151915550>\n",
      "Train Loss: 0.0139\n",
      "Val Loss: 0.0111\n",
      "Epoch 878 of 1000\n",
      "<torch.utils.data.dataloader.DataLoader object at 0x7fb151915550>\n"
     ]
    },
    {
     "name": "stderr",
     "output_type": "stream",
     "text": [
      "100%|██████████| 45/45 [00:00<00:00, 420.39it/s]\n",
      "100%|██████████| 5/5 [00:00<00:00, 1179.24it/s]\n",
      "100%|██████████| 45/45 [00:00<00:00, 382.48it/s]\n",
      "100%|██████████| 5/5 [00:00<00:00, 1146.80it/s]\n",
      "  0%|          | 0/45 [00:00<?, ?it/s]"
     ]
    },
    {
     "name": "stdout",
     "output_type": "stream",
     "text": [
      "Train Loss: 0.0139\n",
      "Val Loss: 0.0111\n",
      "Epoch 879 of 1000\n",
      "<torch.utils.data.dataloader.DataLoader object at 0x7fb151915550>\n",
      "Train Loss: 0.0139\n",
      "Val Loss: 0.0111\n",
      "Epoch 880 of 1000\n",
      "<torch.utils.data.dataloader.DataLoader object at 0x7fb151915550>\n"
     ]
    },
    {
     "name": "stderr",
     "output_type": "stream",
     "text": [
      "100%|██████████| 45/45 [00:00<00:00, 423.82it/s]\n",
      "100%|██████████| 5/5 [00:00<00:00, 1237.48it/s]\n",
      "100%|██████████| 45/45 [00:00<00:00, 429.43it/s]\n",
      "100%|██████████| 5/5 [00:00<00:00, 1174.41it/s]\n",
      "  0%|          | 0/45 [00:00<?, ?it/s]"
     ]
    },
    {
     "name": "stdout",
     "output_type": "stream",
     "text": [
      "Train Loss: 0.0139\n",
      "Val Loss: 0.0111\n",
      "Epoch 881 of 1000\n",
      "<torch.utils.data.dataloader.DataLoader object at 0x7fb151915550>\n",
      "Train Loss: 0.0139\n",
      "Val Loss: 0.0111\n",
      "Epoch 882 of 1000\n",
      "<torch.utils.data.dataloader.DataLoader object at 0x7fb151915550>\n"
     ]
    },
    {
     "name": "stderr",
     "output_type": "stream",
     "text": [
      "100%|██████████| 45/45 [00:00<00:00, 418.77it/s]\n",
      "100%|██████████| 5/5 [00:00<00:00, 963.81it/s]\n",
      "100%|██████████| 45/45 [00:00<00:00, 417.73it/s]\n",
      "100%|██████████| 5/5 [00:00<00:00, 1175.73it/s]\n",
      "  0%|          | 0/45 [00:00<?, ?it/s]"
     ]
    },
    {
     "name": "stdout",
     "output_type": "stream",
     "text": [
      "Train Loss: 0.0139\n",
      "Val Loss: 0.0111\n",
      "Epoch 883 of 1000\n",
      "<torch.utils.data.dataloader.DataLoader object at 0x7fb151915550>\n",
      "Train Loss: 0.0139\n",
      "Val Loss: 0.0111\n",
      "Epoch 884 of 1000\n",
      "<torch.utils.data.dataloader.DataLoader object at 0x7fb151915550>\n"
     ]
    },
    {
     "name": "stderr",
     "output_type": "stream",
     "text": [
      "100%|██████████| 45/45 [00:00<00:00, 419.74it/s]\n",
      "100%|██████████| 5/5 [00:00<00:00, 934.02it/s]\n",
      "100%|██████████| 45/45 [00:00<00:00, 405.69it/s]\n",
      "100%|██████████| 5/5 [00:00<00:00, 830.16it/s]\n",
      "  0%|          | 0/45 [00:00<?, ?it/s]"
     ]
    },
    {
     "name": "stdout",
     "output_type": "stream",
     "text": [
      "Train Loss: 0.0139\n",
      "Val Loss: 0.0111\n",
      "Epoch 885 of 1000\n",
      "<torch.utils.data.dataloader.DataLoader object at 0x7fb151915550>\n",
      "Train Loss: 0.0139\n",
      "Val Loss: 0.0111\n",
      "Epoch 886 of 1000\n",
      "<torch.utils.data.dataloader.DataLoader object at 0x7fb151915550>\n"
     ]
    },
    {
     "name": "stderr",
     "output_type": "stream",
     "text": [
      "100%|██████████| 45/45 [00:00<00:00, 418.01it/s]\n",
      "100%|██████████| 5/5 [00:00<00:00, 1180.96it/s]\n",
      "100%|██████████| 45/45 [00:00<00:00, 412.06it/s]\n",
      "100%|██████████| 5/5 [00:00<00:00, 1253.98it/s]\n",
      "  0%|          | 0/45 [00:00<?, ?it/s]"
     ]
    },
    {
     "name": "stdout",
     "output_type": "stream",
     "text": [
      "Train Loss: 0.0139\n",
      "Val Loss: 0.0111\n",
      "Epoch 887 of 1000\n",
      "<torch.utils.data.dataloader.DataLoader object at 0x7fb151915550>\n",
      "Train Loss: 0.0139\n",
      "Val Loss: 0.0111\n",
      "Epoch 888 of 1000\n",
      "<torch.utils.data.dataloader.DataLoader object at 0x7fb151915550>\n"
     ]
    },
    {
     "name": "stderr",
     "output_type": "stream",
     "text": [
      "100%|██████████| 45/45 [00:00<00:00, 427.45it/s]\n",
      "100%|██████████| 5/5 [00:00<00:00, 1091.81it/s]\n",
      "100%|██████████| 45/45 [00:00<00:00, 436.11it/s]\n",
      "100%|██████████| 5/5 [00:00<00:00, 1263.57it/s]\n",
      "  0%|          | 0/45 [00:00<?, ?it/s]"
     ]
    },
    {
     "name": "stdout",
     "output_type": "stream",
     "text": [
      "Train Loss: 0.0139\n",
      "Val Loss: 0.0111\n",
      "Epoch 889 of 1000\n",
      "<torch.utils.data.dataloader.DataLoader object at 0x7fb151915550>\n",
      "Train Loss: 0.0139\n",
      "Val Loss: 0.0111\n",
      "Epoch 890 of 1000\n",
      "<torch.utils.data.dataloader.DataLoader object at 0x7fb151915550>\n"
     ]
    },
    {
     "name": "stderr",
     "output_type": "stream",
     "text": [
      "100%|██████████| 45/45 [00:00<00:00, 405.36it/s]\n",
      "100%|██████████| 5/5 [00:00<00:00, 1187.11it/s]\n",
      "100%|██████████| 45/45 [00:00<00:00, 423.62it/s]\n",
      "100%|██████████| 5/5 [00:00<00:00, 1181.76it/s]\n",
      "  0%|          | 0/45 [00:00<?, ?it/s]"
     ]
    },
    {
     "name": "stdout",
     "output_type": "stream",
     "text": [
      "Train Loss: 0.0139\n",
      "Val Loss: 0.0111\n",
      "Epoch 891 of 1000\n",
      "<torch.utils.data.dataloader.DataLoader object at 0x7fb151915550>\n",
      "Train Loss: 0.0139\n",
      "Val Loss: 0.0111\n",
      "Epoch 892 of 1000\n",
      "<torch.utils.data.dataloader.DataLoader object at 0x7fb151915550>\n"
     ]
    },
    {
     "name": "stderr",
     "output_type": "stream",
     "text": [
      "100%|██████████| 45/45 [00:00<00:00, 385.54it/s]\n",
      "100%|██████████| 5/5 [00:00<00:00, 1207.62it/s]\n",
      "100%|██████████| 45/45 [00:00<00:00, 427.36it/s]\n",
      "100%|██████████| 5/5 [00:00<00:00, 1222.69it/s]\n",
      "  0%|          | 0/45 [00:00<?, ?it/s]"
     ]
    },
    {
     "name": "stdout",
     "output_type": "stream",
     "text": [
      "Train Loss: 0.0139\n",
      "Val Loss: 0.0111\n",
      "Epoch 893 of 1000\n",
      "<torch.utils.data.dataloader.DataLoader object at 0x7fb151915550>\n",
      "Train Loss: 0.0139\n",
      "Val Loss: 0.0111\n",
      "Epoch 894 of 1000\n",
      "<torch.utils.data.dataloader.DataLoader object at 0x7fb151915550>\n"
     ]
    },
    {
     "name": "stderr",
     "output_type": "stream",
     "text": [
      "100%|██████████| 45/45 [00:00<00:00, 419.40it/s]\n",
      "100%|██████████| 5/5 [00:00<00:00, 1198.37it/s]\n",
      "100%|██████████| 45/45 [00:00<00:00, 411.98it/s]\n",
      "100%|██████████| 5/5 [00:00<00:00, 1218.21it/s]\n",
      "  0%|          | 0/45 [00:00<?, ?it/s]"
     ]
    },
    {
     "name": "stdout",
     "output_type": "stream",
     "text": [
      "Train Loss: 0.0139\n",
      "Val Loss: 0.0111\n",
      "Epoch 895 of 1000\n",
      "<torch.utils.data.dataloader.DataLoader object at 0x7fb151915550>\n",
      "Train Loss: 0.0139\n",
      "Val Loss: 0.0111\n",
      "Epoch 896 of 1000\n",
      "<torch.utils.data.dataloader.DataLoader object at 0x7fb151915550>\n"
     ]
    },
    {
     "name": "stderr",
     "output_type": "stream",
     "text": [
      "100%|██████████| 45/45 [00:00<00:00, 427.60it/s]\n",
      "100%|██████████| 5/5 [00:00<00:00, 1205.88it/s]\n",
      "100%|██████████| 45/45 [00:00<00:00, 437.38it/s]\n",
      "100%|██████████| 5/5 [00:00<00:00, 1187.65it/s]\n",
      "  0%|          | 0/45 [00:00<?, ?it/s]"
     ]
    },
    {
     "name": "stdout",
     "output_type": "stream",
     "text": [
      "Train Loss: 0.0139\n",
      "Val Loss: 0.0111\n",
      "Epoch 897 of 1000\n",
      "<torch.utils.data.dataloader.DataLoader object at 0x7fb151915550>\n",
      "Train Loss: 0.0139\n",
      "Val Loss: 0.0111\n",
      "Epoch 898 of 1000\n",
      "<torch.utils.data.dataloader.DataLoader object at 0x7fb151915550>\n"
     ]
    },
    {
     "name": "stderr",
     "output_type": "stream",
     "text": [
      "100%|██████████| 45/45 [00:00<00:00, 434.08it/s]\n",
      "100%|██████████| 5/5 [00:00<00:00, 1218.78it/s]\n",
      "100%|██████████| 45/45 [00:00<00:00, 429.50it/s]\n",
      "100%|██████████| 5/5 [00:00<00:00, 1226.19it/s]\n",
      "  0%|          | 0/45 [00:00<?, ?it/s]"
     ]
    },
    {
     "name": "stdout",
     "output_type": "stream",
     "text": [
      "Train Loss: 0.0139\n",
      "Val Loss: 0.0111\n",
      "Epoch 899 of 1000\n",
      "<torch.utils.data.dataloader.DataLoader object at 0x7fb151915550>\n",
      "Train Loss: 0.0139\n",
      "Val Loss: 0.0111\n",
      "Epoch 900 of 1000\n",
      "<torch.utils.data.dataloader.DataLoader object at 0x7fb151915550>\n"
     ]
    },
    {
     "name": "stderr",
     "output_type": "stream",
     "text": [
      "100%|██████████| 45/45 [00:00<00:00, 435.46it/s]\n",
      "100%|██████████| 5/5 [00:00<00:00, 1226.62it/s]\n",
      "100%|██████████| 45/45 [00:00<00:00, 433.00it/s]\n",
      "100%|██████████| 5/5 [00:00<00:00, 941.40it/s]\n",
      "  0%|          | 0/45 [00:00<?, ?it/s]"
     ]
    },
    {
     "name": "stdout",
     "output_type": "stream",
     "text": [
      "Train Loss: 0.0139\n",
      "Val Loss: 0.0111\n",
      "Epoch 901 of 1000\n",
      "<torch.utils.data.dataloader.DataLoader object at 0x7fb151915550>\n",
      "Train Loss: 0.0139\n",
      "Val Loss: 0.0111\n",
      "Epoch 902 of 1000\n",
      "<torch.utils.data.dataloader.DataLoader object at 0x7fb151915550>\n"
     ]
    },
    {
     "name": "stderr",
     "output_type": "stream",
     "text": [
      "100%|██████████| 45/45 [00:00<00:00, 427.04it/s]\n",
      "100%|██████████| 5/5 [00:00<00:00, 1219.42it/s]\n",
      "100%|██████████| 45/45 [00:00<00:00, 423.26it/s]\n",
      "100%|██████████| 5/5 [00:00<00:00, 1142.36it/s]\n",
      "  0%|          | 0/45 [00:00<?, ?it/s]"
     ]
    },
    {
     "name": "stdout",
     "output_type": "stream",
     "text": [
      "Train Loss: 0.0139\n",
      "Val Loss: 0.0111\n",
      "Epoch 903 of 1000\n",
      "<torch.utils.data.dataloader.DataLoader object at 0x7fb151915550>\n",
      "Train Loss: 0.0139\n",
      "Val Loss: 0.0111\n",
      "Epoch 904 of 1000\n",
      "<torch.utils.data.dataloader.DataLoader object at 0x7fb151915550>\n"
     ]
    },
    {
     "name": "stderr",
     "output_type": "stream",
     "text": [
      "100%|██████████| 45/45 [00:00<00:00, 421.38it/s]\n",
      "100%|██████████| 5/5 [00:00<00:00, 1140.00it/s]\n",
      "100%|██████████| 45/45 [00:00<00:00, 431.71it/s]\n",
      "100%|██████████| 5/5 [00:00<00:00, 1202.77it/s]\n",
      "  0%|          | 0/45 [00:00<?, ?it/s]"
     ]
    },
    {
     "name": "stdout",
     "output_type": "stream",
     "text": [
      "Train Loss: 0.0139\n",
      "Val Loss: 0.0111\n",
      "Epoch 905 of 1000\n",
      "<torch.utils.data.dataloader.DataLoader object at 0x7fb151915550>\n",
      "Train Loss: 0.0139\n",
      "Val Loss: 0.0111\n",
      "Epoch 906 of 1000\n",
      "<torch.utils.data.dataloader.DataLoader object at 0x7fb151915550>\n"
     ]
    },
    {
     "name": "stderr",
     "output_type": "stream",
     "text": [
      "100%|██████████| 45/45 [00:00<00:00, 424.09it/s]\n",
      "100%|██████████| 5/5 [00:00<00:00, 1097.07it/s]\n",
      "100%|██████████| 45/45 [00:00<00:00, 430.29it/s]\n",
      "100%|██████████| 5/5 [00:00<00:00, 1162.69it/s]\n",
      "  0%|          | 0/45 [00:00<?, ?it/s]"
     ]
    },
    {
     "name": "stdout",
     "output_type": "stream",
     "text": [
      "Train Loss: 0.0139\n",
      "Val Loss: 0.0111\n",
      "Epoch 907 of 1000\n",
      "<torch.utils.data.dataloader.DataLoader object at 0x7fb151915550>\n",
      "Train Loss: 0.0139\n",
      "Val Loss: 0.0111\n",
      "Epoch 908 of 1000\n",
      "<torch.utils.data.dataloader.DataLoader object at 0x7fb151915550>\n"
     ]
    },
    {
     "name": "stderr",
     "output_type": "stream",
     "text": [
      "100%|██████████| 45/45 [00:00<00:00, 427.54it/s]\n",
      "100%|██████████| 5/5 [00:00<00:00, 1160.31it/s]\n",
      "100%|██████████| 45/45 [00:00<00:00, 428.83it/s]\n",
      "100%|██████████| 5/5 [00:00<00:00, 1010.53it/s]\n",
      "  0%|          | 0/45 [00:00<?, ?it/s]"
     ]
    },
    {
     "name": "stdout",
     "output_type": "stream",
     "text": [
      "Train Loss: 0.0139\n",
      "Val Loss: 0.0111\n",
      "Epoch 909 of 1000\n",
      "<torch.utils.data.dataloader.DataLoader object at 0x7fb151915550>\n",
      "Train Loss: 0.0139\n",
      "Val Loss: 0.0111\n",
      "Epoch 910 of 1000\n",
      "<torch.utils.data.dataloader.DataLoader object at 0x7fb151915550>\n"
     ]
    },
    {
     "name": "stderr",
     "output_type": "stream",
     "text": [
      "100%|██████████| 45/45 [00:00<00:00, 429.37it/s]\n",
      "100%|██████████| 5/5 [00:00<00:00, 1067.09it/s]\n",
      "100%|██████████| 45/45 [00:00<00:00, 410.80it/s]\n",
      "100%|██████████| 5/5 [00:00<00:00, 1208.80it/s]\n",
      "  0%|          | 0/45 [00:00<?, ?it/s]"
     ]
    },
    {
     "name": "stdout",
     "output_type": "stream",
     "text": [
      "Train Loss: 0.0139\n",
      "Val Loss: 0.0111\n",
      "Epoch 911 of 1000\n",
      "<torch.utils.data.dataloader.DataLoader object at 0x7fb151915550>\n",
      "Train Loss: 0.0139\n",
      "Val Loss: 0.0111\n",
      "Epoch 912 of 1000\n",
      "<torch.utils.data.dataloader.DataLoader object at 0x7fb151915550>\n"
     ]
    },
    {
     "name": "stderr",
     "output_type": "stream",
     "text": [
      "100%|██████████| 45/45 [00:00<00:00, 423.89it/s]\n",
      "100%|██████████| 5/5 [00:00<00:00, 1171.79it/s]\n",
      "100%|██████████| 45/45 [00:00<00:00, 428.42it/s]\n",
      "100%|██████████| 5/5 [00:00<00:00, 1120.03it/s]\n",
      "  0%|          | 0/45 [00:00<?, ?it/s]"
     ]
    },
    {
     "name": "stdout",
     "output_type": "stream",
     "text": [
      "Train Loss: 0.0139\n",
      "Val Loss: 0.0111\n",
      "Epoch 913 of 1000\n",
      "<torch.utils.data.dataloader.DataLoader object at 0x7fb151915550>\n",
      "Train Loss: 0.0139\n",
      "Val Loss: 0.0111\n",
      "Epoch 914 of 1000\n",
      "<torch.utils.data.dataloader.DataLoader object at 0x7fb151915550>\n"
     ]
    },
    {
     "name": "stderr",
     "output_type": "stream",
     "text": [
      "100%|██████████| 45/45 [00:00<00:00, 420.25it/s]\n",
      "100%|██████████| 5/5 [00:00<00:00, 1173.17it/s]\n",
      "100%|██████████| 45/45 [00:00<00:00, 435.72it/s]\n",
      "100%|██████████| 5/5 [00:00<00:00, 1211.88it/s]\n",
      "  0%|          | 0/45 [00:00<?, ?it/s]"
     ]
    },
    {
     "name": "stdout",
     "output_type": "stream",
     "text": [
      "Train Loss: 0.0139\n",
      "Val Loss: 0.0111\n",
      "Epoch 915 of 1000\n",
      "<torch.utils.data.dataloader.DataLoader object at 0x7fb151915550>\n",
      "Train Loss: 0.0139\n",
      "Val Loss: 0.0111\n",
      "Epoch 916 of 1000\n",
      "<torch.utils.data.dataloader.DataLoader object at 0x7fb151915550>\n"
     ]
    },
    {
     "name": "stderr",
     "output_type": "stream",
     "text": [
      "100%|██████████| 45/45 [00:00<00:00, 426.64it/s]\n",
      "100%|██████████| 5/5 [00:00<00:00, 1175.40it/s]\n",
      "100%|██████████| 45/45 [00:00<00:00, 424.74it/s]\n",
      "100%|██████████| 5/5 [00:00<00:00, 1084.98it/s]\n",
      "  0%|          | 0/45 [00:00<?, ?it/s]"
     ]
    },
    {
     "name": "stdout",
     "output_type": "stream",
     "text": [
      "Train Loss: 0.0139\n",
      "Val Loss: 0.0111\n",
      "Epoch 917 of 1000\n",
      "<torch.utils.data.dataloader.DataLoader object at 0x7fb151915550>\n",
      "Train Loss: 0.0139\n",
      "Val Loss: 0.0111\n",
      "Epoch 918 of 1000\n",
      "<torch.utils.data.dataloader.DataLoader object at 0x7fb151915550>\n"
     ]
    },
    {
     "name": "stderr",
     "output_type": "stream",
     "text": [
      "100%|██████████| 45/45 [00:00<00:00, 432.12it/s]\n",
      "100%|██████████| 5/5 [00:00<00:00, 1112.08it/s]\n",
      "100%|██████████| 45/45 [00:00<00:00, 427.87it/s]\n",
      "100%|██████████| 5/5 [00:00<00:00, 1224.61it/s]\n",
      "  0%|          | 0/45 [00:00<?, ?it/s]"
     ]
    },
    {
     "name": "stdout",
     "output_type": "stream",
     "text": [
      "Train Loss: 0.0139\n",
      "Val Loss: 0.0111\n",
      "Epoch 919 of 1000\n",
      "<torch.utils.data.dataloader.DataLoader object at 0x7fb151915550>\n",
      "Train Loss: 0.0139\n",
      "Val Loss: 0.0111\n",
      "Epoch 920 of 1000\n",
      "<torch.utils.data.dataloader.DataLoader object at 0x7fb151915550>\n"
     ]
    },
    {
     "name": "stderr",
     "output_type": "stream",
     "text": [
      "100%|██████████| 45/45 [00:00<00:00, 405.62it/s]\n",
      "100%|██████████| 5/5 [00:00<00:00, 1170.94it/s]\n",
      "100%|██████████| 45/45 [00:00<00:00, 407.82it/s]\n",
      "100%|██████████| 5/5 [00:00<00:00, 1070.52it/s]\n",
      "  0%|          | 0/45 [00:00<?, ?it/s]"
     ]
    },
    {
     "name": "stdout",
     "output_type": "stream",
     "text": [
      "Train Loss: 0.0139\n",
      "Val Loss: 0.0111\n",
      "Epoch 921 of 1000\n",
      "<torch.utils.data.dataloader.DataLoader object at 0x7fb151915550>\n",
      "Train Loss: 0.0139\n",
      "Val Loss: 0.0111\n",
      "Epoch 922 of 1000\n",
      "<torch.utils.data.dataloader.DataLoader object at 0x7fb151915550>\n"
     ]
    },
    {
     "name": "stderr",
     "output_type": "stream",
     "text": [
      "100%|██████████| 45/45 [00:00<00:00, 382.26it/s]\n",
      "100%|██████████| 5/5 [00:00<00:00, 1087.79it/s]\n",
      "100%|██████████| 45/45 [00:00<00:00, 387.42it/s]\n",
      "100%|██████████| 5/5 [00:00<00:00, 1058.42it/s]\n",
      "  0%|          | 0/45 [00:00<?, ?it/s]"
     ]
    },
    {
     "name": "stdout",
     "output_type": "stream",
     "text": [
      "Train Loss: 0.0139\n",
      "Val Loss: 0.0111\n",
      "Epoch 923 of 1000\n",
      "<torch.utils.data.dataloader.DataLoader object at 0x7fb151915550>\n",
      "Train Loss: 0.0139\n",
      "Val Loss: 0.0111\n",
      "Epoch 924 of 1000\n",
      "<torch.utils.data.dataloader.DataLoader object at 0x7fb151915550>\n"
     ]
    },
    {
     "name": "stderr",
     "output_type": "stream",
     "text": [
      "100%|██████████| 45/45 [00:00<00:00, 412.56it/s]\n",
      "100%|██████████| 5/5 [00:00<00:00, 1181.83it/s]\n",
      "100%|██████████| 45/45 [00:00<00:00, 425.11it/s]\n",
      "100%|██████████| 5/5 [00:00<00:00, 1103.59it/s]\n",
      "  0%|          | 0/45 [00:00<?, ?it/s]"
     ]
    },
    {
     "name": "stdout",
     "output_type": "stream",
     "text": [
      "Train Loss: 0.0139\n",
      "Val Loss: 0.0111\n",
      "Epoch 925 of 1000\n",
      "<torch.utils.data.dataloader.DataLoader object at 0x7fb151915550>\n",
      "Train Loss: 0.0139\n",
      "Val Loss: 0.0111\n",
      "Epoch 926 of 1000\n",
      "<torch.utils.data.dataloader.DataLoader object at 0x7fb151915550>\n"
     ]
    },
    {
     "name": "stderr",
     "output_type": "stream",
     "text": [
      "100%|██████████| 45/45 [00:00<00:00, 422.18it/s]\n",
      "100%|██████████| 5/5 [00:00<00:00, 1174.02it/s]\n",
      "100%|██████████| 45/45 [00:00<00:00, 417.31it/s]\n",
      "100%|██████████| 5/5 [00:00<00:00, 1176.26it/s]\n",
      "  0%|          | 0/45 [00:00<?, ?it/s]"
     ]
    },
    {
     "name": "stdout",
     "output_type": "stream",
     "text": [
      "Train Loss: 0.0139\n",
      "Val Loss: 0.0111\n",
      "Epoch 927 of 1000\n",
      "<torch.utils.data.dataloader.DataLoader object at 0x7fb151915550>\n",
      "Train Loss: 0.0139\n",
      "Val Loss: 0.0111\n",
      "Epoch 928 of 1000\n",
      "<torch.utils.data.dataloader.DataLoader object at 0x7fb151915550>\n"
     ]
    },
    {
     "name": "stderr",
     "output_type": "stream",
     "text": [
      "100%|██████████| 45/45 [00:00<00:00, 429.24it/s]\n",
      "100%|██████████| 5/5 [00:00<00:00, 1167.87it/s]\n",
      "100%|██████████| 45/45 [00:00<00:00, 424.59it/s]\n",
      "100%|██████████| 5/5 [00:00<00:00, 1170.68it/s]\n",
      "  0%|          | 0/45 [00:00<?, ?it/s]"
     ]
    },
    {
     "name": "stdout",
     "output_type": "stream",
     "text": [
      "Train Loss: 0.0139\n",
      "Val Loss: 0.0111\n",
      "Epoch 929 of 1000\n",
      "<torch.utils.data.dataloader.DataLoader object at 0x7fb151915550>\n",
      "Train Loss: 0.0139\n",
      "Val Loss: 0.0111\n",
      "Epoch 930 of 1000\n",
      "<torch.utils.data.dataloader.DataLoader object at 0x7fb151915550>\n"
     ]
    },
    {
     "name": "stderr",
     "output_type": "stream",
     "text": [
      "100%|██████████| 45/45 [00:00<00:00, 417.74it/s]\n",
      "100%|██████████| 5/5 [00:00<00:00, 1186.04it/s]\n",
      "100%|██████████| 45/45 [00:00<00:00, 425.69it/s]\n",
      "100%|██████████| 5/5 [00:00<00:00, 1185.77it/s]\n",
      "  0%|          | 0/45 [00:00<?, ?it/s]"
     ]
    },
    {
     "name": "stdout",
     "output_type": "stream",
     "text": [
      "Train Loss: 0.0139\n",
      "Val Loss: 0.0111\n",
      "Epoch 931 of 1000\n",
      "<torch.utils.data.dataloader.DataLoader object at 0x7fb151915550>\n",
      "Train Loss: 0.0139\n",
      "Val Loss: 0.0111\n",
      "Epoch 932 of 1000\n",
      "<torch.utils.data.dataloader.DataLoader object at 0x7fb151915550>\n"
     ]
    },
    {
     "name": "stderr",
     "output_type": "stream",
     "text": [
      "100%|██████████| 45/45 [00:00<00:00, 420.98it/s]\n",
      "100%|██████████| 5/5 [00:00<00:00, 1187.11it/s]\n",
      "100%|██████████| 45/45 [00:00<00:00, 422.62it/s]\n",
      "100%|██████████| 5/5 [00:00<00:00, 1189.13it/s]\n",
      "  0%|          | 0/45 [00:00<?, ?it/s]"
     ]
    },
    {
     "name": "stdout",
     "output_type": "stream",
     "text": [
      "Train Loss: 0.0139\n",
      "Val Loss: 0.0111\n",
      "Epoch 933 of 1000\n",
      "<torch.utils.data.dataloader.DataLoader object at 0x7fb151915550>\n",
      "Train Loss: 0.0139\n",
      "Val Loss: 0.0111\n",
      "Epoch 934 of 1000\n",
      "<torch.utils.data.dataloader.DataLoader object at 0x7fb151915550>\n"
     ]
    },
    {
     "name": "stderr",
     "output_type": "stream",
     "text": [
      "100%|██████████| 45/45 [00:00<00:00, 422.47it/s]\n",
      "100%|██████████| 5/5 [00:00<00:00, 1150.51it/s]\n",
      "100%|██████████| 45/45 [00:00<00:00, 427.38it/s]\n",
      "100%|██████████| 5/5 [00:00<00:00, 1184.16it/s]\n",
      "  0%|          | 0/45 [00:00<?, ?it/s]"
     ]
    },
    {
     "name": "stdout",
     "output_type": "stream",
     "text": [
      "Train Loss: 0.0139\n",
      "Val Loss: 0.0111\n",
      "Epoch 935 of 1000\n",
      "<torch.utils.data.dataloader.DataLoader object at 0x7fb151915550>\n",
      "Train Loss: 0.0139\n",
      "Val Loss: 0.0111\n",
      "Epoch 936 of 1000\n",
      "<torch.utils.data.dataloader.DataLoader object at 0x7fb151915550>\n"
     ]
    },
    {
     "name": "stderr",
     "output_type": "stream",
     "text": [
      "100%|██████████| 45/45 [00:00<00:00, 418.63it/s]\n",
      "100%|██████████| 5/5 [00:00<00:00, 1103.65it/s]\n",
      "100%|██████████| 45/45 [00:00<00:00, 421.06it/s]\n",
      "100%|██████████| 5/5 [00:00<00:00, 1142.99it/s]\n",
      "  0%|          | 0/45 [00:00<?, ?it/s]"
     ]
    },
    {
     "name": "stdout",
     "output_type": "stream",
     "text": [
      "Train Loss: 0.0139\n",
      "Val Loss: 0.0111\n",
      "Epoch 937 of 1000\n",
      "<torch.utils.data.dataloader.DataLoader object at 0x7fb151915550>\n",
      "Train Loss: 0.0139\n",
      "Val Loss: 0.0111\n",
      "Epoch 938 of 1000\n",
      "<torch.utils.data.dataloader.DataLoader object at 0x7fb151915550>\n"
     ]
    },
    {
     "name": "stderr",
     "output_type": "stream",
     "text": [
      "100%|██████████| 45/45 [00:00<00:00, 408.64it/s]\n",
      "100%|██████████| 5/5 [00:00<00:00, 1159.29it/s]\n",
      "100%|██████████| 45/45 [00:00<00:00, 420.01it/s]\n",
      "100%|██████████| 5/5 [00:00<00:00, 1110.96it/s]\n",
      "  0%|          | 0/45 [00:00<?, ?it/s]"
     ]
    },
    {
     "name": "stdout",
     "output_type": "stream",
     "text": [
      "Train Loss: 0.0139\n",
      "Val Loss: 0.0111\n",
      "Epoch 939 of 1000\n",
      "<torch.utils.data.dataloader.DataLoader object at 0x7fb151915550>\n",
      "Train Loss: 0.0139\n",
      "Val Loss: 0.0111\n",
      "Epoch 940 of 1000\n",
      "<torch.utils.data.dataloader.DataLoader object at 0x7fb151915550>\n"
     ]
    },
    {
     "name": "stderr",
     "output_type": "stream",
     "text": [
      "100%|██████████| 45/45 [00:00<00:00, 415.02it/s]\n",
      "100%|██████████| 5/5 [00:00<00:00, 1178.04it/s]\n",
      "100%|██████████| 45/45 [00:00<00:00, 424.57it/s]\n",
      "100%|██████████| 5/5 [00:00<00:00, 1225.83it/s]\n",
      "  0%|          | 0/45 [00:00<?, ?it/s]"
     ]
    },
    {
     "name": "stdout",
     "output_type": "stream",
     "text": [
      "Train Loss: 0.0139\n",
      "Val Loss: 0.0111\n",
      "Epoch 941 of 1000\n",
      "<torch.utils.data.dataloader.DataLoader object at 0x7fb151915550>\n",
      "Train Loss: 0.0139\n",
      "Val Loss: 0.0111\n",
      "Epoch 942 of 1000\n",
      "<torch.utils.data.dataloader.DataLoader object at 0x7fb151915550>\n"
     ]
    },
    {
     "name": "stderr",
     "output_type": "stream",
     "text": [
      "100%|██████████| 45/45 [00:00<00:00, 426.98it/s]\n",
      "100%|██████████| 5/5 [00:00<00:00, 1186.17it/s]\n",
      "100%|██████████| 45/45 [00:00<00:00, 430.90it/s]\n",
      "100%|██████████| 5/5 [00:00<00:00, 1183.56it/s]\n",
      "  0%|          | 0/45 [00:00<?, ?it/s]"
     ]
    },
    {
     "name": "stdout",
     "output_type": "stream",
     "text": [
      "Train Loss: 0.0139\n",
      "Val Loss: 0.0111\n",
      "Epoch 943 of 1000\n",
      "<torch.utils.data.dataloader.DataLoader object at 0x7fb151915550>\n",
      "Train Loss: 0.0139\n",
      "Val Loss: 0.0111\n",
      "Epoch 944 of 1000\n",
      "<torch.utils.data.dataloader.DataLoader object at 0x7fb151915550>\n"
     ]
    },
    {
     "name": "stderr",
     "output_type": "stream",
     "text": [
      "100%|██████████| 45/45 [00:00<00:00, 423.89it/s]\n",
      "100%|██████████| 5/5 [00:00<00:00, 1151.90it/s]\n",
      "100%|██████████| 45/45 [00:00<00:00, 425.26it/s]\n",
      "100%|██████████| 5/5 [00:00<00:00, 1142.05it/s]\n",
      "  0%|          | 0/45 [00:00<?, ?it/s]"
     ]
    },
    {
     "name": "stdout",
     "output_type": "stream",
     "text": [
      "Train Loss: 0.0139\n",
      "Val Loss: 0.0111\n",
      "Epoch 945 of 1000\n",
      "<torch.utils.data.dataloader.DataLoader object at 0x7fb151915550>\n",
      "Train Loss: 0.0139\n",
      "Val Loss: 0.0111\n",
      "Epoch 946 of 1000\n",
      "<torch.utils.data.dataloader.DataLoader object at 0x7fb151915550>\n"
     ]
    },
    {
     "name": "stderr",
     "output_type": "stream",
     "text": [
      "100%|██████████| 45/45 [00:00<00:00, 421.19it/s]\n",
      "100%|██████████| 5/5 [00:00<00:00, 502.78it/s]\n",
      "100%|██████████| 45/45 [00:00<00:00, 424.91it/s]\n",
      "100%|██████████| 5/5 [00:00<00:00, 1162.63it/s]\n",
      "  0%|          | 0/45 [00:00<?, ?it/s]"
     ]
    },
    {
     "name": "stdout",
     "output_type": "stream",
     "text": [
      "Train Loss: 0.0139\n",
      "Val Loss: 0.0111\n",
      "Epoch 947 of 1000\n",
      "<torch.utils.data.dataloader.DataLoader object at 0x7fb151915550>\n",
      "Train Loss: 0.0139\n",
      "Val Loss: 0.0111\n",
      "Epoch 948 of 1000\n",
      "<torch.utils.data.dataloader.DataLoader object at 0x7fb151915550>\n"
     ]
    },
    {
     "name": "stderr",
     "output_type": "stream",
     "text": [
      "100%|██████████| 45/45 [00:00<00:00, 427.61it/s]\n",
      "100%|██████████| 5/5 [00:00<00:00, 1194.48it/s]\n",
      "100%|██████████| 45/45 [00:00<00:00, 423.94it/s]\n",
      "100%|██████████| 5/5 [00:00<00:00, 1139.63it/s]\n",
      "  0%|          | 0/45 [00:00<?, ?it/s]"
     ]
    },
    {
     "name": "stdout",
     "output_type": "stream",
     "text": [
      "Train Loss: 0.0139\n",
      "Val Loss: 0.0111\n",
      "Epoch 949 of 1000\n",
      "<torch.utils.data.dataloader.DataLoader object at 0x7fb151915550>\n",
      "Train Loss: 0.0139\n",
      "Val Loss: 0.0111\n",
      "Epoch 950 of 1000\n",
      "<torch.utils.data.dataloader.DataLoader object at 0x7fb151915550>\n"
     ]
    },
    {
     "name": "stderr",
     "output_type": "stream",
     "text": [
      "100%|██████████| 45/45 [00:00<00:00, 421.22it/s]\n",
      "100%|██████████| 5/5 [00:00<00:00, 1085.43it/s]\n",
      "100%|██████████| 45/45 [00:00<00:00, 428.40it/s]\n",
      "100%|██████████| 5/5 [00:00<00:00, 1169.44it/s]\n",
      "  0%|          | 0/45 [00:00<?, ?it/s]"
     ]
    },
    {
     "name": "stdout",
     "output_type": "stream",
     "text": [
      "Train Loss: 0.0139\n",
      "Val Loss: 0.0111\n",
      "Epoch 951 of 1000\n",
      "<torch.utils.data.dataloader.DataLoader object at 0x7fb151915550>\n",
      "Train Loss: 0.0139\n",
      "Val Loss: 0.0111\n",
      "Epoch 952 of 1000\n",
      "<torch.utils.data.dataloader.DataLoader object at 0x7fb151915550>\n"
     ]
    },
    {
     "name": "stderr",
     "output_type": "stream",
     "text": [
      "100%|██████████| 45/45 [00:00<00:00, 425.83it/s]\n",
      "100%|██████████| 5/5 [00:00<00:00, 1140.00it/s]\n",
      "100%|██████████| 45/45 [00:00<00:00, 418.40it/s]\n",
      "100%|██████████| 5/5 [00:00<00:00, 1109.90it/s]\n",
      "  0%|          | 0/45 [00:00<?, ?it/s]"
     ]
    },
    {
     "name": "stdout",
     "output_type": "stream",
     "text": [
      "Train Loss: 0.0139\n",
      "Val Loss: 0.0111\n",
      "Epoch 953 of 1000\n",
      "<torch.utils.data.dataloader.DataLoader object at 0x7fb151915550>\n",
      "Train Loss: 0.0139\n",
      "Val Loss: 0.0111\n",
      "Epoch 954 of 1000\n",
      "<torch.utils.data.dataloader.DataLoader object at 0x7fb151915550>\n"
     ]
    },
    {
     "name": "stderr",
     "output_type": "stream",
     "text": [
      "100%|██████████| 45/45 [00:00<00:00, 419.12it/s]\n",
      "100%|██████████| 5/5 [00:00<00:00, 1175.93it/s]\n",
      "100%|██████████| 45/45 [00:00<00:00, 419.22it/s]\n",
      "100%|██████████| 5/5 [00:00<00:00, 1166.96it/s]\n",
      "  0%|          | 0/45 [00:00<?, ?it/s]"
     ]
    },
    {
     "name": "stdout",
     "output_type": "stream",
     "text": [
      "Train Loss: 0.0139\n",
      "Val Loss: 0.0111\n",
      "Epoch 955 of 1000\n",
      "<torch.utils.data.dataloader.DataLoader object at 0x7fb151915550>\n",
      "Train Loss: 0.0139\n",
      "Val Loss: 0.0111\n",
      "Epoch 956 of 1000\n",
      "<torch.utils.data.dataloader.DataLoader object at 0x7fb151915550>\n"
     ]
    },
    {
     "name": "stderr",
     "output_type": "stream",
     "text": [
      "100%|██████████| 45/45 [00:00<00:00, 423.40it/s]\n",
      "100%|██████████| 5/5 [00:00<00:00, 1119.08it/s]\n",
      "100%|██████████| 45/45 [00:00<00:00, 419.54it/s]\n",
      "100%|██████████| 5/5 [00:00<00:00, 926.88it/s]\n",
      "  0%|          | 0/45 [00:00<?, ?it/s]"
     ]
    },
    {
     "name": "stdout",
     "output_type": "stream",
     "text": [
      "Train Loss: 0.0139\n",
      "Val Loss: 0.0111\n",
      "Epoch 957 of 1000\n",
      "<torch.utils.data.dataloader.DataLoader object at 0x7fb151915550>\n",
      "Train Loss: 0.0139\n",
      "Val Loss: 0.0111\n",
      "Epoch 958 of 1000\n",
      "<torch.utils.data.dataloader.DataLoader object at 0x7fb151915550>\n"
     ]
    },
    {
     "name": "stderr",
     "output_type": "stream",
     "text": [
      "100%|██████████| 45/45 [00:00<00:00, 424.81it/s]\n",
      "100%|██████████| 5/5 [00:00<00:00, 1160.25it/s]\n",
      "100%|██████████| 45/45 [00:00<00:00, 424.72it/s]\n",
      "100%|██████████| 5/5 [00:00<00:00, 1112.55it/s]\n",
      "  0%|          | 0/45 [00:00<?, ?it/s]"
     ]
    },
    {
     "name": "stdout",
     "output_type": "stream",
     "text": [
      "Train Loss: 0.0139\n",
      "Val Loss: 0.0111\n",
      "Epoch 959 of 1000\n",
      "<torch.utils.data.dataloader.DataLoader object at 0x7fb151915550>\n",
      "Train Loss: 0.0139\n",
      "Val Loss: 0.0111\n",
      "Epoch 960 of 1000\n",
      "<torch.utils.data.dataloader.DataLoader object at 0x7fb151915550>\n"
     ]
    },
    {
     "name": "stderr",
     "output_type": "stream",
     "text": [
      "100%|██████████| 45/45 [00:00<00:00, 429.28it/s]\n",
      "100%|██████████| 5/5 [00:00<00:00, 1101.62it/s]\n",
      "100%|██████████| 45/45 [00:00<00:00, 424.19it/s]\n",
      "100%|██████████| 5/5 [00:00<00:00, 1168.98it/s]\n",
      "  0%|          | 0/45 [00:00<?, ?it/s]"
     ]
    },
    {
     "name": "stdout",
     "output_type": "stream",
     "text": [
      "Train Loss: 0.0139\n",
      "Val Loss: 0.0111\n",
      "Epoch 961 of 1000\n",
      "<torch.utils.data.dataloader.DataLoader object at 0x7fb151915550>\n",
      "Train Loss: 0.0139\n",
      "Val Loss: 0.0111\n",
      "Epoch 962 of 1000\n",
      "<torch.utils.data.dataloader.DataLoader object at 0x7fb151915550>\n"
     ]
    },
    {
     "name": "stderr",
     "output_type": "stream",
     "text": [
      "100%|██████████| 45/45 [00:00<00:00, 419.60it/s]\n",
      "100%|██████████| 5/5 [00:00<00:00, 1160.44it/s]\n",
      "100%|██████████| 45/45 [00:00<00:00, 424.27it/s]\n",
      "100%|██████████| 5/5 [00:00<00:00, 1186.31it/s]\n",
      "  0%|          | 0/45 [00:00<?, ?it/s]"
     ]
    },
    {
     "name": "stdout",
     "output_type": "stream",
     "text": [
      "Train Loss: 0.0139\n",
      "Val Loss: 0.0111\n",
      "Epoch 963 of 1000\n",
      "<torch.utils.data.dataloader.DataLoader object at 0x7fb151915550>\n",
      "Train Loss: 0.0139\n",
      "Val Loss: 0.0111\n",
      "Epoch 964 of 1000\n",
      "<torch.utils.data.dataloader.DataLoader object at 0x7fb151915550>\n"
     ]
    },
    {
     "name": "stderr",
     "output_type": "stream",
     "text": [
      "100%|██████████| 45/45 [00:00<00:00, 432.05it/s]\n",
      "100%|██████████| 5/5 [00:00<00:00, 1180.50it/s]\n",
      "100%|██████████| 45/45 [00:00<00:00, 424.86it/s]\n",
      "100%|██████████| 5/5 [00:00<00:00, 1188.12it/s]\n",
      "  0%|          | 0/45 [00:00<?, ?it/s]"
     ]
    },
    {
     "name": "stdout",
     "output_type": "stream",
     "text": [
      "Train Loss: 0.0139\n",
      "Val Loss: 0.0111\n",
      "Epoch 965 of 1000\n",
      "<torch.utils.data.dataloader.DataLoader object at 0x7fb151915550>\n",
      "Train Loss: 0.0139\n",
      "Val Loss: 0.0111\n",
      "Epoch 966 of 1000\n",
      "<torch.utils.data.dataloader.DataLoader object at 0x7fb151915550>\n"
     ]
    },
    {
     "name": "stderr",
     "output_type": "stream",
     "text": [
      "100%|██████████| 45/45 [00:00<00:00, 424.36it/s]\n",
      "100%|██████████| 5/5 [00:00<00:00, 1184.97it/s]\n",
      "100%|██████████| 45/45 [00:00<00:00, 431.03it/s]\n",
      "100%|██████████| 5/5 [00:00<00:00, 1210.13it/s]\n",
      "  0%|          | 0/45 [00:00<?, ?it/s]"
     ]
    },
    {
     "name": "stdout",
     "output_type": "stream",
     "text": [
      "Train Loss: 0.0139\n",
      "Val Loss: 0.0111\n",
      "Epoch 967 of 1000\n",
      "<torch.utils.data.dataloader.DataLoader object at 0x7fb151915550>\n",
      "Train Loss: 0.0139\n",
      "Val Loss: 0.0111\n",
      "Epoch 968 of 1000\n",
      "<torch.utils.data.dataloader.DataLoader object at 0x7fb151915550>\n"
     ]
    },
    {
     "name": "stderr",
     "output_type": "stream",
     "text": [
      "100%|██████████| 45/45 [00:00<00:00, 431.20it/s]\n",
      "100%|██████████| 5/5 [00:00<00:00, 1256.23it/s]\n",
      "100%|██████████| 45/45 [00:00<00:00, 421.78it/s]\n",
      "100%|██████████| 5/5 [00:00<00:00, 1189.87it/s]\n",
      "  0%|          | 0/45 [00:00<?, ?it/s]"
     ]
    },
    {
     "name": "stdout",
     "output_type": "stream",
     "text": [
      "Train Loss: 0.0139\n",
      "Val Loss: 0.0111\n",
      "Epoch 969 of 1000\n",
      "<torch.utils.data.dataloader.DataLoader object at 0x7fb151915550>\n",
      "Train Loss: 0.0139\n",
      "Val Loss: 0.0111\n",
      "Epoch 970 of 1000\n",
      "<torch.utils.data.dataloader.DataLoader object at 0x7fb151915550>\n"
     ]
    },
    {
     "name": "stderr",
     "output_type": "stream",
     "text": [
      "100%|██████████| 45/45 [00:00<00:00, 436.48it/s]\n",
      "100%|██████████| 5/5 [00:00<00:00, 1131.03it/s]\n",
      "100%|██████████| 45/45 [00:00<00:00, 438.74it/s]\n",
      "100%|██████████| 5/5 [00:00<00:00, 1179.90it/s]\n",
      "  0%|          | 0/45 [00:00<?, ?it/s]"
     ]
    },
    {
     "name": "stdout",
     "output_type": "stream",
     "text": [
      "Train Loss: 0.0139\n",
      "Val Loss: 0.0111\n",
      "Epoch 971 of 1000\n",
      "<torch.utils.data.dataloader.DataLoader object at 0x7fb151915550>\n",
      "Train Loss: 0.0139\n",
      "Val Loss: 0.0111\n",
      "Epoch 972 of 1000\n",
      "<torch.utils.data.dataloader.DataLoader object at 0x7fb151915550>\n"
     ]
    },
    {
     "name": "stderr",
     "output_type": "stream",
     "text": [
      "100%|██████████| 45/45 [00:00<00:00, 430.30it/s]\n",
      "100%|██████████| 5/5 [00:00<00:00, 1154.18it/s]\n",
      "100%|██████████| 45/45 [00:00<00:00, 435.33it/s]\n",
      "100%|██████████| 5/5 [00:00<00:00, 1223.76it/s]\n",
      "  0%|          | 0/45 [00:00<?, ?it/s]"
     ]
    },
    {
     "name": "stdout",
     "output_type": "stream",
     "text": [
      "Train Loss: 0.0139\n",
      "Val Loss: 0.0111\n",
      "Epoch 973 of 1000\n",
      "<torch.utils.data.dataloader.DataLoader object at 0x7fb151915550>\n",
      "Train Loss: 0.0139\n",
      "Val Loss: 0.0111\n",
      "Epoch 974 of 1000\n",
      "<torch.utils.data.dataloader.DataLoader object at 0x7fb151915550>\n"
     ]
    },
    {
     "name": "stderr",
     "output_type": "stream",
     "text": [
      "100%|██████████| 45/45 [00:00<00:00, 426.84it/s]\n",
      "100%|██████████| 5/5 [00:00<00:00, 1089.49it/s]\n",
      "100%|██████████| 45/45 [00:00<00:00, 430.60it/s]\n",
      "100%|██████████| 5/5 [00:00<00:00, 1095.81it/s]\n",
      "  0%|          | 0/45 [00:00<?, ?it/s]"
     ]
    },
    {
     "name": "stdout",
     "output_type": "stream",
     "text": [
      "Train Loss: 0.0139\n",
      "Val Loss: 0.0111\n",
      "Epoch 975 of 1000\n",
      "<torch.utils.data.dataloader.DataLoader object at 0x7fb151915550>\n",
      "Train Loss: 0.0139\n",
      "Val Loss: 0.0111\n",
      "Epoch 976 of 1000\n",
      "<torch.utils.data.dataloader.DataLoader object at 0x7fb151915550>\n"
     ]
    },
    {
     "name": "stderr",
     "output_type": "stream",
     "text": [
      "100%|██████████| 45/45 [00:00<00:00, 427.22it/s]\n",
      "100%|██████████| 5/5 [00:00<00:00, 1207.90it/s]\n",
      "100%|██████████| 45/45 [00:00<00:00, 431.39it/s]\n",
      "100%|██████████| 5/5 [00:00<00:00, 1156.60it/s]\n",
      "  0%|          | 0/45 [00:00<?, ?it/s]"
     ]
    },
    {
     "name": "stdout",
     "output_type": "stream",
     "text": [
      "Train Loss: 0.0139\n",
      "Val Loss: 0.0111\n",
      "Epoch 977 of 1000\n",
      "<torch.utils.data.dataloader.DataLoader object at 0x7fb151915550>\n",
      "Train Loss: 0.0139\n",
      "Val Loss: 0.0111\n",
      "Epoch 978 of 1000\n",
      "<torch.utils.data.dataloader.DataLoader object at 0x7fb151915550>\n"
     ]
    },
    {
     "name": "stderr",
     "output_type": "stream",
     "text": [
      "100%|██████████| 45/45 [00:00<00:00, 424.64it/s]\n",
      "100%|██████████| 5/5 [00:00<00:00, 1212.51it/s]\n",
      "100%|██████████| 45/45 [00:00<00:00, 429.20it/s]\n",
      "100%|██████████| 5/5 [00:00<00:00, 1183.23it/s]\n",
      "  0%|          | 0/45 [00:00<?, ?it/s]"
     ]
    },
    {
     "name": "stdout",
     "output_type": "stream",
     "text": [
      "Train Loss: 0.0139\n",
      "Val Loss: 0.0111\n",
      "Epoch 979 of 1000\n",
      "<torch.utils.data.dataloader.DataLoader object at 0x7fb151915550>\n",
      "Train Loss: 0.0139\n",
      "Val Loss: 0.0111\n",
      "Epoch 980 of 1000\n",
      "<torch.utils.data.dataloader.DataLoader object at 0x7fb151915550>\n"
     ]
    },
    {
     "name": "stderr",
     "output_type": "stream",
     "text": [
      "100%|██████████| 45/45 [00:00<00:00, 433.49it/s]\n",
      "100%|██████████| 5/5 [00:00<00:00, 1211.46it/s]\n",
      "100%|██████████| 45/45 [00:00<00:00, 426.63it/s]\n",
      "100%|██████████| 5/5 [00:00<00:00, 1209.92it/s]\n",
      "  0%|          | 0/45 [00:00<?, ?it/s]"
     ]
    },
    {
     "name": "stdout",
     "output_type": "stream",
     "text": [
      "Train Loss: 0.0139\n",
      "Val Loss: 0.0111\n",
      "Epoch 981 of 1000\n",
      "<torch.utils.data.dataloader.DataLoader object at 0x7fb151915550>\n",
      "Train Loss: 0.0139\n",
      "Val Loss: 0.0111\n",
      "Epoch 982 of 1000\n",
      "<torch.utils.data.dataloader.DataLoader object at 0x7fb151915550>\n"
     ]
    },
    {
     "name": "stderr",
     "output_type": "stream",
     "text": [
      "100%|██████████| 45/45 [00:00<00:00, 433.04it/s]\n",
      "100%|██████████| 5/5 [00:00<00:00, 1221.62it/s]\n",
      "100%|██████████| 45/45 [00:00<00:00, 423.84it/s]\n",
      "100%|██████████| 5/5 [00:00<00:00, 1060.40it/s]\n",
      "  0%|          | 0/45 [00:00<?, ?it/s]"
     ]
    },
    {
     "name": "stdout",
     "output_type": "stream",
     "text": [
      "Train Loss: 0.0139\n",
      "Val Loss: 0.0111\n",
      "Epoch 983 of 1000\n",
      "<torch.utils.data.dataloader.DataLoader object at 0x7fb151915550>\n",
      "Train Loss: 0.0139\n",
      "Val Loss: 0.0111\n",
      "Epoch 984 of 1000\n",
      "<torch.utils.data.dataloader.DataLoader object at 0x7fb151915550>\n"
     ]
    },
    {
     "name": "stderr",
     "output_type": "stream",
     "text": [
      "100%|██████████| 45/45 [00:00<00:00, 415.36it/s]\n",
      "100%|██████████| 5/5 [00:00<00:00, 1046.01it/s]\n",
      "100%|██████████| 45/45 [00:00<00:00, 407.69it/s]\n",
      "100%|██████████| 5/5 [00:00<00:00, 1174.88it/s]\n",
      "  0%|          | 0/45 [00:00<?, ?it/s]"
     ]
    },
    {
     "name": "stdout",
     "output_type": "stream",
     "text": [
      "Train Loss: 0.0139\n",
      "Val Loss: 0.0111\n",
      "Epoch 985 of 1000\n",
      "<torch.utils.data.dataloader.DataLoader object at 0x7fb151915550>\n",
      "Train Loss: 0.0139\n",
      "Val Loss: 0.0111\n",
      "Epoch 986 of 1000\n",
      "<torch.utils.data.dataloader.DataLoader object at 0x7fb151915550>\n"
     ]
    },
    {
     "name": "stderr",
     "output_type": "stream",
     "text": [
      "100%|██████████| 45/45 [00:00<00:00, 415.96it/s]\n",
      "100%|██████████| 5/5 [00:00<00:00, 1163.53it/s]\n",
      "100%|██████████| 45/45 [00:00<00:00, 410.74it/s]\n",
      "100%|██████████| 5/5 [00:00<00:00, 1084.08it/s]\n",
      "  0%|          | 0/45 [00:00<?, ?it/s]"
     ]
    },
    {
     "name": "stdout",
     "output_type": "stream",
     "text": [
      "Train Loss: 0.0139\n",
      "Val Loss: 0.0111\n",
      "Epoch 987 of 1000\n",
      "<torch.utils.data.dataloader.DataLoader object at 0x7fb151915550>\n",
      "Train Loss: 0.0139\n",
      "Val Loss: 0.0111\n",
      "Epoch 988 of 1000\n",
      "<torch.utils.data.dataloader.DataLoader object at 0x7fb151915550>\n"
     ]
    },
    {
     "name": "stderr",
     "output_type": "stream",
     "text": [
      "100%|██████████| 45/45 [00:00<00:00, 411.81it/s]\n",
      "100%|██████████| 5/5 [00:00<00:00, 1117.23it/s]\n",
      "100%|██████████| 45/45 [00:00<00:00, 428.05it/s]\n",
      "100%|██████████| 5/5 [00:00<00:00, 1108.61it/s]\n",
      "  0%|          | 0/45 [00:00<?, ?it/s]"
     ]
    },
    {
     "name": "stdout",
     "output_type": "stream",
     "text": [
      "Train Loss: 0.0139\n",
      "Val Loss: 0.0111\n",
      "Epoch 989 of 1000\n",
      "<torch.utils.data.dataloader.DataLoader object at 0x7fb151915550>\n",
      "Train Loss: 0.0139\n",
      "Val Loss: 0.0111\n",
      "Epoch 990 of 1000\n",
      "<torch.utils.data.dataloader.DataLoader object at 0x7fb151915550>\n"
     ]
    },
    {
     "name": "stderr",
     "output_type": "stream",
     "text": [
      "100%|██████████| 45/45 [00:00<00:00, 413.83it/s]\n",
      "100%|██████████| 5/5 [00:00<00:00, 1019.27it/s]\n",
      "100%|██████████| 45/45 [00:00<00:00, 411.92it/s]\n",
      "100%|██████████| 5/5 [00:00<00:00, 1151.96it/s]\n",
      "  0%|          | 0/45 [00:00<?, ?it/s]"
     ]
    },
    {
     "name": "stdout",
     "output_type": "stream",
     "text": [
      "Train Loss: 0.0139\n",
      "Val Loss: 0.0111\n",
      "Epoch 991 of 1000\n",
      "<torch.utils.data.dataloader.DataLoader object at 0x7fb151915550>\n",
      "Train Loss: 0.0139\n",
      "Val Loss: 0.0111\n",
      "Epoch 992 of 1000\n",
      "<torch.utils.data.dataloader.DataLoader object at 0x7fb151915550>\n"
     ]
    },
    {
     "name": "stderr",
     "output_type": "stream",
     "text": [
      "100%|██████████| 45/45 [00:00<00:00, 429.41it/s]\n",
      "100%|██████████| 5/5 [00:00<00:00, 1170.61it/s]\n",
      "100%|██████████| 45/45 [00:00<00:00, 428.51it/s]\n",
      "100%|██████████| 5/5 [00:00<00:00, 1150.32it/s]\n",
      "  0%|          | 0/45 [00:00<?, ?it/s]"
     ]
    },
    {
     "name": "stdout",
     "output_type": "stream",
     "text": [
      "Train Loss: 0.0139\n",
      "Val Loss: 0.0111\n",
      "Epoch 993 of 1000\n",
      "<torch.utils.data.dataloader.DataLoader object at 0x7fb151915550>\n",
      "Train Loss: 0.0139\n",
      "Val Loss: 0.0111\n",
      "Epoch 994 of 1000\n",
      "<torch.utils.data.dataloader.DataLoader object at 0x7fb151915550>\n"
     ]
    },
    {
     "name": "stderr",
     "output_type": "stream",
     "text": [
      "100%|██████████| 45/45 [00:00<00:00, 423.42it/s]\n",
      "100%|██████████| 5/5 [00:00<00:00, 1193.73it/s]\n",
      "100%|██████████| 45/45 [00:00<00:00, 430.23it/s]\n",
      "100%|██████████| 5/5 [00:00<00:00, 1199.13it/s]\n",
      "  0%|          | 0/45 [00:00<?, ?it/s]"
     ]
    },
    {
     "name": "stdout",
     "output_type": "stream",
     "text": [
      "Train Loss: 0.0139\n",
      "Val Loss: 0.0111\n",
      "Epoch 995 of 1000\n",
      "<torch.utils.data.dataloader.DataLoader object at 0x7fb151915550>\n",
      "Train Loss: 0.0139\n",
      "Val Loss: 0.0111\n",
      "Epoch 996 of 1000\n",
      "<torch.utils.data.dataloader.DataLoader object at 0x7fb151915550>\n"
     ]
    },
    {
     "name": "stderr",
     "output_type": "stream",
     "text": [
      "100%|██████████| 45/45 [00:00<00:00, 419.03it/s]\n",
      "100%|██████████| 5/5 [00:00<00:00, 1214.47it/s]\n",
      "100%|██████████| 45/45 [00:00<00:00, 425.88it/s]\n",
      "100%|██████████| 5/5 [00:00<00:00, 1132.13it/s]\n",
      "  0%|          | 0/45 [00:00<?, ?it/s]"
     ]
    },
    {
     "name": "stdout",
     "output_type": "stream",
     "text": [
      "Train Loss: 0.0139\n",
      "Val Loss: 0.0111\n",
      "Epoch 997 of 1000\n",
      "<torch.utils.data.dataloader.DataLoader object at 0x7fb151915550>\n",
      "Train Loss: 0.0139\n",
      "Val Loss: 0.0111\n",
      "Epoch 998 of 1000\n",
      "<torch.utils.data.dataloader.DataLoader object at 0x7fb151915550>\n"
     ]
    },
    {
     "name": "stderr",
     "output_type": "stream",
     "text": [
      "100%|██████████| 45/45 [00:00<00:00, 366.66it/s]\n",
      "100%|██████████| 5/5 [00:00<00:00, 1226.48it/s]\n",
      "100%|██████████| 45/45 [00:00<00:00, 425.30it/s]\n",
      "100%|██████████| 5/5 [00:00<00:00, 1226.62it/s]\n",
      "  0%|          | 0/45 [00:00<?, ?it/s]"
     ]
    },
    {
     "name": "stdout",
     "output_type": "stream",
     "text": [
      "Train Loss: 0.0139\n",
      "Val Loss: 0.0111\n",
      "Epoch 999 of 1000\n",
      "<torch.utils.data.dataloader.DataLoader object at 0x7fb151915550>\n",
      "Train Loss: 0.0139\n",
      "Val Loss: 0.0111\n",
      "Epoch 1000 of 1000\n",
      "<torch.utils.data.dataloader.DataLoader object at 0x7fb151915550>\n"
     ]
    },
    {
     "name": "stderr",
     "output_type": "stream",
     "text": [
      "100%|██████████| 45/45 [00:00<00:00, 422.38it/s]\n",
      "100%|██████████| 5/5 [00:00<00:00, 1153.93it/s]"
     ]
    },
    {
     "name": "stdout",
     "output_type": "stream",
     "text": [
      "Train Loss: 0.0139\n",
      "Val Loss: 0.0111\n"
     ]
    },
    {
     "name": "stderr",
     "output_type": "stream",
     "text": [
      "\n"
     ]
    }
   ],
   "source": [
    "train_loss = []\n",
    "val_loss = []\n",
    "for epoch in range(epochs):\n",
    "    print(f\"Epoch {epoch+1} of {epochs}\")\n",
    "    print(train_loader)\n",
    "    train_epoch_loss = fit(model3, train_loader)\n",
    "    val_epoch_loss = validate(model3, val_loader)\n",
    "    train_loss.append(train_epoch_loss)\n",
    "    val_loss.append(val_epoch_loss)\n",
    "    print(f\"Train Loss: {train_epoch_loss:.4f}\")\n",
    "    print(f\"Val Loss: {val_epoch_loss:.4f}\")"
   ]
  },
  {
   "cell_type": "code",
   "execution_count": 176,
   "id": "ccaf771a",
   "metadata": {},
   "outputs": [
    {
     "name": "stdout",
     "output_type": "stream",
     "text": [
      "tensor(-3.2566, device='cuda:0', grad_fn=<NegBackward>)\n"
     ]
    }
   ],
   "source": [
    "alpha_q,beta_q = model3(Y_test)\n",
    "SE_ELBO =-torch.mean(alpha_q*torch.log(beta_q)-torch.lgamma(alpha_q)+(alpha_q+1)/X_test-beta_q/X_test)\n",
    "print(SE_ELBO)"
   ]
  },
  {
   "cell_type": "code",
   "execution_count": 177,
   "id": "56277d5a",
   "metadata": {},
   "outputs": [
    {
     "name": "stdout",
     "output_type": "stream",
     "text": [
      "tensor([[2.9578],\n",
      "        [2.9332],\n",
      "        [2.9616],\n",
      "        [3.0405],\n",
      "        [2.9603],\n",
      "        [2.9549],\n",
      "        [3.1086],\n",
      "        [2.9724],\n",
      "        [2.9721],\n",
      "        [2.9354],\n",
      "        [2.9585],\n",
      "        [2.9632],\n",
      "        [2.9641],\n",
      "        [2.9699],\n",
      "        [2.9628],\n",
      "        [3.4649],\n",
      "        [2.9553],\n",
      "        [2.9698],\n",
      "        [2.9675],\n",
      "        [3.0116],\n",
      "        [3.1962],\n",
      "        [2.9692],\n",
      "        [2.9620],\n",
      "        [2.9506],\n",
      "        [2.9685],\n",
      "        [2.9621],\n",
      "        [2.9625],\n",
      "        [2.9625],\n",
      "        [3.2986],\n",
      "        [2.9695],\n",
      "        [2.9648],\n",
      "        [2.9535],\n",
      "        [2.9323],\n",
      "        [2.9675],\n",
      "        [2.9672],\n",
      "        [2.9412],\n",
      "        [2.9369],\n",
      "        [2.9499],\n",
      "        [2.9400],\n",
      "        [2.9653],\n",
      "        [2.9501],\n",
      "        [2.9668],\n",
      "        [2.9641],\n",
      "        [2.9523],\n",
      "        [2.9396],\n",
      "        [2.9635],\n",
      "        [2.9403],\n",
      "        [2.9492],\n",
      "        [2.9678],\n",
      "        [5.0123],\n",
      "        [2.9633],\n",
      "        [3.4026],\n",
      "        [2.9453],\n",
      "        [2.9477],\n",
      "        [2.9331],\n",
      "        [2.9539],\n",
      "        [2.9561],\n",
      "        [2.9325],\n",
      "        [2.9647],\n",
      "        [2.9678],\n",
      "        [2.9491],\n",
      "        [2.9575],\n",
      "        [2.9462],\n",
      "        [2.9604],\n",
      "        [2.9541],\n",
      "        [2.9500],\n",
      "        [2.9331],\n",
      "        [2.9695],\n",
      "        [2.9346],\n",
      "        [2.9629],\n",
      "        [2.9693],\n",
      "        [2.9502],\n",
      "        [2.9341],\n",
      "        [2.9579],\n",
      "        [2.9620],\n",
      "        [2.9559],\n",
      "        [2.9785],\n",
      "        [2.9710],\n",
      "        [2.9676],\n",
      "        [2.9746],\n",
      "        [2.9603],\n",
      "        [2.9528],\n",
      "        [2.9518],\n",
      "        [2.9595],\n",
      "        [2.9685],\n",
      "        [2.9673],\n",
      "        [5.2005],\n",
      "        [3.0901],\n",
      "        [2.9469],\n",
      "        [2.9612],\n",
      "        [2.9402],\n",
      "        [2.9531],\n",
      "        [2.9664],\n",
      "        [2.9459],\n",
      "        [2.9419],\n",
      "        [2.9533],\n",
      "        [3.3277],\n",
      "        [2.9360],\n",
      "        [2.9690],\n",
      "        [3.0231],\n",
      "        [2.9659],\n",
      "        [2.9615],\n",
      "        [4.0484],\n",
      "        [2.9349],\n",
      "        [2.9368],\n",
      "        [2.9576],\n",
      "        [2.9721],\n",
      "        [2.9622],\n",
      "        [2.9699],\n",
      "        [2.9369],\n",
      "        [2.9524],\n",
      "        [2.9615],\n",
      "        [2.9469],\n",
      "        [2.9355],\n",
      "        [2.9628],\n",
      "        [3.0175],\n",
      "        [2.9628],\n",
      "        [2.9362],\n",
      "        [2.9322],\n",
      "        [2.9691],\n",
      "        [2.9659],\n",
      "        [2.9497],\n",
      "        [2.9528],\n",
      "        [2.9621],\n",
      "        [2.9608],\n",
      "        [2.9532],\n",
      "        [3.0022],\n",
      "        [2.9646],\n",
      "        [3.0813],\n",
      "        [2.9520],\n",
      "        [2.9477],\n",
      "        [2.9686],\n",
      "        [2.9350],\n",
      "        [2.9478],\n",
      "        [3.0640],\n",
      "        [2.9470],\n",
      "        [2.9423],\n",
      "        [2.9492],\n",
      "        [2.9622],\n",
      "        [3.0548],\n",
      "        [3.8836],\n",
      "        [2.9672],\n",
      "        [2.9619],\n",
      "        [3.0653],\n",
      "        [2.9686],\n",
      "        [2.9677],\n",
      "        [2.9409],\n",
      "        [2.9650],\n",
      "        [2.9594],\n",
      "        [2.9669],\n",
      "        [2.9684],\n",
      "        [2.9434],\n",
      "        [2.9680],\n",
      "        [2.9521],\n",
      "        [2.9456],\n",
      "        [2.9679],\n",
      "        [3.1393],\n",
      "        [3.3260],\n",
      "        [2.9373],\n",
      "        [2.9593],\n",
      "        [2.9532],\n",
      "        [2.9655],\n",
      "        [3.3598],\n",
      "        [2.9613],\n",
      "        [2.9561],\n",
      "        [3.3381],\n",
      "        [3.1601],\n",
      "        [2.9657],\n",
      "        [2.9681],\n",
      "        [3.0049],\n",
      "        [2.9416],\n",
      "        [2.9718],\n",
      "        [2.9679],\n",
      "        [2.9880],\n",
      "        [2.9651],\n",
      "        [2.9555],\n",
      "        [2.9718],\n",
      "        [2.9486],\n",
      "        [2.9427],\n",
      "        [2.9469],\n",
      "        [2.9362],\n",
      "        [2.9420],\n",
      "        [3.3812],\n",
      "        [2.9683],\n",
      "        [2.9621],\n",
      "        [2.9594],\n",
      "        [6.4284],\n",
      "        [3.4490],\n",
      "        [2.9654],\n",
      "        [2.9779],\n",
      "        [2.9958],\n",
      "        [2.9584],\n",
      "        [2.9597],\n",
      "        [2.9661],\n",
      "        [2.9466],\n",
      "        [2.9652],\n",
      "        [2.9533],\n",
      "        [2.9657],\n",
      "        [2.9953],\n",
      "        [3.0551],\n",
      "        [6.4877],\n",
      "        [2.9489],\n",
      "        [2.9537],\n",
      "        [2.9424],\n",
      "        [2.9616],\n",
      "        [3.5848],\n",
      "        [3.0196],\n",
      "        [3.6692],\n",
      "        [2.9723],\n",
      "        [2.9650],\n",
      "        [2.9352],\n",
      "        [2.9479],\n",
      "        [2.9502],\n",
      "        [2.9678],\n",
      "        [3.0801],\n",
      "        [2.9858],\n",
      "        [2.9570],\n",
      "        [3.0072],\n",
      "        [2.9619],\n",
      "        [2.9655],\n",
      "        [2.9975],\n",
      "        [2.9899],\n",
      "        [3.0337],\n",
      "        [2.9491],\n",
      "        [2.9914],\n",
      "        [2.9400],\n",
      "        [3.1762],\n",
      "        [2.9394],\n",
      "        [2.9722],\n",
      "        [2.9487],\n",
      "        [3.3461],\n",
      "        [2.9837],\n",
      "        [2.9595],\n",
      "        [2.9561],\n",
      "        [3.1065],\n",
      "        [2.9458],\n",
      "        [3.0235],\n",
      "        [3.0282],\n",
      "        [2.9344],\n",
      "        [2.9566],\n",
      "        [2.9689],\n",
      "        [2.9604],\n",
      "        [2.9543],\n",
      "        [2.9440],\n",
      "        [2.9675],\n",
      "        [2.9509],\n",
      "        [3.0247],\n",
      "        [2.9632],\n",
      "        [2.9669],\n",
      "        [2.9342],\n",
      "        [3.0126],\n",
      "        [2.9423],\n",
      "        [2.9623],\n",
      "        [2.9799],\n",
      "        [2.9714],\n",
      "        [3.2530]], device='cuda:0', grad_fn=<PowBackward0>) tensor([[  1.1209],\n",
      "        [  2.3938],\n",
      "        [  0.9742],\n",
      "        [  3.5550],\n",
      "        [  1.0233],\n",
      "        [  1.2389],\n",
      "        [  4.3974],\n",
      "        [  0.6164],\n",
      "        [  0.6265],\n",
      "        [  2.1878],\n",
      "        [  1.0918],\n",
      "        [  0.9153],\n",
      "        [  0.8850],\n",
      "        [  0.6924],\n",
      "        [  0.9306],\n",
      "        [ 10.0358],\n",
      "        [  1.2196],\n",
      "        [  0.6941],\n",
      "        [  0.7675],\n",
      "        [  3.2216],\n",
      "        [  5.5964],\n",
      "        [  0.7148],\n",
      "        [  2.6853],\n",
      "        [  1.4250],\n",
      "        [  0.7363],\n",
      "        [  0.9578],\n",
      "        [  0.9428],\n",
      "        [  0.9412],\n",
      "        [  7.1575],\n",
      "        [  0.7056],\n",
      "        [  0.8593],\n",
      "        [  1.2958],\n",
      "        [  2.3624],\n",
      "        [  0.7698],\n",
      "        [  0.7777],\n",
      "        [  2.4736],\n",
      "        [  2.1038],\n",
      "        [  1.4573],\n",
      "        [  1.9395],\n",
      "        [  0.8415],\n",
      "        [  1.4475],\n",
      "        [  0.7903],\n",
      "        [  0.8826],\n",
      "        [  2.5848],\n",
      "        [  2.4577],\n",
      "        [  0.9066],\n",
      "        [  2.4642],\n",
      "        [  1.4887],\n",
      "        [  0.7583],\n",
      "        [ 52.9911],\n",
      "        [  0.9136],\n",
      "        [  8.9094],\n",
      "        [  1.6699],\n",
      "        [  1.5591],\n",
      "        [  2.3149],\n",
      "        [  1.2802],\n",
      "        [  1.1868],\n",
      "        [  2.3868],\n",
      "        [  0.8629],\n",
      "        [  0.7575],\n",
      "        [  1.4933],\n",
      "        [  1.1303],\n",
      "        [  2.5233],\n",
      "        [  1.0194],\n",
      "        [  1.2712],\n",
      "        [  1.4511],\n",
      "        [  2.3930],\n",
      "        [  0.7032],\n",
      "        [  2.2318],\n",
      "        [  0.9268],\n",
      "        [  0.7108],\n",
      "        [  1.4435],\n",
      "        [  2.4031],\n",
      "        [  2.6431],\n",
      "        [  0.9605],\n",
      "        [  2.6220],\n",
      "        [  2.8583],\n",
      "        [  0.6574],\n",
      "        [  0.7649],\n",
      "        [  2.8171],\n",
      "        [  1.0223],\n",
      "        [  1.3267],\n",
      "        [  2.5806],\n",
      "        [  1.0532],\n",
      "        [  0.7361],\n",
      "        [  0.7757],\n",
      "        [ 59.8029],\n",
      "        [  4.1609],\n",
      "        [  1.5960],\n",
      "        [  0.9883],\n",
      "        [  1.9308],\n",
      "        [  1.3156],\n",
      "        [  0.8046],\n",
      "        [  1.6444],\n",
      "        [  1.8414],\n",
      "        [  1.3041],\n",
      "        [  7.6314],\n",
      "        [  2.1528],\n",
      "        [  0.7216],\n",
      "        [  3.3528],\n",
      "        [  0.8221],\n",
      "        [  2.6798],\n",
      "        [ 23.1283],\n",
      "        [  2.4108],\n",
      "        [  2.1099],\n",
      "        [  1.1298],\n",
      "        [  0.6261],\n",
      "        [  0.9527],\n",
      "        [  0.6923],\n",
      "        [  2.1071],\n",
      "        [  1.3450],\n",
      "        [  0.9785],\n",
      "        [  2.5305],\n",
      "        [  2.1823],\n",
      "        [  0.9306],\n",
      "        [  3.2887],\n",
      "        [  0.9289],\n",
      "        [  2.1411],\n",
      "        [  2.3691],\n",
      "        [  0.7176],\n",
      "        [  0.8211],\n",
      "        [  1.4668],\n",
      "        [  1.3266],\n",
      "        [  0.9551],\n",
      "        [  1.0029],\n",
      "        [  1.3106],\n",
      "        [  3.1164],\n",
      "        [  0.8670],\n",
      "        [  4.0498],\n",
      "        [  1.3616],\n",
      "        [  1.5591],\n",
      "        [  0.7316],\n",
      "        [  2.2072],\n",
      "        [  1.5538],\n",
      "        [  3.8367],\n",
      "        [  1.5923],\n",
      "        [  2.4842],\n",
      "        [  1.4896],\n",
      "        [  0.9534],\n",
      "        [  3.7256],\n",
      "        [ 18.9958],\n",
      "        [  0.7776],\n",
      "        [  0.9629],\n",
      "        [  3.8524],\n",
      "        [  0.7314],\n",
      "        [  0.7620],\n",
      "        [  1.8929],\n",
      "        [  0.8537],\n",
      "        [  2.6583],\n",
      "        [  0.7873],\n",
      "        [  0.7388],\n",
      "        [  1.7663],\n",
      "        [  0.7514],\n",
      "        [  2.5836],\n",
      "        [  1.6588],\n",
      "        [  0.7551],\n",
      "        [  4.8038],\n",
      "        [  7.6029],\n",
      "        [  2.0852],\n",
      "        [  1.0611],\n",
      "        [  1.3099],\n",
      "        [  0.8370],\n",
      "        [  8.1687],\n",
      "        [  0.9850],\n",
      "        [  1.1874],\n",
      "        [  7.8040],\n",
      "        [  5.0871],\n",
      "        [  0.8302],\n",
      "        [  0.7488],\n",
      "        [  3.1467],\n",
      "        [  1.8549],\n",
      "        [  0.6340],\n",
      "        [  0.7542],\n",
      "        [  2.9611],\n",
      "        [  0.8478],\n",
      "        [  1.2151],\n",
      "        [  0.6341],\n",
      "        [  1.5137],\n",
      "        [  1.7980],\n",
      "        [  2.5307],\n",
      "        [  2.1413],\n",
      "        [  1.8359],\n",
      "        [  8.5345],\n",
      "        [  0.7422],\n",
      "        [  0.9557],\n",
      "        [  1.0566],\n",
      "        [110.4782],\n",
      "        [  9.7427],\n",
      "        [  0.8402],\n",
      "        [  2.8527],\n",
      "        [  3.0460],\n",
      "        [  1.0961],\n",
      "        [  2.6608],\n",
      "        [  0.8135],\n",
      "        [  1.6097],\n",
      "        [  0.8457],\n",
      "        [  1.3066],\n",
      "        [  0.8273],\n",
      "        [  3.0408],\n",
      "        [  3.7290],\n",
      "        [113.1671],\n",
      "        [  1.4996],\n",
      "        [  1.2886],\n",
      "        [  1.8176],\n",
      "        [  0.9755],\n",
      "        [ 12.3619],\n",
      "        [  3.3121],\n",
      "        [ 14.1179],\n",
      "        [  0.6185],\n",
      "        [  0.8544],\n",
      "        [  2.4138],\n",
      "        [  1.5487],\n",
      "        [  1.4438],\n",
      "        [  0.7594],\n",
      "        [  4.0349],\n",
      "        [  2.9366],\n",
      "        [  1.1525],\n",
      "        [  3.1730],\n",
      "        [  0.9625],\n",
      "        [  0.8362],\n",
      "        [  3.0644],\n",
      "        [  2.9818],\n",
      "        [  3.4748],\n",
      "        [  2.5530],\n",
      "        [  2.9981],\n",
      "        [  1.9389],\n",
      "        [  5.3118],\n",
      "        [  1.9713],\n",
      "        [  0.6231],\n",
      "        [  1.5097],\n",
      "        [  7.9374],\n",
      "        [  2.9148],\n",
      "        [  1.0535],\n",
      "        [  1.1870],\n",
      "        [  4.3709],\n",
      "        [  2.5193],\n",
      "        [  3.3568],\n",
      "        [  3.4115],\n",
      "        [  2.4062],\n",
      "        [  1.1686],\n",
      "        [  0.7244],\n",
      "        [  1.0179],\n",
      "        [  1.2642],\n",
      "        [  1.7329],\n",
      "        [  0.7695],\n",
      "        [  1.4108],\n",
      "        [  3.3715],\n",
      "        [  0.9145],\n",
      "        [  0.7884],\n",
      "        [  2.2547],\n",
      "        [  3.2332],\n",
      "        [  1.8186],\n",
      "        [  0.9478],\n",
      "        [  2.8737],\n",
      "        [  0.6472],\n",
      "        [  6.4413]], device='cuda:0', grad_fn=<PowBackward0>)\n"
     ]
    }
   ],
   "source": [
    "print(alpha_q,beta_q)"
   ]
  },
  {
   "cell_type": "markdown",
   "id": "25edef87",
   "metadata": {},
   "source": [
    "# Version 3"
   ]
  },
  {
   "cell_type": "markdown",
   "id": "3d1f963d",
   "metadata": {},
   "source": [
    "On s'intéresse directement à une reparamétrisation par inversion de la cdf, les paramètres de l'a priori restent connus"
   ]
  },
  {
   "cell_type": "code",
   "execution_count": 94,
   "id": "4ca0d60c",
   "metadata": {},
   "outputs": [],
   "source": [
    "class gam_inc_inv(torch.autograd.Function):\n",
    "    @staticmethod\n",
    "    def forward(ctx,x,y):\n",
    "        #res = torch.from_numpy(sc.gammaincinv(x.cpu(),y.cpu()))\n",
    "        res = (sc.gammaincinv(x.cpu(),y.cpu()/sc.gamma(x.cpu()))).to(device)\n",
    "        ctx.save_for_backward(x,y,res)\n",
    "        return res\n",
    "\n",
    "    @staticmethod\n",
    "    def backward(ctx, grad_output):\n",
    "        x,y,res = ctx.saved_tensors\n",
    "        grad_y = 1/(res**(x-1)*torch.exp(-res))\n",
    "        mei = torch.zeros((x.shape)).to(device)\n",
    "        for i in range(x.shape[0]):\n",
    "            mei[i] = float(mpmath.meijerg([[], [0,0]], [[-x[i,0].tolist()-1, -1,-1], []], res[i,0].tolist()))\n",
    "        u1 = sc.gammainc(x.cpu(),res.cpu()).to(device)\n",
    "        u2 = sc.gamma(x.cpu()).to(device)\n",
    "        u3 = sc.digamma(x.cpu()).to(device)\n",
    "        grad_x = (torch.log(res)+torch.log(u1)+torch.lgamma(x)+res*mei-u2*u3)/grad_y\n",
    "        return grad_x,grad_y\n"
   ]
  },
  {
   "cell_type": "code",
   "execution_count": 95,
   "id": "fecbff5d",
   "metadata": {},
   "outputs": [],
   "source": [
    "features = 2\n",
    "# define a simple linear VAE\n",
    "class LinearVAE_invG_rep2(nn.Module):\n",
    "    def __init__(self):\n",
    "        super(LinearVAE_invG_rep2, self).__init__()\n",
    "        \n",
    "        self.beta_p = 0.5\n",
    " \n",
    "        # encoder\n",
    "        self.enc1 = nn.Linear(in_features=1, out_features=5)\n",
    "        self.enc2 = nn.Linear(in_features=5, out_features=features)\n",
    " \n",
    "        # decoder \n",
    "        self.dec1 = nn.Linear(in_features=1, out_features=5)\n",
    "        self.dec2 = nn.Linear(in_features=5, out_features=features)\n",
    "    \n",
    "    def reparameterize(self, alpha, beta):\n",
    "        \"\"\"\n",
    "        :param alpha: 2\n",
    "        :param beta:  from the encoder's latent space\n",
    "        \"\"\"\n",
    "        \n",
    "        u = torch.rand_like(beta)\n",
    "        sample = beta/gam_inc_inv.apply(alpha,torch.exp(torch.lgamma(alpha))*u) # sampling as if coming from the input space\n",
    "        if torch.sum(torch.isnan(sample))>0 : \n",
    "            print(\"Sample:\")\n",
    "            print(sample)\n",
    "            ind = torch.where(torch.isnan(sample))\n",
    "            ind_0= ind[0]\n",
    "            print(ind_0)\n",
    "            print(beta[ind_0,0])\n",
    "            print(alpha[ind_0,0])\n",
    "            print(u[ind_0,0])\n",
    "            print(torch.exp(torch.lgamma(alpha[ind_0,0]))*u[ind_0,0])\n",
    "            print(gam_inc_inv.apply(alpha[ind_0,0],torch.exp(torch.lgamma(alpha[ind_0,0]))*u[ind_0,0]))\n",
    "        sample = torch.nan_to_num(sample)\n",
    "        return sample\n",
    " \n",
    "    def forward(self, x):\n",
    "        # encoding\n",
    "        x = F.relu(self.enc1(x))\n",
    "        x = self.enc2(x).view(-1, 2, 1)\n",
    "        # get `mu` and `log_var`\n",
    "        alpha_q = torch.abs(x[:,0,:])+1\n",
    "        beta_q = x[:,1,:]**2 \n",
    "        z = self.reparameterize(alpha_q,beta_q)\n",
    "        # decoding\n",
    "        x = F.relu(self.dec1(z))\n",
    "        reconstruction = self.dec2(x).view(-1, 2, 1)\n",
    "        alpha_theta = torch.abs(reconstruction[:, 0, :])\n",
    "        beta_theta = torch.abs(reconstruction[:, 1, :]) \n",
    "        return alpha_q, beta_q, alpha_theta, beta_theta"
   ]
  },
  {
   "cell_type": "code",
   "execution_count": 96,
   "id": "b1b6e376",
   "metadata": {},
   "outputs": [],
   "source": [
    "model4 = LinearVAE_invG_rep2().to(device)\n",
    "optimizer = optim.Adam(model4.parameters(), lr=0.001)\n",
    "\n",
    "def entropy_loss(data, alpha_t,beta_t):  \n",
    "    cost = torch.mean((alpha_t-1)* torch.log(data)-beta_t*data+alpha_t*torch.log(beta_t) -torch.lgamma(alpha_t))\n",
    "    return(cost)"
   ]
  },
  {
   "cell_type": "code",
   "execution_count": 97,
   "id": "78e5959a",
   "metadata": {},
   "outputs": [],
   "source": [
    "def final_loss(ES_loss, alpha_q, beta_q):\n",
    "    \"\"\"\n",
    "    This function will add the reconstruction loss (BCELoss) and the \n",
    "    KL-Divergence.\n",
    "    KL-Divergence = 0.5 * sum(1 + log(sigma^2) - mu^2 - sigma^2)\n",
    "    :param bce_loss: recontruction loss\n",
    "    :param mu: the mean from the latent vector\n",
    "    :param logvar: log variance from the latent vector\n",
    "    \"\"\"\n",
    "    ESL = -ES_loss \n",
    "    KLD = torch.mean(alpha_q+torch.log(beta_q)+torch.lgamma(alpha_q)-(1+alpha_q)*torch.digamma(alpha_q)+3*(torch.log(beta_q)-torch.digamma(alpha_q))+alpha_q/2*beta_q)\n",
    "    return ES_loss + KLD"
   ]
  },
  {
   "cell_type": "code",
   "execution_count": 98,
   "id": "b865f3e7",
   "metadata": {},
   "outputs": [],
   "source": [
    "def fit(model, dataloader):\n",
    "    model.train()\n",
    "    running_loss = 0.0\n",
    "    for i, batch in tqdm(enumerate(dataloader), total=int(len(train_data)/dataloader.batch_size)):\n",
    "        batch=batch[0]\n",
    "        batch= batch\n",
    "        batch = batch.to(device)\n",
    "        batch = batch.view(batch.size(0), -1)\n",
    "        optimizer.zero_grad()\n",
    "        alpha_q, beta_q, alpha_t, beta_t = model(batch)\n",
    "        ES_loss = entropy_loss(batch,alpha_t,beta_t)\n",
    "        loss = final_loss(ES_loss, alpha_q, beta_q)\n",
    "        running_loss += loss.item()\n",
    "        loss.backward()\n",
    "        optimizer.step()\n",
    "    train_loss = running_loss/len(dataloader.dataset)\n",
    "    return train_loss"
   ]
  },
  {
   "cell_type": "code",
   "execution_count": 99,
   "id": "c67d0abc",
   "metadata": {},
   "outputs": [],
   "source": [
    "def validate(model, dataloader):\n",
    "    model.eval()\n",
    "    running_loss = 0.0\n",
    "    with torch.no_grad():\n",
    "        for i, batch in tqdm(enumerate(dataloader), total=int(len(val_data)/dataloader.batch_size)):            \n",
    "            batch=batch[0]\n",
    "            batch = batch.to(device)\n",
    "            batch = batch.view(batch.size(0), -1)\n",
    "            alpha_q, beta_q, alpha_t, beta_t = model(batch)\n",
    "            ES_loss = entropy_loss(batch,alpha_t,beta_t)\n",
    "            loss = final_loss(ES_loss, alpha_q, beta_q)\n",
    "            running_loss += loss.item()\n",
    "        \n",
    "            # save the last batch input and output of every epoch\n",
    "            #if i == int(len(val_data)/dataloader.batch_size) - 1:\n",
    "             #   num_rows = 8\n",
    "              #  both = torch.cat((data.view(batch_size, 1, 28, 28)[:8], \n",
    "               #                   reconstruction.view(batch_size, 1, 28, 28)[:8]))\n",
    "              #  save_image(both.cpu(), f\"../outputs/output{epoch}.png\", nrow=num_rows)\n",
    "    val_loss = running_loss/len(dataloader.dataset)\n",
    "    return val_loss"
   ]
  },
  {
   "cell_type": "code",
   "execution_count": 104,
   "id": "6e5aa0f5",
   "metadata": {},
   "outputs": [
    {
     "name": "stderr",
     "output_type": "stream",
     "text": [
      "  2%|▏         | 1/45 [00:00<00:08,  5.14it/s]"
     ]
    },
    {
     "name": "stdout",
     "output_type": "stream",
     "text": [
      "Epoch 1 of 1000\n",
      "<torch.utils.data.dataloader.DataLoader object at 0x7ff7ab9caf70>\n"
     ]
    },
    {
     "name": "stderr",
     "output_type": "stream",
     "text": [
      "100%|██████████| 45/45 [00:08<00:00,  5.06it/s]\n",
      "100%|██████████| 5/5 [00:00<00:00, 470.61it/s]\n",
      "  2%|▏         | 1/45 [00:00<00:08,  5.17it/s]"
     ]
    },
    {
     "name": "stdout",
     "output_type": "stream",
     "text": [
      "Train Loss: -0.7681\n",
      "Val Loss: -0.7379\n",
      "Epoch 2 of 1000\n",
      "<torch.utils.data.dataloader.DataLoader object at 0x7ff7ab9caf70>\n"
     ]
    },
    {
     "name": "stderr",
     "output_type": "stream",
     "text": [
      "100%|██████████| 45/45 [00:08<00:00,  5.06it/s]\n",
      "100%|██████████| 5/5 [00:00<00:00, 578.08it/s]\n",
      "  2%|▏         | 1/45 [00:00<00:08,  5.16it/s]"
     ]
    },
    {
     "name": "stdout",
     "output_type": "stream",
     "text": [
      "Train Loss: -0.7588\n",
      "Val Loss: -0.6300\n",
      "Epoch 3 of 1000\n",
      "<torch.utils.data.dataloader.DataLoader object at 0x7ff7ab9caf70>\n"
     ]
    },
    {
     "name": "stderr",
     "output_type": "stream",
     "text": [
      "100%|██████████| 45/45 [00:08<00:00,  5.01it/s]\n",
      "100%|██████████| 5/5 [00:00<00:00, 597.29it/s]\n",
      "  2%|▏         | 1/45 [00:00<00:08,  5.27it/s]"
     ]
    },
    {
     "name": "stdout",
     "output_type": "stream",
     "text": [
      "Train Loss: -0.7041\n",
      "Val Loss: -0.6833\n",
      "Epoch 4 of 1000\n",
      "<torch.utils.data.dataloader.DataLoader object at 0x7ff7ab9caf70>\n"
     ]
    },
    {
     "name": "stderr",
     "output_type": "stream",
     "text": [
      "100%|██████████| 45/45 [00:09<00:00,  4.99it/s]\n",
      "100%|██████████| 5/5 [00:00<00:00, 577.55it/s]\n",
      "  2%|▏         | 1/45 [00:00<00:08,  5.13it/s]"
     ]
    },
    {
     "name": "stdout",
     "output_type": "stream",
     "text": [
      "Train Loss: -0.7527\n",
      "Val Loss: -0.7394\n",
      "Epoch 5 of 1000\n",
      "<torch.utils.data.dataloader.DataLoader object at 0x7ff7ab9caf70>\n"
     ]
    },
    {
     "name": "stderr",
     "output_type": "stream",
     "text": [
      "100%|██████████| 45/45 [00:08<00:00,  5.04it/s]\n",
      "100%|██████████| 5/5 [00:00<00:00, 594.94it/s]\n",
      "  2%|▏         | 1/45 [00:00<00:08,  5.16it/s]"
     ]
    },
    {
     "name": "stdout",
     "output_type": "stream",
     "text": [
      "Train Loss: -0.7827\n",
      "Val Loss: -0.7110\n",
      "Epoch 6 of 1000\n",
      "<torch.utils.data.dataloader.DataLoader object at 0x7ff7ab9caf70>\n"
     ]
    },
    {
     "name": "stderr",
     "output_type": "stream",
     "text": [
      "100%|██████████| 45/45 [00:08<00:00,  5.01it/s]\n",
      "100%|██████████| 5/5 [00:00<00:00, 561.59it/s]\n",
      "  0%|          | 0/45 [00:00<?, ?it/s]"
     ]
    },
    {
     "name": "stdout",
     "output_type": "stream",
     "text": [
      "Train Loss: -0.8261\n",
      "Val Loss: -0.7230\n",
      "Epoch 7 of 1000\n",
      "<torch.utils.data.dataloader.DataLoader object at 0x7ff7ab9caf70>\n"
     ]
    },
    {
     "name": "stderr",
     "output_type": "stream",
     "text": [
      "100%|██████████| 45/45 [00:08<00:00,  5.02it/s]\n",
      "100%|██████████| 5/5 [00:00<00:00, 610.54it/s]\n",
      "  2%|▏         | 1/45 [00:00<00:08,  5.17it/s]"
     ]
    },
    {
     "name": "stdout",
     "output_type": "stream",
     "text": [
      "Train Loss: -0.8155\n",
      "Val Loss: -0.7594\n",
      "Epoch 8 of 1000\n",
      "<torch.utils.data.dataloader.DataLoader object at 0x7ff7ab9caf70>\n"
     ]
    },
    {
     "name": "stderr",
     "output_type": "stream",
     "text": [
      "100%|██████████| 45/45 [00:08<00:00,  5.01it/s]\n",
      "100%|██████████| 5/5 [00:00<00:00, 581.65it/s]\n",
      "  0%|          | 0/45 [00:00<?, ?it/s]"
     ]
    },
    {
     "name": "stdout",
     "output_type": "stream",
     "text": [
      "Train Loss: -0.8108\n",
      "Val Loss: -0.7832\n",
      "Epoch 9 of 1000\n",
      "<torch.utils.data.dataloader.DataLoader object at 0x7ff7ab9caf70>\n"
     ]
    },
    {
     "name": "stderr",
     "output_type": "stream",
     "text": [
      "100%|██████████| 45/45 [00:08<00:00,  5.05it/s]\n",
      "100%|██████████| 5/5 [00:00<00:00, 590.75it/s]\n",
      "  2%|▏         | 1/45 [00:00<00:08,  5.26it/s]"
     ]
    },
    {
     "name": "stdout",
     "output_type": "stream",
     "text": [
      "Train Loss: -0.8388\n",
      "Val Loss: -0.7594\n",
      "Epoch 10 of 1000\n",
      "<torch.utils.data.dataloader.DataLoader object at 0x7ff7ab9caf70>\n"
     ]
    },
    {
     "name": "stderr",
     "output_type": "stream",
     "text": [
      "100%|██████████| 45/45 [00:08<00:00,  5.05it/s]\n",
      "100%|██████████| 5/5 [00:00<00:00, 590.93it/s]\n",
      "  2%|▏         | 1/45 [00:00<00:08,  5.03it/s]"
     ]
    },
    {
     "name": "stdout",
     "output_type": "stream",
     "text": [
      "Train Loss: -0.8561\n",
      "Val Loss: -0.7758\n",
      "Epoch 11 of 1000\n",
      "<torch.utils.data.dataloader.DataLoader object at 0x7ff7ab9caf70>\n"
     ]
    },
    {
     "name": "stderr",
     "output_type": "stream",
     "text": [
      "100%|██████████| 45/45 [00:08<00:00,  5.09it/s]\n",
      "100%|██████████| 5/5 [00:00<00:00, 598.90it/s]\n",
      "  2%|▏         | 1/45 [00:00<00:08,  5.18it/s]"
     ]
    },
    {
     "name": "stdout",
     "output_type": "stream",
     "text": [
      "Train Loss: -0.8668\n",
      "Val Loss: -0.7436\n",
      "Epoch 12 of 1000\n",
      "<torch.utils.data.dataloader.DataLoader object at 0x7ff7ab9caf70>\n"
     ]
    },
    {
     "name": "stderr",
     "output_type": "stream",
     "text": [
      "100%|██████████| 45/45 [00:08<00:00,  5.01it/s]\n",
      "100%|██████████| 5/5 [00:00<00:00, 592.73it/s]\n",
      "  2%|▏         | 1/45 [00:00<00:08,  5.25it/s]"
     ]
    },
    {
     "name": "stdout",
     "output_type": "stream",
     "text": [
      "Train Loss: -0.8704\n",
      "Val Loss: -0.7597\n",
      "Epoch 13 of 1000\n",
      "<torch.utils.data.dataloader.DataLoader object at 0x7ff7ab9caf70>\n"
     ]
    },
    {
     "name": "stderr",
     "output_type": "stream",
     "text": [
      "100%|██████████| 45/45 [00:08<00:00,  5.05it/s]\n",
      "100%|██████████| 5/5 [00:00<00:00, 585.26it/s]\n",
      "  2%|▏         | 1/45 [00:00<00:08,  5.20it/s]"
     ]
    },
    {
     "name": "stdout",
     "output_type": "stream",
     "text": [
      "Train Loss: -0.8970\n",
      "Val Loss: -0.8389\n",
      "Epoch 14 of 1000\n",
      "<torch.utils.data.dataloader.DataLoader object at 0x7ff7ab9caf70>\n"
     ]
    },
    {
     "name": "stderr",
     "output_type": "stream",
     "text": [
      "100%|██████████| 45/45 [00:08<00:00,  5.06it/s]\n",
      "100%|██████████| 5/5 [00:00<00:00, 543.29it/s]\n",
      "  0%|          | 0/45 [00:00<?, ?it/s]"
     ]
    },
    {
     "name": "stdout",
     "output_type": "stream",
     "text": [
      "Train Loss: -0.8971\n",
      "Val Loss: -0.8405\n",
      "Epoch 15 of 1000\n",
      "<torch.utils.data.dataloader.DataLoader object at 0x7ff7ab9caf70>\n"
     ]
    },
    {
     "name": "stderr",
     "output_type": "stream",
     "text": [
      "100%|██████████| 45/45 [00:08<00:00,  5.01it/s]\n",
      "100%|██████████| 5/5 [00:00<00:00, 577.84it/s]\n",
      "  2%|▏         | 1/45 [00:00<00:08,  5.21it/s]"
     ]
    },
    {
     "name": "stdout",
     "output_type": "stream",
     "text": [
      "Train Loss: -0.9014\n",
      "Val Loss: -0.8759\n",
      "Epoch 16 of 1000\n",
      "<torch.utils.data.dataloader.DataLoader object at 0x7ff7ab9caf70>\n"
     ]
    },
    {
     "name": "stderr",
     "output_type": "stream",
     "text": [
      "100%|██████████| 45/45 [00:08<00:00,  5.03it/s]\n",
      "100%|██████████| 5/5 [00:00<00:00, 556.89it/s]\n",
      "  2%|▏         | 1/45 [00:00<00:08,  5.24it/s]"
     ]
    },
    {
     "name": "stdout",
     "output_type": "stream",
     "text": [
      "Train Loss: -0.9245\n",
      "Val Loss: -0.8751\n",
      "Epoch 17 of 1000\n",
      "<torch.utils.data.dataloader.DataLoader object at 0x7ff7ab9caf70>\n"
     ]
    },
    {
     "name": "stderr",
     "output_type": "stream",
     "text": [
      "100%|██████████| 45/45 [00:08<00:00,  5.05it/s]\n",
      "100%|██████████| 5/5 [00:00<00:00, 572.46it/s]\n",
      "  0%|          | 0/45 [00:00<?, ?it/s]"
     ]
    },
    {
     "name": "stdout",
     "output_type": "stream",
     "text": [
      "Train Loss: -0.9752\n",
      "Val Loss: -0.8449\n",
      "Epoch 18 of 1000\n",
      "<torch.utils.data.dataloader.DataLoader object at 0x7ff7ab9caf70>\n"
     ]
    },
    {
     "name": "stderr",
     "output_type": "stream",
     "text": [
      "100%|██████████| 45/45 [00:08<00:00,  5.05it/s]\n",
      "100%|██████████| 5/5 [00:00<00:00, 576.09it/s]\n",
      "  2%|▏         | 1/45 [00:00<00:08,  5.22it/s]"
     ]
    },
    {
     "name": "stdout",
     "output_type": "stream",
     "text": [
      "Train Loss: -0.9766\n",
      "Val Loss: -0.8233\n",
      "Epoch 19 of 1000\n",
      "<torch.utils.data.dataloader.DataLoader object at 0x7ff7ab9caf70>\n"
     ]
    },
    {
     "name": "stderr",
     "output_type": "stream",
     "text": [
      "100%|██████████| 45/45 [00:08<00:00,  5.07it/s]\n",
      "100%|██████████| 5/5 [00:00<00:00, 589.19it/s]\n",
      "  2%|▏         | 1/45 [00:00<00:08,  5.09it/s]"
     ]
    },
    {
     "name": "stdout",
     "output_type": "stream",
     "text": [
      "Train Loss: -0.9711\n",
      "Val Loss: -0.8576\n",
      "Epoch 20 of 1000\n",
      "<torch.utils.data.dataloader.DataLoader object at 0x7ff7ab9caf70>\n"
     ]
    },
    {
     "name": "stderr",
     "output_type": "stream",
     "text": [
      "100%|██████████| 45/45 [00:08<00:00,  5.04it/s]\n",
      "100%|██████████| 5/5 [00:00<00:00, 588.46it/s]\n",
      "  2%|▏         | 1/45 [00:00<00:08,  5.27it/s]"
     ]
    },
    {
     "name": "stdout",
     "output_type": "stream",
     "text": [
      "Train Loss: -0.9932\n",
      "Val Loss: -0.9998\n",
      "Epoch 21 of 1000\n",
      "<torch.utils.data.dataloader.DataLoader object at 0x7ff7ab9caf70>\n"
     ]
    },
    {
     "name": "stderr",
     "output_type": "stream",
     "text": [
      "100%|██████████| 45/45 [00:08<00:00,  5.04it/s]\n",
      "100%|██████████| 5/5 [00:00<00:00, 552.41it/s]\n",
      "  2%|▏         | 1/45 [00:00<00:08,  5.26it/s]"
     ]
    },
    {
     "name": "stdout",
     "output_type": "stream",
     "text": [
      "Train Loss: -1.0444\n",
      "Val Loss: -0.9019\n",
      "Epoch 22 of 1000\n",
      "<torch.utils.data.dataloader.DataLoader object at 0x7ff7ab9caf70>\n"
     ]
    },
    {
     "name": "stderr",
     "output_type": "stream",
     "text": [
      "100%|██████████| 45/45 [00:08<00:00,  5.03it/s]\n",
      "100%|██████████| 5/5 [00:00<00:00, 579.36it/s]\n",
      "  2%|▏         | 1/45 [00:00<00:08,  5.19it/s]"
     ]
    },
    {
     "name": "stdout",
     "output_type": "stream",
     "text": [
      "Train Loss: -0.9704\n",
      "Val Loss: -0.8189\n",
      "Epoch 23 of 1000\n",
      "<torch.utils.data.dataloader.DataLoader object at 0x7ff7ab9caf70>\n"
     ]
    },
    {
     "name": "stderr",
     "output_type": "stream",
     "text": [
      "100%|██████████| 45/45 [00:08<00:00,  5.01it/s]\n",
      "100%|██████████| 5/5 [00:00<00:00, 524.24it/s]\n",
      "  2%|▏         | 1/45 [00:00<00:08,  5.21it/s]"
     ]
    },
    {
     "name": "stdout",
     "output_type": "stream",
     "text": [
      "Train Loss: -1.0322\n",
      "Val Loss: -0.8186\n",
      "Epoch 24 of 1000\n",
      "<torch.utils.data.dataloader.DataLoader object at 0x7ff7ab9caf70>\n"
     ]
    },
    {
     "name": "stderr",
     "output_type": "stream",
     "text": [
      "100%|██████████| 45/45 [00:08<00:00,  5.03it/s]\n",
      "100%|██████████| 5/5 [00:00<00:00, 549.48it/s]\n",
      "  2%|▏         | 1/45 [00:00<00:08,  5.17it/s]"
     ]
    },
    {
     "name": "stdout",
     "output_type": "stream",
     "text": [
      "Train Loss: -1.0709\n",
      "Val Loss: -0.9560\n",
      "Epoch 25 of 1000\n",
      "<torch.utils.data.dataloader.DataLoader object at 0x7ff7ab9caf70>\n"
     ]
    },
    {
     "name": "stderr",
     "output_type": "stream",
     "text": [
      "100%|██████████| 45/45 [00:09<00:00,  4.97it/s]\n",
      "100%|██████████| 5/5 [00:00<00:00, 573.95it/s]\n",
      "  2%|▏         | 1/45 [00:00<00:08,  5.06it/s]"
     ]
    },
    {
     "name": "stdout",
     "output_type": "stream",
     "text": [
      "Train Loss: -1.1161\n",
      "Val Loss: -0.9515\n",
      "Epoch 26 of 1000\n",
      "<torch.utils.data.dataloader.DataLoader object at 0x7ff7ab9caf70>\n"
     ]
    },
    {
     "name": "stderr",
     "output_type": "stream",
     "text": [
      "100%|██████████| 45/45 [00:08<00:00,  5.01it/s]\n",
      "100%|██████████| 5/5 [00:00<00:00, 567.92it/s]\n",
      "  2%|▏         | 1/45 [00:00<00:08,  5.09it/s]"
     ]
    },
    {
     "name": "stdout",
     "output_type": "stream",
     "text": [
      "Train Loss: -1.2279\n",
      "Val Loss: -0.9117\n",
      "Epoch 27 of 1000\n",
      "<torch.utils.data.dataloader.DataLoader object at 0x7ff7ab9caf70>\n"
     ]
    },
    {
     "name": "stderr",
     "output_type": "stream",
     "text": [
      "100%|██████████| 45/45 [00:08<00:00,  5.01it/s]\n",
      "100%|██████████| 5/5 [00:00<00:00, 580.86it/s]\n",
      "  2%|▏         | 1/45 [00:00<00:08,  5.05it/s]"
     ]
    },
    {
     "name": "stdout",
     "output_type": "stream",
     "text": [
      "Train Loss: -1.1548\n",
      "Val Loss: -1.2649\n",
      "Epoch 28 of 1000\n",
      "<torch.utils.data.dataloader.DataLoader object at 0x7ff7ab9caf70>\n"
     ]
    },
    {
     "name": "stderr",
     "output_type": "stream",
     "text": [
      "100%|██████████| 45/45 [00:08<00:00,  5.06it/s]\n",
      "100%|██████████| 5/5 [00:00<00:00, 576.30it/s]\n",
      "  2%|▏         | 1/45 [00:00<00:08,  5.14it/s]"
     ]
    },
    {
     "name": "stdout",
     "output_type": "stream",
     "text": [
      "Train Loss: -1.3047\n",
      "Val Loss: -0.9452\n",
      "Epoch 29 of 1000\n",
      "<torch.utils.data.dataloader.DataLoader object at 0x7ff7ab9caf70>\n"
     ]
    },
    {
     "name": "stderr",
     "output_type": "stream",
     "text": [
      "100%|██████████| 45/45 [00:08<00:00,  5.01it/s]\n",
      "100%|██████████| 5/5 [00:00<00:00, 571.77it/s]\n",
      "  2%|▏         | 1/45 [00:00<00:08,  5.21it/s]"
     ]
    },
    {
     "name": "stdout",
     "output_type": "stream",
     "text": [
      "Train Loss: -1.2925\n",
      "Val Loss: -1.1114\n",
      "Epoch 30 of 1000\n",
      "<torch.utils.data.dataloader.DataLoader object at 0x7ff7ab9caf70>\n"
     ]
    },
    {
     "name": "stderr",
     "output_type": "stream",
     "text": [
      "100%|██████████| 45/45 [00:08<00:00,  5.03it/s]\n",
      "100%|██████████| 5/5 [00:00<00:00, 566.77it/s]\n",
      "  2%|▏         | 1/45 [00:00<00:08,  5.19it/s]"
     ]
    },
    {
     "name": "stdout",
     "output_type": "stream",
     "text": [
      "Train Loss: -1.4155\n",
      "Val Loss: -1.1431\n",
      "Epoch 31 of 1000\n",
      "<torch.utils.data.dataloader.DataLoader object at 0x7ff7ab9caf70>\n"
     ]
    },
    {
     "name": "stderr",
     "output_type": "stream",
     "text": [
      "100%|██████████| 45/45 [00:08<00:00,  5.01it/s]\n",
      "100%|██████████| 5/5 [00:00<00:00, 569.86it/s]\n",
      "  2%|▏         | 1/45 [00:00<00:08,  5.04it/s]"
     ]
    },
    {
     "name": "stdout",
     "output_type": "stream",
     "text": [
      "Train Loss: -1.5467\n",
      "Val Loss: -1.2629\n",
      "Epoch 32 of 1000\n",
      "<torch.utils.data.dataloader.DataLoader object at 0x7ff7ab9caf70>\n"
     ]
    },
    {
     "name": "stderr",
     "output_type": "stream",
     "text": [
      "100%|██████████| 45/45 [00:09<00:00,  4.94it/s]\n",
      "100%|██████████| 5/5 [00:00<00:00, 563.98it/s]\n",
      "  2%|▏         | 1/45 [00:00<00:08,  5.22it/s]"
     ]
    },
    {
     "name": "stdout",
     "output_type": "stream",
     "text": [
      "Train Loss: -1.5956\n",
      "Val Loss: -1.4636\n",
      "Epoch 33 of 1000\n",
      "<torch.utils.data.dataloader.DataLoader object at 0x7ff7ab9caf70>\n"
     ]
    },
    {
     "name": "stderr",
     "output_type": "stream",
     "text": [
      "100%|██████████| 45/45 [00:08<00:00,  5.02it/s]\n",
      "100%|██████████| 5/5 [00:00<00:00, 592.80it/s]\n",
      "  2%|▏         | 1/45 [00:00<00:08,  5.20it/s]"
     ]
    },
    {
     "name": "stdout",
     "output_type": "stream",
     "text": [
      "Train Loss: -1.8053\n",
      "Val Loss: -2.1824\n",
      "Epoch 34 of 1000\n",
      "<torch.utils.data.dataloader.DataLoader object at 0x7ff7ab9caf70>\n"
     ]
    },
    {
     "name": "stderr",
     "output_type": "stream",
     "text": [
      "100%|██████████| 45/45 [00:08<00:00,  5.01it/s]\n",
      "100%|██████████| 5/5 [00:00<00:00, 556.39it/s]\n",
      "  0%|          | 0/45 [00:00<?, ?it/s]"
     ]
    },
    {
     "name": "stdout",
     "output_type": "stream",
     "text": [
      "Train Loss: -1.7827\n",
      "Val Loss: -1.5240\n",
      "Epoch 35 of 1000\n",
      "<torch.utils.data.dataloader.DataLoader object at 0x7ff7ab9caf70>\n"
     ]
    },
    {
     "name": "stderr",
     "output_type": "stream",
     "text": [
      "100%|██████████| 45/45 [00:09<00:00,  4.97it/s]\n",
      "100%|██████████| 5/5 [00:00<00:00, 570.82it/s]\n",
      "  2%|▏         | 1/45 [00:00<00:08,  5.20it/s]"
     ]
    },
    {
     "name": "stdout",
     "output_type": "stream",
     "text": [
      "Train Loss: -2.0589\n",
      "Val Loss: -2.5590\n",
      "Epoch 36 of 1000\n",
      "<torch.utils.data.dataloader.DataLoader object at 0x7ff7ab9caf70>\n"
     ]
    },
    {
     "name": "stderr",
     "output_type": "stream",
     "text": [
      "100%|██████████| 45/45 [00:08<00:00,  5.07it/s]\n",
      "100%|██████████| 5/5 [00:00<00:00, 589.05it/s]\n",
      "  2%|▏         | 1/45 [00:00<00:08,  5.18it/s]"
     ]
    },
    {
     "name": "stdout",
     "output_type": "stream",
     "text": [
      "Train Loss: -2.4282\n",
      "Val Loss: -2.0153\n",
      "Epoch 37 of 1000\n",
      "<torch.utils.data.dataloader.DataLoader object at 0x7ff7ab9caf70>\n"
     ]
    },
    {
     "name": "stderr",
     "output_type": "stream",
     "text": [
      "100%|██████████| 45/45 [00:08<00:00,  5.10it/s]\n",
      "100%|██████████| 5/5 [00:00<00:00, 540.16it/s]\n",
      "  2%|▏         | 1/45 [00:00<00:08,  5.28it/s]"
     ]
    },
    {
     "name": "stdout",
     "output_type": "stream",
     "text": [
      "Train Loss: -2.8293\n",
      "Val Loss: -1.8658\n",
      "Epoch 38 of 1000\n",
      "<torch.utils.data.dataloader.DataLoader object at 0x7ff7ab9caf70>\n"
     ]
    },
    {
     "name": "stderr",
     "output_type": "stream",
     "text": [
      "100%|██████████| 45/45 [00:08<00:00,  5.02it/s]\n",
      "100%|██████████| 5/5 [00:00<00:00, 575.52it/s]\n",
      "  2%|▏         | 1/45 [00:00<00:08,  5.14it/s]"
     ]
    },
    {
     "name": "stdout",
     "output_type": "stream",
     "text": [
      "Train Loss: -2.8648\n",
      "Val Loss: -2.0444\n",
      "Epoch 39 of 1000\n",
      "<torch.utils.data.dataloader.DataLoader object at 0x7ff7ab9caf70>\n"
     ]
    },
    {
     "name": "stderr",
     "output_type": "stream",
     "text": [
      "100%|██████████| 45/45 [00:08<00:00,  5.04it/s]\n",
      "100%|██████████| 5/5 [00:00<00:00, 596.87it/s]\n",
      "  2%|▏         | 1/45 [00:00<00:08,  5.31it/s]"
     ]
    },
    {
     "name": "stdout",
     "output_type": "stream",
     "text": [
      "Train Loss: -3.1070\n",
      "Val Loss: -2.1980\n",
      "Epoch 40 of 1000\n",
      "<torch.utils.data.dataloader.DataLoader object at 0x7ff7ab9caf70>\n"
     ]
    },
    {
     "name": "stderr",
     "output_type": "stream",
     "text": [
      "100%|██████████| 45/45 [00:08<00:00,  5.08it/s]\n",
      "100%|██████████| 5/5 [00:00<00:00, 586.70it/s]\n",
      "  2%|▏         | 1/45 [00:00<00:08,  5.24it/s]"
     ]
    },
    {
     "name": "stdout",
     "output_type": "stream",
     "text": [
      "Train Loss: -4.4505\n",
      "Val Loss: -3.6279\n",
      "Epoch 41 of 1000\n",
      "<torch.utils.data.dataloader.DataLoader object at 0x7ff7ab9caf70>\n"
     ]
    },
    {
     "name": "stderr",
     "output_type": "stream",
     "text": [
      "100%|██████████| 45/45 [00:08<00:00,  5.07it/s]\n",
      "100%|██████████| 5/5 [00:00<00:00, 561.40it/s]\n",
      "  0%|          | 0/45 [00:00<?, ?it/s]"
     ]
    },
    {
     "name": "stdout",
     "output_type": "stream",
     "text": [
      "Train Loss: -4.9633\n",
      "Val Loss: -3.6056\n",
      "Epoch 42 of 1000\n",
      "<torch.utils.data.dataloader.DataLoader object at 0x7ff7ab9caf70>\n"
     ]
    },
    {
     "name": "stderr",
     "output_type": "stream",
     "text": [
      "100%|██████████| 45/45 [00:08<00:00,  5.01it/s]\n",
      "100%|██████████| 5/5 [00:00<00:00, 585.94it/s]\n",
      "  0%|          | 0/45 [00:00<?, ?it/s]"
     ]
    },
    {
     "name": "stdout",
     "output_type": "stream",
     "text": [
      "Train Loss: -5.4229\n",
      "Val Loss: -5.5424\n",
      "Epoch 43 of 1000\n",
      "<torch.utils.data.dataloader.DataLoader object at 0x7ff7ab9caf70>\n"
     ]
    },
    {
     "name": "stderr",
     "output_type": "stream",
     "text": [
      "100%|██████████| 45/45 [00:08<00:00,  5.00it/s]\n",
      "100%|██████████| 5/5 [00:00<00:00, 584.28it/s]\n",
      "  0%|          | 0/45 [00:00<?, ?it/s]"
     ]
    },
    {
     "name": "stdout",
     "output_type": "stream",
     "text": [
      "Train Loss: -6.9261\n",
      "Val Loss: -6.1807\n",
      "Epoch 44 of 1000\n",
      "<torch.utils.data.dataloader.DataLoader object at 0x7ff7ab9caf70>\n"
     ]
    },
    {
     "name": "stderr",
     "output_type": "stream",
     "text": [
      "100%|██████████| 45/45 [00:08<00:00,  5.02it/s]\n",
      "100%|██████████| 5/5 [00:00<00:00, 601.61it/s]\n",
      "  2%|▏         | 1/45 [00:00<00:08,  5.14it/s]"
     ]
    },
    {
     "name": "stdout",
     "output_type": "stream",
     "text": [
      "Train Loss: -8.5444\n",
      "Val Loss: -6.4500\n",
      "Epoch 45 of 1000\n",
      "<torch.utils.data.dataloader.DataLoader object at 0x7ff7ab9caf70>\n"
     ]
    },
    {
     "name": "stderr",
     "output_type": "stream",
     "text": [
      "100%|██████████| 45/45 [00:08<00:00,  5.03it/s]\n",
      "100%|██████████| 5/5 [00:00<00:00, 546.30it/s]\n",
      "  2%|▏         | 1/45 [00:00<00:08,  5.16it/s]"
     ]
    },
    {
     "name": "stdout",
     "output_type": "stream",
     "text": [
      "Train Loss: -10.1762\n",
      "Val Loss: -6.0430\n",
      "Epoch 46 of 1000\n",
      "<torch.utils.data.dataloader.DataLoader object at 0x7ff7ab9caf70>\n"
     ]
    },
    {
     "name": "stderr",
     "output_type": "stream",
     "text": [
      "100%|██████████| 45/45 [00:09<00:00,  5.00it/s]\n",
      "100%|██████████| 5/5 [00:00<00:00, 586.32it/s]\n",
      "  2%|▏         | 1/45 [00:00<00:08,  5.33it/s]"
     ]
    },
    {
     "name": "stdout",
     "output_type": "stream",
     "text": [
      "Train Loss: -11.5514\n",
      "Val Loss: -9.5803\n",
      "Epoch 47 of 1000\n",
      "<torch.utils.data.dataloader.DataLoader object at 0x7ff7ab9caf70>\n"
     ]
    },
    {
     "name": "stderr",
     "output_type": "stream",
     "text": [
      "100%|██████████| 45/45 [00:08<00:00,  5.05it/s]\n",
      "100%|██████████| 5/5 [00:00<00:00, 567.14it/s]\n",
      "  2%|▏         | 1/45 [00:00<00:08,  5.17it/s]"
     ]
    },
    {
     "name": "stdout",
     "output_type": "stream",
     "text": [
      "Train Loss: -14.1139\n",
      "Val Loss: -11.0720\n",
      "Epoch 48 of 1000\n",
      "<torch.utils.data.dataloader.DataLoader object at 0x7ff7ab9caf70>\n"
     ]
    },
    {
     "name": "stderr",
     "output_type": "stream",
     "text": [
      "100%|██████████| 45/45 [00:08<00:00,  5.04it/s]\n",
      "100%|██████████| 5/5 [00:00<00:00, 553.75it/s]\n",
      "  2%|▏         | 1/45 [00:00<00:08,  5.28it/s]"
     ]
    },
    {
     "name": "stdout",
     "output_type": "stream",
     "text": [
      "Train Loss: -16.7300\n",
      "Val Loss: -15.0176\n",
      "Epoch 49 of 1000\n",
      "<torch.utils.data.dataloader.DataLoader object at 0x7ff7ab9caf70>\n"
     ]
    },
    {
     "name": "stderr",
     "output_type": "stream",
     "text": [
      "100%|██████████| 45/45 [00:08<00:00,  5.06it/s]\n",
      "100%|██████████| 5/5 [00:00<00:00, 570.27it/s]\n",
      "  2%|▏         | 1/45 [00:00<00:08,  5.13it/s]"
     ]
    },
    {
     "name": "stdout",
     "output_type": "stream",
     "text": [
      "Train Loss: -23.4035\n",
      "Val Loss: -16.6172\n",
      "Epoch 50 of 1000\n",
      "<torch.utils.data.dataloader.DataLoader object at 0x7ff7ab9caf70>\n"
     ]
    },
    {
     "name": "stderr",
     "output_type": "stream",
     "text": [
      "100%|██████████| 45/45 [00:09<00:00,  4.99it/s]\n",
      "100%|██████████| 5/5 [00:00<00:00, 561.56it/s]\n",
      "  2%|▏         | 1/45 [00:00<00:08,  5.22it/s]"
     ]
    },
    {
     "name": "stdout",
     "output_type": "stream",
     "text": [
      "Train Loss: -29.6626\n",
      "Val Loss: -19.0151\n",
      "Epoch 51 of 1000\n",
      "<torch.utils.data.dataloader.DataLoader object at 0x7ff7ab9caf70>\n"
     ]
    },
    {
     "name": "stderr",
     "output_type": "stream",
     "text": [
      "100%|██████████| 45/45 [00:08<00:00,  5.01it/s]\n",
      "100%|██████████| 5/5 [00:00<00:00, 552.20it/s]\n",
      "  2%|▏         | 1/45 [00:00<00:08,  5.11it/s]"
     ]
    },
    {
     "name": "stdout",
     "output_type": "stream",
     "text": [
      "Train Loss: -33.2036\n",
      "Val Loss: -34.8255\n",
      "Epoch 52 of 1000\n",
      "<torch.utils.data.dataloader.DataLoader object at 0x7ff7ab9caf70>\n"
     ]
    },
    {
     "name": "stderr",
     "output_type": "stream",
     "text": [
      "100%|██████████| 45/45 [00:08<00:00,  5.05it/s]\n",
      "100%|██████████| 5/5 [00:00<00:00, 575.22it/s]\n",
      "  0%|          | 0/45 [00:00<?, ?it/s]"
     ]
    },
    {
     "name": "stdout",
     "output_type": "stream",
     "text": [
      "Train Loss: -38.4599\n",
      "Val Loss: -36.1853\n",
      "Epoch 53 of 1000\n",
      "<torch.utils.data.dataloader.DataLoader object at 0x7ff7ab9caf70>\n"
     ]
    },
    {
     "name": "stderr",
     "output_type": "stream",
     "text": [
      "100%|██████████| 45/45 [00:08<00:00,  5.01it/s]\n",
      "100%|██████████| 5/5 [00:00<00:00, 559.63it/s]\n",
      "  2%|▏         | 1/45 [00:00<00:08,  5.13it/s]"
     ]
    },
    {
     "name": "stdout",
     "output_type": "stream",
     "text": [
      "Train Loss: -47.1251\n",
      "Val Loss: -41.6641\n",
      "Epoch 54 of 1000\n",
      "<torch.utils.data.dataloader.DataLoader object at 0x7ff7ab9caf70>\n"
     ]
    },
    {
     "name": "stderr",
     "output_type": "stream",
     "text": [
      "100%|██████████| 45/45 [00:08<00:00,  5.00it/s]\n",
      "100%|██████████| 5/5 [00:00<00:00, 574.25it/s]\n",
      "  2%|▏         | 1/45 [00:00<00:08,  5.18it/s]"
     ]
    },
    {
     "name": "stdout",
     "output_type": "stream",
     "text": [
      "Train Loss: -50.5704\n",
      "Val Loss: -44.5800\n",
      "Epoch 55 of 1000\n",
      "<torch.utils.data.dataloader.DataLoader object at 0x7ff7ab9caf70>\n"
     ]
    },
    {
     "name": "stderr",
     "output_type": "stream",
     "text": [
      "100%|██████████| 45/45 [00:09<00:00,  4.98it/s]\n",
      "100%|██████████| 5/5 [00:00<00:00, 574.15it/s]\n",
      "  0%|          | 0/45 [00:00<?, ?it/s]"
     ]
    },
    {
     "name": "stdout",
     "output_type": "stream",
     "text": [
      "Train Loss: -65.9057\n",
      "Val Loss: -53.5369\n",
      "Epoch 56 of 1000\n",
      "<torch.utils.data.dataloader.DataLoader object at 0x7ff7ab9caf70>\n"
     ]
    },
    {
     "name": "stderr",
     "output_type": "stream",
     "text": [
      "100%|██████████| 45/45 [00:09<00:00,  4.99it/s]\n",
      "100%|██████████| 5/5 [00:00<00:00, 561.02it/s]\n",
      "  2%|▏         | 1/45 [00:00<00:08,  5.10it/s]"
     ]
    },
    {
     "name": "stdout",
     "output_type": "stream",
     "text": [
      "Train Loss: -74.5725\n",
      "Val Loss: -51.7343\n",
      "Epoch 57 of 1000\n",
      "<torch.utils.data.dataloader.DataLoader object at 0x7ff7ab9caf70>\n"
     ]
    },
    {
     "name": "stderr",
     "output_type": "stream",
     "text": [
      "100%|██████████| 45/45 [00:09<00:00,  4.98it/s]\n",
      "100%|██████████| 5/5 [00:00<00:00, 567.64it/s]\n",
      "  0%|          | 0/45 [00:00<?, ?it/s]"
     ]
    },
    {
     "name": "stdout",
     "output_type": "stream",
     "text": [
      "Train Loss: -87.3591\n",
      "Val Loss: -86.6478\n",
      "Epoch 58 of 1000\n",
      "<torch.utils.data.dataloader.DataLoader object at 0x7ff7ab9caf70>\n"
     ]
    },
    {
     "name": "stderr",
     "output_type": "stream",
     "text": [
      "100%|██████████| 45/45 [00:09<00:00,  4.92it/s]\n",
      "100%|██████████| 5/5 [00:00<00:00, 554.00it/s]\n",
      "  2%|▏         | 1/45 [00:00<00:08,  5.12it/s]"
     ]
    },
    {
     "name": "stdout",
     "output_type": "stream",
     "text": [
      "Train Loss: -94.7870\n",
      "Val Loss: -75.7534\n",
      "Epoch 59 of 1000\n",
      "<torch.utils.data.dataloader.DataLoader object at 0x7ff7ab9caf70>\n"
     ]
    },
    {
     "name": "stderr",
     "output_type": "stream",
     "text": [
      "100%|██████████| 45/45 [00:09<00:00,  4.95it/s]\n",
      "100%|██████████| 5/5 [00:00<00:00, 594.31it/s]\n",
      "  0%|          | 0/45 [00:00<?, ?it/s]"
     ]
    },
    {
     "name": "stdout",
     "output_type": "stream",
     "text": [
      "Train Loss: -113.9379\n",
      "Val Loss: -78.7121\n",
      "Epoch 60 of 1000\n",
      "<torch.utils.data.dataloader.DataLoader object at 0x7ff7ab9caf70>\n"
     ]
    },
    {
     "name": "stderr",
     "output_type": "stream",
     "text": [
      "100%|██████████| 45/45 [00:09<00:00,  4.96it/s]\n",
      "100%|██████████| 5/5 [00:00<00:00, 573.37it/s]\n",
      "  2%|▏         | 1/45 [00:00<00:08,  5.15it/s]"
     ]
    },
    {
     "name": "stdout",
     "output_type": "stream",
     "text": [
      "Train Loss: -123.1044\n",
      "Val Loss: -112.1908\n",
      "Epoch 61 of 1000\n",
      "<torch.utils.data.dataloader.DataLoader object at 0x7ff7ab9caf70>\n"
     ]
    },
    {
     "name": "stderr",
     "output_type": "stream",
     "text": [
      "100%|██████████| 45/45 [00:08<00:00,  5.01it/s]\n",
      "100%|██████████| 5/5 [00:00<00:00, 580.77it/s]\n",
      "  2%|▏         | 1/45 [00:00<00:08,  5.10it/s]"
     ]
    },
    {
     "name": "stdout",
     "output_type": "stream",
     "text": [
      "Train Loss: -148.3551\n",
      "Val Loss: -107.5140\n",
      "Epoch 62 of 1000\n",
      "<torch.utils.data.dataloader.DataLoader object at 0x7ff7ab9caf70>\n"
     ]
    },
    {
     "name": "stderr",
     "output_type": "stream",
     "text": [
      "100%|██████████| 45/45 [00:09<00:00,  4.98it/s]\n",
      "100%|██████████| 5/5 [00:00<00:00, 590.08it/s]\n",
      "  2%|▏         | 1/45 [00:00<00:08,  5.06it/s]"
     ]
    },
    {
     "name": "stdout",
     "output_type": "stream",
     "text": [
      "Train Loss: -155.3769\n",
      "Val Loss: -115.3800\n",
      "Epoch 63 of 1000\n",
      "<torch.utils.data.dataloader.DataLoader object at 0x7ff7ab9caf70>\n"
     ]
    },
    {
     "name": "stderr",
     "output_type": "stream",
     "text": [
      "100%|██████████| 45/45 [00:08<00:00,  5.01it/s]\n",
      "100%|██████████| 5/5 [00:00<00:00, 554.17it/s]\n",
      "  0%|          | 0/45 [00:00<?, ?it/s]"
     ]
    },
    {
     "name": "stdout",
     "output_type": "stream",
     "text": [
      "Train Loss: -187.1949\n",
      "Val Loss: -99.2461\n",
      "Epoch 64 of 1000\n",
      "<torch.utils.data.dataloader.DataLoader object at 0x7ff7ab9caf70>\n"
     ]
    },
    {
     "name": "stderr",
     "output_type": "stream",
     "text": [
      "100%|██████████| 45/45 [00:08<00:00,  5.01it/s]\n",
      "100%|██████████| 5/5 [00:00<00:00, 578.84it/s]\n",
      "  2%|▏         | 1/45 [00:00<00:08,  5.18it/s]"
     ]
    },
    {
     "name": "stdout",
     "output_type": "stream",
     "text": [
      "Train Loss: -185.0443\n",
      "Val Loss: -206.9342\n",
      "Epoch 65 of 1000\n",
      "<torch.utils.data.dataloader.DataLoader object at 0x7ff7ab9caf70>\n"
     ]
    },
    {
     "name": "stderr",
     "output_type": "stream",
     "text": [
      "100%|██████████| 45/45 [00:08<00:00,  5.02it/s]\n",
      "100%|██████████| 5/5 [00:00<00:00, 575.26it/s]\n",
      "  2%|▏         | 1/45 [00:00<00:08,  5.24it/s]"
     ]
    },
    {
     "name": "stdout",
     "output_type": "stream",
     "text": [
      "Train Loss: -208.2514\n",
      "Val Loss: -141.8615\n",
      "Epoch 66 of 1000\n",
      "<torch.utils.data.dataloader.DataLoader object at 0x7ff7ab9caf70>\n"
     ]
    },
    {
     "name": "stderr",
     "output_type": "stream",
     "text": [
      "100%|██████████| 45/45 [00:08<00:00,  5.02it/s]\n",
      "100%|██████████| 5/5 [00:00<00:00, 573.56it/s]\n",
      "  2%|▏         | 1/45 [00:00<00:08,  5.32it/s]"
     ]
    },
    {
     "name": "stdout",
     "output_type": "stream",
     "text": [
      "Train Loss: -254.4885\n",
      "Val Loss: -189.8819\n",
      "Epoch 67 of 1000\n",
      "<torch.utils.data.dataloader.DataLoader object at 0x7ff7ab9caf70>\n"
     ]
    },
    {
     "name": "stderr",
     "output_type": "stream",
     "text": [
      "100%|██████████| 45/45 [00:08<00:00,  5.07it/s]\n",
      "100%|██████████| 5/5 [00:00<00:00, 589.87it/s]\n",
      "  2%|▏         | 1/45 [00:00<00:08,  5.05it/s]"
     ]
    },
    {
     "name": "stdout",
     "output_type": "stream",
     "text": [
      "Train Loss: -256.7810\n",
      "Val Loss: -173.4583\n",
      "Epoch 68 of 1000\n",
      "<torch.utils.data.dataloader.DataLoader object at 0x7ff7ab9caf70>\n"
     ]
    },
    {
     "name": "stderr",
     "output_type": "stream",
     "text": [
      "100%|██████████| 45/45 [00:08<00:00,  5.02it/s]\n",
      "100%|██████████| 5/5 [00:00<00:00, 583.22it/s]\n",
      "  2%|▏         | 1/45 [00:00<00:08,  5.16it/s]"
     ]
    },
    {
     "name": "stdout",
     "output_type": "stream",
     "text": [
      "Train Loss: -280.1872\n",
      "Val Loss: -263.2921\n",
      "Epoch 69 of 1000\n",
      "<torch.utils.data.dataloader.DataLoader object at 0x7ff7ab9caf70>\n"
     ]
    },
    {
     "name": "stderr",
     "output_type": "stream",
     "text": [
      "100%|██████████| 45/45 [00:09<00:00,  4.95it/s]\n",
      "100%|██████████| 5/5 [00:00<00:00, 605.13it/s]\n",
      "  2%|▏         | 1/45 [00:00<00:08,  5.12it/s]"
     ]
    },
    {
     "name": "stdout",
     "output_type": "stream",
     "text": [
      "Train Loss: -296.2361\n",
      "Val Loss: -301.3826\n",
      "Epoch 70 of 1000\n",
      "<torch.utils.data.dataloader.DataLoader object at 0x7ff7ab9caf70>\n"
     ]
    },
    {
     "name": "stderr",
     "output_type": "stream",
     "text": [
      "100%|██████████| 45/45 [00:09<00:00,  4.94it/s]\n",
      "100%|██████████| 5/5 [00:00<00:00, 548.32it/s]\n",
      "  0%|          | 0/45 [00:00<?, ?it/s]"
     ]
    },
    {
     "name": "stdout",
     "output_type": "stream",
     "text": [
      "Train Loss: -336.1002\n",
      "Val Loss: -293.8973\n",
      "Epoch 71 of 1000\n",
      "<torch.utils.data.dataloader.DataLoader object at 0x7ff7ab9caf70>\n"
     ]
    },
    {
     "name": "stderr",
     "output_type": "stream",
     "text": [
      "100%|██████████| 45/45 [00:08<00:00,  5.02it/s]\n",
      "100%|██████████| 5/5 [00:00<00:00, 584.60it/s]\n",
      "  2%|▏         | 1/45 [00:00<00:08,  5.09it/s]"
     ]
    },
    {
     "name": "stdout",
     "output_type": "stream",
     "text": [
      "Train Loss: -375.8743\n",
      "Val Loss: -266.4029\n",
      "Epoch 72 of 1000\n",
      "<torch.utils.data.dataloader.DataLoader object at 0x7ff7ab9caf70>\n"
     ]
    },
    {
     "name": "stderr",
     "output_type": "stream",
     "text": [
      "100%|██████████| 45/45 [00:08<00:00,  5.01it/s]\n",
      "100%|██████████| 5/5 [00:00<00:00, 599.25it/s]\n",
      "  2%|▏         | 1/45 [00:00<00:08,  5.23it/s]"
     ]
    },
    {
     "name": "stdout",
     "output_type": "stream",
     "text": [
      "Train Loss: -369.7894\n",
      "Val Loss: -302.7567\n",
      "Epoch 73 of 1000\n",
      "<torch.utils.data.dataloader.DataLoader object at 0x7ff7ab9caf70>\n"
     ]
    },
    {
     "name": "stderr",
     "output_type": "stream",
     "text": [
      "100%|██████████| 45/45 [00:08<00:00,  5.01it/s]\n",
      "100%|██████████| 5/5 [00:00<00:00, 563.67it/s]\n",
      "  2%|▏         | 1/45 [00:00<00:08,  5.22it/s]"
     ]
    },
    {
     "name": "stdout",
     "output_type": "stream",
     "text": [
      "Train Loss: -414.5800\n",
      "Val Loss: -292.2354\n",
      "Epoch 74 of 1000\n",
      "<torch.utils.data.dataloader.DataLoader object at 0x7ff7ab9caf70>\n"
     ]
    },
    {
     "name": "stderr",
     "output_type": "stream",
     "text": [
      "100%|██████████| 45/45 [00:08<00:00,  5.02it/s]\n",
      "100%|██████████| 5/5 [00:00<00:00, 548.95it/s]\n",
      "  2%|▏         | 1/45 [00:00<00:08,  5.19it/s]"
     ]
    },
    {
     "name": "stdout",
     "output_type": "stream",
     "text": [
      "Train Loss: -460.2944\n",
      "Val Loss: -309.8974\n",
      "Epoch 75 of 1000\n",
      "<torch.utils.data.dataloader.DataLoader object at 0x7ff7ab9caf70>\n"
     ]
    },
    {
     "name": "stderr",
     "output_type": "stream",
     "text": [
      "100%|██████████| 45/45 [00:08<00:00,  5.02it/s]\n",
      "100%|██████████| 5/5 [00:00<00:00, 554.74it/s]\n",
      "  2%|▏         | 1/45 [00:00<00:08,  5.07it/s]"
     ]
    },
    {
     "name": "stdout",
     "output_type": "stream",
     "text": [
      "Train Loss: -512.8168\n",
      "Val Loss: -327.5684\n",
      "Epoch 76 of 1000\n",
      "<torch.utils.data.dataloader.DataLoader object at 0x7ff7ab9caf70>\n"
     ]
    },
    {
     "name": "stderr",
     "output_type": "stream",
     "text": [
      "100%|██████████| 45/45 [00:09<00:00,  4.93it/s]\n",
      "100%|██████████| 5/5 [00:00<00:00, 570.70it/s]\n",
      "  0%|          | 0/45 [00:00<?, ?it/s]"
     ]
    },
    {
     "name": "stdout",
     "output_type": "stream",
     "text": [
      "Train Loss: -521.4219\n",
      "Val Loss: -430.2150\n",
      "Epoch 77 of 1000\n",
      "<torch.utils.data.dataloader.DataLoader object at 0x7ff7ab9caf70>\n"
     ]
    },
    {
     "name": "stderr",
     "output_type": "stream",
     "text": [
      "100%|██████████| 45/45 [00:09<00:00,  4.99it/s]\n",
      "100%|██████████| 5/5 [00:00<00:00, 573.96it/s]\n",
      "  0%|          | 0/45 [00:00<?, ?it/s]"
     ]
    },
    {
     "name": "stdout",
     "output_type": "stream",
     "text": [
      "Train Loss: -558.2545\n",
      "Val Loss: -419.7118\n",
      "Epoch 78 of 1000\n",
      "<torch.utils.data.dataloader.DataLoader object at 0x7ff7ab9caf70>\n"
     ]
    },
    {
     "name": "stderr",
     "output_type": "stream",
     "text": [
      " 89%|████████▉ | 40/45 [00:08<00:01,  4.93it/s]"
     ]
    },
    {
     "name": "stdout",
     "output_type": "stream",
     "text": [
      "Sample:\n",
      "tensor([[nan],\n",
      "        [nan],\n",
      "        [nan],\n",
      "        [nan],\n",
      "        [nan],\n",
      "        [nan],\n",
      "        [nan],\n",
      "        [nan],\n",
      "        [nan],\n",
      "        [nan],\n",
      "        [nan],\n",
      "        [nan],\n",
      "        [nan],\n",
      "        [nan],\n",
      "        [nan],\n",
      "        [nan],\n",
      "        [nan],\n",
      "        [nan],\n",
      "        [nan],\n",
      "        [nan],\n",
      "        [nan],\n",
      "        [nan],\n",
      "        [nan],\n",
      "        [nan],\n",
      "        [nan],\n",
      "        [nan],\n",
      "        [nan],\n",
      "        [nan],\n",
      "        [nan],\n",
      "        [nan],\n",
      "        [nan],\n",
      "        [nan],\n",
      "        [nan],\n",
      "        [nan],\n",
      "        [nan],\n",
      "        [nan],\n",
      "        [nan],\n",
      "        [nan],\n",
      "        [nan],\n",
      "        [nan],\n",
      "        [nan],\n",
      "        [nan],\n",
      "        [nan],\n",
      "        [nan],\n",
      "        [nan],\n",
      "        [nan],\n",
      "        [nan],\n",
      "        [nan],\n",
      "        [nan],\n",
      "        [nan],\n",
      "        [nan],\n",
      "        [nan],\n",
      "        [nan],\n",
      "        [nan],\n",
      "        [nan],\n",
      "        [nan],\n",
      "        [nan],\n",
      "        [nan],\n",
      "        [nan],\n",
      "        [nan],\n",
      "        [nan],\n",
      "        [nan],\n",
      "        [nan],\n",
      "        [nan]], device='cuda:0', grad_fn=<DivBackward0>)\n",
      "tensor([ 0,  1,  2,  3,  4,  5,  6,  7,  8,  9, 10, 11, 12, 13, 14, 15, 16, 17,\n",
      "        18, 19, 20, 21, 22, 23, 24, 25, 26, 27, 28, 29, 30, 31, 32, 33, 34, 35,\n",
      "        36, 37, 38, 39, 40, 41, 42, 43, 44, 45, 46, 47, 48, 49, 50, 51, 52, 53,\n",
      "        54, 55, 56, 57, 58, 59, 60, 61, 62, 63], device='cuda:0')\n",
      "tensor([nan, nan, nan, nan, nan, nan, nan, nan, nan, nan, nan, nan, nan, nan, nan, nan, nan, nan, nan, nan, nan, nan, nan, nan,\n",
      "        nan, nan, nan, nan, nan, nan, nan, nan, nan, nan, nan, nan, nan, nan, nan, nan, nan, nan, nan, nan, nan, nan, nan, nan,\n",
      "        nan, nan, nan, nan, nan, nan, nan, nan, nan, nan, nan, nan, nan, nan, nan, nan],\n",
      "       device='cuda:0', grad_fn=<IndexBackward>)\n",
      "tensor([nan, nan, nan, nan, nan, nan, nan, nan, nan, nan, nan, nan, nan, nan, nan, nan, nan, nan, nan, nan, nan, nan, nan, nan,\n",
      "        nan, nan, nan, nan, nan, nan, nan, nan, nan, nan, nan, nan, nan, nan, nan, nan, nan, nan, nan, nan, nan, nan, nan, nan,\n",
      "        nan, nan, nan, nan, nan, nan, nan, nan, nan, nan, nan, nan, nan, nan, nan, nan],\n",
      "       device='cuda:0', grad_fn=<IndexBackward>)\n",
      "tensor([0.1894, 0.4947, 0.9363, 0.3814, 0.3947, 0.2420, 0.4639, 0.9908, 0.3614,\n",
      "        0.2213, 0.2704, 0.0021, 0.7300, 0.4828, 0.6548, 0.0614, 0.0087, 0.2351,\n",
      "        0.4357, 0.5350, 0.7957, 0.1397, 0.7456, 0.5135, 0.5185, 0.2612, 0.8537,\n",
      "        0.1208, 0.9035, 0.1410, 0.5383, 0.9719, 0.8687, 0.8599, 0.9655, 0.2814,\n",
      "        0.2105, 0.1611, 0.3818, 0.0249, 0.1994, 0.6581, 0.0949, 0.8960, 0.6448,\n",
      "        0.3160, 0.6534, 0.4115, 0.6399, 0.4456, 0.5481, 0.6723, 0.8315, 0.3945,\n",
      "        0.0287, 0.1201, 0.7665, 0.6382, 0.2377, 0.8880, 0.5807, 0.5513, 0.9398,\n",
      "        0.5131], device='cuda:0')\n",
      "tensor([nan, nan, nan, nan, nan, nan, nan, nan, nan, nan, nan, nan, nan, nan, nan, nan, nan, nan, nan, nan, nan, nan, nan, nan,\n",
      "        nan, nan, nan, nan, nan, nan, nan, nan, nan, nan, nan, nan, nan, nan, nan, nan, nan, nan, nan, nan, nan, nan, nan, nan,\n",
      "        nan, nan, nan, nan, nan, nan, nan, nan, nan, nan, nan, nan, nan, nan, nan, nan],\n",
      "       device='cuda:0', grad_fn=<MulBackward0>)\n",
      "tensor([nan, nan, nan, nan, nan, nan, nan, nan, nan, nan, nan, nan, nan, nan, nan, nan, nan, nan, nan, nan, nan, nan, nan, nan,\n",
      "        nan, nan, nan, nan, nan, nan, nan, nan, nan, nan, nan, nan, nan, nan, nan, nan, nan, nan, nan, nan, nan, nan, nan, nan,\n",
      "        nan, nan, nan, nan, nan, nan, nan, nan, nan, nan, nan, nan, nan, nan, nan, nan],\n",
      "       device='cuda:0', grad_fn=<gam_inc_invBackward>)\n"
     ]
    },
    {
     "name": "stderr",
     "output_type": "stream",
     "text": [
      "\n"
     ]
    },
    {
     "ename": "ValueError",
     "evalue": "",
     "output_type": "error",
     "traceback": [
      "\u001b[0;31m---------------------------------------------------------------------------\u001b[0m",
      "\u001b[0;31mValueError\u001b[0m                                Traceback (most recent call last)",
      "\u001b[0;32m<ipython-input-104-1607d2c0561f>\u001b[0m in \u001b[0;36m<module>\u001b[0;34m\u001b[0m\n\u001b[1;32m      4\u001b[0m     \u001b[0mprint\u001b[0m\u001b[0;34m(\u001b[0m\u001b[0;34mf\"Epoch {epoch+1} of {epochs}\"\u001b[0m\u001b[0;34m)\u001b[0m\u001b[0;34m\u001b[0m\u001b[0;34m\u001b[0m\u001b[0m\n\u001b[1;32m      5\u001b[0m     \u001b[0mprint\u001b[0m\u001b[0;34m(\u001b[0m\u001b[0mtrain_loader\u001b[0m\u001b[0;34m)\u001b[0m\u001b[0;34m\u001b[0m\u001b[0;34m\u001b[0m\u001b[0m\n\u001b[0;32m----> 6\u001b[0;31m     \u001b[0mtrain_epoch_loss\u001b[0m \u001b[0;34m=\u001b[0m \u001b[0mfit\u001b[0m\u001b[0;34m(\u001b[0m\u001b[0mmodel4\u001b[0m\u001b[0;34m,\u001b[0m \u001b[0mtrain_loader\u001b[0m\u001b[0;34m)\u001b[0m\u001b[0;34m\u001b[0m\u001b[0;34m\u001b[0m\u001b[0m\n\u001b[0m\u001b[1;32m      7\u001b[0m     \u001b[0mval_epoch_loss\u001b[0m \u001b[0;34m=\u001b[0m \u001b[0mvalidate\u001b[0m\u001b[0;34m(\u001b[0m\u001b[0mmodel4\u001b[0m\u001b[0;34m,\u001b[0m \u001b[0mval_loader\u001b[0m\u001b[0;34m)\u001b[0m\u001b[0;34m\u001b[0m\u001b[0;34m\u001b[0m\u001b[0m\n\u001b[1;32m      8\u001b[0m     \u001b[0mtrain_loss\u001b[0m\u001b[0;34m.\u001b[0m\u001b[0mappend\u001b[0m\u001b[0;34m(\u001b[0m\u001b[0mtrain_epoch_loss\u001b[0m\u001b[0;34m)\u001b[0m\u001b[0;34m\u001b[0m\u001b[0;34m\u001b[0m\u001b[0m\n",
      "\u001b[0;32m<ipython-input-98-b9123ab11b89>\u001b[0m in \u001b[0;36mfit\u001b[0;34m(model, dataloader)\u001b[0m\n\u001b[1;32m     12\u001b[0m         \u001b[0mloss\u001b[0m \u001b[0;34m=\u001b[0m \u001b[0mfinal_loss\u001b[0m\u001b[0;34m(\u001b[0m\u001b[0mES_loss\u001b[0m\u001b[0;34m,\u001b[0m \u001b[0malpha_q\u001b[0m\u001b[0;34m,\u001b[0m \u001b[0mbeta_q\u001b[0m\u001b[0;34m)\u001b[0m\u001b[0;34m\u001b[0m\u001b[0;34m\u001b[0m\u001b[0m\n\u001b[1;32m     13\u001b[0m         \u001b[0mrunning_loss\u001b[0m \u001b[0;34m+=\u001b[0m \u001b[0mloss\u001b[0m\u001b[0;34m.\u001b[0m\u001b[0mitem\u001b[0m\u001b[0;34m(\u001b[0m\u001b[0;34m)\u001b[0m\u001b[0;34m\u001b[0m\u001b[0;34m\u001b[0m\u001b[0m\n\u001b[0;32m---> 14\u001b[0;31m         \u001b[0mloss\u001b[0m\u001b[0;34m.\u001b[0m\u001b[0mbackward\u001b[0m\u001b[0;34m(\u001b[0m\u001b[0;34m)\u001b[0m\u001b[0;34m\u001b[0m\u001b[0;34m\u001b[0m\u001b[0m\n\u001b[0m\u001b[1;32m     15\u001b[0m         \u001b[0moptimizer\u001b[0m\u001b[0;34m.\u001b[0m\u001b[0mstep\u001b[0m\u001b[0;34m(\u001b[0m\u001b[0;34m)\u001b[0m\u001b[0;34m\u001b[0m\u001b[0;34m\u001b[0m\u001b[0m\n\u001b[1;32m     16\u001b[0m     \u001b[0mtrain_loss\u001b[0m \u001b[0;34m=\u001b[0m \u001b[0mrunning_loss\u001b[0m\u001b[0;34m/\u001b[0m\u001b[0mlen\u001b[0m\u001b[0;34m(\u001b[0m\u001b[0mdataloader\u001b[0m\u001b[0;34m.\u001b[0m\u001b[0mdataset\u001b[0m\u001b[0;34m)\u001b[0m\u001b[0;34m\u001b[0m\u001b[0;34m\u001b[0m\u001b[0m\n",
      "\u001b[0;32m/anaconda/envs/4dvarnet/lib/python3.9/site-packages/torch/tensor.py\u001b[0m in \u001b[0;36mbackward\u001b[0;34m(self, gradient, retain_graph, create_graph, inputs)\u001b[0m\n\u001b[1;32m    243\u001b[0m                 \u001b[0mcreate_graph\u001b[0m\u001b[0;34m=\u001b[0m\u001b[0mcreate_graph\u001b[0m\u001b[0;34m,\u001b[0m\u001b[0;34m\u001b[0m\u001b[0;34m\u001b[0m\u001b[0m\n\u001b[1;32m    244\u001b[0m                 inputs=inputs)\n\u001b[0;32m--> 245\u001b[0;31m         \u001b[0mtorch\u001b[0m\u001b[0;34m.\u001b[0m\u001b[0mautograd\u001b[0m\u001b[0;34m.\u001b[0m\u001b[0mbackward\u001b[0m\u001b[0;34m(\u001b[0m\u001b[0mself\u001b[0m\u001b[0;34m,\u001b[0m \u001b[0mgradient\u001b[0m\u001b[0;34m,\u001b[0m \u001b[0mretain_graph\u001b[0m\u001b[0;34m,\u001b[0m \u001b[0mcreate_graph\u001b[0m\u001b[0;34m,\u001b[0m \u001b[0minputs\u001b[0m\u001b[0;34m=\u001b[0m\u001b[0minputs\u001b[0m\u001b[0;34m)\u001b[0m\u001b[0;34m\u001b[0m\u001b[0;34m\u001b[0m\u001b[0m\n\u001b[0m\u001b[1;32m    246\u001b[0m \u001b[0;34m\u001b[0m\u001b[0m\n\u001b[1;32m    247\u001b[0m     \u001b[0;32mdef\u001b[0m \u001b[0mregister_hook\u001b[0m\u001b[0;34m(\u001b[0m\u001b[0mself\u001b[0m\u001b[0;34m,\u001b[0m \u001b[0mhook\u001b[0m\u001b[0;34m)\u001b[0m\u001b[0;34m:\u001b[0m\u001b[0;34m\u001b[0m\u001b[0;34m\u001b[0m\u001b[0m\n",
      "\u001b[0;32m/anaconda/envs/4dvarnet/lib/python3.9/site-packages/torch/autograd/__init__.py\u001b[0m in \u001b[0;36mbackward\u001b[0;34m(tensors, grad_tensors, retain_graph, create_graph, grad_variables, inputs)\u001b[0m\n\u001b[1;32m    143\u001b[0m         \u001b[0mretain_graph\u001b[0m \u001b[0;34m=\u001b[0m \u001b[0mcreate_graph\u001b[0m\u001b[0;34m\u001b[0m\u001b[0;34m\u001b[0m\u001b[0m\n\u001b[1;32m    144\u001b[0m \u001b[0;34m\u001b[0m\u001b[0m\n\u001b[0;32m--> 145\u001b[0;31m     Variable._execution_engine.run_backward(\n\u001b[0m\u001b[1;32m    146\u001b[0m         \u001b[0mtensors\u001b[0m\u001b[0;34m,\u001b[0m \u001b[0mgrad_tensors_\u001b[0m\u001b[0;34m,\u001b[0m \u001b[0mretain_graph\u001b[0m\u001b[0;34m,\u001b[0m \u001b[0mcreate_graph\u001b[0m\u001b[0;34m,\u001b[0m \u001b[0minputs\u001b[0m\u001b[0;34m,\u001b[0m\u001b[0;34m\u001b[0m\u001b[0;34m\u001b[0m\u001b[0m\n\u001b[1;32m    147\u001b[0m         allow_unreachable=True, accumulate_grad=True)  # allow_unreachable flag\n",
      "\u001b[0;32m/anaconda/envs/4dvarnet/lib/python3.9/site-packages/torch/autograd/function.py\u001b[0m in \u001b[0;36mapply\u001b[0;34m(self, *args)\u001b[0m\n\u001b[1;32m     87\u001b[0m     \u001b[0;32mdef\u001b[0m \u001b[0mapply\u001b[0m\u001b[0;34m(\u001b[0m\u001b[0mself\u001b[0m\u001b[0;34m,\u001b[0m \u001b[0;34m*\u001b[0m\u001b[0margs\u001b[0m\u001b[0;34m)\u001b[0m\u001b[0;34m:\u001b[0m\u001b[0;34m\u001b[0m\u001b[0;34m\u001b[0m\u001b[0m\n\u001b[1;32m     88\u001b[0m         \u001b[0;31m# _forward_cls is defined by derived class\u001b[0m\u001b[0;34m\u001b[0m\u001b[0;34m\u001b[0m\u001b[0;34m\u001b[0m\u001b[0m\n\u001b[0;32m---> 89\u001b[0;31m         \u001b[0;32mreturn\u001b[0m \u001b[0mself\u001b[0m\u001b[0;34m.\u001b[0m\u001b[0m_forward_cls\u001b[0m\u001b[0;34m.\u001b[0m\u001b[0mbackward\u001b[0m\u001b[0;34m(\u001b[0m\u001b[0mself\u001b[0m\u001b[0;34m,\u001b[0m \u001b[0;34m*\u001b[0m\u001b[0margs\u001b[0m\u001b[0;34m)\u001b[0m  \u001b[0;31m# type: ignore\u001b[0m\u001b[0;34m\u001b[0m\u001b[0;34m\u001b[0m\u001b[0m\n\u001b[0m\u001b[1;32m     90\u001b[0m \u001b[0;34m\u001b[0m\u001b[0m\n\u001b[1;32m     91\u001b[0m \u001b[0;34m\u001b[0m\u001b[0m\n",
      "\u001b[0;32m<ipython-input-94-6c2b3944efe7>\u001b[0m in \u001b[0;36mbackward\u001b[0;34m(ctx, grad_output)\u001b[0m\n\u001b[1;32m     13\u001b[0m         \u001b[0mmei\u001b[0m \u001b[0;34m=\u001b[0m \u001b[0mtorch\u001b[0m\u001b[0;34m.\u001b[0m\u001b[0mzeros\u001b[0m\u001b[0;34m(\u001b[0m\u001b[0;34m(\u001b[0m\u001b[0mx\u001b[0m\u001b[0;34m.\u001b[0m\u001b[0mshape\u001b[0m\u001b[0;34m)\u001b[0m\u001b[0;34m)\u001b[0m\u001b[0;34m.\u001b[0m\u001b[0mto\u001b[0m\u001b[0;34m(\u001b[0m\u001b[0mdevice\u001b[0m\u001b[0;34m)\u001b[0m\u001b[0;34m\u001b[0m\u001b[0;34m\u001b[0m\u001b[0m\n\u001b[1;32m     14\u001b[0m         \u001b[0;32mfor\u001b[0m \u001b[0mi\u001b[0m \u001b[0;32min\u001b[0m \u001b[0mrange\u001b[0m\u001b[0;34m(\u001b[0m\u001b[0mx\u001b[0m\u001b[0;34m.\u001b[0m\u001b[0mshape\u001b[0m\u001b[0;34m[\u001b[0m\u001b[0;36m0\u001b[0m\u001b[0;34m]\u001b[0m\u001b[0;34m)\u001b[0m\u001b[0;34m:\u001b[0m\u001b[0;34m\u001b[0m\u001b[0;34m\u001b[0m\u001b[0m\n\u001b[0;32m---> 15\u001b[0;31m             \u001b[0mmei\u001b[0m\u001b[0;34m[\u001b[0m\u001b[0mi\u001b[0m\u001b[0;34m]\u001b[0m \u001b[0;34m=\u001b[0m \u001b[0mfloat\u001b[0m\u001b[0;34m(\u001b[0m\u001b[0mmpmath\u001b[0m\u001b[0;34m.\u001b[0m\u001b[0mmeijerg\u001b[0m\u001b[0;34m(\u001b[0m\u001b[0;34m[\u001b[0m\u001b[0;34m[\u001b[0m\u001b[0;34m]\u001b[0m\u001b[0;34m,\u001b[0m \u001b[0;34m[\u001b[0m\u001b[0;36m0\u001b[0m\u001b[0;34m,\u001b[0m\u001b[0;36m0\u001b[0m\u001b[0;34m]\u001b[0m\u001b[0;34m]\u001b[0m\u001b[0;34m,\u001b[0m \u001b[0;34m[\u001b[0m\u001b[0;34m[\u001b[0m\u001b[0;34m-\u001b[0m\u001b[0mx\u001b[0m\u001b[0;34m[\u001b[0m\u001b[0mi\u001b[0m\u001b[0;34m,\u001b[0m\u001b[0;36m0\u001b[0m\u001b[0;34m]\u001b[0m\u001b[0;34m.\u001b[0m\u001b[0mtolist\u001b[0m\u001b[0;34m(\u001b[0m\u001b[0;34m)\u001b[0m\u001b[0;34m-\u001b[0m\u001b[0;36m1\u001b[0m\u001b[0;34m,\u001b[0m \u001b[0;34m-\u001b[0m\u001b[0;36m1\u001b[0m\u001b[0;34m,\u001b[0m\u001b[0;34m-\u001b[0m\u001b[0;36m1\u001b[0m\u001b[0;34m]\u001b[0m\u001b[0;34m,\u001b[0m \u001b[0;34m[\u001b[0m\u001b[0;34m]\u001b[0m\u001b[0;34m]\u001b[0m\u001b[0;34m,\u001b[0m \u001b[0mres\u001b[0m\u001b[0;34m[\u001b[0m\u001b[0mi\u001b[0m\u001b[0;34m,\u001b[0m\u001b[0;36m0\u001b[0m\u001b[0;34m]\u001b[0m\u001b[0;34m.\u001b[0m\u001b[0mtolist\u001b[0m\u001b[0;34m(\u001b[0m\u001b[0;34m)\u001b[0m\u001b[0;34m)\u001b[0m\u001b[0;34m)\u001b[0m\u001b[0;34m\u001b[0m\u001b[0;34m\u001b[0m\u001b[0m\n\u001b[0m\u001b[1;32m     16\u001b[0m         \u001b[0mu1\u001b[0m \u001b[0;34m=\u001b[0m \u001b[0msc\u001b[0m\u001b[0;34m.\u001b[0m\u001b[0mgammainc\u001b[0m\u001b[0;34m(\u001b[0m\u001b[0mx\u001b[0m\u001b[0;34m.\u001b[0m\u001b[0mcpu\u001b[0m\u001b[0;34m(\u001b[0m\u001b[0;34m)\u001b[0m\u001b[0;34m,\u001b[0m\u001b[0mres\u001b[0m\u001b[0;34m.\u001b[0m\u001b[0mcpu\u001b[0m\u001b[0;34m(\u001b[0m\u001b[0;34m)\u001b[0m\u001b[0;34m)\u001b[0m\u001b[0;34m.\u001b[0m\u001b[0mto\u001b[0m\u001b[0;34m(\u001b[0m\u001b[0mdevice\u001b[0m\u001b[0;34m)\u001b[0m\u001b[0;34m\u001b[0m\u001b[0;34m\u001b[0m\u001b[0m\n\u001b[1;32m     17\u001b[0m         \u001b[0mu2\u001b[0m \u001b[0;34m=\u001b[0m \u001b[0msc\u001b[0m\u001b[0;34m.\u001b[0m\u001b[0mgamma\u001b[0m\u001b[0;34m(\u001b[0m\u001b[0mx\u001b[0m\u001b[0;34m.\u001b[0m\u001b[0mcpu\u001b[0m\u001b[0;34m(\u001b[0m\u001b[0;34m)\u001b[0m\u001b[0;34m)\u001b[0m\u001b[0;34m.\u001b[0m\u001b[0mto\u001b[0m\u001b[0;34m(\u001b[0m\u001b[0mdevice\u001b[0m\u001b[0;34m)\u001b[0m\u001b[0;34m\u001b[0m\u001b[0;34m\u001b[0m\u001b[0m\n",
      "\u001b[0;32m/anaconda/envs/4dvarnet/lib/python3.9/site-packages/mpmath/functions/hypergeometric.py\u001b[0m in \u001b[0;36mmeijerg\u001b[0;34m(ctx, a_s, b_s, z, r, series, **kwargs)\u001b[0m\n\u001b[1;32m   1056\u001b[0m                 \u001b[0mterms\u001b[0m\u001b[0;34m.\u001b[0m\u001b[0mappend\u001b[0m\u001b[0;34m(\u001b[0m\u001b[0;34m(\u001b[0m\u001b[0mbases\u001b[0m\u001b[0;34m,\u001b[0m \u001b[0mexpts\u001b[0m\u001b[0;34m,\u001b[0m \u001b[0mgn\u001b[0m\u001b[0;34m,\u001b[0m \u001b[0mgd\u001b[0m\u001b[0;34m,\u001b[0m \u001b[0mhn\u001b[0m\u001b[0;34m,\u001b[0m \u001b[0mhd\u001b[0m\u001b[0;34m,\u001b[0m \u001b[0mhz\u001b[0m\u001b[0;34m)\u001b[0m\u001b[0;34m)\u001b[0m\u001b[0;34m\u001b[0m\u001b[0;34m\u001b[0m\u001b[0m\n\u001b[1;32m   1057\u001b[0m             \u001b[0;32mreturn\u001b[0m \u001b[0mterms\u001b[0m\u001b[0;34m\u001b[0m\u001b[0;34m\u001b[0m\u001b[0m\n\u001b[0;32m-> 1058\u001b[0;31m     \u001b[0;32mreturn\u001b[0m \u001b[0mctx\u001b[0m\u001b[0;34m.\u001b[0m\u001b[0mhypercomb\u001b[0m\u001b[0;34m(\u001b[0m\u001b[0mh\u001b[0m\u001b[0;34m,\u001b[0m \u001b[0ma\u001b[0m\u001b[0;34m+\u001b[0m\u001b[0mb\u001b[0m\u001b[0;34m,\u001b[0m \u001b[0;34m**\u001b[0m\u001b[0mkwargs\u001b[0m\u001b[0;34m)\u001b[0m\u001b[0;34m\u001b[0m\u001b[0;34m\u001b[0m\u001b[0m\n\u001b[0m\u001b[1;32m   1059\u001b[0m \u001b[0;34m\u001b[0m\u001b[0m\n\u001b[1;32m   1060\u001b[0m \u001b[0;34m@\u001b[0m\u001b[0mdefun_wrapped\u001b[0m\u001b[0;34m\u001b[0m\u001b[0;34m\u001b[0m\u001b[0m\n",
      "\u001b[0;32m/anaconda/envs/4dvarnet/lib/python3.9/site-packages/mpmath/functions/hypergeometric.py\u001b[0m in \u001b[0;36mhypercomb\u001b[0;34m(ctx, function, params, discard_known_zeros, **kwargs)\u001b[0m\n\u001b[1;32m    123\u001b[0m                 \u001b[0;31m#for b in beta_s: v *= ctx.rgamma(b)\u001b[0m\u001b[0;34m\u001b[0m\u001b[0;34m\u001b[0m\u001b[0;34m\u001b[0m\u001b[0m\n\u001b[1;32m    124\u001b[0m                 \u001b[0;31m#for w, c in zip(w_s, c_s): v *= ctx.power(w, c)\u001b[0m\u001b[0;34m\u001b[0m\u001b[0;34m\u001b[0m\u001b[0;34m\u001b[0m\u001b[0m\n\u001b[0;32m--> 125\u001b[0;31m                 v = ctx.fprod([ctx.hyper(a_s, b_s, z, **kwargs)] + \\\n\u001b[0m\u001b[1;32m    126\u001b[0m                     \u001b[0;34m[\u001b[0m\u001b[0mctx\u001b[0m\u001b[0;34m.\u001b[0m\u001b[0mgamma\u001b[0m\u001b[0;34m(\u001b[0m\u001b[0ma\u001b[0m\u001b[0;34m)\u001b[0m \u001b[0;32mfor\u001b[0m \u001b[0ma\u001b[0m \u001b[0;32min\u001b[0m \u001b[0malpha_s\u001b[0m\u001b[0;34m]\u001b[0m \u001b[0;34m+\u001b[0m\u001b[0;31m \u001b[0m\u001b[0;31m\\\u001b[0m\u001b[0;34m\u001b[0m\u001b[0;34m\u001b[0m\u001b[0m\n\u001b[1;32m    127\u001b[0m                     \u001b[0;34m[\u001b[0m\u001b[0mctx\u001b[0m\u001b[0;34m.\u001b[0m\u001b[0mrgamma\u001b[0m\u001b[0;34m(\u001b[0m\u001b[0mb\u001b[0m\u001b[0;34m)\u001b[0m \u001b[0;32mfor\u001b[0m \u001b[0mb\u001b[0m \u001b[0;32min\u001b[0m \u001b[0mbeta_s\u001b[0m\u001b[0;34m]\u001b[0m \u001b[0;34m+\u001b[0m\u001b[0;31m \u001b[0m\u001b[0;31m\\\u001b[0m\u001b[0;34m\u001b[0m\u001b[0;34m\u001b[0m\u001b[0m\n",
      "\u001b[0;32m/anaconda/envs/4dvarnet/lib/python3.9/site-packages/mpmath/functions/hypergeometric.py\u001b[0m in \u001b[0;36mhyper\u001b[0;34m(ctx, a_s, b_s, z, **kwargs)\u001b[0m\n\u001b[1;32m    225\u001b[0m     \u001b[0;32melif\u001b[0m \u001b[0mp\u001b[0m \u001b[0;34m==\u001b[0m \u001b[0;36m2\u001b[0m\u001b[0;34m:\u001b[0m\u001b[0;34m\u001b[0m\u001b[0;34m\u001b[0m\u001b[0m\n\u001b[1;32m    226\u001b[0m         \u001b[0;32mif\u001b[0m   \u001b[0mq\u001b[0m \u001b[0;34m==\u001b[0m \u001b[0;36m1\u001b[0m\u001b[0;34m:\u001b[0m \u001b[0;32mreturn\u001b[0m \u001b[0mctx\u001b[0m\u001b[0;34m.\u001b[0m\u001b[0m_hyp2f1\u001b[0m\u001b[0;34m(\u001b[0m\u001b[0ma_s\u001b[0m\u001b[0;34m,\u001b[0m \u001b[0mb_s\u001b[0m\u001b[0;34m,\u001b[0m \u001b[0mz\u001b[0m\u001b[0;34m,\u001b[0m \u001b[0;34m**\u001b[0m\u001b[0mkwargs\u001b[0m\u001b[0;34m)\u001b[0m\u001b[0;34m\u001b[0m\u001b[0;34m\u001b[0m\u001b[0m\n\u001b[0;32m--> 227\u001b[0;31m         \u001b[0;32melif\u001b[0m \u001b[0mq\u001b[0m \u001b[0;34m==\u001b[0m \u001b[0;36m2\u001b[0m\u001b[0;34m:\u001b[0m \u001b[0;32mreturn\u001b[0m \u001b[0mctx\u001b[0m\u001b[0;34m.\u001b[0m\u001b[0m_hyp2f2\u001b[0m\u001b[0;34m(\u001b[0m\u001b[0ma_s\u001b[0m\u001b[0;34m,\u001b[0m \u001b[0mb_s\u001b[0m\u001b[0;34m,\u001b[0m \u001b[0mz\u001b[0m\u001b[0;34m,\u001b[0m \u001b[0;34m**\u001b[0m\u001b[0mkwargs\u001b[0m\u001b[0;34m)\u001b[0m\u001b[0;34m\u001b[0m\u001b[0;34m\u001b[0m\u001b[0m\n\u001b[0m\u001b[1;32m    228\u001b[0m         \u001b[0;32melif\u001b[0m \u001b[0mq\u001b[0m \u001b[0;34m==\u001b[0m \u001b[0;36m3\u001b[0m\u001b[0;34m:\u001b[0m \u001b[0;32mreturn\u001b[0m \u001b[0mctx\u001b[0m\u001b[0;34m.\u001b[0m\u001b[0m_hyp2f3\u001b[0m\u001b[0;34m(\u001b[0m\u001b[0ma_s\u001b[0m\u001b[0;34m,\u001b[0m \u001b[0mb_s\u001b[0m\u001b[0;34m,\u001b[0m \u001b[0mz\u001b[0m\u001b[0;34m,\u001b[0m \u001b[0;34m**\u001b[0m\u001b[0mkwargs\u001b[0m\u001b[0;34m)\u001b[0m\u001b[0;34m\u001b[0m\u001b[0;34m\u001b[0m\u001b[0m\n\u001b[1;32m    229\u001b[0m         \u001b[0;32melif\u001b[0m \u001b[0mq\u001b[0m \u001b[0;34m==\u001b[0m \u001b[0;36m0\u001b[0m\u001b[0;34m:\u001b[0m \u001b[0;32mreturn\u001b[0m \u001b[0mctx\u001b[0m\u001b[0;34m.\u001b[0m\u001b[0m_hyp2f0\u001b[0m\u001b[0;34m(\u001b[0m\u001b[0ma_s\u001b[0m\u001b[0;34m,\u001b[0m \u001b[0mb_s\u001b[0m\u001b[0;34m,\u001b[0m \u001b[0mz\u001b[0m\u001b[0;34m,\u001b[0m \u001b[0;34m**\u001b[0m\u001b[0mkwargs\u001b[0m\u001b[0;34m)\u001b[0m\u001b[0;34m\u001b[0m\u001b[0;34m\u001b[0m\u001b[0m\n",
      "\u001b[0;32m/anaconda/envs/4dvarnet/lib/python3.9/site-packages/mpmath/functions/hypergeometric.py\u001b[0m in \u001b[0;36m_hyp2f2\u001b[0;34m(ctx, a_s, b_s, z, **kwargs)\u001b[0m\n\u001b[1;32m    807\u001b[0m             \u001b[0mctx\u001b[0m\u001b[0;34m.\u001b[0m\u001b[0mprec\u001b[0m \u001b[0;34m=\u001b[0m \u001b[0morig\u001b[0m\u001b[0;34m\u001b[0m\u001b[0;34m\u001b[0m\u001b[0m\n\u001b[1;32m    808\u001b[0m \u001b[0;34m\u001b[0m\u001b[0m\n\u001b[0;32m--> 809\u001b[0;31m     \u001b[0;32mreturn\u001b[0m \u001b[0mctx\u001b[0m\u001b[0;34m.\u001b[0m\u001b[0mhypsum\u001b[0m\u001b[0;34m(\u001b[0m\u001b[0;36m2\u001b[0m\u001b[0;34m,\u001b[0m \u001b[0;36m2\u001b[0m\u001b[0;34m,\u001b[0m \u001b[0;34m(\u001b[0m\u001b[0ma1type\u001b[0m\u001b[0;34m,\u001b[0m \u001b[0ma2type\u001b[0m\u001b[0;34m,\u001b[0m \u001b[0mb1type\u001b[0m\u001b[0;34m,\u001b[0m \u001b[0mb2type\u001b[0m\u001b[0;34m)\u001b[0m\u001b[0;34m,\u001b[0m \u001b[0;34m[\u001b[0m\u001b[0ma1\u001b[0m\u001b[0;34m,\u001b[0m \u001b[0ma2\u001b[0m\u001b[0;34m,\u001b[0m \u001b[0mb1\u001b[0m\u001b[0;34m,\u001b[0m \u001b[0mb2\u001b[0m\u001b[0;34m]\u001b[0m\u001b[0;34m,\u001b[0m \u001b[0mz\u001b[0m\u001b[0;34m,\u001b[0m \u001b[0;34m**\u001b[0m\u001b[0mkwargs\u001b[0m\u001b[0;34m)\u001b[0m\u001b[0;34m\u001b[0m\u001b[0;34m\u001b[0m\u001b[0m\n\u001b[0m\u001b[1;32m    810\u001b[0m \u001b[0;34m\u001b[0m\u001b[0m\n\u001b[1;32m    811\u001b[0m \u001b[0;34m\u001b[0m\u001b[0m\n",
      "\u001b[0;32m/anaconda/envs/4dvarnet/lib/python3.9/site-packages/mpmath/ctx_mp.py\u001b[0m in \u001b[0;36mhypsum\u001b[0;34m(ctx, p, q, flags, coeffs, z, accurate_small, **kwargs)\u001b[0m\n\u001b[1;32m    672\u001b[0m             \u001b[0mv\u001b[0m \u001b[0;34m=\u001b[0m \u001b[0mz\u001b[0m\u001b[0;34m.\u001b[0m\u001b[0m_mpc_\u001b[0m\u001b[0;34m\u001b[0m\u001b[0;34m\u001b[0m\u001b[0m\n\u001b[1;32m    673\u001b[0m         \u001b[0;32mif\u001b[0m \u001b[0mkey\u001b[0m \u001b[0;32mnot\u001b[0m \u001b[0;32min\u001b[0m \u001b[0mctx\u001b[0m\u001b[0;34m.\u001b[0m\u001b[0mhyp_summators\u001b[0m\u001b[0;34m:\u001b[0m\u001b[0;34m\u001b[0m\u001b[0;34m\u001b[0m\u001b[0m\n\u001b[0;32m--> 674\u001b[0;31m             \u001b[0mctx\u001b[0m\u001b[0;34m.\u001b[0m\u001b[0mhyp_summators\u001b[0m\u001b[0;34m[\u001b[0m\u001b[0mkey\u001b[0m\u001b[0;34m]\u001b[0m \u001b[0;34m=\u001b[0m \u001b[0mlibmp\u001b[0m\u001b[0;34m.\u001b[0m\u001b[0mmake_hyp_summator\u001b[0m\u001b[0;34m(\u001b[0m\u001b[0mkey\u001b[0m\u001b[0;34m)\u001b[0m\u001b[0;34m[\u001b[0m\u001b[0;36m1\u001b[0m\u001b[0;34m]\u001b[0m\u001b[0;34m\u001b[0m\u001b[0;34m\u001b[0m\u001b[0m\n\u001b[0m\u001b[1;32m    675\u001b[0m         \u001b[0msummator\u001b[0m \u001b[0;34m=\u001b[0m \u001b[0mctx\u001b[0m\u001b[0;34m.\u001b[0m\u001b[0mhyp_summators\u001b[0m\u001b[0;34m[\u001b[0m\u001b[0mkey\u001b[0m\u001b[0;34m]\u001b[0m\u001b[0;34m\u001b[0m\u001b[0;34m\u001b[0m\u001b[0m\n\u001b[1;32m    676\u001b[0m         \u001b[0mprec\u001b[0m \u001b[0;34m=\u001b[0m \u001b[0mctx\u001b[0m\u001b[0;34m.\u001b[0m\u001b[0mprec\u001b[0m\u001b[0;34m\u001b[0m\u001b[0;34m\u001b[0m\u001b[0m\n",
      "\u001b[0;32m/anaconda/envs/4dvarnet/lib/python3.9/site-packages/mpmath/libmp/libhyper.py\u001b[0m in \u001b[0;36mmake_hyp_summator\u001b[0;34m(key)\u001b[0m\n\u001b[1;32m    157\u001b[0m             \u001b[0madd\u001b[0m\u001b[0;34m(\u001b[0m\u001b[0;34m\"    %sCIM_%i = ym >> (-offset)\"\u001b[0m \u001b[0;34m%\u001b[0m \u001b[0;34m(\u001b[0m\u001b[0mW\u001b[0m\u001b[0;34m,\u001b[0m \u001b[0mi\u001b[0m\u001b[0;34m)\u001b[0m\u001b[0;34m)\u001b[0m\u001b[0;34m\u001b[0m\u001b[0;34m\u001b[0m\u001b[0m\n\u001b[1;32m    158\u001b[0m         \u001b[0;32melse\u001b[0m\u001b[0;34m:\u001b[0m\u001b[0;34m\u001b[0m\u001b[0;34m\u001b[0m\u001b[0m\n\u001b[0;32m--> 159\u001b[0;31m             \u001b[0;32mraise\u001b[0m \u001b[0mValueError\u001b[0m\u001b[0;34m\u001b[0m\u001b[0;34m\u001b[0m\u001b[0m\n\u001b[0m\u001b[1;32m    160\u001b[0m \u001b[0;34m\u001b[0m\u001b[0m\n\u001b[1;32m    161\u001b[0m     \u001b[0ml_areal\u001b[0m \u001b[0;34m=\u001b[0m \u001b[0mlen\u001b[0m\u001b[0;34m(\u001b[0m\u001b[0mareal\u001b[0m\u001b[0;34m)\u001b[0m\u001b[0;34m\u001b[0m\u001b[0;34m\u001b[0m\u001b[0m\n",
      "\u001b[0;31mValueError\u001b[0m: "
     ]
    }
   ],
   "source": [
    "train_loss = []\n",
    "val_loss = []\n",
    "for epoch in range(epochs):\n",
    "    print(f\"Epoch {epoch+1} of {epochs}\")\n",
    "    print(train_loader)\n",
    "    train_epoch_loss = fit(model4, train_loader)\n",
    "    val_epoch_loss = validate(model4, val_loader)\n",
    "    train_loss.append(train_epoch_loss)\n",
    "    val_loss.append(val_epoch_loss)\n",
    "    print(f\"Train Loss: {train_epoch_loss:.4f}\")\n",
    "    print(f\"Val Loss: {val_epoch_loss:.4f}\")"
   ]
  },
  {
   "cell_type": "code",
   "execution_count": 105,
   "id": "90600460",
   "metadata": {},
   "outputs": [
    {
     "name": "stdout",
     "output_type": "stream",
     "text": [
      "Sample:\n",
      "tensor([[nan],\n",
      "        [nan],\n",
      "        [nan],\n",
      "        [nan],\n",
      "        [nan],\n",
      "        [nan],\n",
      "        [nan],\n",
      "        [nan],\n",
      "        [nan],\n",
      "        [nan],\n",
      "        [nan],\n",
      "        [nan],\n",
      "        [nan],\n",
      "        [nan],\n",
      "        [nan],\n",
      "        [nan],\n",
      "        [nan],\n",
      "        [nan],\n",
      "        [nan],\n",
      "        [nan],\n",
      "        [nan],\n",
      "        [nan],\n",
      "        [nan],\n",
      "        [nan],\n",
      "        [nan],\n",
      "        [nan],\n",
      "        [nan],\n",
      "        [nan],\n",
      "        [nan],\n",
      "        [nan],\n",
      "        [nan],\n",
      "        [nan],\n",
      "        [nan],\n",
      "        [nan],\n",
      "        [nan],\n",
      "        [nan],\n",
      "        [nan],\n",
      "        [nan],\n",
      "        [nan],\n",
      "        [nan],\n",
      "        [nan],\n",
      "        [nan],\n",
      "        [nan],\n",
      "        [nan],\n",
      "        [nan],\n",
      "        [nan],\n",
      "        [nan],\n",
      "        [nan],\n",
      "        [nan],\n",
      "        [nan],\n",
      "        [nan],\n",
      "        [nan],\n",
      "        [nan],\n",
      "        [nan],\n",
      "        [nan],\n",
      "        [nan],\n",
      "        [nan],\n",
      "        [nan],\n",
      "        [nan],\n",
      "        [nan],\n",
      "        [nan],\n",
      "        [nan],\n",
      "        [nan],\n",
      "        [nan],\n",
      "        [nan],\n",
      "        [nan],\n",
      "        [nan],\n",
      "        [nan],\n",
      "        [nan],\n",
      "        [nan],\n",
      "        [nan],\n",
      "        [nan],\n",
      "        [nan],\n",
      "        [nan],\n",
      "        [nan],\n",
      "        [nan],\n",
      "        [nan],\n",
      "        [nan],\n",
      "        [nan],\n",
      "        [nan],\n",
      "        [nan],\n",
      "        [nan],\n",
      "        [nan],\n",
      "        [nan],\n",
      "        [nan],\n",
      "        [nan],\n",
      "        [nan],\n",
      "        [nan],\n",
      "        [nan],\n",
      "        [nan],\n",
      "        [nan],\n",
      "        [nan],\n",
      "        [nan],\n",
      "        [nan],\n",
      "        [nan],\n",
      "        [nan],\n",
      "        [nan],\n",
      "        [nan],\n",
      "        [nan],\n",
      "        [nan],\n",
      "        [nan],\n",
      "        [nan],\n",
      "        [nan],\n",
      "        [nan],\n",
      "        [nan],\n",
      "        [nan],\n",
      "        [nan],\n",
      "        [nan],\n",
      "        [nan],\n",
      "        [nan],\n",
      "        [nan],\n",
      "        [nan],\n",
      "        [nan],\n",
      "        [nan],\n",
      "        [nan],\n",
      "        [nan],\n",
      "        [nan],\n",
      "        [nan],\n",
      "        [nan],\n",
      "        [nan],\n",
      "        [nan],\n",
      "        [nan],\n",
      "        [nan],\n",
      "        [nan],\n",
      "        [nan],\n",
      "        [nan],\n",
      "        [nan],\n",
      "        [nan],\n",
      "        [nan],\n",
      "        [nan],\n",
      "        [nan],\n",
      "        [nan],\n",
      "        [nan],\n",
      "        [nan],\n",
      "        [nan],\n",
      "        [nan],\n",
      "        [nan],\n",
      "        [nan],\n",
      "        [nan],\n",
      "        [nan],\n",
      "        [nan],\n",
      "        [nan],\n",
      "        [nan],\n",
      "        [nan],\n",
      "        [nan],\n",
      "        [nan],\n",
      "        [nan],\n",
      "        [nan],\n",
      "        [nan],\n",
      "        [nan],\n",
      "        [nan],\n",
      "        [nan],\n",
      "        [nan],\n",
      "        [nan],\n",
      "        [nan],\n",
      "        [nan],\n",
      "        [nan],\n",
      "        [nan],\n",
      "        [nan],\n",
      "        [nan],\n",
      "        [nan],\n",
      "        [nan],\n",
      "        [nan],\n",
      "        [nan],\n",
      "        [nan],\n",
      "        [nan],\n",
      "        [nan],\n",
      "        [nan],\n",
      "        [nan],\n",
      "        [nan],\n",
      "        [nan],\n",
      "        [nan],\n",
      "        [nan],\n",
      "        [nan],\n",
      "        [nan],\n",
      "        [nan],\n",
      "        [nan],\n",
      "        [nan],\n",
      "        [nan],\n",
      "        [nan],\n",
      "        [nan],\n",
      "        [nan],\n",
      "        [nan],\n",
      "        [nan],\n",
      "        [nan],\n",
      "        [nan],\n",
      "        [nan],\n",
      "        [nan],\n",
      "        [nan],\n",
      "        [nan],\n",
      "        [nan],\n",
      "        [nan],\n",
      "        [nan],\n",
      "        [nan],\n",
      "        [nan],\n",
      "        [nan],\n",
      "        [nan],\n",
      "        [nan],\n",
      "        [nan],\n",
      "        [nan],\n",
      "        [nan],\n",
      "        [nan],\n",
      "        [nan],\n",
      "        [nan],\n",
      "        [nan],\n",
      "        [nan],\n",
      "        [nan],\n",
      "        [nan],\n",
      "        [nan],\n",
      "        [nan],\n",
      "        [nan],\n",
      "        [nan],\n",
      "        [nan],\n",
      "        [nan],\n",
      "        [nan],\n",
      "        [nan],\n",
      "        [nan],\n",
      "        [nan],\n",
      "        [nan],\n",
      "        [nan],\n",
      "        [nan],\n",
      "        [nan],\n",
      "        [nan],\n",
      "        [nan],\n",
      "        [nan],\n",
      "        [nan],\n",
      "        [nan],\n",
      "        [nan],\n",
      "        [nan],\n",
      "        [nan],\n",
      "        [nan],\n",
      "        [nan],\n",
      "        [nan],\n",
      "        [nan],\n",
      "        [nan],\n",
      "        [nan],\n",
      "        [nan],\n",
      "        [nan],\n",
      "        [nan],\n",
      "        [nan],\n",
      "        [nan],\n",
      "        [nan],\n",
      "        [nan],\n",
      "        [nan],\n",
      "        [nan],\n",
      "        [nan],\n",
      "        [nan],\n",
      "        [nan],\n",
      "        [nan],\n",
      "        [nan],\n",
      "        [nan],\n",
      "        [nan],\n",
      "        [nan],\n",
      "        [nan],\n",
      "        [nan],\n",
      "        [nan]], device='cuda:0', grad_fn=<DivBackward0>)\n",
      "tensor([  0,   1,   2,   3,   4,   5,   6,   7,   8,   9,  10,  11,  12,  13,\n",
      "         14,  15,  16,  17,  18,  19,  20,  21,  22,  23,  24,  25,  26,  27,\n",
      "         28,  29,  30,  31,  32,  33,  34,  35,  36,  37,  38,  39,  40,  41,\n",
      "         42,  43,  44,  45,  46,  47,  48,  49,  50,  51,  52,  53,  54,  55,\n",
      "         56,  57,  58,  59,  60,  61,  62,  63,  64,  65,  66,  67,  68,  69,\n",
      "         70,  71,  72,  73,  74,  75,  76,  77,  78,  79,  80,  81,  82,  83,\n",
      "         84,  85,  86,  87,  88,  89,  90,  91,  92,  93,  94,  95,  96,  97,\n",
      "         98,  99, 100, 101, 102, 103, 104, 105, 106, 107, 108, 109, 110, 111,\n",
      "        112, 113, 114, 115, 116, 117, 118, 119, 120, 121, 122, 123, 124, 125,\n",
      "        126, 127, 128, 129, 130, 131, 132, 133, 134, 135, 136, 137, 138, 139,\n",
      "        140, 141, 142, 143, 144, 145, 146, 147, 148, 149, 150, 151, 152, 153,\n",
      "        154, 155, 156, 157, 158, 159, 160, 161, 162, 163, 164, 165, 166, 167,\n",
      "        168, 169, 170, 171, 172, 173, 174, 175, 176, 177, 178, 179, 180, 181,\n",
      "        182, 183, 184, 185, 186, 187, 188, 189, 190, 191, 192, 193, 194, 195,\n",
      "        196, 197, 198, 199, 200, 201, 202, 203, 204, 205, 206, 207, 208, 209,\n",
      "        210, 211, 212, 213, 214, 215, 216, 217, 218, 219, 220, 221, 222, 223,\n",
      "        224, 225, 226, 227, 228, 229, 230, 231, 232, 233, 234, 235, 236, 237,\n",
      "        238, 239, 240, 241, 242, 243, 244, 245, 246, 247, 248, 249, 250, 251,\n",
      "        252, 253, 254, 255], device='cuda:0')\n",
      "tensor([nan, nan, nan, nan, nan, nan, nan, nan, nan, nan, nan, nan, nan, nan, nan, nan, nan, nan, nan, nan, nan, nan, nan, nan,\n",
      "        nan, nan, nan, nan, nan, nan, nan, nan, nan, nan, nan, nan, nan, nan, nan, nan, nan, nan, nan, nan, nan, nan, nan, nan,\n",
      "        nan, nan, nan, nan, nan, nan, nan, nan, nan, nan, nan, nan, nan, nan, nan, nan, nan, nan, nan, nan, nan, nan, nan, nan,\n",
      "        nan, nan, nan, nan, nan, nan, nan, nan, nan, nan, nan, nan, nan, nan, nan, nan, nan, nan, nan, nan, nan, nan, nan, nan,\n",
      "        nan, nan, nan, nan, nan, nan, nan, nan, nan, nan, nan, nan, nan, nan, nan, nan, nan, nan, nan, nan, nan, nan, nan, nan,\n",
      "        nan, nan, nan, nan, nan, nan, nan, nan, nan, nan, nan, nan, nan, nan, nan, nan, nan, nan, nan, nan, nan, nan, nan, nan,\n",
      "        nan, nan, nan, nan, nan, nan, nan, nan, nan, nan, nan, nan, nan, nan, nan, nan, nan, nan, nan, nan, nan, nan, nan, nan,\n",
      "        nan, nan, nan, nan, nan, nan, nan, nan, nan, nan, nan, nan, nan, nan, nan, nan, nan, nan, nan, nan, nan, nan, nan, nan,\n",
      "        nan, nan, nan, nan, nan, nan, nan, nan, nan, nan, nan, nan, nan, nan, nan, nan, nan, nan, nan, nan, nan, nan, nan, nan,\n",
      "        nan, nan, nan, nan, nan, nan, nan, nan, nan, nan, nan, nan, nan, nan, nan, nan, nan, nan, nan, nan, nan, nan, nan, nan,\n",
      "        nan, nan, nan, nan, nan, nan, nan, nan, nan, nan, nan, nan, nan, nan, nan, nan],\n",
      "       device='cuda:0', grad_fn=<IndexBackward>)\n",
      "tensor([nan, nan, nan, nan, nan, nan, nan, nan, nan, nan, nan, nan, nan, nan, nan, nan, nan, nan, nan, nan, nan, nan, nan, nan,\n",
      "        nan, nan, nan, nan, nan, nan, nan, nan, nan, nan, nan, nan, nan, nan, nan, nan, nan, nan, nan, nan, nan, nan, nan, nan,\n",
      "        nan, nan, nan, nan, nan, nan, nan, nan, nan, nan, nan, nan, nan, nan, nan, nan, nan, nan, nan, nan, nan, nan, nan, nan,\n",
      "        nan, nan, nan, nan, nan, nan, nan, nan, nan, nan, nan, nan, nan, nan, nan, nan, nan, nan, nan, nan, nan, nan, nan, nan,\n",
      "        nan, nan, nan, nan, nan, nan, nan, nan, nan, nan, nan, nan, nan, nan, nan, nan, nan, nan, nan, nan, nan, nan, nan, nan,\n",
      "        nan, nan, nan, nan, nan, nan, nan, nan, nan, nan, nan, nan, nan, nan, nan, nan, nan, nan, nan, nan, nan, nan, nan, nan,\n",
      "        nan, nan, nan, nan, nan, nan, nan, nan, nan, nan, nan, nan, nan, nan, nan, nan, nan, nan, nan, nan, nan, nan, nan, nan,\n",
      "        nan, nan, nan, nan, nan, nan, nan, nan, nan, nan, nan, nan, nan, nan, nan, nan, nan, nan, nan, nan, nan, nan, nan, nan,\n",
      "        nan, nan, nan, nan, nan, nan, nan, nan, nan, nan, nan, nan, nan, nan, nan, nan, nan, nan, nan, nan, nan, nan, nan, nan,\n",
      "        nan, nan, nan, nan, nan, nan, nan, nan, nan, nan, nan, nan, nan, nan, nan, nan, nan, nan, nan, nan, nan, nan, nan, nan,\n",
      "        nan, nan, nan, nan, nan, nan, nan, nan, nan, nan, nan, nan, nan, nan, nan, nan],\n",
      "       device='cuda:0', grad_fn=<IndexBackward>)\n",
      "tensor([7.7249e-01, 2.0565e-01, 8.0131e-01, 1.7100e-02, 7.2098e-01, 9.4307e-01,\n",
      "        9.7151e-01, 5.2440e-02, 3.2630e-01, 8.4326e-01, 4.4374e-01, 4.2890e-01,\n",
      "        7.1212e-01, 7.9933e-04, 1.5166e-01, 8.2631e-01, 2.5522e-01, 9.9537e-01,\n",
      "        8.6099e-01, 6.3760e-01, 8.4307e-01, 4.6883e-02, 8.7566e-01, 4.8375e-01,\n",
      "        3.6307e-01, 5.0499e-01, 8.5363e-01, 5.5356e-01, 5.7185e-02, 8.0328e-01,\n",
      "        4.6041e-01, 7.7805e-01, 3.8987e-01, 4.6508e-01, 4.5210e-01, 3.9984e-01,\n",
      "        8.1786e-01, 9.6365e-01, 3.3179e-01, 4.9733e-01, 7.7705e-01, 4.7557e-01,\n",
      "        1.3202e-01, 7.2503e-01, 9.9465e-01, 1.1649e-01, 3.2793e-01, 9.2833e-01,\n",
      "        6.8513e-01, 1.0044e-01, 4.3633e-02, 5.6469e-01, 7.1222e-01, 3.0520e-01,\n",
      "        5.8051e-01, 7.4950e-01, 1.6221e-01, 6.9643e-01, 6.4313e-01, 1.0876e-01,\n",
      "        8.2781e-01, 4.7747e-01, 3.6932e-02, 3.1915e-01, 7.4926e-01, 2.4584e-01,\n",
      "        1.9361e-01, 2.9407e-01, 4.6880e-01, 3.6439e-01, 9.0030e-01, 9.7760e-01,\n",
      "        5.3931e-02, 2.3278e-01, 5.1382e-01, 7.7546e-01, 2.3715e-01, 3.5867e-01,\n",
      "        7.2431e-01, 4.6610e-01, 4.6286e-01, 8.3874e-01, 1.2115e-01, 3.6372e-02,\n",
      "        7.1128e-01, 7.9399e-01, 5.3780e-01, 6.5717e-02, 5.9405e-01, 1.9259e-01,\n",
      "        5.0446e-01, 2.7655e-01, 8.9792e-01, 9.6632e-01, 6.0596e-01, 2.1072e-01,\n",
      "        4.0270e-01, 8.3237e-01, 7.5538e-01, 2.8944e-01, 1.6866e-01, 6.0006e-02,\n",
      "        4.3287e-01, 6.6299e-01, 7.1635e-01, 5.6422e-01, 2.8232e-02, 3.2996e-01,\n",
      "        7.1896e-01, 3.6384e-01, 2.5593e-01, 1.6071e-01, 2.8831e-01, 2.5706e-01,\n",
      "        2.0791e-01, 8.0602e-01, 7.6345e-01, 3.5406e-01, 4.8302e-01, 7.1661e-01,\n",
      "        3.8806e-02, 2.6728e-01, 6.7642e-01, 2.6747e-01, 6.8067e-01, 3.9302e-01,\n",
      "        9.9314e-01, 2.7033e-01, 2.2106e-01, 1.0241e-01, 1.4672e-01, 6.0409e-01,\n",
      "        1.0196e-01, 7.4609e-01, 3.8216e-03, 3.4713e-01, 4.3224e-02, 3.4167e-01,\n",
      "        4.2805e-01, 4.1604e-01, 7.4809e-01, 1.6492e-01, 6.6255e-01, 9.2310e-01,\n",
      "        4.1993e-01, 5.2816e-01, 5.1024e-01, 8.7399e-01, 7.3720e-01, 8.6017e-01,\n",
      "        4.1182e-02, 5.3945e-01, 1.4845e-01, 3.9755e-01, 8.2896e-01, 4.4867e-01,\n",
      "        2.1710e-01, 2.0261e-01, 5.9498e-01, 1.5923e-01, 1.2050e-01, 4.4063e-01,\n",
      "        4.1686e-01, 4.0486e-01, 2.4958e-01, 5.3095e-01, 5.4699e-01, 1.2203e-01,\n",
      "        9.1840e-01, 7.6185e-01, 4.9024e-01, 3.4833e-01, 6.6786e-02, 3.9599e-01,\n",
      "        8.8892e-01, 1.6907e-01, 7.0081e-01, 8.2157e-02, 1.6448e-01, 5.4682e-02,\n",
      "        1.7389e-01, 5.4218e-01, 4.6148e-01, 4.4055e-01, 1.6794e-02, 3.2898e-01,\n",
      "        7.0289e-01, 7.4690e-01, 7.1890e-01, 7.6233e-01, 4.9858e-03, 8.7039e-01,\n",
      "        5.3420e-01, 7.3940e-03, 7.7317e-01, 6.6291e-01, 9.1149e-01, 4.2242e-01,\n",
      "        7.3401e-01, 2.5217e-01, 7.3652e-01, 2.1194e-01, 3.4998e-01, 5.7804e-01,\n",
      "        7.9874e-01, 3.6204e-01, 3.2387e-01, 8.6528e-01, 4.7753e-01, 1.6849e-01,\n",
      "        1.7442e-01, 5.8659e-01, 1.6791e-01, 4.3223e-01, 2.7862e-01, 2.3855e-01,\n",
      "        1.6776e-01, 6.0192e-01, 8.8422e-01, 5.7857e-01, 6.0118e-02, 7.7025e-01,\n",
      "        3.6516e-01, 2.2704e-02, 4.2876e-01, 1.8832e-01, 9.3114e-01, 4.1840e-01,\n",
      "        6.5870e-01, 6.3543e-01, 5.4239e-01, 2.0204e-01, 2.2042e-01, 5.8756e-02,\n",
      "        8.9623e-01, 4.1623e-01, 5.4130e-01, 1.0017e-01, 5.8100e-01, 4.5005e-01,\n",
      "        4.3098e-01, 8.5804e-01, 7.7407e-01, 2.5090e-01, 7.7623e-01, 1.3465e-02,\n",
      "        8.2959e-01, 4.5718e-01, 3.1707e-01, 8.5922e-01, 1.8792e-01, 1.9380e-01,\n",
      "        5.4190e-01, 8.2678e-01, 2.5615e-01, 7.5176e-01], device='cuda:0')\n",
      "tensor([nan, nan, nan, nan, nan, nan, nan, nan, nan, nan, nan, nan, nan, nan, nan, nan, nan, nan, nan, nan, nan, nan, nan, nan,\n",
      "        nan, nan, nan, nan, nan, nan, nan, nan, nan, nan, nan, nan, nan, nan, nan, nan, nan, nan, nan, nan, nan, nan, nan, nan,\n",
      "        nan, nan, nan, nan, nan, nan, nan, nan, nan, nan, nan, nan, nan, nan, nan, nan, nan, nan, nan, nan, nan, nan, nan, nan,\n",
      "        nan, nan, nan, nan, nan, nan, nan, nan, nan, nan, nan, nan, nan, nan, nan, nan, nan, nan, nan, nan, nan, nan, nan, nan,\n",
      "        nan, nan, nan, nan, nan, nan, nan, nan, nan, nan, nan, nan, nan, nan, nan, nan, nan, nan, nan, nan, nan, nan, nan, nan,\n",
      "        nan, nan, nan, nan, nan, nan, nan, nan, nan, nan, nan, nan, nan, nan, nan, nan, nan, nan, nan, nan, nan, nan, nan, nan,\n",
      "        nan, nan, nan, nan, nan, nan, nan, nan, nan, nan, nan, nan, nan, nan, nan, nan, nan, nan, nan, nan, nan, nan, nan, nan,\n",
      "        nan, nan, nan, nan, nan, nan, nan, nan, nan, nan, nan, nan, nan, nan, nan, nan, nan, nan, nan, nan, nan, nan, nan, nan,\n",
      "        nan, nan, nan, nan, nan, nan, nan, nan, nan, nan, nan, nan, nan, nan, nan, nan, nan, nan, nan, nan, nan, nan, nan, nan,\n",
      "        nan, nan, nan, nan, nan, nan, nan, nan, nan, nan, nan, nan, nan, nan, nan, nan, nan, nan, nan, nan, nan, nan, nan, nan,\n",
      "        nan, nan, nan, nan, nan, nan, nan, nan, nan, nan, nan, nan, nan, nan, nan, nan],\n",
      "       device='cuda:0', grad_fn=<MulBackward0>)\n",
      "tensor([nan, nan, nan, nan, nan, nan, nan, nan, nan, nan, nan, nan, nan, nan, nan, nan, nan, nan, nan, nan, nan, nan, nan, nan,\n",
      "        nan, nan, nan, nan, nan, nan, nan, nan, nan, nan, nan, nan, nan, nan, nan, nan, nan, nan, nan, nan, nan, nan, nan, nan,\n",
      "        nan, nan, nan, nan, nan, nan, nan, nan, nan, nan, nan, nan, nan, nan, nan, nan, nan, nan, nan, nan, nan, nan, nan, nan,\n",
      "        nan, nan, nan, nan, nan, nan, nan, nan, nan, nan, nan, nan, nan, nan, nan, nan, nan, nan, nan, nan, nan, nan, nan, nan,\n",
      "        nan, nan, nan, nan, nan, nan, nan, nan, nan, nan, nan, nan, nan, nan, nan, nan, nan, nan, nan, nan, nan, nan, nan, nan,\n",
      "        nan, nan, nan, nan, nan, nan, nan, nan, nan, nan, nan, nan, nan, nan, nan, nan, nan, nan, nan, nan, nan, nan, nan, nan,\n",
      "        nan, nan, nan, nan, nan, nan, nan, nan, nan, nan, nan, nan, nan, nan, nan, nan, nan, nan, nan, nan, nan, nan, nan, nan,\n",
      "        nan, nan, nan, nan, nan, nan, nan, nan, nan, nan, nan, nan, nan, nan, nan, nan, nan, nan, nan, nan, nan, nan, nan, nan,\n",
      "        nan, nan, nan, nan, nan, nan, nan, nan, nan, nan, nan, nan, nan, nan, nan, nan, nan, nan, nan, nan, nan, nan, nan, nan,\n",
      "        nan, nan, nan, nan, nan, nan, nan, nan, nan, nan, nan, nan, nan, nan, nan, nan, nan, nan, nan, nan, nan, nan, nan, nan,\n",
      "        nan, nan, nan, nan, nan, nan, nan, nan, nan, nan, nan, nan, nan, nan, nan, nan],\n",
      "       device='cuda:0', grad_fn=<gam_inc_invBackward>)\n",
      "tensor([[nan],\n",
      "        [nan],\n",
      "        [nan],\n",
      "        [nan],\n",
      "        [nan],\n",
      "        [nan],\n",
      "        [nan],\n",
      "        [nan],\n",
      "        [nan],\n",
      "        [nan],\n",
      "        [nan],\n",
      "        [nan],\n",
      "        [nan],\n",
      "        [nan],\n",
      "        [nan],\n",
      "        [nan],\n",
      "        [nan],\n",
      "        [nan],\n",
      "        [nan],\n",
      "        [nan],\n",
      "        [nan],\n",
      "        [nan],\n",
      "        [nan],\n",
      "        [nan],\n",
      "        [nan],\n",
      "        [nan],\n",
      "        [nan],\n",
      "        [nan],\n",
      "        [nan],\n",
      "        [nan],\n",
      "        [nan],\n",
      "        [nan],\n",
      "        [nan],\n",
      "        [nan],\n",
      "        [nan],\n",
      "        [nan],\n",
      "        [nan],\n",
      "        [nan],\n",
      "        [nan],\n",
      "        [nan],\n",
      "        [nan],\n",
      "        [nan],\n",
      "        [nan],\n",
      "        [nan],\n",
      "        [nan],\n",
      "        [nan],\n",
      "        [nan],\n",
      "        [nan],\n",
      "        [nan],\n",
      "        [nan],\n",
      "        [nan],\n",
      "        [nan],\n",
      "        [nan],\n",
      "        [nan],\n",
      "        [nan],\n",
      "        [nan],\n",
      "        [nan],\n",
      "        [nan],\n",
      "        [nan],\n",
      "        [nan],\n",
      "        [nan],\n",
      "        [nan],\n",
      "        [nan],\n",
      "        [nan],\n",
      "        [nan],\n",
      "        [nan],\n",
      "        [nan],\n",
      "        [nan],\n",
      "        [nan],\n",
      "        [nan],\n",
      "        [nan],\n",
      "        [nan],\n",
      "        [nan],\n",
      "        [nan],\n",
      "        [nan],\n",
      "        [nan],\n",
      "        [nan],\n",
      "        [nan],\n",
      "        [nan],\n",
      "        [nan],\n",
      "        [nan],\n",
      "        [nan],\n",
      "        [nan],\n",
      "        [nan],\n",
      "        [nan],\n",
      "        [nan],\n",
      "        [nan],\n",
      "        [nan],\n",
      "        [nan],\n",
      "        [nan],\n",
      "        [nan],\n",
      "        [nan],\n",
      "        [nan],\n",
      "        [nan],\n",
      "        [nan],\n",
      "        [nan],\n",
      "        [nan],\n",
      "        [nan],\n",
      "        [nan],\n",
      "        [nan],\n",
      "        [nan],\n",
      "        [nan],\n",
      "        [nan],\n",
      "        [nan],\n",
      "        [nan],\n",
      "        [nan],\n",
      "        [nan],\n",
      "        [nan],\n",
      "        [nan],\n",
      "        [nan],\n",
      "        [nan],\n",
      "        [nan],\n",
      "        [nan],\n",
      "        [nan],\n",
      "        [nan],\n",
      "        [nan],\n",
      "        [nan],\n",
      "        [nan],\n",
      "        [nan],\n",
      "        [nan],\n",
      "        [nan],\n",
      "        [nan],\n",
      "        [nan],\n",
      "        [nan],\n",
      "        [nan],\n",
      "        [nan],\n",
      "        [nan],\n",
      "        [nan],\n",
      "        [nan],\n",
      "        [nan],\n",
      "        [nan],\n",
      "        [nan],\n",
      "        [nan],\n",
      "        [nan],\n",
      "        [nan],\n",
      "        [nan],\n",
      "        [nan],\n",
      "        [nan],\n",
      "        [nan],\n",
      "        [nan],\n",
      "        [nan],\n",
      "        [nan],\n",
      "        [nan],\n",
      "        [nan],\n",
      "        [nan],\n",
      "        [nan],\n",
      "        [nan],\n",
      "        [nan],\n",
      "        [nan],\n",
      "        [nan],\n",
      "        [nan],\n",
      "        [nan],\n",
      "        [nan],\n",
      "        [nan],\n",
      "        [nan],\n",
      "        [nan],\n",
      "        [nan],\n",
      "        [nan],\n",
      "        [nan],\n",
      "        [nan],\n",
      "        [nan],\n",
      "        [nan],\n",
      "        [nan],\n",
      "        [nan],\n",
      "        [nan],\n",
      "        [nan],\n",
      "        [nan],\n",
      "        [nan],\n",
      "        [nan],\n",
      "        [nan],\n",
      "        [nan],\n",
      "        [nan],\n",
      "        [nan],\n",
      "        [nan],\n",
      "        [nan],\n",
      "        [nan],\n",
      "        [nan],\n",
      "        [nan],\n",
      "        [nan],\n",
      "        [nan],\n",
      "        [nan],\n",
      "        [nan],\n",
      "        [nan],\n",
      "        [nan],\n",
      "        [nan],\n",
      "        [nan],\n",
      "        [nan],\n",
      "        [nan],\n",
      "        [nan],\n",
      "        [nan],\n",
      "        [nan],\n",
      "        [nan],\n",
      "        [nan],\n",
      "        [nan],\n",
      "        [nan],\n",
      "        [nan],\n",
      "        [nan],\n",
      "        [nan],\n",
      "        [nan],\n",
      "        [nan],\n",
      "        [nan],\n",
      "        [nan],\n",
      "        [nan],\n",
      "        [nan],\n",
      "        [nan],\n",
      "        [nan],\n",
      "        [nan],\n",
      "        [nan],\n",
      "        [nan],\n",
      "        [nan],\n",
      "        [nan],\n",
      "        [nan],\n",
      "        [nan],\n",
      "        [nan],\n",
      "        [nan],\n",
      "        [nan],\n",
      "        [nan],\n",
      "        [nan],\n",
      "        [nan],\n",
      "        [nan],\n",
      "        [nan],\n",
      "        [nan],\n",
      "        [nan],\n",
      "        [nan],\n",
      "        [nan],\n",
      "        [nan],\n",
      "        [nan],\n",
      "        [nan],\n",
      "        [nan],\n",
      "        [nan],\n",
      "        [nan],\n",
      "        [nan],\n",
      "        [nan],\n",
      "        [nan],\n",
      "        [nan],\n",
      "        [nan],\n",
      "        [nan],\n",
      "        [nan],\n",
      "        [nan],\n",
      "        [nan],\n",
      "        [nan],\n",
      "        [nan],\n",
      "        [nan],\n",
      "        [nan],\n",
      "        [nan],\n",
      "        [nan],\n",
      "        [nan],\n",
      "        [nan],\n",
      "        [nan],\n",
      "        [nan],\n",
      "        [nan],\n",
      "        [nan],\n",
      "        [nan],\n",
      "        [nan],\n",
      "        [nan],\n",
      "        [nan]], device='cuda:0', grad_fn=<AddBackward0>)\n",
      "tensor([[nan],\n",
      "        [nan],\n",
      "        [nan],\n",
      "        [nan],\n",
      "        [nan],\n",
      "        [nan],\n",
      "        [nan],\n",
      "        [nan],\n",
      "        [nan],\n",
      "        [nan],\n",
      "        [nan],\n",
      "        [nan],\n",
      "        [nan],\n",
      "        [nan],\n",
      "        [nan],\n",
      "        [nan],\n",
      "        [nan],\n",
      "        [nan],\n",
      "        [nan],\n",
      "        [nan],\n",
      "        [nan],\n",
      "        [nan],\n",
      "        [nan],\n",
      "        [nan],\n",
      "        [nan],\n",
      "        [nan],\n",
      "        [nan],\n",
      "        [nan],\n",
      "        [nan],\n",
      "        [nan],\n",
      "        [nan],\n",
      "        [nan],\n",
      "        [nan],\n",
      "        [nan],\n",
      "        [nan],\n",
      "        [nan],\n",
      "        [nan],\n",
      "        [nan],\n",
      "        [nan],\n",
      "        [nan],\n",
      "        [nan],\n",
      "        [nan],\n",
      "        [nan],\n",
      "        [nan],\n",
      "        [nan],\n",
      "        [nan],\n",
      "        [nan],\n",
      "        [nan],\n",
      "        [nan],\n",
      "        [nan],\n",
      "        [nan],\n",
      "        [nan],\n",
      "        [nan],\n",
      "        [nan],\n",
      "        [nan],\n",
      "        [nan],\n",
      "        [nan],\n",
      "        [nan],\n",
      "        [nan],\n",
      "        [nan],\n",
      "        [nan],\n",
      "        [nan],\n",
      "        [nan],\n",
      "        [nan],\n",
      "        [nan],\n",
      "        [nan],\n",
      "        [nan],\n",
      "        [nan],\n",
      "        [nan],\n",
      "        [nan],\n",
      "        [nan],\n",
      "        [nan],\n",
      "        [nan],\n",
      "        [nan],\n",
      "        [nan],\n",
      "        [nan],\n",
      "        [nan],\n",
      "        [nan],\n",
      "        [nan],\n",
      "        [nan],\n",
      "        [nan],\n",
      "        [nan],\n",
      "        [nan],\n",
      "        [nan],\n",
      "        [nan],\n",
      "        [nan],\n",
      "        [nan],\n",
      "        [nan],\n",
      "        [nan],\n",
      "        [nan],\n",
      "        [nan],\n",
      "        [nan],\n",
      "        [nan],\n",
      "        [nan],\n",
      "        [nan],\n",
      "        [nan],\n",
      "        [nan],\n",
      "        [nan],\n",
      "        [nan],\n",
      "        [nan],\n",
      "        [nan],\n",
      "        [nan],\n",
      "        [nan],\n",
      "        [nan],\n",
      "        [nan],\n",
      "        [nan],\n",
      "        [nan],\n",
      "        [nan],\n",
      "        [nan],\n",
      "        [nan],\n",
      "        [nan],\n",
      "        [nan],\n",
      "        [nan],\n",
      "        [nan],\n",
      "        [nan],\n",
      "        [nan],\n",
      "        [nan],\n",
      "        [nan],\n",
      "        [nan],\n",
      "        [nan],\n",
      "        [nan],\n",
      "        [nan],\n",
      "        [nan],\n",
      "        [nan],\n",
      "        [nan],\n",
      "        [nan],\n",
      "        [nan],\n",
      "        [nan],\n",
      "        [nan],\n",
      "        [nan],\n",
      "        [nan],\n",
      "        [nan],\n",
      "        [nan],\n",
      "        [nan],\n",
      "        [nan],\n",
      "        [nan],\n",
      "        [nan],\n",
      "        [nan],\n",
      "        [nan],\n",
      "        [nan],\n",
      "        [nan],\n",
      "        [nan],\n",
      "        [nan],\n",
      "        [nan],\n",
      "        [nan],\n",
      "        [nan],\n",
      "        [nan],\n",
      "        [nan],\n",
      "        [nan],\n",
      "        [nan],\n",
      "        [nan],\n",
      "        [nan],\n",
      "        [nan],\n",
      "        [nan],\n",
      "        [nan],\n",
      "        [nan],\n",
      "        [nan],\n",
      "        [nan],\n",
      "        [nan],\n",
      "        [nan],\n",
      "        [nan],\n",
      "        [nan],\n",
      "        [nan],\n",
      "        [nan],\n",
      "        [nan],\n",
      "        [nan],\n",
      "        [nan],\n",
      "        [nan],\n",
      "        [nan],\n",
      "        [nan],\n",
      "        [nan],\n",
      "        [nan],\n",
      "        [nan],\n",
      "        [nan],\n",
      "        [nan],\n",
      "        [nan],\n",
      "        [nan],\n",
      "        [nan],\n",
      "        [nan],\n",
      "        [nan],\n",
      "        [nan],\n",
      "        [nan],\n",
      "        [nan],\n",
      "        [nan],\n",
      "        [nan],\n",
      "        [nan],\n",
      "        [nan],\n",
      "        [nan],\n",
      "        [nan],\n",
      "        [nan],\n",
      "        [nan],\n",
      "        [nan],\n",
      "        [nan],\n",
      "        [nan],\n",
      "        [nan],\n",
      "        [nan],\n",
      "        [nan],\n",
      "        [nan],\n",
      "        [nan],\n",
      "        [nan],\n",
      "        [nan],\n",
      "        [nan],\n",
      "        [nan],\n",
      "        [nan],\n",
      "        [nan],\n",
      "        [nan],\n",
      "        [nan],\n",
      "        [nan],\n",
      "        [nan],\n",
      "        [nan],\n",
      "        [nan],\n",
      "        [nan],\n",
      "        [nan],\n",
      "        [nan],\n",
      "        [nan],\n",
      "        [nan],\n",
      "        [nan],\n",
      "        [nan],\n",
      "        [nan],\n",
      "        [nan],\n",
      "        [nan],\n",
      "        [nan],\n",
      "        [nan],\n",
      "        [nan],\n",
      "        [nan],\n",
      "        [nan],\n",
      "        [nan],\n",
      "        [nan],\n",
      "        [nan],\n",
      "        [nan],\n",
      "        [nan],\n",
      "        [nan],\n",
      "        [nan],\n",
      "        [nan],\n",
      "        [nan],\n",
      "        [nan],\n",
      "        [nan],\n",
      "        [nan],\n",
      "        [nan],\n",
      "        [nan],\n",
      "        [nan],\n",
      "        [nan],\n",
      "        [nan],\n",
      "        [nan],\n",
      "        [nan],\n",
      "        [nan],\n",
      "        [nan],\n",
      "        [nan],\n",
      "        [nan],\n",
      "        [nan],\n",
      "        [nan],\n",
      "        [nan],\n",
      "        [nan],\n",
      "        [nan],\n",
      "        [nan],\n",
      "        [nan]], device='cuda:0', grad_fn=<PowBackward0>)\n",
      "tensor([[0.0409],\n",
      "        [0.0409],\n",
      "        [0.0409],\n",
      "        [0.0409],\n",
      "        [0.0409],\n",
      "        [0.0409],\n",
      "        [0.0409],\n",
      "        [0.0409],\n",
      "        [0.0409],\n",
      "        [0.0409],\n",
      "        [0.0409],\n",
      "        [0.0409],\n",
      "        [0.0409],\n",
      "        [0.0409],\n",
      "        [0.0409],\n",
      "        [0.0409],\n",
      "        [0.0409],\n",
      "        [0.0409],\n",
      "        [0.0409],\n",
      "        [0.0409],\n",
      "        [0.0409],\n",
      "        [0.0409],\n",
      "        [0.0409],\n",
      "        [0.0409],\n",
      "        [0.0409],\n",
      "        [0.0409],\n",
      "        [0.0409],\n",
      "        [0.0409],\n",
      "        [0.0409],\n",
      "        [0.0409],\n",
      "        [0.0409],\n",
      "        [0.0409],\n",
      "        [0.0409],\n",
      "        [0.0409],\n",
      "        [0.0409],\n",
      "        [0.0409],\n",
      "        [0.0409],\n",
      "        [0.0409],\n",
      "        [0.0409],\n",
      "        [0.0409],\n",
      "        [0.0409],\n",
      "        [0.0409],\n",
      "        [0.0409],\n",
      "        [0.0409],\n",
      "        [0.0409],\n",
      "        [0.0409],\n",
      "        [0.0409],\n",
      "        [0.0409],\n",
      "        [0.0409],\n",
      "        [0.0409],\n",
      "        [0.0409],\n",
      "        [0.0409],\n",
      "        [0.0409],\n",
      "        [0.0409],\n",
      "        [0.0409],\n",
      "        [0.0409],\n",
      "        [0.0409],\n",
      "        [0.0409],\n",
      "        [0.0409],\n",
      "        [0.0409],\n",
      "        [0.0409],\n",
      "        [0.0409],\n",
      "        [0.0409],\n",
      "        [0.0409],\n",
      "        [0.0409],\n",
      "        [0.0409],\n",
      "        [0.0409],\n",
      "        [0.0409],\n",
      "        [0.0409],\n",
      "        [0.0409],\n",
      "        [0.0409],\n",
      "        [0.0409],\n",
      "        [0.0409],\n",
      "        [0.0409],\n",
      "        [0.0409],\n",
      "        [0.0409],\n",
      "        [0.0409],\n",
      "        [0.0409],\n",
      "        [0.0409],\n",
      "        [0.0409],\n",
      "        [0.0409],\n",
      "        [0.0409],\n",
      "        [0.0409],\n",
      "        [0.0409],\n",
      "        [0.0409],\n",
      "        [0.0409],\n",
      "        [0.0409],\n",
      "        [0.0409],\n",
      "        [0.0409],\n",
      "        [0.0409],\n",
      "        [0.0409],\n",
      "        [0.0409],\n",
      "        [0.0409],\n",
      "        [0.0409],\n",
      "        [0.0409],\n",
      "        [0.0409],\n",
      "        [0.0409],\n",
      "        [0.0409],\n",
      "        [0.0409],\n",
      "        [0.0409],\n",
      "        [0.0409],\n",
      "        [0.0409],\n",
      "        [0.0409],\n",
      "        [0.0409],\n",
      "        [0.0409],\n",
      "        [0.0409],\n",
      "        [0.0409],\n",
      "        [0.0409],\n",
      "        [0.0409],\n",
      "        [0.0409],\n",
      "        [0.0409],\n",
      "        [0.0409],\n",
      "        [0.0409],\n",
      "        [0.0409],\n",
      "        [0.0409],\n",
      "        [0.0409],\n",
      "        [0.0409],\n",
      "        [0.0409],\n",
      "        [0.0409],\n",
      "        [0.0409],\n",
      "        [0.0409],\n",
      "        [0.0409],\n",
      "        [0.0409],\n",
      "        [0.0409],\n",
      "        [0.0409],\n",
      "        [0.0409],\n",
      "        [0.0409],\n",
      "        [0.0409],\n",
      "        [0.0409],\n",
      "        [0.0409],\n",
      "        [0.0409],\n",
      "        [0.0409],\n",
      "        [0.0409],\n",
      "        [0.0409],\n",
      "        [0.0409],\n",
      "        [0.0409],\n",
      "        [0.0409],\n",
      "        [0.0409],\n",
      "        [0.0409],\n",
      "        [0.0409],\n",
      "        [0.0409],\n",
      "        [0.0409],\n",
      "        [0.0409],\n",
      "        [0.0409],\n",
      "        [0.0409],\n",
      "        [0.0409],\n",
      "        [0.0409],\n",
      "        [0.0409],\n",
      "        [0.0409],\n",
      "        [0.0409],\n",
      "        [0.0409],\n",
      "        [0.0409],\n",
      "        [0.0409],\n",
      "        [0.0409],\n",
      "        [0.0409],\n",
      "        [0.0409],\n",
      "        [0.0409],\n",
      "        [0.0409],\n",
      "        [0.0409],\n",
      "        [0.0409],\n",
      "        [0.0409],\n",
      "        [0.0409],\n",
      "        [0.0409],\n",
      "        [0.0409],\n",
      "        [0.0409],\n",
      "        [0.0409],\n",
      "        [0.0409],\n",
      "        [0.0409],\n",
      "        [0.0409],\n",
      "        [0.0409],\n",
      "        [0.0409],\n",
      "        [0.0409],\n",
      "        [0.0409],\n",
      "        [0.0409],\n",
      "        [0.0409],\n",
      "        [0.0409],\n",
      "        [0.0409],\n",
      "        [0.0409],\n",
      "        [0.0409],\n",
      "        [0.0409],\n",
      "        [0.0409],\n",
      "        [0.0409],\n",
      "        [0.0409],\n",
      "        [0.0409],\n",
      "        [0.0409],\n",
      "        [0.0409],\n",
      "        [0.0409],\n",
      "        [0.0409],\n",
      "        [0.0409],\n",
      "        [0.0409],\n",
      "        [0.0409],\n",
      "        [0.0409],\n",
      "        [0.0409],\n",
      "        [0.0409],\n",
      "        [0.0409],\n",
      "        [0.0409],\n",
      "        [0.0409],\n",
      "        [0.0409],\n",
      "        [0.0409],\n",
      "        [0.0409],\n",
      "        [0.0409],\n",
      "        [0.0409],\n",
      "        [0.0409],\n",
      "        [0.0409],\n",
      "        [0.0409],\n",
      "        [0.0409],\n",
      "        [0.0409],\n",
      "        [0.0409],\n",
      "        [0.0409],\n",
      "        [0.0409],\n",
      "        [0.0409],\n",
      "        [0.0409],\n",
      "        [0.0409],\n",
      "        [0.0409],\n",
      "        [0.0409],\n",
      "        [0.0409],\n",
      "        [0.0409],\n",
      "        [0.0409],\n",
      "        [0.0409],\n",
      "        [0.0409],\n",
      "        [0.0409],\n",
      "        [0.0409],\n",
      "        [0.0409],\n",
      "        [0.0409],\n",
      "        [0.0409],\n",
      "        [0.0409],\n",
      "        [0.0409],\n",
      "        [0.0409],\n",
      "        [0.0409],\n",
      "        [0.0409],\n",
      "        [0.0409],\n",
      "        [0.0409],\n",
      "        [0.0409],\n",
      "        [0.0409],\n",
      "        [0.0409],\n",
      "        [0.0409],\n",
      "        [0.0409],\n",
      "        [0.0409],\n",
      "        [0.0409],\n",
      "        [0.0409],\n",
      "        [0.0409],\n",
      "        [0.0409],\n",
      "        [0.0409],\n",
      "        [0.0409],\n",
      "        [0.0409],\n",
      "        [0.0409],\n",
      "        [0.0409],\n",
      "        [0.0409],\n",
      "        [0.0409],\n",
      "        [0.0409],\n",
      "        [0.0409],\n",
      "        [0.0409],\n",
      "        [0.0409],\n",
      "        [0.0409],\n",
      "        [0.0409],\n",
      "        [0.0409]], device='cuda:0', grad_fn=<AbsBackward>)\n",
      "tensor([[20.3829],\n",
      "        [20.3829],\n",
      "        [20.3829],\n",
      "        [20.3829],\n",
      "        [20.3829],\n",
      "        [20.3829],\n",
      "        [20.3829],\n",
      "        [20.3829],\n",
      "        [20.3829],\n",
      "        [20.3829],\n",
      "        [20.3829],\n",
      "        [20.3829],\n",
      "        [20.3829],\n",
      "        [20.3829],\n",
      "        [20.3829],\n",
      "        [20.3829],\n",
      "        [20.3829],\n",
      "        [20.3829],\n",
      "        [20.3829],\n",
      "        [20.3829],\n",
      "        [20.3829],\n",
      "        [20.3829],\n",
      "        [20.3829],\n",
      "        [20.3829],\n",
      "        [20.3829],\n",
      "        [20.3829],\n",
      "        [20.3829],\n",
      "        [20.3829],\n",
      "        [20.3829],\n",
      "        [20.3829],\n",
      "        [20.3829],\n",
      "        [20.3829],\n",
      "        [20.3829],\n",
      "        [20.3829],\n",
      "        [20.3829],\n",
      "        [20.3829],\n",
      "        [20.3829],\n",
      "        [20.3829],\n",
      "        [20.3829],\n",
      "        [20.3829],\n",
      "        [20.3829],\n",
      "        [20.3829],\n",
      "        [20.3829],\n",
      "        [20.3829],\n",
      "        [20.3829],\n",
      "        [20.3829],\n",
      "        [20.3829],\n",
      "        [20.3829],\n",
      "        [20.3829],\n",
      "        [20.3829],\n",
      "        [20.3829],\n",
      "        [20.3829],\n",
      "        [20.3829],\n",
      "        [20.3829],\n",
      "        [20.3829],\n",
      "        [20.3829],\n",
      "        [20.3829],\n",
      "        [20.3829],\n",
      "        [20.3829],\n",
      "        [20.3829],\n",
      "        [20.3829],\n",
      "        [20.3829],\n",
      "        [20.3829],\n",
      "        [20.3829],\n",
      "        [20.3829],\n",
      "        [20.3829],\n",
      "        [20.3829],\n",
      "        [20.3829],\n",
      "        [20.3829],\n",
      "        [20.3829],\n",
      "        [20.3829],\n",
      "        [20.3829],\n",
      "        [20.3829],\n",
      "        [20.3829],\n",
      "        [20.3829],\n",
      "        [20.3829],\n",
      "        [20.3829],\n",
      "        [20.3829],\n",
      "        [20.3829],\n",
      "        [20.3829],\n",
      "        [20.3829],\n",
      "        [20.3829],\n",
      "        [20.3829],\n",
      "        [20.3829],\n",
      "        [20.3829],\n",
      "        [20.3829],\n",
      "        [20.3829],\n",
      "        [20.3829],\n",
      "        [20.3829],\n",
      "        [20.3829],\n",
      "        [20.3829],\n",
      "        [20.3829],\n",
      "        [20.3829],\n",
      "        [20.3829],\n",
      "        [20.3829],\n",
      "        [20.3829],\n",
      "        [20.3829],\n",
      "        [20.3829],\n",
      "        [20.3829],\n",
      "        [20.3829],\n",
      "        [20.3829],\n",
      "        [20.3829],\n",
      "        [20.3829],\n",
      "        [20.3829],\n",
      "        [20.3829],\n",
      "        [20.3829],\n",
      "        [20.3829],\n",
      "        [20.3829],\n",
      "        [20.3829],\n",
      "        [20.3829],\n",
      "        [20.3829],\n",
      "        [20.3829],\n",
      "        [20.3829],\n",
      "        [20.3829],\n",
      "        [20.3829],\n",
      "        [20.3829],\n",
      "        [20.3829],\n",
      "        [20.3829],\n",
      "        [20.3829],\n",
      "        [20.3829],\n",
      "        [20.3829],\n",
      "        [20.3829],\n",
      "        [20.3829],\n",
      "        [20.3829],\n",
      "        [20.3829],\n",
      "        [20.3829],\n",
      "        [20.3829],\n",
      "        [20.3829],\n",
      "        [20.3829],\n",
      "        [20.3829],\n",
      "        [20.3829],\n",
      "        [20.3829],\n",
      "        [20.3829],\n",
      "        [20.3829],\n",
      "        [20.3829],\n",
      "        [20.3829],\n",
      "        [20.3829],\n",
      "        [20.3829],\n",
      "        [20.3829],\n",
      "        [20.3829],\n",
      "        [20.3829],\n",
      "        [20.3829],\n",
      "        [20.3829],\n",
      "        [20.3829],\n",
      "        [20.3829],\n",
      "        [20.3829],\n",
      "        [20.3829],\n",
      "        [20.3829],\n",
      "        [20.3829],\n",
      "        [20.3829],\n",
      "        [20.3829],\n",
      "        [20.3829],\n",
      "        [20.3829],\n",
      "        [20.3829],\n",
      "        [20.3829],\n",
      "        [20.3829],\n",
      "        [20.3829],\n",
      "        [20.3829],\n",
      "        [20.3829],\n",
      "        [20.3829],\n",
      "        [20.3829],\n",
      "        [20.3829],\n",
      "        [20.3829],\n",
      "        [20.3829],\n",
      "        [20.3829],\n",
      "        [20.3829],\n",
      "        [20.3829],\n",
      "        [20.3829],\n",
      "        [20.3829],\n",
      "        [20.3829],\n",
      "        [20.3829],\n",
      "        [20.3829],\n",
      "        [20.3829],\n",
      "        [20.3829],\n",
      "        [20.3829],\n",
      "        [20.3829],\n",
      "        [20.3829],\n",
      "        [20.3829],\n",
      "        [20.3829],\n",
      "        [20.3829],\n",
      "        [20.3829],\n",
      "        [20.3829],\n",
      "        [20.3829],\n",
      "        [20.3829],\n",
      "        [20.3829],\n",
      "        [20.3829],\n",
      "        [20.3829],\n",
      "        [20.3829],\n",
      "        [20.3829],\n",
      "        [20.3829],\n",
      "        [20.3829],\n",
      "        [20.3829],\n",
      "        [20.3829],\n",
      "        [20.3829],\n",
      "        [20.3829],\n",
      "        [20.3829],\n",
      "        [20.3829],\n",
      "        [20.3829],\n",
      "        [20.3829],\n",
      "        [20.3829],\n",
      "        [20.3829],\n",
      "        [20.3829],\n",
      "        [20.3829],\n",
      "        [20.3829],\n",
      "        [20.3829],\n",
      "        [20.3829],\n",
      "        [20.3829],\n",
      "        [20.3829],\n",
      "        [20.3829],\n",
      "        [20.3829],\n",
      "        [20.3829],\n",
      "        [20.3829],\n",
      "        [20.3829],\n",
      "        [20.3829],\n",
      "        [20.3829],\n",
      "        [20.3829],\n",
      "        [20.3829],\n",
      "        [20.3829],\n",
      "        [20.3829],\n",
      "        [20.3829],\n",
      "        [20.3829],\n",
      "        [20.3829],\n",
      "        [20.3829],\n",
      "        [20.3829],\n",
      "        [20.3829],\n",
      "        [20.3829],\n",
      "        [20.3829],\n",
      "        [20.3829],\n",
      "        [20.3829],\n",
      "        [20.3829],\n",
      "        [20.3829],\n",
      "        [20.3829],\n",
      "        [20.3829],\n",
      "        [20.3829],\n",
      "        [20.3829],\n",
      "        [20.3829],\n",
      "        [20.3829],\n",
      "        [20.3829],\n",
      "        [20.3829],\n",
      "        [20.3829],\n",
      "        [20.3829],\n",
      "        [20.3829],\n",
      "        [20.3829],\n",
      "        [20.3829],\n",
      "        [20.3829],\n",
      "        [20.3829],\n",
      "        [20.3829],\n",
      "        [20.3829],\n",
      "        [20.3829],\n",
      "        [20.3829],\n",
      "        [20.3829],\n",
      "        [20.3829],\n",
      "        [20.3829],\n",
      "        [20.3829],\n",
      "        [20.3829],\n",
      "        [20.3829]], device='cuda:0', grad_fn=<AbsBackward>)\n",
      "tensor(nan, device='cuda:0', grad_fn=<NegBackward>)\n"
     ]
    }
   ],
   "source": [
    "alpha_q,beta_q,alpha_test,beta_test = model4(Y_test)\n",
    "print(alpha_q)\n",
    "print(beta_q)\n",
    "print(alpha_test)\n",
    "print(beta_test)\n",
    "SE_invG_rep2 = -torch.mean(alpha_q*torch.log(beta_q)-torch.lgamma(alpha_q)-(alpha_q+1)*torch.log(X_test)-beta_q/X_test)\n",
    "print(SE_invG_rep2)"
   ]
  },
  {
   "cell_type": "code",
   "execution_count": 90,
   "id": "978f79f2",
   "metadata": {},
   "outputs": [
    {
     "name": "stdout",
     "output_type": "stream",
     "text": [
      "<class 'float'>\n"
     ]
    },
    {
     "data": {
      "text/plain": [
       "tensor([0.0295])"
      ]
     },
     "execution_count": 90,
     "metadata": {},
     "output_type": "execute_result"
    }
   ],
   "source": [
    "import mpmath\n",
    "\n",
    "s=2\n",
    "x=0.5\n",
    "\n",
    "#t = torch.tensor([[1], [2],[3],[4]])\n",
    "t = torch.tensor([1,2,3,4])\n",
    "#t = mpmath.mpf(t.detach().numpy())\n",
    "\n",
    "u=mpmath.meijerg([[], [0,0]], [[-s-1, -1,-1], []], t[0].tolist())\n",
    "x=float(u)\n",
    "print(type(x))\n",
    "torch.Tensor([x])"
   ]
  },
  {
   "cell_type": "markdown",
   "id": "b4583a07",
   "metadata": {},
   "source": [
    "# Tensorflow VAE"
   ]
  },
  {
   "cell_type": "markdown",
   "id": "be8c4f19",
   "metadata": {},
   "source": [
    "### Import packages"
   ]
  },
  {
   "cell_type": "code",
   "execution_count": 8,
   "id": "141959b2",
   "metadata": {},
   "outputs": [
    {
     "name": "stdout",
     "output_type": "stream",
     "text": [
      "Requirement already satisfied: tensorflow in /anaconda/lib/python3.8/site-packages (2.9.2)\n",
      "Requirement already satisfied: h5py>=2.9.0 in /anaconda/lib/python3.8/site-packages (from tensorflow) (3.7.0)\n",
      "Requirement already satisfied: libclang>=13.0.0 in /anaconda/lib/python3.8/site-packages (from tensorflow) (14.0.6)\n",
      "Requirement already satisfied: keras<2.10.0,>=2.9.0rc0 in /anaconda/lib/python3.8/site-packages (from tensorflow) (2.9.0)\n",
      "Requirement already satisfied: typing-extensions>=3.6.6 in /anaconda/lib/python3.8/site-packages (from tensorflow) (4.3.0)\n",
      "Requirement already satisfied: wrapt>=1.11.0 in /anaconda/lib/python3.8/site-packages (from tensorflow) (1.14.1)\n",
      "Requirement already satisfied: keras-preprocessing>=1.1.1 in /anaconda/lib/python3.8/site-packages (from tensorflow) (1.1.2)\n",
      "Requirement already satisfied: astunparse>=1.6.0 in /anaconda/lib/python3.8/site-packages (from tensorflow) (1.6.3)\n",
      "Requirement already satisfied: tensorboard<2.10,>=2.9 in /anaconda/lib/python3.8/site-packages (from tensorflow) (2.9.1)\n",
      "Requirement already satisfied: opt-einsum>=2.3.2 in /anaconda/lib/python3.8/site-packages (from tensorflow) (3.3.0)\n",
      "Requirement already satisfied: protobuf<3.20,>=3.9.2 in /anaconda/lib/python3.8/site-packages (from tensorflow) (3.19.4)\n",
      "Requirement already satisfied: packaging in /anaconda/lib/python3.8/site-packages (from tensorflow) (20.9)\n",
      "Requirement already satisfied: gast<=0.4.0,>=0.2.1 in /anaconda/lib/python3.8/site-packages (from tensorflow) (0.4.0)\n",
      "Requirement already satisfied: tensorflow-io-gcs-filesystem>=0.23.1 in /anaconda/lib/python3.8/site-packages (from tensorflow) (0.26.0)\n",
      "Requirement already satisfied: google-pasta>=0.1.1 in /anaconda/lib/python3.8/site-packages (from tensorflow) (0.2.0)\n",
      "Requirement already satisfied: flatbuffers<2,>=1.12 in /anaconda/lib/python3.8/site-packages (from tensorflow) (1.12)\n",
      "Requirement already satisfied: absl-py>=1.0.0 in /anaconda/lib/python3.8/site-packages (from tensorflow) (1.2.0)\n",
      "Requirement already satisfied: setuptools in /anaconda/lib/python3.8/site-packages (from tensorflow) (52.0.0.post20210125)\n",
      "Requirement already satisfied: termcolor>=1.1.0 in /anaconda/lib/python3.8/site-packages (from tensorflow) (1.1.0)\n",
      "Requirement already satisfied: numpy>=1.20 in /anaconda/lib/python3.8/site-packages (from tensorflow) (1.20.2)\n",
      "Requirement already satisfied: six>=1.12.0 in /anaconda/lib/python3.8/site-packages (from tensorflow) (1.15.0)\n",
      "Requirement already satisfied: grpcio<2.0,>=1.24.3 in /anaconda/lib/python3.8/site-packages (from tensorflow) (1.48.1)\n",
      "Requirement already satisfied: tensorflow-estimator<2.10.0,>=2.9.0rc0 in /anaconda/lib/python3.8/site-packages (from tensorflow) (2.9.0)\n",
      "Requirement already satisfied: wheel<1.0,>=0.23.0 in /anaconda/lib/python3.8/site-packages (from astunparse>=1.6.0->tensorflow) (0.35.1)\n",
      "Requirement already satisfied: requests<3,>=2.21.0 in /anaconda/lib/python3.8/site-packages (from tensorboard<2.10,>=2.9->tensorflow) (2.25.1)\n",
      "Requirement already satisfied: google-auth<3,>=1.6.3 in /anaconda/lib/python3.8/site-packages (from tensorboard<2.10,>=2.9->tensorflow) (2.11.0)\n",
      "Requirement already satisfied: werkzeug>=1.0.1 in /anaconda/lib/python3.8/site-packages (from tensorboard<2.10,>=2.9->tensorflow) (2.2.2)\n",
      "Requirement already satisfied: tensorboard-plugin-wit>=1.6.0 in /anaconda/lib/python3.8/site-packages (from tensorboard<2.10,>=2.9->tensorflow) (1.8.1)\n",
      "Requirement already satisfied: google-auth-oauthlib<0.5,>=0.4.1 in /anaconda/lib/python3.8/site-packages (from tensorboard<2.10,>=2.9->tensorflow) (0.4.6)\n",
      "Requirement already satisfied: markdown>=2.6.8 in /anaconda/lib/python3.8/site-packages (from tensorboard<2.10,>=2.9->tensorflow) (3.4.1)\n",
      "Requirement already satisfied: tensorboard-data-server<0.7.0,>=0.6.0 in /anaconda/lib/python3.8/site-packages (from tensorboard<2.10,>=2.9->tensorflow) (0.6.1)\n",
      "Requirement already satisfied: pyparsing>=2.0.2 in /anaconda/lib/python3.8/site-packages (from packaging->tensorflow) (2.4.7)\n",
      "Requirement already satisfied: idna<3,>=2.5 in /anaconda/lib/python3.8/site-packages (from requests<3,>=2.21.0->tensorboard<2.10,>=2.9->tensorflow) (2.10)\n",
      "Requirement already satisfied: certifi>=2017.4.17 in /anaconda/lib/python3.8/site-packages (from requests<3,>=2.21.0->tensorboard<2.10,>=2.9->tensorflow) (2021.5.30)\n",
      "Requirement already satisfied: chardet<5,>=3.0.2 in /anaconda/lib/python3.8/site-packages (from requests<3,>=2.21.0->tensorboard<2.10,>=2.9->tensorflow) (4.0.0)\n",
      "Requirement already satisfied: urllib3<1.27,>=1.21.1 in /anaconda/lib/python3.8/site-packages (from requests<3,>=2.21.0->tensorboard<2.10,>=2.9->tensorflow) (1.26.4)\n",
      "Requirement already satisfied: pyasn1-modules>=0.2.1 in /anaconda/lib/python3.8/site-packages (from google-auth<3,>=1.6.3->tensorboard<2.10,>=2.9->tensorflow) (0.2.8)\n",
      "Requirement already satisfied: rsa<5,>=3.1.4; python_version >= \"3.6\" in /anaconda/lib/python3.8/site-packages (from google-auth<3,>=1.6.3->tensorboard<2.10,>=2.9->tensorflow) (4.9)\n",
      "Requirement already satisfied: cachetools<6.0,>=2.0.0 in /anaconda/lib/python3.8/site-packages (from google-auth<3,>=1.6.3->tensorboard<2.10,>=2.9->tensorflow) (5.2.0)\n",
      "Requirement already satisfied: MarkupSafe>=2.1.1 in /anaconda/lib/python3.8/site-packages (from werkzeug>=1.0.1->tensorboard<2.10,>=2.9->tensorflow) (2.1.1)\n",
      "Requirement already satisfied: requests-oauthlib>=0.7.0 in /anaconda/lib/python3.8/site-packages (from google-auth-oauthlib<0.5,>=0.4.1->tensorboard<2.10,>=2.9->tensorflow) (1.3.0)\n",
      "Requirement already satisfied: importlib-metadata>=4.4; python_version < \"3.10\" in /anaconda/lib/python3.8/site-packages (from markdown>=2.6.8->tensorboard<2.10,>=2.9->tensorflow) (4.12.0)\n",
      "Requirement already satisfied: pyasn1<0.5.0,>=0.4.6 in /anaconda/lib/python3.8/site-packages (from pyasn1-modules>=0.2.1->google-auth<3,>=1.6.3->tensorboard<2.10,>=2.9->tensorflow) (0.4.8)\n",
      "Requirement already satisfied: oauthlib>=3.0.0 in /anaconda/lib/python3.8/site-packages (from requests-oauthlib>=0.7.0->google-auth-oauthlib<0.5,>=0.4.1->tensorboard<2.10,>=2.9->tensorflow) (3.1.0)\n",
      "Requirement already satisfied: zipp>=0.5 in /anaconda/lib/python3.8/site-packages (from importlib-metadata>=4.4; python_version < \"3.10\"->markdown>=2.6.8->tensorboard<2.10,>=2.9->tensorflow) (3.4.1)\n"
     ]
    }
   ],
   "source": [
    "!pip install tensorflow"
   ]
  },
  {
   "cell_type": "code",
   "execution_count": 12,
   "id": "55eeca81",
   "metadata": {},
   "outputs": [
    {
     "name": "stdout",
     "output_type": "stream",
     "text": [
      "Could not find conda environment: tensorflow\r\n",
      "You can list all discoverable environments with `conda info --envs`.\r\n",
      "\r\n"
     ]
    },
    {
     "ename": "ModuleNotFoundError",
     "evalue": "No module named 'tensorflow'",
     "output_type": "error",
     "traceback": [
      "\u001b[0;31m---------------------------------------------------------------------------\u001b[0m",
      "\u001b[0;31mModuleNotFoundError\u001b[0m                       Traceback (most recent call last)",
      "\u001b[0;32m<ipython-input-12-c61d7d70b473>\u001b[0m in \u001b[0;36m<module>\u001b[0;34m\u001b[0m\n\u001b[1;32m      1\u001b[0m \u001b[0mget_ipython\u001b[0m\u001b[0;34m(\u001b[0m\u001b[0;34m)\u001b[0m\u001b[0;34m.\u001b[0m\u001b[0msystem\u001b[0m\u001b[0;34m(\u001b[0m\u001b[0;34m'activate tensorflow'\u001b[0m\u001b[0;34m)\u001b[0m\u001b[0;34m\u001b[0m\u001b[0;34m\u001b[0m\u001b[0m\n\u001b[0;32m----> 2\u001b[0;31m \u001b[0;32mimport\u001b[0m \u001b[0mtensorflow\u001b[0m \u001b[0;32mas\u001b[0m \u001b[0mtf\u001b[0m\u001b[0;34m\u001b[0m\u001b[0;34m\u001b[0m\u001b[0m\n\u001b[0m\u001b[1;32m      3\u001b[0m \u001b[0;31m#import tensorflow_probability as tfp\u001b[0m\u001b[0;34m\u001b[0m\u001b[0;34m\u001b[0m\u001b[0;34m\u001b[0m\u001b[0m\n",
      "\u001b[0;31mModuleNotFoundError\u001b[0m: No module named 'tensorflow'"
     ]
    }
   ],
   "source": [
    "!activate tensorflow\n",
    "import tensorflow as tf\n",
    "#import tensorflow_probability as tfp"
   ]
  },
  {
   "cell_type": "code",
   "execution_count": 14,
   "id": "ee1e7b67",
   "metadata": {},
   "outputs": [
    {
     "name": "stdout",
     "output_type": "stream",
     "text": [
      "/anaconda/bin/activate: 5: /anaconda/envs/py38_tensorflow/etc/conda/activate.d/activate-binutils_linux-64.sh: Syntax error: \"(\" unexpected\r\n"
     ]
    }
   ],
   "source": []
  },
  {
   "cell_type": "code",
   "execution_count": 15,
   "id": "87a7d6f1",
   "metadata": {},
   "outputs": [
    {
     "ename": "ModuleNotFoundError",
     "evalue": "No module named 'tensorflow'",
     "output_type": "error",
     "traceback": [
      "\u001b[0;31m---------------------------------------------------------------------------\u001b[0m",
      "\u001b[0;31mModuleNotFoundError\u001b[0m                       Traceback (most recent call last)",
      "\u001b[0;32m<ipython-input-15-64156d691fe5>\u001b[0m in \u001b[0;36m<module>\u001b[0;34m\u001b[0m\n\u001b[0;32m----> 1\u001b[0;31m \u001b[0;32mimport\u001b[0m \u001b[0mtensorflow\u001b[0m \u001b[0;32mas\u001b[0m \u001b[0mtf\u001b[0m\u001b[0;34m\u001b[0m\u001b[0;34m\u001b[0m\u001b[0m\n\u001b[0m",
      "\u001b[0;31mModuleNotFoundError\u001b[0m: No module named 'tensorflow'"
     ]
    }
   ],
   "source": []
  },
  {
   "cell_type": "code",
   "execution_count": null,
   "id": "c2bc1936",
   "metadata": {},
   "outputs": [],
   "source": []
  }
 ],
 "metadata": {
  "kernelspec": {
   "display_name": "4dvarnet",
   "language": "python",
   "name": "4dvarnet"
  },
  "language_info": {
   "codemirror_mode": {
    "name": "ipython",
    "version": 3
   },
   "file_extension": ".py",
   "mimetype": "text/x-python",
   "name": "python",
   "nbconvert_exporter": "python",
   "pygments_lexer": "ipython3",
   "version": "3.9.5"
  }
 },
 "nbformat": 4,
 "nbformat_minor": 5
}
